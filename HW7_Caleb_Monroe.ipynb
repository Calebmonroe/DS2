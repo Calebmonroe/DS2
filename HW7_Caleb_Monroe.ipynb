{
  "nbformat": 4,
  "nbformat_minor": 0,
  "metadata": {
    "colab": {
      "provenance": [],
      "collapsed_sections": [
        "47jpgIMo8Et9",
        "vA7IUFftxUlt",
        "LtxUFWkQggZV",
        "GhqKmf37tmzW",
        "Htp53qJOvQpL",
        "56ASmpLfiU_P"
      ],
      "include_colab_link": true
    },
    "kernelspec": {
      "name": "python3",
      "display_name": "Python 3"
    },
    "language_info": {
      "name": "python"
    }
  },
  "cells": [
    {
      "cell_type": "markdown",
      "metadata": {
        "id": "view-in-github",
        "colab_type": "text"
      },
      "source": [
        "<a href=\"https://colab.research.google.com/github/Calebmonroe/DS2/blob/main/HW7_Caleb_Monroe.ipynb\" target=\"_parent\"><img src=\"https://colab.research.google.com/assets/colab-badge.svg\" alt=\"Open In Colab\"/></a>"
      ]
    },
    {
      "cell_type": "markdown",
      "source": [
        "# Homework #7 - Synthesis of Decision Trees, Support Vector Machines, and Stochastic Gradient Descent classifiers\n"
      ],
      "metadata": {
        "id": "-gr3FIP08Fh2"
      }
    },
    {
      "cell_type": "markdown",
      "source": [
        "Package Imports"
      ],
      "metadata": {
        "id": "5FrDh-6UIBhc"
      }
    },
    {
      "cell_type": "markdown",
      "source": [
        "#Imports"
      ],
      "metadata": {
        "id": "47jpgIMo8Et9"
      }
    },
    {
      "cell_type": "code",
      "execution_count": 183,
      "metadata": {
        "id": "bJfTov1dodF1"
      },
      "outputs": [],
      "source": [
        "import numpy as np\n",
        "import pandas as pd\n",
        "import matplotlib.pyplot as plt\n",
        "from matplotlib.colors import LogNorm\n",
        "import sklearn.metrics as metrics\n",
        "import seaborn as sns\n",
        "import cv2\n",
        "sns.axes_style(\"whitegrid\")\n",
        "sns.set_context(\"paper\")\n",
        "from keras.datasets import mnist\n",
        "from sklearn import utils\n",
        "from sklearn import preprocessing\n",
        "from sklearn.preprocessing import PolynomialFeatures\n",
        "from sklearn.preprocessing import LabelEncoder\n",
        "from sklearn.preprocessing import add_dummy_feature\n",
        "from sklearn.preprocessing import StandardScaler\n",
        "from sklearn.linear_model import SGDRegressor\n",
        "from sklearn.linear_model import SGDClassifier\n",
        "from sklearn.linear_model import LinearRegression\n",
        "from sklearn.linear_model import Ridge\n",
        "from sklearn.linear_model import Lasso\n",
        "from sklearn.linear_model import LogisticRegression\n",
        "from sklearn.model_selection import train_test_split\n",
        "from sklearn.model_selection import cross_val_score\n",
        "from sklearn.pipeline import make_pipeline\n",
        "\n",
        "from sklearn.metrics import confusion_matrix\n",
        "from sklearn.metrics import ConfusionMatrixDisplay\n",
        "from sklearn.metrics import mean_squared_error\n",
        "from sklearn.metrics import f1_score\n",
        "from sklearn.metrics import precision_score, recall_score\n",
        "from sklearn.metrics import precision_recall_fscore_support\n",
        "from sklearn.decomposition import PCA\n",
        "from sklearn.manifold import TSNE\n",
        "\n",
        "from sklearn.svm import LinearSVC\n",
        "from sklearn.svm import SVC\n",
        "\n",
        "from sklearn.tree import DecisionTreeClassifier\n",
        "from sklearn.tree import export_graphviz\n",
        "from sklearn.datasets import make_moons\n",
        "\n"
      ]
    },
    {
      "cell_type": "markdown",
      "source": [
        "#Function Definitions"
      ],
      "metadata": {
        "id": "vA7IUFftxUlt"
      }
    },
    {
      "cell_type": "code",
      "source": [
        "def class_performance(xdata,ydata,model):\n",
        "\n",
        "# Classifiers with the score method output accuracy by default\n",
        "  acc = model.score(xdata,ydata)\n",
        "  predy = model.predict(xdata)\n",
        "  prec, rec, fscore, supp = precision_recall_fscore_support(ydata, predy, average=None, zero_division=0)\n",
        "  print(\"\\nmodel accuracy on supplied data:\\t\", acc.round(3))\n",
        "  print(\"Precision:\\t\", prec.round(3), \"\\nRecall:\\t\\t\", rec.round(3), \"\\nFscore:\\t\\t\", fscore.round(3), \"\\nSupport:\\t\", supp)"
      ],
      "metadata": {
        "id": "A0mmqaZrMpzT"
      },
      "execution_count": 184,
      "outputs": []
    },
    {
      "cell_type": "code",
      "source": [
        "# this cell is intended to map the species type to an integer (1,2,3)\n",
        "# for the color map\n",
        "\n",
        "def tokenize_species(s_data):\n",
        "\n",
        "  seto = s_data['species']==\"Iris-setosa\"; pseto = np.array(seto)\n",
        "  vers = s_data['species']==\"Iris-versicolor\"; pver = np.array(vers)\n",
        "  vir = s_data['species']==\"Iris-virginica\"; pvir = np.array(vir)\n",
        "\n",
        "#  print(len(seto))\n",
        "  s_data_coded=np.zeros(len(seto))\n",
        "  for i in range(len(seto)):\n",
        "    if (pseto[i]==1):\n",
        "      s_data_coded[i]=1\n",
        "\n",
        "  for i in range(len(vers)):\n",
        "    if (pver[i]==1):\n",
        "      s_data_coded[i]=2\n",
        "\n",
        "  for i in range(len(vir)):\n",
        "    if (pvir[i]==1):\n",
        "      s_data_coded[i]=3\n",
        "  return s_data_coded"
      ],
      "metadata": {
        "id": "DdcaQSl3xSYK"
      },
      "execution_count": 185,
      "outputs": []
    },
    {
      "cell_type": "code",
      "source": [
        "def regression_results(y_true, y_pred):\n",
        "\n",
        "    # Regression metrics\n",
        "    explained_variance=metrics.explained_variance_score(y_true, y_pred)\n",
        "    mean_absolute_error=metrics.mean_absolute_error(y_true, y_pred)\n",
        "    mse=metrics.mean_squared_error(y_true, y_pred)\n",
        "#    mean_squared_log_error=metrics.mean_squared_log_error(y_true, y_pred)\n",
        "    median_absolute_error=metrics.median_absolute_error(y_true, y_pred)\n",
        "    r2=metrics.r2_score(y_true, y_pred)\n",
        "\n",
        "    print('explained_variance: ', round(explained_variance,4))\n",
        "    print('mean_absolute_error: ', round(mean_absolute_error,4))\n",
        "#    print('mean_squared_log_error: ', round(mean_squared_log_error,4))\n",
        "    print('r2: ', round(r2,4))\n",
        "    print('MAE: ', round(mean_absolute_error,4))\n",
        "    print('MSE: ', round(mse,4))\n",
        "    print('RMSE: ', round(np.sqrt(mse),4))\n"
      ],
      "metadata": {
        "id": "rRbD65RpPeQK"
      },
      "execution_count": 186,
      "outputs": []
    },
    {
      "cell_type": "code",
      "source": [
        "def model_acc_t(res):\n",
        "\n",
        "    m1 = res['pred']; m2 = res['actual']\n",
        "    sum12 = sum(m1==m2)\n",
        "    pct=sum12/len(res)*100\n",
        "\n",
        "    print(\"Your model made \", pct, \"percent correct predictions\\n\")\n",
        "    return\n",
        "#X_train[0]"
      ],
      "metadata": {
        "id": "HcA3IU4CLL85"
      },
      "execution_count": 187,
      "outputs": []
    },
    {
      "cell_type": "code",
      "source": [
        "#model_acc2(res_df,type) # 0 for setosa, 1 for versi, 2 for virg\n",
        "\n",
        "# need condition for each type\n",
        "def model_acc2(res,type):\n",
        "\n",
        "    if (type==0):\n",
        "      m1 = res['pred']>=0.5\n",
        "      m2 = res['actual']==1\n",
        "    elif (type==1):\n",
        "      m1 = res['pred']>=0.5\n",
        "      m2 = res['actual']==1\n",
        "    elif (type==2):\n",
        "      m1 = res['pred']>=0.5\n",
        "      m2 = res['actual']==1\n",
        "\n",
        "\n",
        "#    m1 = res['pred']>=0.5\n",
        "#    m2 = res['actual']==1\n",
        "    sum12=sum(m1==m2)\n",
        "    pct=sum12/len(res)*100\n",
        "    print(\"Your model made \", pct, \"percent correct predictions\\n\")\n",
        "    return"
      ],
      "metadata": {
        "id": "9xuwD13R8pP2"
      },
      "execution_count": 188,
      "outputs": []
    },
    {
      "cell_type": "code",
      "source": [
        "def model_parm_std_err(xdata, ydata, model): # assumes xtest and ytest are not dfs\n",
        "# this function was written for univariate regression,\n",
        "# not yet tested for multivariate\n",
        "\n",
        "# if you just want to check whether this algorithm works, use statsmodels\n",
        "\n",
        "# using this with scaled data (both x and y) gives the same slope\n",
        "# but a different intercept\n",
        "\n",
        "    df_xt = pd.DataFrame(xdata)\n",
        "    df_yt = pd.DataFrame(ydata)\n",
        "\n",
        "    modelf = model\n",
        "\n",
        "    N = len(df_xt)\n",
        "    p = len(df_xt.columns) + 1  # plus one because LinearRegression adds an intercept term\n",
        "\n",
        "    X_with_intercept = np.empty(shape=(N, p), dtype=float)\n",
        "    X_with_intercept[:, 0] = 1\n",
        "    X_with_intercept[:, 1:p] = xdata\n",
        "\n",
        "\n",
        "    beta_hat = np.linalg.inv(X_with_intercept.T @ X_with_intercept) @ X_with_intercept.T @ ydata\n",
        "\n",
        "    #print(beta_hat)\n",
        "\n",
        "    modelf.fit(xdata,ydata)\n",
        "\n",
        "    slope = modelf.coef_[0][0]\n",
        "    intercept = modelf.intercept_[0]\n",
        "\n",
        "    y_hat = modelf.predict(df_xt)\n",
        "    residuals = ydata - y_hat\n",
        "\n",
        "    residual_sum_of_squares = residuals.T @ residuals\n",
        "    sigma_squared_hat = residual_sum_of_squares[0, 0] / (N - p)\n",
        "    var_beta_hat = np.linalg.inv(X_with_intercept.T @ X_with_intercept) * sigma_squared_hat\n",
        "\n",
        "\n",
        "# var_beta hat output errors on intercept first, then slope1, slope2, etc.\n",
        "    for p_ in range(p):\n",
        "      standard_error = var_beta_hat[p_, p_] ** 0.5\n",
        "#      print(var_beta_hat.shape)\n",
        "#      print(f\"SE(beta_hat[{p_}]): {standard_error}\")\n",
        "\n",
        "    print (\"slope:\\t\", slope, \"+/-\", var_beta_hat[1,1]**0.5, \"\\nintercept:\\t\", intercept, \"+/-\", var_beta_hat[0,0]**0.5)\n"
      ],
      "metadata": {
        "id": "Eprc7dlvSLKS"
      },
      "execution_count": 189,
      "outputs": []
    },
    {
      "cell_type": "code",
      "source": [
        "def lasso_model_parm_std_err(xdata, ydata, model): # assumes xtest and ytest are not dfs\n",
        "# this function was written for univariate regression for the lasso model which\n",
        "# is formatted differently\n",
        "\n",
        "# if you just want to check whether this algorithm works, use statsmodels\n",
        "\n",
        "# using this with scaled data (both x and y) gives the same slope\n",
        "# but a different intercept\n",
        "\n",
        "    df_xt = pd.DataFrame(xdata)\n",
        "    df_yt = pd.DataFrame(ydata)\n",
        "\n",
        "    modelf = model\n",
        "\n",
        "    N = len(df_xt)\n",
        "    p = len(df_xt.columns) + 1  # plus one because LinearRegression adds an intercept term\n",
        "\n",
        "    X_with_intercept = np.empty(shape=(N, p), dtype=float)\n",
        "    X_with_intercept[:, 0] = 1\n",
        "    X_with_intercept[:, 1:p] = xdata\n",
        "\n",
        "\n",
        "    beta_hat = np.linalg.inv(X_with_intercept.T @ X_with_intercept) @ X_with_intercept.T @ ydata\n",
        "\n",
        "    #print(beta_hat)\n",
        "\n",
        "    modelf.fit(xdata,ydata)\n",
        "\n",
        "# format for lasso\n",
        "    slope = modelf.coef_[0]\n",
        "    intercept = modelf.intercept_[0]\n",
        "\n",
        "\n",
        "    y_hat = modelf.predict(df_xt)\n",
        "    residuals = ydata - y_hat\n",
        "\n",
        "    residual_sum_of_squares = residuals.T @ residuals\n",
        "    sigma_squared_hat = residual_sum_of_squares[0, 0] / (N - p)\n",
        "    var_beta_hat = np.linalg.inv(X_with_intercept.T @ X_with_intercept) * sigma_squared_hat\n",
        "\n",
        "\n",
        "# var_beta hat output errors on intercept first, then slope1, slope2, etc.\n",
        "    for p_ in range(p):\n",
        "      standard_error = var_beta_hat[p_, p_] ** 0.5\n",
        "#      print(var_beta_hat.shape)\n",
        "#      print(f\"SE(beta_hat[{p_}]): {standard_error}\")\n",
        "\n",
        "    print (\"slope:\\t\", slope, \"+/-\", var_beta_hat[1,1]**0.5, \"\\nintercept:\\t\", intercept, \"+/-\", var_beta_hat[0,0]**0.5)"
      ],
      "metadata": {
        "id": "0jOMFnbrSPRD"
      },
      "execution_count": 190,
      "outputs": []
    },
    {
      "cell_type": "code",
      "source": [
        "def mv_model_parm_std_err(xdata, ydata, model): # assumes xdata and ydata are not dfs\n",
        "# this function was written for multivariate regression for the lasso model which\n",
        "# is formatted differently\n",
        "\n",
        "    df_xt = pd.DataFrame(xdata)\n",
        "    df_yt = pd.DataFrame(ydata)\n",
        "\n",
        "    modelf = model\n",
        "\n",
        "    N = len(df_xt)\n",
        "    p = len(df_xt.columns) + 1  # plus one because LinearRegression adds an intercept term\n",
        "\n",
        "    X_with_intercept = np.empty(shape=(N, p), dtype=float)\n",
        "    X_with_intercept[:, 0] = 1\n",
        "    X_with_intercept[:, 1:p] = xdata\n",
        "\n",
        "    beta_hat = np.linalg.inv(X_with_intercept.T @ X_with_intercept) @ X_with_intercept.T @ ydata\n",
        "\n",
        "    #print(beta_hat)\n",
        "\n",
        "    modelf.fit(xdata,ydata)\n",
        "\n",
        "# format for lasso\n",
        "    slope = []\n",
        "    for i in range(len(modelf.coef_)):\n",
        "      slope.append(modelf.coef_[i])\n",
        "\n",
        "#    slope = modelf.coef_[0]\n",
        "    intercept = modelf.intercept_[0]\n",
        "\n",
        "\n",
        "    y_hat = modelf.predict(df_xt)\n",
        "    residuals = ydata - y_hat\n",
        "\n",
        "    residual_sum_of_squares = residuals.T @ residuals\n",
        "    sigma_squared_hat = residual_sum_of_squares[0, 0] / (N - p)\n",
        "    var_beta_hat = np.linalg.inv(X_with_intercept.T @ X_with_intercept) * sigma_squared_hat\n",
        "\n",
        "\n",
        "# var_beta hat output errors on intercept first, then slope1, slope2, etc.\n",
        "    for p_ in range(p):\n",
        "      standard_error = var_beta_hat[p_, p_] ** 0.5\n",
        "#      print(var_beta_hat.shape)\n",
        "#      print(f\"SE(beta_hat[{p_}]): {standard_error}\")\n",
        "\n",
        "    for p_ in range(p):\n",
        "      std_err = var_beta_hat[p_,p_]**0.5\n",
        "      if(p_==0):\n",
        "        print(\"intercept:\\t\",intercept,\"+/-\",std_err,\"\\n\")\n",
        "        continue\n",
        "#          print(\"slope\",p_,\":\\t\",slope[p_],\"+/-\",std_err,\"\\n\")\n",
        "#      else:\n",
        "      print(\"slope\",p_,\":\\t\",slope[p_-1],\"+/-\",std_err,\"\\n\")\n",
        "\n",
        "#    print (\"slope:\\t\", slope, \"+/-\", var_beta_hat[1,1]**0.5, \"\\nintercept:\\t\", intercept, \"+/-\", var_beta_hat[0,0]**0.5)"
      ],
      "metadata": {
        "id": "_Hplao9uzJun"
      },
      "execution_count": 191,
      "outputs": []
    },
    {
      "cell_type": "markdown",
      "metadata": {
        "id": "-UbedUybZHaa"
      },
      "source": [
        "As we did in previous chapters, let's define the default font sizes to make the figures prettier:"
      ]
    },
    {
      "cell_type": "code",
      "execution_count": 192,
      "metadata": {
        "id": "2cflX4T5ZHaa"
      },
      "outputs": [],
      "source": [
        "import matplotlib.pyplot as plt\n",
        "\n",
        "plt.rc('font', size=14)\n",
        "plt.rc('axes', labelsize=14, titlesize=14)\n",
        "plt.rc('legend', fontsize=14)\n",
        "plt.rc('xtick', labelsize=10)\n",
        "plt.rc('ytick', labelsize=10)"
      ]
    },
    {
      "cell_type": "markdown",
      "source": [
        "# Exercise 1 - Decision Tree on full Iris dataset\n",
        "\n",
        "In class17, we used two features of the Iris dataset (petal length and petal width) in order to train a **decision** tree to predict the Iris species.  Here, you are to perform a similar analysis, but including all 4 features.  \n",
        "\n",
        "* Once your decision tree is trained, evaluate its accuracy on the training and test data.  Present and discuss the **precision, recall, F1 scores, and the confusion matrix and compare them to the results obtained in class for the bivariate model.**\n",
        "\n",
        "* For your decision tree, present the **max_depth** value that results in the best model performance overall on the training and test data and explain how you determined this value.  \n",
        "\n",
        "* Present your final discussion/comparison in a seprate Markdown cell at the end of your analysis"
      ],
      "metadata": {
        "id": "TsAWOCxezA5G"
      }
    },
    {
      "cell_type": "markdown",
      "source": [
        "### Loading the data"
      ],
      "metadata": {
        "id": "MCgpk2cUqaxH"
      }
    },
    {
      "cell_type": "code",
      "source": [
        "web_path = 'http://public.gettysburg.edu/~rjohnson/ds325/' #if using data over web\n",
        "df_i = pd.read_csv(web_path+'iris.csv')\n",
        "df_i"
      ],
      "metadata": {
        "id": "s_jddR5glT9f",
        "colab": {
          "base_uri": "https://localhost:8080/",
          "height": 609
        },
        "outputId": "28fa822d-6665-45e0-ef64-d20c286de888"
      },
      "execution_count": 193,
      "outputs": [
        {
          "output_type": "execute_result",
          "data": {
            "text/plain": [
              "     sepal_length  sepal_width  petal_length  petal_width         species\n",
              "0             5.1          3.5           1.4          0.2     Iris-setosa\n",
              "1             4.9          3.0           1.4          0.2     Iris-setosa\n",
              "2             4.7          3.2           1.3          0.2     Iris-setosa\n",
              "3             4.6          3.1           1.5          0.2     Iris-setosa\n",
              "4             5.0          3.6           1.4          0.2     Iris-setosa\n",
              "..            ...          ...           ...          ...             ...\n",
              "145           6.7          3.0           5.2          2.3  Iris-virginica\n",
              "146           6.3          2.5           5.0          1.9  Iris-virginica\n",
              "147           6.5          3.0           5.2          2.0  Iris-virginica\n",
              "148           6.2          3.4           5.4          2.3  Iris-virginica\n",
              "149           5.9          3.0           5.1          1.8  Iris-virginica\n",
              "\n",
              "[150 rows x 5 columns]"
            ],
            "text/html": [
              "\n",
              "  <div id=\"df-94d3acf7-871a-4b30-ab45-f6551647f035\" class=\"colab-df-container\">\n",
              "    <div>\n",
              "<style scoped>\n",
              "    .dataframe tbody tr th:only-of-type {\n",
              "        vertical-align: middle;\n",
              "    }\n",
              "\n",
              "    .dataframe tbody tr th {\n",
              "        vertical-align: top;\n",
              "    }\n",
              "\n",
              "    .dataframe thead th {\n",
              "        text-align: right;\n",
              "    }\n",
              "</style>\n",
              "<table border=\"1\" class=\"dataframe\">\n",
              "  <thead>\n",
              "    <tr style=\"text-align: right;\">\n",
              "      <th></th>\n",
              "      <th>sepal_length</th>\n",
              "      <th>sepal_width</th>\n",
              "      <th>petal_length</th>\n",
              "      <th>petal_width</th>\n",
              "      <th>species</th>\n",
              "    </tr>\n",
              "  </thead>\n",
              "  <tbody>\n",
              "    <tr>\n",
              "      <th>0</th>\n",
              "      <td>5.1</td>\n",
              "      <td>3.5</td>\n",
              "      <td>1.4</td>\n",
              "      <td>0.2</td>\n",
              "      <td>Iris-setosa</td>\n",
              "    </tr>\n",
              "    <tr>\n",
              "      <th>1</th>\n",
              "      <td>4.9</td>\n",
              "      <td>3.0</td>\n",
              "      <td>1.4</td>\n",
              "      <td>0.2</td>\n",
              "      <td>Iris-setosa</td>\n",
              "    </tr>\n",
              "    <tr>\n",
              "      <th>2</th>\n",
              "      <td>4.7</td>\n",
              "      <td>3.2</td>\n",
              "      <td>1.3</td>\n",
              "      <td>0.2</td>\n",
              "      <td>Iris-setosa</td>\n",
              "    </tr>\n",
              "    <tr>\n",
              "      <th>3</th>\n",
              "      <td>4.6</td>\n",
              "      <td>3.1</td>\n",
              "      <td>1.5</td>\n",
              "      <td>0.2</td>\n",
              "      <td>Iris-setosa</td>\n",
              "    </tr>\n",
              "    <tr>\n",
              "      <th>4</th>\n",
              "      <td>5.0</td>\n",
              "      <td>3.6</td>\n",
              "      <td>1.4</td>\n",
              "      <td>0.2</td>\n",
              "      <td>Iris-setosa</td>\n",
              "    </tr>\n",
              "    <tr>\n",
              "      <th>...</th>\n",
              "      <td>...</td>\n",
              "      <td>...</td>\n",
              "      <td>...</td>\n",
              "      <td>...</td>\n",
              "      <td>...</td>\n",
              "    </tr>\n",
              "    <tr>\n",
              "      <th>145</th>\n",
              "      <td>6.7</td>\n",
              "      <td>3.0</td>\n",
              "      <td>5.2</td>\n",
              "      <td>2.3</td>\n",
              "      <td>Iris-virginica</td>\n",
              "    </tr>\n",
              "    <tr>\n",
              "      <th>146</th>\n",
              "      <td>6.3</td>\n",
              "      <td>2.5</td>\n",
              "      <td>5.0</td>\n",
              "      <td>1.9</td>\n",
              "      <td>Iris-virginica</td>\n",
              "    </tr>\n",
              "    <tr>\n",
              "      <th>147</th>\n",
              "      <td>6.5</td>\n",
              "      <td>3.0</td>\n",
              "      <td>5.2</td>\n",
              "      <td>2.0</td>\n",
              "      <td>Iris-virginica</td>\n",
              "    </tr>\n",
              "    <tr>\n",
              "      <th>148</th>\n",
              "      <td>6.2</td>\n",
              "      <td>3.4</td>\n",
              "      <td>5.4</td>\n",
              "      <td>2.3</td>\n",
              "      <td>Iris-virginica</td>\n",
              "    </tr>\n",
              "    <tr>\n",
              "      <th>149</th>\n",
              "      <td>5.9</td>\n",
              "      <td>3.0</td>\n",
              "      <td>5.1</td>\n",
              "      <td>1.8</td>\n",
              "      <td>Iris-virginica</td>\n",
              "    </tr>\n",
              "  </tbody>\n",
              "</table>\n",
              "<p>150 rows × 5 columns</p>\n",
              "</div>\n",
              "    <div class=\"colab-df-buttons\">\n",
              "\n",
              "  <div class=\"colab-df-container\">\n",
              "    <button class=\"colab-df-convert\" onclick=\"convertToInteractive('df-94d3acf7-871a-4b30-ab45-f6551647f035')\"\n",
              "            title=\"Convert this dataframe to an interactive table.\"\n",
              "            style=\"display:none;\">\n",
              "\n",
              "  <svg xmlns=\"http://www.w3.org/2000/svg\" height=\"24px\" viewBox=\"0 -960 960 960\">\n",
              "    <path d=\"M120-120v-720h720v720H120Zm60-500h600v-160H180v160Zm220 220h160v-160H400v160Zm0 220h160v-160H400v160ZM180-400h160v-160H180v160Zm440 0h160v-160H620v160ZM180-180h160v-160H180v160Zm440 0h160v-160H620v160Z\"/>\n",
              "  </svg>\n",
              "    </button>\n",
              "\n",
              "  <style>\n",
              "    .colab-df-container {\n",
              "      display:flex;\n",
              "      gap: 12px;\n",
              "    }\n",
              "\n",
              "    .colab-df-convert {\n",
              "      background-color: #E8F0FE;\n",
              "      border: none;\n",
              "      border-radius: 50%;\n",
              "      cursor: pointer;\n",
              "      display: none;\n",
              "      fill: #1967D2;\n",
              "      height: 32px;\n",
              "      padding: 0 0 0 0;\n",
              "      width: 32px;\n",
              "    }\n",
              "\n",
              "    .colab-df-convert:hover {\n",
              "      background-color: #E2EBFA;\n",
              "      box-shadow: 0px 1px 2px rgba(60, 64, 67, 0.3), 0px 1px 3px 1px rgba(60, 64, 67, 0.15);\n",
              "      fill: #174EA6;\n",
              "    }\n",
              "\n",
              "    .colab-df-buttons div {\n",
              "      margin-bottom: 4px;\n",
              "    }\n",
              "\n",
              "    [theme=dark] .colab-df-convert {\n",
              "      background-color: #3B4455;\n",
              "      fill: #D2E3FC;\n",
              "    }\n",
              "\n",
              "    [theme=dark] .colab-df-convert:hover {\n",
              "      background-color: #434B5C;\n",
              "      box-shadow: 0px 1px 3px 1px rgba(0, 0, 0, 0.15);\n",
              "      filter: drop-shadow(0px 1px 2px rgba(0, 0, 0, 0.3));\n",
              "      fill: #FFFFFF;\n",
              "    }\n",
              "  </style>\n",
              "\n",
              "    <script>\n",
              "      const buttonEl =\n",
              "        document.querySelector('#df-94d3acf7-871a-4b30-ab45-f6551647f035 button.colab-df-convert');\n",
              "      buttonEl.style.display =\n",
              "        google.colab.kernel.accessAllowed ? 'block' : 'none';\n",
              "\n",
              "      async function convertToInteractive(key) {\n",
              "        const element = document.querySelector('#df-94d3acf7-871a-4b30-ab45-f6551647f035');\n",
              "        const dataTable =\n",
              "          await google.colab.kernel.invokeFunction('convertToInteractive',\n",
              "                                                    [key], {});\n",
              "        if (!dataTable) return;\n",
              "\n",
              "        const docLinkHtml = 'Like what you see? Visit the ' +\n",
              "          '<a target=\"_blank\" href=https://colab.research.google.com/notebooks/data_table.ipynb>data table notebook</a>'\n",
              "          + ' to learn more about interactive tables.';\n",
              "        element.innerHTML = '';\n",
              "        dataTable['output_type'] = 'display_data';\n",
              "        await google.colab.output.renderOutput(dataTable, element);\n",
              "        const docLink = document.createElement('div');\n",
              "        docLink.innerHTML = docLinkHtml;\n",
              "        element.appendChild(docLink);\n",
              "      }\n",
              "    </script>\n",
              "  </div>\n",
              "\n",
              "\n",
              "<div id=\"df-7b47b8ec-769a-4fce-958b-a0b85a726801\">\n",
              "  <button class=\"colab-df-quickchart\" onclick=\"quickchart('df-7b47b8ec-769a-4fce-958b-a0b85a726801')\"\n",
              "            title=\"Suggest charts\"\n",
              "            style=\"display:none;\">\n",
              "\n",
              "<svg xmlns=\"http://www.w3.org/2000/svg\" height=\"24px\"viewBox=\"0 0 24 24\"\n",
              "     width=\"24px\">\n",
              "    <g>\n",
              "        <path d=\"M19 3H5c-1.1 0-2 .9-2 2v14c0 1.1.9 2 2 2h14c1.1 0 2-.9 2-2V5c0-1.1-.9-2-2-2zM9 17H7v-7h2v7zm4 0h-2V7h2v10zm4 0h-2v-4h2v4z\"/>\n",
              "    </g>\n",
              "</svg>\n",
              "  </button>\n",
              "\n",
              "<style>\n",
              "  .colab-df-quickchart {\n",
              "      --bg-color: #E8F0FE;\n",
              "      --fill-color: #1967D2;\n",
              "      --hover-bg-color: #E2EBFA;\n",
              "      --hover-fill-color: #174EA6;\n",
              "      --disabled-fill-color: #AAA;\n",
              "      --disabled-bg-color: #DDD;\n",
              "  }\n",
              "\n",
              "  [theme=dark] .colab-df-quickchart {\n",
              "      --bg-color: #3B4455;\n",
              "      --fill-color: #D2E3FC;\n",
              "      --hover-bg-color: #434B5C;\n",
              "      --hover-fill-color: #FFFFFF;\n",
              "      --disabled-bg-color: #3B4455;\n",
              "      --disabled-fill-color: #666;\n",
              "  }\n",
              "\n",
              "  .colab-df-quickchart {\n",
              "    background-color: var(--bg-color);\n",
              "    border: none;\n",
              "    border-radius: 50%;\n",
              "    cursor: pointer;\n",
              "    display: none;\n",
              "    fill: var(--fill-color);\n",
              "    height: 32px;\n",
              "    padding: 0;\n",
              "    width: 32px;\n",
              "  }\n",
              "\n",
              "  .colab-df-quickchart:hover {\n",
              "    background-color: var(--hover-bg-color);\n",
              "    box-shadow: 0 1px 2px rgba(60, 64, 67, 0.3), 0 1px 3px 1px rgba(60, 64, 67, 0.15);\n",
              "    fill: var(--button-hover-fill-color);\n",
              "  }\n",
              "\n",
              "  .colab-df-quickchart-complete:disabled,\n",
              "  .colab-df-quickchart-complete:disabled:hover {\n",
              "    background-color: var(--disabled-bg-color);\n",
              "    fill: var(--disabled-fill-color);\n",
              "    box-shadow: none;\n",
              "  }\n",
              "\n",
              "  .colab-df-spinner {\n",
              "    border: 2px solid var(--fill-color);\n",
              "    border-color: transparent;\n",
              "    border-bottom-color: var(--fill-color);\n",
              "    animation:\n",
              "      spin 1s steps(1) infinite;\n",
              "  }\n",
              "\n",
              "  @keyframes spin {\n",
              "    0% {\n",
              "      border-color: transparent;\n",
              "      border-bottom-color: var(--fill-color);\n",
              "      border-left-color: var(--fill-color);\n",
              "    }\n",
              "    20% {\n",
              "      border-color: transparent;\n",
              "      border-left-color: var(--fill-color);\n",
              "      border-top-color: var(--fill-color);\n",
              "    }\n",
              "    30% {\n",
              "      border-color: transparent;\n",
              "      border-left-color: var(--fill-color);\n",
              "      border-top-color: var(--fill-color);\n",
              "      border-right-color: var(--fill-color);\n",
              "    }\n",
              "    40% {\n",
              "      border-color: transparent;\n",
              "      border-right-color: var(--fill-color);\n",
              "      border-top-color: var(--fill-color);\n",
              "    }\n",
              "    60% {\n",
              "      border-color: transparent;\n",
              "      border-right-color: var(--fill-color);\n",
              "    }\n",
              "    80% {\n",
              "      border-color: transparent;\n",
              "      border-right-color: var(--fill-color);\n",
              "      border-bottom-color: var(--fill-color);\n",
              "    }\n",
              "    90% {\n",
              "      border-color: transparent;\n",
              "      border-bottom-color: var(--fill-color);\n",
              "    }\n",
              "  }\n",
              "</style>\n",
              "\n",
              "  <script>\n",
              "    async function quickchart(key) {\n",
              "      const quickchartButtonEl =\n",
              "        document.querySelector('#' + key + ' button');\n",
              "      quickchartButtonEl.disabled = true;  // To prevent multiple clicks.\n",
              "      quickchartButtonEl.classList.add('colab-df-spinner');\n",
              "      try {\n",
              "        const charts = await google.colab.kernel.invokeFunction(\n",
              "            'suggestCharts', [key], {});\n",
              "      } catch (error) {\n",
              "        console.error('Error during call to suggestCharts:', error);\n",
              "      }\n",
              "      quickchartButtonEl.classList.remove('colab-df-spinner');\n",
              "      quickchartButtonEl.classList.add('colab-df-quickchart-complete');\n",
              "    }\n",
              "    (() => {\n",
              "      let quickchartButtonEl =\n",
              "        document.querySelector('#df-7b47b8ec-769a-4fce-958b-a0b85a726801 button');\n",
              "      quickchartButtonEl.style.display =\n",
              "        google.colab.kernel.accessAllowed ? 'block' : 'none';\n",
              "    })();\n",
              "  </script>\n",
              "</div>\n",
              "\n",
              "  <div id=\"id_fc463ddc-b8a1-4292-b93d-811927e608e4\">\n",
              "    <style>\n",
              "      .colab-df-generate {\n",
              "        background-color: #E8F0FE;\n",
              "        border: none;\n",
              "        border-radius: 50%;\n",
              "        cursor: pointer;\n",
              "        display: none;\n",
              "        fill: #1967D2;\n",
              "        height: 32px;\n",
              "        padding: 0 0 0 0;\n",
              "        width: 32px;\n",
              "      }\n",
              "\n",
              "      .colab-df-generate:hover {\n",
              "        background-color: #E2EBFA;\n",
              "        box-shadow: 0px 1px 2px rgba(60, 64, 67, 0.3), 0px 1px 3px 1px rgba(60, 64, 67, 0.15);\n",
              "        fill: #174EA6;\n",
              "      }\n",
              "\n",
              "      [theme=dark] .colab-df-generate {\n",
              "        background-color: #3B4455;\n",
              "        fill: #D2E3FC;\n",
              "      }\n",
              "\n",
              "      [theme=dark] .colab-df-generate:hover {\n",
              "        background-color: #434B5C;\n",
              "        box-shadow: 0px 1px 3px 1px rgba(0, 0, 0, 0.15);\n",
              "        filter: drop-shadow(0px 1px 2px rgba(0, 0, 0, 0.3));\n",
              "        fill: #FFFFFF;\n",
              "      }\n",
              "    </style>\n",
              "    <button class=\"colab-df-generate\" onclick=\"generateWithVariable('df_i')\"\n",
              "            title=\"Generate code using this dataframe.\"\n",
              "            style=\"display:none;\">\n",
              "\n",
              "  <svg xmlns=\"http://www.w3.org/2000/svg\" height=\"24px\"viewBox=\"0 0 24 24\"\n",
              "       width=\"24px\">\n",
              "    <path d=\"M7,19H8.4L18.45,9,17,7.55,7,17.6ZM5,21V16.75L18.45,3.32a2,2,0,0,1,2.83,0l1.4,1.43a1.91,1.91,0,0,1,.58,1.4,1.91,1.91,0,0,1-.58,1.4L9.25,21ZM18.45,9,17,7.55Zm-12,3A5.31,5.31,0,0,0,4.9,8.1,5.31,5.31,0,0,0,1,6.5,5.31,5.31,0,0,0,4.9,4.9,5.31,5.31,0,0,0,6.5,1,5.31,5.31,0,0,0,8.1,4.9,5.31,5.31,0,0,0,12,6.5,5.46,5.46,0,0,0,6.5,12Z\"/>\n",
              "  </svg>\n",
              "    </button>\n",
              "    <script>\n",
              "      (() => {\n",
              "      const buttonEl =\n",
              "        document.querySelector('#id_fc463ddc-b8a1-4292-b93d-811927e608e4 button.colab-df-generate');\n",
              "      buttonEl.style.display =\n",
              "        google.colab.kernel.accessAllowed ? 'block' : 'none';\n",
              "\n",
              "      buttonEl.onclick = () => {\n",
              "        google.colab.notebook.generateWithVariable('df_i');\n",
              "      }\n",
              "      })();\n",
              "    </script>\n",
              "  </div>\n",
              "\n",
              "    </div>\n",
              "  </div>\n"
            ],
            "application/vnd.google.colaboratory.intrinsic+json": {
              "type": "dataframe",
              "variable_name": "df_i",
              "summary": "{\n  \"name\": \"df_i\",\n  \"rows\": 150,\n  \"fields\": [\n    {\n      \"column\": \"sepal_length\",\n      \"properties\": {\n        \"dtype\": \"number\",\n        \"std\": 0.828066127977863,\n        \"min\": 4.3,\n        \"max\": 7.9,\n        \"num_unique_values\": 35,\n        \"samples\": [\n          6.2,\n          4.5,\n          5.6\n        ],\n        \"semantic_type\": \"\",\n        \"description\": \"\"\n      }\n    },\n    {\n      \"column\": \"sepal_width\",\n      \"properties\": {\n        \"dtype\": \"number\",\n        \"std\": 0.4335943113621737,\n        \"min\": 2.0,\n        \"max\": 4.4,\n        \"num_unique_values\": 23,\n        \"samples\": [\n          2.3,\n          4.0,\n          3.5\n        ],\n        \"semantic_type\": \"\",\n        \"description\": \"\"\n      }\n    },\n    {\n      \"column\": \"petal_length\",\n      \"properties\": {\n        \"dtype\": \"number\",\n        \"std\": 1.7644204199522626,\n        \"min\": 1.0,\n        \"max\": 6.9,\n        \"num_unique_values\": 43,\n        \"samples\": [\n          6.7,\n          3.8,\n          3.7\n        ],\n        \"semantic_type\": \"\",\n        \"description\": \"\"\n      }\n    },\n    {\n      \"column\": \"petal_width\",\n      \"properties\": {\n        \"dtype\": \"number\",\n        \"std\": 0.7631607417008411,\n        \"min\": 0.1,\n        \"max\": 2.5,\n        \"num_unique_values\": 22,\n        \"samples\": [\n          0.2,\n          1.2,\n          1.3\n        ],\n        \"semantic_type\": \"\",\n        \"description\": \"\"\n      }\n    },\n    {\n      \"column\": \"species\",\n      \"properties\": {\n        \"dtype\": \"category\",\n        \"num_unique_values\": 3,\n        \"samples\": [\n          \"Iris-setosa\",\n          \"Iris-versicolor\",\n          \"Iris-virginica\"\n        ],\n        \"semantic_type\": \"\",\n        \"description\": \"\"\n      }\n    }\n  ]\n}"
            }
          },
          "metadata": {},
          "execution_count": 193
        }
      ]
    },
    {
      "cell_type": "markdown",
      "source": [
        "Recall that the setosa species type was relatively easily separated/classified.  The virginica and versicolor have some overlap, which decreased our previous model's performance."
      ],
      "metadata": {
        "id": "LhGzhq3qlT9h"
      }
    },
    {
      "cell_type": "code",
      "source": [
        "# First, define our features and targets\n",
        "feat = df_i.drop('species', axis=1, inplace=False)\n",
        "targ = df_i['species']\n",
        "\n",
        "X_train, X_test, y_train, y_test = train_test_split(feat, targ, test_size=0.2, random_state=40)"
      ],
      "metadata": {
        "id": "173WQGjvlT9i"
      },
      "execution_count": 194,
      "outputs": []
    },
    {
      "cell_type": "code",
      "source": [
        "#tokenize my target data for numerical analysis\n",
        "# need to make target into dataframe before tokenizing\n",
        "y_tr_df = pd.DataFrame(data=y_train, columns=[\"species\"])\n",
        "y_train_tok = tokenize_species(y_tr_df)\n",
        "\n",
        "y_tst_df = pd.DataFrame(data=y_test, columns=[\"species\"])\n",
        "y_test_tok = tokenize_species(y_tst_df)"
      ],
      "metadata": {
        "id": "coWahXLOlk6v"
      },
      "execution_count": 195,
      "outputs": []
    },
    {
      "cell_type": "markdown",
      "source": [
        "# Solution"
      ],
      "metadata": {
        "id": "LtxUFWkQggZV"
      }
    },
    {
      "cell_type": "code",
      "source": [
        "X_train_plpw = X_train #Assigning variables from train test splits using all 4 features\n",
        "X_test_plpw = X_test\n",
        "\n",
        "X = X_train_plpw; y = y_train_tok\n",
        "X_test = X_test_plpw; y_test = y_test_tok"
      ],
      "metadata": {
        "id": "ueirPtWZfo4w"
      },
      "execution_count": 196,
      "outputs": []
    },
    {
      "cell_type": "code",
      "source": [
        "tree_clf_i = DecisionTreeClassifier(max_depth=4, random_state=42) #Creating decision tree model\n",
        "#with different max depth values\n",
        "\n",
        "tree_clf_i.fit(X_train_plpw, y_train_tok) #Fitting model"
      ],
      "metadata": {
        "colab": {
          "base_uri": "https://localhost:8080/",
          "height": 74
        },
        "id": "zq8ADp0GH9GG",
        "outputId": "289eec24-43a8-4a09-eefb-cce6761bc2ee"
      },
      "execution_count": 197,
      "outputs": [
        {
          "output_type": "execute_result",
          "data": {
            "text/plain": [
              "DecisionTreeClassifier(max_depth=4, random_state=42)"
            ],
            "text/html": [
              "<style>#sk-container-id-12 {color: black;background-color: white;}#sk-container-id-12 pre{padding: 0;}#sk-container-id-12 div.sk-toggleable {background-color: white;}#sk-container-id-12 label.sk-toggleable__label {cursor: pointer;display: block;width: 100%;margin-bottom: 0;padding: 0.3em;box-sizing: border-box;text-align: center;}#sk-container-id-12 label.sk-toggleable__label-arrow:before {content: \"▸\";float: left;margin-right: 0.25em;color: #696969;}#sk-container-id-12 label.sk-toggleable__label-arrow:hover:before {color: black;}#sk-container-id-12 div.sk-estimator:hover label.sk-toggleable__label-arrow:before {color: black;}#sk-container-id-12 div.sk-toggleable__content {max-height: 0;max-width: 0;overflow: hidden;text-align: left;background-color: #f0f8ff;}#sk-container-id-12 div.sk-toggleable__content pre {margin: 0.2em;color: black;border-radius: 0.25em;background-color: #f0f8ff;}#sk-container-id-12 input.sk-toggleable__control:checked~div.sk-toggleable__content {max-height: 200px;max-width: 100%;overflow: auto;}#sk-container-id-12 input.sk-toggleable__control:checked~label.sk-toggleable__label-arrow:before {content: \"▾\";}#sk-container-id-12 div.sk-estimator input.sk-toggleable__control:checked~label.sk-toggleable__label {background-color: #d4ebff;}#sk-container-id-12 div.sk-label input.sk-toggleable__control:checked~label.sk-toggleable__label {background-color: #d4ebff;}#sk-container-id-12 input.sk-hidden--visually {border: 0;clip: rect(1px 1px 1px 1px);clip: rect(1px, 1px, 1px, 1px);height: 1px;margin: -1px;overflow: hidden;padding: 0;position: absolute;width: 1px;}#sk-container-id-12 div.sk-estimator {font-family: monospace;background-color: #f0f8ff;border: 1px dotted black;border-radius: 0.25em;box-sizing: border-box;margin-bottom: 0.5em;}#sk-container-id-12 div.sk-estimator:hover {background-color: #d4ebff;}#sk-container-id-12 div.sk-parallel-item::after {content: \"\";width: 100%;border-bottom: 1px solid gray;flex-grow: 1;}#sk-container-id-12 div.sk-label:hover label.sk-toggleable__label {background-color: #d4ebff;}#sk-container-id-12 div.sk-serial::before {content: \"\";position: absolute;border-left: 1px solid gray;box-sizing: border-box;top: 0;bottom: 0;left: 50%;z-index: 0;}#sk-container-id-12 div.sk-serial {display: flex;flex-direction: column;align-items: center;background-color: white;padding-right: 0.2em;padding-left: 0.2em;position: relative;}#sk-container-id-12 div.sk-item {position: relative;z-index: 1;}#sk-container-id-12 div.sk-parallel {display: flex;align-items: stretch;justify-content: center;background-color: white;position: relative;}#sk-container-id-12 div.sk-item::before, #sk-container-id-12 div.sk-parallel-item::before {content: \"\";position: absolute;border-left: 1px solid gray;box-sizing: border-box;top: 0;bottom: 0;left: 50%;z-index: -1;}#sk-container-id-12 div.sk-parallel-item {display: flex;flex-direction: column;z-index: 1;position: relative;background-color: white;}#sk-container-id-12 div.sk-parallel-item:first-child::after {align-self: flex-end;width: 50%;}#sk-container-id-12 div.sk-parallel-item:last-child::after {align-self: flex-start;width: 50%;}#sk-container-id-12 div.sk-parallel-item:only-child::after {width: 0;}#sk-container-id-12 div.sk-dashed-wrapped {border: 1px dashed gray;margin: 0 0.4em 0.5em 0.4em;box-sizing: border-box;padding-bottom: 0.4em;background-color: white;}#sk-container-id-12 div.sk-label label {font-family: monospace;font-weight: bold;display: inline-block;line-height: 1.2em;}#sk-container-id-12 div.sk-label-container {text-align: center;}#sk-container-id-12 div.sk-container {/* jupyter's `normalize.less` sets `[hidden] { display: none; }` but bootstrap.min.css set `[hidden] { display: none !important; }` so we also need the `!important` here to be able to override the default hidden behavior on the sphinx rendered scikit-learn.org. See: https://github.com/scikit-learn/scikit-learn/issues/21755 */display: inline-block !important;position: relative;}#sk-container-id-12 div.sk-text-repr-fallback {display: none;}</style><div id=\"sk-container-id-12\" class=\"sk-top-container\"><div class=\"sk-text-repr-fallback\"><pre>DecisionTreeClassifier(max_depth=4, random_state=42)</pre><b>In a Jupyter environment, please rerun this cell to show the HTML representation or trust the notebook. <br />On GitHub, the HTML representation is unable to render, please try loading this page with nbviewer.org.</b></div><div class=\"sk-container\" hidden><div class=\"sk-item\"><div class=\"sk-estimator sk-toggleable\"><input class=\"sk-toggleable__control sk-hidden--visually\" id=\"sk-estimator-id-27\" type=\"checkbox\" checked><label for=\"sk-estimator-id-27\" class=\"sk-toggleable__label sk-toggleable__label-arrow\">DecisionTreeClassifier</label><div class=\"sk-toggleable__content\"><pre>DecisionTreeClassifier(max_depth=4, random_state=42)</pre></div></div></div></div></div>"
            ]
          },
          "metadata": {},
          "execution_count": 197
        }
      ]
    },
    {
      "cell_type": "code",
      "source": [
        "export_graphviz( #creating .dot file with node and leaf information\n",
        "        tree_clf_i,\n",
        "        out_file=\"iris_tree.dot\",\n",
        "        feature_names=[\"petal length (cm)\", \"petal width (cm)\", \"sepal length (cm)\", \"sepal width (cm)\"],\n",
        "        class_names=df_i[\"species\"].unique(),\n",
        "        rounded=True,\n",
        "        filled=True\n",
        "    ) #output names listed under feature names with all 4 features"
      ],
      "metadata": {
        "id": "TVz2phvAILtX"
      },
      "execution_count": 198,
      "outputs": []
    },
    {
      "cell_type": "code",
      "source": [
        "from graphviz import Source #Printing decision tree with all features\n",
        "Source.from_file(\"iris_tree.dot\")"
      ],
      "metadata": {
        "colab": {
          "base_uri": "https://localhost:8080/",
          "height": 757
        },
        "id": "FlzdDwJVa0ek",
        "outputId": "54dc8b28-1e08-4c40-e8c7-fb96dd842e27"
      },
      "execution_count": 199,
      "outputs": [
        {
          "output_type": "execute_result",
          "data": {
            "image/svg+xml": "<?xml version=\"1.0\" encoding=\"UTF-8\" standalone=\"no\"?>\n<!DOCTYPE svg PUBLIC \"-//W3C//DTD SVG 1.1//EN\"\n \"http://www.w3.org/Graphics/SVG/1.1/DTD/svg11.dtd\">\n<!-- Generated by graphviz version 2.43.0 (0)\n -->\n<!-- Title: Tree Pages: 1 -->\n<svg width=\"934pt\" height=\"552pt\"\n viewBox=\"0.00 0.00 934.00 552.00\" xmlns=\"http://www.w3.org/2000/svg\" xmlns:xlink=\"http://www.w3.org/1999/xlink\">\n<g id=\"graph0\" class=\"graph\" transform=\"scale(1 1) rotate(0) translate(4 548)\">\n<title>Tree</title>\n<polygon fill=\"white\" stroke=\"transparent\" points=\"-4,4 -4,-548 930,-548 930,4 -4,4\"/>\n<!-- 0 -->\n<g id=\"node1\" class=\"node\">\n<title>0</title>\n<path fill=\"#fefcfa\" stroke=\"black\" d=\"M569,-544C569,-544 422,-544 422,-544 416,-544 410,-538 410,-532 410,-532 410,-473 410,-473 410,-467 416,-461 422,-461 422,-461 569,-461 569,-461 575,-461 581,-467 581,-473 581,-473 581,-532 581,-532 581,-538 575,-544 569,-544\"/>\n<text text-anchor=\"middle\" x=\"495.5\" y=\"-528.8\" font-family=\"Helvetica,sans-Serif\" font-size=\"14.00\">sepal length (cm) &lt;= 2.45</text>\n<text text-anchor=\"middle\" x=\"495.5\" y=\"-513.8\" font-family=\"Helvetica,sans-Serif\" font-size=\"14.00\">gini = 0.666</text>\n<text text-anchor=\"middle\" x=\"495.5\" y=\"-498.8\" font-family=\"Helvetica,sans-Serif\" font-size=\"14.00\">samples = 120</text>\n<text text-anchor=\"middle\" x=\"495.5\" y=\"-483.8\" font-family=\"Helvetica,sans-Serif\" font-size=\"14.00\">value = [42, 38, 40]</text>\n<text text-anchor=\"middle\" x=\"495.5\" y=\"-468.8\" font-family=\"Helvetica,sans-Serif\" font-size=\"14.00\">class = Iris&#45;setosa</text>\n</g>\n<!-- 1 -->\n<g id=\"node2\" class=\"node\">\n<title>1</title>\n<path fill=\"#e58139\" stroke=\"black\" d=\"M464,-417.5C464,-417.5 363,-417.5 363,-417.5 357,-417.5 351,-411.5 351,-405.5 351,-405.5 351,-361.5 351,-361.5 351,-355.5 357,-349.5 363,-349.5 363,-349.5 464,-349.5 464,-349.5 470,-349.5 476,-355.5 476,-361.5 476,-361.5 476,-405.5 476,-405.5 476,-411.5 470,-417.5 464,-417.5\"/>\n<text text-anchor=\"middle\" x=\"413.5\" y=\"-402.3\" font-family=\"Helvetica,sans-Serif\" font-size=\"14.00\">gini = 0.0</text>\n<text text-anchor=\"middle\" x=\"413.5\" y=\"-387.3\" font-family=\"Helvetica,sans-Serif\" font-size=\"14.00\">samples = 42</text>\n<text text-anchor=\"middle\" x=\"413.5\" y=\"-372.3\" font-family=\"Helvetica,sans-Serif\" font-size=\"14.00\">value = [42, 0, 0]</text>\n<text text-anchor=\"middle\" x=\"413.5\" y=\"-357.3\" font-family=\"Helvetica,sans-Serif\" font-size=\"14.00\">class = Iris&#45;setosa</text>\n</g>\n<!-- 0&#45;&gt;1 -->\n<g id=\"edge1\" class=\"edge\">\n<title>0&#45;&gt;1</title>\n<path fill=\"none\" stroke=\"black\" d=\"M467.05,-460.91C459.16,-449.65 450.59,-437.42 442.66,-426.11\"/>\n<polygon fill=\"black\" stroke=\"black\" points=\"445.35,-423.85 436.75,-417.67 439.62,-427.86 445.35,-423.85\"/>\n<text text-anchor=\"middle\" x=\"432.41\" y=\"-438.59\" font-family=\"Helvetica,sans-Serif\" font-size=\"14.00\">True</text>\n</g>\n<!-- 2 -->\n<g id=\"node3\" class=\"node\">\n<title>2</title>\n<path fill=\"#f9f5fe\" stroke=\"black\" d=\"M648.5,-425C648.5,-425 506.5,-425 506.5,-425 500.5,-425 494.5,-419 494.5,-413 494.5,-413 494.5,-354 494.5,-354 494.5,-348 500.5,-342 506.5,-342 506.5,-342 648.5,-342 648.5,-342 654.5,-342 660.5,-348 660.5,-354 660.5,-354 660.5,-413 660.5,-413 660.5,-419 654.5,-425 648.5,-425\"/>\n<text text-anchor=\"middle\" x=\"577.5\" y=\"-409.8\" font-family=\"Helvetica,sans-Serif\" font-size=\"14.00\">sepal width (cm) &lt;= 1.75</text>\n<text text-anchor=\"middle\" x=\"577.5\" y=\"-394.8\" font-family=\"Helvetica,sans-Serif\" font-size=\"14.00\">gini = 0.5</text>\n<text text-anchor=\"middle\" x=\"577.5\" y=\"-379.8\" font-family=\"Helvetica,sans-Serif\" font-size=\"14.00\">samples = 78</text>\n<text text-anchor=\"middle\" x=\"577.5\" y=\"-364.8\" font-family=\"Helvetica,sans-Serif\" font-size=\"14.00\">value = [0, 38, 40]</text>\n<text text-anchor=\"middle\" x=\"577.5\" y=\"-349.8\" font-family=\"Helvetica,sans-Serif\" font-size=\"14.00\">class = Iris&#45;virginica</text>\n</g>\n<!-- 0&#45;&gt;2 -->\n<g id=\"edge2\" class=\"edge\">\n<title>0&#45;&gt;2</title>\n<path fill=\"none\" stroke=\"black\" d=\"M523.95,-460.91C530.18,-452.01 536.84,-442.51 543.28,-433.33\"/>\n<polygon fill=\"black\" stroke=\"black\" points=\"546.23,-435.22 549.1,-425.02 540.5,-431.2 546.23,-435.22\"/>\n<text text-anchor=\"middle\" x=\"553.43\" y=\"-445.94\" font-family=\"Helvetica,sans-Serif\" font-size=\"14.00\">False</text>\n</g>\n<!-- 3 -->\n<g id=\"node4\" class=\"node\">\n<title>3</title>\n<path fill=\"#54e992\" stroke=\"black\" d=\"M533,-306C533,-306 386,-306 386,-306 380,-306 374,-300 374,-294 374,-294 374,-235 374,-235 374,-229 380,-223 386,-223 386,-223 533,-223 533,-223 539,-223 545,-229 545,-235 545,-235 545,-294 545,-294 545,-300 539,-306 533,-306\"/>\n<text text-anchor=\"middle\" x=\"459.5\" y=\"-290.8\" font-family=\"Helvetica,sans-Serif\" font-size=\"14.00\">sepal length (cm) &lt;= 4.95</text>\n<text text-anchor=\"middle\" x=\"459.5\" y=\"-275.8\" font-family=\"Helvetica,sans-Serif\" font-size=\"14.00\">gini = 0.21</text>\n<text text-anchor=\"middle\" x=\"459.5\" y=\"-260.8\" font-family=\"Helvetica,sans-Serif\" font-size=\"14.00\">samples = 42</text>\n<text text-anchor=\"middle\" x=\"459.5\" y=\"-245.8\" font-family=\"Helvetica,sans-Serif\" font-size=\"14.00\">value = [0, 37, 5]</text>\n<text text-anchor=\"middle\" x=\"459.5\" y=\"-230.8\" font-family=\"Helvetica,sans-Serif\" font-size=\"14.00\">class = Iris&#45;versicolor</text>\n</g>\n<!-- 2&#45;&gt;3 -->\n<g id=\"edge3\" class=\"edge\">\n<title>2&#45;&gt;3</title>\n<path fill=\"none\" stroke=\"black\" d=\"M536.56,-341.91C527.22,-332.65 517.22,-322.73 507.62,-313.21\"/>\n<polygon fill=\"black\" stroke=\"black\" points=\"509.93,-310.58 500.37,-306.02 505,-315.55 509.93,-310.58\"/>\n</g>\n<!-- 10 -->\n<g id=\"node11\" class=\"node\">\n<title>10</title>\n<path fill=\"#853fe6\" stroke=\"black\" d=\"M769,-306C769,-306 622,-306 622,-306 616,-306 610,-300 610,-294 610,-294 610,-235 610,-235 610,-229 616,-223 622,-223 622,-223 769,-223 769,-223 775,-223 781,-229 781,-235 781,-235 781,-294 781,-294 781,-300 775,-306 769,-306\"/>\n<text text-anchor=\"middle\" x=\"695.5\" y=\"-290.8\" font-family=\"Helvetica,sans-Serif\" font-size=\"14.00\">sepal length (cm) &lt;= 4.85</text>\n<text text-anchor=\"middle\" x=\"695.5\" y=\"-275.8\" font-family=\"Helvetica,sans-Serif\" font-size=\"14.00\">gini = 0.054</text>\n<text text-anchor=\"middle\" x=\"695.5\" y=\"-260.8\" font-family=\"Helvetica,sans-Serif\" font-size=\"14.00\">samples = 36</text>\n<text text-anchor=\"middle\" x=\"695.5\" y=\"-245.8\" font-family=\"Helvetica,sans-Serif\" font-size=\"14.00\">value = [0, 1, 35]</text>\n<text text-anchor=\"middle\" x=\"695.5\" y=\"-230.8\" font-family=\"Helvetica,sans-Serif\" font-size=\"14.00\">class = Iris&#45;virginica</text>\n</g>\n<!-- 2&#45;&gt;10 -->\n<g id=\"edge10\" class=\"edge\">\n<title>2&#45;&gt;10</title>\n<path fill=\"none\" stroke=\"black\" d=\"M618.44,-341.91C627.78,-332.65 637.78,-322.73 647.38,-313.21\"/>\n<polygon fill=\"black\" stroke=\"black\" points=\"650,-315.55 654.63,-306.02 645.07,-310.58 650,-315.55\"/>\n</g>\n<!-- 4 -->\n<g id=\"node5\" class=\"node\">\n<title>4</title>\n<path fill=\"#3fe685\" stroke=\"black\" d=\"M299.5,-187C299.5,-187 157.5,-187 157.5,-187 151.5,-187 145.5,-181 145.5,-175 145.5,-175 145.5,-116 145.5,-116 145.5,-110 151.5,-104 157.5,-104 157.5,-104 299.5,-104 299.5,-104 305.5,-104 311.5,-110 311.5,-116 311.5,-116 311.5,-175 311.5,-175 311.5,-181 305.5,-187 299.5,-187\"/>\n<text text-anchor=\"middle\" x=\"228.5\" y=\"-171.8\" font-family=\"Helvetica,sans-Serif\" font-size=\"14.00\">sepal width (cm) &lt;= 1.65</text>\n<text text-anchor=\"middle\" x=\"228.5\" y=\"-156.8\" font-family=\"Helvetica,sans-Serif\" font-size=\"14.00\">gini = 0.054</text>\n<text text-anchor=\"middle\" x=\"228.5\" y=\"-141.8\" font-family=\"Helvetica,sans-Serif\" font-size=\"14.00\">samples = 36</text>\n<text text-anchor=\"middle\" x=\"228.5\" y=\"-126.8\" font-family=\"Helvetica,sans-Serif\" font-size=\"14.00\">value = [0, 35, 1]</text>\n<text text-anchor=\"middle\" x=\"228.5\" y=\"-111.8\" font-family=\"Helvetica,sans-Serif\" font-size=\"14.00\">class = Iris&#45;versicolor</text>\n</g>\n<!-- 3&#45;&gt;4 -->\n<g id=\"edge4\" class=\"edge\">\n<title>3&#45;&gt;4</title>\n<path fill=\"none\" stroke=\"black\" d=\"M379.36,-222.91C359.38,-212.79 337.84,-201.88 317.46,-191.56\"/>\n<polygon fill=\"black\" stroke=\"black\" points=\"319.01,-188.42 308.5,-187.02 315.84,-194.66 319.01,-188.42\"/>\n</g>\n<!-- 7 -->\n<g id=\"node8\" class=\"node\">\n<title>7</title>\n<path fill=\"#c09cf2\" stroke=\"black\" d=\"M530.5,-187C530.5,-187 388.5,-187 388.5,-187 382.5,-187 376.5,-181 376.5,-175 376.5,-175 376.5,-116 376.5,-116 376.5,-110 382.5,-104 388.5,-104 388.5,-104 530.5,-104 530.5,-104 536.5,-104 542.5,-110 542.5,-116 542.5,-116 542.5,-175 542.5,-175 542.5,-181 536.5,-187 530.5,-187\"/>\n<text text-anchor=\"middle\" x=\"459.5\" y=\"-171.8\" font-family=\"Helvetica,sans-Serif\" font-size=\"14.00\">sepal width (cm) &lt;= 1.55</text>\n<text text-anchor=\"middle\" x=\"459.5\" y=\"-156.8\" font-family=\"Helvetica,sans-Serif\" font-size=\"14.00\">gini = 0.444</text>\n<text text-anchor=\"middle\" x=\"459.5\" y=\"-141.8\" font-family=\"Helvetica,sans-Serif\" font-size=\"14.00\">samples = 6</text>\n<text text-anchor=\"middle\" x=\"459.5\" y=\"-126.8\" font-family=\"Helvetica,sans-Serif\" font-size=\"14.00\">value = [0, 2, 4]</text>\n<text text-anchor=\"middle\" x=\"459.5\" y=\"-111.8\" font-family=\"Helvetica,sans-Serif\" font-size=\"14.00\">class = Iris&#45;virginica</text>\n</g>\n<!-- 3&#45;&gt;7 -->\n<g id=\"edge7\" class=\"edge\">\n<title>3&#45;&gt;7</title>\n<path fill=\"none\" stroke=\"black\" d=\"M459.5,-222.91C459.5,-214.65 459.5,-205.86 459.5,-197.3\"/>\n<polygon fill=\"black\" stroke=\"black\" points=\"463,-197.02 459.5,-187.02 456,-197.02 463,-197.02\"/>\n</g>\n<!-- 5 -->\n<g id=\"node6\" class=\"node\">\n<title>5</title>\n<path fill=\"#39e581\" stroke=\"black\" d=\"M131,-68C131,-68 12,-68 12,-68 6,-68 0,-62 0,-56 0,-56 0,-12 0,-12 0,-6 6,0 12,0 12,0 131,0 131,0 137,0 143,-6 143,-12 143,-12 143,-56 143,-56 143,-62 137,-68 131,-68\"/>\n<text text-anchor=\"middle\" x=\"71.5\" y=\"-52.8\" font-family=\"Helvetica,sans-Serif\" font-size=\"14.00\">gini = 0.0</text>\n<text text-anchor=\"middle\" x=\"71.5\" y=\"-37.8\" font-family=\"Helvetica,sans-Serif\" font-size=\"14.00\">samples = 35</text>\n<text text-anchor=\"middle\" x=\"71.5\" y=\"-22.8\" font-family=\"Helvetica,sans-Serif\" font-size=\"14.00\">value = [0, 35, 0]</text>\n<text text-anchor=\"middle\" x=\"71.5\" y=\"-7.8\" font-family=\"Helvetica,sans-Serif\" font-size=\"14.00\">class = Iris&#45;versicolor</text>\n</g>\n<!-- 4&#45;&gt;5 -->\n<g id=\"edge5\" class=\"edge\">\n<title>4&#45;&gt;5</title>\n<path fill=\"none\" stroke=\"black\" d=\"M170.04,-103.73C156.18,-94.06 141.42,-83.77 127.66,-74.17\"/>\n<polygon fill=\"black\" stroke=\"black\" points=\"129.45,-71.15 119.24,-68.3 125.44,-76.89 129.45,-71.15\"/>\n</g>\n<!-- 6 -->\n<g id=\"node7\" class=\"node\">\n<title>6</title>\n<path fill=\"#8139e5\" stroke=\"black\" d=\"M284,-68C284,-68 173,-68 173,-68 167,-68 161,-62 161,-56 161,-56 161,-12 161,-12 161,-6 167,0 173,0 173,0 284,0 284,0 290,0 296,-6 296,-12 296,-12 296,-56 296,-56 296,-62 290,-68 284,-68\"/>\n<text text-anchor=\"middle\" x=\"228.5\" y=\"-52.8\" font-family=\"Helvetica,sans-Serif\" font-size=\"14.00\">gini = 0.0</text>\n<text text-anchor=\"middle\" x=\"228.5\" y=\"-37.8\" font-family=\"Helvetica,sans-Serif\" font-size=\"14.00\">samples = 1</text>\n<text text-anchor=\"middle\" x=\"228.5\" y=\"-22.8\" font-family=\"Helvetica,sans-Serif\" font-size=\"14.00\">value = [0, 0, 1]</text>\n<text text-anchor=\"middle\" x=\"228.5\" y=\"-7.8\" font-family=\"Helvetica,sans-Serif\" font-size=\"14.00\">class = Iris&#45;virginica</text>\n</g>\n<!-- 4&#45;&gt;6 -->\n<g id=\"edge6\" class=\"edge\">\n<title>4&#45;&gt;6</title>\n<path fill=\"none\" stroke=\"black\" d=\"M228.5,-103.73C228.5,-95.52 228.5,-86.86 228.5,-78.56\"/>\n<polygon fill=\"black\" stroke=\"black\" points=\"232,-78.3 228.5,-68.3 225,-78.3 232,-78.3\"/>\n</g>\n<!-- 8 -->\n<g id=\"node9\" class=\"node\">\n<title>8</title>\n<path fill=\"#8139e5\" stroke=\"black\" d=\"M437,-68C437,-68 326,-68 326,-68 320,-68 314,-62 314,-56 314,-56 314,-12 314,-12 314,-6 320,0 326,0 326,0 437,0 437,0 443,0 449,-6 449,-12 449,-12 449,-56 449,-56 449,-62 443,-68 437,-68\"/>\n<text text-anchor=\"middle\" x=\"381.5\" y=\"-52.8\" font-family=\"Helvetica,sans-Serif\" font-size=\"14.00\">gini = 0.0</text>\n<text text-anchor=\"middle\" x=\"381.5\" y=\"-37.8\" font-family=\"Helvetica,sans-Serif\" font-size=\"14.00\">samples = 3</text>\n<text text-anchor=\"middle\" x=\"381.5\" y=\"-22.8\" font-family=\"Helvetica,sans-Serif\" font-size=\"14.00\">value = [0, 0, 3]</text>\n<text text-anchor=\"middle\" x=\"381.5\" y=\"-7.8\" font-family=\"Helvetica,sans-Serif\" font-size=\"14.00\">class = Iris&#45;virginica</text>\n</g>\n<!-- 7&#45;&gt;8 -->\n<g id=\"edge8\" class=\"edge\">\n<title>7&#45;&gt;8</title>\n<path fill=\"none\" stroke=\"black\" d=\"M430.46,-103.73C424.15,-94.88 417.48,-85.51 411.15,-76.63\"/>\n<polygon fill=\"black\" stroke=\"black\" points=\"413.87,-74.41 405.22,-68.3 408.17,-78.48 413.87,-74.41\"/>\n</g>\n<!-- 9 -->\n<g id=\"node10\" class=\"node\">\n<title>9</title>\n<path fill=\"#9cf2c0\" stroke=\"black\" d=\"M598,-68C598,-68 479,-68 479,-68 473,-68 467,-62 467,-56 467,-56 467,-12 467,-12 467,-6 473,0 479,0 479,0 598,0 598,0 604,0 610,-6 610,-12 610,-12 610,-56 610,-56 610,-62 604,-68 598,-68\"/>\n<text text-anchor=\"middle\" x=\"538.5\" y=\"-52.8\" font-family=\"Helvetica,sans-Serif\" font-size=\"14.00\">gini = 0.444</text>\n<text text-anchor=\"middle\" x=\"538.5\" y=\"-37.8\" font-family=\"Helvetica,sans-Serif\" font-size=\"14.00\">samples = 3</text>\n<text text-anchor=\"middle\" x=\"538.5\" y=\"-22.8\" font-family=\"Helvetica,sans-Serif\" font-size=\"14.00\">value = [0, 2, 1]</text>\n<text text-anchor=\"middle\" x=\"538.5\" y=\"-7.8\" font-family=\"Helvetica,sans-Serif\" font-size=\"14.00\">class = Iris&#45;versicolor</text>\n</g>\n<!-- 7&#45;&gt;9 -->\n<g id=\"edge9\" class=\"edge\">\n<title>7&#45;&gt;9</title>\n<path fill=\"none\" stroke=\"black\" d=\"M488.92,-103.73C495.3,-94.88 502.06,-85.51 508.47,-76.63\"/>\n<polygon fill=\"black\" stroke=\"black\" points=\"511.46,-78.46 514.48,-68.3 505.79,-74.36 511.46,-78.46\"/>\n</g>\n<!-- 11 -->\n<g id=\"node12\" class=\"node\">\n<title>11</title>\n<path fill=\"#ffffff\" stroke=\"black\" d=\"M761,-187C761,-187 630,-187 630,-187 624,-187 618,-181 618,-175 618,-175 618,-116 618,-116 618,-110 624,-104 630,-104 630,-104 761,-104 761,-104 767,-104 773,-110 773,-116 773,-116 773,-175 773,-175 773,-181 767,-187 761,-187\"/>\n<text text-anchor=\"middle\" x=\"695.5\" y=\"-171.8\" font-family=\"Helvetica,sans-Serif\" font-size=\"14.00\">petal width (cm) &lt;= 3.1</text>\n<text text-anchor=\"middle\" x=\"695.5\" y=\"-156.8\" font-family=\"Helvetica,sans-Serif\" font-size=\"14.00\">gini = 0.5</text>\n<text text-anchor=\"middle\" x=\"695.5\" y=\"-141.8\" font-family=\"Helvetica,sans-Serif\" font-size=\"14.00\">samples = 2</text>\n<text text-anchor=\"middle\" x=\"695.5\" y=\"-126.8\" font-family=\"Helvetica,sans-Serif\" font-size=\"14.00\">value = [0, 1, 1]</text>\n<text text-anchor=\"middle\" x=\"695.5\" y=\"-111.8\" font-family=\"Helvetica,sans-Serif\" font-size=\"14.00\">class = Iris&#45;versicolor</text>\n</g>\n<!-- 10&#45;&gt;11 -->\n<g id=\"edge11\" class=\"edge\">\n<title>10&#45;&gt;11</title>\n<path fill=\"none\" stroke=\"black\" d=\"M695.5,-222.91C695.5,-214.65 695.5,-205.86 695.5,-197.3\"/>\n<polygon fill=\"black\" stroke=\"black\" points=\"699,-197.02 695.5,-187.02 692,-197.02 699,-197.02\"/>\n</g>\n<!-- 14 -->\n<g id=\"node15\" class=\"node\">\n<title>14</title>\n<path fill=\"#8139e5\" stroke=\"black\" d=\"M914,-179.5C914,-179.5 803,-179.5 803,-179.5 797,-179.5 791,-173.5 791,-167.5 791,-167.5 791,-123.5 791,-123.5 791,-117.5 797,-111.5 803,-111.5 803,-111.5 914,-111.5 914,-111.5 920,-111.5 926,-117.5 926,-123.5 926,-123.5 926,-167.5 926,-167.5 926,-173.5 920,-179.5 914,-179.5\"/>\n<text text-anchor=\"middle\" x=\"858.5\" y=\"-164.3\" font-family=\"Helvetica,sans-Serif\" font-size=\"14.00\">gini = 0.0</text>\n<text text-anchor=\"middle\" x=\"858.5\" y=\"-149.3\" font-family=\"Helvetica,sans-Serif\" font-size=\"14.00\">samples = 34</text>\n<text text-anchor=\"middle\" x=\"858.5\" y=\"-134.3\" font-family=\"Helvetica,sans-Serif\" font-size=\"14.00\">value = [0, 0, 34]</text>\n<text text-anchor=\"middle\" x=\"858.5\" y=\"-119.3\" font-family=\"Helvetica,sans-Serif\" font-size=\"14.00\">class = Iris&#45;virginica</text>\n</g>\n<!-- 10&#45;&gt;14 -->\n<g id=\"edge14\" class=\"edge\">\n<title>10&#45;&gt;14</title>\n<path fill=\"none\" stroke=\"black\" d=\"M752.05,-222.91C768.81,-210.88 787.12,-197.73 803.76,-185.79\"/>\n<polygon fill=\"black\" stroke=\"black\" points=\"806.21,-188.34 812.29,-179.67 802.13,-182.65 806.21,-188.34\"/>\n</g>\n<!-- 12 -->\n<g id=\"node13\" class=\"node\">\n<title>12</title>\n<path fill=\"#8139e5\" stroke=\"black\" d=\"M751,-68C751,-68 640,-68 640,-68 634,-68 628,-62 628,-56 628,-56 628,-12 628,-12 628,-6 634,0 640,0 640,0 751,0 751,0 757,0 763,-6 763,-12 763,-12 763,-56 763,-56 763,-62 757,-68 751,-68\"/>\n<text text-anchor=\"middle\" x=\"695.5\" y=\"-52.8\" font-family=\"Helvetica,sans-Serif\" font-size=\"14.00\">gini = 0.0</text>\n<text text-anchor=\"middle\" x=\"695.5\" y=\"-37.8\" font-family=\"Helvetica,sans-Serif\" font-size=\"14.00\">samples = 1</text>\n<text text-anchor=\"middle\" x=\"695.5\" y=\"-22.8\" font-family=\"Helvetica,sans-Serif\" font-size=\"14.00\">value = [0, 0, 1]</text>\n<text text-anchor=\"middle\" x=\"695.5\" y=\"-7.8\" font-family=\"Helvetica,sans-Serif\" font-size=\"14.00\">class = Iris&#45;virginica</text>\n</g>\n<!-- 11&#45;&gt;12 -->\n<g id=\"edge12\" class=\"edge\">\n<title>11&#45;&gt;12</title>\n<path fill=\"none\" stroke=\"black\" d=\"M695.5,-103.73C695.5,-95.52 695.5,-86.86 695.5,-78.56\"/>\n<polygon fill=\"black\" stroke=\"black\" points=\"699,-78.3 695.5,-68.3 692,-78.3 699,-78.3\"/>\n</g>\n<!-- 13 -->\n<g id=\"node14\" class=\"node\">\n<title>13</title>\n<path fill=\"#39e581\" stroke=\"black\" d=\"M912,-68C912,-68 793,-68 793,-68 787,-68 781,-62 781,-56 781,-56 781,-12 781,-12 781,-6 787,0 793,0 793,0 912,0 912,0 918,0 924,-6 924,-12 924,-12 924,-56 924,-56 924,-62 918,-68 912,-68\"/>\n<text text-anchor=\"middle\" x=\"852.5\" y=\"-52.8\" font-family=\"Helvetica,sans-Serif\" font-size=\"14.00\">gini = 0.0</text>\n<text text-anchor=\"middle\" x=\"852.5\" y=\"-37.8\" font-family=\"Helvetica,sans-Serif\" font-size=\"14.00\">samples = 1</text>\n<text text-anchor=\"middle\" x=\"852.5\" y=\"-22.8\" font-family=\"Helvetica,sans-Serif\" font-size=\"14.00\">value = [0, 1, 0]</text>\n<text text-anchor=\"middle\" x=\"852.5\" y=\"-7.8\" font-family=\"Helvetica,sans-Serif\" font-size=\"14.00\">class = Iris&#45;versicolor</text>\n</g>\n<!-- 11&#45;&gt;13 -->\n<g id=\"edge13\" class=\"edge\">\n<title>11&#45;&gt;13</title>\n<path fill=\"none\" stroke=\"black\" d=\"M753.96,-103.73C767.82,-94.06 782.58,-83.77 796.34,-74.17\"/>\n<polygon fill=\"black\" stroke=\"black\" points=\"798.56,-76.89 804.76,-68.3 794.55,-71.15 798.56,-76.89\"/>\n</g>\n</g>\n</svg>\n",
            "text/plain": [
              "<graphviz.sources.Source at 0x7dcc37d08610>"
            ]
          },
          "metadata": {},
          "execution_count": 199
        }
      ]
    },
    {
      "cell_type": "code",
      "source": [
        "from sklearn.metrics import accuracy_score, precision_recall_fscore_support, confusion_matrix\n",
        "\n",
        "# predictions on training and testing data\n",
        "y_train_pred = tree_clf_i.predict(X_train_plpw)\n",
        "y_test_pred = tree_clf_i.predict(X_test_plpw)\n",
        "\n",
        "# calculating accuracy on training and testing data\n",
        "train_accuracy = accuracy_score(y_train_tok, y_train_pred)\n",
        "test_accuracy = accuracy_score(y_test_tok, y_test_pred)\n",
        "\n",
        "# computing precision, recall, F1 scores on training and testing data\n",
        "train_precision, train_recall, train_f1_score, _ = precision_recall_fscore_support(y_train_tok, y_train_pred, average='weighted')\n",
        "test_precision, test_recall, test_f1_score, _ = precision_recall_fscore_support(y_test_tok, y_test_pred, average='weighted')\n",
        "\n",
        "# confusion matrix for training and testing data\n",
        "train_conf_matrix = confusion_matrix(y_train_tok, y_train_pred)\n",
        "test_conf_matrix = confusion_matrix(y_test_tok, y_test_pred)"
      ],
      "metadata": {
        "id": "r8oz71EWB6a1"
      },
      "execution_count": 200,
      "outputs": []
    },
    {
      "cell_type": "code",
      "source": [
        "# Printing results\n",
        "print(\"Training Accuracy:\", train_accuracy)\n",
        "print(\"Test Accuracy:\", test_accuracy)\n",
        "\n",
        "print(\"\\nTraining Precision:\", train_precision)\n",
        "print(\"Training Recall:\", train_recall)\n",
        "print(\"Training F1 Score:\", train_f1_score)\n",
        "\n",
        "print(\"\\nTest Precision:\", test_precision)\n",
        "print(\"Test Recall:\", test_recall)\n",
        "print(\"Test F1 Score:\", test_f1_score)\n",
        "\n",
        "print(\"\\nConfusion Matrix (Training Data):\\n\", train_conf_matrix)\n",
        "print(\"\\nConfusion Matrix (Test Data):\\n\", test_conf_matrix)"
      ],
      "metadata": {
        "colab": {
          "base_uri": "https://localhost:8080/"
        },
        "id": "o5sJz3FtCNLU",
        "outputId": "9d84f427-8606-46f7-a77e-8d96deb1aeb3"
      },
      "execution_count": 201,
      "outputs": [
        {
          "output_type": "stream",
          "name": "stdout",
          "text": [
            "Training Accuracy: 0.9916666666666667\n",
            "Test Accuracy: 1.0\n",
            "\n",
            "Training Precision: 0.9918803418803418\n",
            "Training Recall: 0.9916666666666667\n",
            "Training F1 Score: 0.9916680366047453\n",
            "\n",
            "Test Precision: 1.0\n",
            "Test Recall: 1.0\n",
            "Test F1 Score: 1.0\n",
            "\n",
            "Confusion Matrix (Training Data):\n",
            " [[42  0  0]\n",
            " [ 0 38  0]\n",
            " [ 0  1 39]]\n",
            "\n",
            "Confusion Matrix (Test Data):\n",
            " [[ 8  0  0]\n",
            " [ 0 12  0]\n",
            " [ 0  0 10]]\n"
          ]
        }
      ]
    },
    {
      "cell_type": "markdown",
      "source": [
        "# Discussion\n",
        "The model appears to perform very well on both the training and testing sets. The model has an accuracy score of .99 on the training set and 1.0 on the test set. I believe that these scores are this high because I believe that the ideal max depth is 4 for this decision tree. My reasoning for this is that this is the value that results in the highest accuracy scores for the model. When compared to the bivariate model results obtained in the class, this model performs even better. The in class model resulted in accuracy scores of .98 and .96, which are slighly lower than the scores found through this model. The same applies for the precision, recall, and F1 scores."
      ],
      "metadata": {
        "id": "jlvMGlgVK-hk"
      }
    },
    {
      "cell_type": "markdown",
      "source": [
        "# Exercise 2 - Decision tree on obesity data\n",
        "\n",
        "Train a decision tree that is able to predict a person's degree of obesity based on their eating and exercise habits.  \n",
        "\n",
        "* Once your model is trained, evaluate its accuracy on the training and test data.  Present and discuss the **precision, recall, F1 scores, and the confusion matrix.**  \n",
        "\n",
        "* For your decision tree, present the **max_depth** value that results in the best model performance overall on the training and test data and explain how you determined this value.  \n",
        "\n",
        "* Compare your results to the multivariate SGD classifier and the SVM classifier from problem #1 in the previous homework (you may use my solutions or your own).\n",
        "\n",
        "* Present your final discussion/comparison in a seprate Markdown cell at the end of your analysis"
      ],
      "metadata": {
        "id": "GhqKmf37tmzW"
      }
    },
    {
      "cell_type": "markdown",
      "source": [
        "### Preparing the dataframe"
      ],
      "metadata": {
        "id": "vgY-yK8r95ec"
      }
    },
    {
      "cell_type": "markdown",
      "source": [
        "This dataset was retrieve from Kaggle.  It contains peronal demographic information and attributes related to eating habits for 2111 individuals.  The question is, **how well can we predict obesity based on calorie intake and expenditure**\n",
        "\n",
        "Personal Demographic features are:\n",
        "Gender, Age, Height, Weight, family history\n",
        "\n",
        "Attributes related to eating habits:\n",
        "* FAVC - Frequent of consumption of high caloric food (yes/no)\n",
        "* FCVC - Frequency of consumption of vegetables (servg per day)\n",
        "* NCP - Number of main meals (1-4)\n",
        "* CAEC - Consumption of food between meals (Sometimes', 'Frequently', 'Always', 'no')\n",
        "* SMOKE - Smoking (yes/no)\n",
        "* CH20 - Daily consumption of water (1-3 L)\n",
        "* SCC - Caloric consumption monitoring (yes/no)\n",
        "* FAF - Physical activity frequency (0-3 hours)\n",
        "* TUE - Time using technology devices (0-2 hours)\n",
        "* CALC - Consumption of alcohol ('no', 'Sometimes', 'Frequently', 'Always')\n",
        "* MTRANS - Transportation used ('Public_Transportation', 'Walking', 'Automobile', 'Motorbike', 'Bike')\n",
        "* NObeyesdad - Degree of obesity (Underweight, Normal, Overweight_I,\n",
        " Overweight_II, Obesity_I, Obesity_II, Obesity_III)"
      ],
      "metadata": {
        "id": "EkTMW9HI95ec"
      }
    },
    {
      "cell_type": "code",
      "source": [
        "web_path = 'http://public.gettysburg.edu/~rjohnson/ds325/' #if using data over web\n",
        "df_o = pd.read_csv(web_path+'ObesityDataSet.csv')\n"
      ],
      "metadata": {
        "id": "gK3Yy8Rc95ed"
      },
      "execution_count": 202,
      "outputs": []
    },
    {
      "cell_type": "code",
      "source": [
        "#df_o.info()"
      ],
      "metadata": {
        "id": "eigbsV-L95ed"
      },
      "execution_count": 203,
      "outputs": []
    },
    {
      "cell_type": "markdown",
      "source": [
        "Our task will be to train a classifier that can predict a person's degree of obesity based on their eating and exercise habits.  Since we want a person's obesity class to be a function only of these variables, we will intentionally ignore Age, Height, and Weight (which most certainly are correlated with obesity).  The strategy will be to:\n",
        "\n",
        "* convert categorical features to numerical\n",
        "* examine variable distribution for stratifying purposes\n",
        "* train a decision tree\n",
        "* determine the optimal tree depth that maximizes both our training and testing performance\n"
      ],
      "metadata": {
        "id": "SFsPoxkr95ee"
      }
    },
    {
      "cell_type": "code",
      "source": [
        "# rename columns\n",
        "df_o.rename(columns={\"family_history_with_overweight\": \"hist\"}, inplace=True)\n",
        "df_o.rename(columns={\"NObeyesdad\": \"obes\"}, inplace=True)"
      ],
      "metadata": {
        "id": "NPZaUXBw95ef"
      },
      "execution_count": 204,
      "outputs": []
    },
    {
      "cell_type": "code",
      "source": [
        "# I'm manually encoding the obesity classification because when I used\n",
        "# LabelEncoder(), it put them in alphabetical order, which wasn't helpful\n",
        "\n",
        "df_o['obes'].replace({'Insufficient_Weight':0, 'Normal_Weight':1,\n",
        "                                'Overweight_Level_I':2, 'Overweight_Level_II':3,\n",
        "                                'Obesity_Type_I':4, 'Obesity_Type_II':5,\n",
        "                                'Obesity_Type_III':6},inplace=True)"
      ],
      "metadata": {
        "id": "T16ottnn95eg"
      },
      "execution_count": 205,
      "outputs": []
    },
    {
      "cell_type": "code",
      "source": [
        "df_o"
      ],
      "metadata": {
        "colab": {
          "base_uri": "https://localhost:8080/",
          "height": 439
        },
        "id": "sCYL6NLwzhmE",
        "outputId": "51991674-4cbb-49d3-be6a-8e01d0385c89"
      },
      "execution_count": 206,
      "outputs": [
        {
          "output_type": "execute_result",
          "data": {
            "text/plain": [
              "      Gender        Age    Height      Weight hist FAVC  FCVC  NCP       CAEC  \\\n",
              "0     Female  21.000000  1.620000   64.000000  yes   no   2.0  3.0  Sometimes   \n",
              "1     Female  21.000000  1.520000   56.000000  yes   no   3.0  3.0  Sometimes   \n",
              "2       Male  23.000000  1.800000   77.000000  yes   no   2.0  3.0  Sometimes   \n",
              "3       Male  27.000000  1.800000   87.000000   no   no   3.0  3.0  Sometimes   \n",
              "4       Male  22.000000  1.780000   89.800000   no   no   2.0  1.0  Sometimes   \n",
              "...      ...        ...       ...         ...  ...  ...   ...  ...        ...   \n",
              "2106  Female  20.976842  1.710730  131.408528  yes  yes   3.0  3.0  Sometimes   \n",
              "2107  Female  21.982942  1.748584  133.742943  yes  yes   3.0  3.0  Sometimes   \n",
              "2108  Female  22.524036  1.752206  133.689352  yes  yes   3.0  3.0  Sometimes   \n",
              "2109  Female  24.361936  1.739450  133.346641  yes  yes   3.0  3.0  Sometimes   \n",
              "2110  Female  23.664709  1.738836  133.472641  yes  yes   3.0  3.0  Sometimes   \n",
              "\n",
              "     SMOKE      CH2O  SCC       FAF       TUE        CALC  \\\n",
              "0       no  2.000000   no  0.000000  1.000000          no   \n",
              "1      yes  3.000000  yes  3.000000  0.000000   Sometimes   \n",
              "2       no  2.000000   no  2.000000  1.000000  Frequently   \n",
              "3       no  2.000000   no  2.000000  0.000000  Frequently   \n",
              "4       no  2.000000   no  0.000000  0.000000   Sometimes   \n",
              "...    ...       ...  ...       ...       ...         ...   \n",
              "2106    no  1.728139   no  1.676269  0.906247   Sometimes   \n",
              "2107    no  2.005130   no  1.341390  0.599270   Sometimes   \n",
              "2108    no  2.054193   no  1.414209  0.646288   Sometimes   \n",
              "2109    no  2.852339   no  1.139107  0.586035   Sometimes   \n",
              "2110    no  2.863513   no  1.026452  0.714137   Sometimes   \n",
              "\n",
              "                     MTRANS  obes  \n",
              "0     Public_Transportation     1  \n",
              "1     Public_Transportation     1  \n",
              "2     Public_Transportation     1  \n",
              "3                   Walking     2  \n",
              "4     Public_Transportation     3  \n",
              "...                     ...   ...  \n",
              "2106  Public_Transportation     6  \n",
              "2107  Public_Transportation     6  \n",
              "2108  Public_Transportation     6  \n",
              "2109  Public_Transportation     6  \n",
              "2110  Public_Transportation     6  \n",
              "\n",
              "[2111 rows x 17 columns]"
            ],
            "text/html": [
              "\n",
              "  <div id=\"df-2117e9d4-14ed-490e-aaf6-62a851dfa014\" class=\"colab-df-container\">\n",
              "    <div>\n",
              "<style scoped>\n",
              "    .dataframe tbody tr th:only-of-type {\n",
              "        vertical-align: middle;\n",
              "    }\n",
              "\n",
              "    .dataframe tbody tr th {\n",
              "        vertical-align: top;\n",
              "    }\n",
              "\n",
              "    .dataframe thead th {\n",
              "        text-align: right;\n",
              "    }\n",
              "</style>\n",
              "<table border=\"1\" class=\"dataframe\">\n",
              "  <thead>\n",
              "    <tr style=\"text-align: right;\">\n",
              "      <th></th>\n",
              "      <th>Gender</th>\n",
              "      <th>Age</th>\n",
              "      <th>Height</th>\n",
              "      <th>Weight</th>\n",
              "      <th>hist</th>\n",
              "      <th>FAVC</th>\n",
              "      <th>FCVC</th>\n",
              "      <th>NCP</th>\n",
              "      <th>CAEC</th>\n",
              "      <th>SMOKE</th>\n",
              "      <th>CH2O</th>\n",
              "      <th>SCC</th>\n",
              "      <th>FAF</th>\n",
              "      <th>TUE</th>\n",
              "      <th>CALC</th>\n",
              "      <th>MTRANS</th>\n",
              "      <th>obes</th>\n",
              "    </tr>\n",
              "  </thead>\n",
              "  <tbody>\n",
              "    <tr>\n",
              "      <th>0</th>\n",
              "      <td>Female</td>\n",
              "      <td>21.000000</td>\n",
              "      <td>1.620000</td>\n",
              "      <td>64.000000</td>\n",
              "      <td>yes</td>\n",
              "      <td>no</td>\n",
              "      <td>2.0</td>\n",
              "      <td>3.0</td>\n",
              "      <td>Sometimes</td>\n",
              "      <td>no</td>\n",
              "      <td>2.000000</td>\n",
              "      <td>no</td>\n",
              "      <td>0.000000</td>\n",
              "      <td>1.000000</td>\n",
              "      <td>no</td>\n",
              "      <td>Public_Transportation</td>\n",
              "      <td>1</td>\n",
              "    </tr>\n",
              "    <tr>\n",
              "      <th>1</th>\n",
              "      <td>Female</td>\n",
              "      <td>21.000000</td>\n",
              "      <td>1.520000</td>\n",
              "      <td>56.000000</td>\n",
              "      <td>yes</td>\n",
              "      <td>no</td>\n",
              "      <td>3.0</td>\n",
              "      <td>3.0</td>\n",
              "      <td>Sometimes</td>\n",
              "      <td>yes</td>\n",
              "      <td>3.000000</td>\n",
              "      <td>yes</td>\n",
              "      <td>3.000000</td>\n",
              "      <td>0.000000</td>\n",
              "      <td>Sometimes</td>\n",
              "      <td>Public_Transportation</td>\n",
              "      <td>1</td>\n",
              "    </tr>\n",
              "    <tr>\n",
              "      <th>2</th>\n",
              "      <td>Male</td>\n",
              "      <td>23.000000</td>\n",
              "      <td>1.800000</td>\n",
              "      <td>77.000000</td>\n",
              "      <td>yes</td>\n",
              "      <td>no</td>\n",
              "      <td>2.0</td>\n",
              "      <td>3.0</td>\n",
              "      <td>Sometimes</td>\n",
              "      <td>no</td>\n",
              "      <td>2.000000</td>\n",
              "      <td>no</td>\n",
              "      <td>2.000000</td>\n",
              "      <td>1.000000</td>\n",
              "      <td>Frequently</td>\n",
              "      <td>Public_Transportation</td>\n",
              "      <td>1</td>\n",
              "    </tr>\n",
              "    <tr>\n",
              "      <th>3</th>\n",
              "      <td>Male</td>\n",
              "      <td>27.000000</td>\n",
              "      <td>1.800000</td>\n",
              "      <td>87.000000</td>\n",
              "      <td>no</td>\n",
              "      <td>no</td>\n",
              "      <td>3.0</td>\n",
              "      <td>3.0</td>\n",
              "      <td>Sometimes</td>\n",
              "      <td>no</td>\n",
              "      <td>2.000000</td>\n",
              "      <td>no</td>\n",
              "      <td>2.000000</td>\n",
              "      <td>0.000000</td>\n",
              "      <td>Frequently</td>\n",
              "      <td>Walking</td>\n",
              "      <td>2</td>\n",
              "    </tr>\n",
              "    <tr>\n",
              "      <th>4</th>\n",
              "      <td>Male</td>\n",
              "      <td>22.000000</td>\n",
              "      <td>1.780000</td>\n",
              "      <td>89.800000</td>\n",
              "      <td>no</td>\n",
              "      <td>no</td>\n",
              "      <td>2.0</td>\n",
              "      <td>1.0</td>\n",
              "      <td>Sometimes</td>\n",
              "      <td>no</td>\n",
              "      <td>2.000000</td>\n",
              "      <td>no</td>\n",
              "      <td>0.000000</td>\n",
              "      <td>0.000000</td>\n",
              "      <td>Sometimes</td>\n",
              "      <td>Public_Transportation</td>\n",
              "      <td>3</td>\n",
              "    </tr>\n",
              "    <tr>\n",
              "      <th>...</th>\n",
              "      <td>...</td>\n",
              "      <td>...</td>\n",
              "      <td>...</td>\n",
              "      <td>...</td>\n",
              "      <td>...</td>\n",
              "      <td>...</td>\n",
              "      <td>...</td>\n",
              "      <td>...</td>\n",
              "      <td>...</td>\n",
              "      <td>...</td>\n",
              "      <td>...</td>\n",
              "      <td>...</td>\n",
              "      <td>...</td>\n",
              "      <td>...</td>\n",
              "      <td>...</td>\n",
              "      <td>...</td>\n",
              "      <td>...</td>\n",
              "    </tr>\n",
              "    <tr>\n",
              "      <th>2106</th>\n",
              "      <td>Female</td>\n",
              "      <td>20.976842</td>\n",
              "      <td>1.710730</td>\n",
              "      <td>131.408528</td>\n",
              "      <td>yes</td>\n",
              "      <td>yes</td>\n",
              "      <td>3.0</td>\n",
              "      <td>3.0</td>\n",
              "      <td>Sometimes</td>\n",
              "      <td>no</td>\n",
              "      <td>1.728139</td>\n",
              "      <td>no</td>\n",
              "      <td>1.676269</td>\n",
              "      <td>0.906247</td>\n",
              "      <td>Sometimes</td>\n",
              "      <td>Public_Transportation</td>\n",
              "      <td>6</td>\n",
              "    </tr>\n",
              "    <tr>\n",
              "      <th>2107</th>\n",
              "      <td>Female</td>\n",
              "      <td>21.982942</td>\n",
              "      <td>1.748584</td>\n",
              "      <td>133.742943</td>\n",
              "      <td>yes</td>\n",
              "      <td>yes</td>\n",
              "      <td>3.0</td>\n",
              "      <td>3.0</td>\n",
              "      <td>Sometimes</td>\n",
              "      <td>no</td>\n",
              "      <td>2.005130</td>\n",
              "      <td>no</td>\n",
              "      <td>1.341390</td>\n",
              "      <td>0.599270</td>\n",
              "      <td>Sometimes</td>\n",
              "      <td>Public_Transportation</td>\n",
              "      <td>6</td>\n",
              "    </tr>\n",
              "    <tr>\n",
              "      <th>2108</th>\n",
              "      <td>Female</td>\n",
              "      <td>22.524036</td>\n",
              "      <td>1.752206</td>\n",
              "      <td>133.689352</td>\n",
              "      <td>yes</td>\n",
              "      <td>yes</td>\n",
              "      <td>3.0</td>\n",
              "      <td>3.0</td>\n",
              "      <td>Sometimes</td>\n",
              "      <td>no</td>\n",
              "      <td>2.054193</td>\n",
              "      <td>no</td>\n",
              "      <td>1.414209</td>\n",
              "      <td>0.646288</td>\n",
              "      <td>Sometimes</td>\n",
              "      <td>Public_Transportation</td>\n",
              "      <td>6</td>\n",
              "    </tr>\n",
              "    <tr>\n",
              "      <th>2109</th>\n",
              "      <td>Female</td>\n",
              "      <td>24.361936</td>\n",
              "      <td>1.739450</td>\n",
              "      <td>133.346641</td>\n",
              "      <td>yes</td>\n",
              "      <td>yes</td>\n",
              "      <td>3.0</td>\n",
              "      <td>3.0</td>\n",
              "      <td>Sometimes</td>\n",
              "      <td>no</td>\n",
              "      <td>2.852339</td>\n",
              "      <td>no</td>\n",
              "      <td>1.139107</td>\n",
              "      <td>0.586035</td>\n",
              "      <td>Sometimes</td>\n",
              "      <td>Public_Transportation</td>\n",
              "      <td>6</td>\n",
              "    </tr>\n",
              "    <tr>\n",
              "      <th>2110</th>\n",
              "      <td>Female</td>\n",
              "      <td>23.664709</td>\n",
              "      <td>1.738836</td>\n",
              "      <td>133.472641</td>\n",
              "      <td>yes</td>\n",
              "      <td>yes</td>\n",
              "      <td>3.0</td>\n",
              "      <td>3.0</td>\n",
              "      <td>Sometimes</td>\n",
              "      <td>no</td>\n",
              "      <td>2.863513</td>\n",
              "      <td>no</td>\n",
              "      <td>1.026452</td>\n",
              "      <td>0.714137</td>\n",
              "      <td>Sometimes</td>\n",
              "      <td>Public_Transportation</td>\n",
              "      <td>6</td>\n",
              "    </tr>\n",
              "  </tbody>\n",
              "</table>\n",
              "<p>2111 rows × 17 columns</p>\n",
              "</div>\n",
              "    <div class=\"colab-df-buttons\">\n",
              "\n",
              "  <div class=\"colab-df-container\">\n",
              "    <button class=\"colab-df-convert\" onclick=\"convertToInteractive('df-2117e9d4-14ed-490e-aaf6-62a851dfa014')\"\n",
              "            title=\"Convert this dataframe to an interactive table.\"\n",
              "            style=\"display:none;\">\n",
              "\n",
              "  <svg xmlns=\"http://www.w3.org/2000/svg\" height=\"24px\" viewBox=\"0 -960 960 960\">\n",
              "    <path d=\"M120-120v-720h720v720H120Zm60-500h600v-160H180v160Zm220 220h160v-160H400v160Zm0 220h160v-160H400v160ZM180-400h160v-160H180v160Zm440 0h160v-160H620v160ZM180-180h160v-160H180v160Zm440 0h160v-160H620v160Z\"/>\n",
              "  </svg>\n",
              "    </button>\n",
              "\n",
              "  <style>\n",
              "    .colab-df-container {\n",
              "      display:flex;\n",
              "      gap: 12px;\n",
              "    }\n",
              "\n",
              "    .colab-df-convert {\n",
              "      background-color: #E8F0FE;\n",
              "      border: none;\n",
              "      border-radius: 50%;\n",
              "      cursor: pointer;\n",
              "      display: none;\n",
              "      fill: #1967D2;\n",
              "      height: 32px;\n",
              "      padding: 0 0 0 0;\n",
              "      width: 32px;\n",
              "    }\n",
              "\n",
              "    .colab-df-convert:hover {\n",
              "      background-color: #E2EBFA;\n",
              "      box-shadow: 0px 1px 2px rgba(60, 64, 67, 0.3), 0px 1px 3px 1px rgba(60, 64, 67, 0.15);\n",
              "      fill: #174EA6;\n",
              "    }\n",
              "\n",
              "    .colab-df-buttons div {\n",
              "      margin-bottom: 4px;\n",
              "    }\n",
              "\n",
              "    [theme=dark] .colab-df-convert {\n",
              "      background-color: #3B4455;\n",
              "      fill: #D2E3FC;\n",
              "    }\n",
              "\n",
              "    [theme=dark] .colab-df-convert:hover {\n",
              "      background-color: #434B5C;\n",
              "      box-shadow: 0px 1px 3px 1px rgba(0, 0, 0, 0.15);\n",
              "      filter: drop-shadow(0px 1px 2px rgba(0, 0, 0, 0.3));\n",
              "      fill: #FFFFFF;\n",
              "    }\n",
              "  </style>\n",
              "\n",
              "    <script>\n",
              "      const buttonEl =\n",
              "        document.querySelector('#df-2117e9d4-14ed-490e-aaf6-62a851dfa014 button.colab-df-convert');\n",
              "      buttonEl.style.display =\n",
              "        google.colab.kernel.accessAllowed ? 'block' : 'none';\n",
              "\n",
              "      async function convertToInteractive(key) {\n",
              "        const element = document.querySelector('#df-2117e9d4-14ed-490e-aaf6-62a851dfa014');\n",
              "        const dataTable =\n",
              "          await google.colab.kernel.invokeFunction('convertToInteractive',\n",
              "                                                    [key], {});\n",
              "        if (!dataTable) return;\n",
              "\n",
              "        const docLinkHtml = 'Like what you see? Visit the ' +\n",
              "          '<a target=\"_blank\" href=https://colab.research.google.com/notebooks/data_table.ipynb>data table notebook</a>'\n",
              "          + ' to learn more about interactive tables.';\n",
              "        element.innerHTML = '';\n",
              "        dataTable['output_type'] = 'display_data';\n",
              "        await google.colab.output.renderOutput(dataTable, element);\n",
              "        const docLink = document.createElement('div');\n",
              "        docLink.innerHTML = docLinkHtml;\n",
              "        element.appendChild(docLink);\n",
              "      }\n",
              "    </script>\n",
              "  </div>\n",
              "\n",
              "\n",
              "<div id=\"df-a7c9b20b-6d16-47b2-8f5f-2170a47a791f\">\n",
              "  <button class=\"colab-df-quickchart\" onclick=\"quickchart('df-a7c9b20b-6d16-47b2-8f5f-2170a47a791f')\"\n",
              "            title=\"Suggest charts\"\n",
              "            style=\"display:none;\">\n",
              "\n",
              "<svg xmlns=\"http://www.w3.org/2000/svg\" height=\"24px\"viewBox=\"0 0 24 24\"\n",
              "     width=\"24px\">\n",
              "    <g>\n",
              "        <path d=\"M19 3H5c-1.1 0-2 .9-2 2v14c0 1.1.9 2 2 2h14c1.1 0 2-.9 2-2V5c0-1.1-.9-2-2-2zM9 17H7v-7h2v7zm4 0h-2V7h2v10zm4 0h-2v-4h2v4z\"/>\n",
              "    </g>\n",
              "</svg>\n",
              "  </button>\n",
              "\n",
              "<style>\n",
              "  .colab-df-quickchart {\n",
              "      --bg-color: #E8F0FE;\n",
              "      --fill-color: #1967D2;\n",
              "      --hover-bg-color: #E2EBFA;\n",
              "      --hover-fill-color: #174EA6;\n",
              "      --disabled-fill-color: #AAA;\n",
              "      --disabled-bg-color: #DDD;\n",
              "  }\n",
              "\n",
              "  [theme=dark] .colab-df-quickchart {\n",
              "      --bg-color: #3B4455;\n",
              "      --fill-color: #D2E3FC;\n",
              "      --hover-bg-color: #434B5C;\n",
              "      --hover-fill-color: #FFFFFF;\n",
              "      --disabled-bg-color: #3B4455;\n",
              "      --disabled-fill-color: #666;\n",
              "  }\n",
              "\n",
              "  .colab-df-quickchart {\n",
              "    background-color: var(--bg-color);\n",
              "    border: none;\n",
              "    border-radius: 50%;\n",
              "    cursor: pointer;\n",
              "    display: none;\n",
              "    fill: var(--fill-color);\n",
              "    height: 32px;\n",
              "    padding: 0;\n",
              "    width: 32px;\n",
              "  }\n",
              "\n",
              "  .colab-df-quickchart:hover {\n",
              "    background-color: var(--hover-bg-color);\n",
              "    box-shadow: 0 1px 2px rgba(60, 64, 67, 0.3), 0 1px 3px 1px rgba(60, 64, 67, 0.15);\n",
              "    fill: var(--button-hover-fill-color);\n",
              "  }\n",
              "\n",
              "  .colab-df-quickchart-complete:disabled,\n",
              "  .colab-df-quickchart-complete:disabled:hover {\n",
              "    background-color: var(--disabled-bg-color);\n",
              "    fill: var(--disabled-fill-color);\n",
              "    box-shadow: none;\n",
              "  }\n",
              "\n",
              "  .colab-df-spinner {\n",
              "    border: 2px solid var(--fill-color);\n",
              "    border-color: transparent;\n",
              "    border-bottom-color: var(--fill-color);\n",
              "    animation:\n",
              "      spin 1s steps(1) infinite;\n",
              "  }\n",
              "\n",
              "  @keyframes spin {\n",
              "    0% {\n",
              "      border-color: transparent;\n",
              "      border-bottom-color: var(--fill-color);\n",
              "      border-left-color: var(--fill-color);\n",
              "    }\n",
              "    20% {\n",
              "      border-color: transparent;\n",
              "      border-left-color: var(--fill-color);\n",
              "      border-top-color: var(--fill-color);\n",
              "    }\n",
              "    30% {\n",
              "      border-color: transparent;\n",
              "      border-left-color: var(--fill-color);\n",
              "      border-top-color: var(--fill-color);\n",
              "      border-right-color: var(--fill-color);\n",
              "    }\n",
              "    40% {\n",
              "      border-color: transparent;\n",
              "      border-right-color: var(--fill-color);\n",
              "      border-top-color: var(--fill-color);\n",
              "    }\n",
              "    60% {\n",
              "      border-color: transparent;\n",
              "      border-right-color: var(--fill-color);\n",
              "    }\n",
              "    80% {\n",
              "      border-color: transparent;\n",
              "      border-right-color: var(--fill-color);\n",
              "      border-bottom-color: var(--fill-color);\n",
              "    }\n",
              "    90% {\n",
              "      border-color: transparent;\n",
              "      border-bottom-color: var(--fill-color);\n",
              "    }\n",
              "  }\n",
              "</style>\n",
              "\n",
              "  <script>\n",
              "    async function quickchart(key) {\n",
              "      const quickchartButtonEl =\n",
              "        document.querySelector('#' + key + ' button');\n",
              "      quickchartButtonEl.disabled = true;  // To prevent multiple clicks.\n",
              "      quickchartButtonEl.classList.add('colab-df-spinner');\n",
              "      try {\n",
              "        const charts = await google.colab.kernel.invokeFunction(\n",
              "            'suggestCharts', [key], {});\n",
              "      } catch (error) {\n",
              "        console.error('Error during call to suggestCharts:', error);\n",
              "      }\n",
              "      quickchartButtonEl.classList.remove('colab-df-spinner');\n",
              "      quickchartButtonEl.classList.add('colab-df-quickchart-complete');\n",
              "    }\n",
              "    (() => {\n",
              "      let quickchartButtonEl =\n",
              "        document.querySelector('#df-a7c9b20b-6d16-47b2-8f5f-2170a47a791f button');\n",
              "      quickchartButtonEl.style.display =\n",
              "        google.colab.kernel.accessAllowed ? 'block' : 'none';\n",
              "    })();\n",
              "  </script>\n",
              "</div>\n",
              "\n",
              "  <div id=\"id_d37e32e7-41d6-49ce-b37b-32cdc1989c5c\">\n",
              "    <style>\n",
              "      .colab-df-generate {\n",
              "        background-color: #E8F0FE;\n",
              "        border: none;\n",
              "        border-radius: 50%;\n",
              "        cursor: pointer;\n",
              "        display: none;\n",
              "        fill: #1967D2;\n",
              "        height: 32px;\n",
              "        padding: 0 0 0 0;\n",
              "        width: 32px;\n",
              "      }\n",
              "\n",
              "      .colab-df-generate:hover {\n",
              "        background-color: #E2EBFA;\n",
              "        box-shadow: 0px 1px 2px rgba(60, 64, 67, 0.3), 0px 1px 3px 1px rgba(60, 64, 67, 0.15);\n",
              "        fill: #174EA6;\n",
              "      }\n",
              "\n",
              "      [theme=dark] .colab-df-generate {\n",
              "        background-color: #3B4455;\n",
              "        fill: #D2E3FC;\n",
              "      }\n",
              "\n",
              "      [theme=dark] .colab-df-generate:hover {\n",
              "        background-color: #434B5C;\n",
              "        box-shadow: 0px 1px 3px 1px rgba(0, 0, 0, 0.15);\n",
              "        filter: drop-shadow(0px 1px 2px rgba(0, 0, 0, 0.3));\n",
              "        fill: #FFFFFF;\n",
              "      }\n",
              "    </style>\n",
              "    <button class=\"colab-df-generate\" onclick=\"generateWithVariable('df_o')\"\n",
              "            title=\"Generate code using this dataframe.\"\n",
              "            style=\"display:none;\">\n",
              "\n",
              "  <svg xmlns=\"http://www.w3.org/2000/svg\" height=\"24px\"viewBox=\"0 0 24 24\"\n",
              "       width=\"24px\">\n",
              "    <path d=\"M7,19H8.4L18.45,9,17,7.55,7,17.6ZM5,21V16.75L18.45,3.32a2,2,0,0,1,2.83,0l1.4,1.43a1.91,1.91,0,0,1,.58,1.4,1.91,1.91,0,0,1-.58,1.4L9.25,21ZM18.45,9,17,7.55Zm-12,3A5.31,5.31,0,0,0,4.9,8.1,5.31,5.31,0,0,0,1,6.5,5.31,5.31,0,0,0,4.9,4.9,5.31,5.31,0,0,0,6.5,1,5.31,5.31,0,0,0,8.1,4.9,5.31,5.31,0,0,0,12,6.5,5.46,5.46,0,0,0,6.5,12Z\"/>\n",
              "  </svg>\n",
              "    </button>\n",
              "    <script>\n",
              "      (() => {\n",
              "      const buttonEl =\n",
              "        document.querySelector('#id_d37e32e7-41d6-49ce-b37b-32cdc1989c5c button.colab-df-generate');\n",
              "      buttonEl.style.display =\n",
              "        google.colab.kernel.accessAllowed ? 'block' : 'none';\n",
              "\n",
              "      buttonEl.onclick = () => {\n",
              "        google.colab.notebook.generateWithVariable('df_o');\n",
              "      }\n",
              "      })();\n",
              "    </script>\n",
              "  </div>\n",
              "\n",
              "    </div>\n",
              "  </div>\n"
            ],
            "application/vnd.google.colaboratory.intrinsic+json": {
              "type": "dataframe",
              "variable_name": "df_o",
              "summary": "{\n  \"name\": \"df_o\",\n  \"rows\": 2111,\n  \"fields\": [\n    {\n      \"column\": \"Gender\",\n      \"properties\": {\n        \"dtype\": \"category\",\n        \"num_unique_values\": 2,\n        \"samples\": [\n          \"Male\",\n          \"Female\"\n        ],\n        \"semantic_type\": \"\",\n        \"description\": \"\"\n      }\n    },\n    {\n      \"column\": \"Age\",\n      \"properties\": {\n        \"dtype\": \"number\",\n        \"std\": 6.345968273732234,\n        \"min\": 14.0,\n        \"max\": 61.0,\n        \"num_unique_values\": 1402,\n        \"samples\": [\n          25.526746,\n          26.740655\n        ],\n        \"semantic_type\": \"\",\n        \"description\": \"\"\n      }\n    },\n    {\n      \"column\": \"Height\",\n      \"properties\": {\n        \"dtype\": \"number\",\n        \"std\": 0.09330481986792007,\n        \"min\": 1.45,\n        \"max\": 1.98,\n        \"num_unique_values\": 1574,\n        \"samples\": [\n          1.760175,\n          1.688436\n        ],\n        \"semantic_type\": \"\",\n        \"description\": \"\"\n      }\n    },\n    {\n      \"column\": \"Weight\",\n      \"properties\": {\n        \"dtype\": \"number\",\n        \"std\": 26.1911717452047,\n        \"min\": 39.0,\n        \"max\": 173.0,\n        \"num_unique_values\": 1525,\n        \"samples\": [\n          120.702935,\n          64.4\n        ],\n        \"semantic_type\": \"\",\n        \"description\": \"\"\n      }\n    },\n    {\n      \"column\": \"hist\",\n      \"properties\": {\n        \"dtype\": \"category\",\n        \"num_unique_values\": 2,\n        \"samples\": [\n          \"no\",\n          \"yes\"\n        ],\n        \"semantic_type\": \"\",\n        \"description\": \"\"\n      }\n    },\n    {\n      \"column\": \"FAVC\",\n      \"properties\": {\n        \"dtype\": \"category\",\n        \"num_unique_values\": 2,\n        \"samples\": [\n          \"yes\",\n          \"no\"\n        ],\n        \"semantic_type\": \"\",\n        \"description\": \"\"\n      }\n    },\n    {\n      \"column\": \"FCVC\",\n      \"properties\": {\n        \"dtype\": \"number\",\n        \"std\": 0.5339265785033002,\n        \"min\": 1.0,\n        \"max\": 3.0,\n        \"num_unique_values\": 810,\n        \"samples\": [\n          2.987148,\n          2.939727\n        ],\n        \"semantic_type\": \"\",\n        \"description\": \"\"\n      }\n    },\n    {\n      \"column\": \"NCP\",\n      \"properties\": {\n        \"dtype\": \"number\",\n        \"std\": 0.7780386488418612,\n        \"min\": 1.0,\n        \"max\": 4.0,\n        \"num_unique_values\": 635,\n        \"samples\": [\n          1.468948,\n          2.9948\n        ],\n        \"semantic_type\": \"\",\n        \"description\": \"\"\n      }\n    },\n    {\n      \"column\": \"CAEC\",\n      \"properties\": {\n        \"dtype\": \"category\",\n        \"num_unique_values\": 4,\n        \"samples\": [\n          \"Frequently\",\n          \"no\"\n        ],\n        \"semantic_type\": \"\",\n        \"description\": \"\"\n      }\n    },\n    {\n      \"column\": \"SMOKE\",\n      \"properties\": {\n        \"dtype\": \"category\",\n        \"num_unique_values\": 2,\n        \"samples\": [\n          \"yes\",\n          \"no\"\n        ],\n        \"semantic_type\": \"\",\n        \"description\": \"\"\n      }\n    },\n    {\n      \"column\": \"CH2O\",\n      \"properties\": {\n        \"dtype\": \"number\",\n        \"std\": 0.6129534517968722,\n        \"min\": 1.0,\n        \"max\": 3.0,\n        \"num_unique_values\": 1268,\n        \"samples\": [\n          2.395387,\n          1.983973\n        ],\n        \"semantic_type\": \"\",\n        \"description\": \"\"\n      }\n    },\n    {\n      \"column\": \"SCC\",\n      \"properties\": {\n        \"dtype\": \"category\",\n        \"num_unique_values\": 2,\n        \"samples\": [\n          \"yes\",\n          \"no\"\n        ],\n        \"semantic_type\": \"\",\n        \"description\": \"\"\n      }\n    },\n    {\n      \"column\": \"FAF\",\n      \"properties\": {\n        \"dtype\": \"number\",\n        \"std\": 0.850592430836698,\n        \"min\": 0.0,\n        \"max\": 3.0,\n        \"num_unique_values\": 1190,\n        \"samples\": [\n          1.655488,\n          2.433918\n        ],\n        \"semantic_type\": \"\",\n        \"description\": \"\"\n      }\n    },\n    {\n      \"column\": \"TUE\",\n      \"properties\": {\n        \"dtype\": \"number\",\n        \"std\": 0.6089272596763782,\n        \"min\": 0.0,\n        \"max\": 2.0,\n        \"num_unique_values\": 1129,\n        \"samples\": [\n          1.416353,\n          0.878258\n        ],\n        \"semantic_type\": \"\",\n        \"description\": \"\"\n      }\n    },\n    {\n      \"column\": \"CALC\",\n      \"properties\": {\n        \"dtype\": \"category\",\n        \"num_unique_values\": 4,\n        \"samples\": [\n          \"Sometimes\",\n          \"Always\"\n        ],\n        \"semantic_type\": \"\",\n        \"description\": \"\"\n      }\n    },\n    {\n      \"column\": \"MTRANS\",\n      \"properties\": {\n        \"dtype\": \"category\",\n        \"num_unique_values\": 5,\n        \"samples\": [\n          \"Walking\",\n          \"Bike\"\n        ],\n        \"semantic_type\": \"\",\n        \"description\": \"\"\n      }\n    },\n    {\n      \"column\": \"obes\",\n      \"properties\": {\n        \"dtype\": \"number\",\n        \"std\": 1,\n        \"min\": 0,\n        \"max\": 6,\n        \"num_unique_values\": 7,\n        \"samples\": [\n          1,\n          2\n        ],\n        \"semantic_type\": \"\",\n        \"description\": \"\"\n      }\n    }\n  ]\n}"
            }
          },
          "metadata": {},
          "execution_count": 206
        }
      ]
    },
    {
      "cell_type": "code",
      "source": [
        "# here we encode all of the non-numerical features\n",
        "# using LabelEncoder and replace our dataframe\n",
        "le_hist = LabelEncoder()\n",
        "dft = le_hist.fit_transform(df_o['hist'])\n",
        "df_o['hist'] = dft\n",
        "\n",
        "le_gen = LabelEncoder()\n",
        "dft = le_gen.fit_transform(df_o['Gender'])\n",
        "df_o['Gender'] = dft\n",
        "\n",
        "le_favc = LabelEncoder()\n",
        "dft = le_favc.fit_transform(df_o['FAVC'])\n",
        "df_o['FAVC'] = dft\n",
        "\n",
        "le_caec = LabelEncoder()\n",
        "dft = le_caec.fit_transform(df_o['CAEC'])\n",
        "df_o['CAEC'] = dft\n",
        "\n",
        "le_smoke = LabelEncoder()\n",
        "dft = le_smoke.fit_transform(df_o['SMOKE'])\n",
        "df_o['SMOKE'] = dft\n",
        "\n",
        "le_scc = LabelEncoder()\n",
        "dft = le_scc.fit_transform(df_o['SCC'])\n",
        "df_o['SCC'] = dft\n",
        "\n",
        "le_calc = LabelEncoder()\n",
        "dft = le_calc.fit_transform(df_o['CALC'])\n",
        "df_o['CALC'] = dft\n",
        "\n",
        "le_mtrans = LabelEncoder()\n",
        "dft = le_mtrans.fit_transform(df_o['MTRANS'])\n",
        "df_o['MTRANS'] = dft"
      ],
      "metadata": {
        "id": "coqLzMY595eg"
      },
      "execution_count": 207,
      "outputs": []
    },
    {
      "cell_type": "code",
      "source": [
        "feat = df_o.drop('obes', axis=1, inplace=False)\n",
        "targ = df_o['obes']\n",
        "\n",
        "X_train, X_test, y_train, y_test = train_test_split(feat, targ, test_size=0.2,\n",
        "                                                   random_state=42)\n",
        "\n"
      ],
      "metadata": {
        "id": "_OWVFUe0MAYC"
      },
      "execution_count": 208,
      "outputs": []
    },
    {
      "cell_type": "code",
      "source": [
        "X_train.info()"
      ],
      "metadata": {
        "colab": {
          "base_uri": "https://localhost:8080/"
        },
        "id": "I9HMqJe2MvQr",
        "outputId": "4f004f90-86e8-420a-ff6c-eac9b7691b7b"
      },
      "execution_count": 209,
      "outputs": [
        {
          "output_type": "stream",
          "name": "stdout",
          "text": [
            "<class 'pandas.core.frame.DataFrame'>\n",
            "Index: 1688 entries, 162 to 860\n",
            "Data columns (total 16 columns):\n",
            " #   Column  Non-Null Count  Dtype  \n",
            "---  ------  --------------  -----  \n",
            " 0   Gender  1688 non-null   int64  \n",
            " 1   Age     1688 non-null   float64\n",
            " 2   Height  1688 non-null   float64\n",
            " 3   Weight  1688 non-null   float64\n",
            " 4   hist    1688 non-null   int64  \n",
            " 5   FAVC    1688 non-null   int64  \n",
            " 6   FCVC    1688 non-null   float64\n",
            " 7   NCP     1688 non-null   float64\n",
            " 8   CAEC    1688 non-null   int64  \n",
            " 9   SMOKE   1688 non-null   int64  \n",
            " 10  CH2O    1688 non-null   float64\n",
            " 11  SCC     1688 non-null   int64  \n",
            " 12  FAF     1688 non-null   float64\n",
            " 13  TUE     1688 non-null   float64\n",
            " 14  CALC    1688 non-null   int64  \n",
            " 15  MTRANS  1688 non-null   int64  \n",
            "dtypes: float64(8), int64(8)\n",
            "memory usage: 224.2 KB\n"
          ]
        }
      ]
    },
    {
      "cell_type": "markdown",
      "source": [
        "# Solution"
      ],
      "metadata": {
        "id": "Htp53qJOvQpL"
      }
    },
    {
      "cell_type": "code",
      "source": [
        "tree_clf_2 = DecisionTreeClassifier(max_depth=8, random_state=42) #Creating decision tree model\n",
        "#with different max depth values\n",
        "tree_clf_2.fit(X_train, y_train) #Fitting model"
      ],
      "metadata": {
        "id": "j2j49v4xvTle",
        "colab": {
          "base_uri": "https://localhost:8080/",
          "height": 74
        },
        "outputId": "ab53c5f6-34a8-4e58-9dd4-922838056bb4"
      },
      "execution_count": 210,
      "outputs": [
        {
          "output_type": "execute_result",
          "data": {
            "text/plain": [
              "DecisionTreeClassifier(max_depth=8, random_state=42)"
            ],
            "text/html": [
              "<style>#sk-container-id-13 {color: black;background-color: white;}#sk-container-id-13 pre{padding: 0;}#sk-container-id-13 div.sk-toggleable {background-color: white;}#sk-container-id-13 label.sk-toggleable__label {cursor: pointer;display: block;width: 100%;margin-bottom: 0;padding: 0.3em;box-sizing: border-box;text-align: center;}#sk-container-id-13 label.sk-toggleable__label-arrow:before {content: \"▸\";float: left;margin-right: 0.25em;color: #696969;}#sk-container-id-13 label.sk-toggleable__label-arrow:hover:before {color: black;}#sk-container-id-13 div.sk-estimator:hover label.sk-toggleable__label-arrow:before {color: black;}#sk-container-id-13 div.sk-toggleable__content {max-height: 0;max-width: 0;overflow: hidden;text-align: left;background-color: #f0f8ff;}#sk-container-id-13 div.sk-toggleable__content pre {margin: 0.2em;color: black;border-radius: 0.25em;background-color: #f0f8ff;}#sk-container-id-13 input.sk-toggleable__control:checked~div.sk-toggleable__content {max-height: 200px;max-width: 100%;overflow: auto;}#sk-container-id-13 input.sk-toggleable__control:checked~label.sk-toggleable__label-arrow:before {content: \"▾\";}#sk-container-id-13 div.sk-estimator input.sk-toggleable__control:checked~label.sk-toggleable__label {background-color: #d4ebff;}#sk-container-id-13 div.sk-label input.sk-toggleable__control:checked~label.sk-toggleable__label {background-color: #d4ebff;}#sk-container-id-13 input.sk-hidden--visually {border: 0;clip: rect(1px 1px 1px 1px);clip: rect(1px, 1px, 1px, 1px);height: 1px;margin: -1px;overflow: hidden;padding: 0;position: absolute;width: 1px;}#sk-container-id-13 div.sk-estimator {font-family: monospace;background-color: #f0f8ff;border: 1px dotted black;border-radius: 0.25em;box-sizing: border-box;margin-bottom: 0.5em;}#sk-container-id-13 div.sk-estimator:hover {background-color: #d4ebff;}#sk-container-id-13 div.sk-parallel-item::after {content: \"\";width: 100%;border-bottom: 1px solid gray;flex-grow: 1;}#sk-container-id-13 div.sk-label:hover label.sk-toggleable__label {background-color: #d4ebff;}#sk-container-id-13 div.sk-serial::before {content: \"\";position: absolute;border-left: 1px solid gray;box-sizing: border-box;top: 0;bottom: 0;left: 50%;z-index: 0;}#sk-container-id-13 div.sk-serial {display: flex;flex-direction: column;align-items: center;background-color: white;padding-right: 0.2em;padding-left: 0.2em;position: relative;}#sk-container-id-13 div.sk-item {position: relative;z-index: 1;}#sk-container-id-13 div.sk-parallel {display: flex;align-items: stretch;justify-content: center;background-color: white;position: relative;}#sk-container-id-13 div.sk-item::before, #sk-container-id-13 div.sk-parallel-item::before {content: \"\";position: absolute;border-left: 1px solid gray;box-sizing: border-box;top: 0;bottom: 0;left: 50%;z-index: -1;}#sk-container-id-13 div.sk-parallel-item {display: flex;flex-direction: column;z-index: 1;position: relative;background-color: white;}#sk-container-id-13 div.sk-parallel-item:first-child::after {align-self: flex-end;width: 50%;}#sk-container-id-13 div.sk-parallel-item:last-child::after {align-self: flex-start;width: 50%;}#sk-container-id-13 div.sk-parallel-item:only-child::after {width: 0;}#sk-container-id-13 div.sk-dashed-wrapped {border: 1px dashed gray;margin: 0 0.4em 0.5em 0.4em;box-sizing: border-box;padding-bottom: 0.4em;background-color: white;}#sk-container-id-13 div.sk-label label {font-family: monospace;font-weight: bold;display: inline-block;line-height: 1.2em;}#sk-container-id-13 div.sk-label-container {text-align: center;}#sk-container-id-13 div.sk-container {/* jupyter's `normalize.less` sets `[hidden] { display: none; }` but bootstrap.min.css set `[hidden] { display: none !important; }` so we also need the `!important` here to be able to override the default hidden behavior on the sphinx rendered scikit-learn.org. See: https://github.com/scikit-learn/scikit-learn/issues/21755 */display: inline-block !important;position: relative;}#sk-container-id-13 div.sk-text-repr-fallback {display: none;}</style><div id=\"sk-container-id-13\" class=\"sk-top-container\"><div class=\"sk-text-repr-fallback\"><pre>DecisionTreeClassifier(max_depth=8, random_state=42)</pre><b>In a Jupyter environment, please rerun this cell to show the HTML representation or trust the notebook. <br />On GitHub, the HTML representation is unable to render, please try loading this page with nbviewer.org.</b></div><div class=\"sk-container\" hidden><div class=\"sk-item\"><div class=\"sk-estimator sk-toggleable\"><input class=\"sk-toggleable__control sk-hidden--visually\" id=\"sk-estimator-id-28\" type=\"checkbox\" checked><label for=\"sk-estimator-id-28\" class=\"sk-toggleable__label sk-toggleable__label-arrow\">DecisionTreeClassifier</label><div class=\"sk-toggleable__content\"><pre>DecisionTreeClassifier(max_depth=8, random_state=42)</pre></div></div></div></div></div>"
            ]
          },
          "metadata": {},
          "execution_count": 210
        }
      ]
    },
    {
      "cell_type": "code",
      "source": [
        "# predictions on training and testing data\n",
        "y_train_pred = tree_clf_2.predict(X_train)\n",
        "y_test_pred = tree_clf_2.predict(X_test)\n",
        "\n",
        "# calculating accuracy on training and testing data\n",
        "train_accuracy = accuracy_score(y_train, y_train_pred)\n",
        "test_accuracy = accuracy_score(y_test, y_test_pred)\n",
        "\n",
        "# computing precision, recall, F1 scores on training and testing data\n",
        "train_precision, train_recall, train_f1_score, _ = precision_recall_fscore_support(y_train, y_train, average='weighted')\n",
        "test_precision, test_recall, test_f1_score, _ = precision_recall_fscore_support(y_test, y_test, average='weighted')\n",
        "\n",
        "# confusion matrix for training and testing data\n",
        "train_conf_matrix = confusion_matrix(y_train, y_train)\n",
        "test_conf_matrix = confusion_matrix(y_test, y_test)"
      ],
      "metadata": {
        "id": "dLv16sOj9ug2"
      },
      "execution_count": 211,
      "outputs": []
    },
    {
      "cell_type": "code",
      "source": [
        "# printing results\n",
        "print(\"Training Accuracy:\", train_accuracy)\n",
        "print(\"Test Accuracy:\", test_accuracy)\n",
        "\n",
        "print(\"\\nTraining Precision:\", train_precision)\n",
        "print(\"Training Recall:\", train_recall)\n",
        "print(\"Training F1 Score:\", train_f1_score)\n",
        "\n",
        "print(\"\\nTest Precision:\", test_precision)\n",
        "print(\"Test Recall:\", test_recall)\n",
        "print(\"Test F1 Score:\", test_f1_score)\n",
        "\n",
        "print(\"\\nConfusion Matrix (Training Data):\\n\", train_conf_matrix)\n",
        "print(\"\\nConfusion Matrix (Test Data):\\n\", test_conf_matrix)"
      ],
      "metadata": {
        "colab": {
          "base_uri": "https://localhost:8080/"
        },
        "id": "TRobGmU0_Azm",
        "outputId": "b49576f0-fbd2-4c2c-b859-04abc1d07cc2"
      },
      "execution_count": 212,
      "outputs": [
        {
          "output_type": "stream",
          "name": "stdout",
          "text": [
            "Training Accuracy: 0.9875592417061612\n",
            "Test Accuracy: 0.9432624113475178\n",
            "\n",
            "Training Precision: 1.0\n",
            "Training Recall: 1.0\n",
            "Training F1 Score: 1.0\n",
            "\n",
            "Test Precision: 1.0\n",
            "Test Recall: 1.0\n",
            "Test F1 Score: 1.0\n",
            "\n",
            "Confusion Matrix (Training Data):\n",
            " [[216   0   0   0   0   0   0]\n",
            " [  0 225   0   0   0   0   0]\n",
            " [  0   0 234   0   0   0   0]\n",
            " [  0   0   0 240   0   0   0]\n",
            " [  0   0   0   0 273   0   0]\n",
            " [  0   0   0   0   0 239   0]\n",
            " [  0   0   0   0   0   0 261]]\n",
            "\n",
            "Confusion Matrix (Test Data):\n",
            " [[56  0  0  0  0  0  0]\n",
            " [ 0 62  0  0  0  0  0]\n",
            " [ 0  0 56  0  0  0  0]\n",
            " [ 0  0  0 50  0  0  0]\n",
            " [ 0  0  0  0 78  0  0]\n",
            " [ 0  0  0  0  0 58  0]\n",
            " [ 0  0  0  0  0  0 63]]\n"
          ]
        }
      ]
    },
    {
      "cell_type": "markdown",
      "source": [
        "# Discussion\n",
        "The model appears to perform better on the training set as the accuracy score is .98 whereas the accuracy score is only .94 on the testing set. The precision, recall, and F1 scores are identical, making the accuracy scores the best metric for comparisson. The max depth that I found to be most effective was 8 because the accuracy scores appeared to be lower for other values that I tried. I came to this conclusion by inputting numbers 1-10 and seeing the resulting scores. Compared to the results from the previous homework, this model seemed to perform significantly better as the accuracy scores from those models ranged from 40 to 60 percent. This model, however, resulted in accuracy scores above 90% on the training and testing scores."
      ],
      "metadata": {
        "id": "lGXJ-Gg7FFgy"
      }
    },
    {
      "cell_type": "markdown",
      "source": [
        "#Exercise 3 - Separating Moons (LinearSVM, SVM, DT, SGD)\n",
        "In the following problem, I have used Sklearn's **make_moons** method in order to generate 4 interleaving clusters of points.  Your job is to train several classifiers to determine which performs best on this non-linearly separable dataset.  Using the provided data, train your best classifier using each of the following algorithms:\n",
        "* linearSVM with polynomial features\n",
        "* SVM with polynomial kernel\n",
        "* Decision Tree\n",
        "* SGD  \n",
        "\n",
        "For each model, be sure to:\n",
        "* specify and justify your choice of hyperparameters (polynomial degree, decision tree depth, etc.)\n",
        "* evaluate your model's accuracy on the training data and test data using the provided class_performance method (or the equivalent).  \n",
        "\n",
        "Present your final discussion/comparison of your models in a seprate Markdown cell at the end of your analysis"
      ],
      "metadata": {
        "id": "WERBYnKIG-5X"
      }
    },
    {
      "cell_type": "markdown",
      "source": [
        "## Generating Moons data"
      ],
      "metadata": {
        "id": "XM2TuZbXSauA"
      }
    },
    {
      "cell_type": "code",
      "source": [
        "# some helper functions for plotting the moons data\n",
        "def plot_dataset1(X, y, axes):\n",
        "    plt.plot(X[:, 0][y==0], X[:, 1][y==0], \"bs\")\n",
        "    plt.plot(X[:, 0][y==1], X[:, 1][y==1], \"g^\")\n",
        "    plt.plot(X[:, 0][y==2], X[:, 1][y==2], \"yo\")\n",
        "    plt.plot(X[:, 0][y==3], X[:, 1][y==3], \"r*\")\n",
        "    plt.axis(axes)\n",
        "    plt.grid(True)\n",
        "    plt.xlabel(\"$x_1$\")\n",
        "    plt.ylabel(\"$x_2$\", rotation=0)\n",
        "\n",
        "def plot_dataset2(X, y, axes):\n",
        "    plt.plot(X[:, 0][y==0], X[:, 1][y==0], \"kx\")\n",
        "    plt.plot(X[:, 0][y==1], X[:, 1][y==1], \"kx\")\n",
        "    plt.plot(X[:, 0][y==2], X[:, 1][y==2], \"kx\")\n",
        "    plt.plot(X[:, 0][y==3], X[:, 1][y==3], \"kx\")\n",
        "    plt.axis(axes)\n",
        "    plt.grid(True)\n"
      ],
      "metadata": {
        "id": "vv4tDDbi3JeS"
      },
      "execution_count": 213,
      "outputs": []
    },
    {
      "cell_type": "code",
      "source": [
        "X, y = make_moons(n_samples=200, noise=0.15, random_state=42)\n",
        "X2, y2 = make_moons(n_samples=200, noise=0.15, random_state=42)\n",
        "\n",
        "# change cluster numbers\n",
        "y2 = y2+2\n",
        "\n",
        "# Define the angle of rotation in radians\n",
        "theta = np.radians(90)\n",
        "\n",
        "# Calculate the sine and cosine of the angle\n",
        "c, s = np.cos(theta), np.sin(theta)\n",
        "\n",
        "# Create the rotation matrix\n",
        "R = np.array(((c, -s), (s, c)))\n",
        "\n",
        "# Define the vector to be rotated\n",
        "v = np.array(X2)\n",
        "\n",
        "# Rotate the vector using the rotation matrix\n",
        "X2r = np.dot(v, R)\n",
        "\n",
        "# adjust positions of moons so they don't overlap too much\n",
        "for i in range(len(X)):\n",
        "  if y[i] == 0:\n",
        "    X[i,1] = X[i,1]\n",
        "  if y[i] == 1:\n",
        "    X[i,1] = X[i,1]-1\n",
        "\n",
        "for i in range(len(X2r)):\n",
        "  if y2[i] == 2:\n",
        "    X2r[i,0] = X2r[i,0]+0.5\n",
        "  if y2[i] == 3:\n",
        "    X2r[i,0] = X2r[i,0]\n",
        "\n",
        "xall = np.concatenate((X, X2r), axis=0)\n",
        "yall = np.concatenate((y, y2), axis=None)"
      ],
      "metadata": {
        "id": "-r2K1kaJ2gna"
      },
      "execution_count": 214,
      "outputs": []
    },
    {
      "cell_type": "code",
      "source": [
        "plot_dataset1(xall, yall, [-1.5, 2.5, -2.5, 2])\n",
        "\n",
        "plt.show()"
      ],
      "metadata": {
        "colab": {
          "base_uri": "https://localhost:8080/",
          "height": 54
        },
        "id": "2THLjseUGB4Z",
        "outputId": "f389ddaa-bf70-4270-c0c8-c219b8f68bde"
      },
      "execution_count": 215,
      "outputs": [
        {
          "output_type": "display_data",
          "data": {
            "text/plain": [
              "<Figure size 640x480 with 1 Axes>"
            ],
            "image/png": "[encoded data removed]"
          },
          "metadata": {}
        }
      ]
    },
    {
      "cell_type": "code",
      "source": [
        "# train test split\n",
        "# setup the training features and target; train/test split stratified on age\n",
        "\n",
        "X_train, X_test, y_train, y_test = train_test_split(xall, yall, test_size=0.2,\n",
        "                                                   random_state=42)\n"
      ],
      "metadata": {
        "id": "xEqFRuMtITsy"
      },
      "execution_count": 216,
      "outputs": []
    },
    {
      "cell_type": "markdown",
      "source": [
        "# Solution"
      ],
      "metadata": {
        "id": "56ASmpLfiU_P"
      }
    },
    {
      "cell_type": "code",
      "source": [
        "X, y = make_moons(n_samples=100, noise=0.15, random_state=42) #generating dataset using make moons method"
      ],
      "metadata": {
        "id": "nSrb9CeNiU_V"
      },
      "execution_count": 217,
      "outputs": []
    },
    {
      "cell_type": "code",
      "source": [
        "X_train, X_test, y_train, y_test = train_test_split(X, y, test_size=0.2, random_state=42) #train test split"
      ],
      "metadata": {
        "id": "ufKAwYk5nrVp"
      },
      "execution_count": 218,
      "outputs": []
    },
    {
      "cell_type": "code",
      "source": [
        "polynomial_svm_clf = make_pipeline(PolynomialFeatures(degree=3),StandardScaler(),LinearSVC(C=10, max_iter=10_000, dual=True, random_state=42))\n",
        "polynomial_svm_clf.fit(X_train, y_train) #fitting svm model\n",
        "polynomial_svm_test_pred = polynomial_svm_clf.predict(X_test) #predicting using svm polynomial features on test set\n",
        "polynomial_svm_train_pred = polynomial_svm_clf.predict(X_train) #predicting using svm polynomial features on train set\n",
        "polynomial_svm_test_accuracy = accuracy_score(y_test, polynomial_svm_test_pred) #finding accuracy of model on test set\n",
        "polynomial_svm_train_accuracy = accuracy_score(y_train, polynomial_svm_train_pred) #finding accuracy of model on training set"
      ],
      "metadata": {
        "id": "c6hm1EiIpzCs"
      },
      "execution_count": 219,
      "outputs": []
    },
    {
      "cell_type": "code",
      "source": [
        "poly_kernel_svc_clf = make_pipeline(StandardScaler(), SVC(kernel=\"poly\", degree=3, coef0=1, C=5))\n",
        "poly_kernel_svc_clf.fit(X_train, y_train) #fitting kernel svm model\n",
        "poly_kernel_svc_pred = poly_kernel_svc_clf.predict(X_test) #predicting using test kernel svm\n",
        "poly_kernel_svc_train_pred = poly_kernel_svc_clf.predict(X_train) #predicting using train kernel svm\n",
        "poly_kernel_svc_accuracy = accuracy_score(y_test, poly_kernel_svc_pred) #finding accuracy of model on test set\n",
        "poly_kernel_svc_train_accuracy = accuracy_score(y_train, poly_kernel_svc_train_pred) #finding accuracy of model on training set"
      ],
      "metadata": {
        "id": "WP2Qv3v4sEPT"
      },
      "execution_count": 220,
      "outputs": []
    },
    {
      "cell_type": "code",
      "source": [
        "tree_clf = DecisionTreeClassifier(max_depth=2, random_state=42)\n",
        "tree_clf.fit(X_train, y_train) #fitting decision tree model\n",
        "tree_pred = tree_clf.predict(X_test) #predicting using test decision tree\n",
        "tree_pred_train = tree_clf.predict(X_train) #predicting using train decision tree\n",
        "tree_accuracy = accuracy_score(y_test, tree_pred) #finding accuracy of model on test set\n",
        "tree_accuracy_train = accuracy_score(y_train, tree_pred_train) #finding accuracy of model on training set"
      ],
      "metadata": {
        "id": "xAxLpxFit7fd"
      },
      "execution_count": 221,
      "outputs": []
    },
    {
      "cell_type": "code",
      "source": [
        "sgd_clf = SGDClassifier(random_state=42)\n",
        "sgd_clf.fit(X_train, y_train) #fitting SGDClassifier model\n",
        "sgd_pred = sgd_clf.predict(X_test) #predicting using test SGDClassifier\n",
        "sgd_pred_train = sgd_clf.predict(X_train) #predicting using train SGDClassifier\n",
        "sgd_accuracy = accuracy_score(y_test, sgd_pred) #finding accuracy of model on test set\n",
        "sgd_accuracy_train = accuracy_score(y_train, sgd_pred_train) #finding accuracy of model on training set"
      ],
      "metadata": {
        "id": "O-3ijHkHuDtM"
      },
      "execution_count": 222,
      "outputs": []
    },
    {
      "cell_type": "code",
      "source": [
        "print(\"Accuracy of Linear SVM with polynomial features on test set:\", polynomial_svm_test_accuracy) #printing accuracy of all models\n",
        "print(\"Accuracy of SVM with polynomial kernel on test set:\", poly_kernel_svc_accuracy)\n",
        "print(\"Accuracy of Decision Tree on test set:\", tree_accuracy)\n",
        "print(\"Accuracy of SGD on test set:\", sgd_accuracy)\n",
        "print(\"Accuracy of Linear SVM with polynomial features on train set:\", polynomial_svm_train_accuracy) #printing accuracy of all models\n",
        "print(\"Accuracy of SVM with polynomial kernel on train set:\", poly_kernel_svc_train_accuracy)\n",
        "print(\"Accuracy of Decision Tree on train set:\", tree_accuracy_train)\n",
        "print(\"Accuracy of SGD on train set:\", sgd_accuracy_train)"
      ],
      "metadata": {
        "colab": {
          "base_uri": "https://localhost:8080/"
        },
        "id": "3foHdJZCfua0",
        "outputId": "e01511fe-bd76-443f-9cb1-d241429aadae"
      },
      "execution_count": 223,
      "outputs": [
        {
          "output_type": "stream",
          "name": "stdout",
          "text": [
            "Accuracy of Linear SVM with polynomial features on test set: 0.9\n",
            "Accuracy of SVM with polynomial kernel on test set: 0.9\n",
            "Accuracy of Decision Tree on test set: 1.0\n",
            "Accuracy of SGD on test set: 0.95\n",
            "Accuracy of Linear SVM with polynomial features on train set: 0.9875\n",
            "Accuracy of SVM with polynomial kernel on train set: 0.975\n",
            "Accuracy of Decision Tree on train set: 0.9125\n",
            "Accuracy of SGD on train set: 0.8\n"
          ]
        }
      ]
    },
    {
      "cell_type": "markdown",
      "source": [
        "# Discussion\n",
        "Each of the models above were tested against the testing and training sets. In general, the decision tree model performed best overall because the accuracy was 1.0 on the testing set and .9125 on the training set. The other models performed better on the training set but not quite as well on the test set. The second best performing model was the Linear SVM with polynomial features with a .9 accuracy score on the testing set and .9875 accuracy score on the training set. The third best model was the SVM with polynomial kernel with accuracy scores of .9 and .9125 respectively. Finally, the worst model was the SGD model with accuracy scores of only .95 and .8 respectively. I chose to input a polynomial degree of 3 for my polynomial models because the accuracy values (in general on both training and testing set) seemed to be highest with this value. Additionally, I chose a maximum decision tree depth of 2 because the testing set accuracy was lower than 1 with a maximum tree depth of 1."
      ],
      "metadata": {
        "id": "56wz8kR92-4h"
      }
    },
    {
      "cell_type": "code",
      "source": [],
      "metadata": {
        "id": "cB-9XuKeOyzs"
      },
      "execution_count": null,
      "outputs": []
    }
  ]
}