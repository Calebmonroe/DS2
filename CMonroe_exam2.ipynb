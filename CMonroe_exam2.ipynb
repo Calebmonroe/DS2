{
  "cells": [
    {
      "cell_type": "markdown",
      "metadata": {
        "id": "view-in-github",
        "colab_type": "text"
      },
      "source": [
        "<a href=\"https://colab.research.google.com/github/Calebmonroe/DS2/blob/main/CMonroe_exam2.ipynb\" target=\"_parent\"><img src=\"https://colab.research.google.com/assets/colab-badge.svg\" alt=\"Open In Colab\"/></a>"
      ]
    },
    {
      "cell_type": "markdown",
      "metadata": {
        "id": "5OpPzl49kSc6"
      },
      "source": [
        "# Imports and Functions"
      ]
    },
    {
      "cell_type": "code",
      "execution_count": 123,
      "metadata": {
        "id": "b_hu99kysZeo"
      },
      "outputs": [],
      "source": [
        "import matplotlib.pyplot as plt\n",
        "import pandas as pd\n",
        "import numpy as np\n",
        "\n",
        "from sklearn.metrics import accuracy_score\n",
        "from sklearn.model_selection import train_test_split\n",
        "from sklearn.pipeline import make_pipeline\n",
        "from sklearn.preprocessing import StandardScaler\n",
        "from sklearn.svm import LinearSVC\n",
        "from sklearn.preprocessing import PolynomialFeatures\n",
        "\n",
        "from sklearn.tree import DecisionTreeClassifier\n",
        "from sklearn.tree import export_graphviz\n",
        "from sklearn.metrics import precision_score, recall_score\n",
        "from sklearn.metrics import precision_recall_fscore_support\n",
        "from sklearn.svm import SVC\n",
        "from sklearn.metrics import confusion_matrix\n",
        "from sklearn.metrics import ConfusionMatrixDisplay"
      ]
    },
    {
      "cell_type": "code",
      "execution_count": 124,
      "metadata": {
        "id": "AR2dso_IQdrD"
      },
      "outputs": [],
      "source": [
        "def class_performance(xdata,ydata,model):\n",
        "  print(\"\\n\\n\",model)\n",
        "# Classifiers with the score method output accuracy by default\n",
        "  predy = model.predict(xdata)\n",
        "  acc = accuracy_score(predy,ydata)\n",
        "  prec, rec, fscore, supp = precision_recall_fscore_support(ydata, predy, average=None, zero_division=0)\n",
        "  print(\"\\nmodel accuracy on supplied data:\\t\", round(acc, 3))\n",
        "\n",
        "  print(\"Precision:\\t\", prec.round(3), \"\\nRecall:\\t\\t\", rec.round(3), \"\\nFscore:\\t\\t\", fscore.round(3), \"\\nSupport:\\t\", supp)"
      ]
    },
    {
      "cell_type": "markdown",
      "metadata": {
        "id": "pZZDhu9rUfdQ"
      },
      "source": [
        "# Midterm Exam 2 - Take home problem, general description\n",
        "\n",
        "The following describes your take-home exam exercise, please read the instructions carefully.   You should submit your solution to this exercise as both a PDF and Jupyter notebook with your name in the filename (e.g. RJohnson_exam1.pdf, RJohnson_exam1.ipynb) **no later than 11:59pm on Sunday, April 14.**\n",
        "\n",
        "Take care in presenting your results.  **All results and discussion should be written in markdown format at the end of your code.**  Be clear in your discussion if you are referencing a figure or table above.  Any data or quantitative comparisons should have the data presented along with the discussion.\n",
        "\n",
        "\n",
        "In this exercise, you will be using an astronomical dataset to train a model to make predictions about an object's classification.  Your task will be to train the best classifier using specific combinations of the available features.  **Once trained and optimized, you should present your final model and a discussion of its target-level performance on the training and test data.**  Be sure you have prepared your data as necessary before modeling.\n",
        "\n",
        "\n",
        "For all of the choices you make (sampling, scaling, model type and parameters), you should provide justification for those choices, evidence that you have explored other choices, and why those other choices were not preferable.\n"
      ]
    },
    {
      "cell_type": "markdown",
      "metadata": {
        "id": "T9crwakqQeOD"
      },
      "source": [
        "## The available data features include:\n",
        "* u = Ultraviolet filter in the photometric system\n",
        "* g = Green filter in the photometric system\n",
        "* r = Red filter in the photometric system\n",
        "* i = Near Infrared filter in the photometric system\n",
        "* z = Infrared filter in the photometric system\n",
        "\n",
        "* alpha = object's right ascension celestial coordinate\n",
        "* delta = object's declination celestial coordinate\n",
        "* redshift = redshift value based on the increase in wavelength\n",
        "\n",
        "* class = object class (galaxy, star or quasar object)\n"
      ]
    },
    {
      "cell_type": "markdown",
      "metadata": {
        "id": "PvVC5fsvaJ9A"
      },
      "source": [
        "# Specific Exercise and Data Details\n",
        "\n",
        "The dataset contains multiwavelength observations of 100_000 objects from the **S**loan **D**igital **S**ky **S**urvey (SDSS), the largest spectroscopic survey of our universe ever performed.  In this exercise, you will be asked to train a model that is capable of predicting the class of an object based on either that object's spectroscopic measurements (u',g',r',i',z') or its 3D position information (alpha, delta, redshift), or a combination of both.  \n",
        "\n",
        "For the purposes of this problem, the **spectroscopic measurements will be 'u', 'g', 'r', 'i', 'z'**.  Each object's **position information is given as 3 coordinates, 'alpha', 'delta', 'redshift'**.  \n",
        "\n",
        "\n",
        "Your task is to:\n",
        "* use the **spectroscopic features alone** to train a model which performs the best at classifying each of the 3 target classes\n",
        "* use the **3D position information alone** to train a model which performs the best at classifying each of the 3 target classes\n",
        "* use a **combination of all spectroscopic and positional measurements** to train a model which performs the best at classifying each of the 3 target classes\n",
        "\n",
        "For your models:\n",
        "* you should **explore using a Decision Tree, a Support Vector Machine, and a Stochastic Gradient Descent** classifier on your datasets\n",
        "* present the final performance by **showing/discussing the target-level performance of your best classifier using the confusion matrix, precision, recall, f1, and support scores**"
      ]
    },
    {
      "cell_type": "markdown",
      "metadata": {
        "id": "OYnq_FvotL9t"
      },
      "source": [
        "## Bonus Question\n",
        "You may only receive credit for one of the bonus options, so choose which you want to attempt\n",
        "\n",
        "**Bonus option 1:** Using PCA reduction on the SDSS dataset (combining positional and spectroscopic features), reduce/project your dataset onto its 2 principle components.  Train each of your model classifiers (DT, SVC, SGD) using this reduced dataset and evaluate their performances.  Using only the best performing model, produce a 2D plot of the projected data, highlighting all of the data points that your model misclassified.\n",
        "\n",
        "**Bonus option 2:** Using PCA reduction on the SDSS dataset (combining positional and spectroscopic features), reduce/project your dataset onto its 2 principle components.  Train a Guassian Mixture mixture model classifier on the data to predict the object the class and evaluate its performance against the given identifiers.  Using the best performing model, produce a 2D plot of the projected data, highlighting all of the data points that your model misclassified."
      ]
    },
    {
      "cell_type": "markdown",
      "metadata": {
        "id": "wmUVGl-_4-JV"
      },
      "source": [
        "## Some notes about this dataset\n",
        "\n",
        "* Though only a portion of the SDSS, this dataset is still very large, containing 100,000 objects, so even relatively simple computations can take time\n",
        "* No model training should take >10 minutes; if it does, adjust your parameters\n",
        "* You're being asked to look at the dataset features in 3 ways (position only, spectroscopic only, and combined), and to train 3 models for each, meaning that you will be evaluating a total of 9 model/dataset combinations; all model evaluations should be performed with maximizing both the training and test performance in mind.  Your final result and presentation should be only on the best model and a discusssion of why/how it was best.  "
      ]
    },
    {
      "cell_type": "markdown",
      "metadata": {
        "id": "zdLGbW7qsf5d"
      },
      "source": [
        "## Preparing the data (you should use the resulting train/test datasets for your analysis)"
      ]
    },
    {
      "cell_type": "code",
      "execution_count": 125,
      "metadata": {
        "id": "HeYIcKN7uF-o"
      },
      "outputs": [],
      "source": [
        "web_path = 'http://public.gettysburg.edu/~rjohnson/ds325/' #if using data over web\n",
        "df_s = pd.read_csv(web_path+'star_classification.csv')"
      ]
    },
    {
      "cell_type": "code",
      "execution_count": 126,
      "metadata": {
        "colab": {
          "base_uri": "https://localhost:8080/"
        },
        "id": "DvSZnSQuRcyL",
        "outputId": "24cfb0d4-6963-4930-a4db-68db4ca54db1"
      },
      "outputs": [
        {
          "output_type": "stream",
          "name": "stdout",
          "text": [
            "<class 'pandas.core.frame.DataFrame'>\n",
            "RangeIndex: 100000 entries, 0 to 99999\n",
            "Data columns (total 18 columns):\n",
            " #   Column       Non-Null Count   Dtype  \n",
            "---  ------       --------------   -----  \n",
            " 0   obj_ID       100000 non-null  float64\n",
            " 1   alpha        100000 non-null  float64\n",
            " 2   delta        100000 non-null  float64\n",
            " 3   u            100000 non-null  float64\n",
            " 4   g            100000 non-null  float64\n",
            " 5   r            100000 non-null  float64\n",
            " 6   i            100000 non-null  float64\n",
            " 7   z            100000 non-null  float64\n",
            " 8   run_ID       100000 non-null  int64  \n",
            " 9   rerun_ID     100000 non-null  int64  \n",
            " 10  cam_col      100000 non-null  int64  \n",
            " 11  field_ID     100000 non-null  int64  \n",
            " 12  spec_obj_ID  100000 non-null  float64\n",
            " 13  class        100000 non-null  object \n",
            " 14  redshift     100000 non-null  float64\n",
            " 15  plate        100000 non-null  int64  \n",
            " 16  MJD          100000 non-null  int64  \n",
            " 17  fiber_ID     100000 non-null  int64  \n",
            "dtypes: float64(10), int64(7), object(1)\n",
            "memory usage: 13.7+ MB\n"
          ]
        }
      ],
      "source": [
        "df_s.info()"
      ]
    },
    {
      "cell_type": "code",
      "execution_count": 127,
      "metadata": {
        "id": "p-X-RtQ_RFLp"
      },
      "outputs": [],
      "source": [
        "feat = df_s.drop(['obj_ID','run_ID', 'rerun_ID', 'cam_col', 'field_ID', 'spec_obj_ID', 'class', 'plate', 'MJD', 'fiber_ID'], axis=1, inplace=False)\n",
        "targ = df_s['class']"
      ]
    },
    {
      "cell_type": "code",
      "execution_count": 128,
      "metadata": {
        "colab": {
          "base_uri": "https://localhost:8080/",
          "height": 419
        },
        "id": "Y8NiXZFgk3g0",
        "outputId": "0d6baad2-a2ba-4b61-800d-dc55272b7cf3"
      },
      "outputs": [
        {
          "output_type": "execute_result",
          "data": {
            "text/plain": [
              "            alpha      delta         u         g         r         i  \\\n",
              "0      135.689107  32.494632  23.87882  22.27530  20.39501  19.16573   \n",
              "1      144.826101  31.274185  24.77759  22.83188  22.58444  21.16812   \n",
              "2      142.188790  35.582444  25.26307  22.66389  20.60976  19.34857   \n",
              "3      338.741038  -0.402828  22.13682  23.77656  21.61162  20.50454   \n",
              "4      345.282593  21.183866  19.43718  17.58028  16.49747  15.97711   \n",
              "...           ...        ...       ...       ...       ...       ...   \n",
              "99995   39.620709  -2.594074  22.16759  22.97586  21.90404  21.30548   \n",
              "99996   29.493819  19.798874  22.69118  22.38628  20.45003  19.75759   \n",
              "99997  224.587407  15.700707  21.16916  19.26997  18.20428  17.69034   \n",
              "99998  212.268621  46.660365  25.35039  21.63757  19.91386  19.07254   \n",
              "99999  196.896053  49.464643  22.62171  21.79745  20.60115  20.00959   \n",
              "\n",
              "              z  redshift  \n",
              "0      18.79371  0.634794  \n",
              "1      21.61427  0.779136  \n",
              "2      18.94827  0.644195  \n",
              "3      19.25010  0.932346  \n",
              "4      15.54461  0.116123  \n",
              "...         ...       ...  \n",
              "99995  20.73569  0.000000  \n",
              "99996  19.41526  0.404895  \n",
              "99997  17.35221  0.143366  \n",
              "99998  18.62482  0.455040  \n",
              "99999  19.28075  0.542944  \n",
              "\n",
              "[100000 rows x 8 columns]"
            ],
            "text/html": [
              "\n",
              "  <div id=\"df-6c72f0d9-dbbd-4eb3-b8b9-dd42bcdb0d77\" class=\"colab-df-container\">\n",
              "    <div>\n",
              "<style scoped>\n",
              "    .dataframe tbody tr th:only-of-type {\n",
              "        vertical-align: middle;\n",
              "    }\n",
              "\n",
              "    .dataframe tbody tr th {\n",
              "        vertical-align: top;\n",
              "    }\n",
              "\n",
              "    .dataframe thead th {\n",
              "        text-align: right;\n",
              "    }\n",
              "</style>\n",
              "<table border=\"1\" class=\"dataframe\">\n",
              "  <thead>\n",
              "    <tr style=\"text-align: right;\">\n",
              "      <th></th>\n",
              "      <th>alpha</th>\n",
              "      <th>delta</th>\n",
              "      <th>u</th>\n",
              "      <th>g</th>\n",
              "      <th>r</th>\n",
              "      <th>i</th>\n",
              "      <th>z</th>\n",
              "      <th>redshift</th>\n",
              "    </tr>\n",
              "  </thead>\n",
              "  <tbody>\n",
              "    <tr>\n",
              "      <th>0</th>\n",
              "      <td>135.689107</td>\n",
              "      <td>32.494632</td>\n",
              "      <td>23.87882</td>\n",
              "      <td>22.27530</td>\n",
              "      <td>20.39501</td>\n",
              "      <td>19.16573</td>\n",
              "      <td>18.79371</td>\n",
              "      <td>0.634794</td>\n",
              "    </tr>\n",
              "    <tr>\n",
              "      <th>1</th>\n",
              "      <td>144.826101</td>\n",
              "      <td>31.274185</td>\n",
              "      <td>24.77759</td>\n",
              "      <td>22.83188</td>\n",
              "      <td>22.58444</td>\n",
              "      <td>21.16812</td>\n",
              "      <td>21.61427</td>\n",
              "      <td>0.779136</td>\n",
              "    </tr>\n",
              "    <tr>\n",
              "      <th>2</th>\n",
              "      <td>142.188790</td>\n",
              "      <td>35.582444</td>\n",
              "      <td>25.26307</td>\n",
              "      <td>22.66389</td>\n",
              "      <td>20.60976</td>\n",
              "      <td>19.34857</td>\n",
              "      <td>18.94827</td>\n",
              "      <td>0.644195</td>\n",
              "    </tr>\n",
              "    <tr>\n",
              "      <th>3</th>\n",
              "      <td>338.741038</td>\n",
              "      <td>-0.402828</td>\n",
              "      <td>22.13682</td>\n",
              "      <td>23.77656</td>\n",
              "      <td>21.61162</td>\n",
              "      <td>20.50454</td>\n",
              "      <td>19.25010</td>\n",
              "      <td>0.932346</td>\n",
              "    </tr>\n",
              "    <tr>\n",
              "      <th>4</th>\n",
              "      <td>345.282593</td>\n",
              "      <td>21.183866</td>\n",
              "      <td>19.43718</td>\n",
              "      <td>17.58028</td>\n",
              "      <td>16.49747</td>\n",
              "      <td>15.97711</td>\n",
              "      <td>15.54461</td>\n",
              "      <td>0.116123</td>\n",
              "    </tr>\n",
              "    <tr>\n",
              "      <th>...</th>\n",
              "      <td>...</td>\n",
              "      <td>...</td>\n",
              "      <td>...</td>\n",
              "      <td>...</td>\n",
              "      <td>...</td>\n",
              "      <td>...</td>\n",
              "      <td>...</td>\n",
              "      <td>...</td>\n",
              "    </tr>\n",
              "    <tr>\n",
              "      <th>99995</th>\n",
              "      <td>39.620709</td>\n",
              "      <td>-2.594074</td>\n",
              "      <td>22.16759</td>\n",
              "      <td>22.97586</td>\n",
              "      <td>21.90404</td>\n",
              "      <td>21.30548</td>\n",
              "      <td>20.73569</td>\n",
              "      <td>0.000000</td>\n",
              "    </tr>\n",
              "    <tr>\n",
              "      <th>99996</th>\n",
              "      <td>29.493819</td>\n",
              "      <td>19.798874</td>\n",
              "      <td>22.69118</td>\n",
              "      <td>22.38628</td>\n",
              "      <td>20.45003</td>\n",
              "      <td>19.75759</td>\n",
              "      <td>19.41526</td>\n",
              "      <td>0.404895</td>\n",
              "    </tr>\n",
              "    <tr>\n",
              "      <th>99997</th>\n",
              "      <td>224.587407</td>\n",
              "      <td>15.700707</td>\n",
              "      <td>21.16916</td>\n",
              "      <td>19.26997</td>\n",
              "      <td>18.20428</td>\n",
              "      <td>17.69034</td>\n",
              "      <td>17.35221</td>\n",
              "      <td>0.143366</td>\n",
              "    </tr>\n",
              "    <tr>\n",
              "      <th>99998</th>\n",
              "      <td>212.268621</td>\n",
              "      <td>46.660365</td>\n",
              "      <td>25.35039</td>\n",
              "      <td>21.63757</td>\n",
              "      <td>19.91386</td>\n",
              "      <td>19.07254</td>\n",
              "      <td>18.62482</td>\n",
              "      <td>0.455040</td>\n",
              "    </tr>\n",
              "    <tr>\n",
              "      <th>99999</th>\n",
              "      <td>196.896053</td>\n",
              "      <td>49.464643</td>\n",
              "      <td>22.62171</td>\n",
              "      <td>21.79745</td>\n",
              "      <td>20.60115</td>\n",
              "      <td>20.00959</td>\n",
              "      <td>19.28075</td>\n",
              "      <td>0.542944</td>\n",
              "    </tr>\n",
              "  </tbody>\n",
              "</table>\n",
              "<p>100000 rows × 8 columns</p>\n",
              "</div>\n",
              "    <div class=\"colab-df-buttons\">\n",
              "\n",
              "  <div class=\"colab-df-container\">\n",
              "    <button class=\"colab-df-convert\" onclick=\"convertToInteractive('df-6c72f0d9-dbbd-4eb3-b8b9-dd42bcdb0d77')\"\n",
              "            title=\"Convert this dataframe to an interactive table.\"\n",
              "            style=\"display:none;\">\n",
              "\n",
              "  <svg xmlns=\"http://www.w3.org/2000/svg\" height=\"24px\" viewBox=\"0 -960 960 960\">\n",
              "    <path d=\"M120-120v-720h720v720H120Zm60-500h600v-160H180v160Zm220 220h160v-160H400v160Zm0 220h160v-160H400v160ZM180-400h160v-160H180v160Zm440 0h160v-160H620v160ZM180-180h160v-160H180v160Zm440 0h160v-160H620v160Z\"/>\n",
              "  </svg>\n",
              "    </button>\n",
              "\n",
              "  <style>\n",
              "    .colab-df-container {\n",
              "      display:flex;\n",
              "      gap: 12px;\n",
              "    }\n",
              "\n",
              "    .colab-df-convert {\n",
              "      background-color: #E8F0FE;\n",
              "      border: none;\n",
              "      border-radius: 50%;\n",
              "      cursor: pointer;\n",
              "      display: none;\n",
              "      fill: #1967D2;\n",
              "      height: 32px;\n",
              "      padding: 0 0 0 0;\n",
              "      width: 32px;\n",
              "    }\n",
              "\n",
              "    .colab-df-convert:hover {\n",
              "      background-color: #E2EBFA;\n",
              "      box-shadow: 0px 1px 2px rgba(60, 64, 67, 0.3), 0px 1px 3px 1px rgba(60, 64, 67, 0.15);\n",
              "      fill: #174EA6;\n",
              "    }\n",
              "\n",
              "    .colab-df-buttons div {\n",
              "      margin-bottom: 4px;\n",
              "    }\n",
              "\n",
              "    [theme=dark] .colab-df-convert {\n",
              "      background-color: #3B4455;\n",
              "      fill: #D2E3FC;\n",
              "    }\n",
              "\n",
              "    [theme=dark] .colab-df-convert:hover {\n",
              "      background-color: #434B5C;\n",
              "      box-shadow: 0px 1px 3px 1px rgba(0, 0, 0, 0.15);\n",
              "      filter: drop-shadow(0px 1px 2px rgba(0, 0, 0, 0.3));\n",
              "      fill: #FFFFFF;\n",
              "    }\n",
              "  </style>\n",
              "\n",
              "    <script>\n",
              "      const buttonEl =\n",
              "        document.querySelector('#df-6c72f0d9-dbbd-4eb3-b8b9-dd42bcdb0d77 button.colab-df-convert');\n",
              "      buttonEl.style.display =\n",
              "        google.colab.kernel.accessAllowed ? 'block' : 'none';\n",
              "\n",
              "      async function convertToInteractive(key) {\n",
              "        const element = document.querySelector('#df-6c72f0d9-dbbd-4eb3-b8b9-dd42bcdb0d77');\n",
              "        const dataTable =\n",
              "          await google.colab.kernel.invokeFunction('convertToInteractive',\n",
              "                                                    [key], {});\n",
              "        if (!dataTable) return;\n",
              "\n",
              "        const docLinkHtml = 'Like what you see? Visit the ' +\n",
              "          '<a target=\"_blank\" href=https://colab.research.google.com/notebooks/data_table.ipynb>data table notebook</a>'\n",
              "          + ' to learn more about interactive tables.';\n",
              "        element.innerHTML = '';\n",
              "        dataTable['output_type'] = 'display_data';\n",
              "        await google.colab.output.renderOutput(dataTable, element);\n",
              "        const docLink = document.createElement('div');\n",
              "        docLink.innerHTML = docLinkHtml;\n",
              "        element.appendChild(docLink);\n",
              "      }\n",
              "    </script>\n",
              "  </div>\n",
              "\n",
              "\n",
              "<div id=\"df-27362a7d-8921-4e43-800d-1821012d12e1\">\n",
              "  <button class=\"colab-df-quickchart\" onclick=\"quickchart('df-27362a7d-8921-4e43-800d-1821012d12e1')\"\n",
              "            title=\"Suggest charts\"\n",
              "            style=\"display:none;\">\n",
              "\n",
              "<svg xmlns=\"http://www.w3.org/2000/svg\" height=\"24px\"viewBox=\"0 0 24 24\"\n",
              "     width=\"24px\">\n",
              "    <g>\n",
              "        <path d=\"M19 3H5c-1.1 0-2 .9-2 2v14c0 1.1.9 2 2 2h14c1.1 0 2-.9 2-2V5c0-1.1-.9-2-2-2zM9 17H7v-7h2v7zm4 0h-2V7h2v10zm4 0h-2v-4h2v4z\"/>\n",
              "    </g>\n",
              "</svg>\n",
              "  </button>\n",
              "\n",
              "<style>\n",
              "  .colab-df-quickchart {\n",
              "      --bg-color: #E8F0FE;\n",
              "      --fill-color: #1967D2;\n",
              "      --hover-bg-color: #E2EBFA;\n",
              "      --hover-fill-color: #174EA6;\n",
              "      --disabled-fill-color: #AAA;\n",
              "      --disabled-bg-color: #DDD;\n",
              "  }\n",
              "\n",
              "  [theme=dark] .colab-df-quickchart {\n",
              "      --bg-color: #3B4455;\n",
              "      --fill-color: #D2E3FC;\n",
              "      --hover-bg-color: #434B5C;\n",
              "      --hover-fill-color: #FFFFFF;\n",
              "      --disabled-bg-color: #3B4455;\n",
              "      --disabled-fill-color: #666;\n",
              "  }\n",
              "\n",
              "  .colab-df-quickchart {\n",
              "    background-color: var(--bg-color);\n",
              "    border: none;\n",
              "    border-radius: 50%;\n",
              "    cursor: pointer;\n",
              "    display: none;\n",
              "    fill: var(--fill-color);\n",
              "    height: 32px;\n",
              "    padding: 0;\n",
              "    width: 32px;\n",
              "  }\n",
              "\n",
              "  .colab-df-quickchart:hover {\n",
              "    background-color: var(--hover-bg-color);\n",
              "    box-shadow: 0 1px 2px rgba(60, 64, 67, 0.3), 0 1px 3px 1px rgba(60, 64, 67, 0.15);\n",
              "    fill: var(--button-hover-fill-color);\n",
              "  }\n",
              "\n",
              "  .colab-df-quickchart-complete:disabled,\n",
              "  .colab-df-quickchart-complete:disabled:hover {\n",
              "    background-color: var(--disabled-bg-color);\n",
              "    fill: var(--disabled-fill-color);\n",
              "    box-shadow: none;\n",
              "  }\n",
              "\n",
              "  .colab-df-spinner {\n",
              "    border: 2px solid var(--fill-color);\n",
              "    border-color: transparent;\n",
              "    border-bottom-color: var(--fill-color);\n",
              "    animation:\n",
              "      spin 1s steps(1) infinite;\n",
              "  }\n",
              "\n",
              "  @keyframes spin {\n",
              "    0% {\n",
              "      border-color: transparent;\n",
              "      border-bottom-color: var(--fill-color);\n",
              "      border-left-color: var(--fill-color);\n",
              "    }\n",
              "    20% {\n",
              "      border-color: transparent;\n",
              "      border-left-color: var(--fill-color);\n",
              "      border-top-color: var(--fill-color);\n",
              "    }\n",
              "    30% {\n",
              "      border-color: transparent;\n",
              "      border-left-color: var(--fill-color);\n",
              "      border-top-color: var(--fill-color);\n",
              "      border-right-color: var(--fill-color);\n",
              "    }\n",
              "    40% {\n",
              "      border-color: transparent;\n",
              "      border-right-color: var(--fill-color);\n",
              "      border-top-color: var(--fill-color);\n",
              "    }\n",
              "    60% {\n",
              "      border-color: transparent;\n",
              "      border-right-color: var(--fill-color);\n",
              "    }\n",
              "    80% {\n",
              "      border-color: transparent;\n",
              "      border-right-color: var(--fill-color);\n",
              "      border-bottom-color: var(--fill-color);\n",
              "    }\n",
              "    90% {\n",
              "      border-color: transparent;\n",
              "      border-bottom-color: var(--fill-color);\n",
              "    }\n",
              "  }\n",
              "</style>\n",
              "\n",
              "  <script>\n",
              "    async function quickchart(key) {\n",
              "      const quickchartButtonEl =\n",
              "        document.querySelector('#' + key + ' button');\n",
              "      quickchartButtonEl.disabled = true;  // To prevent multiple clicks.\n",
              "      quickchartButtonEl.classList.add('colab-df-spinner');\n",
              "      try {\n",
              "        const charts = await google.colab.kernel.invokeFunction(\n",
              "            'suggestCharts', [key], {});\n",
              "      } catch (error) {\n",
              "        console.error('Error during call to suggestCharts:', error);\n",
              "      }\n",
              "      quickchartButtonEl.classList.remove('colab-df-spinner');\n",
              "      quickchartButtonEl.classList.add('colab-df-quickchart-complete');\n",
              "    }\n",
              "    (() => {\n",
              "      let quickchartButtonEl =\n",
              "        document.querySelector('#df-27362a7d-8921-4e43-800d-1821012d12e1 button');\n",
              "      quickchartButtonEl.style.display =\n",
              "        google.colab.kernel.accessAllowed ? 'block' : 'none';\n",
              "    })();\n",
              "  </script>\n",
              "</div>\n",
              "\n",
              "  <div id=\"id_723a5e26-ed09-4610-bd8f-69cc8e132bad\">\n",
              "    <style>\n",
              "      .colab-df-generate {\n",
              "        background-color: #E8F0FE;\n",
              "        border: none;\n",
              "        border-radius: 50%;\n",
              "        cursor: pointer;\n",
              "        display: none;\n",
              "        fill: #1967D2;\n",
              "        height: 32px;\n",
              "        padding: 0 0 0 0;\n",
              "        width: 32px;\n",
              "      }\n",
              "\n",
              "      .colab-df-generate:hover {\n",
              "        background-color: #E2EBFA;\n",
              "        box-shadow: 0px 1px 2px rgba(60, 64, 67, 0.3), 0px 1px 3px 1px rgba(60, 64, 67, 0.15);\n",
              "        fill: #174EA6;\n",
              "      }\n",
              "\n",
              "      [theme=dark] .colab-df-generate {\n",
              "        background-color: #3B4455;\n",
              "        fill: #D2E3FC;\n",
              "      }\n",
              "\n",
              "      [theme=dark] .colab-df-generate:hover {\n",
              "        background-color: #434B5C;\n",
              "        box-shadow: 0px 1px 3px 1px rgba(0, 0, 0, 0.15);\n",
              "        filter: drop-shadow(0px 1px 2px rgba(0, 0, 0, 0.3));\n",
              "        fill: #FFFFFF;\n",
              "      }\n",
              "    </style>\n",
              "    <button class=\"colab-df-generate\" onclick=\"generateWithVariable('feat')\"\n",
              "            title=\"Generate code using this dataframe.\"\n",
              "            style=\"display:none;\">\n",
              "\n",
              "  <svg xmlns=\"http://www.w3.org/2000/svg\" height=\"24px\"viewBox=\"0 0 24 24\"\n",
              "       width=\"24px\">\n",
              "    <path d=\"M7,19H8.4L18.45,9,17,7.55,7,17.6ZM5,21V16.75L18.45,3.32a2,2,0,0,1,2.83,0l1.4,1.43a1.91,1.91,0,0,1,.58,1.4,1.91,1.91,0,0,1-.58,1.4L9.25,21ZM18.45,9,17,7.55Zm-12,3A5.31,5.31,0,0,0,4.9,8.1,5.31,5.31,0,0,0,1,6.5,5.31,5.31,0,0,0,4.9,4.9,5.31,5.31,0,0,0,6.5,1,5.31,5.31,0,0,0,8.1,4.9,5.31,5.31,0,0,0,12,6.5,5.46,5.46,0,0,0,6.5,12Z\"/>\n",
              "  </svg>\n",
              "    </button>\n",
              "    <script>\n",
              "      (() => {\n",
              "      const buttonEl =\n",
              "        document.querySelector('#id_723a5e26-ed09-4610-bd8f-69cc8e132bad button.colab-df-generate');\n",
              "      buttonEl.style.display =\n",
              "        google.colab.kernel.accessAllowed ? 'block' : 'none';\n",
              "\n",
              "      buttonEl.onclick = () => {\n",
              "        google.colab.notebook.generateWithVariable('feat');\n",
              "      }\n",
              "      })();\n",
              "    </script>\n",
              "  </div>\n",
              "\n",
              "    </div>\n",
              "  </div>\n"
            ],
            "application/vnd.google.colaboratory.intrinsic+json": {
              "type": "dataframe",
              "variable_name": "feat",
              "summary": "{\n  \"name\": \"feat\",\n  \"rows\": 100000,\n  \"fields\": [\n    {\n      \"column\": \"alpha\",\n      \"properties\": {\n        \"dtype\": \"number\",\n        \"std\": 96.502240898332,\n        \"min\": 0.0055278279239701,\n        \"max\": 359.999809770956,\n        \"num_unique_values\": 99999,\n        \"samples\": [\n          118.663236264366,\n          358.991829744244,\n          30.887222067625\n        ],\n        \"semantic_type\": \"\",\n        \"description\": \"\"\n      }\n    },\n    {\n      \"column\": \"delta\",\n      \"properties\": {\n        \"dtype\": \"number\",\n        \"std\": 19.644665404293715,\n        \"min\": -18.7853280771825,\n        \"max\": 83.00051858898,\n        \"num_unique_values\": 99999,\n        \"samples\": [\n          39.6424291996807,\n          32.7490859208678,\n          1.18870964120799\n        ],\n        \"semantic_type\": \"\",\n        \"description\": \"\"\n      }\n    },\n    {\n      \"column\": \"u\",\n      \"properties\": {\n        \"dtype\": \"number\",\n        \"std\": 31.76929080375035,\n        \"min\": -9999.0,\n        \"max\": 32.78139,\n        \"num_unique_values\": 93748,\n        \"samples\": [\n          25.78018,\n          20.35472,\n          18.63082\n        ],\n        \"semantic_type\": \"\",\n        \"description\": \"\"\n      }\n    },\n    {\n      \"column\": \"g\",\n      \"properties\": {\n        \"dtype\": \"number\",\n        \"std\": 31.750292329083205,\n        \"min\": -9999.0,\n        \"max\": 31.60224,\n        \"num_unique_values\": 92651,\n        \"samples\": [\n          20.88286,\n          23.75559,\n          17.81253\n        ],\n        \"semantic_type\": \"\",\n        \"description\": \"\"\n      }\n    },\n    {\n      \"column\": \"r\",\n      \"properties\": {\n        \"dtype\": \"number\",\n        \"std\": 1.8547596943455285,\n        \"min\": 9.82207,\n        \"max\": 29.57186,\n        \"num_unique_values\": 91901,\n        \"samples\": [\n          17.36957,\n          21.53207,\n          16.49815\n        ],\n        \"semantic_type\": \"\",\n        \"description\": \"\"\n      }\n    },\n    {\n      \"column\": \"i\",\n      \"properties\": {\n        \"dtype\": \"number\",\n        \"std\": 1.7578947904903932,\n        \"min\": 9.469903,\n        \"max\": 32.14147,\n        \"num_unique_values\": 92019,\n        \"samples\": [\n          20.34415,\n          17.00401,\n          19.63559\n        ],\n        \"semantic_type\": \"\",\n        \"description\": \"\"\n      }\n    },\n    {\n      \"column\": \"z\",\n      \"properties\": {\n        \"dtype\": \"number\",\n        \"std\": 31.728151785953646,\n        \"min\": -9999.0,\n        \"max\": 29.38374,\n        \"num_unique_values\": 92007,\n        \"samples\": [\n          17.31985,\n          22.73434,\n          19.62752\n        ],\n        \"semantic_type\": \"\",\n        \"description\": \"\"\n      }\n    },\n    {\n      \"column\": \"redshift\",\n      \"properties\": {\n        \"dtype\": \"number\",\n        \"std\": 0.7307072761888087,\n        \"min\": -0.009970667,\n        \"max\": 7.011245,\n        \"num_unique_values\": 99295,\n        \"samples\": [\n          3.202965,\n          0.4115816,\n          0.34582\n        ],\n        \"semantic_type\": \"\",\n        \"description\": \"\"\n      }\n    }\n  ]\n}"
            }
          },
          "metadata": {},
          "execution_count": 128
        }
      ],
      "source": [
        "feat"
      ]
    },
    {
      "cell_type": "code",
      "execution_count": 129,
      "metadata": {
        "id": "Q0z55iX_ijxq"
      },
      "outputs": [],
      "source": [
        "# create 3 datasets (spectroscopic, position, combined)\n",
        "\n",
        "spec_feat = feat.drop(['alpha','delta','redshift'], axis=1, inplace=False)\n",
        "\n",
        "pos_feat = feat.drop(['u','g','r','i','z'], axis=1, inplace=False)\n",
        "\n",
        "comb_feat = feat"
      ]
    },
    {
      "cell_type": "code",
      "execution_count": 130,
      "metadata": {
        "id": "v7VqxVM2SFBU"
      },
      "outputs": [],
      "source": [
        "# setup train/test split for 3 datasets\n",
        "# for spectroscopic\n",
        "X_s_tr, X_s_tst, y_tr, y_tst = train_test_split(spec_feat, targ, test_size=0.2, random_state=42)\n",
        "# for positional\n",
        "X_p_tr, X_p_tst, y_tr, y_tst = train_test_split(pos_feat, targ, test_size=0.2, random_state=42)\n",
        "# for combined\n",
        "X_tr, X_tst, y_tr, y_tst = train_test_split(comb_feat, targ, test_size=0.2, random_state=42)\n"
      ]
    },
    {
      "cell_type": "markdown",
      "source": [
        "# Spectroscopic features"
      ],
      "metadata": {
        "id": "Lj1hxQupjW3I"
      }
    },
    {
      "cell_type": "code",
      "execution_count": 131,
      "metadata": {
        "id": "S8riRNyUY4HS"
      },
      "outputs": [],
      "source": [
        "scaler_s = StandardScaler()#initializing standard scaler for spectroscopic dataset\n",
        "\n",
        "X_s_tr_scaled = scaler_s.fit_transform(X_s_tr)#fit / transform training data\n",
        "\n",
        "X_s_tst_scaled = scaler_s.transform(X_s_tst)#transform testing data"
      ]
    },
    {
      "cell_type": "code",
      "execution_count": 132,
      "metadata": {
        "colab": {
          "base_uri": "https://localhost:8080/",
          "height": 74
        },
        "id": "H9RwpX6eqieS",
        "outputId": "59087d3e-0878-43b2-c259-01db8fe19107"
      },
      "outputs": [
        {
          "output_type": "execute_result",
          "data": {
            "text/plain": [
              "DecisionTreeClassifier(max_depth=2, random_state=42)"
            ],
            "text/html": [
              "<style>#sk-container-id-36 {color: black;background-color: white;}#sk-container-id-36 pre{padding: 0;}#sk-container-id-36 div.sk-toggleable {background-color: white;}#sk-container-id-36 label.sk-toggleable__label {cursor: pointer;display: block;width: 100%;margin-bottom: 0;padding: 0.3em;box-sizing: border-box;text-align: center;}#sk-container-id-36 label.sk-toggleable__label-arrow:before {content: \"▸\";float: left;margin-right: 0.25em;color: #696969;}#sk-container-id-36 label.sk-toggleable__label-arrow:hover:before {color: black;}#sk-container-id-36 div.sk-estimator:hover label.sk-toggleable__label-arrow:before {color: black;}#sk-container-id-36 div.sk-toggleable__content {max-height: 0;max-width: 0;overflow: hidden;text-align: left;background-color: #f0f8ff;}#sk-container-id-36 div.sk-toggleable__content pre {margin: 0.2em;color: black;border-radius: 0.25em;background-color: #f0f8ff;}#sk-container-id-36 input.sk-toggleable__control:checked~div.sk-toggleable__content {max-height: 200px;max-width: 100%;overflow: auto;}#sk-container-id-36 input.sk-toggleable__control:checked~label.sk-toggleable__label-arrow:before {content: \"▾\";}#sk-container-id-36 div.sk-estimator input.sk-toggleable__control:checked~label.sk-toggleable__label {background-color: #d4ebff;}#sk-container-id-36 div.sk-label input.sk-toggleable__control:checked~label.sk-toggleable__label {background-color: #d4ebff;}#sk-container-id-36 input.sk-hidden--visually {border: 0;clip: rect(1px 1px 1px 1px);clip: rect(1px, 1px, 1px, 1px);height: 1px;margin: -1px;overflow: hidden;padding: 0;position: absolute;width: 1px;}#sk-container-id-36 div.sk-estimator {font-family: monospace;background-color: #f0f8ff;border: 1px dotted black;border-radius: 0.25em;box-sizing: border-box;margin-bottom: 0.5em;}#sk-container-id-36 div.sk-estimator:hover {background-color: #d4ebff;}#sk-container-id-36 div.sk-parallel-item::after {content: \"\";width: 100%;border-bottom: 1px solid gray;flex-grow: 1;}#sk-container-id-36 div.sk-label:hover label.sk-toggleable__label {background-color: #d4ebff;}#sk-container-id-36 div.sk-serial::before {content: \"\";position: absolute;border-left: 1px solid gray;box-sizing: border-box;top: 0;bottom: 0;left: 50%;z-index: 0;}#sk-container-id-36 div.sk-serial {display: flex;flex-direction: column;align-items: center;background-color: white;padding-right: 0.2em;padding-left: 0.2em;position: relative;}#sk-container-id-36 div.sk-item {position: relative;z-index: 1;}#sk-container-id-36 div.sk-parallel {display: flex;align-items: stretch;justify-content: center;background-color: white;position: relative;}#sk-container-id-36 div.sk-item::before, #sk-container-id-36 div.sk-parallel-item::before {content: \"\";position: absolute;border-left: 1px solid gray;box-sizing: border-box;top: 0;bottom: 0;left: 50%;z-index: -1;}#sk-container-id-36 div.sk-parallel-item {display: flex;flex-direction: column;z-index: 1;position: relative;background-color: white;}#sk-container-id-36 div.sk-parallel-item:first-child::after {align-self: flex-end;width: 50%;}#sk-container-id-36 div.sk-parallel-item:last-child::after {align-self: flex-start;width: 50%;}#sk-container-id-36 div.sk-parallel-item:only-child::after {width: 0;}#sk-container-id-36 div.sk-dashed-wrapped {border: 1px dashed gray;margin: 0 0.4em 0.5em 0.4em;box-sizing: border-box;padding-bottom: 0.4em;background-color: white;}#sk-container-id-36 div.sk-label label {font-family: monospace;font-weight: bold;display: inline-block;line-height: 1.2em;}#sk-container-id-36 div.sk-label-container {text-align: center;}#sk-container-id-36 div.sk-container {/* jupyter's `normalize.less` sets `[hidden] { display: none; }` but bootstrap.min.css set `[hidden] { display: none !important; }` so we also need the `!important` here to be able to override the default hidden behavior on the sphinx rendered scikit-learn.org. See: https://github.com/scikit-learn/scikit-learn/issues/21755 */display: inline-block !important;position: relative;}#sk-container-id-36 div.sk-text-repr-fallback {display: none;}</style><div id=\"sk-container-id-36\" class=\"sk-top-container\"><div class=\"sk-text-repr-fallback\"><pre>DecisionTreeClassifier(max_depth=2, random_state=42)</pre><b>In a Jupyter environment, please rerun this cell to show the HTML representation or trust the notebook. <br />On GitHub, the HTML representation is unable to render, please try loading this page with nbviewer.org.</b></div><div class=\"sk-container\" hidden><div class=\"sk-item\"><div class=\"sk-estimator sk-toggleable\"><input class=\"sk-toggleable__control sk-hidden--visually\" id=\"sk-estimator-id-48\" type=\"checkbox\" checked><label for=\"sk-estimator-id-48\" class=\"sk-toggleable__label sk-toggleable__label-arrow\">DecisionTreeClassifier</label><div class=\"sk-toggleable__content\"><pre>DecisionTreeClassifier(max_depth=2, random_state=42)</pre></div></div></div></div></div>"
            ]
          },
          "metadata": {},
          "execution_count": 132
        }
      ],
      "source": [
        "spec_decision_tree = DecisionTreeClassifier(max_depth=2, random_state=42) #Define decision tree model and fit model\n",
        "spec_decision_tree.fit(X_s_tr_scaled, y_tr)"
      ]
    },
    {
      "cell_type": "code",
      "execution_count": 133,
      "metadata": {
        "colab": {
          "base_uri": "https://localhost:8080/"
        },
        "id": "5M0hj96nxtr8",
        "outputId": "963655f0-f546-4fe2-e637-568c7afbd531"
      },
      "outputs": [
        {
          "output_type": "stream",
          "name": "stdout",
          "text": [
            "model accuracy on training data:\t 0.684\n",
            "Precision:\t [0.691 0.648 1.   ] \n",
            "Recall:\t\t [0.964 0.582 0.   ] \n",
            "Fscore:\t\t [0.805 0.613 0.   ] \n",
            "Support:\t [47585 15164 17251]\n",
            "model accuracy on testing data:\t 0.682\n",
            "Precision:\t [0.69  0.642 1.   ] \n",
            "Recall:\t\t [0.967 0.573 0.   ] \n",
            "Fscore:\t\t [0.805 0.605 0.   ] \n",
            "Support:\t [11860  3797  4343]\n",
            "\n",
            "Confusion Matrix:\n",
            "[[45868  1717     0]\n",
            " [ 6333  8831     0]\n",
            " [14173  3078     0]]\n",
            "\n",
            "Confusion Matrix:\n",
            "[[11463   397     0]\n",
            " [ 1622  2175     0]\n",
            " [ 3525   818     0]]\n"
          ]
        }
      ],
      "source": [
        "acc_train = spec_decision_tree.score(X_s_tr_scaled, y_tr) #using scoring method for decision tree\n",
        "acct = spec_decision_tree.score(X_s_tst_scaled, y_tst)\n",
        "\n",
        "y = y_tr; yt=y_tst #defining y train and y test\n",
        "\n",
        "predy = spec_decision_tree.predict(X_s_tr_scaled) #making predictions\n",
        "predyt = spec_decision_tree.predict(X_s_tst_scaled)\n",
        "\n",
        "print(\"model accuracy on training data:\\t\", acc_train.round(3)) #printing metrics\n",
        "prec, rec, fscore, supp = precision_recall_fscore_support(y, predy, average=None, zero_division=1)\n",
        "print(\"Precision:\\t\", prec.round(3), \"\\nRecall:\\t\\t\", rec.round(3), \"\\nFscore:\\t\\t\", fscore.round(3), \"\\nSupport:\\t\", supp)\n",
        "\n",
        "print(\"model accuracy on testing data:\\t\", acct.round(3))\n",
        "prec, rec, fscore, supp = precision_recall_fscore_support(yt, predyt, average=None, zero_division=1)\n",
        "print(\"Precision:\\t\", prec.round(3), \"\\nRecall:\\t\\t\", rec.round(3), \"\\nFscore:\\t\\t\", fscore.round(3), \"\\nSupport:\\t\", supp)\n",
        "\n",
        "conf_matrix = confusion_matrix(y_tr, predy) #printing confusion matrix\n",
        "print(\"\\nConfusion Matrix:\")\n",
        "print(conf_matrix)\n",
        "\n",
        "conf_matrix = confusion_matrix(y_tst, predyt)\n",
        "print(\"\\nConfusion Matrix:\")\n",
        "print(conf_matrix)"
      ]
    },
    {
      "cell_type": "code",
      "execution_count": 134,
      "metadata": {
        "colab": {
          "base_uri": "https://localhost:8080/",
          "height": 74
        },
        "id": "XqyRRdJsc9pO",
        "outputId": "eddecd3b-06f1-4136-9b08-77a8fa5cbde7"
      },
      "outputs": [
        {
          "output_type": "execute_result",
          "data": {
            "text/plain": [
              "SVC(kernel='linear')"
            ],
            "text/html": [
              "<style>#sk-container-id-37 {color: black;background-color: white;}#sk-container-id-37 pre{padding: 0;}#sk-container-id-37 div.sk-toggleable {background-color: white;}#sk-container-id-37 label.sk-toggleable__label {cursor: pointer;display: block;width: 100%;margin-bottom: 0;padding: 0.3em;box-sizing: border-box;text-align: center;}#sk-container-id-37 label.sk-toggleable__label-arrow:before {content: \"▸\";float: left;margin-right: 0.25em;color: #696969;}#sk-container-id-37 label.sk-toggleable__label-arrow:hover:before {color: black;}#sk-container-id-37 div.sk-estimator:hover label.sk-toggleable__label-arrow:before {color: black;}#sk-container-id-37 div.sk-toggleable__content {max-height: 0;max-width: 0;overflow: hidden;text-align: left;background-color: #f0f8ff;}#sk-container-id-37 div.sk-toggleable__content pre {margin: 0.2em;color: black;border-radius: 0.25em;background-color: #f0f8ff;}#sk-container-id-37 input.sk-toggleable__control:checked~div.sk-toggleable__content {max-height: 200px;max-width: 100%;overflow: auto;}#sk-container-id-37 input.sk-toggleable__control:checked~label.sk-toggleable__label-arrow:before {content: \"▾\";}#sk-container-id-37 div.sk-estimator input.sk-toggleable__control:checked~label.sk-toggleable__label {background-color: #d4ebff;}#sk-container-id-37 div.sk-label input.sk-toggleable__control:checked~label.sk-toggleable__label {background-color: #d4ebff;}#sk-container-id-37 input.sk-hidden--visually {border: 0;clip: rect(1px 1px 1px 1px);clip: rect(1px, 1px, 1px, 1px);height: 1px;margin: -1px;overflow: hidden;padding: 0;position: absolute;width: 1px;}#sk-container-id-37 div.sk-estimator {font-family: monospace;background-color: #f0f8ff;border: 1px dotted black;border-radius: 0.25em;box-sizing: border-box;margin-bottom: 0.5em;}#sk-container-id-37 div.sk-estimator:hover {background-color: #d4ebff;}#sk-container-id-37 div.sk-parallel-item::after {content: \"\";width: 100%;border-bottom: 1px solid gray;flex-grow: 1;}#sk-container-id-37 div.sk-label:hover label.sk-toggleable__label {background-color: #d4ebff;}#sk-container-id-37 div.sk-serial::before {content: \"\";position: absolute;border-left: 1px solid gray;box-sizing: border-box;top: 0;bottom: 0;left: 50%;z-index: 0;}#sk-container-id-37 div.sk-serial {display: flex;flex-direction: column;align-items: center;background-color: white;padding-right: 0.2em;padding-left: 0.2em;position: relative;}#sk-container-id-37 div.sk-item {position: relative;z-index: 1;}#sk-container-id-37 div.sk-parallel {display: flex;align-items: stretch;justify-content: center;background-color: white;position: relative;}#sk-container-id-37 div.sk-item::before, #sk-container-id-37 div.sk-parallel-item::before {content: \"\";position: absolute;border-left: 1px solid gray;box-sizing: border-box;top: 0;bottom: 0;left: 50%;z-index: -1;}#sk-container-id-37 div.sk-parallel-item {display: flex;flex-direction: column;z-index: 1;position: relative;background-color: white;}#sk-container-id-37 div.sk-parallel-item:first-child::after {align-self: flex-end;width: 50%;}#sk-container-id-37 div.sk-parallel-item:last-child::after {align-self: flex-start;width: 50%;}#sk-container-id-37 div.sk-parallel-item:only-child::after {width: 0;}#sk-container-id-37 div.sk-dashed-wrapped {border: 1px dashed gray;margin: 0 0.4em 0.5em 0.4em;box-sizing: border-box;padding-bottom: 0.4em;background-color: white;}#sk-container-id-37 div.sk-label label {font-family: monospace;font-weight: bold;display: inline-block;line-height: 1.2em;}#sk-container-id-37 div.sk-label-container {text-align: center;}#sk-container-id-37 div.sk-container {/* jupyter's `normalize.less` sets `[hidden] { display: none; }` but bootstrap.min.css set `[hidden] { display: none !important; }` so we also need the `!important` here to be able to override the default hidden behavior on the sphinx rendered scikit-learn.org. See: https://github.com/scikit-learn/scikit-learn/issues/21755 */display: inline-block !important;position: relative;}#sk-container-id-37 div.sk-text-repr-fallback {display: none;}</style><div id=\"sk-container-id-37\" class=\"sk-top-container\"><div class=\"sk-text-repr-fallback\"><pre>SVC(kernel=&#x27;linear&#x27;)</pre><b>In a Jupyter environment, please rerun this cell to show the HTML representation or trust the notebook. <br />On GitHub, the HTML representation is unable to render, please try loading this page with nbviewer.org.</b></div><div class=\"sk-container\" hidden><div class=\"sk-item\"><div class=\"sk-estimator sk-toggleable\"><input class=\"sk-toggleable__control sk-hidden--visually\" id=\"sk-estimator-id-49\" type=\"checkbox\" checked><label for=\"sk-estimator-id-49\" class=\"sk-toggleable__label sk-toggleable__label-arrow\">SVC</label><div class=\"sk-toggleable__content\"><pre>SVC(kernel=&#x27;linear&#x27;)</pre></div></div></div></div></div>"
            ]
          },
          "metadata": {},
          "execution_count": 134
        }
      ],
      "source": [
        "linear_svm = SVC(kernel='linear') #trying out linear SVC model before implementing polynomials\n",
        "linear_svm.fit(X_s_tr_scaled, y_tr)"
      ]
    },
    {
      "cell_type": "code",
      "execution_count": 135,
      "metadata": {
        "colab": {
          "base_uri": "https://localhost:8080/"
        },
        "id": "ePX-O1hbktPO",
        "outputId": "3652e492-52a6-45ca-dffb-d133b77c6fa3"
      },
      "outputs": [
        {
          "output_type": "stream",
          "name": "stdout",
          "text": [
            "Validation vs training: Model accuracy, precision, recall, f1, and support\n",
            "model accuracy on training data:\t 0.7475875\n",
            "Precision:\t [0.776 0.667 0.711] \n",
            "Recall:\t\t [0.933 0.81  0.181] \n",
            "Fscore:\t\t [0.848 0.731 0.288] \n",
            "Support:\t [47585 15164 17251]\n",
            "\n",
            "Confusion Matrix:\n",
            "[[44414  2857   314]\n",
            " [ 1933 12276   955]\n",
            " [10854  3280  3117]]\n"
          ]
        }
      ],
      "source": [
        "linear_svm_train_predictions = linear_svm.predict(X_s_tr_scaled) #creating predictions\n",
        "print(\"Validation vs training: Model accuracy, precision, recall, f1, and support\")#using score method for metrics\n",
        "print(\"model accuracy on training data:\\t\", linear_svm.score(X_s_tr_scaled, y_tr))\n",
        "prec, rec, fscore, supp = precision_recall_fscore_support(y_tr, linear_svm_train_predictions, average=None)\n",
        "print(\"Precision:\\t\", prec.round(3), \"\\nRecall:\\t\\t\", rec.round(3),\n",
        "      \"\\nFscore:\\t\\t\", fscore.round(3), \"\\nSupport:\\t\", supp.round(3))\n",
        "\n",
        "conf_matrix = confusion_matrix(y_tr, linear_svm_train_predictions)#printing confusion matrix\n",
        "print(\"\\nConfusion Matrix:\")\n",
        "print(conf_matrix)"
      ]
    },
    {
      "cell_type": "code",
      "execution_count": 136,
      "metadata": {
        "colab": {
          "base_uri": "https://localhost:8080/"
        },
        "id": "kAj-1y6NoSVo",
        "outputId": "a6819889-cd6d-45c0-c33d-37bc7c4edf64"
      },
      "outputs": [
        {
          "output_type": "stream",
          "name": "stdout",
          "text": [
            "Validation vs training: Model accuracy, precision, recall, f1, and support\n",
            "model accuracy on training data:\t 0.74645\n",
            "Precision:\t [0.778 0.659 0.712] \n",
            "Recall:\t\t [0.934 0.8   0.189] \n",
            "Fscore:\t\t [0.849 0.722 0.298] \n",
            "Support:\t [11860  3797  4343]\n",
            "\n",
            "Confusion Matrix:\n",
            "[[11073   702    85]\n",
            " [  514  3036   247]\n",
            " [ 2652   871   820]]\n"
          ]
        }
      ],
      "source": [
        "linear_svm_test_predictions = linear_svm.predict(X_s_tst_scaled)#creating predictions\n",
        "print(\"Validation vs training: Model accuracy, precision, recall, f1, and support\")#using score method for metrics\n",
        "print(\"model accuracy on training data:\\t\", linear_svm.score(X_s_tst_scaled, y_tst))\n",
        "prec, rec, fscore, supp = precision_recall_fscore_support(y_tst, linear_svm_test_predictions, average=None)\n",
        "print(\"Precision:\\t\", prec.round(3), \"\\nRecall:\\t\\t\", rec.round(3),\n",
        "      \"\\nFscore:\\t\\t\", fscore.round(3), \"\\nSupport:\\t\", supp.round(3))\n",
        "\n",
        "conf_matrix = confusion_matrix(y_tst, linear_svm_test_predictions)#printing confusion matrix\n",
        "print(\"\\nConfusion Matrix:\")\n",
        "print(conf_matrix)"
      ]
    },
    {
      "cell_type": "code",
      "execution_count": 137,
      "metadata": {
        "colab": {
          "base_uri": "https://localhost:8080/",
          "height": 124
        },
        "id": "Kw7JUfymple3",
        "outputId": "31989022-f88f-4e70-ffc2-9dbe8b8d55ae"
      },
      "outputs": [
        {
          "output_type": "execute_result",
          "data": {
            "text/plain": [
              "Pipeline(steps=[('standardscaler', StandardScaler()),\n",
              "                ('svc', SVC(C=5, coef0=1, kernel='poly'))])"
            ],
            "text/html": [
              "<style>#sk-container-id-38 {color: black;background-color: white;}#sk-container-id-38 pre{padding: 0;}#sk-container-id-38 div.sk-toggleable {background-color: white;}#sk-container-id-38 label.sk-toggleable__label {cursor: pointer;display: block;width: 100%;margin-bottom: 0;padding: 0.3em;box-sizing: border-box;text-align: center;}#sk-container-id-38 label.sk-toggleable__label-arrow:before {content: \"▸\";float: left;margin-right: 0.25em;color: #696969;}#sk-container-id-38 label.sk-toggleable__label-arrow:hover:before {color: black;}#sk-container-id-38 div.sk-estimator:hover label.sk-toggleable__label-arrow:before {color: black;}#sk-container-id-38 div.sk-toggleable__content {max-height: 0;max-width: 0;overflow: hidden;text-align: left;background-color: #f0f8ff;}#sk-container-id-38 div.sk-toggleable__content pre {margin: 0.2em;color: black;border-radius: 0.25em;background-color: #f0f8ff;}#sk-container-id-38 input.sk-toggleable__control:checked~div.sk-toggleable__content {max-height: 200px;max-width: 100%;overflow: auto;}#sk-container-id-38 input.sk-toggleable__control:checked~label.sk-toggleable__label-arrow:before {content: \"▾\";}#sk-container-id-38 div.sk-estimator input.sk-toggleable__control:checked~label.sk-toggleable__label {background-color: #d4ebff;}#sk-container-id-38 div.sk-label input.sk-toggleable__control:checked~label.sk-toggleable__label {background-color: #d4ebff;}#sk-container-id-38 input.sk-hidden--visually {border: 0;clip: rect(1px 1px 1px 1px);clip: rect(1px, 1px, 1px, 1px);height: 1px;margin: -1px;overflow: hidden;padding: 0;position: absolute;width: 1px;}#sk-container-id-38 div.sk-estimator {font-family: monospace;background-color: #f0f8ff;border: 1px dotted black;border-radius: 0.25em;box-sizing: border-box;margin-bottom: 0.5em;}#sk-container-id-38 div.sk-estimator:hover {background-color: #d4ebff;}#sk-container-id-38 div.sk-parallel-item::after {content: \"\";width: 100%;border-bottom: 1px solid gray;flex-grow: 1;}#sk-container-id-38 div.sk-label:hover label.sk-toggleable__label {background-color: #d4ebff;}#sk-container-id-38 div.sk-serial::before {content: \"\";position: absolute;border-left: 1px solid gray;box-sizing: border-box;top: 0;bottom: 0;left: 50%;z-index: 0;}#sk-container-id-38 div.sk-serial {display: flex;flex-direction: column;align-items: center;background-color: white;padding-right: 0.2em;padding-left: 0.2em;position: relative;}#sk-container-id-38 div.sk-item {position: relative;z-index: 1;}#sk-container-id-38 div.sk-parallel {display: flex;align-items: stretch;justify-content: center;background-color: white;position: relative;}#sk-container-id-38 div.sk-item::before, #sk-container-id-38 div.sk-parallel-item::before {content: \"\";position: absolute;border-left: 1px solid gray;box-sizing: border-box;top: 0;bottom: 0;left: 50%;z-index: -1;}#sk-container-id-38 div.sk-parallel-item {display: flex;flex-direction: column;z-index: 1;position: relative;background-color: white;}#sk-container-id-38 div.sk-parallel-item:first-child::after {align-self: flex-end;width: 50%;}#sk-container-id-38 div.sk-parallel-item:last-child::after {align-self: flex-start;width: 50%;}#sk-container-id-38 div.sk-parallel-item:only-child::after {width: 0;}#sk-container-id-38 div.sk-dashed-wrapped {border: 1px dashed gray;margin: 0 0.4em 0.5em 0.4em;box-sizing: border-box;padding-bottom: 0.4em;background-color: white;}#sk-container-id-38 div.sk-label label {font-family: monospace;font-weight: bold;display: inline-block;line-height: 1.2em;}#sk-container-id-38 div.sk-label-container {text-align: center;}#sk-container-id-38 div.sk-container {/* jupyter's `normalize.less` sets `[hidden] { display: none; }` but bootstrap.min.css set `[hidden] { display: none !important; }` so we also need the `!important` here to be able to override the default hidden behavior on the sphinx rendered scikit-learn.org. See: https://github.com/scikit-learn/scikit-learn/issues/21755 */display: inline-block !important;position: relative;}#sk-container-id-38 div.sk-text-repr-fallback {display: none;}</style><div id=\"sk-container-id-38\" class=\"sk-top-container\"><div class=\"sk-text-repr-fallback\"><pre>Pipeline(steps=[(&#x27;standardscaler&#x27;, StandardScaler()),\n",
              "                (&#x27;svc&#x27;, SVC(C=5, coef0=1, kernel=&#x27;poly&#x27;))])</pre><b>In a Jupyter environment, please rerun this cell to show the HTML representation or trust the notebook. <br />On GitHub, the HTML representation is unable to render, please try loading this page with nbviewer.org.</b></div><div class=\"sk-container\" hidden><div class=\"sk-item sk-dashed-wrapped\"><div class=\"sk-label-container\"><div class=\"sk-label sk-toggleable\"><input class=\"sk-toggleable__control sk-hidden--visually\" id=\"sk-estimator-id-50\" type=\"checkbox\" ><label for=\"sk-estimator-id-50\" class=\"sk-toggleable__label sk-toggleable__label-arrow\">Pipeline</label><div class=\"sk-toggleable__content\"><pre>Pipeline(steps=[(&#x27;standardscaler&#x27;, StandardScaler()),\n",
              "                (&#x27;svc&#x27;, SVC(C=5, coef0=1, kernel=&#x27;poly&#x27;))])</pre></div></div></div><div class=\"sk-serial\"><div class=\"sk-item\"><div class=\"sk-estimator sk-toggleable\"><input class=\"sk-toggleable__control sk-hidden--visually\" id=\"sk-estimator-id-51\" type=\"checkbox\" ><label for=\"sk-estimator-id-51\" class=\"sk-toggleable__label sk-toggleable__label-arrow\">StandardScaler</label><div class=\"sk-toggleable__content\"><pre>StandardScaler()</pre></div></div></div><div class=\"sk-item\"><div class=\"sk-estimator sk-toggleable\"><input class=\"sk-toggleable__control sk-hidden--visually\" id=\"sk-estimator-id-52\" type=\"checkbox\" ><label for=\"sk-estimator-id-52\" class=\"sk-toggleable__label sk-toggleable__label-arrow\">SVC</label><div class=\"sk-toggleable__content\"><pre>SVC(C=5, coef0=1, kernel=&#x27;poly&#x27;)</pre></div></div></div></div></div></div></div>"
            ]
          },
          "metadata": {},
          "execution_count": 137
        }
      ],
      "source": [
        "poly_kernel_svm_clf = make_pipeline(StandardScaler(),SVC(kernel=\"poly\", degree=3, coef0=1, C=5))\n",
        "poly_kernel_svm_clf.fit(X_s_tr_scaled, y_tr)#setting up / fitting polynomial kernel svm to compare to linear"
      ]
    },
    {
      "cell_type": "code",
      "execution_count": 138,
      "metadata": {
        "colab": {
          "base_uri": "https://localhost:8080/"
        },
        "id": "7B5txXEu23EE",
        "outputId": "2de2b2f9-eb93-4f3f-b724-13585b04873b"
      },
      "outputs": [
        {
          "output_type": "stream",
          "name": "stdout",
          "text": [
            "Validation vs training: Model accuracy, precision, recall, f1, and support\n",
            "model accuracy on training data:\t 0.8269\n",
            "Precision:\t [0.868 0.716 0.814] \n",
            "Recall:\t\t [0.937 0.836 0.516] \n",
            "Fscore:\t\t [0.901 0.771 0.631] \n",
            "Support:\t [47585 15164 17251]\n",
            "\n",
            "Confusion Matrix:\n",
            "[[44584  1839  1162]\n",
            " [ 1625 12675   864]\n",
            " [ 5177  3181  8893]]\n"
          ]
        }
      ],
      "source": [
        "poly_svm_train_predictions = poly_kernel_svm_clf.predict(X_s_tr_scaled)#creating predictions\n",
        "print(\"Validation vs training: Model accuracy, precision, recall, f1, and support\")#using score method for metrics\n",
        "print(\"model accuracy on training data:\\t\", poly_kernel_svm_clf.score(X_s_tr_scaled, y_tr))\n",
        "prec, rec, fscore, supp = precision_recall_fscore_support(y_tr, poly_svm_train_predictions, average=None)\n",
        "print(\"Precision:\\t\", prec.round(3), \"\\nRecall:\\t\\t\", rec.round(3),\n",
        "      \"\\nFscore:\\t\\t\", fscore.round(3), \"\\nSupport:\\t\", supp.round(3))\n",
        "\n",
        "conf_matrix = confusion_matrix(y_tr, poly_svm_train_predictions)#printing confusion matrix\n",
        "print(\"\\nConfusion Matrix:\")\n",
        "print(conf_matrix)"
      ]
    },
    {
      "cell_type": "code",
      "execution_count": 139,
      "metadata": {
        "colab": {
          "base_uri": "https://localhost:8080/"
        },
        "id": "MaT2RX7Y46ak",
        "outputId": "bf6e490c-c8b2-4990-dd8b-5733206d2b0e"
      },
      "outputs": [
        {
          "output_type": "stream",
          "name": "stdout",
          "text": [
            "Validation vs training: Model accuracy, precision, recall, f1, and support\n",
            "model accuracy on training data:\t 0.8241\n",
            "Precision:\t [0.868 0.708 0.809] \n",
            "Recall:\t\t [0.937 0.826 0.516] \n",
            "Fscore:\t\t [0.901 0.762 0.63 ] \n",
            "Support:\t [11860  3797  4343]\n",
            "\n",
            "Confusion Matrix:\n",
            "[[11108   455   297]\n",
            " [  429  3135   233]\n",
            " [ 1264   840  2239]]\n"
          ]
        }
      ],
      "source": [
        "poly_svm_test_predictions = poly_kernel_svm_clf.predict(X_s_tst_scaled)#creating predictions\n",
        "print(\"Validation vs training: Model accuracy, precision, recall, f1, and support\")#using score method for metrics\n",
        "print(\"model accuracy on training data:\\t\", poly_kernel_svm_clf.score(X_s_tst_scaled, y_tst))\n",
        "prec, rec, fscore, supp = precision_recall_fscore_support(y_tst, poly_svm_test_predictions, average=None)\n",
        "print(\"Precision:\\t\", prec.round(3), \"\\nRecall:\\t\\t\", rec.round(3),\n",
        "      \"\\nFscore:\\t\\t\", fscore.round(3), \"\\nSupport:\\t\", supp.round(3))\n",
        "\n",
        "conf_matrix = confusion_matrix(y_tst, poly_svm_test_predictions)#printing confusion matrix\n",
        "print(\"\\nConfusion Matrix:\")\n",
        "print(conf_matrix)"
      ]
    },
    {
      "cell_type": "code",
      "execution_count": 140,
      "metadata": {
        "colab": {
          "base_uri": "https://localhost:8080/",
          "height": 74
        },
        "id": "A0GeMrFU8kTy",
        "outputId": "11708c07-3e80-40f8-c8b5-bb284ee4b7a0"
      },
      "outputs": [
        {
          "output_type": "execute_result",
          "data": {
            "text/plain": [
              "SGDClassifier(max_iter=10000, random_state=42)"
            ],
            "text/html": [
              "<style>#sk-container-id-39 {color: black;background-color: white;}#sk-container-id-39 pre{padding: 0;}#sk-container-id-39 div.sk-toggleable {background-color: white;}#sk-container-id-39 label.sk-toggleable__label {cursor: pointer;display: block;width: 100%;margin-bottom: 0;padding: 0.3em;box-sizing: border-box;text-align: center;}#sk-container-id-39 label.sk-toggleable__label-arrow:before {content: \"▸\";float: left;margin-right: 0.25em;color: #696969;}#sk-container-id-39 label.sk-toggleable__label-arrow:hover:before {color: black;}#sk-container-id-39 div.sk-estimator:hover label.sk-toggleable__label-arrow:before {color: black;}#sk-container-id-39 div.sk-toggleable__content {max-height: 0;max-width: 0;overflow: hidden;text-align: left;background-color: #f0f8ff;}#sk-container-id-39 div.sk-toggleable__content pre {margin: 0.2em;color: black;border-radius: 0.25em;background-color: #f0f8ff;}#sk-container-id-39 input.sk-toggleable__control:checked~div.sk-toggleable__content {max-height: 200px;max-width: 100%;overflow: auto;}#sk-container-id-39 input.sk-toggleable__control:checked~label.sk-toggleable__label-arrow:before {content: \"▾\";}#sk-container-id-39 div.sk-estimator input.sk-toggleable__control:checked~label.sk-toggleable__label {background-color: #d4ebff;}#sk-container-id-39 div.sk-label input.sk-toggleable__control:checked~label.sk-toggleable__label {background-color: #d4ebff;}#sk-container-id-39 input.sk-hidden--visually {border: 0;clip: rect(1px 1px 1px 1px);clip: rect(1px, 1px, 1px, 1px);height: 1px;margin: -1px;overflow: hidden;padding: 0;position: absolute;width: 1px;}#sk-container-id-39 div.sk-estimator {font-family: monospace;background-color: #f0f8ff;border: 1px dotted black;border-radius: 0.25em;box-sizing: border-box;margin-bottom: 0.5em;}#sk-container-id-39 div.sk-estimator:hover {background-color: #d4ebff;}#sk-container-id-39 div.sk-parallel-item::after {content: \"\";width: 100%;border-bottom: 1px solid gray;flex-grow: 1;}#sk-container-id-39 div.sk-label:hover label.sk-toggleable__label {background-color: #d4ebff;}#sk-container-id-39 div.sk-serial::before {content: \"\";position: absolute;border-left: 1px solid gray;box-sizing: border-box;top: 0;bottom: 0;left: 50%;z-index: 0;}#sk-container-id-39 div.sk-serial {display: flex;flex-direction: column;align-items: center;background-color: white;padding-right: 0.2em;padding-left: 0.2em;position: relative;}#sk-container-id-39 div.sk-item {position: relative;z-index: 1;}#sk-container-id-39 div.sk-parallel {display: flex;align-items: stretch;justify-content: center;background-color: white;position: relative;}#sk-container-id-39 div.sk-item::before, #sk-container-id-39 div.sk-parallel-item::before {content: \"\";position: absolute;border-left: 1px solid gray;box-sizing: border-box;top: 0;bottom: 0;left: 50%;z-index: -1;}#sk-container-id-39 div.sk-parallel-item {display: flex;flex-direction: column;z-index: 1;position: relative;background-color: white;}#sk-container-id-39 div.sk-parallel-item:first-child::after {align-self: flex-end;width: 50%;}#sk-container-id-39 div.sk-parallel-item:last-child::after {align-self: flex-start;width: 50%;}#sk-container-id-39 div.sk-parallel-item:only-child::after {width: 0;}#sk-container-id-39 div.sk-dashed-wrapped {border: 1px dashed gray;margin: 0 0.4em 0.5em 0.4em;box-sizing: border-box;padding-bottom: 0.4em;background-color: white;}#sk-container-id-39 div.sk-label label {font-family: monospace;font-weight: bold;display: inline-block;line-height: 1.2em;}#sk-container-id-39 div.sk-label-container {text-align: center;}#sk-container-id-39 div.sk-container {/* jupyter's `normalize.less` sets `[hidden] { display: none; }` but bootstrap.min.css set `[hidden] { display: none !important; }` so we also need the `!important` here to be able to override the default hidden behavior on the sphinx rendered scikit-learn.org. See: https://github.com/scikit-learn/scikit-learn/issues/21755 */display: inline-block !important;position: relative;}#sk-container-id-39 div.sk-text-repr-fallback {display: none;}</style><div id=\"sk-container-id-39\" class=\"sk-top-container\"><div class=\"sk-text-repr-fallback\"><pre>SGDClassifier(max_iter=10000, random_state=42)</pre><b>In a Jupyter environment, please rerun this cell to show the HTML representation or trust the notebook. <br />On GitHub, the HTML representation is unable to render, please try loading this page with nbviewer.org.</b></div><div class=\"sk-container\" hidden><div class=\"sk-item\"><div class=\"sk-estimator sk-toggleable\"><input class=\"sk-toggleable__control sk-hidden--visually\" id=\"sk-estimator-id-53\" type=\"checkbox\" checked><label for=\"sk-estimator-id-53\" class=\"sk-toggleable__label sk-toggleable__label-arrow\">SGDClassifier</label><div class=\"sk-toggleable__content\"><pre>SGDClassifier(max_iter=10000, random_state=42)</pre></div></div></div></div></div>"
            ]
          },
          "metadata": {},
          "execution_count": 140
        }
      ],
      "source": [
        "from sklearn.linear_model import SGDClassifier#importing SGDClassifier\n",
        "sgd_clf = SGDClassifier(max_iter=10000, random_state=42)#initializing classifier and fitting SGD model\n",
        "sgd_clf.fit(X_s_tr_scaled,y_tr)"
      ]
    },
    {
      "cell_type": "code",
      "execution_count": 141,
      "metadata": {
        "colab": {
          "base_uri": "https://localhost:8080/"
        },
        "id": "Be8u9oGGe1VO",
        "outputId": "94432335-3b1f-4542-d2e2-a8d37f34e69c"
      },
      "outputs": [
        {
          "output_type": "stream",
          "name": "stdout",
          "text": [
            "Validation vs training: Model accuracy, precision, recall, f1, and support\n",
            "model accuracy on training data:\t 0.712\n",
            "Precision:\t [0.761 0.588 1.   ] \n",
            "Recall:\t\t [0.919 0.873 0.   ] \n",
            "Fscore:\t\t [0.832 0.702 0.001] \n",
            "Support:\t [47585 15164 17251]\n",
            "\n",
            "Confusion Matrix:\n",
            "[[43713  3872     0]\n",
            " [ 1924 13240     0]\n",
            " [11825  5419     7]]\n"
          ]
        }
      ],
      "source": [
        "sgd_clf_train_predictions = sgd_clf.predict(X_s_tr_scaled)#creating predictions\n",
        "print(\"Validation vs training: Model accuracy, precision, recall, f1, and support\")#using score method for metrics\n",
        "print(\"model accuracy on training data:\\t\", sgd_clf.score(X_s_tr_scaled, y_tr))\n",
        "prec, rec, fscore, supp = precision_recall_fscore_support(y_tr, sgd_clf_train_predictions, average=None)\n",
        "print(\"Precision:\\t\", prec.round(3), \"\\nRecall:\\t\\t\", rec.round(3),\n",
        "      \"\\nFscore:\\t\\t\", fscore.round(3), \"\\nSupport:\\t\", supp.round(3))\n",
        "\n",
        "conf_matrix = confusion_matrix(y_tr, sgd_clf_train_predictions)#printing confusion matrix\n",
        "print(\"\\nConfusion Matrix:\")\n",
        "print(conf_matrix)"
      ]
    },
    {
      "cell_type": "code",
      "execution_count": 142,
      "metadata": {
        "colab": {
          "base_uri": "https://localhost:8080/"
        },
        "id": "oQwDrD2akX8w",
        "outputId": "d7f88b8c-6be8-4bb8-de84-366b39fba3da"
      },
      "outputs": [
        {
          "output_type": "stream",
          "name": "stdout",
          "text": [
            "Validation vs training: Model accuracy, precision, recall, f1, and support\n",
            "model accuracy on training data:\t 0.7095\n",
            "Precision:\t [0.762 0.579 1.   ] \n",
            "Recall:\t\t [0.918 0.869 0.   ] \n",
            "Fscore:\t\t [0.833 0.695 0.   ] \n",
            "Support:\t [11860  3797  4343]\n",
            "\n",
            "Confusion Matrix:\n",
            "[[10889   971     0]\n",
            " [  497  3300     0]\n",
            " [ 2909  1433     1]]\n"
          ]
        }
      ],
      "source": [
        "sgd_clf_test_predictions = sgd_clf.predict(X_s_tst_scaled)#creating predictions\n",
        "print(\"Validation vs training: Model accuracy, precision, recall, f1, and support\")#using score method for metrics\n",
        "print(\"model accuracy on training data:\\t\", sgd_clf.score(X_s_tst_scaled, y_tst))\n",
        "prec, rec, fscore, supp = precision_recall_fscore_support(y_tst, sgd_clf_test_predictions, average=None)\n",
        "print(\"Precision:\\t\", prec.round(3), \"\\nRecall:\\t\\t\", rec.round(3),\n",
        "      \"\\nFscore:\\t\\t\", fscore.round(3), \"\\nSupport:\\t\", supp.round(3))\n",
        "\n",
        "conf_matrix = confusion_matrix(y_tst, sgd_clf_test_predictions)#printing confusion matrix\n",
        "print(\"\\nConfusion Matrix:\")\n",
        "print(conf_matrix)"
      ]
    },
    {
      "cell_type": "markdown",
      "source": [
        "# 3D Position Information"
      ],
      "metadata": {
        "id": "EGBGucsli6mo"
      }
    },
    {
      "cell_type": "code",
      "execution_count": 143,
      "metadata": {
        "id": "A1KTwOrzlNq1"
      },
      "outputs": [],
      "source": [
        "scaler_s = StandardScaler()#initializing standard scaler for spectroscopic dataset\n",
        "\n",
        "X_p_tr_scaled = scaler_s.fit_transform(X_p_tr)#fit / transform training data\n",
        "\n",
        "X_p_tst_scaled = scaler_s.transform(X_p_tst)#transform testing data"
      ]
    },
    {
      "cell_type": "code",
      "execution_count": 144,
      "metadata": {
        "colab": {
          "base_uri": "https://localhost:8080/",
          "height": 74
        },
        "id": "Cgc1-G4NmOIT",
        "outputId": "7688fcae-39a7-48c1-a4ea-53df3131e60a"
      },
      "outputs": [
        {
          "output_type": "execute_result",
          "data": {
            "text/plain": [
              "DecisionTreeClassifier(max_depth=2, random_state=42)"
            ],
            "text/html": [
              "<style>#sk-container-id-40 {color: black;background-color: white;}#sk-container-id-40 pre{padding: 0;}#sk-container-id-40 div.sk-toggleable {background-color: white;}#sk-container-id-40 label.sk-toggleable__label {cursor: pointer;display: block;width: 100%;margin-bottom: 0;padding: 0.3em;box-sizing: border-box;text-align: center;}#sk-container-id-40 label.sk-toggleable__label-arrow:before {content: \"▸\";float: left;margin-right: 0.25em;color: #696969;}#sk-container-id-40 label.sk-toggleable__label-arrow:hover:before {color: black;}#sk-container-id-40 div.sk-estimator:hover label.sk-toggleable__label-arrow:before {color: black;}#sk-container-id-40 div.sk-toggleable__content {max-height: 0;max-width: 0;overflow: hidden;text-align: left;background-color: #f0f8ff;}#sk-container-id-40 div.sk-toggleable__content pre {margin: 0.2em;color: black;border-radius: 0.25em;background-color: #f0f8ff;}#sk-container-id-40 input.sk-toggleable__control:checked~div.sk-toggleable__content {max-height: 200px;max-width: 100%;overflow: auto;}#sk-container-id-40 input.sk-toggleable__control:checked~label.sk-toggleable__label-arrow:before {content: \"▾\";}#sk-container-id-40 div.sk-estimator input.sk-toggleable__control:checked~label.sk-toggleable__label {background-color: #d4ebff;}#sk-container-id-40 div.sk-label input.sk-toggleable__control:checked~label.sk-toggleable__label {background-color: #d4ebff;}#sk-container-id-40 input.sk-hidden--visually {border: 0;clip: rect(1px 1px 1px 1px);clip: rect(1px, 1px, 1px, 1px);height: 1px;margin: -1px;overflow: hidden;padding: 0;position: absolute;width: 1px;}#sk-container-id-40 div.sk-estimator {font-family: monospace;background-color: #f0f8ff;border: 1px dotted black;border-radius: 0.25em;box-sizing: border-box;margin-bottom: 0.5em;}#sk-container-id-40 div.sk-estimator:hover {background-color: #d4ebff;}#sk-container-id-40 div.sk-parallel-item::after {content: \"\";width: 100%;border-bottom: 1px solid gray;flex-grow: 1;}#sk-container-id-40 div.sk-label:hover label.sk-toggleable__label {background-color: #d4ebff;}#sk-container-id-40 div.sk-serial::before {content: \"\";position: absolute;border-left: 1px solid gray;box-sizing: border-box;top: 0;bottom: 0;left: 50%;z-index: 0;}#sk-container-id-40 div.sk-serial {display: flex;flex-direction: column;align-items: center;background-color: white;padding-right: 0.2em;padding-left: 0.2em;position: relative;}#sk-container-id-40 div.sk-item {position: relative;z-index: 1;}#sk-container-id-40 div.sk-parallel {display: flex;align-items: stretch;justify-content: center;background-color: white;position: relative;}#sk-container-id-40 div.sk-item::before, #sk-container-id-40 div.sk-parallel-item::before {content: \"\";position: absolute;border-left: 1px solid gray;box-sizing: border-box;top: 0;bottom: 0;left: 50%;z-index: -1;}#sk-container-id-40 div.sk-parallel-item {display: flex;flex-direction: column;z-index: 1;position: relative;background-color: white;}#sk-container-id-40 div.sk-parallel-item:first-child::after {align-self: flex-end;width: 50%;}#sk-container-id-40 div.sk-parallel-item:last-child::after {align-self: flex-start;width: 50%;}#sk-container-id-40 div.sk-parallel-item:only-child::after {width: 0;}#sk-container-id-40 div.sk-dashed-wrapped {border: 1px dashed gray;margin: 0 0.4em 0.5em 0.4em;box-sizing: border-box;padding-bottom: 0.4em;background-color: white;}#sk-container-id-40 div.sk-label label {font-family: monospace;font-weight: bold;display: inline-block;line-height: 1.2em;}#sk-container-id-40 div.sk-label-container {text-align: center;}#sk-container-id-40 div.sk-container {/* jupyter's `normalize.less` sets `[hidden] { display: none; }` but bootstrap.min.css set `[hidden] { display: none !important; }` so we also need the `!important` here to be able to override the default hidden behavior on the sphinx rendered scikit-learn.org. See: https://github.com/scikit-learn/scikit-learn/issues/21755 */display: inline-block !important;position: relative;}#sk-container-id-40 div.sk-text-repr-fallback {display: none;}</style><div id=\"sk-container-id-40\" class=\"sk-top-container\"><div class=\"sk-text-repr-fallback\"><pre>DecisionTreeClassifier(max_depth=2, random_state=42)</pre><b>In a Jupyter environment, please rerun this cell to show the HTML representation or trust the notebook. <br />On GitHub, the HTML representation is unable to render, please try loading this page with nbviewer.org.</b></div><div class=\"sk-container\" hidden><div class=\"sk-item\"><div class=\"sk-estimator sk-toggleable\"><input class=\"sk-toggleable__control sk-hidden--visually\" id=\"sk-estimator-id-54\" type=\"checkbox\" checked><label for=\"sk-estimator-id-54\" class=\"sk-toggleable__label sk-toggleable__label-arrow\">DecisionTreeClassifier</label><div class=\"sk-toggleable__content\"><pre>DecisionTreeClassifier(max_depth=2, random_state=42)</pre></div></div></div></div></div>"
            ]
          },
          "metadata": {},
          "execution_count": 144
        }
      ],
      "source": [
        "pos_decision_tree = DecisionTreeClassifier(max_depth=2, random_state=42)#Define decision tree model and fit model\n",
        "pos_decision_tree.fit(X_p_tr, y_tr)"
      ]
    },
    {
      "cell_type": "code",
      "execution_count": 145,
      "metadata": {
        "colab": {
          "base_uri": "https://localhost:8080/"
        },
        "id": "jex0A_bCoTO7",
        "outputId": "071e544b-cba8-41eb-94ea-b78524b0454d"
      },
      "outputs": [
        {
          "output_type": "stream",
          "name": "stderr",
          "text": [
            "/usr/local/lib/python3.10/dist-packages/sklearn/base.py:439: UserWarning: X does not have valid feature names, but DecisionTreeClassifier was fitted with feature names\n",
            "  warnings.warn(\n",
            "/usr/local/lib/python3.10/dist-packages/sklearn/base.py:439: UserWarning: X does not have valid feature names, but DecisionTreeClassifier was fitted with feature names\n",
            "  warnings.warn(\n",
            "/usr/local/lib/python3.10/dist-packages/sklearn/base.py:439: UserWarning: X does not have valid feature names, but DecisionTreeClassifier was fitted with feature names\n",
            "  warnings.warn(\n",
            "/usr/local/lib/python3.10/dist-packages/sklearn/base.py:439: UserWarning: X does not have valid feature names, but DecisionTreeClassifier was fitted with feature names\n",
            "  warnings.warn(\n"
          ]
        },
        {
          "output_type": "stream",
          "name": "stdout",
          "text": [
            "model accuracy on training data:\t 0.499\n",
            "Precision:\t [0.751 0.985 0.326] \n",
            "Recall:\t\t [0.27 0.65 1.  ] \n",
            "Fscore:\t\t [0.397 0.783 0.492] \n",
            "Support:\t [47585 15164 17251]\n",
            "model accuracy on testing data:\t 0.498\n",
            "Precision:\t [0.747 0.984 0.327] \n",
            "Recall:\t\t [0.267 0.644 1.   ] \n",
            "Fscore:\t\t [0.394 0.779 0.493] \n",
            "Support:\t [11860  3797  4343]\n",
            "\n",
            "Confusion Matrix:\n",
            "[[12832   152 34601]\n",
            " [ 4258  9863  1043]\n",
            " [    0     0 17251]]\n",
            "\n",
            "Confusion Matrix:\n",
            "[[3171   40 8649]\n",
            " [1072 2447  278]\n",
            " [   0    0 4343]]\n"
          ]
        }
      ],
      "source": [
        "acc_train = pos_decision_tree.score(X_p_tr_scaled, y_tr)#using scoring method for decision tree\n",
        "acct = pos_decision_tree.score(X_p_tst_scaled, y_tst)\n",
        "\n",
        "y = y_tr; yt=y_tst#defining y train and y test\n",
        "\n",
        "predy = pos_decision_tree.predict(X_p_tr_scaled)# making predictions\n",
        "predyt = pos_decision_tree.predict(X_p_tst_scaled)\n",
        "\n",
        "print(\"model accuracy on training data:\\t\", acc_train.round(3))# printing metrics\n",
        "prec, rec, fscore, supp = precision_recall_fscore_support(y, predy, average=None, zero_division=1)\n",
        "print(\"Precision:\\t\", prec.round(3), \"\\nRecall:\\t\\t\", rec.round(3), \"\\nFscore:\\t\\t\", fscore.round(3), \"\\nSupport:\\t\", supp)\n",
        "\n",
        "print(\"model accuracy on testing data:\\t\", acct.round(3))\n",
        "prec, rec, fscore, supp = precision_recall_fscore_support(yt, predyt, average=None, zero_division=1)\n",
        "print(\"Precision:\\t\", prec.round(3), \"\\nRecall:\\t\\t\", rec.round(3), \"\\nFscore:\\t\\t\", fscore.round(3), \"\\nSupport:\\t\", supp)\n",
        "\n",
        "conf_matrix = confusion_matrix(y_tr, predy)#printing confusion matrix\n",
        "print(\"\\nConfusion Matrix:\")\n",
        "print(conf_matrix)\n",
        "\n",
        "conf_matrix = confusion_matrix(y_tst, predyt)\n",
        "print(\"\\nConfusion Matrix:\")\n",
        "print(conf_matrix)"
      ]
    },
    {
      "cell_type": "code",
      "execution_count": 146,
      "metadata": {
        "colab": {
          "base_uri": "https://localhost:8080/",
          "height": 74
        },
        "id": "vyBb1PBItJI0",
        "outputId": "323c8a08-d75d-46e5-e835-c4911652a5ec"
      },
      "outputs": [
        {
          "output_type": "execute_result",
          "data": {
            "text/plain": [
              "SVC(kernel='linear')"
            ],
            "text/html": [
              "<style>#sk-container-id-41 {color: black;background-color: white;}#sk-container-id-41 pre{padding: 0;}#sk-container-id-41 div.sk-toggleable {background-color: white;}#sk-container-id-41 label.sk-toggleable__label {cursor: pointer;display: block;width: 100%;margin-bottom: 0;padding: 0.3em;box-sizing: border-box;text-align: center;}#sk-container-id-41 label.sk-toggleable__label-arrow:before {content: \"▸\";float: left;margin-right: 0.25em;color: #696969;}#sk-container-id-41 label.sk-toggleable__label-arrow:hover:before {color: black;}#sk-container-id-41 div.sk-estimator:hover label.sk-toggleable__label-arrow:before {color: black;}#sk-container-id-41 div.sk-toggleable__content {max-height: 0;max-width: 0;overflow: hidden;text-align: left;background-color: #f0f8ff;}#sk-container-id-41 div.sk-toggleable__content pre {margin: 0.2em;color: black;border-radius: 0.25em;background-color: #f0f8ff;}#sk-container-id-41 input.sk-toggleable__control:checked~div.sk-toggleable__content {max-height: 200px;max-width: 100%;overflow: auto;}#sk-container-id-41 input.sk-toggleable__control:checked~label.sk-toggleable__label-arrow:before {content: \"▾\";}#sk-container-id-41 div.sk-estimator input.sk-toggleable__control:checked~label.sk-toggleable__label {background-color: #d4ebff;}#sk-container-id-41 div.sk-label input.sk-toggleable__control:checked~label.sk-toggleable__label {background-color: #d4ebff;}#sk-container-id-41 input.sk-hidden--visually {border: 0;clip: rect(1px 1px 1px 1px);clip: rect(1px, 1px, 1px, 1px);height: 1px;margin: -1px;overflow: hidden;padding: 0;position: absolute;width: 1px;}#sk-container-id-41 div.sk-estimator {font-family: monospace;background-color: #f0f8ff;border: 1px dotted black;border-radius: 0.25em;box-sizing: border-box;margin-bottom: 0.5em;}#sk-container-id-41 div.sk-estimator:hover {background-color: #d4ebff;}#sk-container-id-41 div.sk-parallel-item::after {content: \"\";width: 100%;border-bottom: 1px solid gray;flex-grow: 1;}#sk-container-id-41 div.sk-label:hover label.sk-toggleable__label {background-color: #d4ebff;}#sk-container-id-41 div.sk-serial::before {content: \"\";position: absolute;border-left: 1px solid gray;box-sizing: border-box;top: 0;bottom: 0;left: 50%;z-index: 0;}#sk-container-id-41 div.sk-serial {display: flex;flex-direction: column;align-items: center;background-color: white;padding-right: 0.2em;padding-left: 0.2em;position: relative;}#sk-container-id-41 div.sk-item {position: relative;z-index: 1;}#sk-container-id-41 div.sk-parallel {display: flex;align-items: stretch;justify-content: center;background-color: white;position: relative;}#sk-container-id-41 div.sk-item::before, #sk-container-id-41 div.sk-parallel-item::before {content: \"\";position: absolute;border-left: 1px solid gray;box-sizing: border-box;top: 0;bottom: 0;left: 50%;z-index: -1;}#sk-container-id-41 div.sk-parallel-item {display: flex;flex-direction: column;z-index: 1;position: relative;background-color: white;}#sk-container-id-41 div.sk-parallel-item:first-child::after {align-self: flex-end;width: 50%;}#sk-container-id-41 div.sk-parallel-item:last-child::after {align-self: flex-start;width: 50%;}#sk-container-id-41 div.sk-parallel-item:only-child::after {width: 0;}#sk-container-id-41 div.sk-dashed-wrapped {border: 1px dashed gray;margin: 0 0.4em 0.5em 0.4em;box-sizing: border-box;padding-bottom: 0.4em;background-color: white;}#sk-container-id-41 div.sk-label label {font-family: monospace;font-weight: bold;display: inline-block;line-height: 1.2em;}#sk-container-id-41 div.sk-label-container {text-align: center;}#sk-container-id-41 div.sk-container {/* jupyter's `normalize.less` sets `[hidden] { display: none; }` but bootstrap.min.css set `[hidden] { display: none !important; }` so we also need the `!important` here to be able to override the default hidden behavior on the sphinx rendered scikit-learn.org. See: https://github.com/scikit-learn/scikit-learn/issues/21755 */display: inline-block !important;position: relative;}#sk-container-id-41 div.sk-text-repr-fallback {display: none;}</style><div id=\"sk-container-id-41\" class=\"sk-top-container\"><div class=\"sk-text-repr-fallback\"><pre>SVC(kernel=&#x27;linear&#x27;)</pre><b>In a Jupyter environment, please rerun this cell to show the HTML representation or trust the notebook. <br />On GitHub, the HTML representation is unable to render, please try loading this page with nbviewer.org.</b></div><div class=\"sk-container\" hidden><div class=\"sk-item\"><div class=\"sk-estimator sk-toggleable\"><input class=\"sk-toggleable__control sk-hidden--visually\" id=\"sk-estimator-id-55\" type=\"checkbox\" checked><label for=\"sk-estimator-id-55\" class=\"sk-toggleable__label sk-toggleable__label-arrow\">SVC</label><div class=\"sk-toggleable__content\"><pre>SVC(kernel=&#x27;linear&#x27;)</pre></div></div></div></div></div>"
            ]
          },
          "metadata": {},
          "execution_count": 146
        }
      ],
      "source": [
        "linear_svm = SVC(kernel='linear') #trying out linear SVC model before implementing polynomials\n",
        "linear_svm.fit(X_p_tr_scaled, y_tr)"
      ]
    },
    {
      "cell_type": "code",
      "execution_count": 147,
      "metadata": {
        "colab": {
          "base_uri": "https://localhost:8080/"
        },
        "id": "2CiJdqFhuBIE",
        "outputId": "67b21804-bcc9-434e-b4bf-15f9fb480976"
      },
      "outputs": [
        {
          "output_type": "stream",
          "name": "stdout",
          "text": [
            "Validation vs training: Model accuracy, precision, recall, f1, and support\n",
            "model accuracy on training data:\t 0.944125\n",
            "Precision:\t [0.934 0.956 0.963] \n",
            "Recall:\t\t [0.975 0.785 1.   ] \n",
            "Fscore:\t\t [0.954 0.862 0.981] \n",
            "Support:\t [47585 15164 17251]\n",
            "\n",
            "Confusion Matrix:\n",
            "[[46379   547   659]\n",
            " [ 3258 11900     6]\n",
            " [    0     0 17251]]\n"
          ]
        }
      ],
      "source": [
        "linear_svm_train_predictions = linear_svm.predict(X_p_tr_scaled)#creating predictions\n",
        "print(\"Validation vs training: Model accuracy, precision, recall, f1, and support\")#using score method for metrics\n",
        "print(\"model accuracy on training data:\\t\", linear_svm.score(X_p_tr_scaled, y_tr))\n",
        "prec, rec, fscore, supp = precision_recall_fscore_support(y_tr, linear_svm_train_predictions, average=None)\n",
        "print(\"Precision:\\t\", prec.round(3), \"\\nRecall:\\t\\t\", rec.round(3),\n",
        "      \"\\nFscore:\\t\\t\", fscore.round(3), \"\\nSupport:\\t\", supp.round(3))\n",
        "\n",
        "conf_matrix = confusion_matrix(y_tr, linear_svm_train_predictions)#printing confusion matrix\n",
        "print(\"\\nConfusion Matrix:\")\n",
        "print(conf_matrix)"
      ]
    },
    {
      "cell_type": "code",
      "execution_count": 148,
      "metadata": {
        "colab": {
          "base_uri": "https://localhost:8080/"
        },
        "id": "AFrNAIi_ujPW",
        "outputId": "8fd827d9-8957-40ff-9538-1db5abdec433"
      },
      "outputs": [
        {
          "output_type": "stream",
          "name": "stdout",
          "text": [
            "Validation vs training: Model accuracy, precision, recall, f1, and support\n",
            "model accuracy on training data:\t 0.9439\n",
            "Precision:\t [0.933 0.959 0.963] \n",
            "Recall:\t\t [0.975 0.782 1.   ] \n",
            "Fscore:\t\t [0.954 0.862 0.981] \n",
            "Support:\t [11860  3797  4343]\n",
            "\n",
            "Confusion Matrix:\n",
            "[[11564   128   168]\n",
            " [  825  2971     1]\n",
            " [    0     0  4343]]\n"
          ]
        }
      ],
      "source": [
        "linear_svm_test_predictions = linear_svm.predict(X_p_tst_scaled)#creating predictions\n",
        "print(\"Validation vs training: Model accuracy, precision, recall, f1, and support\")#using score method for metrics\n",
        "print(\"model accuracy on training data:\\t\", linear_svm.score(X_p_tst_scaled, y_tst))\n",
        "prec, rec, fscore, supp = precision_recall_fscore_support(y_tst, linear_svm_test_predictions, average=None)\n",
        "print(\"Precision:\\t\", prec.round(3), \"\\nRecall:\\t\\t\", rec.round(3),\n",
        "      \"\\nFscore:\\t\\t\", fscore.round(3), \"\\nSupport:\\t\", supp.round(3))\n",
        "\n",
        "conf_matrix = confusion_matrix(y_tst, linear_svm_test_predictions)#printing confusion matrix\n",
        "print(\"\\nConfusion Matrix:\")\n",
        "print(conf_matrix)"
      ]
    },
    {
      "cell_type": "code",
      "execution_count": 149,
      "metadata": {
        "colab": {
          "base_uri": "https://localhost:8080/",
          "height": 124
        },
        "id": "c8qNs4LRu6HV",
        "outputId": "70b2301b-7122-4bed-f468-d9d543fc647f"
      },
      "outputs": [
        {
          "output_type": "execute_result",
          "data": {
            "text/plain": [
              "Pipeline(steps=[('standardscaler', StandardScaler()),\n",
              "                ('svc', SVC(C=5, coef0=1, kernel='poly'))])"
            ],
            "text/html": [
              "<style>#sk-container-id-42 {color: black;background-color: white;}#sk-container-id-42 pre{padding: 0;}#sk-container-id-42 div.sk-toggleable {background-color: white;}#sk-container-id-42 label.sk-toggleable__label {cursor: pointer;display: block;width: 100%;margin-bottom: 0;padding: 0.3em;box-sizing: border-box;text-align: center;}#sk-container-id-42 label.sk-toggleable__label-arrow:before {content: \"▸\";float: left;margin-right: 0.25em;color: #696969;}#sk-container-id-42 label.sk-toggleable__label-arrow:hover:before {color: black;}#sk-container-id-42 div.sk-estimator:hover label.sk-toggleable__label-arrow:before {color: black;}#sk-container-id-42 div.sk-toggleable__content {max-height: 0;max-width: 0;overflow: hidden;text-align: left;background-color: #f0f8ff;}#sk-container-id-42 div.sk-toggleable__content pre {margin: 0.2em;color: black;border-radius: 0.25em;background-color: #f0f8ff;}#sk-container-id-42 input.sk-toggleable__control:checked~div.sk-toggleable__content {max-height: 200px;max-width: 100%;overflow: auto;}#sk-container-id-42 input.sk-toggleable__control:checked~label.sk-toggleable__label-arrow:before {content: \"▾\";}#sk-container-id-42 div.sk-estimator input.sk-toggleable__control:checked~label.sk-toggleable__label {background-color: #d4ebff;}#sk-container-id-42 div.sk-label input.sk-toggleable__control:checked~label.sk-toggleable__label {background-color: #d4ebff;}#sk-container-id-42 input.sk-hidden--visually {border: 0;clip: rect(1px 1px 1px 1px);clip: rect(1px, 1px, 1px, 1px);height: 1px;margin: -1px;overflow: hidden;padding: 0;position: absolute;width: 1px;}#sk-container-id-42 div.sk-estimator {font-family: monospace;background-color: #f0f8ff;border: 1px dotted black;border-radius: 0.25em;box-sizing: border-box;margin-bottom: 0.5em;}#sk-container-id-42 div.sk-estimator:hover {background-color: #d4ebff;}#sk-container-id-42 div.sk-parallel-item::after {content: \"\";width: 100%;border-bottom: 1px solid gray;flex-grow: 1;}#sk-container-id-42 div.sk-label:hover label.sk-toggleable__label {background-color: #d4ebff;}#sk-container-id-42 div.sk-serial::before {content: \"\";position: absolute;border-left: 1px solid gray;box-sizing: border-box;top: 0;bottom: 0;left: 50%;z-index: 0;}#sk-container-id-42 div.sk-serial {display: flex;flex-direction: column;align-items: center;background-color: white;padding-right: 0.2em;padding-left: 0.2em;position: relative;}#sk-container-id-42 div.sk-item {position: relative;z-index: 1;}#sk-container-id-42 div.sk-parallel {display: flex;align-items: stretch;justify-content: center;background-color: white;position: relative;}#sk-container-id-42 div.sk-item::before, #sk-container-id-42 div.sk-parallel-item::before {content: \"\";position: absolute;border-left: 1px solid gray;box-sizing: border-box;top: 0;bottom: 0;left: 50%;z-index: -1;}#sk-container-id-42 div.sk-parallel-item {display: flex;flex-direction: column;z-index: 1;position: relative;background-color: white;}#sk-container-id-42 div.sk-parallel-item:first-child::after {align-self: flex-end;width: 50%;}#sk-container-id-42 div.sk-parallel-item:last-child::after {align-self: flex-start;width: 50%;}#sk-container-id-42 div.sk-parallel-item:only-child::after {width: 0;}#sk-container-id-42 div.sk-dashed-wrapped {border: 1px dashed gray;margin: 0 0.4em 0.5em 0.4em;box-sizing: border-box;padding-bottom: 0.4em;background-color: white;}#sk-container-id-42 div.sk-label label {font-family: monospace;font-weight: bold;display: inline-block;line-height: 1.2em;}#sk-container-id-42 div.sk-label-container {text-align: center;}#sk-container-id-42 div.sk-container {/* jupyter's `normalize.less` sets `[hidden] { display: none; }` but bootstrap.min.css set `[hidden] { display: none !important; }` so we also need the `!important` here to be able to override the default hidden behavior on the sphinx rendered scikit-learn.org. See: https://github.com/scikit-learn/scikit-learn/issues/21755 */display: inline-block !important;position: relative;}#sk-container-id-42 div.sk-text-repr-fallback {display: none;}</style><div id=\"sk-container-id-42\" class=\"sk-top-container\"><div class=\"sk-text-repr-fallback\"><pre>Pipeline(steps=[(&#x27;standardscaler&#x27;, StandardScaler()),\n",
              "                (&#x27;svc&#x27;, SVC(C=5, coef0=1, kernel=&#x27;poly&#x27;))])</pre><b>In a Jupyter environment, please rerun this cell to show the HTML representation or trust the notebook. <br />On GitHub, the HTML representation is unable to render, please try loading this page with nbviewer.org.</b></div><div class=\"sk-container\" hidden><div class=\"sk-item sk-dashed-wrapped\"><div class=\"sk-label-container\"><div class=\"sk-label sk-toggleable\"><input class=\"sk-toggleable__control sk-hidden--visually\" id=\"sk-estimator-id-56\" type=\"checkbox\" ><label for=\"sk-estimator-id-56\" class=\"sk-toggleable__label sk-toggleable__label-arrow\">Pipeline</label><div class=\"sk-toggleable__content\"><pre>Pipeline(steps=[(&#x27;standardscaler&#x27;, StandardScaler()),\n",
              "                (&#x27;svc&#x27;, SVC(C=5, coef0=1, kernel=&#x27;poly&#x27;))])</pre></div></div></div><div class=\"sk-serial\"><div class=\"sk-item\"><div class=\"sk-estimator sk-toggleable\"><input class=\"sk-toggleable__control sk-hidden--visually\" id=\"sk-estimator-id-57\" type=\"checkbox\" ><label for=\"sk-estimator-id-57\" class=\"sk-toggleable__label sk-toggleable__label-arrow\">StandardScaler</label><div class=\"sk-toggleable__content\"><pre>StandardScaler()</pre></div></div></div><div class=\"sk-item\"><div class=\"sk-estimator sk-toggleable\"><input class=\"sk-toggleable__control sk-hidden--visually\" id=\"sk-estimator-id-58\" type=\"checkbox\" ><label for=\"sk-estimator-id-58\" class=\"sk-toggleable__label sk-toggleable__label-arrow\">SVC</label><div class=\"sk-toggleable__content\"><pre>SVC(C=5, coef0=1, kernel=&#x27;poly&#x27;)</pre></div></div></div></div></div></div></div>"
            ]
          },
          "metadata": {},
          "execution_count": 149
        }
      ],
      "source": [
        "poly_kernel_svm_clf = make_pipeline(StandardScaler(),SVC(kernel=\"poly\", degree=3, coef0=1, C=5))\n",
        "poly_kernel_svm_clf.fit(X_p_tr_scaled, y_tr)#setting up / fitting polynomial kernel svm to compare to linear"
      ]
    },
    {
      "cell_type": "code",
      "execution_count": 150,
      "metadata": {
        "colab": {
          "base_uri": "https://localhost:8080/"
        },
        "id": "0m75MhOHvM9S",
        "outputId": "6453cdfd-f23f-4a3f-aea3-78a268a64042"
      },
      "outputs": [
        {
          "output_type": "stream",
          "name": "stdout",
          "text": [
            "Validation vs training: Model accuracy, precision, recall, f1, and support\n",
            "model accuracy on training data:\t 0.9443875\n",
            "Precision:\t [0.929 0.968 0.972] \n",
            "Recall:\t\t [0.982 0.764 1.   ] \n",
            "Fscore:\t\t [0.955 0.854 0.986] \n",
            "Support:\t [47585 15164 17251]\n",
            "\n",
            "Confusion Matrix:\n",
            "[[46711   387   487]\n",
            " [ 3571 11589     4]\n",
            " [    0     0 17251]]\n"
          ]
        }
      ],
      "source": [
        "poly_svm_train_predictions = poly_kernel_svm_clf.predict(X_p_tr_scaled)#creating predictions\n",
        "print(\"Validation vs training: Model accuracy, precision, recall, f1, and support\")#using score method for metrics\n",
        "print(\"model accuracy on training data:\\t\", poly_kernel_svm_clf.score(X_p_tr_scaled, y_tr))\n",
        "prec, rec, fscore, supp = precision_recall_fscore_support(y_tr, poly_svm_train_predictions, average=None)\n",
        "print(\"Precision:\\t\", prec.round(3), \"\\nRecall:\\t\\t\", rec.round(3),\n",
        "      \"\\nFscore:\\t\\t\", fscore.round(3), \"\\nSupport:\\t\", supp.round(3))\n",
        "\n",
        "conf_matrix = confusion_matrix(y_tr, poly_svm_train_predictions)#printing confusion matrix\n",
        "print(\"\\nConfusion Matrix:\")\n",
        "print(conf_matrix)"
      ]
    },
    {
      "cell_type": "code",
      "source": [
        "poly_svm_test_predictions = poly_kernel_svm_clf.predict(X_p_tst_scaled)#creating predictions\n",
        "print(\"Validation vs training: Model accuracy, precision, recall, f1, and support\")#using score method for metrics\n",
        "print(\"model accuracy on training data:\\t\", poly_kernel_svm_clf.score(X_p_tst_scaled, y_tst))\n",
        "prec, rec, fscore, supp = precision_recall_fscore_support(y_tst, poly_svm_test_predictions, average=None)\n",
        "print(\"Precision:\\t\", prec.round(3), \"\\nRecall:\\t\\t\", rec.round(3),\n",
        "      \"\\nFscore:\\t\\t\", fscore.round(3), \"\\nSupport:\\t\", supp.round(3))\n",
        "\n",
        "conf_matrix = confusion_matrix(y_tst, poly_svm_test_predictions)#printing confusion matrix\n",
        "print(\"\\nConfusion Matrix:\")\n",
        "print(conf_matrix)"
      ],
      "metadata": {
        "colab": {
          "base_uri": "https://localhost:8080/"
        },
        "id": "VKnqAceXXern",
        "outputId": "2d0340a1-6f99-4ee1-ee42-da4091d3ea41"
      },
      "execution_count": 151,
      "outputs": [
        {
          "output_type": "stream",
          "name": "stdout",
          "text": [
            "Validation vs training: Model accuracy, precision, recall, f1, and support\n",
            "model accuracy on training data:\t 0.9447\n",
            "Precision:\t [0.929 0.969 0.972] \n",
            "Recall:\t\t [0.982 0.766 1.   ] \n",
            "Fscore:\t\t [0.955 0.856 0.986] \n",
            "Support:\t [11860  3797  4343]\n",
            "\n",
            "Confusion Matrix:\n",
            "[[11641    94   125]\n",
            " [  886  2910     1]\n",
            " [    0     0  4343]]\n"
          ]
        }
      ]
    },
    {
      "cell_type": "code",
      "source": [
        "sgd_clf = SGDClassifier(max_iter=10000, random_state=42)#\n",
        "sgd_clf.fit(X_p_tr_scaled,y_tr)#initializing classifier and fitting SGD model"
      ],
      "metadata": {
        "colab": {
          "base_uri": "https://localhost:8080/",
          "height": 74
        },
        "id": "qniMG9umX17p",
        "outputId": "b953023d-3e92-4fe7-d761-469e4a0cb37f"
      },
      "execution_count": 152,
      "outputs": [
        {
          "output_type": "execute_result",
          "data": {
            "text/plain": [
              "SGDClassifier(max_iter=10000, random_state=42)"
            ],
            "text/html": [
              "<style>#sk-container-id-43 {color: black;background-color: white;}#sk-container-id-43 pre{padding: 0;}#sk-container-id-43 div.sk-toggleable {background-color: white;}#sk-container-id-43 label.sk-toggleable__label {cursor: pointer;display: block;width: 100%;margin-bottom: 0;padding: 0.3em;box-sizing: border-box;text-align: center;}#sk-container-id-43 label.sk-toggleable__label-arrow:before {content: \"▸\";float: left;margin-right: 0.25em;color: #696969;}#sk-container-id-43 label.sk-toggleable__label-arrow:hover:before {color: black;}#sk-container-id-43 div.sk-estimator:hover label.sk-toggleable__label-arrow:before {color: black;}#sk-container-id-43 div.sk-toggleable__content {max-height: 0;max-width: 0;overflow: hidden;text-align: left;background-color: #f0f8ff;}#sk-container-id-43 div.sk-toggleable__content pre {margin: 0.2em;color: black;border-radius: 0.25em;background-color: #f0f8ff;}#sk-container-id-43 input.sk-toggleable__control:checked~div.sk-toggleable__content {max-height: 200px;max-width: 100%;overflow: auto;}#sk-container-id-43 input.sk-toggleable__control:checked~label.sk-toggleable__label-arrow:before {content: \"▾\";}#sk-container-id-43 div.sk-estimator input.sk-toggleable__control:checked~label.sk-toggleable__label {background-color: #d4ebff;}#sk-container-id-43 div.sk-label input.sk-toggleable__control:checked~label.sk-toggleable__label {background-color: #d4ebff;}#sk-container-id-43 input.sk-hidden--visually {border: 0;clip: rect(1px 1px 1px 1px);clip: rect(1px, 1px, 1px, 1px);height: 1px;margin: -1px;overflow: hidden;padding: 0;position: absolute;width: 1px;}#sk-container-id-43 div.sk-estimator {font-family: monospace;background-color: #f0f8ff;border: 1px dotted black;border-radius: 0.25em;box-sizing: border-box;margin-bottom: 0.5em;}#sk-container-id-43 div.sk-estimator:hover {background-color: #d4ebff;}#sk-container-id-43 div.sk-parallel-item::after {content: \"\";width: 100%;border-bottom: 1px solid gray;flex-grow: 1;}#sk-container-id-43 div.sk-label:hover label.sk-toggleable__label {background-color: #d4ebff;}#sk-container-id-43 div.sk-serial::before {content: \"\";position: absolute;border-left: 1px solid gray;box-sizing: border-box;top: 0;bottom: 0;left: 50%;z-index: 0;}#sk-container-id-43 div.sk-serial {display: flex;flex-direction: column;align-items: center;background-color: white;padding-right: 0.2em;padding-left: 0.2em;position: relative;}#sk-container-id-43 div.sk-item {position: relative;z-index: 1;}#sk-container-id-43 div.sk-parallel {display: flex;align-items: stretch;justify-content: center;background-color: white;position: relative;}#sk-container-id-43 div.sk-item::before, #sk-container-id-43 div.sk-parallel-item::before {content: \"\";position: absolute;border-left: 1px solid gray;box-sizing: border-box;top: 0;bottom: 0;left: 50%;z-index: -1;}#sk-container-id-43 div.sk-parallel-item {display: flex;flex-direction: column;z-index: 1;position: relative;background-color: white;}#sk-container-id-43 div.sk-parallel-item:first-child::after {align-self: flex-end;width: 50%;}#sk-container-id-43 div.sk-parallel-item:last-child::after {align-self: flex-start;width: 50%;}#sk-container-id-43 div.sk-parallel-item:only-child::after {width: 0;}#sk-container-id-43 div.sk-dashed-wrapped {border: 1px dashed gray;margin: 0 0.4em 0.5em 0.4em;box-sizing: border-box;padding-bottom: 0.4em;background-color: white;}#sk-container-id-43 div.sk-label label {font-family: monospace;font-weight: bold;display: inline-block;line-height: 1.2em;}#sk-container-id-43 div.sk-label-container {text-align: center;}#sk-container-id-43 div.sk-container {/* jupyter's `normalize.less` sets `[hidden] { display: none; }` but bootstrap.min.css set `[hidden] { display: none !important; }` so we also need the `!important` here to be able to override the default hidden behavior on the sphinx rendered scikit-learn.org. See: https://github.com/scikit-learn/scikit-learn/issues/21755 */display: inline-block !important;position: relative;}#sk-container-id-43 div.sk-text-repr-fallback {display: none;}</style><div id=\"sk-container-id-43\" class=\"sk-top-container\"><div class=\"sk-text-repr-fallback\"><pre>SGDClassifier(max_iter=10000, random_state=42)</pre><b>In a Jupyter environment, please rerun this cell to show the HTML representation or trust the notebook. <br />On GitHub, the HTML representation is unable to render, please try loading this page with nbviewer.org.</b></div><div class=\"sk-container\" hidden><div class=\"sk-item\"><div class=\"sk-estimator sk-toggleable\"><input class=\"sk-toggleable__control sk-hidden--visually\" id=\"sk-estimator-id-59\" type=\"checkbox\" checked><label for=\"sk-estimator-id-59\" class=\"sk-toggleable__label sk-toggleable__label-arrow\">SGDClassifier</label><div class=\"sk-toggleable__content\"><pre>SGDClassifier(max_iter=10000, random_state=42)</pre></div></div></div></div></div>"
            ]
          },
          "metadata": {},
          "execution_count": 152
        }
      ]
    },
    {
      "cell_type": "code",
      "source": [
        "sgd_clf_train_predictions = sgd_clf.predict(X_p_tr_scaled)#creating predictions\n",
        "print(\"Validation vs training: Model accuracy, precision, recall, f1, and support\")#using score method for metrics\n",
        "print(\"model accuracy on training data:\\t\", sgd_clf.score(X_p_tr_scaled, y_tr))\n",
        "prec, rec, fscore, supp = precision_recall_fscore_support(y_tr, sgd_clf_train_predictions, average=None)\n",
        "print(\"Precision:\\t\", prec.round(3), \"\\nRecall:\\t\\t\", rec.round(3),\n",
        "      \"\\nFscore:\\t\\t\", fscore.round(3), \"\\nSupport:\\t\", supp.round(3))\n",
        "\n",
        "conf_matrix = confusion_matrix(y_tr, sgd_clf_train_predictions)#printing confusion matrix\n",
        "print(\"\\nConfusion Matrix:\")\n",
        "print(conf_matrix)"
      ],
      "metadata": {
        "colab": {
          "base_uri": "https://localhost:8080/"
        },
        "id": "5tL1CGBrerDa",
        "outputId": "fbed1c76-1500-4dc9-b7ca-593e402bf72c"
      },
      "execution_count": 153,
      "outputs": [
        {
          "output_type": "stream",
          "name": "stdout",
          "text": [
            "Validation vs training: Model accuracy, precision, recall, f1, and support\n",
            "model accuracy on training data:\t 0.7333625\n",
            "Precision:\t [0.692 0.972 0.2  ] \n",
            "Recall:\t\t [0.993 0.753 0.   ] \n",
            "Fscore:\t\t [0.816 0.849 0.   ] \n",
            "Support:\t [47585 15164 17251]\n",
            "\n",
            "Confusion Matrix:\n",
            "[[47246   335     4]\n",
            " [ 3742 11422     0]\n",
            " [17250     0     1]]\n"
          ]
        }
      ]
    },
    {
      "cell_type": "code",
      "source": [
        "sgd_clf_test_predictions = sgd_clf.predict(X_p_tst_scaled)#creating predictions\n",
        "print(\"Validation vs training: Model accuracy, precision, recall, f1, and support\")#using score method for metrics\n",
        "print(\"model accuracy on training data:\\t\", sgd_clf.score(X_p_tst_scaled, y_tst))\n",
        "prec, rec, fscore, supp = precision_recall_fscore_support(y_tst, sgd_clf_test_predictions, average=None)\n",
        "print(\"Precision:\\t\", prec.round(3), \"\\nRecall:\\t\\t\", rec.round(3),\n",
        "      \"\\nFscore:\\t\\t\", fscore.round(3), \"\\nSupport:\\t\", supp.round(3))\n",
        "\n",
        "conf_matrix = confusion_matrix(y_tst, sgd_clf_test_predictions)#printing confusion matrix\n",
        "print(\"\\nConfusion Matrix:\")\n",
        "print(conf_matrix)"
      ],
      "metadata": {
        "colab": {
          "base_uri": "https://localhost:8080/"
        },
        "id": "V436GpmIe8ZJ",
        "outputId": "fa5a3820-0fd4-413f-b46d-7c019b66dd2e"
      },
      "execution_count": 154,
      "outputs": [
        {
          "output_type": "stream",
          "name": "stdout",
          "text": [
            "Validation vs training: Model accuracy, precision, recall, f1, and support\n",
            "model accuracy on training data:\t 0.73295\n",
            "Precision:\t [0.691 0.972 0.   ] \n",
            "Recall:\t\t [0.993 0.759 0.   ] \n",
            "Fscore:\t\t [0.815 0.853 0.   ] \n",
            "Support:\t [11860  3797  4343]\n",
            "\n",
            "Confusion Matrix:\n",
            "[[11777    82     1]\n",
            " [  915  2882     0]\n",
            " [ 4343     0     0]]\n"
          ]
        }
      ]
    },
    {
      "cell_type": "markdown",
      "source": [
        "# Combination of both features"
      ],
      "metadata": {
        "id": "c3cD887vkUwd"
      }
    },
    {
      "cell_type": "code",
      "source": [
        "scaler_s = StandardScaler()#initializing standard scaler for spectroscopic dataset\n",
        "\n",
        "X_tr_scaled = scaler_s.fit_transform(X_tr)#fit / transform training data\n",
        "\n",
        "X_tst_scaled = scaler_s.transform(X_tst)#transform testing data"
      ],
      "metadata": {
        "id": "irF0CB5Phx4A"
      },
      "execution_count": 155,
      "outputs": []
    },
    {
      "cell_type": "code",
      "source": [
        "combo_decision_tree = DecisionTreeClassifier(max_depth=2, random_state=42)#Define decision tree model and fit model\n",
        "combo_decision_tree.fit(X_tr_scaled, y_tr)"
      ],
      "metadata": {
        "colab": {
          "base_uri": "https://localhost:8080/",
          "height": 74
        },
        "id": "a0iW1BK9iTFi",
        "outputId": "99ec8199-b44b-41ae-dfb5-fba636e3dff8"
      },
      "execution_count": 156,
      "outputs": [
        {
          "output_type": "execute_result",
          "data": {
            "text/plain": [
              "DecisionTreeClassifier(max_depth=2, random_state=42)"
            ],
            "text/html": [
              "<style>#sk-container-id-44 {color: black;background-color: white;}#sk-container-id-44 pre{padding: 0;}#sk-container-id-44 div.sk-toggleable {background-color: white;}#sk-container-id-44 label.sk-toggleable__label {cursor: pointer;display: block;width: 100%;margin-bottom: 0;padding: 0.3em;box-sizing: border-box;text-align: center;}#sk-container-id-44 label.sk-toggleable__label-arrow:before {content: \"▸\";float: left;margin-right: 0.25em;color: #696969;}#sk-container-id-44 label.sk-toggleable__label-arrow:hover:before {color: black;}#sk-container-id-44 div.sk-estimator:hover label.sk-toggleable__label-arrow:before {color: black;}#sk-container-id-44 div.sk-toggleable__content {max-height: 0;max-width: 0;overflow: hidden;text-align: left;background-color: #f0f8ff;}#sk-container-id-44 div.sk-toggleable__content pre {margin: 0.2em;color: black;border-radius: 0.25em;background-color: #f0f8ff;}#sk-container-id-44 input.sk-toggleable__control:checked~div.sk-toggleable__content {max-height: 200px;max-width: 100%;overflow: auto;}#sk-container-id-44 input.sk-toggleable__control:checked~label.sk-toggleable__label-arrow:before {content: \"▾\";}#sk-container-id-44 div.sk-estimator input.sk-toggleable__control:checked~label.sk-toggleable__label {background-color: #d4ebff;}#sk-container-id-44 div.sk-label input.sk-toggleable__control:checked~label.sk-toggleable__label {background-color: #d4ebff;}#sk-container-id-44 input.sk-hidden--visually {border: 0;clip: rect(1px 1px 1px 1px);clip: rect(1px, 1px, 1px, 1px);height: 1px;margin: -1px;overflow: hidden;padding: 0;position: absolute;width: 1px;}#sk-container-id-44 div.sk-estimator {font-family: monospace;background-color: #f0f8ff;border: 1px dotted black;border-radius: 0.25em;box-sizing: border-box;margin-bottom: 0.5em;}#sk-container-id-44 div.sk-estimator:hover {background-color: #d4ebff;}#sk-container-id-44 div.sk-parallel-item::after {content: \"\";width: 100%;border-bottom: 1px solid gray;flex-grow: 1;}#sk-container-id-44 div.sk-label:hover label.sk-toggleable__label {background-color: #d4ebff;}#sk-container-id-44 div.sk-serial::before {content: \"\";position: absolute;border-left: 1px solid gray;box-sizing: border-box;top: 0;bottom: 0;left: 50%;z-index: 0;}#sk-container-id-44 div.sk-serial {display: flex;flex-direction: column;align-items: center;background-color: white;padding-right: 0.2em;padding-left: 0.2em;position: relative;}#sk-container-id-44 div.sk-item {position: relative;z-index: 1;}#sk-container-id-44 div.sk-parallel {display: flex;align-items: stretch;justify-content: center;background-color: white;position: relative;}#sk-container-id-44 div.sk-item::before, #sk-container-id-44 div.sk-parallel-item::before {content: \"\";position: absolute;border-left: 1px solid gray;box-sizing: border-box;top: 0;bottom: 0;left: 50%;z-index: -1;}#sk-container-id-44 div.sk-parallel-item {display: flex;flex-direction: column;z-index: 1;position: relative;background-color: white;}#sk-container-id-44 div.sk-parallel-item:first-child::after {align-self: flex-end;width: 50%;}#sk-container-id-44 div.sk-parallel-item:last-child::after {align-self: flex-start;width: 50%;}#sk-container-id-44 div.sk-parallel-item:only-child::after {width: 0;}#sk-container-id-44 div.sk-dashed-wrapped {border: 1px dashed gray;margin: 0 0.4em 0.5em 0.4em;box-sizing: border-box;padding-bottom: 0.4em;background-color: white;}#sk-container-id-44 div.sk-label label {font-family: monospace;font-weight: bold;display: inline-block;line-height: 1.2em;}#sk-container-id-44 div.sk-label-container {text-align: center;}#sk-container-id-44 div.sk-container {/* jupyter's `normalize.less` sets `[hidden] { display: none; }` but bootstrap.min.css set `[hidden] { display: none !important; }` so we also need the `!important` here to be able to override the default hidden behavior on the sphinx rendered scikit-learn.org. See: https://github.com/scikit-learn/scikit-learn/issues/21755 */display: inline-block !important;position: relative;}#sk-container-id-44 div.sk-text-repr-fallback {display: none;}</style><div id=\"sk-container-id-44\" class=\"sk-top-container\"><div class=\"sk-text-repr-fallback\"><pre>DecisionTreeClassifier(max_depth=2, random_state=42)</pre><b>In a Jupyter environment, please rerun this cell to show the HTML representation or trust the notebook. <br />On GitHub, the HTML representation is unable to render, please try loading this page with nbviewer.org.</b></div><div class=\"sk-container\" hidden><div class=\"sk-item\"><div class=\"sk-estimator sk-toggleable\"><input class=\"sk-toggleable__control sk-hidden--visually\" id=\"sk-estimator-id-60\" type=\"checkbox\" checked><label for=\"sk-estimator-id-60\" class=\"sk-toggleable__label sk-toggleable__label-arrow\">DecisionTreeClassifier</label><div class=\"sk-toggleable__content\"><pre>DecisionTreeClassifier(max_depth=2, random_state=42)</pre></div></div></div></div></div>"
            ]
          },
          "metadata": {},
          "execution_count": 156
        }
      ]
    },
    {
      "cell_type": "code",
      "source": [
        "acc_train = combo_decision_tree.score(X_tr_scaled, y_tr)#using scoring method for decision tree\n",
        "acct = combo_decision_tree.score(X_tst_scaled, y_tst)\n",
        "\n",
        "y = y_tr; yt=y_tst #defining y train and y test\n",
        "\n",
        "predy = combo_decision_tree.predict(X_tr_scaled) #making predictions\n",
        "predyt = combo_decision_tree.predict(X_tst_scaled)\n",
        "\n",
        "print(\"model accuracy on training data:\\t\", acc_train.round(3))#printing metrics\n",
        "prec, rec, fscore, supp = precision_recall_fscore_support(y, predy, average=None, zero_division=1)\n",
        "print(\"Precision:\\t\", prec.round(3), \"\\nRecall:\\t\\t\", rec.round(3), \"\\nFscore:\\t\\t\", fscore.round(3), \"\\nSupport:\\t\", supp)\n",
        "\n",
        "print(\"model accuracy on testing data:\\t\", acct.round(3))\n",
        "prec, rec, fscore, supp = precision_recall_fscore_support(yt, predyt, average=None, zero_division=1)\n",
        "print(\"Precision:\\t\", prec.round(3), \"\\nRecall:\\t\\t\", rec.round(3), \"\\nFscore:\\t\\t\", fscore.round(3), \"\\nSupport:\\t\", supp)\n",
        "\n",
        "conf_matrix = confusion_matrix(y_tr, predy) #printing confusion matrix\n",
        "print(\"\\nConfusion Matrix:\")\n",
        "print(conf_matrix)\n",
        "\n",
        "conf_matrix = confusion_matrix(y_tst, predyt)\n",
        "print(\"\\nConfusion Matrix:\")\n",
        "print(conf_matrix)"
      ],
      "metadata": {
        "colab": {
          "base_uri": "https://localhost:8080/"
        },
        "id": "hYwYf7CQkATL",
        "outputId": "b3d672a8-8654-4121-d92d-0c227828e7f6"
      },
      "execution_count": 157,
      "outputs": [
        {
          "output_type": "stream",
          "name": "stdout",
          "text": [
            "model accuracy on training data:\t 0.947\n",
            "Precision:\t [0.938 0.945 0.977] \n",
            "Recall:\t\t [0.977 0.796 1.   ] \n",
            "Fscore:\t\t [0.957 0.864 0.988] \n",
            "Support:\t [47585 15164 17251]\n",
            "model accuracy on testing data:\t 0.947\n",
            "Precision:\t [0.937 0.946 0.976] \n",
            "Recall:\t\t [0.977 0.794 1.   ] \n",
            "Fscore:\t\t [0.956 0.863 0.988] \n",
            "Support:\t [11860  3797  4343]\n",
            "\n",
            "Confusion Matrix:\n",
            "[[46468   708   409]\n",
            " [ 3087 12075     2]\n",
            " [    0     0 17251]]\n",
            "\n",
            "Confusion Matrix:\n",
            "[[11583   171   106]\n",
            " [  783  3013     1]\n",
            " [    0     0  4343]]\n"
          ]
        }
      ]
    },
    {
      "cell_type": "code",
      "source": [
        "linear_svm = SVC(kernel='linear') #trying out linear SVC model before implementing polynomials\n",
        "linear_svm.fit(X_tr_scaled, y_tr)"
      ],
      "metadata": {
        "colab": {
          "base_uri": "https://localhost:8080/",
          "height": 74
        },
        "id": "uIiQ-5x2ku-H",
        "outputId": "be970bbc-8c38-451d-ff3c-704e297e71e8"
      },
      "execution_count": 158,
      "outputs": [
        {
          "output_type": "execute_result",
          "data": {
            "text/plain": [
              "SVC(kernel='linear')"
            ],
            "text/html": [
              "<style>#sk-container-id-45 {color: black;background-color: white;}#sk-container-id-45 pre{padding: 0;}#sk-container-id-45 div.sk-toggleable {background-color: white;}#sk-container-id-45 label.sk-toggleable__label {cursor: pointer;display: block;width: 100%;margin-bottom: 0;padding: 0.3em;box-sizing: border-box;text-align: center;}#sk-container-id-45 label.sk-toggleable__label-arrow:before {content: \"▸\";float: left;margin-right: 0.25em;color: #696969;}#sk-container-id-45 label.sk-toggleable__label-arrow:hover:before {color: black;}#sk-container-id-45 div.sk-estimator:hover label.sk-toggleable__label-arrow:before {color: black;}#sk-container-id-45 div.sk-toggleable__content {max-height: 0;max-width: 0;overflow: hidden;text-align: left;background-color: #f0f8ff;}#sk-container-id-45 div.sk-toggleable__content pre {margin: 0.2em;color: black;border-radius: 0.25em;background-color: #f0f8ff;}#sk-container-id-45 input.sk-toggleable__control:checked~div.sk-toggleable__content {max-height: 200px;max-width: 100%;overflow: auto;}#sk-container-id-45 input.sk-toggleable__control:checked~label.sk-toggleable__label-arrow:before {content: \"▾\";}#sk-container-id-45 div.sk-estimator input.sk-toggleable__control:checked~label.sk-toggleable__label {background-color: #d4ebff;}#sk-container-id-45 div.sk-label input.sk-toggleable__control:checked~label.sk-toggleable__label {background-color: #d4ebff;}#sk-container-id-45 input.sk-hidden--visually {border: 0;clip: rect(1px 1px 1px 1px);clip: rect(1px, 1px, 1px, 1px);height: 1px;margin: -1px;overflow: hidden;padding: 0;position: absolute;width: 1px;}#sk-container-id-45 div.sk-estimator {font-family: monospace;background-color: #f0f8ff;border: 1px dotted black;border-radius: 0.25em;box-sizing: border-box;margin-bottom: 0.5em;}#sk-container-id-45 div.sk-estimator:hover {background-color: #d4ebff;}#sk-container-id-45 div.sk-parallel-item::after {content: \"\";width: 100%;border-bottom: 1px solid gray;flex-grow: 1;}#sk-container-id-45 div.sk-label:hover label.sk-toggleable__label {background-color: #d4ebff;}#sk-container-id-45 div.sk-serial::before {content: \"\";position: absolute;border-left: 1px solid gray;box-sizing: border-box;top: 0;bottom: 0;left: 50%;z-index: 0;}#sk-container-id-45 div.sk-serial {display: flex;flex-direction: column;align-items: center;background-color: white;padding-right: 0.2em;padding-left: 0.2em;position: relative;}#sk-container-id-45 div.sk-item {position: relative;z-index: 1;}#sk-container-id-45 div.sk-parallel {display: flex;align-items: stretch;justify-content: center;background-color: white;position: relative;}#sk-container-id-45 div.sk-item::before, #sk-container-id-45 div.sk-parallel-item::before {content: \"\";position: absolute;border-left: 1px solid gray;box-sizing: border-box;top: 0;bottom: 0;left: 50%;z-index: -1;}#sk-container-id-45 div.sk-parallel-item {display: flex;flex-direction: column;z-index: 1;position: relative;background-color: white;}#sk-container-id-45 div.sk-parallel-item:first-child::after {align-self: flex-end;width: 50%;}#sk-container-id-45 div.sk-parallel-item:last-child::after {align-self: flex-start;width: 50%;}#sk-container-id-45 div.sk-parallel-item:only-child::after {width: 0;}#sk-container-id-45 div.sk-dashed-wrapped {border: 1px dashed gray;margin: 0 0.4em 0.5em 0.4em;box-sizing: border-box;padding-bottom: 0.4em;background-color: white;}#sk-container-id-45 div.sk-label label {font-family: monospace;font-weight: bold;display: inline-block;line-height: 1.2em;}#sk-container-id-45 div.sk-label-container {text-align: center;}#sk-container-id-45 div.sk-container {/* jupyter's `normalize.less` sets `[hidden] { display: none; }` but bootstrap.min.css set `[hidden] { display: none !important; }` so we also need the `!important` here to be able to override the default hidden behavior on the sphinx rendered scikit-learn.org. See: https://github.com/scikit-learn/scikit-learn/issues/21755 */display: inline-block !important;position: relative;}#sk-container-id-45 div.sk-text-repr-fallback {display: none;}</style><div id=\"sk-container-id-45\" class=\"sk-top-container\"><div class=\"sk-text-repr-fallback\"><pre>SVC(kernel=&#x27;linear&#x27;)</pre><b>In a Jupyter environment, please rerun this cell to show the HTML representation or trust the notebook. <br />On GitHub, the HTML representation is unable to render, please try loading this page with nbviewer.org.</b></div><div class=\"sk-container\" hidden><div class=\"sk-item\"><div class=\"sk-estimator sk-toggleable\"><input class=\"sk-toggleable__control sk-hidden--visually\" id=\"sk-estimator-id-61\" type=\"checkbox\" checked><label for=\"sk-estimator-id-61\" class=\"sk-toggleable__label sk-toggleable__label-arrow\">SVC</label><div class=\"sk-toggleable__content\"><pre>SVC(kernel=&#x27;linear&#x27;)</pre></div></div></div></div></div>"
            ]
          },
          "metadata": {},
          "execution_count": 158
        }
      ]
    },
    {
      "cell_type": "code",
      "source": [
        "linear_svm_train_predictions = linear_svm.predict(X_tr_scaled)#creating predictions\n",
        "print(\"Validation vs training: Model accuracy, precision, recall, f1, and support\")#using score method for metrics\n",
        "print(\"model accuracy on training data:\\t\", linear_svm.score(X_tr_scaled, y_tr))\n",
        "prec, rec, fscore, supp = precision_recall_fscore_support(y_tr, linear_svm_train_predictions, average=None)\n",
        "print(\"Precision:\\t\", prec.round(3), \"\\nRecall:\\t\\t\", rec.round(3),\n",
        "      \"\\nFscore:\\t\\t\", fscore.round(3), \"\\nSupport:\\t\", supp.round(3))\n",
        "\n",
        "conf_matrix = confusion_matrix(y_tr, linear_svm_train_predictions)#printing confusion matrix\n",
        "print(\"\\nConfusion Matrix:\")\n",
        "print(conf_matrix)"
      ],
      "metadata": {
        "colab": {
          "base_uri": "https://localhost:8080/"
        },
        "id": "uwY8Emdlpgi3",
        "outputId": "465f81cc-103d-4435-be14-1df9cfd7e1fd"
      },
      "execution_count": 159,
      "outputs": [
        {
          "output_type": "stream",
          "name": "stdout",
          "text": [
            "Validation vs training: Model accuracy, precision, recall, f1, and support\n",
            "model accuracy on training data:\t 0.9598625\n",
            "Precision:\t [0.961 0.951 0.963] \n",
            "Recall:\t\t [0.972 0.876 1.   ] \n",
            "Fscore:\t\t [0.967 0.912 0.981] \n",
            "Support:\t [47585 15164 17251]\n",
            "\n",
            "Confusion Matrix:\n",
            "[[46247   684   654]\n",
            " [ 1867 13291     6]\n",
            " [    0     0 17251]]\n"
          ]
        }
      ]
    },
    {
      "cell_type": "code",
      "source": [
        "linear_svm_test_predictions = linear_svm.predict(X_tst_scaled)#creating predictions\n",
        "print(\"Validation vs training: Model accuracy, precision, recall, f1, and support\")#using score method for metrics\n",
        "print(\"model accuracy on training data:\\t\", linear_svm.score(X_tst_scaled, y_tst))\n",
        "prec, rec, fscore, supp = precision_recall_fscore_support(y_tst, linear_svm_test_predictions, average=None)\n",
        "print(\"Precision:\\t\", prec.round(3), \"\\nRecall:\\t\\t\", rec.round(3),\n",
        "      \"\\nFscore:\\t\\t\", fscore.round(3), \"\\nSupport:\\t\", supp.round(3))\n",
        "\n",
        "conf_matrix = confusion_matrix(y_tst, linear_svm_test_predictions)#printing confusion matrix\n",
        "print(\"\\nConfusion Matrix:\")\n",
        "print(conf_matrix)"
      ],
      "metadata": {
        "colab": {
          "base_uri": "https://localhost:8080/"
        },
        "id": "Xz4WhHGIq5lx",
        "outputId": "4e12b6f8-7637-494b-9e19-1ea9953618ab"
      },
      "execution_count": 160,
      "outputs": [
        {
          "output_type": "stream",
          "name": "stdout",
          "text": [
            "Validation vs training: Model accuracy, precision, recall, f1, and support\n",
            "model accuracy on training data:\t 0.9594\n",
            "Precision:\t [0.961 0.95  0.963] \n",
            "Recall:\t\t [0.971 0.876 1.   ] \n",
            "Fscore:\t\t [0.966 0.912 0.981] \n",
            "Support:\t [11860  3797  4343]\n",
            "\n",
            "Confusion Matrix:\n",
            "[[11519   174   167]\n",
            " [  470  3326     1]\n",
            " [    0     0  4343]]\n"
          ]
        }
      ]
    },
    {
      "cell_type": "code",
      "source": [
        "poly_kernel_svm_clf = make_pipeline(StandardScaler(),SVC(kernel=\"poly\", degree=3, coef0=1, C=5))\n",
        "poly_kernel_svm_clf.fit(X_tr_scaled, y_tr)#setting up / fitting polynomial kernel svm to compare to linear"
      ],
      "metadata": {
        "colab": {
          "base_uri": "https://localhost:8080/",
          "height": 124
        },
        "id": "ublV3FUUq_Ud",
        "outputId": "bd488e95-9129-4070-d828-f90a49104167"
      },
      "execution_count": 161,
      "outputs": [
        {
          "output_type": "execute_result",
          "data": {
            "text/plain": [
              "Pipeline(steps=[('standardscaler', StandardScaler()),\n",
              "                ('svc', SVC(C=5, coef0=1, kernel='poly'))])"
            ],
            "text/html": [
              "<style>#sk-container-id-46 {color: black;background-color: white;}#sk-container-id-46 pre{padding: 0;}#sk-container-id-46 div.sk-toggleable {background-color: white;}#sk-container-id-46 label.sk-toggleable__label {cursor: pointer;display: block;width: 100%;margin-bottom: 0;padding: 0.3em;box-sizing: border-box;text-align: center;}#sk-container-id-46 label.sk-toggleable__label-arrow:before {content: \"▸\";float: left;margin-right: 0.25em;color: #696969;}#sk-container-id-46 label.sk-toggleable__label-arrow:hover:before {color: black;}#sk-container-id-46 div.sk-estimator:hover label.sk-toggleable__label-arrow:before {color: black;}#sk-container-id-46 div.sk-toggleable__content {max-height: 0;max-width: 0;overflow: hidden;text-align: left;background-color: #f0f8ff;}#sk-container-id-46 div.sk-toggleable__content pre {margin: 0.2em;color: black;border-radius: 0.25em;background-color: #f0f8ff;}#sk-container-id-46 input.sk-toggleable__control:checked~div.sk-toggleable__content {max-height: 200px;max-width: 100%;overflow: auto;}#sk-container-id-46 input.sk-toggleable__control:checked~label.sk-toggleable__label-arrow:before {content: \"▾\";}#sk-container-id-46 div.sk-estimator input.sk-toggleable__control:checked~label.sk-toggleable__label {background-color: #d4ebff;}#sk-container-id-46 div.sk-label input.sk-toggleable__control:checked~label.sk-toggleable__label {background-color: #d4ebff;}#sk-container-id-46 input.sk-hidden--visually {border: 0;clip: rect(1px 1px 1px 1px);clip: rect(1px, 1px, 1px, 1px);height: 1px;margin: -1px;overflow: hidden;padding: 0;position: absolute;width: 1px;}#sk-container-id-46 div.sk-estimator {font-family: monospace;background-color: #f0f8ff;border: 1px dotted black;border-radius: 0.25em;box-sizing: border-box;margin-bottom: 0.5em;}#sk-container-id-46 div.sk-estimator:hover {background-color: #d4ebff;}#sk-container-id-46 div.sk-parallel-item::after {content: \"\";width: 100%;border-bottom: 1px solid gray;flex-grow: 1;}#sk-container-id-46 div.sk-label:hover label.sk-toggleable__label {background-color: #d4ebff;}#sk-container-id-46 div.sk-serial::before {content: \"\";position: absolute;border-left: 1px solid gray;box-sizing: border-box;top: 0;bottom: 0;left: 50%;z-index: 0;}#sk-container-id-46 div.sk-serial {display: flex;flex-direction: column;align-items: center;background-color: white;padding-right: 0.2em;padding-left: 0.2em;position: relative;}#sk-container-id-46 div.sk-item {position: relative;z-index: 1;}#sk-container-id-46 div.sk-parallel {display: flex;align-items: stretch;justify-content: center;background-color: white;position: relative;}#sk-container-id-46 div.sk-item::before, #sk-container-id-46 div.sk-parallel-item::before {content: \"\";position: absolute;border-left: 1px solid gray;box-sizing: border-box;top: 0;bottom: 0;left: 50%;z-index: -1;}#sk-container-id-46 div.sk-parallel-item {display: flex;flex-direction: column;z-index: 1;position: relative;background-color: white;}#sk-container-id-46 div.sk-parallel-item:first-child::after {align-self: flex-end;width: 50%;}#sk-container-id-46 div.sk-parallel-item:last-child::after {align-self: flex-start;width: 50%;}#sk-container-id-46 div.sk-parallel-item:only-child::after {width: 0;}#sk-container-id-46 div.sk-dashed-wrapped {border: 1px dashed gray;margin: 0 0.4em 0.5em 0.4em;box-sizing: border-box;padding-bottom: 0.4em;background-color: white;}#sk-container-id-46 div.sk-label label {font-family: monospace;font-weight: bold;display: inline-block;line-height: 1.2em;}#sk-container-id-46 div.sk-label-container {text-align: center;}#sk-container-id-46 div.sk-container {/* jupyter's `normalize.less` sets `[hidden] { display: none; }` but bootstrap.min.css set `[hidden] { display: none !important; }` so we also need the `!important` here to be able to override the default hidden behavior on the sphinx rendered scikit-learn.org. See: https://github.com/scikit-learn/scikit-learn/issues/21755 */display: inline-block !important;position: relative;}#sk-container-id-46 div.sk-text-repr-fallback {display: none;}</style><div id=\"sk-container-id-46\" class=\"sk-top-container\"><div class=\"sk-text-repr-fallback\"><pre>Pipeline(steps=[(&#x27;standardscaler&#x27;, StandardScaler()),\n",
              "                (&#x27;svc&#x27;, SVC(C=5, coef0=1, kernel=&#x27;poly&#x27;))])</pre><b>In a Jupyter environment, please rerun this cell to show the HTML representation or trust the notebook. <br />On GitHub, the HTML representation is unable to render, please try loading this page with nbviewer.org.</b></div><div class=\"sk-container\" hidden><div class=\"sk-item sk-dashed-wrapped\"><div class=\"sk-label-container\"><div class=\"sk-label sk-toggleable\"><input class=\"sk-toggleable__control sk-hidden--visually\" id=\"sk-estimator-id-62\" type=\"checkbox\" ><label for=\"sk-estimator-id-62\" class=\"sk-toggleable__label sk-toggleable__label-arrow\">Pipeline</label><div class=\"sk-toggleable__content\"><pre>Pipeline(steps=[(&#x27;standardscaler&#x27;, StandardScaler()),\n",
              "                (&#x27;svc&#x27;, SVC(C=5, coef0=1, kernel=&#x27;poly&#x27;))])</pre></div></div></div><div class=\"sk-serial\"><div class=\"sk-item\"><div class=\"sk-estimator sk-toggleable\"><input class=\"sk-toggleable__control sk-hidden--visually\" id=\"sk-estimator-id-63\" type=\"checkbox\" ><label for=\"sk-estimator-id-63\" class=\"sk-toggleable__label sk-toggleable__label-arrow\">StandardScaler</label><div class=\"sk-toggleable__content\"><pre>StandardScaler()</pre></div></div></div><div class=\"sk-item\"><div class=\"sk-estimator sk-toggleable\"><input class=\"sk-toggleable__control sk-hidden--visually\" id=\"sk-estimator-id-64\" type=\"checkbox\" ><label for=\"sk-estimator-id-64\" class=\"sk-toggleable__label sk-toggleable__label-arrow\">SVC</label><div class=\"sk-toggleable__content\"><pre>SVC(C=5, coef0=1, kernel=&#x27;poly&#x27;)</pre></div></div></div></div></div></div></div>"
            ]
          },
          "metadata": {},
          "execution_count": 161
        }
      ]
    },
    {
      "cell_type": "code",
      "source": [
        "poly_svm_train_predictions = poly_kernel_svm_clf.predict(X_tr_scaled)#creating predictions\n",
        "print(\"Validation vs training: Model accuracy, precision, recall, f1, and support\")#using score method for metrics\n",
        "print(\"model accuracy on training data:\\t\", poly_kernel_svm_clf.score(X_tr_scaled, y_tr))\n",
        "prec, rec, fscore, supp = precision_recall_fscore_support(y_tr, poly_svm_train_predictions, average=None)\n",
        "print(\"Precision:\\t\", prec.round(3), \"\\nRecall:\\t\\t\", rec.round(3),\n",
        "      \"\\nFscore:\\t\\t\", fscore.round(3), \"\\nSupport:\\t\", supp.round(3))\n",
        "\n",
        "conf_matrix = confusion_matrix(y_tr, poly_svm_train_predictions)#printing confusion matrix\n",
        "print(\"\\nConfusion Matrix:\")\n",
        "print(conf_matrix)"
      ],
      "metadata": {
        "colab": {
          "base_uri": "https://localhost:8080/"
        },
        "id": "qs5iojzKrQkK",
        "outputId": "3b56a601-71a3-412e-bc47-20ab547b1066"
      },
      "execution_count": 162,
      "outputs": [
        {
          "output_type": "stream",
          "name": "stdout",
          "text": [
            "Validation vs training: Model accuracy, precision, recall, f1, and support\n",
            "model accuracy on training data:\t 0.9687\n",
            "Precision:\t [0.969 0.968 0.968] \n",
            "Recall:\t\t [0.979 0.902 1.   ] \n",
            "Fscore:\t\t [0.974 0.934 0.984] \n",
            "Support:\t [47585 15164 17251]\n",
            "\n",
            "Confusion Matrix:\n",
            "[[46568   456   561]\n",
            " [ 1479 13677     8]\n",
            " [    0     0 17251]]\n"
          ]
        }
      ]
    },
    {
      "cell_type": "code",
      "source": [
        "poly_svm_test_predictions = poly_kernel_svm_clf.predict(X_tst_scaled)#creating predictions\n",
        "print(\"Validation vs training: Model accuracy, precision, recall, f1, and support\")#using score method for metrics\n",
        "print(\"model accuracy on training data:\\t\", poly_kernel_svm_clf.score(X_tst_scaled, y_tst))\n",
        "prec, rec, fscore, supp = precision_recall_fscore_support(y_tst, poly_svm_test_predictions, average=None)\n",
        "print(\"Precision:\\t\", prec.round(3), \"\\nRecall:\\t\\t\", rec.round(3),\n",
        "      \"\\nFscore:\\t\\t\", fscore.round(3), \"\\nSupport:\\t\", supp.round(3))\n",
        "\n",
        "conf_matrix = confusion_matrix(y_tst, poly_svm_test_predictions)#printing confusion matrix\n",
        "print(\"\\nConfusion Matrix:\")\n",
        "print(conf_matrix)"
      ],
      "metadata": {
        "colab": {
          "base_uri": "https://localhost:8080/"
        },
        "id": "AORMML6Rribf",
        "outputId": "d20ef699-7244-4e6f-a128-acd5ab10e022"
      },
      "execution_count": 163,
      "outputs": [
        {
          "output_type": "stream",
          "name": "stdout",
          "text": [
            "Validation vs training: Model accuracy, precision, recall, f1, and support\n",
            "model accuracy on training data:\t 0.9679\n",
            "Precision:\t [0.968 0.97  0.967] \n",
            "Recall:\t\t [0.979 0.898 1.   ] \n",
            "Fscore:\t\t [0.973 0.932 0.983] \n",
            "Support:\t [11860  3797  4343]\n",
            "\n",
            "Confusion Matrix:\n",
            "[[11606   107   147]\n",
            " [  387  3409     1]\n",
            " [    0     0  4343]]\n"
          ]
        }
      ]
    },
    {
      "cell_type": "code",
      "source": [
        "sgd_clf = SGDClassifier(max_iter=10000, random_state=42)\n",
        "sgd_clf.fit(X_tr_scaled,y_tr)#initializing classifier and fitting SGD model"
      ],
      "metadata": {
        "colab": {
          "base_uri": "https://localhost:8080/",
          "height": 74
        },
        "id": "z3OTquaBrw0s",
        "outputId": "7e4089d4-f1e7-4cbb-efb1-482ea8e91395"
      },
      "execution_count": 164,
      "outputs": [
        {
          "output_type": "execute_result",
          "data": {
            "text/plain": [
              "SGDClassifier(max_iter=10000, random_state=42)"
            ],
            "text/html": [
              "<style>#sk-container-id-47 {color: black;background-color: white;}#sk-container-id-47 pre{padding: 0;}#sk-container-id-47 div.sk-toggleable {background-color: white;}#sk-container-id-47 label.sk-toggleable__label {cursor: pointer;display: block;width: 100%;margin-bottom: 0;padding: 0.3em;box-sizing: border-box;text-align: center;}#sk-container-id-47 label.sk-toggleable__label-arrow:before {content: \"▸\";float: left;margin-right: 0.25em;color: #696969;}#sk-container-id-47 label.sk-toggleable__label-arrow:hover:before {color: black;}#sk-container-id-47 div.sk-estimator:hover label.sk-toggleable__label-arrow:before {color: black;}#sk-container-id-47 div.sk-toggleable__content {max-height: 0;max-width: 0;overflow: hidden;text-align: left;background-color: #f0f8ff;}#sk-container-id-47 div.sk-toggleable__content pre {margin: 0.2em;color: black;border-radius: 0.25em;background-color: #f0f8ff;}#sk-container-id-47 input.sk-toggleable__control:checked~div.sk-toggleable__content {max-height: 200px;max-width: 100%;overflow: auto;}#sk-container-id-47 input.sk-toggleable__control:checked~label.sk-toggleable__label-arrow:before {content: \"▾\";}#sk-container-id-47 div.sk-estimator input.sk-toggleable__control:checked~label.sk-toggleable__label {background-color: #d4ebff;}#sk-container-id-47 div.sk-label input.sk-toggleable__control:checked~label.sk-toggleable__label {background-color: #d4ebff;}#sk-container-id-47 input.sk-hidden--visually {border: 0;clip: rect(1px 1px 1px 1px);clip: rect(1px, 1px, 1px, 1px);height: 1px;margin: -1px;overflow: hidden;padding: 0;position: absolute;width: 1px;}#sk-container-id-47 div.sk-estimator {font-family: monospace;background-color: #f0f8ff;border: 1px dotted black;border-radius: 0.25em;box-sizing: border-box;margin-bottom: 0.5em;}#sk-container-id-47 div.sk-estimator:hover {background-color: #d4ebff;}#sk-container-id-47 div.sk-parallel-item::after {content: \"\";width: 100%;border-bottom: 1px solid gray;flex-grow: 1;}#sk-container-id-47 div.sk-label:hover label.sk-toggleable__label {background-color: #d4ebff;}#sk-container-id-47 div.sk-serial::before {content: \"\";position: absolute;border-left: 1px solid gray;box-sizing: border-box;top: 0;bottom: 0;left: 50%;z-index: 0;}#sk-container-id-47 div.sk-serial {display: flex;flex-direction: column;align-items: center;background-color: white;padding-right: 0.2em;padding-left: 0.2em;position: relative;}#sk-container-id-47 div.sk-item {position: relative;z-index: 1;}#sk-container-id-47 div.sk-parallel {display: flex;align-items: stretch;justify-content: center;background-color: white;position: relative;}#sk-container-id-47 div.sk-item::before, #sk-container-id-47 div.sk-parallel-item::before {content: \"\";position: absolute;border-left: 1px solid gray;box-sizing: border-box;top: 0;bottom: 0;left: 50%;z-index: -1;}#sk-container-id-47 div.sk-parallel-item {display: flex;flex-direction: column;z-index: 1;position: relative;background-color: white;}#sk-container-id-47 div.sk-parallel-item:first-child::after {align-self: flex-end;width: 50%;}#sk-container-id-47 div.sk-parallel-item:last-child::after {align-self: flex-start;width: 50%;}#sk-container-id-47 div.sk-parallel-item:only-child::after {width: 0;}#sk-container-id-47 div.sk-dashed-wrapped {border: 1px dashed gray;margin: 0 0.4em 0.5em 0.4em;box-sizing: border-box;padding-bottom: 0.4em;background-color: white;}#sk-container-id-47 div.sk-label label {font-family: monospace;font-weight: bold;display: inline-block;line-height: 1.2em;}#sk-container-id-47 div.sk-label-container {text-align: center;}#sk-container-id-47 div.sk-container {/* jupyter's `normalize.less` sets `[hidden] { display: none; }` but bootstrap.min.css set `[hidden] { display: none !important; }` so we also need the `!important` here to be able to override the default hidden behavior on the sphinx rendered scikit-learn.org. See: https://github.com/scikit-learn/scikit-learn/issues/21755 */display: inline-block !important;position: relative;}#sk-container-id-47 div.sk-text-repr-fallback {display: none;}</style><div id=\"sk-container-id-47\" class=\"sk-top-container\"><div class=\"sk-text-repr-fallback\"><pre>SGDClassifier(max_iter=10000, random_state=42)</pre><b>In a Jupyter environment, please rerun this cell to show the HTML representation or trust the notebook. <br />On GitHub, the HTML representation is unable to render, please try loading this page with nbviewer.org.</b></div><div class=\"sk-container\" hidden><div class=\"sk-item\"><div class=\"sk-estimator sk-toggleable\"><input class=\"sk-toggleable__control sk-hidden--visually\" id=\"sk-estimator-id-65\" type=\"checkbox\" checked><label for=\"sk-estimator-id-65\" class=\"sk-toggleable__label sk-toggleable__label-arrow\">SGDClassifier</label><div class=\"sk-toggleable__content\"><pre>SGDClassifier(max_iter=10000, random_state=42)</pre></div></div></div></div></div>"
            ]
          },
          "metadata": {},
          "execution_count": 164
        }
      ]
    },
    {
      "cell_type": "code",
      "source": [
        "sgd_clf_train_predictions = sgd_clf.predict(X_tr_scaled)#creating predictions\n",
        "print(\"Validation vs training: Model accuracy, precision, recall, f1, and support\")#using score method for metrics\n",
        "print(\"model accuracy on training data:\\t\", sgd_clf.score(X_tr_scaled, y_tr))\n",
        "prec, rec, fscore, supp = precision_recall_fscore_support(y_tr, sgd_clf_train_predictions, average=None)\n",
        "print(\"Precision:\\t\", prec.round(3), \"\\nRecall:\\t\\t\", rec.round(3),\n",
        "      \"\\nFscore:\\t\\t\", fscore.round(3), \"\\nSupport:\\t\", supp.round(3))\n",
        "\n",
        "conf_matrix = confusion_matrix(y_tr, sgd_clf_train_predictions)#printing confusion matrix\n",
        "print(\"\\nConfusion Matrix:\")\n",
        "print(conf_matrix)"
      ],
      "metadata": {
        "colab": {
          "base_uri": "https://localhost:8080/"
        },
        "id": "wyy629_OsMI_",
        "outputId": "2d0bdef9-5c37-40d2-aa69-dc4befc83ff7"
      },
      "execution_count": 165,
      "outputs": [
        {
          "output_type": "stream",
          "name": "stdout",
          "text": [
            "Validation vs training: Model accuracy, precision, recall, f1, and support\n",
            "model accuracy on training data:\t 0.904075\n",
            "Precision:\t [0.9   0.883 0.941] \n",
            "Recall:\t\t [0.944 0.909 0.789] \n",
            "Fscore:\t\t [0.922 0.896 0.858] \n",
            "Support:\t [47585 15164 17251]\n",
            "\n",
            "Confusion Matrix:\n",
            "[[44934  1808   843]\n",
            " [ 1367 13786    11]\n",
            " [ 3632    13 13606]]\n"
          ]
        }
      ]
    },
    {
      "cell_type": "code",
      "source": [
        "sgd_clf_test_predictions = sgd_clf.predict(X_tst_scaled)#creating predictions\n",
        "print(\"Validation vs training: Model accuracy, precision, recall, f1, and support\")#using score method for metrics\n",
        "print(\"model accuracy on training data:\\t\", sgd_clf.score(X_tst_scaled, y_tst))\n",
        "prec, rec, fscore, supp = precision_recall_fscore_support(y_tst, sgd_clf_test_predictions, average=None)\n",
        "print(\"Precision:\\t\", prec.round(3), \"\\nRecall:\\t\\t\", rec.round(3),\n",
        "      \"\\nFscore:\\t\\t\", fscore.round(3), \"\\nSupport:\\t\", supp.round(3))\n",
        "\n",
        "conf_matrix = confusion_matrix(y_tst, sgd_clf_test_predictions)#printing confusion matrix\n",
        "print(\"\\nConfusion Matrix:\")\n",
        "print(conf_matrix)"
      ],
      "metadata": {
        "colab": {
          "base_uri": "https://localhost:8080/"
        },
        "id": "hFJ3oCapsye8",
        "outputId": "ea77908d-3a90-43e8-9453-53d9feb5574c"
      },
      "execution_count": 166,
      "outputs": [
        {
          "output_type": "stream",
          "name": "stdout",
          "text": [
            "Validation vs training: Model accuracy, precision, recall, f1, and support\n",
            "model accuracy on training data:\t 0.90485\n",
            "Precision:\t [0.902 0.883 0.937] \n",
            "Recall:\t\t [0.943 0.91  0.797] \n",
            "Fscore:\t\t [0.922 0.896 0.861] \n",
            "Support:\t [11860  3797  4343]\n",
            "\n",
            "Confusion Matrix:\n",
            "[[11180   450   230]\n",
            " [  339  3456     2]\n",
            " [  874     8  3461]]\n"
          ]
        }
      ]
    },
    {
      "cell_type": "markdown",
      "source": [
        "# Discussion\n",
        "For each of the spectroscopic, 3D position, and combination data sets, I have fit and tested 4 different classification models. These models include a decision tree model, a linear SVM model, a polynomial kernel SVM model, and a stochastic gradient classifier. All of the independent variables were also scaled using StandardScaler in order to create a similar scale for each variable. I noticed that in the original data set, certain variables produced substantially higher or lower values. As a result, I viewed scaling the variables to be a necesarry step in the data preparation of this exam.\n",
        "\n",
        "First, the spectroscopic decision tree did not perform well compared to the other models. The model accuracy on the training and testing sets respectively was .684 and .682. This resulted in relatively moderate precision, recall, and F1 scores as well for all 3 classes. When a new decision tree model was fit using the 3D position data set, the model performed slightly worse than the decision tree model using the spectroscopic data set. The accuracy scores for the training and testing data are .499 and .498 respectively. The other scores also did not perform, in general, very well compared to other models. However, the decision tree used for the combination dataset performed very well. The model accuracy for the training and testing data was .947 for both sets of data. As a result, the precision recall, and F1 scores also resulted in higher metrics than the previous two decision tree models.\n",
        "\n",
        "The first linear SVM model on the spectroscopy data set produced an accuracy score of .747 and .746 respectively between the training and test sets. The precision recall and F1 scores were all very similar, producing relatively high scores. The second linear SVM model produced an accuracy score of .9441 and .9439 between the training and testing sets. Many of the precision recall and F1 scores appear to be greater than .8 and .9 in many cases as well for this model. The final linear SVM model yields a .9598 and .9594 accuracy score on the training and testing sets. This model appears to be the best linear SVM model as the rest of the metrics are higher than the previously discussed models as well.\n",
        "\n",
        "Next, I implemented a polynomial kernel SVM model to expand the features and further capture non-linear relationships within the data set. I also wanted to compare the results between the polynomial SVM models and and linear SVM models. The first polynomial SVM model performed significantly better than the linear SVM model. This model produced an accuracy score of .8269 and .8241 on the respective training and testing sets. The polynomial SVM model improve substantially using the 3D position information data set. The accuracy, scores were .9443 and .9447 on the training and testing sets. Finally, using the combination of both data sets, the polynomial SVM model yielded an accuracy score of .9687 and .9679 on the training and testing sets. The precision recall and F1 scores all performed better as well.\n",
        "\n",
        "Finally, the SGD, classifier model on the spectroscopic features resulted in an accuracy score of .712 and .7095 for the training and testing sets. The SGD classifier perform slightly better using the 3D position dataset as the accuracy scores were .7333 and .7329. All of the precision recall and F1 scores between both data sets were inconsistent with each other, and relatively low compared to other models. The final SGD classifier model using a combination of both datasets results in significantly higher accuracy, scores for both the training and testing sets. These accuracy scores are .9040 and .9048, which are much higher than the previous two models. The precision recall and F1 scores are also much higher than the previous two models.\n",
        "\n",
        "Overall, the best performing model on the spectroscopic data was the polynomial SVM kernel model. This is because the accuracy scores and metrics overall for this model are substantially higher. The best models for the 3D position dataset were both the linear SVM model, and the polynomial kernel SVM model. Although the accuracy, scores and metrics were slightly different for these models, they were extremely similar to one another, and performed overall very well. Finally, the best model for the combination dataset was also the SVM kernel polynomial model. The model correctly classified over 96% of the data into its respective class within both the training and testing sets. This was also the most effective model in general out of the 12 models that were trained and tested."
      ],
      "metadata": {
        "id": "JT0RP4q-DlwC"
      }
    }
  ],
  "metadata": {
    "colab": {
      "collapsed_sections": [
        "5OpPzl49kSc6",
        "zdLGbW7qsf5d"
      ],
      "provenance": [],
      "include_colab_link": true
    },
    "kernelspec": {
      "display_name": "Python 3",
      "name": "python3"
    },
    "language_info": {
      "name": "python"
    }
  },
  "nbformat": 4,
  "nbformat_minor": 0
}