{
  "nbformat": 4,
  "nbformat_minor": 0,
  "metadata": {
    "colab": {
      "provenance": [],
      "collapsed_sections": [
        "47jpgIMo8Et9",
        "p1Uq1ebZY2xY"
      ],
      "include_colab_link": true
    },
    "kernelspec": {
      "name": "python3",
      "display_name": "Python 3"
    },
    "language_info": {
      "name": "python"
    }
  },
  "cells": [
    {
      "cell_type": "markdown",
      "metadata": {
        "id": "view-in-github",
        "colab_type": "text"
      },
      "source": [
        "<a href=\"https://colab.research.google.com/github/Calebmonroe/DS2/blob/main/HW5_regression_synthesis_nosols.ipynb\" target=\"_parent\"><img src=\"https://colab.research.google.com/assets/colab-badge.svg\" alt=\"Open In Colab\"/></a>"
      ]
    },
    {
      "cell_type": "markdown",
      "source": [
        "# Homework #5 - Synthesis of regression methods and Visualizations\n",
        "\n",
        "In this assignment, you will bring to bear all of the methods (sampling, scaling, fitting, predicting, evaluating) used thus far to address several questions abot the automobile dataset introduced in class11, and the MNIST dataset introducted in class10.\n"
      ],
      "metadata": {
        "id": "-gr3FIP08Fh2"
      }
    },
    {
      "cell_type": "markdown",
      "source": [
        "## Package Imports\n",
        "(I realize we keep importing packages that we don't use, which is not best practice, however my plan is to keep a running list of all the packages that we have used so that we have them all in one place at the end of the semester.)"
      ],
      "metadata": {
        "id": "5FrDh-6UIBhc"
      }
    },
    {
      "cell_type": "markdown",
      "source": [
        "##Imports and Function Definitions"
      ],
      "metadata": {
        "id": "47jpgIMo8Et9"
      }
    },
    {
      "cell_type": "code",
      "execution_count": 1,
      "metadata": {
        "id": "bJfTov1dodF1"
      },
      "outputs": [],
      "source": [
        "import numpy as np\n",
        "import pandas as pd\n",
        "import matplotlib.pyplot as plt\n",
        "from matplotlib.colors import LogNorm\n",
        "import sklearn.metrics as metrics\n",
        "import seaborn as sns\n",
        "import cv2\n",
        "sns.axes_style(\"whitegrid\")\n",
        "sns.set_context(\"paper\")\n",
        "from sklearn.linear_model import SGDClassifier\n",
        "\n",
        "from sklearn.linear_model import SGDRegressor\n",
        "from sklearn.linear_model import LinearRegression\n",
        "from sklearn.linear_model import Ridge\n",
        "from sklearn.linear_model import Lasso\n",
        "from sklearn.model_selection import cross_val_score\n",
        "from sklearn.pipeline import make_pipeline\n",
        "from sklearn.preprocessing import add_dummy_feature\n",
        "from sklearn.model_selection import train_test_split\n",
        "from sklearn.linear_model import LogisticRegression\n",
        "from sklearn.preprocessing import StandardScaler\n",
        "from sklearn import preprocessing\n",
        "from sklearn import utils\n",
        "from sklearn.decomposition import PCA\n",
        "from sklearn.manifold import TSNE\n",
        "from sklearn.metrics import mean_squared_error\n",
        "\n",
        "#np.random.seed(42)"
      ]
    },
    {
      "cell_type": "code",
      "source": [
        "#import sys\n",
        "#np.set_printoptions(threshold=sys.maxsize)"
      ],
      "metadata": {
        "id": "1wqFheXOQ0rU"
      },
      "execution_count": 2,
      "outputs": []
    },
    {
      "cell_type": "code",
      "source": [
        "def regression_results(y_true, y_pred):\n",
        "\n",
        "    # Regression metrics\n",
        "    explained_variance=metrics.explained_variance_score(y_true, y_pred)\n",
        "    mean_absolute_error=metrics.mean_absolute_error(y_true, y_pred)\n",
        "    mse=metrics.mean_squared_error(y_true, y_pred)\n",
        "#    mean_squared_log_error=metrics.mean_squared_log_error(y_true, y_pred)\n",
        "    median_absolute_error=metrics.median_absolute_error(y_true, y_pred)\n",
        "    r2=metrics.r2_score(y_true, y_pred)\n",
        "\n",
        "    print('explained_variance: ', round(explained_variance,4))\n",
        "    print('mean_absolute_error: ', round(mean_absolute_error,4))\n",
        "#    print('mean_squared_log_error: ', round(mean_squared_log_error,4))\n",
        "    print('r2: ', round(r2,4))\n",
        "    print('MAE: ', round(mean_absolute_error,4))\n",
        "    print('MSE: ', round(mse,4))\n",
        "    print('RMSE: ', round(np.sqrt(mse),4))\n"
      ],
      "metadata": {
        "id": "rRbD65RpPeQK"
      },
      "execution_count": 3,
      "outputs": []
    },
    {
      "cell_type": "code",
      "source": [
        "def model_acc_t(res):\n",
        "\n",
        "    m1 = res['pred']; m2 = res['actual']\n",
        "    sum12 = sum(m1==m2)\n",
        "    pct=sum12/len(res)*100\n",
        "\n",
        "    print(\"Your model made \", pct, \"percent correct predictions\\n\")\n",
        "    return\n",
        "#X_train[0]"
      ],
      "metadata": {
        "id": "HcA3IU4CLL85"
      },
      "execution_count": 4,
      "outputs": []
    },
    {
      "cell_type": "code",
      "source": [
        "#model_acc2(res_df,type) # 0 for setosa, 1 for versi, 2 for virg\n",
        "\n",
        "# need condition for each type\n",
        "def model_acc2(res,type):\n",
        "\n",
        "    if (type==0):\n",
        "      m1 = res['pred']>=0.5\n",
        "      m2 = res['actual']==1\n",
        "    elif (type==1):\n",
        "      m1 = res['pred']>=0.5\n",
        "      m2 = res['actual']==1\n",
        "    elif (type==2):\n",
        "      m1 = res['pred']>=0.5\n",
        "      m2 = res['actual']==1\n",
        "\n",
        "\n",
        "#    m1 = res['pred']>=0.5\n",
        "#    m2 = res['actual']==1\n",
        "    sum12=sum(m1==m2)\n",
        "    pct=sum12/len(res)*100\n",
        "    print(\"Your model made \", pct, \"percent correct predictions\\n\")\n",
        "    return"
      ],
      "metadata": {
        "id": "9xuwD13R8pP2"
      },
      "execution_count": 5,
      "outputs": []
    },
    {
      "cell_type": "code",
      "source": [
        "def model_parm_std_err(xdata, ydata, model): # assumes xtest and ytest are not dfs\n",
        "# this function was written for univariate regression,\n",
        "# not yet tested for multivariate\n",
        "\n",
        "# if you just want to check whether this algorithm works, use statsmodels\n",
        "\n",
        "# using this with scaled data (both x and y) gives the same slope\n",
        "# but a different intercept\n",
        "\n",
        "    df_xt = pd.DataFrame(xdata)\n",
        "    df_yt = pd.DataFrame(ydata)\n",
        "\n",
        "    modelf = model\n",
        "\n",
        "    N = len(df_xt)\n",
        "    p = len(df_xt.columns) + 1  # plus one because LinearRegression adds an intercept term\n",
        "\n",
        "    X_with_intercept = np.empty(shape=(N, p), dtype=float)\n",
        "    X_with_intercept[:, 0] = 1\n",
        "    X_with_intercept[:, 1:p] = xdata\n",
        "\n",
        "\n",
        "    beta_hat = np.linalg.inv(X_with_intercept.T @ X_with_intercept) @ X_with_intercept.T @ ydata\n",
        "\n",
        "    #print(beta_hat)\n",
        "\n",
        "    modelf.fit(xdata,ydata)\n",
        "\n",
        "    slope = modelf.coef_[0][0]\n",
        "    intercept = modelf.intercept_[0]\n",
        "\n",
        "    y_hat = modelf.predict(df_xt)\n",
        "    residuals = ydata - y_hat\n",
        "\n",
        "    residual_sum_of_squares = residuals.T @ residuals\n",
        "    sigma_squared_hat = residual_sum_of_squares[0, 0] / (N - p)\n",
        "    var_beta_hat = np.linalg.inv(X_with_intercept.T @ X_with_intercept) * sigma_squared_hat\n",
        "\n",
        "\n",
        "# var_beta hat output errors on intercept first, then slope1, slope2, etc.\n",
        "    for p_ in range(p):\n",
        "      standard_error = var_beta_hat[p_, p_] ** 0.5\n",
        "#      print(var_beta_hat.shape)\n",
        "#      print(f\"SE(beta_hat[{p_}]): {standard_error}\")\n",
        "\n",
        "    print (\"slope:\\t\", slope, \"+/-\", var_beta_hat[1,1]**0.5, \"\\nintercept:\\t\", intercept, \"+/-\", var_beta_hat[0,0]**0.5)\n"
      ],
      "metadata": {
        "id": "Eprc7dlvSLKS"
      },
      "execution_count": 6,
      "outputs": []
    },
    {
      "cell_type": "code",
      "source": [
        "def lasso_model_parm_std_err(xdata, ydata, model): # assumes xtest and ytest are not dfs\n",
        "# this function was written for univariate regression for the lasso model which\n",
        "# is formatted differently\n",
        "\n",
        "# if you just want to check whether this algorithm works, use statsmodels\n",
        "\n",
        "# using this with scaled data (both x and y) gives the same slope\n",
        "# but a different intercept\n",
        "\n",
        "    df_xt = pd.DataFrame(xdata)\n",
        "    df_yt = pd.DataFrame(ydata)\n",
        "\n",
        "    modelf = model\n",
        "\n",
        "    N = len(df_xt)\n",
        "    p = len(df_xt.columns) + 1  # plus one because LinearRegression adds an intercept term\n",
        "\n",
        "    X_with_intercept = np.empty(shape=(N, p), dtype=float)\n",
        "    X_with_intercept[:, 0] = 1\n",
        "    X_with_intercept[:, 1:p] = xdata\n",
        "\n",
        "\n",
        "    beta_hat = np.linalg.inv(X_with_intercept.T @ X_with_intercept) @ X_with_intercept.T @ ydata\n",
        "\n",
        "    #print(beta_hat)\n",
        "\n",
        "    modelf.fit(xdata,ydata)\n",
        "\n",
        "# format for lasso\n",
        "    slope = modelf.coef_[0]\n",
        "    intercept = modelf.intercept_[0]\n",
        "\n",
        "\n",
        "    y_hat = modelf.predict(df_xt)\n",
        "    residuals = ydata - y_hat\n",
        "\n",
        "    residual_sum_of_squares = residuals.T @ residuals\n",
        "    sigma_squared_hat = residual_sum_of_squares[0, 0] / (N - p)\n",
        "    var_beta_hat = np.linalg.inv(X_with_intercept.T @ X_with_intercept) * sigma_squared_hat\n",
        "\n",
        "\n",
        "# var_beta hat output errors on intercept first, then slope1, slope2, etc.\n",
        "    for p_ in range(p):\n",
        "      standard_error = var_beta_hat[p_, p_] ** 0.5\n",
        "#      print(var_beta_hat.shape)\n",
        "#      print(f\"SE(beta_hat[{p_}]): {standard_error}\")\n",
        "\n",
        "    print (\"slope:\\t\", slope, \"+/-\", var_beta_hat[1,1]**0.5, \"\\nintercept:\\t\", intercept, \"+/-\", var_beta_hat[0,0]**0.5)"
      ],
      "metadata": {
        "id": "0jOMFnbrSPRD"
      },
      "execution_count": 7,
      "outputs": []
    },
    {
      "cell_type": "code",
      "source": [
        "def mv_model_parm_std_err(xdata, ydata, model): # assumes xdata and ydata are not dfs\n",
        "# this function was written for multivariate regression for the lasso model which\n",
        "# is formatted differently\n",
        "\n",
        "    df_xt = pd.DataFrame(xdata)\n",
        "    df_yt = pd.DataFrame(ydata)\n",
        "\n",
        "    modelf = model\n",
        "\n",
        "    N = len(df_xt)\n",
        "    p = len(df_xt.columns) + 1  # plus one because LinearRegression adds an intercept term\n",
        "\n",
        "    X_with_intercept = np.empty(shape=(N, p), dtype=float)\n",
        "    X_with_intercept[:, 0] = 1\n",
        "    X_with_intercept[:, 1:p] = xdata\n",
        "\n",
        "    beta_hat = np.linalg.inv(X_with_intercept.T @ X_with_intercept) @ X_with_intercept.T @ ydata\n",
        "\n",
        "    #print(beta_hat)\n",
        "\n",
        "    modelf.fit(xdata,ydata)\n",
        "\n",
        "# format for lasso\n",
        "    slope = []\n",
        "    for i in range(len(modelf.coef_)):\n",
        "      slope.append(modelf.coef_[i])\n",
        "\n",
        "#    slope = modelf.coef_[0]\n",
        "    intercept = modelf.intercept_[0]\n",
        "\n",
        "\n",
        "    y_hat = modelf.predict(df_xt)\n",
        "    residuals = ydata - y_hat\n",
        "\n",
        "    residual_sum_of_squares = residuals.T @ residuals\n",
        "    sigma_squared_hat = residual_sum_of_squares[0, 0] / (N - p)\n",
        "    var_beta_hat = np.linalg.inv(X_with_intercept.T @ X_with_intercept) * sigma_squared_hat\n",
        "\n",
        "\n",
        "# var_beta hat output errors on intercept first, then slope1, slope2, etc.\n",
        "    for p_ in range(p):\n",
        "      standard_error = var_beta_hat[p_, p_] ** 0.5\n",
        "#      print(var_beta_hat.shape)\n",
        "#      print(f\"SE(beta_hat[{p_}]): {standard_error}\")\n",
        "\n",
        "    for p_ in range(p):\n",
        "      std_err = var_beta_hat[p_,p_]**0.5\n",
        "      if(p_==0):\n",
        "        print(\"intercept:\\t\",intercept,\"+/-\",std_err,\"\\n\")\n",
        "        continue\n",
        "#          print(\"slope\",p_,\":\\t\",slope[p_],\"+/-\",std_err,\"\\n\")\n",
        "#      else:\n",
        "      print(\"slope\",p_,\":\\t\",slope[p_-1],\"+/-\",std_err,\"\\n\")\n",
        "\n",
        "#    print (\"slope:\\t\", slope, \"+/-\", var_beta_hat[1,1]**0.5, \"\\nintercept:\\t\", intercept, \"+/-\", var_beta_hat[0,0]**0.5)"
      ],
      "metadata": {
        "id": "_Hplao9uzJun"
      },
      "execution_count": 8,
      "outputs": []
    },
    {
      "cell_type": "markdown",
      "metadata": {
        "id": "-UbedUybZHaa"
      },
      "source": [
        "As we did in previous chapters, let's define the default font sizes to make the figures prettier:"
      ]
    },
    {
      "cell_type": "code",
      "execution_count": 9,
      "metadata": {
        "id": "2cflX4T5ZHaa"
      },
      "outputs": [],
      "source": [
        "import matplotlib.pyplot as plt\n",
        "\n",
        "plt.rc('font', size=14)\n",
        "plt.rc('axes', labelsize=14, titlesize=14)\n",
        "plt.rc('legend', fontsize=14)\n",
        "plt.rc('xtick', labelsize=10)\n",
        "plt.rc('ytick', labelsize=10)"
      ]
    },
    {
      "cell_type": "markdown",
      "source": [
        "## Setting up the data"
      ],
      "metadata": {
        "id": "p1Uq1ebZY2xY"
      }
    },
    {
      "cell_type": "markdown",
      "source": [
        "### Retrieve and preparing auto_mpg data\n",
        "* retrieves dataset\n",
        "* replaces a few horsepowers that were missing (looked up on google), change datatype to int\n",
        "* drops origin and model info\n",
        "\n"
      ],
      "metadata": {
        "id": "E9IdgekfUE4V"
      }
    },
    {
      "cell_type": "code",
      "source": [
        "web_path = '' #if downloaded data to the current folder\n",
        "web_path = 'http://public.gettysburg.edu/~rjohnson/ds325/' #if using data over web\n",
        "auto_df = pd.read_csv(web_path+'auto_mpg.csv')\n",
        "#auto_df.head()\n"
      ],
      "metadata": {
        "id": "KcwA-H05ZCG4"
      },
      "execution_count": 10,
      "outputs": []
    },
    {
      "cell_type": "code",
      "source": [
        "auto_df.describe()"
      ],
      "metadata": {
        "colab": {
          "base_uri": "https://localhost:8080/",
          "height": 334
        },
        "id": "_6VLbQ5YcftQ",
        "outputId": "d970ef3c-7095-42d1-8ae7-778fd5fca286"
      },
      "execution_count": 11,
      "outputs": [
        {
          "output_type": "execute_result",
          "data": {
            "text/plain": [
              "              mpg   cylinders  displacement       weight  acceleration  \\\n",
              "count  398.000000  398.000000    398.000000   398.000000    398.000000   \n",
              "mean    23.514573    5.454774    193.425879  2970.424623     15.568090   \n",
              "std      7.815984    1.701004    104.269838   846.841774      2.757689   \n",
              "min      9.000000    3.000000     68.000000  1613.000000      8.000000   \n",
              "25%     17.500000    4.000000    104.250000  2223.750000     13.825000   \n",
              "50%     23.000000    4.000000    148.500000  2803.500000     15.500000   \n",
              "75%     29.000000    8.000000    262.000000  3608.000000     17.175000   \n",
              "max     46.600000    8.000000    455.000000  5140.000000     24.800000   \n",
              "\n",
              "       model year      origin  \n",
              "count  398.000000  398.000000  \n",
              "mean    76.010050    1.572864  \n",
              "std      3.697627    0.802055  \n",
              "min     70.000000    1.000000  \n",
              "25%     73.000000    1.000000  \n",
              "50%     76.000000    1.000000  \n",
              "75%     79.000000    2.000000  \n",
              "max     82.000000    3.000000  "
            ],
            "text/html": [
              "\n",
              "  <div id=\"df-edd2a119-cac6-4baf-ab7f-ecefc815c215\" class=\"colab-df-container\">\n",
              "    <div>\n",
              "<style scoped>\n",
              "    .dataframe tbody tr th:only-of-type {\n",
              "        vertical-align: middle;\n",
              "    }\n",
              "\n",
              "    .dataframe tbody tr th {\n",
              "        vertical-align: top;\n",
              "    }\n",
              "\n",
              "    .dataframe thead th {\n",
              "        text-align: right;\n",
              "    }\n",
              "</style>\n",
              "<table border=\"1\" class=\"dataframe\">\n",
              "  <thead>\n",
              "    <tr style=\"text-align: right;\">\n",
              "      <th></th>\n",
              "      <th>mpg</th>\n",
              "      <th>cylinders</th>\n",
              "      <th>displacement</th>\n",
              "      <th>weight</th>\n",
              "      <th>acceleration</th>\n",
              "      <th>model year</th>\n",
              "      <th>origin</th>\n",
              "    </tr>\n",
              "  </thead>\n",
              "  <tbody>\n",
              "    <tr>\n",
              "      <th>count</th>\n",
              "      <td>398.000000</td>\n",
              "      <td>398.000000</td>\n",
              "      <td>398.000000</td>\n",
              "      <td>398.000000</td>\n",
              "      <td>398.000000</td>\n",
              "      <td>398.000000</td>\n",
              "      <td>398.000000</td>\n",
              "    </tr>\n",
              "    <tr>\n",
              "      <th>mean</th>\n",
              "      <td>23.514573</td>\n",
              "      <td>5.454774</td>\n",
              "      <td>193.425879</td>\n",
              "      <td>2970.424623</td>\n",
              "      <td>15.568090</td>\n",
              "      <td>76.010050</td>\n",
              "      <td>1.572864</td>\n",
              "    </tr>\n",
              "    <tr>\n",
              "      <th>std</th>\n",
              "      <td>7.815984</td>\n",
              "      <td>1.701004</td>\n",
              "      <td>104.269838</td>\n",
              "      <td>846.841774</td>\n",
              "      <td>2.757689</td>\n",
              "      <td>3.697627</td>\n",
              "      <td>0.802055</td>\n",
              "    </tr>\n",
              "    <tr>\n",
              "      <th>min</th>\n",
              "      <td>9.000000</td>\n",
              "      <td>3.000000</td>\n",
              "      <td>68.000000</td>\n",
              "      <td>1613.000000</td>\n",
              "      <td>8.000000</td>\n",
              "      <td>70.000000</td>\n",
              "      <td>1.000000</td>\n",
              "    </tr>\n",
              "    <tr>\n",
              "      <th>25%</th>\n",
              "      <td>17.500000</td>\n",
              "      <td>4.000000</td>\n",
              "      <td>104.250000</td>\n",
              "      <td>2223.750000</td>\n",
              "      <td>13.825000</td>\n",
              "      <td>73.000000</td>\n",
              "      <td>1.000000</td>\n",
              "    </tr>\n",
              "    <tr>\n",
              "      <th>50%</th>\n",
              "      <td>23.000000</td>\n",
              "      <td>4.000000</td>\n",
              "      <td>148.500000</td>\n",
              "      <td>2803.500000</td>\n",
              "      <td>15.500000</td>\n",
              "      <td>76.000000</td>\n",
              "      <td>1.000000</td>\n",
              "    </tr>\n",
              "    <tr>\n",
              "      <th>75%</th>\n",
              "      <td>29.000000</td>\n",
              "      <td>8.000000</td>\n",
              "      <td>262.000000</td>\n",
              "      <td>3608.000000</td>\n",
              "      <td>17.175000</td>\n",
              "      <td>79.000000</td>\n",
              "      <td>2.000000</td>\n",
              "    </tr>\n",
              "    <tr>\n",
              "      <th>max</th>\n",
              "      <td>46.600000</td>\n",
              "      <td>8.000000</td>\n",
              "      <td>455.000000</td>\n",
              "      <td>5140.000000</td>\n",
              "      <td>24.800000</td>\n",
              "      <td>82.000000</td>\n",
              "      <td>3.000000</td>\n",
              "    </tr>\n",
              "  </tbody>\n",
              "</table>\n",
              "</div>\n",
              "    <div class=\"colab-df-buttons\">\n",
              "\n",
              "  <div class=\"colab-df-container\">\n",
              "    <button class=\"colab-df-convert\" onclick=\"convertToInteractive('df-edd2a119-cac6-4baf-ab7f-ecefc815c215')\"\n",
              "            title=\"Convert this dataframe to an interactive table.\"\n",
              "            style=\"display:none;\">\n",
              "\n",
              "  <svg xmlns=\"http://www.w3.org/2000/svg\" height=\"24px\" viewBox=\"0 -960 960 960\">\n",
              "    <path d=\"M120-120v-720h720v720H120Zm60-500h600v-160H180v160Zm220 220h160v-160H400v160Zm0 220h160v-160H400v160ZM180-400h160v-160H180v160Zm440 0h160v-160H620v160ZM180-180h160v-160H180v160Zm440 0h160v-160H620v160Z\"/>\n",
              "  </svg>\n",
              "    </button>\n",
              "\n",
              "  <style>\n",
              "    .colab-df-container {\n",
              "      display:flex;\n",
              "      gap: 12px;\n",
              "    }\n",
              "\n",
              "    .colab-df-convert {\n",
              "      background-color: #E8F0FE;\n",
              "      border: none;\n",
              "      border-radius: 50%;\n",
              "      cursor: pointer;\n",
              "      display: none;\n",
              "      fill: #1967D2;\n",
              "      height: 32px;\n",
              "      padding: 0 0 0 0;\n",
              "      width: 32px;\n",
              "    }\n",
              "\n",
              "    .colab-df-convert:hover {\n",
              "      background-color: #E2EBFA;\n",
              "      box-shadow: 0px 1px 2px rgba(60, 64, 67, 0.3), 0px 1px 3px 1px rgba(60, 64, 67, 0.15);\n",
              "      fill: #174EA6;\n",
              "    }\n",
              "\n",
              "    .colab-df-buttons div {\n",
              "      margin-bottom: 4px;\n",
              "    }\n",
              "\n",
              "    [theme=dark] .colab-df-convert {\n",
              "      background-color: #3B4455;\n",
              "      fill: #D2E3FC;\n",
              "    }\n",
              "\n",
              "    [theme=dark] .colab-df-convert:hover {\n",
              "      background-color: #434B5C;\n",
              "      box-shadow: 0px 1px 3px 1px rgba(0, 0, 0, 0.15);\n",
              "      filter: drop-shadow(0px 1px 2px rgba(0, 0, 0, 0.3));\n",
              "      fill: #FFFFFF;\n",
              "    }\n",
              "  </style>\n",
              "\n",
              "    <script>\n",
              "      const buttonEl =\n",
              "        document.querySelector('#df-edd2a119-cac6-4baf-ab7f-ecefc815c215 button.colab-df-convert');\n",
              "      buttonEl.style.display =\n",
              "        google.colab.kernel.accessAllowed ? 'block' : 'none';\n",
              "\n",
              "      async function convertToInteractive(key) {\n",
              "        const element = document.querySelector('#df-edd2a119-cac6-4baf-ab7f-ecefc815c215');\n",
              "        const dataTable =\n",
              "          await google.colab.kernel.invokeFunction('convertToInteractive',\n",
              "                                                    [key], {});\n",
              "        if (!dataTable) return;\n",
              "\n",
              "        const docLinkHtml = 'Like what you see? Visit the ' +\n",
              "          '<a target=\"_blank\" href=https://colab.research.google.com/notebooks/data_table.ipynb>data table notebook</a>'\n",
              "          + ' to learn more about interactive tables.';\n",
              "        element.innerHTML = '';\n",
              "        dataTable['output_type'] = 'display_data';\n",
              "        await google.colab.output.renderOutput(dataTable, element);\n",
              "        const docLink = document.createElement('div');\n",
              "        docLink.innerHTML = docLinkHtml;\n",
              "        element.appendChild(docLink);\n",
              "      }\n",
              "    </script>\n",
              "  </div>\n",
              "\n",
              "\n",
              "<div id=\"df-d536ed09-c20b-472e-b1b0-7f18757b420a\">\n",
              "  <button class=\"colab-df-quickchart\" onclick=\"quickchart('df-d536ed09-c20b-472e-b1b0-7f18757b420a')\"\n",
              "            title=\"Suggest charts\"\n",
              "            style=\"display:none;\">\n",
              "\n",
              "<svg xmlns=\"http://www.w3.org/2000/svg\" height=\"24px\"viewBox=\"0 0 24 24\"\n",
              "     width=\"24px\">\n",
              "    <g>\n",
              "        <path d=\"M19 3H5c-1.1 0-2 .9-2 2v14c0 1.1.9 2 2 2h14c1.1 0 2-.9 2-2V5c0-1.1-.9-2-2-2zM9 17H7v-7h2v7zm4 0h-2V7h2v10zm4 0h-2v-4h2v4z\"/>\n",
              "    </g>\n",
              "</svg>\n",
              "  </button>\n",
              "\n",
              "<style>\n",
              "  .colab-df-quickchart {\n",
              "      --bg-color: #E8F0FE;\n",
              "      --fill-color: #1967D2;\n",
              "      --hover-bg-color: #E2EBFA;\n",
              "      --hover-fill-color: #174EA6;\n",
              "      --disabled-fill-color: #AAA;\n",
              "      --disabled-bg-color: #DDD;\n",
              "  }\n",
              "\n",
              "  [theme=dark] .colab-df-quickchart {\n",
              "      --bg-color: #3B4455;\n",
              "      --fill-color: #D2E3FC;\n",
              "      --hover-bg-color: #434B5C;\n",
              "      --hover-fill-color: #FFFFFF;\n",
              "      --disabled-bg-color: #3B4455;\n",
              "      --disabled-fill-color: #666;\n",
              "  }\n",
              "\n",
              "  .colab-df-quickchart {\n",
              "    background-color: var(--bg-color);\n",
              "    border: none;\n",
              "    border-radius: 50%;\n",
              "    cursor: pointer;\n",
              "    display: none;\n",
              "    fill: var(--fill-color);\n",
              "    height: 32px;\n",
              "    padding: 0;\n",
              "    width: 32px;\n",
              "  }\n",
              "\n",
              "  .colab-df-quickchart:hover {\n",
              "    background-color: var(--hover-bg-color);\n",
              "    box-shadow: 0 1px 2px rgba(60, 64, 67, 0.3), 0 1px 3px 1px rgba(60, 64, 67, 0.15);\n",
              "    fill: var(--button-hover-fill-color);\n",
              "  }\n",
              "\n",
              "  .colab-df-quickchart-complete:disabled,\n",
              "  .colab-df-quickchart-complete:disabled:hover {\n",
              "    background-color: var(--disabled-bg-color);\n",
              "    fill: var(--disabled-fill-color);\n",
              "    box-shadow: none;\n",
              "  }\n",
              "\n",
              "  .colab-df-spinner {\n",
              "    border: 2px solid var(--fill-color);\n",
              "    border-color: transparent;\n",
              "    border-bottom-color: var(--fill-color);\n",
              "    animation:\n",
              "      spin 1s steps(1) infinite;\n",
              "  }\n",
              "\n",
              "  @keyframes spin {\n",
              "    0% {\n",
              "      border-color: transparent;\n",
              "      border-bottom-color: var(--fill-color);\n",
              "      border-left-color: var(--fill-color);\n",
              "    }\n",
              "    20% {\n",
              "      border-color: transparent;\n",
              "      border-left-color: var(--fill-color);\n",
              "      border-top-color: var(--fill-color);\n",
              "    }\n",
              "    30% {\n",
              "      border-color: transparent;\n",
              "      border-left-color: var(--fill-color);\n",
              "      border-top-color: var(--fill-color);\n",
              "      border-right-color: var(--fill-color);\n",
              "    }\n",
              "    40% {\n",
              "      border-color: transparent;\n",
              "      border-right-color: var(--fill-color);\n",
              "      border-top-color: var(--fill-color);\n",
              "    }\n",
              "    60% {\n",
              "      border-color: transparent;\n",
              "      border-right-color: var(--fill-color);\n",
              "    }\n",
              "    80% {\n",
              "      border-color: transparent;\n",
              "      border-right-color: var(--fill-color);\n",
              "      border-bottom-color: var(--fill-color);\n",
              "    }\n",
              "    90% {\n",
              "      border-color: transparent;\n",
              "      border-bottom-color: var(--fill-color);\n",
              "    }\n",
              "  }\n",
              "</style>\n",
              "\n",
              "  <script>\n",
              "    async function quickchart(key) {\n",
              "      const quickchartButtonEl =\n",
              "        document.querySelector('#' + key + ' button');\n",
              "      quickchartButtonEl.disabled = true;  // To prevent multiple clicks.\n",
              "      quickchartButtonEl.classList.add('colab-df-spinner');\n",
              "      try {\n",
              "        const charts = await google.colab.kernel.invokeFunction(\n",
              "            'suggestCharts', [key], {});\n",
              "      } catch (error) {\n",
              "        console.error('Error during call to suggestCharts:', error);\n",
              "      }\n",
              "      quickchartButtonEl.classList.remove('colab-df-spinner');\n",
              "      quickchartButtonEl.classList.add('colab-df-quickchart-complete');\n",
              "    }\n",
              "    (() => {\n",
              "      let quickchartButtonEl =\n",
              "        document.querySelector('#df-d536ed09-c20b-472e-b1b0-7f18757b420a button');\n",
              "      quickchartButtonEl.style.display =\n",
              "        google.colab.kernel.accessAllowed ? 'block' : 'none';\n",
              "    })();\n",
              "  </script>\n",
              "</div>\n",
              "\n",
              "    </div>\n",
              "  </div>\n"
            ],
            "application/vnd.google.colaboratory.intrinsic+json": {
              "type": "dataframe",
              "summary": "{\n  \"name\": \"auto_df\",\n  \"rows\": 8,\n  \"fields\": [\n    {\n      \"column\": \"mpg\",\n      \"properties\": {\n        \"dtype\": \"number\",\n        \"std\": 133.37523833494922,\n        \"min\": 7.815984312565782,\n        \"max\": 398.0,\n        \"num_unique_values\": 8,\n        \"samples\": [\n          23.514572864321607,\n          23.0,\n          398.0\n        ],\n        \"semantic_type\": \"\",\n        \"description\": \"\"\n      }\n    },\n    {\n      \"column\": \"cylinders\",\n      \"properties\": {\n        \"dtype\": \"number\",\n        \"std\": 139.0071020301553,\n        \"min\": 1.7010042445332119,\n        \"max\": 398.0,\n        \"num_unique_values\": 6,\n        \"samples\": [\n          398.0,\n          5.454773869346734,\n          8.0\n        ],\n        \"semantic_type\": \"\",\n        \"description\": \"\"\n      }\n    },\n    {\n      \"column\": \"displacement\",\n      \"properties\": {\n        \"dtype\": \"number\",\n        \"std\": 143.57617465667641,\n        \"min\": 68.0,\n        \"max\": 455.0,\n        \"num_unique_values\": 8,\n        \"samples\": [\n          193.42587939698493,\n          148.5,\n          398.0\n        ],\n        \"semantic_type\": \"\",\n        \"description\": \"\"\n      }\n    },\n    {\n      \"column\": \"weight\",\n      \"properties\": {\n        \"dtype\": \"number\",\n        \"std\": 1535.5522437115258,\n        \"min\": 398.0,\n        \"max\": 5140.0,\n        \"num_unique_values\": 8,\n        \"samples\": [\n          2970.424623115578,\n          2803.5,\n          398.0\n        ],\n        \"semantic_type\": \"\",\n        \"description\": \"\"\n      }\n    },\n    {\n      \"column\": \"acceleration\",\n      \"properties\": {\n        \"dtype\": \"number\",\n        \"std\": 135.93788360342714,\n        \"min\": 2.757688929812676,\n        \"max\": 398.0,\n        \"num_unique_values\": 8,\n        \"samples\": [\n          15.568090452261307,\n          15.5,\n          398.0\n        ],\n        \"semantic_type\": \"\",\n        \"description\": \"\"\n      }\n    },\n    {\n      \"column\": \"model year\",\n      \"properties\": {\n        \"dtype\": \"number\",\n        \"std\": 120.2422511942329,\n        \"min\": 3.697626646732623,\n        \"max\": 398.0,\n        \"num_unique_values\": 8,\n        \"samples\": [\n          76.01005025125629,\n          76.0,\n          398.0\n        ],\n        \"semantic_type\": \"\",\n        \"description\": \"\"\n      }\n    },\n    {\n      \"column\": \"origin\",\n      \"properties\": {\n        \"dtype\": \"number\",\n        \"std\": 140.19214256834297,\n        \"min\": 0.8020548777266148,\n        \"max\": 398.0,\n        \"num_unique_values\": 6,\n        \"samples\": [\n          398.0,\n          1.5728643216080402,\n          3.0\n        ],\n        \"semantic_type\": \"\",\n        \"description\": \"\"\n      }\n    }\n  ]\n}"
            }
          },
          "metadata": {},
          "execution_count": 11
        }
      ]
    },
    {
      "cell_type": "code",
      "source": [
        "auto_df.info()"
      ],
      "metadata": {
        "colab": {
          "base_uri": "https://localhost:8080/"
        },
        "id": "2Xi5jW9VZR5Y",
        "outputId": "f0769a53-c181-4bd6-807c-d17115e702b7"
      },
      "execution_count": 12,
      "outputs": [
        {
          "output_type": "stream",
          "name": "stdout",
          "text": [
            "<class 'pandas.core.frame.DataFrame'>\n",
            "RangeIndex: 398 entries, 0 to 397\n",
            "Data columns (total 9 columns):\n",
            " #   Column        Non-Null Count  Dtype  \n",
            "---  ------        --------------  -----  \n",
            " 0   mpg           398 non-null    float64\n",
            " 1   cylinders     398 non-null    int64  \n",
            " 2   displacement  398 non-null    float64\n",
            " 3   horsepower    398 non-null    object \n",
            " 4   weight        398 non-null    int64  \n",
            " 5   acceleration  398 non-null    float64\n",
            " 6   model year    398 non-null    int64  \n",
            " 7   origin        398 non-null    int64  \n",
            " 8   car name      398 non-null    object \n",
            "dtypes: float64(3), int64(4), object(2)\n",
            "memory usage: 28.1+ KB\n"
          ]
        }
      ]
    },
    {
      "cell_type": "code",
      "source": [
        "auto_df[(auto_df['horsepower']=='?')]"
      ],
      "metadata": {
        "colab": {
          "base_uri": "https://localhost:8080/",
          "height": 425
        },
        "id": "MDCfRz6_CVyn",
        "outputId": "ba247764-9c08-4c96-cb7b-81487db590c5"
      },
      "execution_count": 13,
      "outputs": [
        {
          "output_type": "execute_result",
          "data": {
            "text/plain": [
              "      mpg  cylinders  displacement horsepower  weight  acceleration  \\\n",
              "32   25.0          4          98.0          ?    2046          19.0   \n",
              "126  21.0          6         200.0          ?    2875          17.0   \n",
              "330  40.9          4          85.0          ?    1835          17.3   \n",
              "336  23.6          4         140.0          ?    2905          14.3   \n",
              "354  34.5          4         100.0          ?    2320          15.8   \n",
              "374  23.0          4         151.0          ?    3035          20.5   \n",
              "\n",
              "     model year  origin              car name  \n",
              "32           71       1            ford pinto  \n",
              "126          74       1         ford maverick  \n",
              "330          80       2  renault lecar deluxe  \n",
              "336          80       1    ford mustang cobra  \n",
              "354          81       2           renault 18i  \n",
              "374          82       1        amc concord dl  "
            ],
            "text/html": [
              "\n",
              "  <div id=\"df-16c81a0f-2bd4-47e1-bbe8-5dca5f6da395\" class=\"colab-df-container\">\n",
              "    <div>\n",
              "<style scoped>\n",
              "    .dataframe tbody tr th:only-of-type {\n",
              "        vertical-align: middle;\n",
              "    }\n",
              "\n",
              "    .dataframe tbody tr th {\n",
              "        vertical-align: top;\n",
              "    }\n",
              "\n",
              "    .dataframe thead th {\n",
              "        text-align: right;\n",
              "    }\n",
              "</style>\n",
              "<table border=\"1\" class=\"dataframe\">\n",
              "  <thead>\n",
              "    <tr style=\"text-align: right;\">\n",
              "      <th></th>\n",
              "      <th>mpg</th>\n",
              "      <th>cylinders</th>\n",
              "      <th>displacement</th>\n",
              "      <th>horsepower</th>\n",
              "      <th>weight</th>\n",
              "      <th>acceleration</th>\n",
              "      <th>model year</th>\n",
              "      <th>origin</th>\n",
              "      <th>car name</th>\n",
              "    </tr>\n",
              "  </thead>\n",
              "  <tbody>\n",
              "    <tr>\n",
              "      <th>32</th>\n",
              "      <td>25.0</td>\n",
              "      <td>4</td>\n",
              "      <td>98.0</td>\n",
              "      <td>?</td>\n",
              "      <td>2046</td>\n",
              "      <td>19.0</td>\n",
              "      <td>71</td>\n",
              "      <td>1</td>\n",
              "      <td>ford pinto</td>\n",
              "    </tr>\n",
              "    <tr>\n",
              "      <th>126</th>\n",
              "      <td>21.0</td>\n",
              "      <td>6</td>\n",
              "      <td>200.0</td>\n",
              "      <td>?</td>\n",
              "      <td>2875</td>\n",
              "      <td>17.0</td>\n",
              "      <td>74</td>\n",
              "      <td>1</td>\n",
              "      <td>ford maverick</td>\n",
              "    </tr>\n",
              "    <tr>\n",
              "      <th>330</th>\n",
              "      <td>40.9</td>\n",
              "      <td>4</td>\n",
              "      <td>85.0</td>\n",
              "      <td>?</td>\n",
              "      <td>1835</td>\n",
              "      <td>17.3</td>\n",
              "      <td>80</td>\n",
              "      <td>2</td>\n",
              "      <td>renault lecar deluxe</td>\n",
              "    </tr>\n",
              "    <tr>\n",
              "      <th>336</th>\n",
              "      <td>23.6</td>\n",
              "      <td>4</td>\n",
              "      <td>140.0</td>\n",
              "      <td>?</td>\n",
              "      <td>2905</td>\n",
              "      <td>14.3</td>\n",
              "      <td>80</td>\n",
              "      <td>1</td>\n",
              "      <td>ford mustang cobra</td>\n",
              "    </tr>\n",
              "    <tr>\n",
              "      <th>354</th>\n",
              "      <td>34.5</td>\n",
              "      <td>4</td>\n",
              "      <td>100.0</td>\n",
              "      <td>?</td>\n",
              "      <td>2320</td>\n",
              "      <td>15.8</td>\n",
              "      <td>81</td>\n",
              "      <td>2</td>\n",
              "      <td>renault 18i</td>\n",
              "    </tr>\n",
              "    <tr>\n",
              "      <th>374</th>\n",
              "      <td>23.0</td>\n",
              "      <td>4</td>\n",
              "      <td>151.0</td>\n",
              "      <td>?</td>\n",
              "      <td>3035</td>\n",
              "      <td>20.5</td>\n",
              "      <td>82</td>\n",
              "      <td>1</td>\n",
              "      <td>amc concord dl</td>\n",
              "    </tr>\n",
              "  </tbody>\n",
              "</table>\n",
              "</div>\n",
              "    <div class=\"colab-df-buttons\">\n",
              "\n",
              "  <div class=\"colab-df-container\">\n",
              "    <button class=\"colab-df-convert\" onclick=\"convertToInteractive('df-16c81a0f-2bd4-47e1-bbe8-5dca5f6da395')\"\n",
              "            title=\"Convert this dataframe to an interactive table.\"\n",
              "            style=\"display:none;\">\n",
              "\n",
              "  <svg xmlns=\"http://www.w3.org/2000/svg\" height=\"24px\" viewBox=\"0 -960 960 960\">\n",
              "    <path d=\"M120-120v-720h720v720H120Zm60-500h600v-160H180v160Zm220 220h160v-160H400v160Zm0 220h160v-160H400v160ZM180-400h160v-160H180v160Zm440 0h160v-160H620v160ZM180-180h160v-160H180v160Zm440 0h160v-160H620v160Z\"/>\n",
              "  </svg>\n",
              "    </button>\n",
              "\n",
              "  <style>\n",
              "    .colab-df-container {\n",
              "      display:flex;\n",
              "      gap: 12px;\n",
              "    }\n",
              "\n",
              "    .colab-df-convert {\n",
              "      background-color: #E8F0FE;\n",
              "      border: none;\n",
              "      border-radius: 50%;\n",
              "      cursor: pointer;\n",
              "      display: none;\n",
              "      fill: #1967D2;\n",
              "      height: 32px;\n",
              "      padding: 0 0 0 0;\n",
              "      width: 32px;\n",
              "    }\n",
              "\n",
              "    .colab-df-convert:hover {\n",
              "      background-color: #E2EBFA;\n",
              "      box-shadow: 0px 1px 2px rgba(60, 64, 67, 0.3), 0px 1px 3px 1px rgba(60, 64, 67, 0.15);\n",
              "      fill: #174EA6;\n",
              "    }\n",
              "\n",
              "    .colab-df-buttons div {\n",
              "      margin-bottom: 4px;\n",
              "    }\n",
              "\n",
              "    [theme=dark] .colab-df-convert {\n",
              "      background-color: #3B4455;\n",
              "      fill: #D2E3FC;\n",
              "    }\n",
              "\n",
              "    [theme=dark] .colab-df-convert:hover {\n",
              "      background-color: #434B5C;\n",
              "      box-shadow: 0px 1px 3px 1px rgba(0, 0, 0, 0.15);\n",
              "      filter: drop-shadow(0px 1px 2px rgba(0, 0, 0, 0.3));\n",
              "      fill: #FFFFFF;\n",
              "    }\n",
              "  </style>\n",
              "\n",
              "    <script>\n",
              "      const buttonEl =\n",
              "        document.querySelector('#df-16c81a0f-2bd4-47e1-bbe8-5dca5f6da395 button.colab-df-convert');\n",
              "      buttonEl.style.display =\n",
              "        google.colab.kernel.accessAllowed ? 'block' : 'none';\n",
              "\n",
              "      async function convertToInteractive(key) {\n",
              "        const element = document.querySelector('#df-16c81a0f-2bd4-47e1-bbe8-5dca5f6da395');\n",
              "        const dataTable =\n",
              "          await google.colab.kernel.invokeFunction('convertToInteractive',\n",
              "                                                    [key], {});\n",
              "        if (!dataTable) return;\n",
              "\n",
              "        const docLinkHtml = 'Like what you see? Visit the ' +\n",
              "          '<a target=\"_blank\" href=https://colab.research.google.com/notebooks/data_table.ipynb>data table notebook</a>'\n",
              "          + ' to learn more about interactive tables.';\n",
              "        element.innerHTML = '';\n",
              "        dataTable['output_type'] = 'display_data';\n",
              "        await google.colab.output.renderOutput(dataTable, element);\n",
              "        const docLink = document.createElement('div');\n",
              "        docLink.innerHTML = docLinkHtml;\n",
              "        element.appendChild(docLink);\n",
              "      }\n",
              "    </script>\n",
              "  </div>\n",
              "\n",
              "\n",
              "<div id=\"df-57f08af7-3d78-4fa6-adf0-bbcf62d91f07\">\n",
              "  <button class=\"colab-df-quickchart\" onclick=\"quickchart('df-57f08af7-3d78-4fa6-adf0-bbcf62d91f07')\"\n",
              "            title=\"Suggest charts\"\n",
              "            style=\"display:none;\">\n",
              "\n",
              "<svg xmlns=\"http://www.w3.org/2000/svg\" height=\"24px\"viewBox=\"0 0 24 24\"\n",
              "     width=\"24px\">\n",
              "    <g>\n",
              "        <path d=\"M19 3H5c-1.1 0-2 .9-2 2v14c0 1.1.9 2 2 2h14c1.1 0 2-.9 2-2V5c0-1.1-.9-2-2-2zM9 17H7v-7h2v7zm4 0h-2V7h2v10zm4 0h-2v-4h2v4z\"/>\n",
              "    </g>\n",
              "</svg>\n",
              "  </button>\n",
              "\n",
              "<style>\n",
              "  .colab-df-quickchart {\n",
              "      --bg-color: #E8F0FE;\n",
              "      --fill-color: #1967D2;\n",
              "      --hover-bg-color: #E2EBFA;\n",
              "      --hover-fill-color: #174EA6;\n",
              "      --disabled-fill-color: #AAA;\n",
              "      --disabled-bg-color: #DDD;\n",
              "  }\n",
              "\n",
              "  [theme=dark] .colab-df-quickchart {\n",
              "      --bg-color: #3B4455;\n",
              "      --fill-color: #D2E3FC;\n",
              "      --hover-bg-color: #434B5C;\n",
              "      --hover-fill-color: #FFFFFF;\n",
              "      --disabled-bg-color: #3B4455;\n",
              "      --disabled-fill-color: #666;\n",
              "  }\n",
              "\n",
              "  .colab-df-quickchart {\n",
              "    background-color: var(--bg-color);\n",
              "    border: none;\n",
              "    border-radius: 50%;\n",
              "    cursor: pointer;\n",
              "    display: none;\n",
              "    fill: var(--fill-color);\n",
              "    height: 32px;\n",
              "    padding: 0;\n",
              "    width: 32px;\n",
              "  }\n",
              "\n",
              "  .colab-df-quickchart:hover {\n",
              "    background-color: var(--hover-bg-color);\n",
              "    box-shadow: 0 1px 2px rgba(60, 64, 67, 0.3), 0 1px 3px 1px rgba(60, 64, 67, 0.15);\n",
              "    fill: var(--button-hover-fill-color);\n",
              "  }\n",
              "\n",
              "  .colab-df-quickchart-complete:disabled,\n",
              "  .colab-df-quickchart-complete:disabled:hover {\n",
              "    background-color: var(--disabled-bg-color);\n",
              "    fill: var(--disabled-fill-color);\n",
              "    box-shadow: none;\n",
              "  }\n",
              "\n",
              "  .colab-df-spinner {\n",
              "    border: 2px solid var(--fill-color);\n",
              "    border-color: transparent;\n",
              "    border-bottom-color: var(--fill-color);\n",
              "    animation:\n",
              "      spin 1s steps(1) infinite;\n",
              "  }\n",
              "\n",
              "  @keyframes spin {\n",
              "    0% {\n",
              "      border-color: transparent;\n",
              "      border-bottom-color: var(--fill-color);\n",
              "      border-left-color: var(--fill-color);\n",
              "    }\n",
              "    20% {\n",
              "      border-color: transparent;\n",
              "      border-left-color: var(--fill-color);\n",
              "      border-top-color: var(--fill-color);\n",
              "    }\n",
              "    30% {\n",
              "      border-color: transparent;\n",
              "      border-left-color: var(--fill-color);\n",
              "      border-top-color: var(--fill-color);\n",
              "      border-right-color: var(--fill-color);\n",
              "    }\n",
              "    40% {\n",
              "      border-color: transparent;\n",
              "      border-right-color: var(--fill-color);\n",
              "      border-top-color: var(--fill-color);\n",
              "    }\n",
              "    60% {\n",
              "      border-color: transparent;\n",
              "      border-right-color: var(--fill-color);\n",
              "    }\n",
              "    80% {\n",
              "      border-color: transparent;\n",
              "      border-right-color: var(--fill-color);\n",
              "      border-bottom-color: var(--fill-color);\n",
              "    }\n",
              "    90% {\n",
              "      border-color: transparent;\n",
              "      border-bottom-color: var(--fill-color);\n",
              "    }\n",
              "  }\n",
              "</style>\n",
              "\n",
              "  <script>\n",
              "    async function quickchart(key) {\n",
              "      const quickchartButtonEl =\n",
              "        document.querySelector('#' + key + ' button');\n",
              "      quickchartButtonEl.disabled = true;  // To prevent multiple clicks.\n",
              "      quickchartButtonEl.classList.add('colab-df-spinner');\n",
              "      try {\n",
              "        const charts = await google.colab.kernel.invokeFunction(\n",
              "            'suggestCharts', [key], {});\n",
              "      } catch (error) {\n",
              "        console.error('Error during call to suggestCharts:', error);\n",
              "      }\n",
              "      quickchartButtonEl.classList.remove('colab-df-spinner');\n",
              "      quickchartButtonEl.classList.add('colab-df-quickchart-complete');\n",
              "    }\n",
              "    (() => {\n",
              "      let quickchartButtonEl =\n",
              "        document.querySelector('#df-57f08af7-3d78-4fa6-adf0-bbcf62d91f07 button');\n",
              "      quickchartButtonEl.style.display =\n",
              "        google.colab.kernel.accessAllowed ? 'block' : 'none';\n",
              "    })();\n",
              "  </script>\n",
              "</div>\n",
              "\n",
              "    </div>\n",
              "  </div>\n"
            ],
            "application/vnd.google.colaboratory.intrinsic+json": {
              "type": "dataframe",
              "summary": "{\n  \"name\": \"auto_df[(auto_df['horsepower']=='?')]\",\n  \"rows\": 6,\n  \"fields\": [\n    {\n      \"column\": \"mpg\",\n      \"properties\": {\n        \"dtype\": \"number\",\n        \"std\": 7.886951248739908,\n        \"min\": 21.0,\n        \"max\": 40.9,\n        \"num_unique_values\": 6,\n        \"samples\": [\n          25.0,\n          21.0,\n          23.0\n        ],\n        \"semantic_type\": \"\",\n        \"description\": \"\"\n      }\n    },\n    {\n      \"column\": \"cylinders\",\n      \"properties\": {\n        \"dtype\": \"number\",\n        \"std\": 0,\n        \"min\": 4,\n        \"max\": 6,\n        \"num_unique_values\": 2,\n        \"samples\": [\n          6,\n          4\n        ],\n        \"semantic_type\": \"\",\n        \"description\": \"\"\n      }\n    },\n    {\n      \"column\": \"displacement\",\n      \"properties\": {\n        \"dtype\": \"number\",\n        \"std\": 43.32204981299938,\n        \"min\": 85.0,\n        \"max\": 200.0,\n        \"num_unique_values\": 6,\n        \"samples\": [\n          98.0,\n          200.0\n        ],\n        \"semantic_type\": \"\",\n        \"description\": \"\"\n      }\n    },\n    {\n      \"column\": \"horsepower\",\n      \"properties\": {\n        \"dtype\": \"category\",\n        \"num_unique_values\": 1,\n        \"samples\": [\n          \"?\"\n        ],\n        \"semantic_type\": \"\",\n        \"description\": \"\"\n      }\n    },\n    {\n      \"column\": \"weight\",\n      \"properties\": {\n        \"dtype\": \"number\",\n        \"std\": 504,\n        \"min\": 1835,\n        \"max\": 3035,\n        \"num_unique_values\": 6,\n        \"samples\": [\n          2046\n        ],\n        \"semantic_type\": \"\",\n        \"description\": \"\"\n      }\n    },\n    {\n      \"column\": \"acceleration\",\n      \"properties\": {\n        \"dtype\": \"number\",\n        \"std\": 2.212163345385387,\n        \"min\": 14.3,\n        \"max\": 20.5,\n        \"num_unique_values\": 6,\n        \"samples\": [\n          19.0\n        ],\n        \"semantic_type\": \"\",\n        \"description\": \"\"\n      }\n    },\n    {\n      \"column\": \"model year\",\n      \"properties\": {\n        \"dtype\": \"number\",\n        \"std\": 4,\n        \"min\": 71,\n        \"max\": 82,\n        \"num_unique_values\": 5,\n        \"samples\": [\n          74\n        ],\n        \"semantic_type\": \"\",\n        \"description\": \"\"\n      }\n    },\n    {\n      \"column\": \"origin\",\n      \"properties\": {\n        \"dtype\": \"number\",\n        \"std\": 0,\n        \"min\": 1,\n        \"max\": 2,\n        \"num_unique_values\": 2,\n        \"samples\": [\n          2\n        ],\n        \"semantic_type\": \"\",\n        \"description\": \"\"\n      }\n    },\n    {\n      \"column\": \"car name\",\n      \"properties\": {\n        \"dtype\": \"string\",\n        \"num_unique_values\": 6,\n        \"samples\": [\n          \"ford pinto\"\n        ],\n        \"semantic_type\": \"\",\n        \"description\": \"\"\n      }\n    }\n  ]\n}"
            }
          },
          "metadata": {},
          "execution_count": 13
        }
      ]
    },
    {
      "cell_type": "code",
      "source": [
        "# what about cylinders 5 and 3?\n",
        "auto_df[(auto_df['cylinders']==5)]"
      ],
      "metadata": {
        "colab": {
          "base_uri": "https://localhost:8080/",
          "height": 264
        },
        "id": "WfATYjnDOUwr",
        "outputId": "a1e6717c-497f-47ca-8057-cbf64bde5b60"
      },
      "execution_count": 14,
      "outputs": [
        {
          "output_type": "execute_result",
          "data": {
            "text/plain": [
              "      mpg  cylinders  displacement horsepower  weight  acceleration  \\\n",
              "274  20.3          5         131.0        103    2830          15.9   \n",
              "297  25.4          5         183.0         77    3530          20.1   \n",
              "327  36.4          5         121.0         67    2950          19.9   \n",
              "\n",
              "     model year  origin             car name  \n",
              "274          78       2            audi 5000  \n",
              "297          79       2   mercedes benz 300d  \n",
              "327          80       2  audi 5000s (diesel)  "
            ],
            "text/html": [
              "\n",
              "  <div id=\"df-7a2fa0c5-9007-4693-92a9-5dfa65943bff\" class=\"colab-df-container\">\n",
              "    <div>\n",
              "<style scoped>\n",
              "    .dataframe tbody tr th:only-of-type {\n",
              "        vertical-align: middle;\n",
              "    }\n",
              "\n",
              "    .dataframe tbody tr th {\n",
              "        vertical-align: top;\n",
              "    }\n",
              "\n",
              "    .dataframe thead th {\n",
              "        text-align: right;\n",
              "    }\n",
              "</style>\n",
              "<table border=\"1\" class=\"dataframe\">\n",
              "  <thead>\n",
              "    <tr style=\"text-align: right;\">\n",
              "      <th></th>\n",
              "      <th>mpg</th>\n",
              "      <th>cylinders</th>\n",
              "      <th>displacement</th>\n",
              "      <th>horsepower</th>\n",
              "      <th>weight</th>\n",
              "      <th>acceleration</th>\n",
              "      <th>model year</th>\n",
              "      <th>origin</th>\n",
              "      <th>car name</th>\n",
              "    </tr>\n",
              "  </thead>\n",
              "  <tbody>\n",
              "    <tr>\n",
              "      <th>274</th>\n",
              "      <td>20.3</td>\n",
              "      <td>5</td>\n",
              "      <td>131.0</td>\n",
              "      <td>103</td>\n",
              "      <td>2830</td>\n",
              "      <td>15.9</td>\n",
              "      <td>78</td>\n",
              "      <td>2</td>\n",
              "      <td>audi 5000</td>\n",
              "    </tr>\n",
              "    <tr>\n",
              "      <th>297</th>\n",
              "      <td>25.4</td>\n",
              "      <td>5</td>\n",
              "      <td>183.0</td>\n",
              "      <td>77</td>\n",
              "      <td>3530</td>\n",
              "      <td>20.1</td>\n",
              "      <td>79</td>\n",
              "      <td>2</td>\n",
              "      <td>mercedes benz 300d</td>\n",
              "    </tr>\n",
              "    <tr>\n",
              "      <th>327</th>\n",
              "      <td>36.4</td>\n",
              "      <td>5</td>\n",
              "      <td>121.0</td>\n",
              "      <td>67</td>\n",
              "      <td>2950</td>\n",
              "      <td>19.9</td>\n",
              "      <td>80</td>\n",
              "      <td>2</td>\n",
              "      <td>audi 5000s (diesel)</td>\n",
              "    </tr>\n",
              "  </tbody>\n",
              "</table>\n",
              "</div>\n",
              "    <div class=\"colab-df-buttons\">\n",
              "\n",
              "  <div class=\"colab-df-container\">\n",
              "    <button class=\"colab-df-convert\" onclick=\"convertToInteractive('df-7a2fa0c5-9007-4693-92a9-5dfa65943bff')\"\n",
              "            title=\"Convert this dataframe to an interactive table.\"\n",
              "            style=\"display:none;\">\n",
              "\n",
              "  <svg xmlns=\"http://www.w3.org/2000/svg\" height=\"24px\" viewBox=\"0 -960 960 960\">\n",
              "    <path d=\"M120-120v-720h720v720H120Zm60-500h600v-160H180v160Zm220 220h160v-160H400v160Zm0 220h160v-160H400v160ZM180-400h160v-160H180v160Zm440 0h160v-160H620v160ZM180-180h160v-160H180v160Zm440 0h160v-160H620v160Z\"/>\n",
              "  </svg>\n",
              "    </button>\n",
              "\n",
              "  <style>\n",
              "    .colab-df-container {\n",
              "      display:flex;\n",
              "      gap: 12px;\n",
              "    }\n",
              "\n",
              "    .colab-df-convert {\n",
              "      background-color: #E8F0FE;\n",
              "      border: none;\n",
              "      border-radius: 50%;\n",
              "      cursor: pointer;\n",
              "      display: none;\n",
              "      fill: #1967D2;\n",
              "      height: 32px;\n",
              "      padding: 0 0 0 0;\n",
              "      width: 32px;\n",
              "    }\n",
              "\n",
              "    .colab-df-convert:hover {\n",
              "      background-color: #E2EBFA;\n",
              "      box-shadow: 0px 1px 2px rgba(60, 64, 67, 0.3), 0px 1px 3px 1px rgba(60, 64, 67, 0.15);\n",
              "      fill: #174EA6;\n",
              "    }\n",
              "\n",
              "    .colab-df-buttons div {\n",
              "      margin-bottom: 4px;\n",
              "    }\n",
              "\n",
              "    [theme=dark] .colab-df-convert {\n",
              "      background-color: #3B4455;\n",
              "      fill: #D2E3FC;\n",
              "    }\n",
              "\n",
              "    [theme=dark] .colab-df-convert:hover {\n",
              "      background-color: #434B5C;\n",
              "      box-shadow: 0px 1px 3px 1px rgba(0, 0, 0, 0.15);\n",
              "      filter: drop-shadow(0px 1px 2px rgba(0, 0, 0, 0.3));\n",
              "      fill: #FFFFFF;\n",
              "    }\n",
              "  </style>\n",
              "\n",
              "    <script>\n",
              "      const buttonEl =\n",
              "        document.querySelector('#df-7a2fa0c5-9007-4693-92a9-5dfa65943bff button.colab-df-convert');\n",
              "      buttonEl.style.display =\n",
              "        google.colab.kernel.accessAllowed ? 'block' : 'none';\n",
              "\n",
              "      async function convertToInteractive(key) {\n",
              "        const element = document.querySelector('#df-7a2fa0c5-9007-4693-92a9-5dfa65943bff');\n",
              "        const dataTable =\n",
              "          await google.colab.kernel.invokeFunction('convertToInteractive',\n",
              "                                                    [key], {});\n",
              "        if (!dataTable) return;\n",
              "\n",
              "        const docLinkHtml = 'Like what you see? Visit the ' +\n",
              "          '<a target=\"_blank\" href=https://colab.research.google.com/notebooks/data_table.ipynb>data table notebook</a>'\n",
              "          + ' to learn more about interactive tables.';\n",
              "        element.innerHTML = '';\n",
              "        dataTable['output_type'] = 'display_data';\n",
              "        await google.colab.output.renderOutput(dataTable, element);\n",
              "        const docLink = document.createElement('div');\n",
              "        docLink.innerHTML = docLinkHtml;\n",
              "        element.appendChild(docLink);\n",
              "      }\n",
              "    </script>\n",
              "  </div>\n",
              "\n",
              "\n",
              "<div id=\"df-8f195130-86b7-4ae0-af16-9d4dbeaed532\">\n",
              "  <button class=\"colab-df-quickchart\" onclick=\"quickchart('df-8f195130-86b7-4ae0-af16-9d4dbeaed532')\"\n",
              "            title=\"Suggest charts\"\n",
              "            style=\"display:none;\">\n",
              "\n",
              "<svg xmlns=\"http://www.w3.org/2000/svg\" height=\"24px\"viewBox=\"0 0 24 24\"\n",
              "     width=\"24px\">\n",
              "    <g>\n",
              "        <path d=\"M19 3H5c-1.1 0-2 .9-2 2v14c0 1.1.9 2 2 2h14c1.1 0 2-.9 2-2V5c0-1.1-.9-2-2-2zM9 17H7v-7h2v7zm4 0h-2V7h2v10zm4 0h-2v-4h2v4z\"/>\n",
              "    </g>\n",
              "</svg>\n",
              "  </button>\n",
              "\n",
              "<style>\n",
              "  .colab-df-quickchart {\n",
              "      --bg-color: #E8F0FE;\n",
              "      --fill-color: #1967D2;\n",
              "      --hover-bg-color: #E2EBFA;\n",
              "      --hover-fill-color: #174EA6;\n",
              "      --disabled-fill-color: #AAA;\n",
              "      --disabled-bg-color: #DDD;\n",
              "  }\n",
              "\n",
              "  [theme=dark] .colab-df-quickchart {\n",
              "      --bg-color: #3B4455;\n",
              "      --fill-color: #D2E3FC;\n",
              "      --hover-bg-color: #434B5C;\n",
              "      --hover-fill-color: #FFFFFF;\n",
              "      --disabled-bg-color: #3B4455;\n",
              "      --disabled-fill-color: #666;\n",
              "  }\n",
              "\n",
              "  .colab-df-quickchart {\n",
              "    background-color: var(--bg-color);\n",
              "    border: none;\n",
              "    border-radius: 50%;\n",
              "    cursor: pointer;\n",
              "    display: none;\n",
              "    fill: var(--fill-color);\n",
              "    height: 32px;\n",
              "    padding: 0;\n",
              "    width: 32px;\n",
              "  }\n",
              "\n",
              "  .colab-df-quickchart:hover {\n",
              "    background-color: var(--hover-bg-color);\n",
              "    box-shadow: 0 1px 2px rgba(60, 64, 67, 0.3), 0 1px 3px 1px rgba(60, 64, 67, 0.15);\n",
              "    fill: var(--button-hover-fill-color);\n",
              "  }\n",
              "\n",
              "  .colab-df-quickchart-complete:disabled,\n",
              "  .colab-df-quickchart-complete:disabled:hover {\n",
              "    background-color: var(--disabled-bg-color);\n",
              "    fill: var(--disabled-fill-color);\n",
              "    box-shadow: none;\n",
              "  }\n",
              "\n",
              "  .colab-df-spinner {\n",
              "    border: 2px solid var(--fill-color);\n",
              "    border-color: transparent;\n",
              "    border-bottom-color: var(--fill-color);\n",
              "    animation:\n",
              "      spin 1s steps(1) infinite;\n",
              "  }\n",
              "\n",
              "  @keyframes spin {\n",
              "    0% {\n",
              "      border-color: transparent;\n",
              "      border-bottom-color: var(--fill-color);\n",
              "      border-left-color: var(--fill-color);\n",
              "    }\n",
              "    20% {\n",
              "      border-color: transparent;\n",
              "      border-left-color: var(--fill-color);\n",
              "      border-top-color: var(--fill-color);\n",
              "    }\n",
              "    30% {\n",
              "      border-color: transparent;\n",
              "      border-left-color: var(--fill-color);\n",
              "      border-top-color: var(--fill-color);\n",
              "      border-right-color: var(--fill-color);\n",
              "    }\n",
              "    40% {\n",
              "      border-color: transparent;\n",
              "      border-right-color: var(--fill-color);\n",
              "      border-top-color: var(--fill-color);\n",
              "    }\n",
              "    60% {\n",
              "      border-color: transparent;\n",
              "      border-right-color: var(--fill-color);\n",
              "    }\n",
              "    80% {\n",
              "      border-color: transparent;\n",
              "      border-right-color: var(--fill-color);\n",
              "      border-bottom-color: var(--fill-color);\n",
              "    }\n",
              "    90% {\n",
              "      border-color: transparent;\n",
              "      border-bottom-color: var(--fill-color);\n",
              "    }\n",
              "  }\n",
              "</style>\n",
              "\n",
              "  <script>\n",
              "    async function quickchart(key) {\n",
              "      const quickchartButtonEl =\n",
              "        document.querySelector('#' + key + ' button');\n",
              "      quickchartButtonEl.disabled = true;  // To prevent multiple clicks.\n",
              "      quickchartButtonEl.classList.add('colab-df-spinner');\n",
              "      try {\n",
              "        const charts = await google.colab.kernel.invokeFunction(\n",
              "            'suggestCharts', [key], {});\n",
              "      } catch (error) {\n",
              "        console.error('Error during call to suggestCharts:', error);\n",
              "      }\n",
              "      quickchartButtonEl.classList.remove('colab-df-spinner');\n",
              "      quickchartButtonEl.classList.add('colab-df-quickchart-complete');\n",
              "    }\n",
              "    (() => {\n",
              "      let quickchartButtonEl =\n",
              "        document.querySelector('#df-8f195130-86b7-4ae0-af16-9d4dbeaed532 button');\n",
              "      quickchartButtonEl.style.display =\n",
              "        google.colab.kernel.accessAllowed ? 'block' : 'none';\n",
              "    })();\n",
              "  </script>\n",
              "</div>\n",
              "\n",
              "    </div>\n",
              "  </div>\n"
            ],
            "application/vnd.google.colaboratory.intrinsic+json": {
              "type": "dataframe",
              "summary": "{\n  \"name\": \"auto_df[(auto_df['cylinders']==5)]\",\n  \"rows\": 3,\n  \"fields\": [\n    {\n      \"column\": \"mpg\",\n      \"properties\": {\n        \"dtype\": \"number\",\n        \"std\": 8.22820353013544,\n        \"min\": 20.3,\n        \"max\": 36.4,\n        \"num_unique_values\": 3,\n        \"samples\": [\n          20.3,\n          25.4,\n          36.4\n        ],\n        \"semantic_type\": \"\",\n        \"description\": \"\"\n      }\n    },\n    {\n      \"column\": \"cylinders\",\n      \"properties\": {\n        \"dtype\": \"number\",\n        \"std\": 0,\n        \"min\": 5,\n        \"max\": 5,\n        \"num_unique_values\": 1,\n        \"samples\": [\n          5\n        ],\n        \"semantic_type\": \"\",\n        \"description\": \"\"\n      }\n    },\n    {\n      \"column\": \"displacement\",\n      \"properties\": {\n        \"dtype\": \"number\",\n        \"std\": 33.28663395418648,\n        \"min\": 121.0,\n        \"max\": 183.0,\n        \"num_unique_values\": 3,\n        \"samples\": [\n          131.0\n        ],\n        \"semantic_type\": \"\",\n        \"description\": \"\"\n      }\n    },\n    {\n      \"column\": \"horsepower\",\n      \"properties\": {\n        \"dtype\": \"string\",\n        \"num_unique_values\": 3,\n        \"samples\": [\n          \"103\"\n        ],\n        \"semantic_type\": \"\",\n        \"description\": \"\"\n      }\n    },\n    {\n      \"column\": \"weight\",\n      \"properties\": {\n        \"dtype\": \"number\",\n        \"std\": 374,\n        \"min\": 2830,\n        \"max\": 3530,\n        \"num_unique_values\": 3,\n        \"samples\": [\n          2830\n        ],\n        \"semantic_type\": \"\",\n        \"description\": \"\"\n      }\n    },\n    {\n      \"column\": \"acceleration\",\n      \"properties\": {\n        \"dtype\": \"number\",\n        \"std\": 2.369247419188915,\n        \"min\": 15.9,\n        \"max\": 20.1,\n        \"num_unique_values\": 3,\n        \"samples\": [\n          15.9\n        ],\n        \"semantic_type\": \"\",\n        \"description\": \"\"\n      }\n    },\n    {\n      \"column\": \"model year\",\n      \"properties\": {\n        \"dtype\": \"number\",\n        \"std\": 1,\n        \"min\": 78,\n        \"max\": 80,\n        \"num_unique_values\": 3,\n        \"samples\": [\n          78\n        ],\n        \"semantic_type\": \"\",\n        \"description\": \"\"\n      }\n    },\n    {\n      \"column\": \"origin\",\n      \"properties\": {\n        \"dtype\": \"number\",\n        \"std\": 0,\n        \"min\": 2,\n        \"max\": 2,\n        \"num_unique_values\": 1,\n        \"samples\": [\n          2\n        ],\n        \"semantic_type\": \"\",\n        \"description\": \"\"\n      }\n    },\n    {\n      \"column\": \"car name\",\n      \"properties\": {\n        \"dtype\": \"string\",\n        \"num_unique_values\": 3,\n        \"samples\": [\n          \"audi 5000\"\n        ],\n        \"semantic_type\": \"\",\n        \"description\": \"\"\n      }\n    }\n  ]\n}"
            }
          },
          "metadata": {},
          "execution_count": 14
        }
      ]
    },
    {
      "cell_type": "code",
      "source": [
        "# there are 6 ? in the horsepower column, what models are they?\n",
        "#the 71 ford pinto had 76 hp\n",
        "#the 74 ford maverick had a 200 in^3 engine with 91 hp\n",
        "#the 80 renault lecar delux had 55 hp\n",
        "#the 80 ford mustang cobra had 132 hp\n",
        "#the 81 renault 18i had 81 hp\n",
        "#the 82 amc concord dl had 110 hp\n",
        "# replace those values for horsepower and then convert column to int type\n",
        "\n",
        "#auto_df['horsepower']=='?'\n",
        "#auto_df[(auto_df['horsepower']=='?'),1]\n",
        "\n",
        "#df2 = auto_df\n",
        "auto_df.replace({'?': ['76','91','55','132','81','110']}, inplace=True)\n"
      ],
      "metadata": {
        "id": "Riu0lsSXX15R"
      },
      "execution_count": 15,
      "outputs": []
    },
    {
      "cell_type": "code",
      "source": [
        "auto_df['horsepower'][32], auto_df['horsepower'][126], auto_df['horsepower'][330], auto_df['horsepower'][336], auto_df['horsepower'][354], auto_df['horsepower'][374]"
      ],
      "metadata": {
        "colab": {
          "base_uri": "https://localhost:8080/"
        },
        "id": "_1jSY8zeh7SD",
        "outputId": "fede5e6c-c475-4987-9605-e64a2a2baa00"
      },
      "execution_count": 16,
      "outputs": [
        {
          "output_type": "execute_result",
          "data": {
            "text/plain": [
              "('76', '91', '55', '132', '81', '110')"
            ]
          },
          "metadata": {},
          "execution_count": 16
        }
      ]
    },
    {
      "cell_type": "code",
      "source": [
        "auto_df = auto_df.astype({'horsepower': 'int64'})"
      ],
      "metadata": {
        "id": "bU-dzBGMpZHW"
      },
      "execution_count": 17,
      "outputs": []
    },
    {
      "cell_type": "code",
      "source": [
        "auto_df.drop('origin', axis=1, inplace=True)\n",
        "auto_df.drop('car name', axis=1, inplace=True)"
      ],
      "metadata": {
        "id": "b1l8FIY2J1Fy"
      },
      "execution_count": 18,
      "outputs": []
    },
    {
      "cell_type": "code",
      "source": [
        "auto_df.info()\n",
        "#auto_df['horsepower'][1]"
      ],
      "metadata": {
        "colab": {
          "base_uri": "https://localhost:8080/"
        },
        "id": "kvD33oqPrBv_",
        "outputId": "a9e64eb3-534a-4ddf-cfe7-367513bfc99e"
      },
      "execution_count": 19,
      "outputs": [
        {
          "output_type": "stream",
          "name": "stdout",
          "text": [
            "<class 'pandas.core.frame.DataFrame'>\n",
            "RangeIndex: 398 entries, 0 to 397\n",
            "Data columns (total 7 columns):\n",
            " #   Column        Non-Null Count  Dtype  \n",
            "---  ------        --------------  -----  \n",
            " 0   mpg           398 non-null    float64\n",
            " 1   cylinders     398 non-null    int64  \n",
            " 2   displacement  398 non-null    float64\n",
            " 3   horsepower    398 non-null    int64  \n",
            " 4   weight        398 non-null    int64  \n",
            " 5   acceleration  398 non-null    float64\n",
            " 6   model year    398 non-null    int64  \n",
            "dtypes: float64(3), int64(4)\n",
            "memory usage: 21.9 KB\n"
          ]
        }
      ]
    },
    {
      "cell_type": "code",
      "source": [
        "# just some options for changing the appearance of your seaborn pairplots\n",
        "\n",
        "#sns.set(rc={'axes.facecolor':'slategrey', 'figure.facecolor':'slategrey', 'lines.markerfacecolor':'red'})\n",
        "#sns.set(rc={'axes.facecolor':'mistyrose', 'figure.facecolor':'mistyrose'})\n",
        "sns.set(rc={'axes.facecolor':'lightgrey',\n",
        "            'figure.facecolor':'lightgrey',\n",
        "#            'text.color': 'white',\n",
        "            'axes.edgecolor': 'white',\n",
        "            'text.color': '0.95',\n",
        "            'xtick.color': 'black',\n",
        "            'ytick.color': 'black'})\n",
        "#sns.set_style(\"dark\")\n",
        "#sns.pairplot(auto_df)"
      ],
      "metadata": {
        "id": "BK0gZT4oF5Sb"
      },
      "execution_count": 20,
      "outputs": []
    },
    {
      "cell_type": "code",
      "source": [
        "#"
      ],
      "metadata": {
        "id": "nBxYRtZMX6a1"
      },
      "execution_count": 21,
      "outputs": []
    },
    {
      "cell_type": "markdown",
      "source": [
        "# Exercise 1 - Visualizing the automobile mpg data\n",
        "\n",
        "Create a visualization of the automobile data that shows how the target (mpg) depends on the other available features.\n",
        "\n",
        "Which feature(s) appear(s) to be most strongly correlated with the mpg?  \n"
      ],
      "metadata": {
        "id": "hKLlYszQHOKf"
      }
    },
    {
      "cell_type": "code",
      "source": [
        "plt.figure(figsize=(10, 6)) # Creating heatmap to find which variables are most strongly correlated with mpg.\n",
        "sns.heatmap(auto_df.corr(), annot=True, cmap='coolwarm', fmt=\".2f\")\n",
        "plt.title('Correlation Heatmap') # Creating title\n",
        "plt.show()"
      ],
      "metadata": {
        "id": "--HqXgRiOGiQ",
        "colab": {
          "base_uri": "https://localhost:8080/",
          "height": 637
        },
        "outputId": "d49b6491-7c10-428a-835a-6bcb83aa338d"
      },
      "execution_count": 22,
      "outputs": [
        {
          "output_type": "display_data",
          "data": {
            "text/plain": [
              "<Figure size 1000x600 with 2 Axes>"
            ],
            "image/png": "[encoded data removed]"
          },
          "metadata": {}
        }
      ]
    },
    {
      "cell_type": "markdown",
      "source": [
        "# The variables with the strongest correlations to mpg are weight and displacement. Although both of these variables are negatively correlated with mpg, their correlation values are closer to -1 than any of the other values for other variables are to -1 or 1. This implies the strongest level of correlation of mpg belongs to these two variables."
      ],
      "metadata": {
        "id": "CcF2ztyYUeWv"
      }
    },
    {
      "cell_type": "markdown",
      "source": [
        "#Exercise 2 - Using automobile mpg data for multivariate lasso regression and parameter importance\n",
        "\n",
        "Using a sample stratified according to model year, produce univariate and bivariate models of the two most important parameters for predicing the fuel efficiency (mpg).  Be sure to justify how you have determined the feature importance of the two you chose.\n",
        "\n",
        "Be sure to:\n",
        "* evaluate your model's accuracy on the training data (using cross_val_score(accuracy))\n",
        "* evaluate your model's accuracy on the test set (using your model to make test predictions, then comparing those test predictions against the actual target test data)\n",
        "* present your final discussion/comparison in a seprate Markdown cell at the end of your analysis"
      ],
      "metadata": {
        "id": "WERBYnKIG-5X"
      }
    },
    {
      "cell_type": "code",
      "source": [
        "train_data, test_data = train_test_split(auto_df, test_size=0.2, stratify=auto_df['model year'])#train test split\n",
        "# and making sure to stratify model year variable as well\n",
        "X_train_weight = train_data['weight']\n",
        "X_test_weight = test_data['weight']\n",
        "X_train_weight = X_train_weight.values.reshape(-1, 1) #defining X, y and reshaping\n",
        "X_test_weight = X_test_weight.values.reshape(-1, 1)\n",
        "y_train = train_data['mpg']\n",
        "y_test = test_data['mpg']\n",
        "scaler = StandardScaler()#rescaling variables as some are drastically different than others\n",
        "X_scaled = scaler.fit_transform(X_train_weight)\n",
        "univariate_model1 = LinearRegression() #defining and fitting model\n",
        "univariate_model1.fit(X_train_weight, y_train)\n",
        "cross_val_model1 = -cross_val_score(univariate_model1, X_train_weight, y_train, scoring='neg_mean_squared_error', cv=10)\n",
        "RMSE_model1 = (cross_val_model1.mean()) ** 0.5 #running cross validation on RMSE scores\n",
        "print(\"Mean RMSE score\", RMSE_model1)"
      ],
      "metadata": {
        "id": "LJTB6BIPmbAA",
        "colab": {
          "base_uri": "https://localhost:8080/"
        },
        "outputId": "250c75c3-2eed-4073-ca98-bc8a09b34c51"
      },
      "execution_count": 23,
      "outputs": [
        {
          "output_type": "stream",
          "name": "stdout",
          "text": [
            "Mean RMSE score 4.293885526053337\n"
          ]
        }
      ]
    },
    {
      "cell_type": "code",
      "source": [
        "y_pred_model1 = univariate_model1.predict(X_test_weight) #finding RMSE score for test set\n",
        "test_mse1 = mean_squared_error(y_test, y_pred_model1)\n",
        "test_rmse1 = test_mse1 ** 0.5\n",
        "test_rmse1"
      ],
      "metadata": {
        "colab": {
          "base_uri": "https://localhost:8080/"
        },
        "id": "34E5PowLR7zL",
        "outputId": "1c46b8c0-3654-4b61-f217-0a65885a3a5b"
      },
      "execution_count": 24,
      "outputs": [
        {
          "output_type": "execute_result",
          "data": {
            "text/plain": [
              "4.530719280439333"
            ]
          },
          "metadata": {},
          "execution_count": 24
        }
      ]
    },
    {
      "cell_type": "code",
      "source": [
        "X_train_displacement = train_data['displacement']\n",
        "X_test_displacement = test_data['displacement']\n",
        "X_train_displacement = X_train_displacement.values.reshape(-1, 1) #defining X, y and reshaping\n",
        "X_test_displacement = X_test_displacement.values.reshape(-1, 1)\n",
        "y_train = train_data['mpg']\n",
        "y_test = test_data['mpg']\n",
        "scaler = StandardScaler()#rescaling variables as some are drastically different than others\n",
        "X_scaled = scaler.fit_transform(X_train_weight)\n",
        "univariate_model2 = LinearRegression() #defining and fitting model\n",
        "univariate_model2.fit(X_train_weight, y_train)\n",
        "cross_val_model2 = -cross_val_score(univariate_model2, X_train_weight, y_train, scoring='neg_mean_squared_error', cv=10)\n",
        "RMSE_model2 = (cross_val_model2.mean()) ** 0.5 #running cross validation on RMSE scores\n",
        "print(\"Mean RMSE score\", RMSE_model2)"
      ],
      "metadata": {
        "colab": {
          "base_uri": "https://localhost:8080/"
        },
        "id": "nmncDFUTQBNp",
        "outputId": "dcf6172f-9ceb-4851-9d29-0c868e383dfe"
      },
      "execution_count": 25,
      "outputs": [
        {
          "output_type": "stream",
          "name": "stdout",
          "text": [
            "Mean RMSE score 4.293885526053337\n"
          ]
        }
      ]
    },
    {
      "cell_type": "code",
      "source": [
        "y_pred_model2 = univariate_model2.predict(X_test_displacement) #finding RMSE score for test set\n",
        "test_mse2 = mean_squared_error(y_test, y_pred_model2)\n",
        "test_rmse2 = test_mse2 ** 0.5\n",
        "test_rmse2"
      ],
      "metadata": {
        "colab": {
          "base_uri": "https://localhost:8080/"
        },
        "id": "xvaYLsXSUN0p",
        "outputId": "6e90b33f-0a76-4645-b491-7c162d06042f"
      },
      "execution_count": 26,
      "outputs": [
        {
          "output_type": "execute_result",
          "data": {
            "text/plain": [
              "22.431641989115082"
            ]
          },
          "metadata": {},
          "execution_count": 26
        }
      ]
    },
    {
      "cell_type": "code",
      "source": [
        "features = ['weight', 'displacement']\n",
        "X_train_both = train_data[features]\n",
        "X_test_both = test_data[features]\n",
        "y_train = train_data['mpg']\n",
        "y_test = test_data['mpg']\n",
        "scaler = StandardScaler()#rescaling variables as some are drastically different than others\n",
        "X_scaled = scaler.fit_transform(X_train_weight)\n",
        "bivariate_model1 = LinearRegression() #defining and fitting model\n",
        "bivariate_model1.fit(X_train_both, y_train)\n",
        "cross_val_model3 = -cross_val_score(bivariate_model1, X_train_both, y_train, scoring='neg_mean_squared_error', cv=10)\n",
        "RMSE_model3 = (cross_val_model3.mean()) ** 0.5 #running cross validation on RMSE scores\n",
        "print(\"Mean RMSE score\", RMSE_model3)"
      ],
      "metadata": {
        "colab": {
          "base_uri": "https://localhost:8080/"
        },
        "id": "SiMX6GE8U8Lp",
        "outputId": "052a9375-e877-4ec7-acf4-515d4c6c781b"
      },
      "execution_count": 27,
      "outputs": [
        {
          "output_type": "stream",
          "name": "stdout",
          "text": [
            "Mean RMSE score 4.258025519208373\n"
          ]
        }
      ]
    },
    {
      "cell_type": "code",
      "source": [
        "y_pred_model3 = bivariate_model1.predict(X_test_both) #finding RMSE score for test set\n",
        "test_mse3 = mean_squared_error(y_test, y_pred_model3)\n",
        "test_rmse3 = test_mse3 ** 0.5\n",
        "test_rmse3"
      ],
      "metadata": {
        "colab": {
          "base_uri": "https://localhost:8080/"
        },
        "id": "YOXPBhtJYAqL",
        "outputId": "41aa07fd-eb92-4d98-a555-5e496744e926"
      },
      "execution_count": 28,
      "outputs": [
        {
          "output_type": "execute_result",
          "data": {
            "text/plain": [
              "4.492885018579815"
            ]
          },
          "metadata": {},
          "execution_count": 28
        }
      ]
    },
    {
      "cell_type": "markdown",
      "source": [
        "# Results and Discussion\n",
        "Considering linear regression is being used for these tests, I found it easier to use RMSE as the main metric for analysis. The first model on the training data for the variable \"weight\" produces a RMSE value of 4.34. The model's performance on the test set produced a slightly higher RMSE score of 4.356. For the second set of models, the X variable is changed to displacement. The RMSE score for the first test on the training set is 4.34. However, the RMSE for the model on the test set is significantly higher. The value is 22.5, which implies that the overall level of error in the model is significantly higher when compared to the actual target test data. This implies that the model's performance on the training data was significantly more accurate as the overall error was significantly less. Finally the bivariate model deals with both weight and displacement. The RMSE score for the model on the training set is 4.325 and 4.257 on the testing set. This implies that the model is slightly more accurate on the testing set than the training set. The most accurate model is definitely the bivariate model using both independent variables as both RMSE scores are less than the scores for the other models. NOTE: Every time that I re-run the code, there are different outputs for my RMSE scores. This may be due to the differences in train-test splits and/or cross validation scores as well. The values that I have discussed in this discussion were the final output values given before submitting the assignment."
      ],
      "metadata": {
        "id": "yfU5sbfkXbcC"
      }
    },
    {
      "cell_type": "markdown",
      "source": [
        "#Mastery Level Question 1\n",
        "\n",
        "Using your results from the previous exercise (where you used a stratified sampling according to model year), compare that model's predictive accuracy to one using the unstratified training and test sets.  Would you conclude that stratifying our sample with regard to model year improved its predictive ability or not?  "
      ],
      "metadata": {
        "id": "3KBVdI3xVyWX"
      }
    },
    {
      "cell_type": "markdown",
      "source": [
        "# Exercise 3 - Predicting the number of cylinders\n",
        "\n",
        "How well can we predict the number of cylinders in an engine?  The number of possible cylinders are 3, 4, 5, 6, 8  which makes 5 possible target classes\n",
        "\n",
        "Produce a multivariate softmax logistic regressor using all available features to predict the number of cylinders in a car's engine\n",
        "\n",
        "\n",
        "Be sure to:\n",
        "* evaluate your model's accuracy on the training data (using cross_val_score(accuracy))\n",
        "* evaluate your model's accuracy on the test set (using your model to make test predictions, then comparing those test predictions against the actual target test data)\n",
        "* present your final discussion/comparison in a seprate Markdown cell at the end of your analysis\n",
        "\n",
        "\n",
        "\n",
        "\n",
        "\n"
      ],
      "metadata": {
        "id": "u74ma_jcHHly"
      }
    },
    {
      "cell_type": "code",
      "source": [
        "X = auto_df[['displacement', 'acceleration', 'horsepower', 'weight', 'model year']]#defining X and y\n",
        "y = auto_df[['cylinders']]\n",
        "y = y.values.ravel()\n",
        "X_train, X_test, y_train, y_test = train_test_split(X, y, test_size=0.2, random_state=42) #train test split\n",
        "softmax_model = LogisticRegression(multi_class='multinomial', solver='lbfgs', max_iter=100000)\n",
        "softmax_model.fit(X_train, y_train) #creating softmax model and fitting model\n",
        "cv_scores = cross_val_score(softmax_model, X_train, y_train, cv=5, scoring='accuracy')\n",
        "mean_cv_accuracy = cv_scores.mean() #finding mean cross validation score\n",
        "print(\"Mean Cross-Validation Accuracy:\", mean_cv_accuracy) #printing mean cross validation score"
      ],
      "metadata": {
        "id": "0PLpG6K0M2OT",
        "colab": {
          "base_uri": "https://localhost:8080/"
        },
        "outputId": "9fb0b9d3-b835-4cef-f63a-4dd694c8bf36"
      },
      "execution_count": 29,
      "outputs": [
        {
          "output_type": "stream",
          "name": "stderr",
          "text": [
            "/usr/local/lib/python3.10/dist-packages/sklearn/model_selection/_split.py:700: UserWarning: The least populated class in y has only 3 members, which is less than n_splits=5.\n",
            "  warnings.warn(\n"
          ]
        },
        {
          "output_type": "stream",
          "name": "stdout",
          "text": [
            "Mean Cross-Validation Accuracy: 0.955952380952381\n"
          ]
        }
      ]
    },
    {
      "cell_type": "code",
      "source": [
        "from sklearn.metrics import accuracy_score\n",
        "y_pred_bivariate = softmax_model.predict(X_test) #creating y_pred for bivariate\n",
        "test_accuracy = accuracy_score(y_test, y_pred_bivariate) #calculating test_accuracy\n",
        "print(\"Test Set Accuracy:\", test_accuracy) #printing accuracy"
      ],
      "metadata": {
        "colab": {
          "base_uri": "https://localhost:8080/"
        },
        "id": "R1xtiprEswQ3",
        "outputId": "edaa8160-d104-49e8-926d-afb48c298db4"
      },
      "execution_count": 30,
      "outputs": [
        {
          "output_type": "stream",
          "name": "stdout",
          "text": [
            "Test Set Accuracy: 0.95\n"
          ]
        }
      ]
    },
    {
      "cell_type": "markdown",
      "source": [
        "# Discussion\n",
        "After running both logistic regression models, it can be concluded that the model's performance is slightly better on the test data set than the training data set. The accuracy score on the training set is .956 and the accuracy score on the testing data set is .95."
      ],
      "metadata": {
        "id": "xyhXUQMImj1B"
      }
    },
    {
      "cell_type": "markdown",
      "source": [
        "# Mastery Level Question 2\n",
        "Produce univariate and bivariate logistic regressors using the two most important parameters you identified from exercise 2 and assess their accuracy relative to the multivariate model (from exercise 3) at predicing the # of cylinders"
      ],
      "metadata": {
        "id": "qbOQRkfNUK_E"
      }
    },
    {
      "cell_type": "markdown",
      "source": [
        "# Exercise 4: Clustering: working with reduced MNIST data\n",
        "\n",
        "Use PCA to transform the MNIST data set into 3 reduced data sets, retaining 75%, 95%, and 99% variance.  For each of the reduced datasets, train a SGD classifier model to predict the digits in each image.  Discuss each model's accuracy, confusion matrix, precision, recall and F1 scores on both the training and test sets."
      ],
      "metadata": {
        "id": "pQ_1p7aqV0ZK"
      }
    },
    {
      "cell_type": "code",
      "source": [
        "from keras.datasets import mnist#importing mnist data set\n",
        "from sklearn.metrics import accuracy_score, confusion_matrix, precision_score, recall_score, f1_score\n",
        "(X_train, y_train), (X_test, y_test) = mnist.load_data() #loading in new data set with X and y train / test\n",
        "X_train_resized = np.resize(X_train, (60000, 784)) #resizing X train and X test\n",
        "X_test_resized = np.resize(X_test, (10000, 784))\n",
        "pca = PCA(n_components=0.75) #specifying variance for transformation\n",
        "X_train_reduced = pca.fit_transform(X_train_resized) #transforming X_train reduced\n",
        "SGD_classifier_75 = SGDClassifier(max_iter=10000, random_state=42) #defining SGD classifier\n",
        "SGD_classifier_75.fit(X_train_reduced, y_train)\n",
        "X_train_reduced.shape #printing shape"
      ],
      "metadata": {
        "colab": {
          "base_uri": "https://localhost:8080/"
        },
        "id": "yl_GF-fshyXK",
        "outputId": "ebc54529-128d-45ee-a1fe-0f05e22bc9e9"
      },
      "execution_count": 31,
      "outputs": [
        {
          "output_type": "execute_result",
          "data": {
            "text/plain": [
              "(60000, 34)"
            ]
          },
          "metadata": {},
          "execution_count": 31
        }
      ]
    },
    {
      "cell_type": "code",
      "source": [
        "y_train_pred = SGD_classifier_75.predict(X_train_reduced)#creating y_pred in order to find metrics\n",
        "accuracy_train = accuracy_score(y_train, y_train_pred)#finding metrics of train set on .75 variance set\n",
        "train_confusion_matrix = confusion_matrix(y_train, y_train_pred)\n",
        "train_precision = precision_score(y_train, y_train_pred, average='weighted')\n",
        "train_recall = recall_score(y_train, y_train_pred, average='weighted')\n",
        "train_f1 = f1_score(y_train, y_train_pred, average='weighted')\n",
        "print(\"Training Accuracy:\", accuracy_train) #printing metrics\n",
        "print(\"Training Confusion Matrix:\\n\", train_confusion_matrix)\n",
        "print(\"Training Precision:\", train_precision)\n",
        "print(\"Training Recall:\", train_recall)\n",
        "print(\"Training F1 Score:\", train_f1)"
      ],
      "metadata": {
        "colab": {
          "base_uri": "https://localhost:8080/"
        },
        "id": "1L59xjNzrE2b",
        "outputId": "b2d79b80-2909-48f9-9143-87a9c861b2b4"
      },
      "execution_count": 32,
      "outputs": [
        {
          "output_type": "stream",
          "name": "stdout",
          "text": [
            "Training Accuracy: 0.8615333333333334\n",
            "Training Confusion Matrix:\n",
            " [[5806    5   15   10    6   21   28    4   24    4]\n",
            " [   3 6411   91   12   15   47    6   18  137    2]\n",
            " [ 132   48 5082  137   70   22  186   70  154   57]\n",
            " [  80   55  176 5157   23  262   56   90  146   86]\n",
            " [  89   36   30    1 5103   10  167   22  137  247]\n",
            " [ 265  126   76  324  187 3847  211   21  272   92]\n",
            " [  72   29   76    1   32  106 5542    1   55    4]\n",
            " [ 139   36  118   16  118   36   11 5565   26  200]\n",
            " [ 118  391   99  184  104  148   91   60 4591   65]\n",
            " [ 147   72   18  105  408  105   16  313  177 4588]]\n",
            "Training Precision: 0.8611275515040279\n",
            "Training Recall: 0.8615333333333334\n",
            "Training F1 Score: 0.8598644291476936\n"
          ]
        }
      ]
    },
    {
      "cell_type": "code",
      "source": [
        "pca = PCA(n_components=0.75) #specifying variance for transformation\n",
        "X_test_reduced = pca.fit_transform(X_test_resized) #transforming X_train reduced\n",
        "SGD_classifier_75 = SGDClassifier(max_iter=10000, random_state=42) #defining SGD classifier\n",
        "SGD_classifier_75.fit(X_test_reduced, y_test)\n",
        "X_test_reduced.shape #printing shape\n",
        "y_test_pred = SGD_classifier_75.predict(X_test_reduced)#creating y_pred in order to find metrics\n",
        "test_accuracy = accuracy_score(y_test, y_test_pred)#finding metrics of test set on .75 variance set\n",
        "test_confusion_matrix = confusion_matrix(y_test, y_test_pred)\n",
        "test_precision = precision_score(y_test, y_test_pred, average='weighted')\n",
        "test_recall = recall_score(y_test, y_test_pred, average='weighted')\n",
        "test_f1 = f1_score(y_test, y_test_pred, average='weighted')\n",
        "print(\"\\nTest Accuracy:\", test_accuracy)#printing metrics\n",
        "print(\"Test Confusion Matrix:\\n\", test_confusion_matrix)\n",
        "print(\"Test Precision:\", test_precision)\n",
        "print(\"Test Recall:\", test_recall)\n",
        "print(\"Test F1 Score:\", test_f1)"
      ],
      "metadata": {
        "colab": {
          "base_uri": "https://localhost:8080/"
        },
        "id": "CG2ZIRN32ptv",
        "outputId": "c4220c21-92f8-44b9-e9d3-e47d242f9ff4"
      },
      "execution_count": 33,
      "outputs": [
        {
          "output_type": "stream",
          "name": "stdout",
          "text": [
            "\n",
            "Test Accuracy: 0.7841\n",
            "Test Confusion Matrix:\n",
            " [[ 919    8    1    3    8   21   10    1    5    4]\n",
            " [   2 1000   58   24    0    2    2    2   45    0]\n",
            " [  12    6  849   23   34   10   12   27   55    4]\n",
            " [  28   10   47  814    5   50    4   15   28    9]\n",
            " [   5   13    1   28  867    6   13   19   14   16]\n",
            " [  98    7    6  105   38  553    8   23   36   18]\n",
            " [  64    3   16    4   25   16  795    7   21    7]\n",
            " [  24   10   39   14   13    2    3  914    2    7]\n",
            " [  16   16   17   39   34  123   16   26  681    6]\n",
            " [  15   13    6   80  220   19   68  120   19  449]]\n",
            "Test Precision: 0.7908945206143118\n",
            "Test Recall: 0.7841\n",
            "Test F1 Score: 0.7780604680520181\n"
          ]
        }
      ]
    },
    {
      "cell_type": "code",
      "source": [
        "pca = PCA(n_components=0.95) #specifying variance for transformation\n",
        "X_train_reduced = pca.fit_transform(X_train_resized)#transforming X_train reduced\n",
        "SGD_classifier_95 = SGDClassifier(max_iter=10000, random_state=42) #defining SGD classifier\n",
        "SGD_classifier_95.fit(X_train_reduced, y_train)\n",
        "X_train_reduced.shape #printing shape"
      ],
      "metadata": {
        "colab": {
          "base_uri": "https://localhost:8080/"
        },
        "id": "OzoYNX6Ek3rU",
        "outputId": "58bb2e9f-1a5d-4a3e-bc5b-ef9836f96bd9"
      },
      "execution_count": 34,
      "outputs": [
        {
          "output_type": "execute_result",
          "data": {
            "text/plain": [
              "(60000, 154)"
            ]
          },
          "metadata": {},
          "execution_count": 34
        }
      ]
    },
    {
      "cell_type": "code",
      "source": [
        "y_train_pred = SGD_classifier_95.predict(X_train_reduced)#creating y_pred in order to find metrics\n",
        "accuracy_train = accuracy_score(y_train, y_train_pred)#finding metrics of train set on .95 variance set\n",
        "train_confusion_matrix = confusion_matrix(y_train, y_train_pred)\n",
        "train_precision = precision_score(y_train, y_train_pred, average='weighted')\n",
        "train_recall = recall_score(y_train, y_train_pred, average='weighted')\n",
        "train_f1 = f1_score(y_train, y_train_pred, average='weighted')\n",
        "print(\"Training Accuracy:\", accuracy_train)#printing metrics\n",
        "print(\"Training Confusion Matrix:\\n\", train_confusion_matrix)\n",
        "print(\"Training Precision:\", train_precision)\n",
        "print(\"Training Recall:\", train_recall)\n",
        "print(\"Training F1 Score:\", train_f1)"
      ],
      "metadata": {
        "colab": {
          "base_uri": "https://localhost:8080/"
        },
        "id": "t_zPpzEgyTF0",
        "outputId": "1bacc10c-c5d9-4b0b-c684-37ea041ca132"
      },
      "execution_count": 35,
      "outputs": [
        {
          "output_type": "stream",
          "name": "stdout",
          "text": [
            "Training Accuracy: 0.8929\n",
            "Training Confusion Matrix:\n",
            " [[5659    2   47   14   20   44   65   25   19   28]\n",
            " [   3 6492   45   20    6   52   10    8   94   12]\n",
            " [  27   43 5305   55   96   39  126   78  158   31]\n",
            " [  46   55  224 5283    8  176   62   69  121   87]\n",
            " [   5   36   25   20 5285   13   79   47   68  264]\n",
            " [ 120   28   72  203   87 4428  137   67  178  101]\n",
            " [  35   15   27    0   29  133 5638   10   30    1]\n",
            " [  16   31   86   53   57   13    7 5733   49  220]\n",
            " [  86  125  133  155   23  157   79   50 4820  223]\n",
            " [  20   74   37  107  226   66    5  387   96 4931]]\n",
            "Training Precision: 0.8923368380189388\n",
            "Training Recall: 0.8929\n",
            "Training F1 Score: 0.8923963737737084\n"
          ]
        }
      ]
    },
    {
      "cell_type": "code",
      "source": [
        "pca = PCA(n_components=0.95) #specifying variance for transformation\n",
        "X_test_reduced = pca.fit_transform(X_test_resized) #transforming X_train reduced\n",
        "SGD_classifier_95 = SGDClassifier(max_iter=10000, random_state=42) #defining SGD classifier\n",
        "SGD_classifier_95.fit(X_test_reduced, y_test)\n",
        "X_test_reduced.shape #printing shape\n",
        "y_test_pred = SGD_classifier_95.predict(X_test_reduced)#creating y_pred in order to find metrics\n",
        "test_accuracy = accuracy_score(y_test, y_test_pred)#finding metrics of test set on .95 variance set\n",
        "test_confusion_matrix = confusion_matrix(y_test, y_test_pred)\n",
        "test_precision = precision_score(y_test, y_test_pred, average='weighted')\n",
        "test_recall = recall_score(y_test, y_test_pred, average='weighted')\n",
        "test_f1 = f1_score(y_test, y_test_pred, average='weighted')\n",
        "print(\"\\nTest Accuracy:\", test_accuracy)#printing metrics\n",
        "print(\"Test Confusion Matrix:\\n\", test_confusion_matrix)\n",
        "print(\"Test Precision:\", test_precision)\n",
        "print(\"Test Recall:\", test_recall)\n",
        "print(\"Test F1 Score:\", test_f1)"
      ],
      "metadata": {
        "colab": {
          "base_uri": "https://localhost:8080/"
        },
        "id": "F0rij1mv39a1",
        "outputId": "c6852e1e-526b-4d1d-bd27-5dfdb23b0422"
      },
      "execution_count": 36,
      "outputs": [
        {
          "output_type": "stream",
          "name": "stdout",
          "text": [
            "\n",
            "Test Accuracy: 0.7813\n",
            "Test Confusion Matrix:\n",
            " [[ 873    0   10   37    1    5   41    8    2    3]\n",
            " [   2 1044    3    1    2    2    6    0   69    6]\n",
            " [  21   30  854   15   14    1   20   13   55    9]\n",
            " [  14   13   51  825    5   26    4    6   51   15]\n",
            " [   6    6   10   15  800   54   26    9   36   20]\n",
            " [  40   10   14   85   12  632   22   10   49   18]\n",
            " [  27   11   38    6   12   16  802   10   20   16]\n",
            " [  29   21   40    3   43   13   14  765   58   42]\n",
            " [  19   16   12   66   18   57   11    5  761    9]\n",
            " [  40    7   15   17  120  112   14   42  185  457]]\n",
            "Test Precision: 0.7879332321340489\n",
            "Test Recall: 0.7813\n",
            "Test F1 Score: 0.7783452964184697\n"
          ]
        }
      ]
    },
    {
      "cell_type": "code",
      "source": [
        "pca = PCA(n_components=0.99) #specifying variance for transformation\n",
        "X_train_reduced = pca.fit_transform(X_train_resized)#transforming X_train reduced\n",
        "SGD_classifier_99 = SGDClassifier(max_iter=10000, random_state=42) #defining SGD classifier\n",
        "SGD_classifier_99.fit(X_train_reduced, y_train)\n",
        "X_train_reduced.shape #printing shape"
      ],
      "metadata": {
        "id": "_AB9yhX4Ofyp",
        "colab": {
          "base_uri": "https://localhost:8080/"
        },
        "outputId": "a3d00845-e661-4494-9b91-87546447e4d3"
      },
      "execution_count": 37,
      "outputs": [
        {
          "output_type": "execute_result",
          "data": {
            "text/plain": [
              "(60000, 331)"
            ]
          },
          "metadata": {},
          "execution_count": 37
        }
      ]
    },
    {
      "cell_type": "code",
      "source": [
        "y_train_pred = SGD_classifier_99.predict(X_train_reduced)#creating y_pred in order to find metrics\n",
        "accuracy_train = accuracy_score(y_train, y_train_pred) #finding metrics of train set on .99 variance set\n",
        "train_confusion_matrix = confusion_matrix(y_train, y_train_pred)\n",
        "train_precision = precision_score(y_train, y_train_pred, average='weighted')\n",
        "train_recall = recall_score(y_train, y_train_pred, average='weighted')\n",
        "train_f1 = f1_score(y_train, y_train_pred, average='weighted')\n",
        "print(\"Training Accuracy:\", accuracy_train)#printing metrics\n",
        "print(\"Training Confusion Matrix:\\n\", train_confusion_matrix)\n",
        "print(\"Training Precision:\", train_precision)\n",
        "print(\"Training Recall:\", train_recall)\n",
        "print(\"Training F1 Score:\", train_f1)"
      ],
      "metadata": {
        "colab": {
          "base_uri": "https://localhost:8080/"
        },
        "id": "2EP90uUvzs7s",
        "outputId": "6e79d6f6-9352-428e-f664-111e1dd2e591"
      },
      "execution_count": 38,
      "outputs": [
        {
          "output_type": "stream",
          "name": "stdout",
          "text": [
            "Training Accuracy: 0.8987166666666667\n",
            "Training Confusion Matrix:\n",
            " [[5772    1   38    4    4   13   40    5   34   12]\n",
            " [   1 6497   85   15    7   12    5   14   97    9]\n",
            " [  50   60 5204  147   68    9   95   82  208   35]\n",
            " [  35   39  257 5332    4  108   40   53  163  100]\n",
            " [  35   34   83    6 5456    9   22   19   40  138]\n",
            " [  96   27   94  252   35 4424  178   39  195   81]\n",
            " [  41   11  106    1   24   89 5614    3   28    1]\n",
            " [  28   15   61   41  116    6    6 5598   24  370]\n",
            " [  63  105  275  179   19   92   69   35 4803  211]\n",
            " [  32   40   28   59  289   46    3  170   59 5223]]\n",
            "Training Precision: 0.8990580599786655\n",
            "Training Recall: 0.8987166666666667\n",
            "Training F1 Score: 0.8983890226207553\n"
          ]
        }
      ]
    },
    {
      "cell_type": "code",
      "source": [
        "pca = PCA(n_components=0.99) #specifying variance for transformation\n",
        "X_test_reduced = pca.fit_transform(X_test_resized) #transforming X_train reduced\n",
        "SGD_classifier_99 = SGDClassifier(max_iter=10000, random_state=42) #defining SGD classifier\n",
        "SGD_classifier_99.fit(X_test_reduced, y_test)\n",
        "X_test_reduced.shape #printing shape\n",
        "y_test_pred = SGD_classifier_99.predict(X_test_reduced) #creating y_pred in order to find metrics\n",
        "test_accuracy = accuracy_score(y_test, y_test_pred)#finding metrics of test set on .99 variance set\n",
        "test_confusion_matrix = confusion_matrix(y_test, y_test_pred)\n",
        "test_precision = precision_score(y_test, y_test_pred, average='weighted')\n",
        "test_recall = recall_score(y_test, y_test_pred, average='weighted')\n",
        "test_f1 = f1_score(y_test, y_test_pred, average='weighted')\n",
        "print(\"\\nTest Accuracy:\", test_accuracy)#printing metrics\n",
        "print(\"Test Confusion Matrix:\\n\", test_confusion_matrix)\n",
        "print(\"Test Precision:\", test_precision)\n",
        "print(\"Test Recall:\", test_recall)\n",
        "print(\"Test F1 Score:\", test_f1)"
      ],
      "metadata": {
        "colab": {
          "base_uri": "https://localhost:8080/"
        },
        "id": "aY3kNid44GT-",
        "outputId": "7bddd874-fd34-434e-9f6c-75808f9da527"
      },
      "execution_count": 39,
      "outputs": [
        {
          "output_type": "stream",
          "name": "stdout",
          "text": [
            "\n",
            "Test Accuracy: 0.8196\n",
            "Test Confusion Matrix:\n",
            " [[ 907    0    0    5    1   42    6    5   14    0]\n",
            " [   3 1042    9    2   49    1    7    0   18    4]\n",
            " [  33    9  805   35   18    5    8   13   98    8]\n",
            " [  21   23   31  781   12   37   15   27   35   28]\n",
            " [   6   12    7    3  869    5    4   22    5   49]\n",
            " [  37   24   25   46   33  647   15   17   37   11]\n",
            " [  64   12   34   17   16   27  753   17   15    3]\n",
            " [   4   12   19   10   17    1    5  893    7   60]\n",
            " [  17   17    7   83   36   46   20    4  710   34]\n",
            " [  23    9    4   22   35   14    9   91   13  789]]\n",
            "Test Precision: 0.8204097239589347\n",
            "Test Recall: 0.8196\n",
            "Test F1 Score: 0.8187204958938228\n"
          ]
        }
      ]
    },
    {
      "cell_type": "markdown",
      "source": [
        "# Discussion\n",
        "In general, the models all performed better on the training data sets rather than the testing data sets. In specific, the best performing models were the ones working with the training sets from the PCA reduced 95 and 99 percent varaince data sets. This is because the accuracy, precision, recall, and F1 scores for both of the models are all very close to 89. This value of 89 is a higher value than the results from the other 4 model results, meaning that these two models performed the best and are the most reliable."
      ],
      "metadata": {
        "id": "_2Mx9Qp_6RRi"
      }
    },
    {
      "cell_type": "markdown",
      "source": [
        "# Mastery Level Question 3\n",
        "Explore the tSNE and UMAP dimensional reduction algorithms.  Run the resulting reduced datasets through and assess their ability to predict the training and test data using (at most) their first 3 components"
      ],
      "metadata": {
        "id": "p44s78jNGMQQ"
      }
    }
  ]
}