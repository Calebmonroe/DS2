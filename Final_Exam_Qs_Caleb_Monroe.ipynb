{
  "cells": [
    {
      "cell_type": "markdown",
      "metadata": {
        "id": "view-in-github",
        "colab_type": "text"
      },
      "source": [
        "<a href=\"https://colab.research.google.com/github/Calebmonroe/DS2/blob/main/Final_Exam_Qs_Caleb_Monroe.ipynb\" target=\"_parent\"><img src=\"https://colab.research.google.com/assets/colab-badge.svg\" alt=\"Open In Colab\"/></a>"
      ]
    },
    {
      "cell_type": "markdown",
      "metadata": {
        "id": "dNA7F0BucXZ0"
      },
      "source": [
        "\n",
        "# Final Exam - DS 325 Applied Data Science\n",
        "\n",
        "In this final exercise, you will be asked to categorize some data and train several classification models to make predictions in these categories and compare/discuss your models' performances.  \n",
        "_________________________________________________________\n",
        "\n"
      ]
    },
    {
      "cell_type": "markdown",
      "metadata": {
        "id": "87ewgY21nL79"
      },
      "source": [
        "## Imports"
      ]
    },
    {
      "cell_type": "code",
      "execution_count": 1,
      "metadata": {
        "id": "HRLo3_JgEyS-"
      },
      "outputs": [],
      "source": [
        "import numpy as np\n",
        "import pandas as pd\n",
        "import matplotlib.pyplot as plt\n",
        "from scipy import stats\n",
        "from sklearn import metrics\n",
        "from sklearn.metrics import mean_squared_error\n",
        "from sklearn.metrics import f1_score\n",
        "from sklearn.metrics import precision_score, recall_score\n",
        "from sklearn.metrics import precision_recall_fscore_support\n",
        "\n",
        "from sklearn.mixture import GaussianMixture\n",
        "\n",
        "from matplotlib.colors import ListedColormap\n",
        "from matplotlib.colors import LogNorm\n",
        "from sklearn.linear_model import LogisticRegression\n",
        "\n",
        "from sklearn.model_selection import train_test_split\n",
        "from sklearn.preprocessing import StandardScaler\n",
        "from sklearn.pipeline import make_pipeline\n",
        "from sklearn.svm import LinearSVC\n",
        "from sklearn.svm import SVC\n",
        "import seaborn as sns\n",
        "from sklearn.model_selection import cross_val_score\n",
        "from sklearn.datasets import make_moons\n",
        "from sklearn.preprocessing import PolynomialFeatures\n",
        "from sklearn.metrics import confusion_matrix\n",
        "from sklearn.metrics import ConfusionMatrixDisplay\n",
        "from sklearn.preprocessing import LabelEncoder\n",
        "\n",
        "from sklearn.tree import DecisionTreeClassifier\n",
        "from sklearn.tree import export_graphviz\n",
        "from sklearn.cluster import KMeans\n",
        "from sklearn.datasets import make_blobs\n",
        "from sklearn.tree import DecisionTreeClassifier, plot_tree\n",
        "\n",
        "from sklearn.model_selection import train_test_split\n",
        "from sklearn.neural_network import MLPClassifier\n",
        "from sklearn.metrics import accuracy_score\n",
        "\n",
        "from sklearn.linear_model import SGDRegressor\n",
        "from sklearn.linear_model import SGDClassifier\n",
        "\n",
        "from sklearn.model_selection import GridSearchCV\n",
        "\n",
        "\n",
        "import itertools\n",
        "from itertools import permutations\n",
        "\n",
        "#define the default font sizes to make the figures prettier\n",
        "plt.rc('font', size=14)\n",
        "plt.rc('axes', labelsize=14, titlesize=14)\n",
        "plt.rc('legend', fontsize=14)\n",
        "plt.rc('xtick', labelsize=10)\n",
        "plt.rc('ytick', labelsize=10)"
      ]
    },
    {
      "cell_type": "code",
      "execution_count": 2,
      "metadata": {
        "id": "9wNFBQfOxmtq"
      },
      "outputs": [],
      "source": [
        "def class_performance(xdata,ydata,model):\n",
        "  print(\"\\n\\nPerformance for model: \",model)\n",
        "# Classifiers with the score method output accuracy by default\n",
        "  predy = model.predict(xdata)\n",
        "  acc = accuracy_score(predy,ydata)\n",
        "  prec, rec, fscore, supp = precision_recall_fscore_support(ydata, predy, average=None, zero_division=0)\n",
        "  print(\"\\nmodel accuracy on supplied data:\\t\", round(acc, 3))\n",
        "\n",
        "  print(\"Precision:\\t\", prec.round(3), \"\\nRecall:\\t\\t\", rec.round(3), \"\\nFscore:\\t\\t\", fscore.round(3), \"\\nSupport:\\t\", supp)"
      ]
    },
    {
      "cell_type": "markdown",
      "metadata": {
        "id": "0WXQEC1vunRj"
      },
      "source": [
        "## A New Dataset - Demographics, Personality, and Drug Use\n",
        "\n",
        "\n"
      ]
    },
    {
      "cell_type": "markdown",
      "metadata": {
        "id": "EDjKyrYv5-Rm"
      },
      "source": [
        "## General Data description"
      ]
    },
    {
      "cell_type": "markdown",
      "metadata": {
        "id": "hEi4xwoU2u6t"
      },
      "source": [
        "This dataset contains samples for 1885 respondents and records demographic, personality, and history of drug use information. For each respondent, 12 attributes are measured: **5 Personality measurements** (the so-called BIG 5) which include **NEO-FFI-R** (**neuroticism, extraversion, openness to experience, agreeableness, and conscientiousness**), **impulsivity/risky behavior measurements**:  **BIS-11** (impulsivity) and **ImpSS (sensation seeking)**, along with **other demographic information** (level of education, age, gender, country of residence and ethnicity.) All input attributes were originally categorical and have been transformed and scaled to have a mean value of zero.  \n",
        "\n",
        "The dataset features may be broadly categorized as being **Demographic**, **Personality**, **Risk-seeking**; more detailed descriptions for each category and feature are available below.\n",
        "\n",
        "In addition to the above **personality**, **risk-seeking**, and **demographic** information, participants were questioned concerning their **use of 18 legal and illegal drugs (alcohol, amphetamines, amyl nitrite, benzodiazepine, cannabis, chocolate, cocaine, caffeine, crack, ecstasy, heroin, ketamine, legal highs, LSD, methadone, mushrooms, nicotine and volatile substance abuse (inhalents), for a total of 18 possible drug targets**, along with one fictitious drug (**Semeron**) which was introduced to identify over-claimers.\n",
        "\n",
        "Each drug target can have 1 of 7 responses: \"Never Used\", \"Used over a Decade Ago\", \"Used in Last Decade\", \"Used in Last Year\", \"Used in Last Month\", \"Used in Last Week\", and \"Used in Last Day\".  These categorical responses will be encoded below as numbers 0-6.\n",
        "\n",
        "The original dataset acquisition and analysis is described in this 2015 paper:\n",
        "\n",
        "[Arxiv Link](https://arxiv.org/abs/1506.06297)\n",
        "\n",
        "\n",
        "\n",
        "\n",
        "\n",
        "\n"
      ]
    },
    {
      "cell_type": "markdown",
      "metadata": {
        "id": "ER-XFbaTG4j4"
      },
      "source": [
        "## Feature Categories and Descriptions"
      ]
    },
    {
      "cell_type": "markdown",
      "metadata": {
        "id": "YzEQqMlyH0i8"
      },
      "source": [
        "### Demographic Traits"
      ]
    },
    {
      "cell_type": "markdown",
      "metadata": {
        "id": "8NF1FAkcH5X2"
      },
      "source": [
        "The following features could all be included in the broader category of  **Demographic data**\n",
        "\n",
        "**Age**: the age of participant and has one of the values:\n",
        "\n",
        "Value\tMeaning\tCases\tFraction (order increasing age)\n",
        "\n",
        "* -0.95197 18-24\t643\t34.11%\n",
        "* -0.07854\t25-34\t481\t25.52%\n",
        "* 0.49788 35-44\t356\t18.89%\n",
        "* 1.09449  45-54\t294\t15.60%\n",
        "* 1.82213  55-64\t93\t4.93%\n",
        "* 2.59171  65+\t  18\t0.95%\n",
        "\n",
        "\n",
        "**Gender**: gender of participant(male neg, fem pos)\n",
        "\n",
        "Value\tMeaning\tCases\tFraction\n",
        "* 0.48246\tFemale\t942\t49.97%\n",
        "* -0.48246\tMale\t943\t50.03%\n",
        "\n",
        "\n",
        "**Education**: level of education of participant (order increasing education)\n",
        "\n",
        "Value\tMeaning\tCases\tFraction\n",
        "* -2.43591\tLeft School Before 16 years\t28\t1.49%\n",
        "* -1.73790\tLeft School at 16 years\t99\t5.25%\n",
        "* -1.43719\tLeft School at 17 years\t30\t1.59%\n",
        "* -1.22751\tLeft School at 18 years\t100\t5.31%\n",
        "* -0.61113\tSome College,No Certificate Or Degree\t506\t26.84%\n",
        "* -0.05921\tProfessional Certificate/ Diploma\t270\t14.32%\n",
        "* 0.45468\tUniversity Degree\t480\t25.46%\n",
        "* 1.16365\tMasters Degree\t283\t15.01%\n",
        "* 1.98437\tDoctorate Degree\t89\t4.72%\n",
        "\n",
        "\n",
        "**Country**: country of current residence of participant and has one of the values:\n",
        "\n",
        "Value\tMeaning\tCases\tFraction\n",
        "* -0.09765\tAustralia\t54\t2.86%\n",
        "* 0.24923\tCanada\t87\t4.62%\n",
        "* -0.46841\tNew Zealand\t5\t0.27%\n",
        "* -0.28519\tOther\t118\t6.26%\n",
        "* 0.21128\tRepublic of Ireland\t20\t1.06%\n",
        "* 0.96082\tUK\t1044\t55.38%\n",
        "* -0.57009\tUSA\t557\t29.55%\n",
        "\n",
        "\n",
        "**Ethnicity**: ethnicity of participant and has one of the values:\n",
        "\n",
        "Value\tMeaning\tCases\tFraction\n",
        "* -0.50212\tAsian\t26\t1.38%\n",
        "* -1.10702\tBlack\t33\t1.75%\n",
        "* 1.90725\tMixed-Black/Asian\t3\t0.16%\n",
        "* 0.12600\tMixed-White/Asian\t20\t1.06%\n",
        "* -0.22166\tMixed-White/Black\t20\t1.06%\n",
        "* 0.11440\tOther\t63\t3.34%\n",
        "* -0.31685\tWhite\t1720\t91.25%\n"
      ]
    },
    {
      "cell_type": "markdown",
      "metadata": {
        "id": "0XFcc4LINYst"
      },
      "source": [
        "### Big 5 Personality Traits"
      ]
    },
    {
      "cell_type": "markdown",
      "metadata": {
        "id": "xS1jXIItGuhF"
      },
      "source": [
        "The following features are personality traits identified in psychology as the BIG 5:  They are Neuroticism, Extraversion, Openness, Agreeableness, and Conscientiousness\n",
        "\n",
        "\n",
        "\n",
        "---\n",
        "\n",
        "\n",
        "**Nscore**: Nscore is NEO-FFI-R Neuroticism.\n",
        "\n",
        "Neuroticism is one of the Big Five higher-order personality traits in the study of psychology. Individuals who score high on neuroticism are more likely than average to be moody and to experience such feelings as anxiety, worry, fear, anger, frustration, envy, jealousy, guilt, depressed mood, and loneliness. Possible values are presented in table below:\n",
        "\n",
        "* Nscore\tValue\tNscore\tValue\tNscore\tValue\tNscore\tValue\n",
        "* 12\t-3.46436\t24\t-1.32828\t36\t0.04257\t48\t1.23461\n",
        "* 13\t-3.15735\t25\t-1.19430\t37\t0.13606\t49\t1.37297\n",
        "* 14\t-2.75696\t26\t-1.05308\t38\t0.22393\t50\t1.49158\n",
        "* 15\t-2.52197\t27\t-0.92104\t39\t0.31287\t51\t1.60383\n",
        "* 16\t-2.42317\t28\t-0.79151\t40\t0.41667\t52\t1.72012\n",
        "* 17\t-2.34360\t29\t-0.67825\t41\t0.52135\t53\t1.83990\n",
        "* 18\t-2.21844\t30\t-0.58016\t42\t0.62967\t54\t1.98437\n",
        "* 19\t-2.05048\t31\t-0.46725\t43\t0.73545\t55\t2.12700\n",
        "* 20\t-1.86962\t32\t-0.34799\t44\t0.82562\t56\t2.28554\n",
        "* 21\t-1.69163\t33\t-0.24649\t45\t0.91093\t57\t2.46262\n",
        "* 22\t-1.55078\t34\t-0.14882\t46\t1.02119\t58\t2.61139\n",
        "* 23\t-1.43907\t35\t-0.05188\t47\t1.13281\t59\t2.82196\n",
        "* -\t-\t-\t-\t-\t-\t60\t3.27393\n",
        "\n",
        "\n",
        "\n",
        "---\n",
        "\n",
        "\n",
        "**EScore**: Escore (Real) is NEO-FFI-R Extraversion. Extraversion is one of the five personality traits of the Big Five personality theory. It indicates how outgoing and social a person is. A person who scores high in extraversion on a personality test is the life of the party. They enjoy being with people, participating in social gatherings, and are full of energy. Possible values are presented in table below:\n",
        "\n",
        "* Escore\tValue\tEscore\tValue\tEscore\tValue\tEscore\tValue\n",
        "* 16\t-3.27393\t27\t-1.76250\t38\t-0.30033\t49\t1.45421\n",
        "* 17\t-3.00537\t28\t-1.63340\t39\t-0.15487\t50\t1.58487\n",
        "* 18\t-3.00537\t29\t-1.50796\t40\t0.00332\t51\t1.74091\n",
        "* 19\t-2.72827\t30\t-1.37639\t41\t0.16767\t52\t1.93886\n",
        "* 20\t-2.53830\t31\t-1.23177\t42\t0.32197\t53\t2.12700\n",
        "* 21\t-2.44904\t32\t-1.09207\t43\t0.47617\t54\t2.32338\n",
        "* 22\t-2.32338\t33\t-0.94779\t44\t0.63779\t55\t2.57309\n",
        "* 23\t-2.21069\t34\t-0.80615\t45\t0.80523\t56\t2.85950\n",
        "* 24\t-2.11437\t35\t-0.69509\t46\t0.96248\t57\t2.85950\n",
        "* 25\t-2.03972\t36\t-0.57545\t47\t1.11406\t58\t3.00537\n",
        "* 26\t-1.92173\t37\t-0.43999\t48\t1.28610\t59\t3.27393\n",
        "\n",
        "---\n",
        "\n",
        "**Oscore**: Oscore (Real) is NEO-FFI-R Openness to experience. Openness is one of the five personality traits of the Big Five personality theory. It indicates how open-minded a person is. A person with a high level of openness to experience in a personality test enjoys trying new things. They are imaginative, curious, and open-minded. Individuals who are low in openness to experience would rather not try new things. They are close-minded, literal and enjoy having a routine. Possible values are presented in table below:\n",
        "\n",
        "* Oscore\tValue\tOscore\tValue\tOscore\tValue\n",
        "* 24\t-3.27393\t38\t-1.11902\t50\t0.58331\n",
        "* 26\t-2.85950\t39\t-0.97631\t51\t0.72330\n",
        "* 28\t-2.63199\t40\t-0.84732\t52\t0.88309\n",
        "* 29\t-2.39883\t41\t-0.71727\t53\t1.06238\n",
        "* 30\t-2.21069\t42\t-0.58331\t54\t1.24033\n",
        "* 31\t-2.09015\t43\t-0.45174\t55\t1.43533\n",
        "* 32\t-1.97495\t44\t-0.31776\t56\t1.65653\n",
        "* 33\t-1.82919\t45\t-0.17779\t57\t1.88511\n",
        "* 34\t-1.68062\t46\t-0.01928\t58\t1.15324\n",
        "* 35\t-1.55521\t47\t0.14143\t59\t2.44904\n",
        "* 36\t-1.42424\t48\t0.29338\t60\t2.90161\n",
        "* 37\t-1.27553\t49\t0.44585\tNaN\tNaN\n",
        "\n",
        "\n",
        "---\n",
        "\n",
        "**Ascore**: Ascore(Real) is NEO-FFI-R Agreeableness. Agreeableness is one of the five personality traits of the Big Five personality theory. A person with a high level of agreeableness in a personality test is usually warm, friendly, and tactful. They generally have an optimistic view of human nature and get along well with others. Possible values are presented in table below:\n",
        "\n",
        "* Ascore\tValue\tAscore\tValue\tAscore\tValue\n",
        "* 12\t-3.46436\t34\t-1.34289\t48\t0.76096\n",
        "* 16\t-3.15735\t35\t-1.21213\t49\t0.94156\n",
        "* 18\t-3.00537\t36\t-1.07533\t50\t1.11406\n",
        "* 23\t-2.90161\t37\t-0.91699\t51\t1.2861\n",
        "* 24\t-2.78793\t38\t-0.76096\t52\t1.45039\n",
        "* 25\t-2.70172\t39\t-0.60633\t53\t1.61108\n",
        "* 26\t-2.53830\t40\t-0.45321\t54\t1.81866\n",
        "* 27\t-2.35413\t41\t-0.30172\t55\t2.03972\n",
        "* 28\t-2.21844\t42\t-0.15487\t56\t2.23427\n",
        "* 29\t-2.07848\t43\t-0.01729\t57\t2.46262\n",
        "* 30\t-1.92595\t44\t0.13136\t58\t2.75696\n",
        "* 31\t-1.77200\t45\t0.28783\t59\t3.15735\n",
        "* 32\t-1.62090\t46\t0.43852\t60\t3.46436\n",
        "* 33\t-1.47955\t47\t0.59042\tNaN\tNaN\n",
        "\n",
        "---\n",
        "\n",
        "**Cscore**: Cscore (Real) is NEO-FFI-R Conscientiousness. Conscientiousness is one of the five personality traits of the Big Five personality theory. A person scoring high in conscientiousness usually has a high level of self-discipline. These individuals prefer to follow a plan, rather than act spontaneously. Their methodic planning and perseverance usually makes them highly successful in their chosen occupation. Possible values are presented in table below:\n",
        "\n",
        "* Cscore\tValue\tCscore\tValue\tCscore\tValue\n",
        "* 17\t-3.46436\t32\t-1.25773\t46\t0.58489\n",
        "* 19\t-3.15735\t33\t-1.13788\t47\t0.7583\n",
        "* 20\t-2.90161\t34\t-1.01450\t48\t0.93949\n",
        "* 21\t-2.72827\t35\t-0.89891\t49\t1.13407\n",
        "* 22\t-2.57309\t36\t-0.78155\t50\t1.30612\n",
        "* 23\t-2.42317\t37\t-0.65253\t51\t1.46191\n",
        "* 24\t-2.30408\t38\t-0.52745\t52\t1.63088\n",
        "* 25\t-2.18109\t39\t-0.40581\t53\t1.81175\n",
        "* 26\t-2.04506\t40\t-0.27607\t54\t2.04506\n",
        "* 27\t-1.92173\t41\t-0.14277\t55\t2.33337\n",
        "* 28\t-1.78169\t42\t-0.00665\t56\t2.63199\n",
        "* 29\t-1.64101\t43\t0.12331\t  57\t3.00537\n",
        "* 30\t-1.51840\t44\t0.25953   59\t3.46436\n",
        "* 31\t-1.38502\t45\t0.41594\t  NaN\tNaN\n"
      ]
    },
    {
      "cell_type": "markdown",
      "metadata": {
        "id": "7u71BbuANcJI"
      },
      "source": [
        "### Risk-seeking\n"
      ]
    },
    {
      "cell_type": "markdown",
      "metadata": {
        "id": "CA1KX0mqNpx9"
      },
      "source": [
        "**Impulsivity and sensation seeking (SS)** are personality traits that appear to influence risk-taking generally, and substance use processes more specifically. Moeller and colleagues have defined impulsivity as a tendency to act quickly without thinking ahead about consequences; Zuckerman has defined sensation seeking as a tendency to take risks in order to seek out novel, stimulating experiences.\n",
        "\n",
        "---\n",
        "\n",
        "**Impulsive**: impulsiveness measured by BIS-11. In psychology, impulsivity (or impulsiveness) is a tendency to act on a whim, displaying behavior characterized by little or no forethought, reflection, or consideration of the consequences. If you describe someone as impulsive, you mean that they do things suddenly without thinking about them carefully first. Possible values are presented in table below:\n",
        "\n",
        "\n",
        "* Impulsiveness\tCases\tFraction\n",
        "* -2.55524\t20\t1.06%\n",
        "* -1.37983\t276\t14.64%\n",
        "* -0.71126\t307\t16.29%\n",
        "* -0.21712\t355\t18.83%\n",
        "* 0.19268\t257\t13.63%\n",
        "* 0.52975\t216\t11.46%\n",
        "* 0.88113\t195\t10.34%\n",
        "* 1.29221\t148\t7.85%\n",
        "* 1.86203\t104\t5.52%\n",
        "* 2.90161\t7\t0.37%\n",
        "\n",
        "\n",
        "\n",
        "---\n",
        "\n",
        "\n",
        "**SS**: is sensation seeking measured by ImpSS. Sensation is input about the physical world obtained by our sensory receptors, and perception is the process by which the brain selects, organizes, and interprets these sensations. In other words, senses are the physiological basis of perception. Possible values are presented in table below:\n",
        "\n",
        "* SS    Cases\t   Fraction\n",
        "* -2.07848\t71\t3.77%\n",
        "* -1.54858\t87\t4.62%\n",
        "* -1.18084\t132\t7.00%\n",
        "* -0.84637\t169\t8.97%\n",
        "* -0.52593\t211\t11.19%\n",
        "* -0.21575\t223\t11.83%\n",
        "* 0.07987\t219\t11.62%\n",
        "* 0.40148\t249\t13.21%\n",
        "* 0.76540\t211\t11.19%\n",
        "* 1.22470\t210\t11.14%\n",
        "* 1.92173\t103\t5.46%\n"
      ]
    },
    {
      "cell_type": "markdown",
      "metadata": {
        "id": "WMDxSzf2NzE6"
      },
      "source": [
        "### Drug Use"
      ]
    },
    {
      "cell_type": "markdown",
      "metadata": {
        "id": "TYIUsbLKN5aR"
      },
      "source": [
        "These 18 drugs can be grouped into 4 categories based on their use and legality:\n",
        "\n",
        "**Category 4 drugs** (Commonly used and not controlled/regulated)\n",
        "* Caffeine, Chocolate\n",
        "\n",
        "**Category 3 drugs** (Recreationally used and partly controlled/regulated)\n",
        "* Alcohol, Cannabis, Nicotine\n",
        "\n",
        "**Category 2 drugs** (Mostly Illegal, mostly non-habit forming)\n",
        "* Amyl Nitrate, Benzos, Ecstasy, Legalh, LSD, Mushrooms\n",
        "\n",
        "**Category 1 drugs** (Illegal, highly addicative/habit-forming)\n",
        "* Amphetamines, Coke, Crack, Heroin, Ketamine, Methodone, VSA\n",
        "\n",
        "\n",
        "**There are also a non-substance drug listed**\n",
        "* Semer - this is a non-existent drug that was mean to catch people who just answered yes to everything\n",
        "\n",
        "Each subject's response to each drug could be any one of:\n",
        "* CL0\tNever Used\n",
        "* CL1\tUsed over a Decade Ago\n",
        "* CL2\tUsed in Last Decade\n",
        "* CL3\tUsed in Last Year\n",
        "* CL4\tUsed in Last Month\n",
        "* CL5\tUsed in Last Week\n",
        "* CL6\tUsed in Last Day\n",
        "\n",
        "As part of the initial data setup, we will encode these categorical responses a 0-6 with increasing useage"
      ]
    },
    {
      "cell_type": "markdown",
      "metadata": {
        "id": "L1HpCBprw1fv"
      },
      "source": [
        "##Your Tasks\n",
        "**Part A:**  Categorize and encode your data features and targets\n",
        "\n",
        "Separate your dataset features into the 3 categories described above ( **Demographics**, **Personality**, **Risk-Seeking**)\n",
        "\n",
        "\n",
        "Separate your drug targets into the **4 drug categories described above:  (Cat4: legal/soft, Cat3: controlled/soft, Cat2: controlled/medium, Cat1: controlled/hard**\n",
        "\n",
        "Below, I have included a section that will encode the categorical drug useage responses to make them numerical.  **For your categorical classification exercise, you should only be concerned with whether a person has ever used any of the the drug(s) in the category, not their degree of use.**  \n",
        "\n",
        "Your next task will be to model the relationships between these categorical features and targets that you have defined.  \n",
        "\n",
        "\n",
        "_________________________________________________________\n",
        "\n",
        "**Part B:** Train your best classification models to predict whether a person has ever used each category of drug.  You should explore 3 different classification models.  One should be a Neural Network, while the other two may be chosen from among Logistic(Softmax), Stochastic Gradient Descent, Support Vector Machine, or Decision Tree.\n",
        "_________________________________________________________\n",
        "\n",
        "**Part C:**  In a table, present the performances of your best models for each drug category.  Specifically, your table should follow this format:\n",
        "\n",
        "| Drug Category | Best Feature Category | Model Type | Overall training accuracy | Overall testing accuracy |\n",
        "|:--------:|:--------:|:--------:|:--------:|:--------:|\n",
        "|  Cat 1   |  Row 1   |  Model 1   |  Row 1   |  Row 1   |\n",
        "|  Cat 2   |  Row 2   |  Model 2   |  Row 2   |  Row 2   |\n",
        "|  Cat 3   |  Row 3   |  Model 3   |  Row 3   |  Row 3   |\n",
        "|  Cat 4   |  Row 4   |  Model 4   |  Row 4   |  Row 4   |\n",
        "\n",
        "_________________________________________________________\n",
        "\n",
        "\n",
        "**Part D:** For each of the feature/drug combinations from part C (you should have 4 models, one for predicting each drug category's useage, each trained with the best features at predicting said category's useage, **choose one** of the following analyses to perform from which your discussion should follow:  \n",
        "- **Separate your data by education level.**  Train your model using the same model/feature/drug categories as your best combination (you may change your model parameters).  Discuss the performance of your model at predicting useage for each education level in your sample.\n",
        "- **Separate your data by age.**  Train your model using the same model/feature/drug categories as your best combination (you may change your model parameters).  Discuss the performance of your model at predicting useage for each age level in your sample.\n",
        "- **Separate your data by sex.**  Train your model using the same model/feature/drug categories as your best combination (you may change your model parameters).  Discuss the performance of your model at predicting useage separately for men and women in your sample.\n",
        "\n"
      ]
    },
    {
      "cell_type": "markdown",
      "metadata": {
        "id": "p_xEeHkWzw6E"
      },
      "source": [
        "## Specific items to be sure to include\n",
        "\n",
        "In your discussion you should:\n",
        " * describe what models you are exploring, and why they are preferred/appropriate for the analysis you're performing\n",
        " * clearly state what feature categories best predicted each target category  \n",
        " * keep testing accuracy in mind when optimizing, you want your model as generalizeable as possible\n",
        " * present the performance of your model on both the training and test set\n",
        " * summarize your train/test results into a single table for easy comparison of your models' performances\n",
        " * include in your discussion a target-level performance analysis of your classifier and its ability to predict/answer the original question you had\n",
        "\n",
        "\n",
        "No matter your model, you should:\n",
        " * prepare your feature and target data before training (train/test split, scaling, and any other transformations)\n",
        " * demonstrate that you have explored statifying your sample\n",
        " * demonstrate that you have optimized your model parameter choice\n",
        " * include visualizations to help illustrate each model's performance\n",
        " * take care in presenting your results.  **All results and discussion should be written in markdown format at the end of your code.  Do not expect me to grade discussion written in the comments**  \n",
        "\n",
        "\n",
        "You should use some of your time in class today/thursday to ask questions and narrow in on your methodology.  **From the time after receiving the dataset, you are not to speak about the exam or methods with anyone besides me until our final examination period has elapsed.**  \n",
        "\n"
      ]
    },
    {
      "cell_type": "markdown",
      "metadata": {
        "id": "QQ6dRuvzHAoU"
      },
      "source": [
        "# Data Retrieval and Preparation"
      ]
    },
    {
      "cell_type": "markdown",
      "metadata": {
        "id": "3kgH2aRK6DGf"
      },
      "source": [
        "### Retrieving data, encoding drug responses"
      ]
    },
    {
      "cell_type": "code",
      "execution_count": 3,
      "metadata": {
        "id": "HVWJfhdxz9as"
      },
      "outputs": [],
      "source": [
        "web_path = 'http://public.gettysburg.edu/~rjohnson/ds325/' #if using data over web\n",
        "df_d = pd.read_csv(web_path+'drug_consumption.csv')"
      ]
    },
    {
      "cell_type": "code",
      "execution_count": 4,
      "metadata": {
        "colab": {
          "base_uri": "https://localhost:8080/"
        },
        "id": "_LOoyFuvHlMh",
        "outputId": "61c52282-2495-4f26-bc1e-41d08eb0e120"
      },
      "outputs": [
        {
          "output_type": "stream",
          "name": "stdout",
          "text": [
            "<class 'pandas.core.frame.DataFrame'>\n",
            "RangeIndex: 1885 entries, 0 to 1884\n",
            "Data columns (total 32 columns):\n",
            " #   Column     Non-Null Count  Dtype  \n",
            "---  ------     --------------  -----  \n",
            " 0   ID         1885 non-null   int64  \n",
            " 1   Age        1885 non-null   float64\n",
            " 2   Gender     1885 non-null   float64\n",
            " 3   Education  1885 non-null   float64\n",
            " 4   Country    1885 non-null   float64\n",
            " 5   Ethnicity  1885 non-null   float64\n",
            " 6   Nscore     1885 non-null   float64\n",
            " 7   Escore     1885 non-null   float64\n",
            " 8   Oscore     1885 non-null   float64\n",
            " 9   Ascore     1885 non-null   float64\n",
            " 10  Cscore     1885 non-null   float64\n",
            " 11  Impulsive  1885 non-null   float64\n",
            " 12  SS         1885 non-null   float64\n",
            " 13  Alcohol    1885 non-null   object \n",
            " 14  Amphet     1885 non-null   object \n",
            " 15  Amyl       1885 non-null   object \n",
            " 16  Benzos     1885 non-null   object \n",
            " 17  Caff       1885 non-null   object \n",
            " 18  Cannabis   1885 non-null   object \n",
            " 19  Choc       1885 non-null   object \n",
            " 20  Coke       1885 non-null   object \n",
            " 21  Crack      1885 non-null   object \n",
            " 22  Ecstasy    1885 non-null   object \n",
            " 23  Heroin     1885 non-null   object \n",
            " 24  Ketamine   1885 non-null   object \n",
            " 25  Legalh     1885 non-null   object \n",
            " 26  LSD        1885 non-null   object \n",
            " 27  Meth       1885 non-null   object \n",
            " 28  Mushrooms  1885 non-null   object \n",
            " 29  Nicotine   1885 non-null   object \n",
            " 30  Semer      1885 non-null   object \n",
            " 31  VSA        1885 non-null   object \n",
            "dtypes: float64(12), int64(1), object(19)\n",
            "memory usage: 471.4+ KB\n"
          ]
        }
      ],
      "source": [
        "df_d.info()"
      ]
    },
    {
      "cell_type": "code",
      "execution_count": 5,
      "metadata": {
        "id": "XWHAWli58uux"
      },
      "outputs": [],
      "source": [
        "drugs = [\"Alcohol\",\"Amphet\",\"Amyl\",\"Benzos\",\"Caff\",\"Cannabis\",\"Choc\",\"Coke\",\n",
        "              \"Crack\",\"Ecstasy\",\"Heroin\",\"Ketamine\",\"Legalh\",\"LSD\",\"Meth\",\n",
        "              \"Mushrooms\",\"Nicotine\",\"Semer\",\"VSA\"]\n",
        "\n",
        "drugs_df = df_d[drugs]\n"
      ]
    },
    {
      "cell_type": "code",
      "execution_count": 6,
      "metadata": {
        "colab": {
          "base_uri": "https://localhost:8080/",
          "height": 439
        },
        "id": "yWlBdmf19PBN",
        "outputId": "dd9fcecd-d4a1-4ecf-e6cb-7d04263c9328"
      },
      "outputs": [
        {
          "output_type": "execute_result",
          "data": {
            "text/plain": [
              "     Alcohol Amphet Amyl Benzos Caff Cannabis Choc Coke Crack Ecstasy Heroin  \\\n",
              "0        CL5    CL2  CL0    CL2  CL6      CL0  CL5  CL0   CL0     CL0    CL0   \n",
              "1        CL5    CL2  CL2    CL0  CL6      CL4  CL6  CL3   CL0     CL4    CL0   \n",
              "2        CL6    CL0  CL0    CL0  CL6      CL3  CL4  CL0   CL0     CL0    CL0   \n",
              "3        CL4    CL0  CL0    CL3  CL5      CL2  CL4  CL2   CL0     CL0    CL0   \n",
              "4        CL4    CL1  CL1    CL0  CL6      CL3  CL6  CL0   CL0     CL1    CL0   \n",
              "...      ...    ...  ...    ...  ...      ...  ...  ...   ...     ...    ...   \n",
              "1880     CL5    CL0  CL0    CL0  CL4      CL5  CL4  CL0   CL0     CL0    CL0   \n",
              "1881     CL5    CL0  CL0    CL0  CL5      CL3  CL4  CL0   CL0     CL2    CL0   \n",
              "1882     CL4    CL6  CL5    CL5  CL6      CL6  CL6  CL4   CL0     CL4    CL0   \n",
              "1883     CL5    CL0  CL0    CL0  CL6      CL6  CL5  CL0   CL0     CL3    CL0   \n",
              "1884     CL4    CL3  CL0    CL3  CL6      CL3  CL6  CL3   CL0     CL3    CL0   \n",
              "\n",
              "     Ketamine Legalh  LSD Meth Mushrooms Nicotine Semer  VSA  \n",
              "0         CL0    CL0  CL0  CL0       CL0      CL2   CL0  CL0  \n",
              "1         CL2    CL0  CL2  CL3       CL0      CL4   CL0  CL0  \n",
              "2         CL0    CL0  CL0  CL0       CL1      CL0   CL0  CL0  \n",
              "3         CL2    CL0  CL0  CL0       CL0      CL2   CL0  CL0  \n",
              "4         CL0    CL1  CL0  CL0       CL2      CL2   CL0  CL0  \n",
              "...       ...    ...  ...  ...       ...      ...   ...  ...  \n",
              "1880      CL0    CL3  CL3  CL0       CL0      CL0   CL0  CL5  \n",
              "1881      CL0    CL3  CL5  CL4       CL4      CL5   CL0  CL0  \n",
              "1882      CL2    CL0  CL2  CL0       CL2      CL6   CL0  CL0  \n",
              "1883      CL0    CL3  CL3  CL0       CL3      CL4   CL0  CL0  \n",
              "1884      CL0    CL3  CL3  CL0       CL3      CL6   CL0  CL2  \n",
              "\n",
              "[1885 rows x 19 columns]"
            ],
            "text/html": [
              "\n",
              "  <div id=\"df-3b65b1d0-3ee7-4b4b-8442-3ffaec171641\" class=\"colab-df-container\">\n",
              "    <div>\n",
              "<style scoped>\n",
              "    .dataframe tbody tr th:only-of-type {\n",
              "        vertical-align: middle;\n",
              "    }\n",
              "\n",
              "    .dataframe tbody tr th {\n",
              "        vertical-align: top;\n",
              "    }\n",
              "\n",
              "    .dataframe thead th {\n",
              "        text-align: right;\n",
              "    }\n",
              "</style>\n",
              "<table border=\"1\" class=\"dataframe\">\n",
              "  <thead>\n",
              "    <tr style=\"text-align: right;\">\n",
              "      <th></th>\n",
              "      <th>Alcohol</th>\n",
              "      <th>Amphet</th>\n",
              "      <th>Amyl</th>\n",
              "      <th>Benzos</th>\n",
              "      <th>Caff</th>\n",
              "      <th>Cannabis</th>\n",
              "      <th>Choc</th>\n",
              "      <th>Coke</th>\n",
              "      <th>Crack</th>\n",
              "      <th>Ecstasy</th>\n",
              "      <th>Heroin</th>\n",
              "      <th>Ketamine</th>\n",
              "      <th>Legalh</th>\n",
              "      <th>LSD</th>\n",
              "      <th>Meth</th>\n",
              "      <th>Mushrooms</th>\n",
              "      <th>Nicotine</th>\n",
              "      <th>Semer</th>\n",
              "      <th>VSA</th>\n",
              "    </tr>\n",
              "  </thead>\n",
              "  <tbody>\n",
              "    <tr>\n",
              "      <th>0</th>\n",
              "      <td>CL5</td>\n",
              "      <td>CL2</td>\n",
              "      <td>CL0</td>\n",
              "      <td>CL2</td>\n",
              "      <td>CL6</td>\n",
              "      <td>CL0</td>\n",
              "      <td>CL5</td>\n",
              "      <td>CL0</td>\n",
              "      <td>CL0</td>\n",
              "      <td>CL0</td>\n",
              "      <td>CL0</td>\n",
              "      <td>CL0</td>\n",
              "      <td>CL0</td>\n",
              "      <td>CL0</td>\n",
              "      <td>CL0</td>\n",
              "      <td>CL0</td>\n",
              "      <td>CL2</td>\n",
              "      <td>CL0</td>\n",
              "      <td>CL0</td>\n",
              "    </tr>\n",
              "    <tr>\n",
              "      <th>1</th>\n",
              "      <td>CL5</td>\n",
              "      <td>CL2</td>\n",
              "      <td>CL2</td>\n",
              "      <td>CL0</td>\n",
              "      <td>CL6</td>\n",
              "      <td>CL4</td>\n",
              "      <td>CL6</td>\n",
              "      <td>CL3</td>\n",
              "      <td>CL0</td>\n",
              "      <td>CL4</td>\n",
              "      <td>CL0</td>\n",
              "      <td>CL2</td>\n",
              "      <td>CL0</td>\n",
              "      <td>CL2</td>\n",
              "      <td>CL3</td>\n",
              "      <td>CL0</td>\n",
              "      <td>CL4</td>\n",
              "      <td>CL0</td>\n",
              "      <td>CL0</td>\n",
              "    </tr>\n",
              "    <tr>\n",
              "      <th>2</th>\n",
              "      <td>CL6</td>\n",
              "      <td>CL0</td>\n",
              "      <td>CL0</td>\n",
              "      <td>CL0</td>\n",
              "      <td>CL6</td>\n",
              "      <td>CL3</td>\n",
              "      <td>CL4</td>\n",
              "      <td>CL0</td>\n",
              "      <td>CL0</td>\n",
              "      <td>CL0</td>\n",
              "      <td>CL0</td>\n",
              "      <td>CL0</td>\n",
              "      <td>CL0</td>\n",
              "      <td>CL0</td>\n",
              "      <td>CL0</td>\n",
              "      <td>CL1</td>\n",
              "      <td>CL0</td>\n",
              "      <td>CL0</td>\n",
              "      <td>CL0</td>\n",
              "    </tr>\n",
              "    <tr>\n",
              "      <th>3</th>\n",
              "      <td>CL4</td>\n",
              "      <td>CL0</td>\n",
              "      <td>CL0</td>\n",
              "      <td>CL3</td>\n",
              "      <td>CL5</td>\n",
              "      <td>CL2</td>\n",
              "      <td>CL4</td>\n",
              "      <td>CL2</td>\n",
              "      <td>CL0</td>\n",
              "      <td>CL0</td>\n",
              "      <td>CL0</td>\n",
              "      <td>CL2</td>\n",
              "      <td>CL0</td>\n",
              "      <td>CL0</td>\n",
              "      <td>CL0</td>\n",
              "      <td>CL0</td>\n",
              "      <td>CL2</td>\n",
              "      <td>CL0</td>\n",
              "      <td>CL0</td>\n",
              "    </tr>\n",
              "    <tr>\n",
              "      <th>4</th>\n",
              "      <td>CL4</td>\n",
              "      <td>CL1</td>\n",
              "      <td>CL1</td>\n",
              "      <td>CL0</td>\n",
              "      <td>CL6</td>\n",
              "      <td>CL3</td>\n",
              "      <td>CL6</td>\n",
              "      <td>CL0</td>\n",
              "      <td>CL0</td>\n",
              "      <td>CL1</td>\n",
              "      <td>CL0</td>\n",
              "      <td>CL0</td>\n",
              "      <td>CL1</td>\n",
              "      <td>CL0</td>\n",
              "      <td>CL0</td>\n",
              "      <td>CL2</td>\n",
              "      <td>CL2</td>\n",
              "      <td>CL0</td>\n",
              "      <td>CL0</td>\n",
              "    </tr>\n",
              "    <tr>\n",
              "      <th>...</th>\n",
              "      <td>...</td>\n",
              "      <td>...</td>\n",
              "      <td>...</td>\n",
              "      <td>...</td>\n",
              "      <td>...</td>\n",
              "      <td>...</td>\n",
              "      <td>...</td>\n",
              "      <td>...</td>\n",
              "      <td>...</td>\n",
              "      <td>...</td>\n",
              "      <td>...</td>\n",
              "      <td>...</td>\n",
              "      <td>...</td>\n",
              "      <td>...</td>\n",
              "      <td>...</td>\n",
              "      <td>...</td>\n",
              "      <td>...</td>\n",
              "      <td>...</td>\n",
              "      <td>...</td>\n",
              "    </tr>\n",
              "    <tr>\n",
              "      <th>1880</th>\n",
              "      <td>CL5</td>\n",
              "      <td>CL0</td>\n",
              "      <td>CL0</td>\n",
              "      <td>CL0</td>\n",
              "      <td>CL4</td>\n",
              "      <td>CL5</td>\n",
              "      <td>CL4</td>\n",
              "      <td>CL0</td>\n",
              "      <td>CL0</td>\n",
              "      <td>CL0</td>\n",
              "      <td>CL0</td>\n",
              "      <td>CL0</td>\n",
              "      <td>CL3</td>\n",
              "      <td>CL3</td>\n",
              "      <td>CL0</td>\n",
              "      <td>CL0</td>\n",
              "      <td>CL0</td>\n",
              "      <td>CL0</td>\n",
              "      <td>CL5</td>\n",
              "    </tr>\n",
              "    <tr>\n",
              "      <th>1881</th>\n",
              "      <td>CL5</td>\n",
              "      <td>CL0</td>\n",
              "      <td>CL0</td>\n",
              "      <td>CL0</td>\n",
              "      <td>CL5</td>\n",
              "      <td>CL3</td>\n",
              "      <td>CL4</td>\n",
              "      <td>CL0</td>\n",
              "      <td>CL0</td>\n",
              "      <td>CL2</td>\n",
              "      <td>CL0</td>\n",
              "      <td>CL0</td>\n",
              "      <td>CL3</td>\n",
              "      <td>CL5</td>\n",
              "      <td>CL4</td>\n",
              "      <td>CL4</td>\n",
              "      <td>CL5</td>\n",
              "      <td>CL0</td>\n",
              "      <td>CL0</td>\n",
              "    </tr>\n",
              "    <tr>\n",
              "      <th>1882</th>\n",
              "      <td>CL4</td>\n",
              "      <td>CL6</td>\n",
              "      <td>CL5</td>\n",
              "      <td>CL5</td>\n",
              "      <td>CL6</td>\n",
              "      <td>CL6</td>\n",
              "      <td>CL6</td>\n",
              "      <td>CL4</td>\n",
              "      <td>CL0</td>\n",
              "      <td>CL4</td>\n",
              "      <td>CL0</td>\n",
              "      <td>CL2</td>\n",
              "      <td>CL0</td>\n",
              "      <td>CL2</td>\n",
              "      <td>CL0</td>\n",
              "      <td>CL2</td>\n",
              "      <td>CL6</td>\n",
              "      <td>CL0</td>\n",
              "      <td>CL0</td>\n",
              "    </tr>\n",
              "    <tr>\n",
              "      <th>1883</th>\n",
              "      <td>CL5</td>\n",
              "      <td>CL0</td>\n",
              "      <td>CL0</td>\n",
              "      <td>CL0</td>\n",
              "      <td>CL6</td>\n",
              "      <td>CL6</td>\n",
              "      <td>CL5</td>\n",
              "      <td>CL0</td>\n",
              "      <td>CL0</td>\n",
              "      <td>CL3</td>\n",
              "      <td>CL0</td>\n",
              "      <td>CL0</td>\n",
              "      <td>CL3</td>\n",
              "      <td>CL3</td>\n",
              "      <td>CL0</td>\n",
              "      <td>CL3</td>\n",
              "      <td>CL4</td>\n",
              "      <td>CL0</td>\n",
              "      <td>CL0</td>\n",
              "    </tr>\n",
              "    <tr>\n",
              "      <th>1884</th>\n",
              "      <td>CL4</td>\n",
              "      <td>CL3</td>\n",
              "      <td>CL0</td>\n",
              "      <td>CL3</td>\n",
              "      <td>CL6</td>\n",
              "      <td>CL3</td>\n",
              "      <td>CL6</td>\n",
              "      <td>CL3</td>\n",
              "      <td>CL0</td>\n",
              "      <td>CL3</td>\n",
              "      <td>CL0</td>\n",
              "      <td>CL0</td>\n",
              "      <td>CL3</td>\n",
              "      <td>CL3</td>\n",
              "      <td>CL0</td>\n",
              "      <td>CL3</td>\n",
              "      <td>CL6</td>\n",
              "      <td>CL0</td>\n",
              "      <td>CL2</td>\n",
              "    </tr>\n",
              "  </tbody>\n",
              "</table>\n",
              "<p>1885 rows × 19 columns</p>\n",
              "</div>\n",
              "    <div class=\"colab-df-buttons\">\n",
              "\n",
              "  <div class=\"colab-df-container\">\n",
              "    <button class=\"colab-df-convert\" onclick=\"convertToInteractive('df-3b65b1d0-3ee7-4b4b-8442-3ffaec171641')\"\n",
              "            title=\"Convert this dataframe to an interactive table.\"\n",
              "            style=\"display:none;\">\n",
              "\n",
              "  <svg xmlns=\"http://www.w3.org/2000/svg\" height=\"24px\" viewBox=\"0 -960 960 960\">\n",
              "    <path d=\"M120-120v-720h720v720H120Zm60-500h600v-160H180v160Zm220 220h160v-160H400v160Zm0 220h160v-160H400v160ZM180-400h160v-160H180v160Zm440 0h160v-160H620v160ZM180-180h160v-160H180v160Zm440 0h160v-160H620v160Z\"/>\n",
              "  </svg>\n",
              "    </button>\n",
              "\n",
              "  <style>\n",
              "    .colab-df-container {\n",
              "      display:flex;\n",
              "      gap: 12px;\n",
              "    }\n",
              "\n",
              "    .colab-df-convert {\n",
              "      background-color: #E8F0FE;\n",
              "      border: none;\n",
              "      border-radius: 50%;\n",
              "      cursor: pointer;\n",
              "      display: none;\n",
              "      fill: #1967D2;\n",
              "      height: 32px;\n",
              "      padding: 0 0 0 0;\n",
              "      width: 32px;\n",
              "    }\n",
              "\n",
              "    .colab-df-convert:hover {\n",
              "      background-color: #E2EBFA;\n",
              "      box-shadow: 0px 1px 2px rgba(60, 64, 67, 0.3), 0px 1px 3px 1px rgba(60, 64, 67, 0.15);\n",
              "      fill: #174EA6;\n",
              "    }\n",
              "\n",
              "    .colab-df-buttons div {\n",
              "      margin-bottom: 4px;\n",
              "    }\n",
              "\n",
              "    [theme=dark] .colab-df-convert {\n",
              "      background-color: #3B4455;\n",
              "      fill: #D2E3FC;\n",
              "    }\n",
              "\n",
              "    [theme=dark] .colab-df-convert:hover {\n",
              "      background-color: #434B5C;\n",
              "      box-shadow: 0px 1px 3px 1px rgba(0, 0, 0, 0.15);\n",
              "      filter: drop-shadow(0px 1px 2px rgba(0, 0, 0, 0.3));\n",
              "      fill: #FFFFFF;\n",
              "    }\n",
              "  </style>\n",
              "\n",
              "    <script>\n",
              "      const buttonEl =\n",
              "        document.querySelector('#df-3b65b1d0-3ee7-4b4b-8442-3ffaec171641 button.colab-df-convert');\n",
              "      buttonEl.style.display =\n",
              "        google.colab.kernel.accessAllowed ? 'block' : 'none';\n",
              "\n",
              "      async function convertToInteractive(key) {\n",
              "        const element = document.querySelector('#df-3b65b1d0-3ee7-4b4b-8442-3ffaec171641');\n",
              "        const dataTable =\n",
              "          await google.colab.kernel.invokeFunction('convertToInteractive',\n",
              "                                                    [key], {});\n",
              "        if (!dataTable) return;\n",
              "\n",
              "        const docLinkHtml = 'Like what you see? Visit the ' +\n",
              "          '<a target=\"_blank\" href=https://colab.research.google.com/notebooks/data_table.ipynb>data table notebook</a>'\n",
              "          + ' to learn more about interactive tables.';\n",
              "        element.innerHTML = '';\n",
              "        dataTable['output_type'] = 'display_data';\n",
              "        await google.colab.output.renderOutput(dataTable, element);\n",
              "        const docLink = document.createElement('div');\n",
              "        docLink.innerHTML = docLinkHtml;\n",
              "        element.appendChild(docLink);\n",
              "      }\n",
              "    </script>\n",
              "  </div>\n",
              "\n",
              "\n",
              "<div id=\"df-621298a1-49df-4e2d-b2f1-6a0d2fdd4a43\">\n",
              "  <button class=\"colab-df-quickchart\" onclick=\"quickchart('df-621298a1-49df-4e2d-b2f1-6a0d2fdd4a43')\"\n",
              "            title=\"Suggest charts\"\n",
              "            style=\"display:none;\">\n",
              "\n",
              "<svg xmlns=\"http://www.w3.org/2000/svg\" height=\"24px\"viewBox=\"0 0 24 24\"\n",
              "     width=\"24px\">\n",
              "    <g>\n",
              "        <path d=\"M19 3H5c-1.1 0-2 .9-2 2v14c0 1.1.9 2 2 2h14c1.1 0 2-.9 2-2V5c0-1.1-.9-2-2-2zM9 17H7v-7h2v7zm4 0h-2V7h2v10zm4 0h-2v-4h2v4z\"/>\n",
              "    </g>\n",
              "</svg>\n",
              "  </button>\n",
              "\n",
              "<style>\n",
              "  .colab-df-quickchart {\n",
              "      --bg-color: #E8F0FE;\n",
              "      --fill-color: #1967D2;\n",
              "      --hover-bg-color: #E2EBFA;\n",
              "      --hover-fill-color: #174EA6;\n",
              "      --disabled-fill-color: #AAA;\n",
              "      --disabled-bg-color: #DDD;\n",
              "  }\n",
              "\n",
              "  [theme=dark] .colab-df-quickchart {\n",
              "      --bg-color: #3B4455;\n",
              "      --fill-color: #D2E3FC;\n",
              "      --hover-bg-color: #434B5C;\n",
              "      --hover-fill-color: #FFFFFF;\n",
              "      --disabled-bg-color: #3B4455;\n",
              "      --disabled-fill-color: #666;\n",
              "  }\n",
              "\n",
              "  .colab-df-quickchart {\n",
              "    background-color: var(--bg-color);\n",
              "    border: none;\n",
              "    border-radius: 50%;\n",
              "    cursor: pointer;\n",
              "    display: none;\n",
              "    fill: var(--fill-color);\n",
              "    height: 32px;\n",
              "    padding: 0;\n",
              "    width: 32px;\n",
              "  }\n",
              "\n",
              "  .colab-df-quickchart:hover {\n",
              "    background-color: var(--hover-bg-color);\n",
              "    box-shadow: 0 1px 2px rgba(60, 64, 67, 0.3), 0 1px 3px 1px rgba(60, 64, 67, 0.15);\n",
              "    fill: var(--button-hover-fill-color);\n",
              "  }\n",
              "\n",
              "  .colab-df-quickchart-complete:disabled,\n",
              "  .colab-df-quickchart-complete:disabled:hover {\n",
              "    background-color: var(--disabled-bg-color);\n",
              "    fill: var(--disabled-fill-color);\n",
              "    box-shadow: none;\n",
              "  }\n",
              "\n",
              "  .colab-df-spinner {\n",
              "    border: 2px solid var(--fill-color);\n",
              "    border-color: transparent;\n",
              "    border-bottom-color: var(--fill-color);\n",
              "    animation:\n",
              "      spin 1s steps(1) infinite;\n",
              "  }\n",
              "\n",
              "  @keyframes spin {\n",
              "    0% {\n",
              "      border-color: transparent;\n",
              "      border-bottom-color: var(--fill-color);\n",
              "      border-left-color: var(--fill-color);\n",
              "    }\n",
              "    20% {\n",
              "      border-color: transparent;\n",
              "      border-left-color: var(--fill-color);\n",
              "      border-top-color: var(--fill-color);\n",
              "    }\n",
              "    30% {\n",
              "      border-color: transparent;\n",
              "      border-left-color: var(--fill-color);\n",
              "      border-top-color: var(--fill-color);\n",
              "      border-right-color: var(--fill-color);\n",
              "    }\n",
              "    40% {\n",
              "      border-color: transparent;\n",
              "      border-right-color: var(--fill-color);\n",
              "      border-top-color: var(--fill-color);\n",
              "    }\n",
              "    60% {\n",
              "      border-color: transparent;\n",
              "      border-right-color: var(--fill-color);\n",
              "    }\n",
              "    80% {\n",
              "      border-color: transparent;\n",
              "      border-right-color: var(--fill-color);\n",
              "      border-bottom-color: var(--fill-color);\n",
              "    }\n",
              "    90% {\n",
              "      border-color: transparent;\n",
              "      border-bottom-color: var(--fill-color);\n",
              "    }\n",
              "  }\n",
              "</style>\n",
              "\n",
              "  <script>\n",
              "    async function quickchart(key) {\n",
              "      const quickchartButtonEl =\n",
              "        document.querySelector('#' + key + ' button');\n",
              "      quickchartButtonEl.disabled = true;  // To prevent multiple clicks.\n",
              "      quickchartButtonEl.classList.add('colab-df-spinner');\n",
              "      try {\n",
              "        const charts = await google.colab.kernel.invokeFunction(\n",
              "            'suggestCharts', [key], {});\n",
              "      } catch (error) {\n",
              "        console.error('Error during call to suggestCharts:', error);\n",
              "      }\n",
              "      quickchartButtonEl.classList.remove('colab-df-spinner');\n",
              "      quickchartButtonEl.classList.add('colab-df-quickchart-complete');\n",
              "    }\n",
              "    (() => {\n",
              "      let quickchartButtonEl =\n",
              "        document.querySelector('#df-621298a1-49df-4e2d-b2f1-6a0d2fdd4a43 button');\n",
              "      quickchartButtonEl.style.display =\n",
              "        google.colab.kernel.accessAllowed ? 'block' : 'none';\n",
              "    })();\n",
              "  </script>\n",
              "</div>\n",
              "\n",
              "  <div id=\"id_e3a86942-3658-415b-88a3-3afd64d96d6f\">\n",
              "    <style>\n",
              "      .colab-df-generate {\n",
              "        background-color: #E8F0FE;\n",
              "        border: none;\n",
              "        border-radius: 50%;\n",
              "        cursor: pointer;\n",
              "        display: none;\n",
              "        fill: #1967D2;\n",
              "        height: 32px;\n",
              "        padding: 0 0 0 0;\n",
              "        width: 32px;\n",
              "      }\n",
              "\n",
              "      .colab-df-generate:hover {\n",
              "        background-color: #E2EBFA;\n",
              "        box-shadow: 0px 1px 2px rgba(60, 64, 67, 0.3), 0px 1px 3px 1px rgba(60, 64, 67, 0.15);\n",
              "        fill: #174EA6;\n",
              "      }\n",
              "\n",
              "      [theme=dark] .colab-df-generate {\n",
              "        background-color: #3B4455;\n",
              "        fill: #D2E3FC;\n",
              "      }\n",
              "\n",
              "      [theme=dark] .colab-df-generate:hover {\n",
              "        background-color: #434B5C;\n",
              "        box-shadow: 0px 1px 3px 1px rgba(0, 0, 0, 0.15);\n",
              "        filter: drop-shadow(0px 1px 2px rgba(0, 0, 0, 0.3));\n",
              "        fill: #FFFFFF;\n",
              "      }\n",
              "    </style>\n",
              "    <button class=\"colab-df-generate\" onclick=\"generateWithVariable('drugs_df')\"\n",
              "            title=\"Generate code using this dataframe.\"\n",
              "            style=\"display:none;\">\n",
              "\n",
              "  <svg xmlns=\"http://www.w3.org/2000/svg\" height=\"24px\"viewBox=\"0 0 24 24\"\n",
              "       width=\"24px\">\n",
              "    <path d=\"M7,19H8.4L18.45,9,17,7.55,7,17.6ZM5,21V16.75L18.45,3.32a2,2,0,0,1,2.83,0l1.4,1.43a1.91,1.91,0,0,1,.58,1.4,1.91,1.91,0,0,1-.58,1.4L9.25,21ZM18.45,9,17,7.55Zm-12,3A5.31,5.31,0,0,0,4.9,8.1,5.31,5.31,0,0,0,1,6.5,5.31,5.31,0,0,0,4.9,4.9,5.31,5.31,0,0,0,6.5,1,5.31,5.31,0,0,0,8.1,4.9,5.31,5.31,0,0,0,12,6.5,5.46,5.46,0,0,0,6.5,12Z\"/>\n",
              "  </svg>\n",
              "    </button>\n",
              "    <script>\n",
              "      (() => {\n",
              "      const buttonEl =\n",
              "        document.querySelector('#id_e3a86942-3658-415b-88a3-3afd64d96d6f button.colab-df-generate');\n",
              "      buttonEl.style.display =\n",
              "        google.colab.kernel.accessAllowed ? 'block' : 'none';\n",
              "\n",
              "      buttonEl.onclick = () => {\n",
              "        google.colab.notebook.generateWithVariable('drugs_df');\n",
              "      }\n",
              "      })();\n",
              "    </script>\n",
              "  </div>\n",
              "\n",
              "    </div>\n",
              "  </div>\n"
            ],
            "application/vnd.google.colaboratory.intrinsic+json": {
              "type": "dataframe",
              "variable_name": "drugs_df",
              "summary": "{\n  \"name\": \"drugs_df\",\n  \"rows\": 1885,\n  \"fields\": [\n    {\n      \"column\": \"Alcohol\",\n      \"properties\": {\n        \"dtype\": \"category\",\n        \"num_unique_values\": 7,\n        \"samples\": [\n          \"CL5\",\n          \"CL6\",\n          \"CL0\"\n        ],\n        \"semantic_type\": \"\",\n        \"description\": \"\"\n      }\n    },\n    {\n      \"column\": \"Amphet\",\n      \"properties\": {\n        \"dtype\": \"category\",\n        \"num_unique_values\": 7,\n        \"samples\": [\n          \"CL2\",\n          \"CL0\",\n          \"CL4\"\n        ],\n        \"semantic_type\": \"\",\n        \"description\": \"\"\n      }\n    },\n    {\n      \"column\": \"Amyl\",\n      \"properties\": {\n        \"dtype\": \"category\",\n        \"num_unique_values\": 7,\n        \"samples\": [\n          \"CL0\",\n          \"CL2\",\n          \"CL4\"\n        ],\n        \"semantic_type\": \"\",\n        \"description\": \"\"\n      }\n    },\n    {\n      \"column\": \"Benzos\",\n      \"properties\": {\n        \"dtype\": \"category\",\n        \"num_unique_values\": 7,\n        \"samples\": [\n          \"CL2\",\n          \"CL0\",\n          \"CL5\"\n        ],\n        \"semantic_type\": \"\",\n        \"description\": \"\"\n      }\n    },\n    {\n      \"column\": \"Caff\",\n      \"properties\": {\n        \"dtype\": \"category\",\n        \"num_unique_values\": 7,\n        \"samples\": [\n          \"CL6\",\n          \"CL5\",\n          \"CL1\"\n        ],\n        \"semantic_type\": \"\",\n        \"description\": \"\"\n      }\n    },\n    {\n      \"column\": \"Cannabis\",\n      \"properties\": {\n        \"dtype\": \"category\",\n        \"num_unique_values\": 7,\n        \"samples\": [\n          \"CL0\",\n          \"CL4\",\n          \"CL6\"\n        ],\n        \"semantic_type\": \"\",\n        \"description\": \"\"\n      }\n    },\n    {\n      \"column\": \"Choc\",\n      \"properties\": {\n        \"dtype\": \"category\",\n        \"num_unique_values\": 7,\n        \"samples\": [\n          \"CL5\",\n          \"CL6\",\n          \"CL2\"\n        ],\n        \"semantic_type\": \"\",\n        \"description\": \"\"\n      }\n    },\n    {\n      \"column\": \"Coke\",\n      \"properties\": {\n        \"dtype\": \"category\",\n        \"num_unique_values\": 7,\n        \"samples\": [\n          \"CL0\",\n          \"CL3\",\n          \"CL5\"\n        ],\n        \"semantic_type\": \"\",\n        \"description\": \"\"\n      }\n    },\n    {\n      \"column\": \"Crack\",\n      \"properties\": {\n        \"dtype\": \"category\",\n        \"num_unique_values\": 7,\n        \"samples\": [\n          \"CL0\",\n          \"CL1\",\n          \"CL4\"\n        ],\n        \"semantic_type\": \"\",\n        \"description\": \"\"\n      }\n    },\n    {\n      \"column\": \"Ecstasy\",\n      \"properties\": {\n        \"dtype\": \"category\",\n        \"num_unique_values\": 7,\n        \"samples\": [\n          \"CL0\",\n          \"CL4\",\n          \"CL6\"\n        ],\n        \"semantic_type\": \"\",\n        \"description\": \"\"\n      }\n    },\n    {\n      \"column\": \"Heroin\",\n      \"properties\": {\n        \"dtype\": \"category\",\n        \"num_unique_values\": 7,\n        \"samples\": [\n          \"CL0\",\n          \"CL1\",\n          \"CL6\"\n        ],\n        \"semantic_type\": \"\",\n        \"description\": \"\"\n      }\n    },\n    {\n      \"column\": \"Ketamine\",\n      \"properties\": {\n        \"dtype\": \"category\",\n        \"num_unique_values\": 7,\n        \"samples\": [\n          \"CL0\",\n          \"CL2\",\n          \"CL4\"\n        ],\n        \"semantic_type\": \"\",\n        \"description\": \"\"\n      }\n    },\n    {\n      \"column\": \"Legalh\",\n      \"properties\": {\n        \"dtype\": \"category\",\n        \"num_unique_values\": 7,\n        \"samples\": [\n          \"CL0\",\n          \"CL1\",\n          \"CL4\"\n        ],\n        \"semantic_type\": \"\",\n        \"description\": \"\"\n      }\n    },\n    {\n      \"column\": \"LSD\",\n      \"properties\": {\n        \"dtype\": \"category\",\n        \"num_unique_values\": 7,\n        \"samples\": [\n          \"CL0\",\n          \"CL2\",\n          \"CL5\"\n        ],\n        \"semantic_type\": \"\",\n        \"description\": \"\"\n      }\n    },\n    {\n      \"column\": \"Meth\",\n      \"properties\": {\n        \"dtype\": \"category\",\n        \"num_unique_values\": 7,\n        \"samples\": [\n          \"CL0\",\n          \"CL3\",\n          \"CL2\"\n        ],\n        \"semantic_type\": \"\",\n        \"description\": \"\"\n      }\n    },\n    {\n      \"column\": \"Mushrooms\",\n      \"properties\": {\n        \"dtype\": \"category\",\n        \"num_unique_values\": 7,\n        \"samples\": [\n          \"CL0\",\n          \"CL1\",\n          \"CL5\"\n        ],\n        \"semantic_type\": \"\",\n        \"description\": \"\"\n      }\n    },\n    {\n      \"column\": \"Nicotine\",\n      \"properties\": {\n        \"dtype\": \"category\",\n        \"num_unique_values\": 7,\n        \"samples\": [\n          \"CL2\",\n          \"CL4\",\n          \"CL3\"\n        ],\n        \"semantic_type\": \"\",\n        \"description\": \"\"\n      }\n    },\n    {\n      \"column\": \"Semer\",\n      \"properties\": {\n        \"dtype\": \"category\",\n        \"num_unique_values\": 5,\n        \"samples\": [\n          \"CL2\",\n          \"CL1\",\n          \"CL3\"\n        ],\n        \"semantic_type\": \"\",\n        \"description\": \"\"\n      }\n    },\n    {\n      \"column\": \"VSA\",\n      \"properties\": {\n        \"dtype\": \"category\",\n        \"num_unique_values\": 7,\n        \"samples\": [\n          \"CL0\",\n          \"CL1\",\n          \"CL5\"\n        ],\n        \"semantic_type\": \"\",\n        \"description\": \"\"\n      }\n    }\n  ]\n}"
            }
          },
          "metadata": {},
          "execution_count": 6
        }
      ],
      "source": [
        "# drugs_df before encoding\n",
        "drugs_df"
      ]
    },
    {
      "cell_type": "code",
      "execution_count": 7,
      "metadata": {
        "id": "VBeQswps85dM"
      },
      "outputs": [],
      "source": [
        "# We need to encode/tokenize all of the drug responses, so use LabelEncoder\n",
        "\n",
        "# The following is written to train the label encoder on the Alcohol responses\n",
        "# and use that same encoding on all the others\n",
        "# This should work because all the drug responses are encoded identically\n",
        "le_class = LabelEncoder()\n",
        "drugs_enc = le_class.fit(drugs_df[\"Alcohol\"])\n",
        "\n",
        "d_tok=[]\n",
        "# this populates our list d_tok with all of the encoded drug responses\n",
        "for d in drugs_df:\n",
        "#  print(d)\n",
        "  d_tok.append(drugs_enc.transform(drugs_df[d]))\n",
        "# now I'm replacing all of the responses in the drug array\n",
        "# with the corresponding coded values\n",
        "i=0\n",
        "for d in drugs_df:\n",
        "  drugs_df.loc[:,d] = d_tok[i]\n",
        "  i+=1"
      ]
    },
    {
      "cell_type": "code",
      "execution_count": 8,
      "metadata": {
        "colab": {
          "base_uri": "https://localhost:8080/",
          "height": 439
        },
        "id": "uA4tD9cp9GQS",
        "outputId": "d136d77d-5d06-4e53-c779-0d479e03bb5b"
      },
      "outputs": [
        {
          "output_type": "execute_result",
          "data": {
            "text/plain": [
              "     Alcohol Amphet Amyl Benzos Caff Cannabis Choc Coke Crack Ecstasy Heroin  \\\n",
              "0          5      2    0      2    6        0    5    0     0       0      0   \n",
              "1          5      2    2      0    6        4    6    3     0       4      0   \n",
              "2          6      0    0      0    6        3    4    0     0       0      0   \n",
              "3          4      0    0      3    5        2    4    2     0       0      0   \n",
              "4          4      1    1      0    6        3    6    0     0       1      0   \n",
              "...      ...    ...  ...    ...  ...      ...  ...  ...   ...     ...    ...   \n",
              "1880       5      0    0      0    4        5    4    0     0       0      0   \n",
              "1881       5      0    0      0    5        3    4    0     0       2      0   \n",
              "1882       4      6    5      5    6        6    6    4     0       4      0   \n",
              "1883       5      0    0      0    6        6    5    0     0       3      0   \n",
              "1884       4      3    0      3    6        3    6    3     0       3      0   \n",
              "\n",
              "     Ketamine Legalh LSD Meth Mushrooms Nicotine Semer VSA  \n",
              "0           0      0   0    0         0        2     0   0  \n",
              "1           2      0   2    3         0        4     0   0  \n",
              "2           0      0   0    0         1        0     0   0  \n",
              "3           2      0   0    0         0        2     0   0  \n",
              "4           0      1   0    0         2        2     0   0  \n",
              "...       ...    ...  ..  ...       ...      ...   ...  ..  \n",
              "1880        0      3   3    0         0        0     0   5  \n",
              "1881        0      3   5    4         4        5     0   0  \n",
              "1882        2      0   2    0         2        6     0   0  \n",
              "1883        0      3   3    0         3        4     0   0  \n",
              "1884        0      3   3    0         3        6     0   2  \n",
              "\n",
              "[1885 rows x 19 columns]"
            ],
            "text/html": [
              "\n",
              "  <div id=\"df-29d9d2da-0c20-447e-b3be-cc151ef524a2\" class=\"colab-df-container\">\n",
              "    <div>\n",
              "<style scoped>\n",
              "    .dataframe tbody tr th:only-of-type {\n",
              "        vertical-align: middle;\n",
              "    }\n",
              "\n",
              "    .dataframe tbody tr th {\n",
              "        vertical-align: top;\n",
              "    }\n",
              "\n",
              "    .dataframe thead th {\n",
              "        text-align: right;\n",
              "    }\n",
              "</style>\n",
              "<table border=\"1\" class=\"dataframe\">\n",
              "  <thead>\n",
              "    <tr style=\"text-align: right;\">\n",
              "      <th></th>\n",
              "      <th>Alcohol</th>\n",
              "      <th>Amphet</th>\n",
              "      <th>Amyl</th>\n",
              "      <th>Benzos</th>\n",
              "      <th>Caff</th>\n",
              "      <th>Cannabis</th>\n",
              "      <th>Choc</th>\n",
              "      <th>Coke</th>\n",
              "      <th>Crack</th>\n",
              "      <th>Ecstasy</th>\n",
              "      <th>Heroin</th>\n",
              "      <th>Ketamine</th>\n",
              "      <th>Legalh</th>\n",
              "      <th>LSD</th>\n",
              "      <th>Meth</th>\n",
              "      <th>Mushrooms</th>\n",
              "      <th>Nicotine</th>\n",
              "      <th>Semer</th>\n",
              "      <th>VSA</th>\n",
              "    </tr>\n",
              "  </thead>\n",
              "  <tbody>\n",
              "    <tr>\n",
              "      <th>0</th>\n",
              "      <td>5</td>\n",
              "      <td>2</td>\n",
              "      <td>0</td>\n",
              "      <td>2</td>\n",
              "      <td>6</td>\n",
              "      <td>0</td>\n",
              "      <td>5</td>\n",
              "      <td>0</td>\n",
              "      <td>0</td>\n",
              "      <td>0</td>\n",
              "      <td>0</td>\n",
              "      <td>0</td>\n",
              "      <td>0</td>\n",
              "      <td>0</td>\n",
              "      <td>0</td>\n",
              "      <td>0</td>\n",
              "      <td>2</td>\n",
              "      <td>0</td>\n",
              "      <td>0</td>\n",
              "    </tr>\n",
              "    <tr>\n",
              "      <th>1</th>\n",
              "      <td>5</td>\n",
              "      <td>2</td>\n",
              "      <td>2</td>\n",
              "      <td>0</td>\n",
              "      <td>6</td>\n",
              "      <td>4</td>\n",
              "      <td>6</td>\n",
              "      <td>3</td>\n",
              "      <td>0</td>\n",
              "      <td>4</td>\n",
              "      <td>0</td>\n",
              "      <td>2</td>\n",
              "      <td>0</td>\n",
              "      <td>2</td>\n",
              "      <td>3</td>\n",
              "      <td>0</td>\n",
              "      <td>4</td>\n",
              "      <td>0</td>\n",
              "      <td>0</td>\n",
              "    </tr>\n",
              "    <tr>\n",
              "      <th>2</th>\n",
              "      <td>6</td>\n",
              "      <td>0</td>\n",
              "      <td>0</td>\n",
              "      <td>0</td>\n",
              "      <td>6</td>\n",
              "      <td>3</td>\n",
              "      <td>4</td>\n",
              "      <td>0</td>\n",
              "      <td>0</td>\n",
              "      <td>0</td>\n",
              "      <td>0</td>\n",
              "      <td>0</td>\n",
              "      <td>0</td>\n",
              "      <td>0</td>\n",
              "      <td>0</td>\n",
              "      <td>1</td>\n",
              "      <td>0</td>\n",
              "      <td>0</td>\n",
              "      <td>0</td>\n",
              "    </tr>\n",
              "    <tr>\n",
              "      <th>3</th>\n",
              "      <td>4</td>\n",
              "      <td>0</td>\n",
              "      <td>0</td>\n",
              "      <td>3</td>\n",
              "      <td>5</td>\n",
              "      <td>2</td>\n",
              "      <td>4</td>\n",
              "      <td>2</td>\n",
              "      <td>0</td>\n",
              "      <td>0</td>\n",
              "      <td>0</td>\n",
              "      <td>2</td>\n",
              "      <td>0</td>\n",
              "      <td>0</td>\n",
              "      <td>0</td>\n",
              "      <td>0</td>\n",
              "      <td>2</td>\n",
              "      <td>0</td>\n",
              "      <td>0</td>\n",
              "    </tr>\n",
              "    <tr>\n",
              "      <th>4</th>\n",
              "      <td>4</td>\n",
              "      <td>1</td>\n",
              "      <td>1</td>\n",
              "      <td>0</td>\n",
              "      <td>6</td>\n",
              "      <td>3</td>\n",
              "      <td>6</td>\n",
              "      <td>0</td>\n",
              "      <td>0</td>\n",
              "      <td>1</td>\n",
              "      <td>0</td>\n",
              "      <td>0</td>\n",
              "      <td>1</td>\n",
              "      <td>0</td>\n",
              "      <td>0</td>\n",
              "      <td>2</td>\n",
              "      <td>2</td>\n",
              "      <td>0</td>\n",
              "      <td>0</td>\n",
              "    </tr>\n",
              "    <tr>\n",
              "      <th>...</th>\n",
              "      <td>...</td>\n",
              "      <td>...</td>\n",
              "      <td>...</td>\n",
              "      <td>...</td>\n",
              "      <td>...</td>\n",
              "      <td>...</td>\n",
              "      <td>...</td>\n",
              "      <td>...</td>\n",
              "      <td>...</td>\n",
              "      <td>...</td>\n",
              "      <td>...</td>\n",
              "      <td>...</td>\n",
              "      <td>...</td>\n",
              "      <td>...</td>\n",
              "      <td>...</td>\n",
              "      <td>...</td>\n",
              "      <td>...</td>\n",
              "      <td>...</td>\n",
              "      <td>...</td>\n",
              "    </tr>\n",
              "    <tr>\n",
              "      <th>1880</th>\n",
              "      <td>5</td>\n",
              "      <td>0</td>\n",
              "      <td>0</td>\n",
              "      <td>0</td>\n",
              "      <td>4</td>\n",
              "      <td>5</td>\n",
              "      <td>4</td>\n",
              "      <td>0</td>\n",
              "      <td>0</td>\n",
              "      <td>0</td>\n",
              "      <td>0</td>\n",
              "      <td>0</td>\n",
              "      <td>3</td>\n",
              "      <td>3</td>\n",
              "      <td>0</td>\n",
              "      <td>0</td>\n",
              "      <td>0</td>\n",
              "      <td>0</td>\n",
              "      <td>5</td>\n",
              "    </tr>\n",
              "    <tr>\n",
              "      <th>1881</th>\n",
              "      <td>5</td>\n",
              "      <td>0</td>\n",
              "      <td>0</td>\n",
              "      <td>0</td>\n",
              "      <td>5</td>\n",
              "      <td>3</td>\n",
              "      <td>4</td>\n",
              "      <td>0</td>\n",
              "      <td>0</td>\n",
              "      <td>2</td>\n",
              "      <td>0</td>\n",
              "      <td>0</td>\n",
              "      <td>3</td>\n",
              "      <td>5</td>\n",
              "      <td>4</td>\n",
              "      <td>4</td>\n",
              "      <td>5</td>\n",
              "      <td>0</td>\n",
              "      <td>0</td>\n",
              "    </tr>\n",
              "    <tr>\n",
              "      <th>1882</th>\n",
              "      <td>4</td>\n",
              "      <td>6</td>\n",
              "      <td>5</td>\n",
              "      <td>5</td>\n",
              "      <td>6</td>\n",
              "      <td>6</td>\n",
              "      <td>6</td>\n",
              "      <td>4</td>\n",
              "      <td>0</td>\n",
              "      <td>4</td>\n",
              "      <td>0</td>\n",
              "      <td>2</td>\n",
              "      <td>0</td>\n",
              "      <td>2</td>\n",
              "      <td>0</td>\n",
              "      <td>2</td>\n",
              "      <td>6</td>\n",
              "      <td>0</td>\n",
              "      <td>0</td>\n",
              "    </tr>\n",
              "    <tr>\n",
              "      <th>1883</th>\n",
              "      <td>5</td>\n",
              "      <td>0</td>\n",
              "      <td>0</td>\n",
              "      <td>0</td>\n",
              "      <td>6</td>\n",
              "      <td>6</td>\n",
              "      <td>5</td>\n",
              "      <td>0</td>\n",
              "      <td>0</td>\n",
              "      <td>3</td>\n",
              "      <td>0</td>\n",
              "      <td>0</td>\n",
              "      <td>3</td>\n",
              "      <td>3</td>\n",
              "      <td>0</td>\n",
              "      <td>3</td>\n",
              "      <td>4</td>\n",
              "      <td>0</td>\n",
              "      <td>0</td>\n",
              "    </tr>\n",
              "    <tr>\n",
              "      <th>1884</th>\n",
              "      <td>4</td>\n",
              "      <td>3</td>\n",
              "      <td>0</td>\n",
              "      <td>3</td>\n",
              "      <td>6</td>\n",
              "      <td>3</td>\n",
              "      <td>6</td>\n",
              "      <td>3</td>\n",
              "      <td>0</td>\n",
              "      <td>3</td>\n",
              "      <td>0</td>\n",
              "      <td>0</td>\n",
              "      <td>3</td>\n",
              "      <td>3</td>\n",
              "      <td>0</td>\n",
              "      <td>3</td>\n",
              "      <td>6</td>\n",
              "      <td>0</td>\n",
              "      <td>2</td>\n",
              "    </tr>\n",
              "  </tbody>\n",
              "</table>\n",
              "<p>1885 rows × 19 columns</p>\n",
              "</div>\n",
              "    <div class=\"colab-df-buttons\">\n",
              "\n",
              "  <div class=\"colab-df-container\">\n",
              "    <button class=\"colab-df-convert\" onclick=\"convertToInteractive('df-29d9d2da-0c20-447e-b3be-cc151ef524a2')\"\n",
              "            title=\"Convert this dataframe to an interactive table.\"\n",
              "            style=\"display:none;\">\n",
              "\n",
              "  <svg xmlns=\"http://www.w3.org/2000/svg\" height=\"24px\" viewBox=\"0 -960 960 960\">\n",
              "    <path d=\"M120-120v-720h720v720H120Zm60-500h600v-160H180v160Zm220 220h160v-160H400v160Zm0 220h160v-160H400v160ZM180-400h160v-160H180v160Zm440 0h160v-160H620v160ZM180-180h160v-160H180v160Zm440 0h160v-160H620v160Z\"/>\n",
              "  </svg>\n",
              "    </button>\n",
              "\n",
              "  <style>\n",
              "    .colab-df-container {\n",
              "      display:flex;\n",
              "      gap: 12px;\n",
              "    }\n",
              "\n",
              "    .colab-df-convert {\n",
              "      background-color: #E8F0FE;\n",
              "      border: none;\n",
              "      border-radius: 50%;\n",
              "      cursor: pointer;\n",
              "      display: none;\n",
              "      fill: #1967D2;\n",
              "      height: 32px;\n",
              "      padding: 0 0 0 0;\n",
              "      width: 32px;\n",
              "    }\n",
              "\n",
              "    .colab-df-convert:hover {\n",
              "      background-color: #E2EBFA;\n",
              "      box-shadow: 0px 1px 2px rgba(60, 64, 67, 0.3), 0px 1px 3px 1px rgba(60, 64, 67, 0.15);\n",
              "      fill: #174EA6;\n",
              "    }\n",
              "\n",
              "    .colab-df-buttons div {\n",
              "      margin-bottom: 4px;\n",
              "    }\n",
              "\n",
              "    [theme=dark] .colab-df-convert {\n",
              "      background-color: #3B4455;\n",
              "      fill: #D2E3FC;\n",
              "    }\n",
              "\n",
              "    [theme=dark] .colab-df-convert:hover {\n",
              "      background-color: #434B5C;\n",
              "      box-shadow: 0px 1px 3px 1px rgba(0, 0, 0, 0.15);\n",
              "      filter: drop-shadow(0px 1px 2px rgba(0, 0, 0, 0.3));\n",
              "      fill: #FFFFFF;\n",
              "    }\n",
              "  </style>\n",
              "\n",
              "    <script>\n",
              "      const buttonEl =\n",
              "        document.querySelector('#df-29d9d2da-0c20-447e-b3be-cc151ef524a2 button.colab-df-convert');\n",
              "      buttonEl.style.display =\n",
              "        google.colab.kernel.accessAllowed ? 'block' : 'none';\n",
              "\n",
              "      async function convertToInteractive(key) {\n",
              "        const element = document.querySelector('#df-29d9d2da-0c20-447e-b3be-cc151ef524a2');\n",
              "        const dataTable =\n",
              "          await google.colab.kernel.invokeFunction('convertToInteractive',\n",
              "                                                    [key], {});\n",
              "        if (!dataTable) return;\n",
              "\n",
              "        const docLinkHtml = 'Like what you see? Visit the ' +\n",
              "          '<a target=\"_blank\" href=https://colab.research.google.com/notebooks/data_table.ipynb>data table notebook</a>'\n",
              "          + ' to learn more about interactive tables.';\n",
              "        element.innerHTML = '';\n",
              "        dataTable['output_type'] = 'display_data';\n",
              "        await google.colab.output.renderOutput(dataTable, element);\n",
              "        const docLink = document.createElement('div');\n",
              "        docLink.innerHTML = docLinkHtml;\n",
              "        element.appendChild(docLink);\n",
              "      }\n",
              "    </script>\n",
              "  </div>\n",
              "\n",
              "\n",
              "<div id=\"df-8311e300-a870-42b4-8a05-a972566c694e\">\n",
              "  <button class=\"colab-df-quickchart\" onclick=\"quickchart('df-8311e300-a870-42b4-8a05-a972566c694e')\"\n",
              "            title=\"Suggest charts\"\n",
              "            style=\"display:none;\">\n",
              "\n",
              "<svg xmlns=\"http://www.w3.org/2000/svg\" height=\"24px\"viewBox=\"0 0 24 24\"\n",
              "     width=\"24px\">\n",
              "    <g>\n",
              "        <path d=\"M19 3H5c-1.1 0-2 .9-2 2v14c0 1.1.9 2 2 2h14c1.1 0 2-.9 2-2V5c0-1.1-.9-2-2-2zM9 17H7v-7h2v7zm4 0h-2V7h2v10zm4 0h-2v-4h2v4z\"/>\n",
              "    </g>\n",
              "</svg>\n",
              "  </button>\n",
              "\n",
              "<style>\n",
              "  .colab-df-quickchart {\n",
              "      --bg-color: #E8F0FE;\n",
              "      --fill-color: #1967D2;\n",
              "      --hover-bg-color: #E2EBFA;\n",
              "      --hover-fill-color: #174EA6;\n",
              "      --disabled-fill-color: #AAA;\n",
              "      --disabled-bg-color: #DDD;\n",
              "  }\n",
              "\n",
              "  [theme=dark] .colab-df-quickchart {\n",
              "      --bg-color: #3B4455;\n",
              "      --fill-color: #D2E3FC;\n",
              "      --hover-bg-color: #434B5C;\n",
              "      --hover-fill-color: #FFFFFF;\n",
              "      --disabled-bg-color: #3B4455;\n",
              "      --disabled-fill-color: #666;\n",
              "  }\n",
              "\n",
              "  .colab-df-quickchart {\n",
              "    background-color: var(--bg-color);\n",
              "    border: none;\n",
              "    border-radius: 50%;\n",
              "    cursor: pointer;\n",
              "    display: none;\n",
              "    fill: var(--fill-color);\n",
              "    height: 32px;\n",
              "    padding: 0;\n",
              "    width: 32px;\n",
              "  }\n",
              "\n",
              "  .colab-df-quickchart:hover {\n",
              "    background-color: var(--hover-bg-color);\n",
              "    box-shadow: 0 1px 2px rgba(60, 64, 67, 0.3), 0 1px 3px 1px rgba(60, 64, 67, 0.15);\n",
              "    fill: var(--button-hover-fill-color);\n",
              "  }\n",
              "\n",
              "  .colab-df-quickchart-complete:disabled,\n",
              "  .colab-df-quickchart-complete:disabled:hover {\n",
              "    background-color: var(--disabled-bg-color);\n",
              "    fill: var(--disabled-fill-color);\n",
              "    box-shadow: none;\n",
              "  }\n",
              "\n",
              "  .colab-df-spinner {\n",
              "    border: 2px solid var(--fill-color);\n",
              "    border-color: transparent;\n",
              "    border-bottom-color: var(--fill-color);\n",
              "    animation:\n",
              "      spin 1s steps(1) infinite;\n",
              "  }\n",
              "\n",
              "  @keyframes spin {\n",
              "    0% {\n",
              "      border-color: transparent;\n",
              "      border-bottom-color: var(--fill-color);\n",
              "      border-left-color: var(--fill-color);\n",
              "    }\n",
              "    20% {\n",
              "      border-color: transparent;\n",
              "      border-left-color: var(--fill-color);\n",
              "      border-top-color: var(--fill-color);\n",
              "    }\n",
              "    30% {\n",
              "      border-color: transparent;\n",
              "      border-left-color: var(--fill-color);\n",
              "      border-top-color: var(--fill-color);\n",
              "      border-right-color: var(--fill-color);\n",
              "    }\n",
              "    40% {\n",
              "      border-color: transparent;\n",
              "      border-right-color: var(--fill-color);\n",
              "      border-top-color: var(--fill-color);\n",
              "    }\n",
              "    60% {\n",
              "      border-color: transparent;\n",
              "      border-right-color: var(--fill-color);\n",
              "    }\n",
              "    80% {\n",
              "      border-color: transparent;\n",
              "      border-right-color: var(--fill-color);\n",
              "      border-bottom-color: var(--fill-color);\n",
              "    }\n",
              "    90% {\n",
              "      border-color: transparent;\n",
              "      border-bottom-color: var(--fill-color);\n",
              "    }\n",
              "  }\n",
              "</style>\n",
              "\n",
              "  <script>\n",
              "    async function quickchart(key) {\n",
              "      const quickchartButtonEl =\n",
              "        document.querySelector('#' + key + ' button');\n",
              "      quickchartButtonEl.disabled = true;  // To prevent multiple clicks.\n",
              "      quickchartButtonEl.classList.add('colab-df-spinner');\n",
              "      try {\n",
              "        const charts = await google.colab.kernel.invokeFunction(\n",
              "            'suggestCharts', [key], {});\n",
              "      } catch (error) {\n",
              "        console.error('Error during call to suggestCharts:', error);\n",
              "      }\n",
              "      quickchartButtonEl.classList.remove('colab-df-spinner');\n",
              "      quickchartButtonEl.classList.add('colab-df-quickchart-complete');\n",
              "    }\n",
              "    (() => {\n",
              "      let quickchartButtonEl =\n",
              "        document.querySelector('#df-8311e300-a870-42b4-8a05-a972566c694e button');\n",
              "      quickchartButtonEl.style.display =\n",
              "        google.colab.kernel.accessAllowed ? 'block' : 'none';\n",
              "    })();\n",
              "  </script>\n",
              "</div>\n",
              "\n",
              "  <div id=\"id_25686e5f-46fd-46c7-a7f4-2e9395848b4e\">\n",
              "    <style>\n",
              "      .colab-df-generate {\n",
              "        background-color: #E8F0FE;\n",
              "        border: none;\n",
              "        border-radius: 50%;\n",
              "        cursor: pointer;\n",
              "        display: none;\n",
              "        fill: #1967D2;\n",
              "        height: 32px;\n",
              "        padding: 0 0 0 0;\n",
              "        width: 32px;\n",
              "      }\n",
              "\n",
              "      .colab-df-generate:hover {\n",
              "        background-color: #E2EBFA;\n",
              "        box-shadow: 0px 1px 2px rgba(60, 64, 67, 0.3), 0px 1px 3px 1px rgba(60, 64, 67, 0.15);\n",
              "        fill: #174EA6;\n",
              "      }\n",
              "\n",
              "      [theme=dark] .colab-df-generate {\n",
              "        background-color: #3B4455;\n",
              "        fill: #D2E3FC;\n",
              "      }\n",
              "\n",
              "      [theme=dark] .colab-df-generate:hover {\n",
              "        background-color: #434B5C;\n",
              "        box-shadow: 0px 1px 3px 1px rgba(0, 0, 0, 0.15);\n",
              "        filter: drop-shadow(0px 1px 2px rgba(0, 0, 0, 0.3));\n",
              "        fill: #FFFFFF;\n",
              "      }\n",
              "    </style>\n",
              "    <button class=\"colab-df-generate\" onclick=\"generateWithVariable('drugs_df')\"\n",
              "            title=\"Generate code using this dataframe.\"\n",
              "            style=\"display:none;\">\n",
              "\n",
              "  <svg xmlns=\"http://www.w3.org/2000/svg\" height=\"24px\"viewBox=\"0 0 24 24\"\n",
              "       width=\"24px\">\n",
              "    <path d=\"M7,19H8.4L18.45,9,17,7.55,7,17.6ZM5,21V16.75L18.45,3.32a2,2,0,0,1,2.83,0l1.4,1.43a1.91,1.91,0,0,1,.58,1.4,1.91,1.91,0,0,1-.58,1.4L9.25,21ZM18.45,9,17,7.55Zm-12,3A5.31,5.31,0,0,0,4.9,8.1,5.31,5.31,0,0,0,1,6.5,5.31,5.31,0,0,0,4.9,4.9,5.31,5.31,0,0,0,6.5,1,5.31,5.31,0,0,0,8.1,4.9,5.31,5.31,0,0,0,12,6.5,5.46,5.46,0,0,0,6.5,12Z\"/>\n",
              "  </svg>\n",
              "    </button>\n",
              "    <script>\n",
              "      (() => {\n",
              "      const buttonEl =\n",
              "        document.querySelector('#id_25686e5f-46fd-46c7-a7f4-2e9395848b4e button.colab-df-generate');\n",
              "      buttonEl.style.display =\n",
              "        google.colab.kernel.accessAllowed ? 'block' : 'none';\n",
              "\n",
              "      buttonEl.onclick = () => {\n",
              "        google.colab.notebook.generateWithVariable('drugs_df');\n",
              "      }\n",
              "      })();\n",
              "    </script>\n",
              "  </div>\n",
              "\n",
              "    </div>\n",
              "  </div>\n"
            ],
            "application/vnd.google.colaboratory.intrinsic+json": {
              "type": "dataframe",
              "variable_name": "drugs_df",
              "summary": "{\n  \"name\": \"drugs_df\",\n  \"rows\": 1885,\n  \"fields\": [\n    {\n      \"column\": \"Alcohol\",\n      \"properties\": {\n        \"dtype\": \"date\",\n        \"min\": 0,\n        \"max\": 6,\n        \"num_unique_values\": 7,\n        \"samples\": [\n          5,\n          6,\n          0\n        ],\n        \"semantic_type\": \"\",\n        \"description\": \"\"\n      }\n    },\n    {\n      \"column\": \"Amphet\",\n      \"properties\": {\n        \"dtype\": \"date\",\n        \"min\": 0,\n        \"max\": 6,\n        \"num_unique_values\": 7,\n        \"samples\": [\n          2,\n          0,\n          4\n        ],\n        \"semantic_type\": \"\",\n        \"description\": \"\"\n      }\n    },\n    {\n      \"column\": \"Amyl\",\n      \"properties\": {\n        \"dtype\": \"date\",\n        \"min\": 0,\n        \"max\": 6,\n        \"num_unique_values\": 7,\n        \"samples\": [\n          0,\n          2,\n          4\n        ],\n        \"semantic_type\": \"\",\n        \"description\": \"\"\n      }\n    },\n    {\n      \"column\": \"Benzos\",\n      \"properties\": {\n        \"dtype\": \"date\",\n        \"min\": 0,\n        \"max\": 6,\n        \"num_unique_values\": 7,\n        \"samples\": [\n          2,\n          0,\n          5\n        ],\n        \"semantic_type\": \"\",\n        \"description\": \"\"\n      }\n    },\n    {\n      \"column\": \"Caff\",\n      \"properties\": {\n        \"dtype\": \"date\",\n        \"min\": 0,\n        \"max\": 6,\n        \"num_unique_values\": 7,\n        \"samples\": [\n          6,\n          5,\n          1\n        ],\n        \"semantic_type\": \"\",\n        \"description\": \"\"\n      }\n    },\n    {\n      \"column\": \"Cannabis\",\n      \"properties\": {\n        \"dtype\": \"date\",\n        \"min\": 0,\n        \"max\": 6,\n        \"num_unique_values\": 7,\n        \"samples\": [\n          0,\n          4,\n          6\n        ],\n        \"semantic_type\": \"\",\n        \"description\": \"\"\n      }\n    },\n    {\n      \"column\": \"Choc\",\n      \"properties\": {\n        \"dtype\": \"date\",\n        \"min\": 0,\n        \"max\": 6,\n        \"num_unique_values\": 7,\n        \"samples\": [\n          5,\n          6,\n          2\n        ],\n        \"semantic_type\": \"\",\n        \"description\": \"\"\n      }\n    },\n    {\n      \"column\": \"Coke\",\n      \"properties\": {\n        \"dtype\": \"date\",\n        \"min\": 0,\n        \"max\": 6,\n        \"num_unique_values\": 7,\n        \"samples\": [\n          0,\n          3,\n          5\n        ],\n        \"semantic_type\": \"\",\n        \"description\": \"\"\n      }\n    },\n    {\n      \"column\": \"Crack\",\n      \"properties\": {\n        \"dtype\": \"date\",\n        \"min\": 0,\n        \"max\": 6,\n        \"num_unique_values\": 7,\n        \"samples\": [\n          0,\n          1,\n          4\n        ],\n        \"semantic_type\": \"\",\n        \"description\": \"\"\n      }\n    },\n    {\n      \"column\": \"Ecstasy\",\n      \"properties\": {\n        \"dtype\": \"date\",\n        \"min\": 0,\n        \"max\": 6,\n        \"num_unique_values\": 7,\n        \"samples\": [\n          0,\n          4,\n          6\n        ],\n        \"semantic_type\": \"\",\n        \"description\": \"\"\n      }\n    },\n    {\n      \"column\": \"Heroin\",\n      \"properties\": {\n        \"dtype\": \"date\",\n        \"min\": 0,\n        \"max\": 6,\n        \"num_unique_values\": 7,\n        \"samples\": [\n          0,\n          1,\n          6\n        ],\n        \"semantic_type\": \"\",\n        \"description\": \"\"\n      }\n    },\n    {\n      \"column\": \"Ketamine\",\n      \"properties\": {\n        \"dtype\": \"date\",\n        \"min\": 0,\n        \"max\": 6,\n        \"num_unique_values\": 7,\n        \"samples\": [\n          0,\n          2,\n          4\n        ],\n        \"semantic_type\": \"\",\n        \"description\": \"\"\n      }\n    },\n    {\n      \"column\": \"Legalh\",\n      \"properties\": {\n        \"dtype\": \"date\",\n        \"min\": 0,\n        \"max\": 6,\n        \"num_unique_values\": 7,\n        \"samples\": [\n          0,\n          1,\n          4\n        ],\n        \"semantic_type\": \"\",\n        \"description\": \"\"\n      }\n    },\n    {\n      \"column\": \"LSD\",\n      \"properties\": {\n        \"dtype\": \"date\",\n        \"min\": 0,\n        \"max\": 6,\n        \"num_unique_values\": 7,\n        \"samples\": [\n          0,\n          2,\n          5\n        ],\n        \"semantic_type\": \"\",\n        \"description\": \"\"\n      }\n    },\n    {\n      \"column\": \"Meth\",\n      \"properties\": {\n        \"dtype\": \"date\",\n        \"min\": 0,\n        \"max\": 6,\n        \"num_unique_values\": 7,\n        \"samples\": [\n          0,\n          3,\n          2\n        ],\n        \"semantic_type\": \"\",\n        \"description\": \"\"\n      }\n    },\n    {\n      \"column\": \"Mushrooms\",\n      \"properties\": {\n        \"dtype\": \"date\",\n        \"min\": 0,\n        \"max\": 6,\n        \"num_unique_values\": 7,\n        \"samples\": [\n          0,\n          1,\n          5\n        ],\n        \"semantic_type\": \"\",\n        \"description\": \"\"\n      }\n    },\n    {\n      \"column\": \"Nicotine\",\n      \"properties\": {\n        \"dtype\": \"date\",\n        \"min\": 0,\n        \"max\": 6,\n        \"num_unique_values\": 7,\n        \"samples\": [\n          2,\n          4,\n          3\n        ],\n        \"semantic_type\": \"\",\n        \"description\": \"\"\n      }\n    },\n    {\n      \"column\": \"Semer\",\n      \"properties\": {\n        \"dtype\": \"date\",\n        \"min\": 0,\n        \"max\": 4,\n        \"num_unique_values\": 5,\n        \"samples\": [\n          2,\n          1,\n          3\n        ],\n        \"semantic_type\": \"\",\n        \"description\": \"\"\n      }\n    },\n    {\n      \"column\": \"VSA\",\n      \"properties\": {\n        \"dtype\": \"date\",\n        \"min\": 0,\n        \"max\": 6,\n        \"num_unique_values\": 7,\n        \"samples\": [\n          0,\n          1,\n          5\n        ],\n        \"semantic_type\": \"\",\n        \"description\": \"\"\n      }\n    }\n  ]\n}"
            }
          },
          "metadata": {},
          "execution_count": 8
        }
      ],
      "source": [
        "# drugs_df after encoding\n",
        "drugs_df"
      ]
    },
    {
      "cell_type": "markdown",
      "metadata": {
        "id": "d7_8tVXZIo3U"
      },
      "source": [
        "# Solution"
      ]
    },
    {
      "cell_type": "markdown",
      "metadata": {
        "id": "NBJeyjwBbJmK"
      },
      "source": [
        "# Part A"
      ]
    },
    {
      "cell_type": "code",
      "execution_count": 9,
      "metadata": {
        "colab": {
          "base_uri": "https://localhost:8080/"
        },
        "id": "hk9xwBEVo0vc",
        "outputId": "deb0a664-7d28-4468-dbaa-84423bdcae07"
      },
      "outputs": [
        {
          "output_type": "stream",
          "name": "stdout",
          "text": [
            "Number of rows before removing 'Semer': 1885\n",
            "Number of rows after removing 'Semer': 1877\n"
          ]
        }
      ],
      "source": [
        "semers = df_d['Semer'] != 'CL0'#Finding cases where semer is positive\n",
        "semers.head(100)\n",
        "df_cleaned = df_d[~semers]#Creating df_cleaned\n",
        "\n",
        "#Seeing how many individuals before and after semer removal\n",
        "print(\"Number of rows before removing 'Semer':\", len(df_d))\n",
        "print(\"Number of rows after removing 'Semer':\", len(df_cleaned))"
      ]
    },
    {
      "cell_type": "code",
      "execution_count": 10,
      "metadata": {
        "id": "JeWokLqsIlcV"
      },
      "outputs": [],
      "source": [
        "demographics = [\"Age\",\"Gender\",\"Education\",\"Country\",\"Ethnicity\"] #Defining demographics"
      ]
    },
    {
      "cell_type": "code",
      "execution_count": 11,
      "metadata": {
        "id": "ZAu6J8JSXGPQ"
      },
      "outputs": [],
      "source": [
        "demographics_df = df_cleaned[demographics] #Making demographics df"
      ]
    },
    {
      "cell_type": "code",
      "execution_count": 12,
      "metadata": {
        "colab": {
          "base_uri": "https://localhost:8080/",
          "height": 419
        },
        "id": "3L_UE02qXwbX",
        "outputId": "e0ecdfe0-4702-41c4-e70d-189801c79fc0"
      },
      "outputs": [
        {
          "output_type": "execute_result",
          "data": {
            "text/plain": [
              "          Age   Gender  Education  Country  Ethnicity\n",
              "0     0.49788  0.48246   -0.05921  0.96082    0.12600\n",
              "1    -0.07854 -0.48246    1.98437  0.96082   -0.31685\n",
              "2     0.49788 -0.48246   -0.05921  0.96082   -0.31685\n",
              "3    -0.95197  0.48246    1.16365  0.96082   -0.31685\n",
              "4     0.49788  0.48246    1.98437  0.96082   -0.31685\n",
              "...       ...      ...        ...      ...        ...\n",
              "1880 -0.95197  0.48246   -0.61113 -0.57009   -0.31685\n",
              "1881 -0.95197 -0.48246   -0.61113 -0.57009   -0.31685\n",
              "1882 -0.07854  0.48246    0.45468 -0.57009   -0.31685\n",
              "1883 -0.95197  0.48246   -0.61113 -0.57009   -0.31685\n",
              "1884 -0.95197 -0.48246   -0.61113  0.21128   -0.31685\n",
              "\n",
              "[1877 rows x 5 columns]"
            ],
            "text/html": [
              "\n",
              "  <div id=\"df-d5bb98ed-0708-4548-bb16-c17a39a71daf\" class=\"colab-df-container\">\n",
              "    <div>\n",
              "<style scoped>\n",
              "    .dataframe tbody tr th:only-of-type {\n",
              "        vertical-align: middle;\n",
              "    }\n",
              "\n",
              "    .dataframe tbody tr th {\n",
              "        vertical-align: top;\n",
              "    }\n",
              "\n",
              "    .dataframe thead th {\n",
              "        text-align: right;\n",
              "    }\n",
              "</style>\n",
              "<table border=\"1\" class=\"dataframe\">\n",
              "  <thead>\n",
              "    <tr style=\"text-align: right;\">\n",
              "      <th></th>\n",
              "      <th>Age</th>\n",
              "      <th>Gender</th>\n",
              "      <th>Education</th>\n",
              "      <th>Country</th>\n",
              "      <th>Ethnicity</th>\n",
              "    </tr>\n",
              "  </thead>\n",
              "  <tbody>\n",
              "    <tr>\n",
              "      <th>0</th>\n",
              "      <td>0.49788</td>\n",
              "      <td>0.48246</td>\n",
              "      <td>-0.05921</td>\n",
              "      <td>0.96082</td>\n",
              "      <td>0.12600</td>\n",
              "    </tr>\n",
              "    <tr>\n",
              "      <th>1</th>\n",
              "      <td>-0.07854</td>\n",
              "      <td>-0.48246</td>\n",
              "      <td>1.98437</td>\n",
              "      <td>0.96082</td>\n",
              "      <td>-0.31685</td>\n",
              "    </tr>\n",
              "    <tr>\n",
              "      <th>2</th>\n",
              "      <td>0.49788</td>\n",
              "      <td>-0.48246</td>\n",
              "      <td>-0.05921</td>\n",
              "      <td>0.96082</td>\n",
              "      <td>-0.31685</td>\n",
              "    </tr>\n",
              "    <tr>\n",
              "      <th>3</th>\n",
              "      <td>-0.95197</td>\n",
              "      <td>0.48246</td>\n",
              "      <td>1.16365</td>\n",
              "      <td>0.96082</td>\n",
              "      <td>-0.31685</td>\n",
              "    </tr>\n",
              "    <tr>\n",
              "      <th>4</th>\n",
              "      <td>0.49788</td>\n",
              "      <td>0.48246</td>\n",
              "      <td>1.98437</td>\n",
              "      <td>0.96082</td>\n",
              "      <td>-0.31685</td>\n",
              "    </tr>\n",
              "    <tr>\n",
              "      <th>...</th>\n",
              "      <td>...</td>\n",
              "      <td>...</td>\n",
              "      <td>...</td>\n",
              "      <td>...</td>\n",
              "      <td>...</td>\n",
              "    </tr>\n",
              "    <tr>\n",
              "      <th>1880</th>\n",
              "      <td>-0.95197</td>\n",
              "      <td>0.48246</td>\n",
              "      <td>-0.61113</td>\n",
              "      <td>-0.57009</td>\n",
              "      <td>-0.31685</td>\n",
              "    </tr>\n",
              "    <tr>\n",
              "      <th>1881</th>\n",
              "      <td>-0.95197</td>\n",
              "      <td>-0.48246</td>\n",
              "      <td>-0.61113</td>\n",
              "      <td>-0.57009</td>\n",
              "      <td>-0.31685</td>\n",
              "    </tr>\n",
              "    <tr>\n",
              "      <th>1882</th>\n",
              "      <td>-0.07854</td>\n",
              "      <td>0.48246</td>\n",
              "      <td>0.45468</td>\n",
              "      <td>-0.57009</td>\n",
              "      <td>-0.31685</td>\n",
              "    </tr>\n",
              "    <tr>\n",
              "      <th>1883</th>\n",
              "      <td>-0.95197</td>\n",
              "      <td>0.48246</td>\n",
              "      <td>-0.61113</td>\n",
              "      <td>-0.57009</td>\n",
              "      <td>-0.31685</td>\n",
              "    </tr>\n",
              "    <tr>\n",
              "      <th>1884</th>\n",
              "      <td>-0.95197</td>\n",
              "      <td>-0.48246</td>\n",
              "      <td>-0.61113</td>\n",
              "      <td>0.21128</td>\n",
              "      <td>-0.31685</td>\n",
              "    </tr>\n",
              "  </tbody>\n",
              "</table>\n",
              "<p>1877 rows × 5 columns</p>\n",
              "</div>\n",
              "    <div class=\"colab-df-buttons\">\n",
              "\n",
              "  <div class=\"colab-df-container\">\n",
              "    <button class=\"colab-df-convert\" onclick=\"convertToInteractive('df-d5bb98ed-0708-4548-bb16-c17a39a71daf')\"\n",
              "            title=\"Convert this dataframe to an interactive table.\"\n",
              "            style=\"display:none;\">\n",
              "\n",
              "  <svg xmlns=\"http://www.w3.org/2000/svg\" height=\"24px\" viewBox=\"0 -960 960 960\">\n",
              "    <path d=\"M120-120v-720h720v720H120Zm60-500h600v-160H180v160Zm220 220h160v-160H400v160Zm0 220h160v-160H400v160ZM180-400h160v-160H180v160Zm440 0h160v-160H620v160ZM180-180h160v-160H180v160Zm440 0h160v-160H620v160Z\"/>\n",
              "  </svg>\n",
              "    </button>\n",
              "\n",
              "  <style>\n",
              "    .colab-df-container {\n",
              "      display:flex;\n",
              "      gap: 12px;\n",
              "    }\n",
              "\n",
              "    .colab-df-convert {\n",
              "      background-color: #E8F0FE;\n",
              "      border: none;\n",
              "      border-radius: 50%;\n",
              "      cursor: pointer;\n",
              "      display: none;\n",
              "      fill: #1967D2;\n",
              "      height: 32px;\n",
              "      padding: 0 0 0 0;\n",
              "      width: 32px;\n",
              "    }\n",
              "\n",
              "    .colab-df-convert:hover {\n",
              "      background-color: #E2EBFA;\n",
              "      box-shadow: 0px 1px 2px rgba(60, 64, 67, 0.3), 0px 1px 3px 1px rgba(60, 64, 67, 0.15);\n",
              "      fill: #174EA6;\n",
              "    }\n",
              "\n",
              "    .colab-df-buttons div {\n",
              "      margin-bottom: 4px;\n",
              "    }\n",
              "\n",
              "    [theme=dark] .colab-df-convert {\n",
              "      background-color: #3B4455;\n",
              "      fill: #D2E3FC;\n",
              "    }\n",
              "\n",
              "    [theme=dark] .colab-df-convert:hover {\n",
              "      background-color: #434B5C;\n",
              "      box-shadow: 0px 1px 3px 1px rgba(0, 0, 0, 0.15);\n",
              "      filter: drop-shadow(0px 1px 2px rgba(0, 0, 0, 0.3));\n",
              "      fill: #FFFFFF;\n",
              "    }\n",
              "  </style>\n",
              "\n",
              "    <script>\n",
              "      const buttonEl =\n",
              "        document.querySelector('#df-d5bb98ed-0708-4548-bb16-c17a39a71daf button.colab-df-convert');\n",
              "      buttonEl.style.display =\n",
              "        google.colab.kernel.accessAllowed ? 'block' : 'none';\n",
              "\n",
              "      async function convertToInteractive(key) {\n",
              "        const element = document.querySelector('#df-d5bb98ed-0708-4548-bb16-c17a39a71daf');\n",
              "        const dataTable =\n",
              "          await google.colab.kernel.invokeFunction('convertToInteractive',\n",
              "                                                    [key], {});\n",
              "        if (!dataTable) return;\n",
              "\n",
              "        const docLinkHtml = 'Like what you see? Visit the ' +\n",
              "          '<a target=\"_blank\" href=https://colab.research.google.com/notebooks/data_table.ipynb>data table notebook</a>'\n",
              "          + ' to learn more about interactive tables.';\n",
              "        element.innerHTML = '';\n",
              "        dataTable['output_type'] = 'display_data';\n",
              "        await google.colab.output.renderOutput(dataTable, element);\n",
              "        const docLink = document.createElement('div');\n",
              "        docLink.innerHTML = docLinkHtml;\n",
              "        element.appendChild(docLink);\n",
              "      }\n",
              "    </script>\n",
              "  </div>\n",
              "\n",
              "\n",
              "<div id=\"df-48a3983d-b696-47c8-abd4-d32b7683d6aa\">\n",
              "  <button class=\"colab-df-quickchart\" onclick=\"quickchart('df-48a3983d-b696-47c8-abd4-d32b7683d6aa')\"\n",
              "            title=\"Suggest charts\"\n",
              "            style=\"display:none;\">\n",
              "\n",
              "<svg xmlns=\"http://www.w3.org/2000/svg\" height=\"24px\"viewBox=\"0 0 24 24\"\n",
              "     width=\"24px\">\n",
              "    <g>\n",
              "        <path d=\"M19 3H5c-1.1 0-2 .9-2 2v14c0 1.1.9 2 2 2h14c1.1 0 2-.9 2-2V5c0-1.1-.9-2-2-2zM9 17H7v-7h2v7zm4 0h-2V7h2v10zm4 0h-2v-4h2v4z\"/>\n",
              "    </g>\n",
              "</svg>\n",
              "  </button>\n",
              "\n",
              "<style>\n",
              "  .colab-df-quickchart {\n",
              "      --bg-color: #E8F0FE;\n",
              "      --fill-color: #1967D2;\n",
              "      --hover-bg-color: #E2EBFA;\n",
              "      --hover-fill-color: #174EA6;\n",
              "      --disabled-fill-color: #AAA;\n",
              "      --disabled-bg-color: #DDD;\n",
              "  }\n",
              "\n",
              "  [theme=dark] .colab-df-quickchart {\n",
              "      --bg-color: #3B4455;\n",
              "      --fill-color: #D2E3FC;\n",
              "      --hover-bg-color: #434B5C;\n",
              "      --hover-fill-color: #FFFFFF;\n",
              "      --disabled-bg-color: #3B4455;\n",
              "      --disabled-fill-color: #666;\n",
              "  }\n",
              "\n",
              "  .colab-df-quickchart {\n",
              "    background-color: var(--bg-color);\n",
              "    border: none;\n",
              "    border-radius: 50%;\n",
              "    cursor: pointer;\n",
              "    display: none;\n",
              "    fill: var(--fill-color);\n",
              "    height: 32px;\n",
              "    padding: 0;\n",
              "    width: 32px;\n",
              "  }\n",
              "\n",
              "  .colab-df-quickchart:hover {\n",
              "    background-color: var(--hover-bg-color);\n",
              "    box-shadow: 0 1px 2px rgba(60, 64, 67, 0.3), 0 1px 3px 1px rgba(60, 64, 67, 0.15);\n",
              "    fill: var(--button-hover-fill-color);\n",
              "  }\n",
              "\n",
              "  .colab-df-quickchart-complete:disabled,\n",
              "  .colab-df-quickchart-complete:disabled:hover {\n",
              "    background-color: var(--disabled-bg-color);\n",
              "    fill: var(--disabled-fill-color);\n",
              "    box-shadow: none;\n",
              "  }\n",
              "\n",
              "  .colab-df-spinner {\n",
              "    border: 2px solid var(--fill-color);\n",
              "    border-color: transparent;\n",
              "    border-bottom-color: var(--fill-color);\n",
              "    animation:\n",
              "      spin 1s steps(1) infinite;\n",
              "  }\n",
              "\n",
              "  @keyframes spin {\n",
              "    0% {\n",
              "      border-color: transparent;\n",
              "      border-bottom-color: var(--fill-color);\n",
              "      border-left-color: var(--fill-color);\n",
              "    }\n",
              "    20% {\n",
              "      border-color: transparent;\n",
              "      border-left-color: var(--fill-color);\n",
              "      border-top-color: var(--fill-color);\n",
              "    }\n",
              "    30% {\n",
              "      border-color: transparent;\n",
              "      border-left-color: var(--fill-color);\n",
              "      border-top-color: var(--fill-color);\n",
              "      border-right-color: var(--fill-color);\n",
              "    }\n",
              "    40% {\n",
              "      border-color: transparent;\n",
              "      border-right-color: var(--fill-color);\n",
              "      border-top-color: var(--fill-color);\n",
              "    }\n",
              "    60% {\n",
              "      border-color: transparent;\n",
              "      border-right-color: var(--fill-color);\n",
              "    }\n",
              "    80% {\n",
              "      border-color: transparent;\n",
              "      border-right-color: var(--fill-color);\n",
              "      border-bottom-color: var(--fill-color);\n",
              "    }\n",
              "    90% {\n",
              "      border-color: transparent;\n",
              "      border-bottom-color: var(--fill-color);\n",
              "    }\n",
              "  }\n",
              "</style>\n",
              "\n",
              "  <script>\n",
              "    async function quickchart(key) {\n",
              "      const quickchartButtonEl =\n",
              "        document.querySelector('#' + key + ' button');\n",
              "      quickchartButtonEl.disabled = true;  // To prevent multiple clicks.\n",
              "      quickchartButtonEl.classList.add('colab-df-spinner');\n",
              "      try {\n",
              "        const charts = await google.colab.kernel.invokeFunction(\n",
              "            'suggestCharts', [key], {});\n",
              "      } catch (error) {\n",
              "        console.error('Error during call to suggestCharts:', error);\n",
              "      }\n",
              "      quickchartButtonEl.classList.remove('colab-df-spinner');\n",
              "      quickchartButtonEl.classList.add('colab-df-quickchart-complete');\n",
              "    }\n",
              "    (() => {\n",
              "      let quickchartButtonEl =\n",
              "        document.querySelector('#df-48a3983d-b696-47c8-abd4-d32b7683d6aa button');\n",
              "      quickchartButtonEl.style.display =\n",
              "        google.colab.kernel.accessAllowed ? 'block' : 'none';\n",
              "    })();\n",
              "  </script>\n",
              "</div>\n",
              "\n",
              "  <div id=\"id_fdcdac66-b645-42d6-90e1-1afecf6f905b\">\n",
              "    <style>\n",
              "      .colab-df-generate {\n",
              "        background-color: #E8F0FE;\n",
              "        border: none;\n",
              "        border-radius: 50%;\n",
              "        cursor: pointer;\n",
              "        display: none;\n",
              "        fill: #1967D2;\n",
              "        height: 32px;\n",
              "        padding: 0 0 0 0;\n",
              "        width: 32px;\n",
              "      }\n",
              "\n",
              "      .colab-df-generate:hover {\n",
              "        background-color: #E2EBFA;\n",
              "        box-shadow: 0px 1px 2px rgba(60, 64, 67, 0.3), 0px 1px 3px 1px rgba(60, 64, 67, 0.15);\n",
              "        fill: #174EA6;\n",
              "      }\n",
              "\n",
              "      [theme=dark] .colab-df-generate {\n",
              "        background-color: #3B4455;\n",
              "        fill: #D2E3FC;\n",
              "      }\n",
              "\n",
              "      [theme=dark] .colab-df-generate:hover {\n",
              "        background-color: #434B5C;\n",
              "        box-shadow: 0px 1px 3px 1px rgba(0, 0, 0, 0.15);\n",
              "        filter: drop-shadow(0px 1px 2px rgba(0, 0, 0, 0.3));\n",
              "        fill: #FFFFFF;\n",
              "      }\n",
              "    </style>\n",
              "    <button class=\"colab-df-generate\" onclick=\"generateWithVariable('demographics_df')\"\n",
              "            title=\"Generate code using this dataframe.\"\n",
              "            style=\"display:none;\">\n",
              "\n",
              "  <svg xmlns=\"http://www.w3.org/2000/svg\" height=\"24px\"viewBox=\"0 0 24 24\"\n",
              "       width=\"24px\">\n",
              "    <path d=\"M7,19H8.4L18.45,9,17,7.55,7,17.6ZM5,21V16.75L18.45,3.32a2,2,0,0,1,2.83,0l1.4,1.43a1.91,1.91,0,0,1,.58,1.4,1.91,1.91,0,0,1-.58,1.4L9.25,21ZM18.45,9,17,7.55Zm-12,3A5.31,5.31,0,0,0,4.9,8.1,5.31,5.31,0,0,0,1,6.5,5.31,5.31,0,0,0,4.9,4.9,5.31,5.31,0,0,0,6.5,1,5.31,5.31,0,0,0,8.1,4.9,5.31,5.31,0,0,0,12,6.5,5.46,5.46,0,0,0,6.5,12Z\"/>\n",
              "  </svg>\n",
              "    </button>\n",
              "    <script>\n",
              "      (() => {\n",
              "      const buttonEl =\n",
              "        document.querySelector('#id_fdcdac66-b645-42d6-90e1-1afecf6f905b button.colab-df-generate');\n",
              "      buttonEl.style.display =\n",
              "        google.colab.kernel.accessAllowed ? 'block' : 'none';\n",
              "\n",
              "      buttonEl.onclick = () => {\n",
              "        google.colab.notebook.generateWithVariable('demographics_df');\n",
              "      }\n",
              "      })();\n",
              "    </script>\n",
              "  </div>\n",
              "\n",
              "    </div>\n",
              "  </div>\n"
            ],
            "application/vnd.google.colaboratory.intrinsic+json": {
              "type": "dataframe",
              "variable_name": "demographics_df",
              "summary": "{\n  \"name\": \"demographics_df\",\n  \"rows\": 1877,\n  \"fields\": [\n    {\n      \"column\": \"Age\",\n      \"properties\": {\n        \"dtype\": \"number\",\n        \"std\": 0.8783870710919457,\n        \"min\": -0.95197,\n        \"max\": 2.59171,\n        \"num_unique_values\": 6,\n        \"samples\": [\n          0.49788,\n          -0.07854,\n          1.82213\n        ],\n        \"semantic_type\": \"\",\n        \"description\": \"\"\n      }\n    },\n    {\n      \"column\": \"Gender\",\n      \"properties\": {\n        \"dtype\": \"number\",\n        \"std\": 0.48258795389067743,\n        \"min\": -0.48246,\n        \"max\": 0.48246,\n        \"num_unique_values\": 2,\n        \"samples\": [\n          -0.48246,\n          0.48246\n        ],\n        \"semantic_type\": \"\",\n        \"description\": \"\"\n      }\n    },\n    {\n      \"column\": \"Education\",\n      \"properties\": {\n        \"dtype\": \"number\",\n        \"std\": 0.9498314039144801,\n        \"min\": -2.43591,\n        \"max\": 1.98437,\n        \"num_unique_values\": 9,\n        \"samples\": [\n          -2.43591,\n          1.98437\n        ],\n        \"semantic_type\": \"\",\n        \"description\": \"\"\n      }\n    },\n    {\n      \"column\": \"Country\",\n      \"properties\": {\n        \"dtype\": \"number\",\n        \"std\": 0.6997068755158236,\n        \"min\": -0.57009,\n        \"max\": 0.96082,\n        \"num_unique_values\": 7,\n        \"samples\": [\n          0.96082,\n          0.24923\n        ],\n        \"semantic_type\": \"\",\n        \"description\": \"\"\n      }\n    },\n    {\n      \"column\": \"Ethnicity\",\n      \"properties\": {\n        \"dtype\": \"number\",\n        \"std\": 0.1662196872122343,\n        \"min\": -1.10702,\n        \"max\": 1.90725,\n        \"num_unique_values\": 7,\n        \"samples\": [\n          0.126,\n          -0.31685\n        ],\n        \"semantic_type\": \"\",\n        \"description\": \"\"\n      }\n    }\n  ]\n}"
            }
          },
          "metadata": {},
          "execution_count": 12
        }
      ],
      "source": [
        "demographics_df #Printing demographics df"
      ]
    },
    {
      "cell_type": "code",
      "execution_count": 13,
      "metadata": {
        "id": "U6v5PvD1YtSa"
      },
      "outputs": [],
      "source": [
        "personalities = [\"Nscore\",\"Escore\",\"Oscore\",\"Ascore\",\"Cscore\"] #Defining personalities"
      ]
    },
    {
      "cell_type": "code",
      "execution_count": 14,
      "metadata": {
        "id": "Wep_9nRDZttF"
      },
      "outputs": [],
      "source": [
        "personality_df = df_cleaned[personalities] #Making personalities df"
      ]
    },
    {
      "cell_type": "code",
      "execution_count": 15,
      "metadata": {
        "colab": {
          "base_uri": "https://localhost:8080/",
          "height": 419
        },
        "id": "O0b4he8UZ3O1",
        "outputId": "08b73ee5-8197-497c-b0fc-1a59e4ced0c8"
      },
      "outputs": [
        {
          "output_type": "execute_result",
          "data": {
            "text/plain": [
              "       Nscore   Escore   Oscore   Ascore   Cscore\n",
              "0     0.31287 -0.57545 -0.58331 -0.91699 -0.00665\n",
              "1    -0.67825  1.93886  1.43533  0.76096 -0.14277\n",
              "2    -0.46725  0.80523 -0.84732 -1.62090 -1.01450\n",
              "3    -0.14882 -0.80615 -0.01928  0.59042  0.58489\n",
              "4     0.73545 -1.63340 -0.45174 -0.30172  1.30612\n",
              "...       ...      ...      ...      ...      ...\n",
              "1880 -1.19430  1.74091  1.88511  0.76096 -1.13788\n",
              "1881 -0.24649  1.74091  0.58331  0.76096 -1.51840\n",
              "1882  1.13281 -1.37639 -1.27553 -1.77200 -1.38502\n",
              "1883  0.91093 -1.92173  0.29338 -1.62090 -2.57309\n",
              "1884 -0.46725  2.12700  1.65653  1.11406  0.41594\n",
              "\n",
              "[1877 rows x 5 columns]"
            ],
            "text/html": [
              "\n",
              "  <div id=\"df-e39990ac-9f03-489d-a4c7-e707e1956ddf\" class=\"colab-df-container\">\n",
              "    <div>\n",
              "<style scoped>\n",
              "    .dataframe tbody tr th:only-of-type {\n",
              "        vertical-align: middle;\n",
              "    }\n",
              "\n",
              "    .dataframe tbody tr th {\n",
              "        vertical-align: top;\n",
              "    }\n",
              "\n",
              "    .dataframe thead th {\n",
              "        text-align: right;\n",
              "    }\n",
              "</style>\n",
              "<table border=\"1\" class=\"dataframe\">\n",
              "  <thead>\n",
              "    <tr style=\"text-align: right;\">\n",
              "      <th></th>\n",
              "      <th>Nscore</th>\n",
              "      <th>Escore</th>\n",
              "      <th>Oscore</th>\n",
              "      <th>Ascore</th>\n",
              "      <th>Cscore</th>\n",
              "    </tr>\n",
              "  </thead>\n",
              "  <tbody>\n",
              "    <tr>\n",
              "      <th>0</th>\n",
              "      <td>0.31287</td>\n",
              "      <td>-0.57545</td>\n",
              "      <td>-0.58331</td>\n",
              "      <td>-0.91699</td>\n",
              "      <td>-0.00665</td>\n",
              "    </tr>\n",
              "    <tr>\n",
              "      <th>1</th>\n",
              "      <td>-0.67825</td>\n",
              "      <td>1.93886</td>\n",
              "      <td>1.43533</td>\n",
              "      <td>0.76096</td>\n",
              "      <td>-0.14277</td>\n",
              "    </tr>\n",
              "    <tr>\n",
              "      <th>2</th>\n",
              "      <td>-0.46725</td>\n",
              "      <td>0.80523</td>\n",
              "      <td>-0.84732</td>\n",
              "      <td>-1.62090</td>\n",
              "      <td>-1.01450</td>\n",
              "    </tr>\n",
              "    <tr>\n",
              "      <th>3</th>\n",
              "      <td>-0.14882</td>\n",
              "      <td>-0.80615</td>\n",
              "      <td>-0.01928</td>\n",
              "      <td>0.59042</td>\n",
              "      <td>0.58489</td>\n",
              "    </tr>\n",
              "    <tr>\n",
              "      <th>4</th>\n",
              "      <td>0.73545</td>\n",
              "      <td>-1.63340</td>\n",
              "      <td>-0.45174</td>\n",
              "      <td>-0.30172</td>\n",
              "      <td>1.30612</td>\n",
              "    </tr>\n",
              "    <tr>\n",
              "      <th>...</th>\n",
              "      <td>...</td>\n",
              "      <td>...</td>\n",
              "      <td>...</td>\n",
              "      <td>...</td>\n",
              "      <td>...</td>\n",
              "    </tr>\n",
              "    <tr>\n",
              "      <th>1880</th>\n",
              "      <td>-1.19430</td>\n",
              "      <td>1.74091</td>\n",
              "      <td>1.88511</td>\n",
              "      <td>0.76096</td>\n",
              "      <td>-1.13788</td>\n",
              "    </tr>\n",
              "    <tr>\n",
              "      <th>1881</th>\n",
              "      <td>-0.24649</td>\n",
              "      <td>1.74091</td>\n",
              "      <td>0.58331</td>\n",
              "      <td>0.76096</td>\n",
              "      <td>-1.51840</td>\n",
              "    </tr>\n",
              "    <tr>\n",
              "      <th>1882</th>\n",
              "      <td>1.13281</td>\n",
              "      <td>-1.37639</td>\n",
              "      <td>-1.27553</td>\n",
              "      <td>-1.77200</td>\n",
              "      <td>-1.38502</td>\n",
              "    </tr>\n",
              "    <tr>\n",
              "      <th>1883</th>\n",
              "      <td>0.91093</td>\n",
              "      <td>-1.92173</td>\n",
              "      <td>0.29338</td>\n",
              "      <td>-1.62090</td>\n",
              "      <td>-2.57309</td>\n",
              "    </tr>\n",
              "    <tr>\n",
              "      <th>1884</th>\n",
              "      <td>-0.46725</td>\n",
              "      <td>2.12700</td>\n",
              "      <td>1.65653</td>\n",
              "      <td>1.11406</td>\n",
              "      <td>0.41594</td>\n",
              "    </tr>\n",
              "  </tbody>\n",
              "</table>\n",
              "<p>1877 rows × 5 columns</p>\n",
              "</div>\n",
              "    <div class=\"colab-df-buttons\">\n",
              "\n",
              "  <div class=\"colab-df-container\">\n",
              "    <button class=\"colab-df-convert\" onclick=\"convertToInteractive('df-e39990ac-9f03-489d-a4c7-e707e1956ddf')\"\n",
              "            title=\"Convert this dataframe to an interactive table.\"\n",
              "            style=\"display:none;\">\n",
              "\n",
              "  <svg xmlns=\"http://www.w3.org/2000/svg\" height=\"24px\" viewBox=\"0 -960 960 960\">\n",
              "    <path d=\"M120-120v-720h720v720H120Zm60-500h600v-160H180v160Zm220 220h160v-160H400v160Zm0 220h160v-160H400v160ZM180-400h160v-160H180v160Zm440 0h160v-160H620v160ZM180-180h160v-160H180v160Zm440 0h160v-160H620v160Z\"/>\n",
              "  </svg>\n",
              "    </button>\n",
              "\n",
              "  <style>\n",
              "    .colab-df-container {\n",
              "      display:flex;\n",
              "      gap: 12px;\n",
              "    }\n",
              "\n",
              "    .colab-df-convert {\n",
              "      background-color: #E8F0FE;\n",
              "      border: none;\n",
              "      border-radius: 50%;\n",
              "      cursor: pointer;\n",
              "      display: none;\n",
              "      fill: #1967D2;\n",
              "      height: 32px;\n",
              "      padding: 0 0 0 0;\n",
              "      width: 32px;\n",
              "    }\n",
              "\n",
              "    .colab-df-convert:hover {\n",
              "      background-color: #E2EBFA;\n",
              "      box-shadow: 0px 1px 2px rgba(60, 64, 67, 0.3), 0px 1px 3px 1px rgba(60, 64, 67, 0.15);\n",
              "      fill: #174EA6;\n",
              "    }\n",
              "\n",
              "    .colab-df-buttons div {\n",
              "      margin-bottom: 4px;\n",
              "    }\n",
              "\n",
              "    [theme=dark] .colab-df-convert {\n",
              "      background-color: #3B4455;\n",
              "      fill: #D2E3FC;\n",
              "    }\n",
              "\n",
              "    [theme=dark] .colab-df-convert:hover {\n",
              "      background-color: #434B5C;\n",
              "      box-shadow: 0px 1px 3px 1px rgba(0, 0, 0, 0.15);\n",
              "      filter: drop-shadow(0px 1px 2px rgba(0, 0, 0, 0.3));\n",
              "      fill: #FFFFFF;\n",
              "    }\n",
              "  </style>\n",
              "\n",
              "    <script>\n",
              "      const buttonEl =\n",
              "        document.querySelector('#df-e39990ac-9f03-489d-a4c7-e707e1956ddf button.colab-df-convert');\n",
              "      buttonEl.style.display =\n",
              "        google.colab.kernel.accessAllowed ? 'block' : 'none';\n",
              "\n",
              "      async function convertToInteractive(key) {\n",
              "        const element = document.querySelector('#df-e39990ac-9f03-489d-a4c7-e707e1956ddf');\n",
              "        const dataTable =\n",
              "          await google.colab.kernel.invokeFunction('convertToInteractive',\n",
              "                                                    [key], {});\n",
              "        if (!dataTable) return;\n",
              "\n",
              "        const docLinkHtml = 'Like what you see? Visit the ' +\n",
              "          '<a target=\"_blank\" href=https://colab.research.google.com/notebooks/data_table.ipynb>data table notebook</a>'\n",
              "          + ' to learn more about interactive tables.';\n",
              "        element.innerHTML = '';\n",
              "        dataTable['output_type'] = 'display_data';\n",
              "        await google.colab.output.renderOutput(dataTable, element);\n",
              "        const docLink = document.createElement('div');\n",
              "        docLink.innerHTML = docLinkHtml;\n",
              "        element.appendChild(docLink);\n",
              "      }\n",
              "    </script>\n",
              "  </div>\n",
              "\n",
              "\n",
              "<div id=\"df-61a33805-187b-4b0f-8679-7dccafe0776d\">\n",
              "  <button class=\"colab-df-quickchart\" onclick=\"quickchart('df-61a33805-187b-4b0f-8679-7dccafe0776d')\"\n",
              "            title=\"Suggest charts\"\n",
              "            style=\"display:none;\">\n",
              "\n",
              "<svg xmlns=\"http://www.w3.org/2000/svg\" height=\"24px\"viewBox=\"0 0 24 24\"\n",
              "     width=\"24px\">\n",
              "    <g>\n",
              "        <path d=\"M19 3H5c-1.1 0-2 .9-2 2v14c0 1.1.9 2 2 2h14c1.1 0 2-.9 2-2V5c0-1.1-.9-2-2-2zM9 17H7v-7h2v7zm4 0h-2V7h2v10zm4 0h-2v-4h2v4z\"/>\n",
              "    </g>\n",
              "</svg>\n",
              "  </button>\n",
              "\n",
              "<style>\n",
              "  .colab-df-quickchart {\n",
              "      --bg-color: #E8F0FE;\n",
              "      --fill-color: #1967D2;\n",
              "      --hover-bg-color: #E2EBFA;\n",
              "      --hover-fill-color: #174EA6;\n",
              "      --disabled-fill-color: #AAA;\n",
              "      --disabled-bg-color: #DDD;\n",
              "  }\n",
              "\n",
              "  [theme=dark] .colab-df-quickchart {\n",
              "      --bg-color: #3B4455;\n",
              "      --fill-color: #D2E3FC;\n",
              "      --hover-bg-color: #434B5C;\n",
              "      --hover-fill-color: #FFFFFF;\n",
              "      --disabled-bg-color: #3B4455;\n",
              "      --disabled-fill-color: #666;\n",
              "  }\n",
              "\n",
              "  .colab-df-quickchart {\n",
              "    background-color: var(--bg-color);\n",
              "    border: none;\n",
              "    border-radius: 50%;\n",
              "    cursor: pointer;\n",
              "    display: none;\n",
              "    fill: var(--fill-color);\n",
              "    height: 32px;\n",
              "    padding: 0;\n",
              "    width: 32px;\n",
              "  }\n",
              "\n",
              "  .colab-df-quickchart:hover {\n",
              "    background-color: var(--hover-bg-color);\n",
              "    box-shadow: 0 1px 2px rgba(60, 64, 67, 0.3), 0 1px 3px 1px rgba(60, 64, 67, 0.15);\n",
              "    fill: var(--button-hover-fill-color);\n",
              "  }\n",
              "\n",
              "  .colab-df-quickchart-complete:disabled,\n",
              "  .colab-df-quickchart-complete:disabled:hover {\n",
              "    background-color: var(--disabled-bg-color);\n",
              "    fill: var(--disabled-fill-color);\n",
              "    box-shadow: none;\n",
              "  }\n",
              "\n",
              "  .colab-df-spinner {\n",
              "    border: 2px solid var(--fill-color);\n",
              "    border-color: transparent;\n",
              "    border-bottom-color: var(--fill-color);\n",
              "    animation:\n",
              "      spin 1s steps(1) infinite;\n",
              "  }\n",
              "\n",
              "  @keyframes spin {\n",
              "    0% {\n",
              "      border-color: transparent;\n",
              "      border-bottom-color: var(--fill-color);\n",
              "      border-left-color: var(--fill-color);\n",
              "    }\n",
              "    20% {\n",
              "      border-color: transparent;\n",
              "      border-left-color: var(--fill-color);\n",
              "      border-top-color: var(--fill-color);\n",
              "    }\n",
              "    30% {\n",
              "      border-color: transparent;\n",
              "      border-left-color: var(--fill-color);\n",
              "      border-top-color: var(--fill-color);\n",
              "      border-right-color: var(--fill-color);\n",
              "    }\n",
              "    40% {\n",
              "      border-color: transparent;\n",
              "      border-right-color: var(--fill-color);\n",
              "      border-top-color: var(--fill-color);\n",
              "    }\n",
              "    60% {\n",
              "      border-color: transparent;\n",
              "      border-right-color: var(--fill-color);\n",
              "    }\n",
              "    80% {\n",
              "      border-color: transparent;\n",
              "      border-right-color: var(--fill-color);\n",
              "      border-bottom-color: var(--fill-color);\n",
              "    }\n",
              "    90% {\n",
              "      border-color: transparent;\n",
              "      border-bottom-color: var(--fill-color);\n",
              "    }\n",
              "  }\n",
              "</style>\n",
              "\n",
              "  <script>\n",
              "    async function quickchart(key) {\n",
              "      const quickchartButtonEl =\n",
              "        document.querySelector('#' + key + ' button');\n",
              "      quickchartButtonEl.disabled = true;  // To prevent multiple clicks.\n",
              "      quickchartButtonEl.classList.add('colab-df-spinner');\n",
              "      try {\n",
              "        const charts = await google.colab.kernel.invokeFunction(\n",
              "            'suggestCharts', [key], {});\n",
              "      } catch (error) {\n",
              "        console.error('Error during call to suggestCharts:', error);\n",
              "      }\n",
              "      quickchartButtonEl.classList.remove('colab-df-spinner');\n",
              "      quickchartButtonEl.classList.add('colab-df-quickchart-complete');\n",
              "    }\n",
              "    (() => {\n",
              "      let quickchartButtonEl =\n",
              "        document.querySelector('#df-61a33805-187b-4b0f-8679-7dccafe0776d button');\n",
              "      quickchartButtonEl.style.display =\n",
              "        google.colab.kernel.accessAllowed ? 'block' : 'none';\n",
              "    })();\n",
              "  </script>\n",
              "</div>\n",
              "\n",
              "  <div id=\"id_f8b416c8-41c4-4e28-96b1-2cda8f81b9d5\">\n",
              "    <style>\n",
              "      .colab-df-generate {\n",
              "        background-color: #E8F0FE;\n",
              "        border: none;\n",
              "        border-radius: 50%;\n",
              "        cursor: pointer;\n",
              "        display: none;\n",
              "        fill: #1967D2;\n",
              "        height: 32px;\n",
              "        padding: 0 0 0 0;\n",
              "        width: 32px;\n",
              "      }\n",
              "\n",
              "      .colab-df-generate:hover {\n",
              "        background-color: #E2EBFA;\n",
              "        box-shadow: 0px 1px 2px rgba(60, 64, 67, 0.3), 0px 1px 3px 1px rgba(60, 64, 67, 0.15);\n",
              "        fill: #174EA6;\n",
              "      }\n",
              "\n",
              "      [theme=dark] .colab-df-generate {\n",
              "        background-color: #3B4455;\n",
              "        fill: #D2E3FC;\n",
              "      }\n",
              "\n",
              "      [theme=dark] .colab-df-generate:hover {\n",
              "        background-color: #434B5C;\n",
              "        box-shadow: 0px 1px 3px 1px rgba(0, 0, 0, 0.15);\n",
              "        filter: drop-shadow(0px 1px 2px rgba(0, 0, 0, 0.3));\n",
              "        fill: #FFFFFF;\n",
              "      }\n",
              "    </style>\n",
              "    <button class=\"colab-df-generate\" onclick=\"generateWithVariable('personality_df')\"\n",
              "            title=\"Generate code using this dataframe.\"\n",
              "            style=\"display:none;\">\n",
              "\n",
              "  <svg xmlns=\"http://www.w3.org/2000/svg\" height=\"24px\"viewBox=\"0 0 24 24\"\n",
              "       width=\"24px\">\n",
              "    <path d=\"M7,19H8.4L18.45,9,17,7.55,7,17.6ZM5,21V16.75L18.45,3.32a2,2,0,0,1,2.83,0l1.4,1.43a1.91,1.91,0,0,1,.58,1.4,1.91,1.91,0,0,1-.58,1.4L9.25,21ZM18.45,9,17,7.55Zm-12,3A5.31,5.31,0,0,0,4.9,8.1,5.31,5.31,0,0,0,1,6.5,5.31,5.31,0,0,0,4.9,4.9,5.31,5.31,0,0,0,6.5,1,5.31,5.31,0,0,0,8.1,4.9,5.31,5.31,0,0,0,12,6.5,5.46,5.46,0,0,0,6.5,12Z\"/>\n",
              "  </svg>\n",
              "    </button>\n",
              "    <script>\n",
              "      (() => {\n",
              "      const buttonEl =\n",
              "        document.querySelector('#id_f8b416c8-41c4-4e28-96b1-2cda8f81b9d5 button.colab-df-generate');\n",
              "      buttonEl.style.display =\n",
              "        google.colab.kernel.accessAllowed ? 'block' : 'none';\n",
              "\n",
              "      buttonEl.onclick = () => {\n",
              "        google.colab.notebook.generateWithVariable('personality_df');\n",
              "      }\n",
              "      })();\n",
              "    </script>\n",
              "  </div>\n",
              "\n",
              "    </div>\n",
              "  </div>\n"
            ],
            "application/vnd.google.colaboratory.intrinsic+json": {
              "type": "dataframe",
              "variable_name": "personality_df",
              "summary": "{\n  \"name\": \"personality_df\",\n  \"rows\": 1877,\n  \"fields\": [\n    {\n      \"column\": \"Nscore\",\n      \"properties\": {\n        \"dtype\": \"number\",\n        \"std\": 0.9984424015890592,\n        \"min\": -3.46436,\n        \"max\": 3.27393,\n        \"num_unique_values\": 49,\n        \"samples\": [\n          -1.55078,\n          -2.75696,\n          -3.15735\n        ],\n        \"semantic_type\": \"\",\n        \"description\": \"\"\n      }\n    },\n    {\n      \"column\": \"Escore\",\n      \"properties\": {\n        \"dtype\": \"number\",\n        \"std\": 0.9974175428812042,\n        \"min\": -3.27393,\n        \"max\": 3.27393,\n        \"num_unique_values\": 42,\n        \"samples\": [\n          -0.69509,\n          -0.15487,\n          0.00332\n        ],\n        \"semantic_type\": \"\",\n        \"description\": \"\"\n      }\n    },\n    {\n      \"column\": \"Oscore\",\n      \"properties\": {\n        \"dtype\": \"number\",\n        \"std\": 0.9956909325477022,\n        \"min\": -3.27393,\n        \"max\": 2.90161,\n        \"num_unique_values\": 35,\n        \"samples\": [\n          -2.8595,\n          -0.17779,\n          -1.97495\n        ],\n        \"semantic_type\": \"\",\n        \"description\": \"\"\n      }\n    },\n    {\n      \"column\": \"Ascore\",\n      \"properties\": {\n        \"dtype\": \"number\",\n        \"std\": 0.9966886106237567,\n        \"min\": -3.46436,\n        \"max\": 3.46436,\n        \"num_unique_values\": 41,\n        \"samples\": [\n          -1.21213,\n          1.61108,\n          0.94156\n        ],\n        \"semantic_type\": \"\",\n        \"description\": \"\"\n      }\n    },\n    {\n      \"column\": \"Cscore\",\n      \"properties\": {\n        \"dtype\": \"number\",\n        \"std\": 0.9976570683774201,\n        \"min\": -3.46436,\n        \"max\": 3.46436,\n        \"num_unique_values\": 41,\n        \"samples\": [\n          -1.92173,\n          0.7583,\n          0.12331\n        ],\n        \"semantic_type\": \"\",\n        \"description\": \"\"\n      }\n    }\n  ]\n}"
            }
          },
          "metadata": {},
          "execution_count": 15
        }
      ],
      "source": [
        "personality_df #Printing personalities df"
      ]
    },
    {
      "cell_type": "code",
      "execution_count": 16,
      "metadata": {
        "id": "AI7QX8HaZ4eO"
      },
      "outputs": [],
      "source": [
        "risk_seeking = [\"Impulsive\",\"SS\"] #Defining risk seeking"
      ]
    },
    {
      "cell_type": "code",
      "execution_count": 17,
      "metadata": {
        "id": "siZdCbIya_0a"
      },
      "outputs": [],
      "source": [
        "risk_seeking_df = df_cleaned[risk_seeking] #Making risk seeking dataframe"
      ]
    },
    {
      "cell_type": "code",
      "execution_count": 18,
      "metadata": {
        "colab": {
          "base_uri": "https://localhost:8080/",
          "height": 419
        },
        "id": "DojpWiVAbFmr",
        "outputId": "8dd24c54-e6a0-4d01-b526-2d6e2edc43c9"
      },
      "outputs": [
        {
          "output_type": "execute_result",
          "data": {
            "text/plain": [
              "      Impulsive       SS\n",
              "0      -0.21712 -1.18084\n",
              "1      -0.71126 -0.21575\n",
              "2      -1.37983  0.40148\n",
              "3      -1.37983 -1.18084\n",
              "4      -0.21712 -0.21575\n",
              "...         ...      ...\n",
              "1880    0.88113  1.92173\n",
              "1881    0.88113  0.76540\n",
              "1882    0.52975 -0.52593\n",
              "1883    1.29221  1.22470\n",
              "1884    0.88113  1.22470\n",
              "\n",
              "[1877 rows x 2 columns]"
            ],
            "text/html": [
              "\n",
              "  <div id=\"df-b63c0dab-ec9a-4fce-a9f1-7ac7eb4acd16\" class=\"colab-df-container\">\n",
              "    <div>\n",
              "<style scoped>\n",
              "    .dataframe tbody tr th:only-of-type {\n",
              "        vertical-align: middle;\n",
              "    }\n",
              "\n",
              "    .dataframe tbody tr th {\n",
              "        vertical-align: top;\n",
              "    }\n",
              "\n",
              "    .dataframe thead th {\n",
              "        text-align: right;\n",
              "    }\n",
              "</style>\n",
              "<table border=\"1\" class=\"dataframe\">\n",
              "  <thead>\n",
              "    <tr style=\"text-align: right;\">\n",
              "      <th></th>\n",
              "      <th>Impulsive</th>\n",
              "      <th>SS</th>\n",
              "    </tr>\n",
              "  </thead>\n",
              "  <tbody>\n",
              "    <tr>\n",
              "      <th>0</th>\n",
              "      <td>-0.21712</td>\n",
              "      <td>-1.18084</td>\n",
              "    </tr>\n",
              "    <tr>\n",
              "      <th>1</th>\n",
              "      <td>-0.71126</td>\n",
              "      <td>-0.21575</td>\n",
              "    </tr>\n",
              "    <tr>\n",
              "      <th>2</th>\n",
              "      <td>-1.37983</td>\n",
              "      <td>0.40148</td>\n",
              "    </tr>\n",
              "    <tr>\n",
              "      <th>3</th>\n",
              "      <td>-1.37983</td>\n",
              "      <td>-1.18084</td>\n",
              "    </tr>\n",
              "    <tr>\n",
              "      <th>4</th>\n",
              "      <td>-0.21712</td>\n",
              "      <td>-0.21575</td>\n",
              "    </tr>\n",
              "    <tr>\n",
              "      <th>...</th>\n",
              "      <td>...</td>\n",
              "      <td>...</td>\n",
              "    </tr>\n",
              "    <tr>\n",
              "      <th>1880</th>\n",
              "      <td>0.88113</td>\n",
              "      <td>1.92173</td>\n",
              "    </tr>\n",
              "    <tr>\n",
              "      <th>1881</th>\n",
              "      <td>0.88113</td>\n",
              "      <td>0.76540</td>\n",
              "    </tr>\n",
              "    <tr>\n",
              "      <th>1882</th>\n",
              "      <td>0.52975</td>\n",
              "      <td>-0.52593</td>\n",
              "    </tr>\n",
              "    <tr>\n",
              "      <th>1883</th>\n",
              "      <td>1.29221</td>\n",
              "      <td>1.22470</td>\n",
              "    </tr>\n",
              "    <tr>\n",
              "      <th>1884</th>\n",
              "      <td>0.88113</td>\n",
              "      <td>1.22470</td>\n",
              "    </tr>\n",
              "  </tbody>\n",
              "</table>\n",
              "<p>1877 rows × 2 columns</p>\n",
              "</div>\n",
              "    <div class=\"colab-df-buttons\">\n",
              "\n",
              "  <div class=\"colab-df-container\">\n",
              "    <button class=\"colab-df-convert\" onclick=\"convertToInteractive('df-b63c0dab-ec9a-4fce-a9f1-7ac7eb4acd16')\"\n",
              "            title=\"Convert this dataframe to an interactive table.\"\n",
              "            style=\"display:none;\">\n",
              "\n",
              "  <svg xmlns=\"http://www.w3.org/2000/svg\" height=\"24px\" viewBox=\"0 -960 960 960\">\n",
              "    <path d=\"M120-120v-720h720v720H120Zm60-500h600v-160H180v160Zm220 220h160v-160H400v160Zm0 220h160v-160H400v160ZM180-400h160v-160H180v160Zm440 0h160v-160H620v160ZM180-180h160v-160H180v160Zm440 0h160v-160H620v160Z\"/>\n",
              "  </svg>\n",
              "    </button>\n",
              "\n",
              "  <style>\n",
              "    .colab-df-container {\n",
              "      display:flex;\n",
              "      gap: 12px;\n",
              "    }\n",
              "\n",
              "    .colab-df-convert {\n",
              "      background-color: #E8F0FE;\n",
              "      border: none;\n",
              "      border-radius: 50%;\n",
              "      cursor: pointer;\n",
              "      display: none;\n",
              "      fill: #1967D2;\n",
              "      height: 32px;\n",
              "      padding: 0 0 0 0;\n",
              "      width: 32px;\n",
              "    }\n",
              "\n",
              "    .colab-df-convert:hover {\n",
              "      background-color: #E2EBFA;\n",
              "      box-shadow: 0px 1px 2px rgba(60, 64, 67, 0.3), 0px 1px 3px 1px rgba(60, 64, 67, 0.15);\n",
              "      fill: #174EA6;\n",
              "    }\n",
              "\n",
              "    .colab-df-buttons div {\n",
              "      margin-bottom: 4px;\n",
              "    }\n",
              "\n",
              "    [theme=dark] .colab-df-convert {\n",
              "      background-color: #3B4455;\n",
              "      fill: #D2E3FC;\n",
              "    }\n",
              "\n",
              "    [theme=dark] .colab-df-convert:hover {\n",
              "      background-color: #434B5C;\n",
              "      box-shadow: 0px 1px 3px 1px rgba(0, 0, 0, 0.15);\n",
              "      filter: drop-shadow(0px 1px 2px rgba(0, 0, 0, 0.3));\n",
              "      fill: #FFFFFF;\n",
              "    }\n",
              "  </style>\n",
              "\n",
              "    <script>\n",
              "      const buttonEl =\n",
              "        document.querySelector('#df-b63c0dab-ec9a-4fce-a9f1-7ac7eb4acd16 button.colab-df-convert');\n",
              "      buttonEl.style.display =\n",
              "        google.colab.kernel.accessAllowed ? 'block' : 'none';\n",
              "\n",
              "      async function convertToInteractive(key) {\n",
              "        const element = document.querySelector('#df-b63c0dab-ec9a-4fce-a9f1-7ac7eb4acd16');\n",
              "        const dataTable =\n",
              "          await google.colab.kernel.invokeFunction('convertToInteractive',\n",
              "                                                    [key], {});\n",
              "        if (!dataTable) return;\n",
              "\n",
              "        const docLinkHtml = 'Like what you see? Visit the ' +\n",
              "          '<a target=\"_blank\" href=https://colab.research.google.com/notebooks/data_table.ipynb>data table notebook</a>'\n",
              "          + ' to learn more about interactive tables.';\n",
              "        element.innerHTML = '';\n",
              "        dataTable['output_type'] = 'display_data';\n",
              "        await google.colab.output.renderOutput(dataTable, element);\n",
              "        const docLink = document.createElement('div');\n",
              "        docLink.innerHTML = docLinkHtml;\n",
              "        element.appendChild(docLink);\n",
              "      }\n",
              "    </script>\n",
              "  </div>\n",
              "\n",
              "\n",
              "<div id=\"df-4773677f-f79b-4108-9dc6-9f581c45f865\">\n",
              "  <button class=\"colab-df-quickchart\" onclick=\"quickchart('df-4773677f-f79b-4108-9dc6-9f581c45f865')\"\n",
              "            title=\"Suggest charts\"\n",
              "            style=\"display:none;\">\n",
              "\n",
              "<svg xmlns=\"http://www.w3.org/2000/svg\" height=\"24px\"viewBox=\"0 0 24 24\"\n",
              "     width=\"24px\">\n",
              "    <g>\n",
              "        <path d=\"M19 3H5c-1.1 0-2 .9-2 2v14c0 1.1.9 2 2 2h14c1.1 0 2-.9 2-2V5c0-1.1-.9-2-2-2zM9 17H7v-7h2v7zm4 0h-2V7h2v10zm4 0h-2v-4h2v4z\"/>\n",
              "    </g>\n",
              "</svg>\n",
              "  </button>\n",
              "\n",
              "<style>\n",
              "  .colab-df-quickchart {\n",
              "      --bg-color: #E8F0FE;\n",
              "      --fill-color: #1967D2;\n",
              "      --hover-bg-color: #E2EBFA;\n",
              "      --hover-fill-color: #174EA6;\n",
              "      --disabled-fill-color: #AAA;\n",
              "      --disabled-bg-color: #DDD;\n",
              "  }\n",
              "\n",
              "  [theme=dark] .colab-df-quickchart {\n",
              "      --bg-color: #3B4455;\n",
              "      --fill-color: #D2E3FC;\n",
              "      --hover-bg-color: #434B5C;\n",
              "      --hover-fill-color: #FFFFFF;\n",
              "      --disabled-bg-color: #3B4455;\n",
              "      --disabled-fill-color: #666;\n",
              "  }\n",
              "\n",
              "  .colab-df-quickchart {\n",
              "    background-color: var(--bg-color);\n",
              "    border: none;\n",
              "    border-radius: 50%;\n",
              "    cursor: pointer;\n",
              "    display: none;\n",
              "    fill: var(--fill-color);\n",
              "    height: 32px;\n",
              "    padding: 0;\n",
              "    width: 32px;\n",
              "  }\n",
              "\n",
              "  .colab-df-quickchart:hover {\n",
              "    background-color: var(--hover-bg-color);\n",
              "    box-shadow: 0 1px 2px rgba(60, 64, 67, 0.3), 0 1px 3px 1px rgba(60, 64, 67, 0.15);\n",
              "    fill: var(--button-hover-fill-color);\n",
              "  }\n",
              "\n",
              "  .colab-df-quickchart-complete:disabled,\n",
              "  .colab-df-quickchart-complete:disabled:hover {\n",
              "    background-color: var(--disabled-bg-color);\n",
              "    fill: var(--disabled-fill-color);\n",
              "    box-shadow: none;\n",
              "  }\n",
              "\n",
              "  .colab-df-spinner {\n",
              "    border: 2px solid var(--fill-color);\n",
              "    border-color: transparent;\n",
              "    border-bottom-color: var(--fill-color);\n",
              "    animation:\n",
              "      spin 1s steps(1) infinite;\n",
              "  }\n",
              "\n",
              "  @keyframes spin {\n",
              "    0% {\n",
              "      border-color: transparent;\n",
              "      border-bottom-color: var(--fill-color);\n",
              "      border-left-color: var(--fill-color);\n",
              "    }\n",
              "    20% {\n",
              "      border-color: transparent;\n",
              "      border-left-color: var(--fill-color);\n",
              "      border-top-color: var(--fill-color);\n",
              "    }\n",
              "    30% {\n",
              "      border-color: transparent;\n",
              "      border-left-color: var(--fill-color);\n",
              "      border-top-color: var(--fill-color);\n",
              "      border-right-color: var(--fill-color);\n",
              "    }\n",
              "    40% {\n",
              "      border-color: transparent;\n",
              "      border-right-color: var(--fill-color);\n",
              "      border-top-color: var(--fill-color);\n",
              "    }\n",
              "    60% {\n",
              "      border-color: transparent;\n",
              "      border-right-color: var(--fill-color);\n",
              "    }\n",
              "    80% {\n",
              "      border-color: transparent;\n",
              "      border-right-color: var(--fill-color);\n",
              "      border-bottom-color: var(--fill-color);\n",
              "    }\n",
              "    90% {\n",
              "      border-color: transparent;\n",
              "      border-bottom-color: var(--fill-color);\n",
              "    }\n",
              "  }\n",
              "</style>\n",
              "\n",
              "  <script>\n",
              "    async function quickchart(key) {\n",
              "      const quickchartButtonEl =\n",
              "        document.querySelector('#' + key + ' button');\n",
              "      quickchartButtonEl.disabled = true;  // To prevent multiple clicks.\n",
              "      quickchartButtonEl.classList.add('colab-df-spinner');\n",
              "      try {\n",
              "        const charts = await google.colab.kernel.invokeFunction(\n",
              "            'suggestCharts', [key], {});\n",
              "      } catch (error) {\n",
              "        console.error('Error during call to suggestCharts:', error);\n",
              "      }\n",
              "      quickchartButtonEl.classList.remove('colab-df-spinner');\n",
              "      quickchartButtonEl.classList.add('colab-df-quickchart-complete');\n",
              "    }\n",
              "    (() => {\n",
              "      let quickchartButtonEl =\n",
              "        document.querySelector('#df-4773677f-f79b-4108-9dc6-9f581c45f865 button');\n",
              "      quickchartButtonEl.style.display =\n",
              "        google.colab.kernel.accessAllowed ? 'block' : 'none';\n",
              "    })();\n",
              "  </script>\n",
              "</div>\n",
              "\n",
              "  <div id=\"id_154b769a-81f2-457a-b475-9fd82791f999\">\n",
              "    <style>\n",
              "      .colab-df-generate {\n",
              "        background-color: #E8F0FE;\n",
              "        border: none;\n",
              "        border-radius: 50%;\n",
              "        cursor: pointer;\n",
              "        display: none;\n",
              "        fill: #1967D2;\n",
              "        height: 32px;\n",
              "        padding: 0 0 0 0;\n",
              "        width: 32px;\n",
              "      }\n",
              "\n",
              "      .colab-df-generate:hover {\n",
              "        background-color: #E2EBFA;\n",
              "        box-shadow: 0px 1px 2px rgba(60, 64, 67, 0.3), 0px 1px 3px 1px rgba(60, 64, 67, 0.15);\n",
              "        fill: #174EA6;\n",
              "      }\n",
              "\n",
              "      [theme=dark] .colab-df-generate {\n",
              "        background-color: #3B4455;\n",
              "        fill: #D2E3FC;\n",
              "      }\n",
              "\n",
              "      [theme=dark] .colab-df-generate:hover {\n",
              "        background-color: #434B5C;\n",
              "        box-shadow: 0px 1px 3px 1px rgba(0, 0, 0, 0.15);\n",
              "        filter: drop-shadow(0px 1px 2px rgba(0, 0, 0, 0.3));\n",
              "        fill: #FFFFFF;\n",
              "      }\n",
              "    </style>\n",
              "    <button class=\"colab-df-generate\" onclick=\"generateWithVariable('risk_seeking_df')\"\n",
              "            title=\"Generate code using this dataframe.\"\n",
              "            style=\"display:none;\">\n",
              "\n",
              "  <svg xmlns=\"http://www.w3.org/2000/svg\" height=\"24px\"viewBox=\"0 0 24 24\"\n",
              "       width=\"24px\">\n",
              "    <path d=\"M7,19H8.4L18.45,9,17,7.55,7,17.6ZM5,21V16.75L18.45,3.32a2,2,0,0,1,2.83,0l1.4,1.43a1.91,1.91,0,0,1,.58,1.4,1.91,1.91,0,0,1-.58,1.4L9.25,21ZM18.45,9,17,7.55Zm-12,3A5.31,5.31,0,0,0,4.9,8.1,5.31,5.31,0,0,0,1,6.5,5.31,5.31,0,0,0,4.9,4.9,5.31,5.31,0,0,0,6.5,1,5.31,5.31,0,0,0,8.1,4.9,5.31,5.31,0,0,0,12,6.5,5.46,5.46,0,0,0,6.5,12Z\"/>\n",
              "  </svg>\n",
              "    </button>\n",
              "    <script>\n",
              "      (() => {\n",
              "      const buttonEl =\n",
              "        document.querySelector('#id_154b769a-81f2-457a-b475-9fd82791f999 button.colab-df-generate');\n",
              "      buttonEl.style.display =\n",
              "        google.colab.kernel.accessAllowed ? 'block' : 'none';\n",
              "\n",
              "      buttonEl.onclick = () => {\n",
              "        google.colab.notebook.generateWithVariable('risk_seeking_df');\n",
              "      }\n",
              "      })();\n",
              "    </script>\n",
              "  </div>\n",
              "\n",
              "    </div>\n",
              "  </div>\n"
            ],
            "application/vnd.google.colaboratory.intrinsic+json": {
              "type": "dataframe",
              "variable_name": "risk_seeking_df",
              "summary": "{\n  \"name\": \"risk_seeking_df\",\n  \"rows\": 1877,\n  \"fields\": [\n    {\n      \"column\": \"Impulsive\",\n      \"properties\": {\n        \"dtype\": \"number\",\n        \"std\": 0.9541479260553074,\n        \"min\": -2.55524,\n        \"max\": 2.90161,\n        \"num_unique_values\": 10,\n        \"samples\": [\n          0.88113,\n          -0.71126,\n          1.29221\n        ],\n        \"semantic_type\": \"\",\n        \"description\": \"\"\n      }\n    },\n    {\n      \"column\": \"SS\",\n      \"properties\": {\n        \"dtype\": \"number\",\n        \"std\": 0.9620744268143586,\n        \"min\": -2.07848,\n        \"max\": 1.92173,\n        \"num_unique_values\": 11,\n        \"samples\": [\n          -0.52593,\n          -1.18084,\n          -2.07848\n        ],\n        \"semantic_type\": \"\",\n        \"description\": \"\"\n      }\n    }\n  ]\n}"
            }
          },
          "metadata": {},
          "execution_count": 18
        }
      ],
      "source": [
        "risk_seeking_df #Printing risk seeking dataframe"
      ]
    },
    {
      "cell_type": "code",
      "execution_count": 19,
      "metadata": {
        "id": "ah4CyizubG7F"
      },
      "outputs": [],
      "source": [
        "cat4_drugs = [\"Caff\", \"Choc\"] #Defining category 4 drugs"
      ]
    },
    {
      "cell_type": "code",
      "execution_count": 20,
      "metadata": {
        "id": "Mg5laiXuJ9EH"
      },
      "outputs": [],
      "source": [
        "cat3_drugs = [\"Alcohol\", \"Cannabis\", \"Nicotine\"] #Defining category 3 drugs"
      ]
    },
    {
      "cell_type": "code",
      "execution_count": 21,
      "metadata": {
        "id": "fP0PJlyNKJ6G"
      },
      "outputs": [],
      "source": [
        "cat2_drugs = [\"Amyl\", \"Benzos\", \"Ecstasy\", \"Legalh\", \"LSD\", \"Mushrooms\"] #Defining category 2 drugs"
      ]
    },
    {
      "cell_type": "code",
      "execution_count": 22,
      "metadata": {
        "id": "xLVGVKaBK6Ne"
      },
      "outputs": [],
      "source": [
        "cat1_drugs = [\"Amphet\", \"Coke\", \"Crack\", \"Heroin\", \"Ketamine\", \"Meth\", \"VSA\"] #Defining category 1 drugs"
      ]
    },
    {
      "cell_type": "code",
      "execution_count": 23,
      "metadata": {
        "id": "rjNNCe2eLXxI"
      },
      "outputs": [],
      "source": [
        "non_substance = [\"Semer\"] #Defining semer drug as non-substance"
      ]
    },
    {
      "cell_type": "code",
      "execution_count": 24,
      "metadata": {
        "id": "9vyBg5bzrM7E"
      },
      "outputs": [],
      "source": [
        "for category, drugs in [('Cat4', cat4_drugs), ('Cat3', cat3_drugs), ('Cat2', cat2_drugs), ('Cat1', cat1_drugs)]:\n",
        "    df_cleaned = df_cleaned.copy()  #making a copy to avoid SettingWithCopyWarning that appeared earlier\n",
        "    df_cleaned.loc[:, category] = (df_cleaned[drugs] != 'CL0').any(axis=1).astype(int)\n",
        "    #for loop to encode 1 or 0 if individual has used any of the types of drugs ever within each category"
      ]
    },
    {
      "cell_type": "code",
      "execution_count": 25,
      "metadata": {
        "colab": {
          "base_uri": "https://localhost:8080/"
        },
        "id": "Qi50tir7r3p5",
        "outputId": "b0bf4655-74e3-4598-d2c2-e14ee1abd561"
      },
      "outputs": [
        {
          "output_type": "stream",
          "name": "stdout",
          "text": [
            "Cat4 (Legal/Soft):\n",
            "0    1\n",
            "1    1\n",
            "2    1\n",
            "3    1\n",
            "4    1\n",
            "Name: Cat4, dtype: int64\n",
            "\n",
            "Cat3 (Controlled/Soft):\n",
            "0    1\n",
            "1    1\n",
            "2    1\n",
            "3    1\n",
            "4    1\n",
            "Name: Cat3, dtype: int64\n",
            "\n",
            "Cat2 (Controlled/Medium):\n",
            "0    1\n",
            "1    1\n",
            "2    1\n",
            "3    1\n",
            "4    1\n",
            "Name: Cat2, dtype: int64\n",
            "\n",
            "Cat1 (Controlled/Hard):\n",
            "0    1\n",
            "1    1\n",
            "2    0\n",
            "3    1\n",
            "4    1\n",
            "Name: Cat1, dtype: int64\n"
          ]
        }
      ],
      "source": [
        "print(\"Cat4 (Legal/Soft):\") #Printing results\n",
        "print(df_cleaned['Cat4'].head())\n",
        "\n",
        "print(\"\\nCat3 (Controlled/Soft):\")\n",
        "print(df_cleaned['Cat3'].head())\n",
        "\n",
        "print(\"\\nCat2 (Controlled/Medium):\")\n",
        "print(df_cleaned['Cat2'].head())\n",
        "\n",
        "print(\"\\nCat1 (Controlled/Hard):\")\n",
        "print(df_cleaned['Cat1'].head())"
      ]
    },
    {
      "cell_type": "markdown",
      "metadata": {
        "id": "NBWytKx_hAxi"
      },
      "source": [
        "# Part B"
      ]
    },
    {
      "cell_type": "markdown",
      "metadata": {
        "id": "3TJdH6kylSF4"
      },
      "source": [
        "## Modeling for category 4 drugs"
      ]
    },
    {
      "cell_type": "markdown",
      "metadata": {
        "id": "HIsvmIDzp7Co"
      },
      "source": [
        "### Demographics"
      ]
    },
    {
      "cell_type": "code",
      "execution_count": 26,
      "metadata": {
        "id": "wetdaLQYp9Hs"
      },
      "outputs": [],
      "source": [
        "drug_category = 'Cat4' #Defining category"
      ]
    },
    {
      "cell_type": "code",
      "execution_count": 27,
      "metadata": {
        "id": "oxB9b95tqBKZ"
      },
      "outputs": [],
      "source": [
        "X_demographics = demographics_df #Defining X features and y targets\n",
        "y = df_cleaned[drug_category]"
      ]
    },
    {
      "cell_type": "code",
      "execution_count": 28,
      "metadata": {
        "id": "V4noHVi3rC41"
      },
      "outputs": [],
      "source": [
        "X_train_demographics, X_test_demographics, y_train, y_test = train_test_split(X_demographics, y, test_size=0.2, random_state=42, stratify=X_demographics['Age'])\n",
        "#Train test split"
      ]
    },
    {
      "cell_type": "code",
      "execution_count": 29,
      "metadata": {
        "colab": {
          "base_uri": "https://localhost:8080/"
        },
        "id": "ktpsa59oFruF",
        "outputId": "da7280c6-3e55-4c2f-eca0-6b9ec9f7f7ac"
      },
      "outputs": [
        {
          "output_type": "stream",
          "name": "stderr",
          "text": [
            "/usr/local/lib/python3.10/dist-packages/sklearn/model_selection/_split.py:700: UserWarning: The least populated class in y has only 2 members, which is less than n_splits=5.\n",
            "  warnings.warn(\n"
          ]
        },
        {
          "output_type": "stream",
          "name": "stdout",
          "text": [
            "Best parameters: {'max_depth': 5}\n"
          ]
        }
      ],
      "source": [
        "param_grid = {\n",
        "    'max_depth': [3, 5, 7, 10]  # Range of max_depth values for gridsearch\n",
        "}\n",
        "\n",
        "dt_classifier = DecisionTreeClassifier()#Performing gridsearch\n",
        "grid_search = GridSearchCV(estimator=dt_classifier, param_grid=param_grid, cv=5)\n",
        "grid_search.fit(X_train_demographics, y_train)\n",
        "# Printing the best parameters found\n",
        "print(\"Best parameters:\", grid_search.best_params_)"
      ]
    },
    {
      "cell_type": "code",
      "execution_count": 30,
      "metadata": {
        "id": "7UrMm6g0rJ4r"
      },
      "outputs": [],
      "source": [
        "#Decision Tree\n",
        "max_depth = 5\n",
        "dt_model_demographics = DecisionTreeClassifier(max_depth = max_depth) #Defining and fitting model\n",
        "dt_model_demographics.fit(X_train_demographics, y_train)\n",
        "y_train_pred_dt_demographics = dt_model_demographics.predict(X_train_demographics) #Making / Evaluating predictions\n",
        "y_test_pred_dt_demographics = dt_model_demographics.predict(X_test_demographics)\n",
        "train_accuracy_dt_demographics = accuracy_score(y_train, y_train_pred_dt_demographics)\n",
        "test_accuracy_dt_demographics = accuracy_score(y_test, y_test_pred_dt_demographics)"
      ]
    },
    {
      "cell_type": "code",
      "source": [
        "plt.figure(figsize=(20, 10)) #Visualizing Decision Tree\n",
        "plot_tree(dt_model_demographics, filled=True, feature_names=X_train_demographics.columns, class_names=True)\n",
        "plt.show()"
      ],
      "metadata": {
        "colab": {
          "base_uri": "https://localhost:8080/",
          "height": 528
        },
        "id": "rDH0BRTrYu7I",
        "outputId": "a2d426e2-b554-46fb-a3d1-454c3d8de76d"
      },
      "execution_count": 31,
      "outputs": [
        {
          "output_type": "display_data",
          "data": {
            "text/plain": [
              "<Figure size 2000x1000 with 1 Axes>"
            ],
            "image/png": "[encoded data removed]"
          },
          "metadata": {}
        }
      ]
    },
    {
      "cell_type": "code",
      "execution_count": 32,
      "metadata": {
        "colab": {
          "base_uri": "https://localhost:8080/"
        },
        "id": "X8svn05PTilq",
        "outputId": "73870727-ac22-4b97-c6e2-6e0a1e0f984e"
      },
      "outputs": [
        {
          "output_type": "stream",
          "name": "stderr",
          "text": [
            "/usr/local/lib/python3.10/dist-packages/sklearn/model_selection/_split.py:700: UserWarning: The least populated class in y has only 2 members, which is less than n_splits=5.\n",
            "  warnings.warn(\n"
          ]
        },
        {
          "output_type": "stream",
          "name": "stdout",
          "text": [
            "Best parameters: {'alpha': 0.0001}\n"
          ]
        }
      ],
      "source": [
        "param_grid = {\n",
        "    'alpha': [0.0001, 0.001, 0.01],  # Creating range of alpha / learning rate values\n",
        "}\n",
        "\n",
        "nn_classifier = MLPClassifier() #Performing gridsearch\n",
        "grid_search = GridSearchCV(estimator=nn_classifier, param_grid=param_grid, cv=5)\n",
        "grid_search.fit(X_train_demographics, y_train)\n",
        "\n",
        "# Print the best parameters found\n",
        "print(\"Best parameters:\", grid_search.best_params_)"
      ]
    },
    {
      "cell_type": "code",
      "execution_count": 33,
      "metadata": {
        "id": "mX4xIMDusMNP"
      },
      "outputs": [],
      "source": [
        "#Neaural Network\n",
        "learning_rate = 0.0001\n",
        "nn_model_demographics = MLPClassifier(alpha = learning_rate) #Defining and fitting model\n",
        "nn_model_demographics.fit(X_train_demographics, y_train)\n",
        "y_train_pred_nn_demographics = nn_model_demographics.predict(X_train_demographics) #Making / Evaluating predictions\n",
        "y_test_pred_nn_demographics = nn_model_demographics.predict(X_test_demographics)\n",
        "train_accuracy_nn_demographics = accuracy_score(y_train, y_train_pred_nn_demographics)\n",
        "test_accuracy_nn_demographics = accuracy_score(y_test, y_test_pred_nn_demographics)"
      ]
    },
    {
      "cell_type": "code",
      "execution_count": 34,
      "metadata": {
        "colab": {
          "base_uri": "https://localhost:8080/"
        },
        "id": "ErIhcCFAXpJD",
        "outputId": "cdb1e467-93b7-415e-84ca-681c047caae3"
      },
      "outputs": [
        {
          "output_type": "stream",
          "name": "stderr",
          "text": [
            "/usr/local/lib/python3.10/dist-packages/sklearn/model_selection/_split.py:700: UserWarning: The least populated class in y has only 2 members, which is less than n_splits=5.\n",
            "  warnings.warn(\n"
          ]
        },
        {
          "output_type": "stream",
          "name": "stdout",
          "text": [
            "Best parameters: {'alpha': 0.0001}\n"
          ]
        }
      ],
      "source": [
        "param_grid = {\n",
        "    'alpha': [0.0001, 0.001, 0.01],  # Creating range of alpha / learning rate values\n",
        "}\n",
        "\n",
        "sgd_model_demographics = SGDClassifier() #Performing gridsearch\n",
        "grid_search = GridSearchCV(estimator=nn_classifier, param_grid=param_grid, cv=5)\n",
        "grid_search.fit(X_train_demographics, y_train)\n",
        "\n",
        "# Print the best parameters found\n",
        "print(\"Best parameters:\", grid_search.best_params_)"
      ]
    },
    {
      "cell_type": "code",
      "execution_count": 35,
      "metadata": {
        "id": "vQP-G8FFsX0b"
      },
      "outputs": [],
      "source": [
        "#Stochastic Gradient Discent\n",
        "learning_date = 0.0001\n",
        "sgd_model_demographics = SGDClassifier(alpha = learning_rate) #Defining and fitting model\n",
        "sgd_model_demographics.fit(X_train_demographics, y_train)\n",
        "y_train_pred_sgd_demographics = sgd_model_demographics.predict(X_train_demographics)#Making / Evaluating predictions\n",
        "y_test_pred_sgd_demographics = sgd_model_demographics.predict(X_test_demographics)\n",
        "train_accuracy_sgd_demographics = accuracy_score(y_train, y_train_pred_sgd_demographics)\n",
        "test_accuracy_sgd_demographics = accuracy_score(y_test, y_test_pred_sgd_demographics)"
      ]
    },
    {
      "cell_type": "code",
      "execution_count": 36,
      "metadata": {
        "colab": {
          "base_uri": "https://localhost:8080/"
        },
        "id": "apwN87fZseoD",
        "outputId": "255ba24c-12bf-44de-dbb6-b49bf3e13857"
      },
      "outputs": [
        {
          "output_type": "stream",
          "name": "stdout",
          "text": [
            "Demographics Category:\n",
            "Decision Tree Model:\n",
            "Overall Training Accuracy: 1.0\n",
            "Overall Testing Accuracy: 1.0\n",
            "Neural Network Model:\n",
            "Overall Training Accuracy: 0.9986675549633578\n",
            "Overall Testing Accuracy: 1.0\n",
            "Stochastic Gradient Descent Model:\n",
            "Overall Training Accuracy: 0.9986675549633578\n",
            "Overall Testing Accuracy: 1.0\n"
          ]
        }
      ],
      "source": [
        "print(\"Demographics Category:\")#Printing results\n",
        "print(\"Decision Tree Model:\")\n",
        "print(f\"Overall Training Accuracy: {train_accuracy_dt_demographics}\")\n",
        "print(f\"Overall Testing Accuracy: {test_accuracy_dt_demographics}\")\n",
        "\n",
        "print(\"Neural Network Model:\")\n",
        "print(f\"Overall Training Accuracy: {train_accuracy_nn_demographics}\")\n",
        "print(f\"Overall Testing Accuracy: {test_accuracy_nn_demographics}\")\n",
        "\n",
        "print(\"Stochastic Gradient Descent Model:\")\n",
        "print(f\"Overall Training Accuracy: {train_accuracy_sgd_demographics}\")\n",
        "print(f\"Overall Testing Accuracy: {test_accuracy_sgd_demographics}\")"
      ]
    },
    {
      "cell_type": "markdown",
      "metadata": {
        "id": "bhGZwjXis0Sa"
      },
      "source": [
        "### Personality"
      ]
    },
    {
      "cell_type": "code",
      "execution_count": 37,
      "metadata": {
        "id": "Z0BSnpNts7uL"
      },
      "outputs": [],
      "source": [
        "X_personality = personality_df\n",
        "y = df_cleaned[drug_category]"
      ]
    },
    {
      "cell_type": "code",
      "execution_count": 38,
      "metadata": {
        "id": "bFHDUEXEtH0-"
      },
      "outputs": [],
      "source": [
        "X_train_personality, X_test_personality, y_train, y_test = train_test_split(X_personality, y, test_size=0.2, random_state=42)\n",
        "#Train test split"
      ]
    },
    {
      "cell_type": "code",
      "execution_count": 39,
      "metadata": {
        "colab": {
          "base_uri": "https://localhost:8080/"
        },
        "id": "4m1BbXdWHg4a",
        "outputId": "98ea62c3-c400-4ac8-92a6-fc8cb720b94b"
      },
      "outputs": [
        {
          "output_type": "stream",
          "name": "stdout",
          "text": [
            "Best parameters: {'max_depth': 3}\n"
          ]
        },
        {
          "output_type": "stream",
          "name": "stderr",
          "text": [
            "/usr/local/lib/python3.10/dist-packages/sklearn/model_selection/_split.py:700: UserWarning: The least populated class in y has only 2 members, which is less than n_splits=5.\n",
            "  warnings.warn(\n"
          ]
        }
      ],
      "source": [
        "param_grid = {\n",
        "    'max_depth': [3, 5, 7, 10]  # Range of max_depth values for gridsearch\n",
        "}\n",
        "\n",
        "dt_classifier = DecisionTreeClassifier()#Performing gridsearch\n",
        "grid_search = GridSearchCV(estimator=dt_classifier, param_grid=param_grid, cv=5)\n",
        "grid_search.fit(X_train_personality, y_train)\n",
        "# Printing the best parameters found\n",
        "print(\"Best parameters:\", grid_search.best_params_)"
      ]
    },
    {
      "cell_type": "code",
      "execution_count": 40,
      "metadata": {
        "id": "f2eMsqPFtLYs"
      },
      "outputs": [],
      "source": [
        "#Decision Tree\n",
        "max_depth = 3\n",
        "dt_model_personality = DecisionTreeClassifier(max_depth = max_depth) #Defining and fitting model\n",
        "dt_model_personality.fit(X_train_personality, y_train)\n",
        "y_train_pred_dt_personality = dt_model_personality.predict(X_train_personality)#Making / Evaluating predictions\n",
        "y_test_pred_dt_personality = dt_model_personality.predict(X_test_personality)\n",
        "train_accuracy_dt_personality = accuracy_score(y_train, y_train_pred_dt_personality)\n",
        "test_accuracy_dt_personality = accuracy_score(y_test, y_test_pred_dt_personality)"
      ]
    },
    {
      "cell_type": "code",
      "execution_count": 41,
      "metadata": {
        "colab": {
          "base_uri": "https://localhost:8080/"
        },
        "id": "-OfcARjgR3QW",
        "outputId": "0f25abb2-6dc3-459a-bf8e-6f32431b774f"
      },
      "outputs": [
        {
          "output_type": "stream",
          "name": "stderr",
          "text": [
            "/usr/local/lib/python3.10/dist-packages/sklearn/model_selection/_split.py:700: UserWarning: The least populated class in y has only 2 members, which is less than n_splits=5.\n",
            "  warnings.warn(\n"
          ]
        },
        {
          "output_type": "stream",
          "name": "stdout",
          "text": [
            "Best parameters: {'alpha': 0.0001}\n"
          ]
        }
      ],
      "source": [
        "param_grid = {\n",
        "    'alpha': [0.0001, 0.001, 0.01],  # Creating range of alpha / learning rate values\n",
        "}\n",
        "\n",
        "nn_classifier = MLPClassifier() #Performing gridsearch\n",
        "grid_search = GridSearchCV(estimator=nn_classifier, param_grid=param_grid, cv=5)\n",
        "grid_search.fit(X_train_personality, y_train)\n",
        "\n",
        "# Print the best parameters found\n",
        "print(\"Best parameters:\", grid_search.best_params_)"
      ]
    },
    {
      "cell_type": "code",
      "execution_count": 42,
      "metadata": {
        "id": "mDe8NxzHtRsI"
      },
      "outputs": [],
      "source": [
        "#Neaural Network\n",
        "learning_rate = 0.0001\n",
        "nn_model_personality = MLPClassifier(alpha = learning_rate) #Defining and fitting model\n",
        "nn_model_personality.fit(X_train_personality, y_train)\n",
        "y_train_pred_nn_personality = nn_model_personality.predict(X_train_personality)#Making / Evaluating predictions\n",
        "y_test_pred_nn_personality = nn_model_personality.predict(X_test_personality)\n",
        "train_accuracy_nn_personality = accuracy_score(y_train, y_train_pred_nn_personality)\n",
        "test_accuracy_nn_personality = accuracy_score(y_test, y_test_pred_nn_personality)"
      ]
    },
    {
      "cell_type": "code",
      "execution_count": 43,
      "metadata": {
        "id": "MK6GY_RjW8H8",
        "colab": {
          "base_uri": "https://localhost:8080/"
        },
        "outputId": "a2024ba2-c22e-4b6e-efe2-bd46043fe118"
      },
      "outputs": [
        {
          "output_type": "stream",
          "name": "stderr",
          "text": [
            "/usr/local/lib/python3.10/dist-packages/sklearn/model_selection/_split.py:700: UserWarning: The least populated class in y has only 2 members, which is less than n_splits=5.\n",
            "  warnings.warn(\n"
          ]
        },
        {
          "output_type": "stream",
          "name": "stdout",
          "text": [
            "Best parameters: {'alpha': 0.0001}\n"
          ]
        }
      ],
      "source": [
        "param_grid = {\n",
        "    'alpha': [0.0001, 0.001, 0.01],  # Creating range of alpha / learning rate values\n",
        "}\n",
        "\n",
        "sgd_model_personality = SGDClassifier() #Performing gridsearch\n",
        "grid_search = GridSearchCV(estimator=nn_classifier, param_grid=param_grid, cv=5)\n",
        "grid_search.fit(X_train_personality, y_train)\n",
        "\n",
        "# Print the best parameters found\n",
        "print(\"Best parameters:\", grid_search.best_params_)"
      ]
    },
    {
      "cell_type": "code",
      "execution_count": 44,
      "metadata": {
        "id": "k1X8kETAtW-Z"
      },
      "outputs": [],
      "source": [
        "#Stochastic Gradient Discent\n",
        "learning_date = 0.0001\n",
        "sgd_model_demographics = SGDClassifier(alpha = learning_rate) #Defining and fitting model\n",
        "sgd_model_personality.fit(X_train_personality, y_train)\n",
        "y_train_pred_sgd_personality = sgd_model_personality.predict(X_train_personality)#Making / Evaluating predictions\n",
        "y_test_pred_sgd_personality = sgd_model_personality.predict(X_test_personality)\n",
        "train_accuracy_sgd_personality = accuracy_score(y_train, y_train_pred_sgd_personality)\n",
        "test_accuracy_sgd_personality = accuracy_score(y_test, y_test_pred_sgd_personality)"
      ]
    },
    {
      "cell_type": "code",
      "execution_count": 45,
      "metadata": {
        "id": "_rzkH6sVtcmx",
        "colab": {
          "base_uri": "https://localhost:8080/"
        },
        "outputId": "a3bb9a48-9898-42bf-9260-89924cafafbf"
      },
      "outputs": [
        {
          "output_type": "stream",
          "name": "stdout",
          "text": [
            "Personality Category:\n",
            "Decision Tree Model:\n",
            "Overall Training Accuracy: 0.9986675549633578\n",
            "Overall Testing Accuracy: 1.0\n",
            "Neural Network Model:\n",
            "Overall Training Accuracy: 0.9986675549633578\n",
            "Overall Testing Accuracy: 1.0\n",
            "Stochastic Gradient Descent Model:\n",
            "Overall Training Accuracy: 0.9986675549633578\n",
            "Overall Testing Accuracy: 0.9973404255319149\n"
          ]
        }
      ],
      "source": [
        "print(\"Personality Category:\")#Printing results\n",
        "print(\"Decision Tree Model:\")\n",
        "print(f\"Overall Training Accuracy: {train_accuracy_dt_personality}\")\n",
        "print(f\"Overall Testing Accuracy: {test_accuracy_dt_personality}\")\n",
        "\n",
        "print(\"Neural Network Model:\")\n",
        "print(f\"Overall Training Accuracy: {train_accuracy_nn_personality}\")\n",
        "print(f\"Overall Testing Accuracy: {test_accuracy_nn_personality}\")\n",
        "\n",
        "print(\"Stochastic Gradient Descent Model:\")\n",
        "print(f\"Overall Training Accuracy: {train_accuracy_sgd_personality}\")\n",
        "print(f\"Overall Testing Accuracy: {test_accuracy_sgd_personality}\")"
      ]
    },
    {
      "cell_type": "markdown",
      "metadata": {
        "id": "U1KNlfG8xQfZ"
      },
      "source": [
        "### Risk-seeking"
      ]
    },
    {
      "cell_type": "code",
      "execution_count": 46,
      "metadata": {
        "id": "7zmqmExOxS6U"
      },
      "outputs": [],
      "source": [
        "X_risk_seeking = risk_seeking_df#defining X and y\n",
        "y = df_cleaned[drug_category]"
      ]
    },
    {
      "cell_type": "code",
      "execution_count": 47,
      "metadata": {
        "id": "kXVnYcyPx6q-"
      },
      "outputs": [],
      "source": [
        "X_train_risk_seeking, X_test_risk_seeking, y_train, y_test = train_test_split(X_risk_seeking, y, test_size=0.2, random_state=42)\n",
        "#Train test split"
      ]
    },
    {
      "cell_type": "code",
      "execution_count": 48,
      "metadata": {
        "id": "NKFy1hxgJOP3",
        "colab": {
          "base_uri": "https://localhost:8080/"
        },
        "outputId": "13afa119-9318-4444-beb9-822dcd63cc10"
      },
      "outputs": [
        {
          "output_type": "stream",
          "name": "stdout",
          "text": [
            "Best parameters: {'max_depth': 3}\n"
          ]
        },
        {
          "output_type": "stream",
          "name": "stderr",
          "text": [
            "/usr/local/lib/python3.10/dist-packages/sklearn/model_selection/_split.py:700: UserWarning: The least populated class in y has only 2 members, which is less than n_splits=5.\n",
            "  warnings.warn(\n"
          ]
        }
      ],
      "source": [
        "param_grid = {\n",
        "    'max_depth': [3, 5, 7, 10]  # Range of max_depth values for gridsearch\n",
        "}\n",
        "\n",
        "dt_classifier = DecisionTreeClassifier()#Performing gridsearch\n",
        "grid_search = GridSearchCV(estimator=dt_classifier, param_grid=param_grid, cv=5)\n",
        "grid_search.fit(X_train_personality, y_train)\n",
        "# Printing the best parameters found\n",
        "print(\"Best parameters:\", grid_search.best_params_)"
      ]
    },
    {
      "cell_type": "code",
      "execution_count": 49,
      "metadata": {
        "id": "je3GCrMQyEFg"
      },
      "outputs": [],
      "source": [
        "#Decision Tree\n",
        "max_depth = 3\n",
        "dt_model_risk_seeking = DecisionTreeClassifier(max_depth = max_depth) #Defining and fitting model\n",
        "dt_model_risk_seeking.fit(X_train_risk_seeking, y_train)\n",
        "y_train_pred_dt_risk_seeking = dt_model_risk_seeking.predict(X_train_risk_seeking)#Making / Evaluating predictions\n",
        "y_test_pred_dt_risk_seeking = dt_model_risk_seeking.predict(X_test_risk_seeking)\n",
        "train_accuracy_dt_risk_seeking = accuracy_score(y_train, y_train_pred_dt_risk_seeking)\n",
        "test_accuracy_dt_risk_seeking = accuracy_score(y_test, y_test_pred_dt_risk_seeking)"
      ]
    },
    {
      "cell_type": "code",
      "execution_count": 50,
      "metadata": {
        "id": "F05UHvjPRFV0",
        "colab": {
          "base_uri": "https://localhost:8080/"
        },
        "outputId": "35eed57f-6481-4d9a-c67d-68fb13fbcc48"
      },
      "outputs": [
        {
          "output_type": "stream",
          "name": "stderr",
          "text": [
            "/usr/local/lib/python3.10/dist-packages/sklearn/model_selection/_split.py:700: UserWarning: The least populated class in y has only 2 members, which is less than n_splits=5.\n",
            "  warnings.warn(\n"
          ]
        },
        {
          "output_type": "stream",
          "name": "stdout",
          "text": [
            "Best parameters: {'alpha': 0.0001}\n"
          ]
        }
      ],
      "source": [
        "param_grid = {\n",
        "    'alpha': [0.0001, 0.001, 0.01],  # Creating range of alpha / learning rate values\n",
        "}\n",
        "\n",
        "nn_classifier = MLPClassifier() #Performing gridsearch\n",
        "grid_search = GridSearchCV(estimator=nn_classifier, param_grid=param_grid, cv=5)\n",
        "grid_search.fit(X_train_risk_seeking, y_train)\n",
        "\n",
        "# Print the best parameters found\n",
        "print(\"Best parameters:\", grid_search.best_params_)"
      ]
    },
    {
      "cell_type": "code",
      "execution_count": 51,
      "metadata": {
        "id": "x4n_k5Z3yQh3"
      },
      "outputs": [],
      "source": [
        "#Neural Network\n",
        "learning_rate = 0.0001\n",
        "nn_model_risk_seeking = MLPClassifier(alpha = learning_rate) #Defining and fitting model\n",
        "nn_model_risk_seeking.fit(X_train_risk_seeking, y_train)\n",
        "y_train_pred_nn_risk_seeking = nn_model_risk_seeking.predict(X_train_risk_seeking)#Making / Evaluating predictions\n",
        "y_test_pred_nn_risk_seeking = nn_model_risk_seeking.predict(X_test_risk_seeking)\n",
        "train_accuracy_nn_risk_seeking = accuracy_score(y_train, y_train_pred_nn_risk_seeking)\n",
        "test_accuracy_nn_risk_seeking = accuracy_score(y_test, y_test_pred_nn_risk_seeking)"
      ]
    },
    {
      "cell_type": "code",
      "execution_count": 52,
      "metadata": {
        "id": "WZCze0yUW0Un",
        "colab": {
          "base_uri": "https://localhost:8080/"
        },
        "outputId": "ef1b2b2e-6aac-433d-a576-f22cb42f8409"
      },
      "outputs": [
        {
          "output_type": "stream",
          "name": "stderr",
          "text": [
            "/usr/local/lib/python3.10/dist-packages/sklearn/model_selection/_split.py:700: UserWarning: The least populated class in y has only 2 members, which is less than n_splits=5.\n",
            "  warnings.warn(\n"
          ]
        },
        {
          "output_type": "stream",
          "name": "stdout",
          "text": [
            "Best parameters: {'alpha': 0.0001}\n"
          ]
        }
      ],
      "source": [
        "param_grid = {\n",
        "    'alpha': [0.0001, 0.001, 0.01],  # Creating range of alpha / learning rate values\n",
        "}\n",
        "\n",
        "sgd_model_risk_seeking = SGDClassifier() #Performing gridsearch\n",
        "grid_search = GridSearchCV(estimator=nn_classifier, param_grid=param_grid, cv=5)\n",
        "grid_search.fit(X_train_risk_seeking, y_train)\n",
        "\n",
        "# Print the best parameters found\n",
        "print(\"Best parameters:\", grid_search.best_params_)"
      ]
    },
    {
      "cell_type": "code",
      "execution_count": 53,
      "metadata": {
        "id": "aL82iht-yVBo"
      },
      "outputs": [],
      "source": [
        "#Stochastic Gradient Descent\n",
        "learning_date = 0.0001\n",
        "sgd_model_risk_seeking = SGDClassifier(alpha = learning_rate) #Defining and fitting model\n",
        "sgd_model_risk_seeking.fit(X_train_risk_seeking, y_train)\n",
        "y_train_pred_sgd_risk_seeking = sgd_model_risk_seeking.predict(X_train_risk_seeking)#Making / Evaluating predictions\n",
        "y_test_pred_sgd_risk_seeking = sgd_model_risk_seeking.predict(X_test_risk_seeking)\n",
        "train_accuracy_sgd_risk_seeking = accuracy_score(y_train, y_train_pred_sgd_risk_seeking)\n",
        "test_accuracy_sgd_risk_seeking = accuracy_score(y_test, y_test_pred_sgd_risk_seeking)"
      ]
    },
    {
      "cell_type": "code",
      "execution_count": 54,
      "metadata": {
        "id": "cCi_86G1ydp0",
        "colab": {
          "base_uri": "https://localhost:8080/"
        },
        "outputId": "3e0396de-2167-4ee4-bff3-d43fde216b9c"
      },
      "outputs": [
        {
          "output_type": "stream",
          "name": "stdout",
          "text": [
            "Risk-Seeking Category:\n",
            "Decision Tree Model:\n",
            "Overall Training Accuracy: 0.9986675549633578\n",
            "Overall Testing Accuracy: 1.0\n",
            "Neural Network Model:\n",
            "Overall Training Accuracy: 0.9986675549633578\n",
            "Overall Testing Accuracy: 1.0\n",
            "Stochastic Gradient Descent Model:\n",
            "Overall Training Accuracy: 0.9986675549633578\n",
            "Overall Testing Accuracy: 1.0\n"
          ]
        }
      ],
      "source": [
        "print(\"Risk-Seeking Category:\") #Printing results\n",
        "print(\"Decision Tree Model:\")\n",
        "print(f\"Overall Training Accuracy: {train_accuracy_dt_risk_seeking}\")\n",
        "print(f\"Overall Testing Accuracy: {test_accuracy_dt_risk_seeking}\")\n",
        "\n",
        "print(\"Neural Network Model:\")\n",
        "print(f\"Overall Training Accuracy: {train_accuracy_nn_risk_seeking}\")\n",
        "print(f\"Overall Testing Accuracy: {test_accuracy_nn_risk_seeking}\")\n",
        "\n",
        "print(\"Stochastic Gradient Descent Model:\")\n",
        "print(f\"Overall Training Accuracy: {train_accuracy_sgd_risk_seeking}\")\n",
        "print(f\"Overall Testing Accuracy: {test_accuracy_sgd_risk_seeking}\")"
      ]
    },
    {
      "cell_type": "markdown",
      "metadata": {
        "id": "IPi4_0WCyxO2"
      },
      "source": [
        "## Modeling for category 3 drugs"
      ]
    },
    {
      "cell_type": "markdown",
      "metadata": {
        "id": "LYpeljRA0yNB"
      },
      "source": [
        "### Demographics"
      ]
    },
    {
      "cell_type": "code",
      "execution_count": 55,
      "metadata": {
        "id": "_Ppd1e6Vy0sK"
      },
      "outputs": [],
      "source": [
        "drug_category = 'Cat3' #Defining category"
      ]
    },
    {
      "cell_type": "code",
      "execution_count": 56,
      "metadata": {
        "id": "kFFaViEz0VKQ"
      },
      "outputs": [],
      "source": [
        "X_demographics = demographics_df #Defining X features and y targets\n",
        "y = df_cleaned[drug_category]"
      ]
    },
    {
      "cell_type": "code",
      "execution_count": 57,
      "metadata": {
        "id": "x2pCS0Xe0Xs1"
      },
      "outputs": [],
      "source": [
        "X_train_demographics, X_test_demographics, y_train, y_test = train_test_split(X_demographics, y, test_size=0.2, random_state=42, stratify=X_demographics['Age'])\n",
        "#Train test split"
      ]
    },
    {
      "cell_type": "code",
      "execution_count": 58,
      "metadata": {
        "id": "IpFLVjHOGgdD",
        "colab": {
          "base_uri": "https://localhost:8080/"
        },
        "outputId": "df967ffa-9a9f-40e0-ab94-e0554839b5ef"
      },
      "outputs": [
        {
          "output_type": "stream",
          "name": "stdout",
          "text": [
            "Best parameters: {'max_depth': 3}\n"
          ]
        }
      ],
      "source": [
        "param_grid = {\n",
        "    'max_depth': [3, 5, 7, 10]  # Range of max_depth values for gridsearch\n",
        "}\n",
        "\n",
        "dt_classifier = DecisionTreeClassifier()#Performing gridsearch\n",
        "grid_search = GridSearchCV(estimator=dt_classifier, param_grid=param_grid, cv=5)\n",
        "grid_search.fit(X_train_demographics, y_train)\n",
        "# Printing the best parameters found\n",
        "print(\"Best parameters:\", grid_search.best_params_)"
      ]
    },
    {
      "cell_type": "code",
      "execution_count": 59,
      "metadata": {
        "id": "576nQHHN0awP"
      },
      "outputs": [],
      "source": [
        "#Decision Tree\n",
        "max_depth = 3\n",
        "dt_model_demographics = DecisionTreeClassifier(max_depth = max_depth) #Defining and fitting model\n",
        "dt_model_demographics.fit(X_train_demographics, y_train)\n",
        "y_train_pred_dt_demographics = dt_model_demographics.predict(X_train_demographics)#Making / Evaluating predictions\n",
        "y_test_pred_dt_demographics = dt_model_demographics.predict(X_test_demographics)\n",
        "train_accuracy_dt_demographics = accuracy_score(y_train, y_train_pred_dt_demographics)\n",
        "test_accuracy_dt_demographics = accuracy_score(y_test, y_test_pred_dt_demographics)"
      ]
    },
    {
      "cell_type": "code",
      "execution_count": 60,
      "metadata": {
        "id": "n1IelgGgTgtM",
        "colab": {
          "base_uri": "https://localhost:8080/"
        },
        "outputId": "e5c30abf-3ebc-4028-c2cd-413d72b1e852"
      },
      "outputs": [
        {
          "output_type": "stream",
          "name": "stdout",
          "text": [
            "Best parameters: {'alpha': 0.0001}\n"
          ]
        }
      ],
      "source": [
        "param_grid = {\n",
        "    'alpha': [0.0001, 0.001, 0.01],  # Creating range of alpha / learning rate values\n",
        "}\n",
        "\n",
        "nn_classifier = MLPClassifier() #Performing gridsearch\n",
        "grid_search = GridSearchCV(estimator=nn_classifier, param_grid=param_grid, cv=5)\n",
        "grid_search.fit(X_train_demographics, y_train)\n",
        "\n",
        "# Print the best parameters found\n",
        "print(\"Best parameters:\", grid_search.best_params_)"
      ]
    },
    {
      "cell_type": "code",
      "execution_count": 61,
      "metadata": {
        "id": "SamCY0cN0heu"
      },
      "outputs": [],
      "source": [
        "#Neaural Network\n",
        "learning_rate = 0.0001\n",
        "nn_model_demographics = MLPClassifier(alpha = learning_rate) #Defining and fitting model\n",
        "nn_model_demographics.fit(X_train_demographics, y_train)\n",
        "y_train_pred_nn_demographics = nn_model_demographics.predict(X_train_demographics)#Making / Evaluating predictions\n",
        "y_test_pred_nn_demographics = nn_model_demographics.predict(X_test_demographics)\n",
        "train_accuracy_nn_demographics = accuracy_score(y_train, y_train_pred_nn_demographics)\n",
        "test_accuracy_nn_demographics = accuracy_score(y_test, y_test_pred_nn_demographics)"
      ]
    },
    {
      "cell_type": "code",
      "execution_count": 62,
      "metadata": {
        "id": "KW4NVQjWXlAz",
        "colab": {
          "base_uri": "https://localhost:8080/"
        },
        "outputId": "18b111c7-cac3-4bb2-cbcc-fd56a0f97b15"
      },
      "outputs": [
        {
          "output_type": "stream",
          "name": "stdout",
          "text": [
            "Best parameters: {'alpha': 0.0001}\n"
          ]
        }
      ],
      "source": [
        "param_grid = {\n",
        "    'alpha': [0.0001, 0.001, 0.01],  # Creating range of alpha / learning rate values\n",
        "}\n",
        "\n",
        "sgd_model_demographics = SGDClassifier() #Performing gridsearch\n",
        "grid_search = GridSearchCV(estimator=nn_classifier, param_grid=param_grid, cv=5)\n",
        "grid_search.fit(X_train_demographics, y_train)\n",
        "\n",
        "# Print the best parameters found\n",
        "print(\"Best parameters:\", grid_search.best_params_)"
      ]
    },
    {
      "cell_type": "code",
      "execution_count": 63,
      "metadata": {
        "id": "ISj9Nnc_0oq8"
      },
      "outputs": [],
      "source": [
        "#Stochastic Gradient Discent\n",
        "learning_date = 0.0001\n",
        "sgd_model_demographics = SGDClassifier(alpha = learning_rate) #Defining and fitting model\n",
        "sgd_model_demographics.fit(X_train_demographics, y_train)\n",
        "y_train_pred_sgd_demographics = sgd_model_demographics.predict(X_train_demographics)#Making / Evaluating predictions\n",
        "y_test_pred_sgd_demographics = sgd_model_demographics.predict(X_test_demographics)\n",
        "train_accuracy_sgd_demographics = accuracy_score(y_train, y_train_pred_sgd_demographics)\n",
        "test_accuracy_sgd_demographics = accuracy_score(y_test, y_test_pred_sgd_demographics)"
      ]
    },
    {
      "cell_type": "code",
      "execution_count": 64,
      "metadata": {
        "id": "D09W-wb60rtI",
        "colab": {
          "base_uri": "https://localhost:8080/"
        },
        "outputId": "65c6bfcd-0ab1-4102-fc02-ff24f5d8fc1e"
      },
      "outputs": [
        {
          "output_type": "stream",
          "name": "stdout",
          "text": [
            "Demographics Category:\n",
            "Decision Tree Model:\n",
            "Overall Training Accuracy: 0.9906728847435043\n",
            "Overall Testing Accuracy: 0.9920212765957447\n",
            "Neural Network Model:\n",
            "Overall Training Accuracy: 0.9906728847435043\n",
            "Overall Testing Accuracy: 0.9920212765957447\n",
            "Stochastic Gradient Descent Model:\n",
            "Overall Training Accuracy: 0.9906728847435043\n",
            "Overall Testing Accuracy: 0.9920212765957447\n"
          ]
        }
      ],
      "source": [
        "print(\"Demographics Category:\")#Printing results\n",
        "print(\"Decision Tree Model:\")\n",
        "print(f\"Overall Training Accuracy: {train_accuracy_dt_demographics}\")\n",
        "print(f\"Overall Testing Accuracy: {test_accuracy_dt_demographics}\")\n",
        "\n",
        "print(\"Neural Network Model:\")\n",
        "print(f\"Overall Training Accuracy: {train_accuracy_nn_demographics}\")\n",
        "print(f\"Overall Testing Accuracy: {test_accuracy_nn_demographics}\")\n",
        "\n",
        "print(\"Stochastic Gradient Descent Model:\")\n",
        "print(f\"Overall Training Accuracy: {train_accuracy_sgd_demographics}\")\n",
        "print(f\"Overall Testing Accuracy: {test_accuracy_sgd_demographics}\")"
      ]
    },
    {
      "cell_type": "markdown",
      "metadata": {
        "id": "emMl-JvG0636"
      },
      "source": [
        "### Personality"
      ]
    },
    {
      "cell_type": "code",
      "execution_count": 65,
      "metadata": {
        "id": "kcb_KUwx0vhK"
      },
      "outputs": [],
      "source": [
        "X_personality = personality_df#Defining X and y\n",
        "y = df_cleaned[drug_category]"
      ]
    },
    {
      "cell_type": "code",
      "execution_count": 66,
      "metadata": {
        "id": "fxKFxNVk34OF"
      },
      "outputs": [],
      "source": [
        "X_train_personality, X_test_personality, y_train, y_test = train_test_split(X_personality, y, test_size=0.2, random_state=42)\n",
        "#Train test split"
      ]
    },
    {
      "cell_type": "code",
      "execution_count": 67,
      "metadata": {
        "id": "_62u2C8YHeFe",
        "colab": {
          "base_uri": "https://localhost:8080/"
        },
        "outputId": "bf0421da-b6a1-4912-a11b-fba32315d3df"
      },
      "outputs": [
        {
          "output_type": "stream",
          "name": "stdout",
          "text": [
            "Best parameters: {'max_depth': 3}\n"
          ]
        }
      ],
      "source": [
        "param_grid = {\n",
        "    'max_depth': [3, 5, 7, 10]  # Range of max_depth values for gridsearch\n",
        "}\n",
        "\n",
        "dt_classifier = DecisionTreeClassifier()#Performing gridsearch\n",
        "grid_search = GridSearchCV(estimator=dt_classifier, param_grid=param_grid, cv=5)\n",
        "grid_search.fit(X_train_personality, y_train)\n",
        "# Printing the best parameters found\n",
        "print(\"Best parameters:\", grid_search.best_params_)"
      ]
    },
    {
      "cell_type": "code",
      "execution_count": 68,
      "metadata": {
        "id": "3Rxvo7AF053t"
      },
      "outputs": [],
      "source": [
        "#Decision Tree\n",
        "max_depth = 3\n",
        "dt_model_personality = DecisionTreeClassifier(max_depth = max_depth) #Defining and fitting model\n",
        "dt_model_personality.fit(X_train_personality, y_train)\n",
        "y_train_pred_dt_personality = dt_model_personality.predict(X_train_personality)#Making / Evaluating predictions\n",
        "y_test_pred_dt_personality = dt_model_personality.predict(X_test_personality)\n",
        "train_accuracy_dt_personality = accuracy_score(y_train, y_train_pred_dt_personality)\n",
        "test_accuracy_dt_personality = accuracy_score(y_test, y_test_pred_dt_personality)"
      ]
    },
    {
      "cell_type": "code",
      "source": [
        "plt.figure(figsize=(20, 10))\n",
        "plot_tree(dt_model_personality, filled=True, feature_names=X_train_personality.columns, class_names=True)\n",
        "plt.show()"
      ],
      "metadata": {
        "colab": {
          "base_uri": "https://localhost:8080/",
          "height": 528
        },
        "id": "aCkN67lbZfXA",
        "outputId": "ff0e9c68-a9bf-493e-e0aa-123e8da65872"
      },
      "execution_count": 69,
      "outputs": [
        {
          "output_type": "display_data",
          "data": {
            "text/plain": [
              "<Figure size 2000x1000 with 1 Axes>"
            ],
            "image/png": "[encoded data removed]"
          },
          "metadata": {}
        }
      ]
    },
    {
      "cell_type": "code",
      "execution_count": 70,
      "metadata": {
        "id": "tzA28F_UR1fV",
        "colab": {
          "base_uri": "https://localhost:8080/"
        },
        "outputId": "60d1434a-c0d4-45c2-e167-898e19af0b2d"
      },
      "outputs": [
        {
          "output_type": "stream",
          "name": "stdout",
          "text": [
            "Best parameters: {'alpha': 0.0001}\n"
          ]
        }
      ],
      "source": [
        "param_grid = {\n",
        "    'alpha': [0.0001, 0.001, 0.01],  # Creating range of alpha / learning rate values\n",
        "}\n",
        "\n",
        "nn_classifier = MLPClassifier() #Performing gridsearch\n",
        "grid_search = GridSearchCV(estimator=nn_classifier, param_grid=param_grid, cv=5)\n",
        "grid_search.fit(X_train_personality, y_train)\n",
        "\n",
        "# Print the best parameters found\n",
        "print(\"Best parameters:\", grid_search.best_params_)"
      ]
    },
    {
      "cell_type": "code",
      "execution_count": 71,
      "metadata": {
        "id": "iCqR22AM1F-V"
      },
      "outputs": [],
      "source": [
        "#Neaural Network\n",
        "learning_rate = 0.0001\n",
        "nn_model_personality = MLPClassifier(alpha = learning_rate) #Defining and fitting model\n",
        "nn_model_personality.fit(X_train_personality, y_train)\n",
        "y_train_pred_nn_personality = nn_model_personality.predict(X_train_personality)#Making / Evaluating predictions\n",
        "y_test_pred_nn_personality = nn_model_personality.predict(X_test_personality)\n",
        "train_accuracy_nn_personality = accuracy_score(y_train, y_train_pred_nn_personality)\n",
        "test_accuracy_nn_personality = accuracy_score(y_test, y_test_pred_nn_personality)"
      ]
    },
    {
      "cell_type": "code",
      "execution_count": 72,
      "metadata": {
        "id": "RCr0_DdaXIRH",
        "colab": {
          "base_uri": "https://localhost:8080/"
        },
        "outputId": "86ab44f4-d8bd-4fd5-c52e-3aacb3640e32"
      },
      "outputs": [
        {
          "output_type": "stream",
          "name": "stdout",
          "text": [
            "Best parameters: {'alpha': 0.0001}\n"
          ]
        },
        {
          "output_type": "stream",
          "name": "stderr",
          "text": [
            "/usr/local/lib/python3.10/dist-packages/sklearn/neural_network/_multilayer_perceptron.py:686: ConvergenceWarning: Stochastic Optimizer: Maximum iterations (200) reached and the optimization hasn't converged yet.\n",
            "  warnings.warn(\n"
          ]
        }
      ],
      "source": [
        "param_grid = {\n",
        "    'alpha': [0.0001, 0.001, 0.01],  # Creating range of alpha / learning rate values\n",
        "}\n",
        "\n",
        "sgd_model_personality = SGDClassifier() #Performing gridsearch\n",
        "grid_search = GridSearchCV(estimator=nn_classifier, param_grid=param_grid, cv=5)\n",
        "grid_search.fit(X_train_personality, y_train)\n",
        "\n",
        "# Print the best parameters found\n",
        "print(\"Best parameters:\", grid_search.best_params_)"
      ]
    },
    {
      "cell_type": "code",
      "execution_count": 73,
      "metadata": {
        "id": "UuGUU5ds1IRL"
      },
      "outputs": [],
      "source": [
        "#Stochastic Gradient Discent\n",
        "learning_date = 0.0001\n",
        "sgd_model_personality = SGDClassifier(alpha = learning_rate) #Defining and fitting model\n",
        "sgd_model_personality.fit(X_train_personality, y_train)\n",
        "y_train_pred_sgd_personality = sgd_model_personality.predict(X_train_personality)#Making / Evaluating predictions\n",
        "y_test_pred_sgd_personality = sgd_model_personality.predict(X_test_personality)\n",
        "train_accuracy_sgd_personality = accuracy_score(y_train, y_train_pred_sgd_personality)\n",
        "test_accuracy_sgd_personality = accuracy_score(y_test, y_test_pred_sgd_personality)"
      ]
    },
    {
      "cell_type": "code",
      "execution_count": 74,
      "metadata": {
        "id": "aY-yrOLy1Ka8",
        "colab": {
          "base_uri": "https://localhost:8080/"
        },
        "outputId": "631b946a-73f3-4027-935f-f141008e73c8"
      },
      "outputs": [
        {
          "output_type": "stream",
          "name": "stdout",
          "text": [
            "Personality Category:\n",
            "Decision Tree Model:\n",
            "Overall Training Accuracy: 0.9920053297801465\n",
            "Overall Testing Accuracy: 0.9867021276595744\n",
            "Neural Network Model:\n",
            "Overall Training Accuracy: 0.9913391072618255\n",
            "Overall Testing Accuracy: 0.9893617021276596\n",
            "Stochastic Gradient Descent Model:\n",
            "Overall Training Accuracy: 0.9913391072618255\n",
            "Overall Testing Accuracy: 0.9893617021276596\n"
          ]
        }
      ],
      "source": [
        "print(\"Personality Category:\") #Printing results\n",
        "print(\"Decision Tree Model:\")\n",
        "print(f\"Overall Training Accuracy: {train_accuracy_dt_personality}\")\n",
        "print(f\"Overall Testing Accuracy: {test_accuracy_dt_personality}\")\n",
        "\n",
        "print(\"Neural Network Model:\")\n",
        "print(f\"Overall Training Accuracy: {train_accuracy_nn_personality}\")\n",
        "print(f\"Overall Testing Accuracy: {test_accuracy_nn_personality}\")\n",
        "\n",
        "print(\"Stochastic Gradient Descent Model:\")\n",
        "print(f\"Overall Training Accuracy: {train_accuracy_sgd_personality}\")\n",
        "print(f\"Overall Testing Accuracy: {test_accuracy_sgd_personality}\")"
      ]
    },
    {
      "cell_type": "markdown",
      "metadata": {
        "id": "PVEr_BWm1Utx"
      },
      "source": [
        "### Risk-seeking"
      ]
    },
    {
      "cell_type": "code",
      "execution_count": 75,
      "metadata": {
        "id": "V-McldgR1Nv3"
      },
      "outputs": [],
      "source": [
        "X_risk_seeking = risk_seeking_df#Definint X and y\n",
        "y = df_cleaned[drug_category]"
      ]
    },
    {
      "cell_type": "code",
      "execution_count": 76,
      "metadata": {
        "id": "cB1pQDL31UXa"
      },
      "outputs": [],
      "source": [
        "X_train_risk_seeking, X_test_risk_seeking, y_train, y_test = train_test_split(X_risk_seeking, y, test_size=0.2, random_state=42)\n",
        "#Train test split"
      ]
    },
    {
      "cell_type": "code",
      "execution_count": 77,
      "metadata": {
        "id": "WTU4XoVzJMda",
        "colab": {
          "base_uri": "https://localhost:8080/"
        },
        "outputId": "e88ffe4b-a0fc-41e6-ae72-a10717424170"
      },
      "outputs": [
        {
          "output_type": "stream",
          "name": "stdout",
          "text": [
            "Best parameters: {'max_depth': 3}\n"
          ]
        }
      ],
      "source": [
        "param_grid = {\n",
        "    'max_depth': [3, 5, 7, 10]  # Range of max_depth values for gridsearch\n",
        "}\n",
        "\n",
        "dt_classifier = DecisionTreeClassifier()#Performing gridsearch\n",
        "grid_search = GridSearchCV(estimator=dt_classifier, param_grid=param_grid, cv=5)\n",
        "grid_search.fit(X_train_personality, y_train)\n",
        "# Printing the best parameters found\n",
        "print(\"Best parameters:\", grid_search.best_params_)"
      ]
    },
    {
      "cell_type": "code",
      "execution_count": 78,
      "metadata": {
        "id": "4UrrHL5a1dZq"
      },
      "outputs": [],
      "source": [
        "#Decision Tree\n",
        "max_depth = 3\n",
        "dt_model_risk_seeking = DecisionTreeClassifier(max_depth = max_depth) #Defining and fitting model\n",
        "dt_model_risk_seeking.fit(X_train_risk_seeking, y_train)\n",
        "y_train_pred_dt_risk_seeking = dt_model_risk_seeking.predict(X_train_risk_seeking)#Making / Evaluating predictions\n",
        "y_test_pred_dt_risk_seeking = dt_model_risk_seeking.predict(X_test_risk_seeking)\n",
        "train_accuracy_dt_risk_seeking = accuracy_score(y_train, y_train_pred_dt_risk_seeking)\n",
        "test_accuracy_dt_risk_seeking = accuracy_score(y_test, y_test_pred_dt_risk_seeking)"
      ]
    },
    {
      "cell_type": "code",
      "execution_count": 79,
      "metadata": {
        "id": "CFlmMOqVRCtT",
        "colab": {
          "base_uri": "https://localhost:8080/"
        },
        "outputId": "a98dffa1-cce6-4527-d9b0-b4a3de93145d"
      },
      "outputs": [
        {
          "output_type": "stream",
          "name": "stdout",
          "text": [
            "Best parameters: {'alpha': 0.0001}\n"
          ]
        }
      ],
      "source": [
        "param_grid = {\n",
        "    'alpha': [0.0001, 0.001, 0.01],  # Creating range of alpha / learning rate values\n",
        "}\n",
        "\n",
        "nn_classifier = MLPClassifier() #Performing gridsearch\n",
        "grid_search = GridSearchCV(estimator=nn_classifier, param_grid=param_grid, cv=5)\n",
        "grid_search.fit(X_train_risk_seeking, y_train)\n",
        "\n",
        "# Print the best parameters found\n",
        "print(\"Best parameters:\", grid_search.best_params_)"
      ]
    },
    {
      "cell_type": "code",
      "execution_count": 80,
      "metadata": {
        "id": "9PxoAOHe1gRD"
      },
      "outputs": [],
      "source": [
        "#Neural Network\n",
        "learning_rate = 0.0001\n",
        "nn_model_risk_seeking = MLPClassifier(alpha = learning_rate) #Defining and fitting model\n",
        "nn_model_risk_seeking.fit(X_train_risk_seeking, y_train)\n",
        "y_train_pred_nn_risk_seeking = nn_model_risk_seeking.predict(X_train_risk_seeking)#Making / Evaluating predictions\n",
        "y_test_pred_nn_risk_seeking = nn_model_risk_seeking.predict(X_test_risk_seeking)\n",
        "train_accuracy_nn_risk_seeking = accuracy_score(y_train, y_train_pred_nn_risk_seeking)\n",
        "test_accuracy_nn_risk_seeking = accuracy_score(y_test, y_test_pred_nn_risk_seeking)"
      ]
    },
    {
      "cell_type": "code",
      "execution_count": 81,
      "metadata": {
        "id": "AnU5giGYWyUz",
        "colab": {
          "base_uri": "https://localhost:8080/"
        },
        "outputId": "157a9993-0508-4ce4-9d50-00b1232a66fc"
      },
      "outputs": [
        {
          "output_type": "stream",
          "name": "stdout",
          "text": [
            "Best parameters: {'alpha': 0.0001}\n"
          ]
        }
      ],
      "source": [
        "param_grid = {\n",
        "    'alpha': [0.0001, 0.001, 0.01],  # Creating range of alpha / learning rate values\n",
        "}\n",
        "\n",
        "sgd_model_risk_seeking = SGDClassifier() #Performing gridsearch\n",
        "grid_search = GridSearchCV(estimator=nn_classifier, param_grid=param_grid, cv=5)\n",
        "grid_search.fit(X_train_risk_seeking, y_train)\n",
        "\n",
        "# Print the best parameters found\n",
        "print(\"Best parameters:\", grid_search.best_params_)"
      ]
    },
    {
      "cell_type": "code",
      "execution_count": 82,
      "metadata": {
        "id": "mAtj5E4F1iZ9"
      },
      "outputs": [],
      "source": [
        "#Stochastic Gradient Descent\n",
        "learning_date = 0.0001\n",
        "sgd_model_risk_seeking = SGDClassifier(alpha = learning_rate) #Defining and fitting model\n",
        "sgd_model_risk_seeking.fit(X_train_risk_seeking, y_train)\n",
        "y_train_pred_sgd_risk_seeking = sgd_model_risk_seeking.predict(X_train_risk_seeking)#Making / Evaluating predictions\n",
        "y_test_pred_sgd_risk_seeking = sgd_model_risk_seeking.predict(X_test_risk_seeking)\n",
        "train_accuracy_sgd_risk_seeking = accuracy_score(y_train, y_train_pred_sgd_risk_seeking)\n",
        "test_accuracy_sgd_risk_seeking = accuracy_score(y_test, y_test_pred_sgd_risk_seeking)"
      ]
    },
    {
      "cell_type": "code",
      "execution_count": 83,
      "metadata": {
        "id": "C3EpHTWg1kk8",
        "colab": {
          "base_uri": "https://localhost:8080/"
        },
        "outputId": "d945d012-ab56-40d8-d7ae-b3cc0560826b"
      },
      "outputs": [
        {
          "output_type": "stream",
          "name": "stdout",
          "text": [
            "Risk-Seeking Category:\n",
            "Decision Tree Model:\n",
            "Overall Training Accuracy: 0.9913391072618255\n",
            "Overall Testing Accuracy: 0.9893617021276596\n",
            "Neural Network Model:\n",
            "Overall Training Accuracy: 0.9913391072618255\n",
            "Overall Testing Accuracy: 0.9893617021276596\n",
            "Stochastic Gradient Descent Model:\n",
            "Overall Training Accuracy: 0.9913391072618255\n",
            "Overall Testing Accuracy: 0.9893617021276596\n"
          ]
        }
      ],
      "source": [
        "print(\"Risk-Seeking Category:\")#Printing results\n",
        "print(\"Decision Tree Model:\")\n",
        "print(f\"Overall Training Accuracy: {train_accuracy_dt_risk_seeking}\")\n",
        "print(f\"Overall Testing Accuracy: {test_accuracy_dt_risk_seeking}\")\n",
        "\n",
        "print(\"Neural Network Model:\")\n",
        "print(f\"Overall Training Accuracy: {train_accuracy_nn_risk_seeking}\")\n",
        "print(f\"Overall Testing Accuracy: {test_accuracy_nn_risk_seeking}\")\n",
        "\n",
        "print(\"Stochastic Gradient Descent Model:\")\n",
        "print(f\"Overall Training Accuracy: {train_accuracy_sgd_risk_seeking}\")\n",
        "print(f\"Overall Testing Accuracy: {test_accuracy_sgd_risk_seeking}\")"
      ]
    },
    {
      "cell_type": "markdown",
      "metadata": {
        "id": "-yfXMFJ_2qnh"
      },
      "source": [
        "## Modeling for category 2 drugs"
      ]
    },
    {
      "cell_type": "markdown",
      "metadata": {
        "id": "BuTRa7Zc2u26"
      },
      "source": [
        "### Demographics"
      ]
    },
    {
      "cell_type": "code",
      "execution_count": 84,
      "metadata": {
        "id": "QyCd2tds1oGb"
      },
      "outputs": [],
      "source": [
        "drug_category = 'Cat2' #Defining category"
      ]
    },
    {
      "cell_type": "code",
      "execution_count": 85,
      "metadata": {
        "id": "Q_ynt7Xs3G2Y"
      },
      "outputs": [],
      "source": [
        "X_demographics = demographics_df #Defining X features and y targets\n",
        "y = df_cleaned[drug_category]"
      ]
    },
    {
      "cell_type": "code",
      "execution_count": 86,
      "metadata": {
        "id": "PLEClgOR4AyU"
      },
      "outputs": [],
      "source": [
        "X_train_demographics, X_test_demographics, y_train, y_test = train_test_split(X_demographics, y, test_size=0.2, random_state=42, stratify=X_demographics['Age'])\n",
        "#Train test split"
      ]
    },
    {
      "cell_type": "code",
      "execution_count": 87,
      "metadata": {
        "id": "vajVmVDzGwF0",
        "colab": {
          "base_uri": "https://localhost:8080/"
        },
        "outputId": "78272a82-be44-45ff-f567-b76ee3e0215b"
      },
      "outputs": [
        {
          "output_type": "stream",
          "name": "stdout",
          "text": [
            "Best parameters: {'max_depth': 3}\n"
          ]
        }
      ],
      "source": [
        "param_grid = {\n",
        "    'max_depth': [3, 5, 7, 10]  # Range of max_depth values for gridsearch\n",
        "}\n",
        "\n",
        "dt_classifier = DecisionTreeClassifier()#Performing gridsearch\n",
        "grid_search = GridSearchCV(estimator=dt_classifier, param_grid=param_grid, cv=5)\n",
        "grid_search.fit(X_train_demographics, y_train)\n",
        "# Printing the best parameters found\n",
        "print(\"Best parameters:\", grid_search.best_params_)"
      ]
    },
    {
      "cell_type": "code",
      "execution_count": 88,
      "metadata": {
        "id": "IYq3lOaG3LC5"
      },
      "outputs": [],
      "source": [
        "#Decision Tree\n",
        "max_depth = 3\n",
        "dt_model_demographics = DecisionTreeClassifier(max_depth = max_depth) #Defining and fitting model\n",
        "dt_model_demographics.fit(X_train_demographics, y_train)\n",
        "y_train_pred_dt_demographics = dt_model_demographics.predict(X_train_demographics)#Making / Evaluating predictions\n",
        "y_test_pred_dt_demographics = dt_model_demographics.predict(X_test_demographics)\n",
        "train_accuracy_dt_demographics = accuracy_score(y_train, y_train_pred_dt_demographics)\n",
        "test_accuracy_dt_demographics = accuracy_score(y_test, y_test_pred_dt_demographics)"
      ]
    },
    {
      "cell_type": "code",
      "execution_count": 89,
      "metadata": {
        "id": "wMLpcZTyTeoj",
        "colab": {
          "base_uri": "https://localhost:8080/"
        },
        "outputId": "31de6cb9-7738-4e2e-e7b5-47453ece52ab"
      },
      "outputs": [
        {
          "output_type": "stream",
          "name": "stderr",
          "text": [
            "/usr/local/lib/python3.10/dist-packages/sklearn/neural_network/_multilayer_perceptron.py:686: ConvergenceWarning: Stochastic Optimizer: Maximum iterations (200) reached and the optimization hasn't converged yet.\n",
            "  warnings.warn(\n",
            "/usr/local/lib/python3.10/dist-packages/sklearn/neural_network/_multilayer_perceptron.py:686: ConvergenceWarning: Stochastic Optimizer: Maximum iterations (200) reached and the optimization hasn't converged yet.\n",
            "  warnings.warn(\n",
            "/usr/local/lib/python3.10/dist-packages/sklearn/neural_network/_multilayer_perceptron.py:686: ConvergenceWarning: Stochastic Optimizer: Maximum iterations (200) reached and the optimization hasn't converged yet.\n",
            "  warnings.warn(\n"
          ]
        },
        {
          "output_type": "stream",
          "name": "stdout",
          "text": [
            "Best parameters: {'alpha': 0.0001}\n"
          ]
        },
        {
          "output_type": "stream",
          "name": "stderr",
          "text": [
            "/usr/local/lib/python3.10/dist-packages/sklearn/neural_network/_multilayer_perceptron.py:686: ConvergenceWarning: Stochastic Optimizer: Maximum iterations (200) reached and the optimization hasn't converged yet.\n",
            "  warnings.warn(\n"
          ]
        }
      ],
      "source": [
        "param_grid = {\n",
        "    'alpha': [0.0001, 0.001, 0.01],  # Creating range of alpha / learning rate values\n",
        "}\n",
        "\n",
        "nn_classifier = MLPClassifier() #Performing gridsearch\n",
        "grid_search = GridSearchCV(estimator=nn_classifier, param_grid=param_grid, cv=5)\n",
        "grid_search.fit(X_train_demographics, y_train)\n",
        "\n",
        "# Print the best parameters found\n",
        "print(\"Best parameters:\", grid_search.best_params_)"
      ]
    },
    {
      "cell_type": "code",
      "execution_count": 90,
      "metadata": {
        "id": "qakA4vb53Nvr"
      },
      "outputs": [],
      "source": [
        "#Neaural Network\n",
        "learning_rate = 0.0001\n",
        "nn_model_demographics = MLPClassifier(alpha = learning_rate) #Defining and fitting model\n",
        "nn_model_demographics.fit(X_train_demographics, y_train)\n",
        "y_train_pred_nn_demographics = nn_model_demographics.predict(X_train_demographics)#Making / Evaluating predictions\n",
        "y_test_pred_nn_demographics = nn_model_demographics.predict(X_test_demographics)\n",
        "train_accuracy_nn_demographics = accuracy_score(y_train, y_train_pred_nn_demographics)\n",
        "test_accuracy_nn_demographics = accuracy_score(y_test, y_test_pred_nn_demographics)"
      ]
    },
    {
      "cell_type": "code",
      "execution_count": 91,
      "metadata": {
        "id": "rmBje7e4Xitj",
        "colab": {
          "base_uri": "https://localhost:8080/"
        },
        "outputId": "0b8b5711-9301-4683-ba76-3d3d47a22ccd"
      },
      "outputs": [
        {
          "output_type": "stream",
          "name": "stderr",
          "text": [
            "/usr/local/lib/python3.10/dist-packages/sklearn/neural_network/_multilayer_perceptron.py:686: ConvergenceWarning: Stochastic Optimizer: Maximum iterations (200) reached and the optimization hasn't converged yet.\n",
            "  warnings.warn(\n",
            "/usr/local/lib/python3.10/dist-packages/sklearn/neural_network/_multilayer_perceptron.py:686: ConvergenceWarning: Stochastic Optimizer: Maximum iterations (200) reached and the optimization hasn't converged yet.\n",
            "  warnings.warn(\n",
            "/usr/local/lib/python3.10/dist-packages/sklearn/neural_network/_multilayer_perceptron.py:686: ConvergenceWarning: Stochastic Optimizer: Maximum iterations (200) reached and the optimization hasn't converged yet.\n",
            "  warnings.warn(\n"
          ]
        },
        {
          "output_type": "stream",
          "name": "stdout",
          "text": [
            "Best parameters: {'alpha': 0.0001}\n"
          ]
        }
      ],
      "source": [
        "param_grid = {\n",
        "    'alpha': [0.0001, 0.001, 0.01],  # Creating range of alpha / learning rate values\n",
        "}\n",
        "\n",
        "sgd_model_demographics = SGDClassifier() #Performing gridsearch\n",
        "grid_search = GridSearchCV(estimator=nn_classifier, param_grid=param_grid, cv=5)\n",
        "grid_search.fit(X_train_demographics, y_train)\n",
        "\n",
        "# Print the best parameters found\n",
        "print(\"Best parameters:\", grid_search.best_params_)"
      ]
    },
    {
      "cell_type": "code",
      "execution_count": 92,
      "metadata": {
        "id": "P2s4Pc3O3PBY"
      },
      "outputs": [],
      "source": [
        "#Stochastic Gradient Discent\n",
        "learning_date = 0.001\n",
        "sgd_model_demographics = SGDClassifier(alpha = learning_rate) #Defining and fitting model\n",
        "sgd_model_demographics.fit(X_train_demographics, y_train)\n",
        "y_train_pred_sgd_demographics = sgd_model_demographics.predict(X_train_demographics)#Making / Evaluating predictions\n",
        "y_test_pred_sgd_demographics = sgd_model_demographics.predict(X_test_demographics)\n",
        "train_accuracy_sgd_demographics = accuracy_score(y_train, y_train_pred_sgd_demographics)\n",
        "test_accuracy_sgd_demographics = accuracy_score(y_test, y_test_pred_sgd_demographics)"
      ]
    },
    {
      "cell_type": "code",
      "execution_count": 93,
      "metadata": {
        "id": "nwfnDnLLBo_x",
        "colab": {
          "base_uri": "https://localhost:8080/"
        },
        "outputId": "e102fe9b-c0c2-4d1b-dee7-e0a47a0fa62f"
      },
      "outputs": [
        {
          "output_type": "stream",
          "name": "stdout",
          "text": [
            "Demographics Category:\n",
            "Decision Tree Model:\n",
            "Overall Training Accuracy: 0.754163890739507\n",
            "Overall Testing Accuracy: 0.7420212765957447\n",
            "Neural Network Model:\n",
            "Overall Training Accuracy: 0.7574950033311126\n",
            "Overall Testing Accuracy: 0.7606382978723404\n",
            "Stochastic Gradient Descent Model:\n",
            "Overall Training Accuracy: 0.7008660892738174\n",
            "Overall Testing Accuracy: 0.7393617021276596\n"
          ]
        }
      ],
      "source": [
        "print(\"Demographics Category:\") #Printing results\n",
        "print(\"Decision Tree Model:\")\n",
        "print(f\"Overall Training Accuracy: {train_accuracy_dt_demographics}\")\n",
        "print(f\"Overall Testing Accuracy: {test_accuracy_dt_demographics}\")\n",
        "\n",
        "print(\"Neural Network Model:\")\n",
        "print(f\"Overall Training Accuracy: {train_accuracy_nn_demographics}\")\n",
        "print(f\"Overall Testing Accuracy: {test_accuracy_nn_demographics}\")\n",
        "\n",
        "print(\"Stochastic Gradient Descent Model:\")\n",
        "print(f\"Overall Training Accuracy: {train_accuracy_sgd_demographics}\")\n",
        "print(f\"Overall Testing Accuracy: {test_accuracy_sgd_demographics}\")"
      ]
    },
    {
      "cell_type": "markdown",
      "metadata": {
        "id": "KDc98KVa3Vcm"
      },
      "source": [
        "### Personality"
      ]
    },
    {
      "cell_type": "code",
      "execution_count": 94,
      "metadata": {
        "id": "qBEFk_RR3Y3s"
      },
      "outputs": [],
      "source": [
        "X_personality = personality_df #Defining X and y\n",
        "y = df_cleaned[drug_category]"
      ]
    },
    {
      "cell_type": "code",
      "execution_count": 95,
      "metadata": {
        "id": "0NHpFQow38nm"
      },
      "outputs": [],
      "source": [
        "X_train_personality, X_test_personality, y_train, y_test = train_test_split(X_personality, y, test_size=0.2, random_state=42)\n",
        "#Train test split"
      ]
    },
    {
      "cell_type": "code",
      "execution_count": 96,
      "metadata": {
        "id": "c76Feaq7Hazg",
        "colab": {
          "base_uri": "https://localhost:8080/"
        },
        "outputId": "8b473d6b-0eb5-45d6-8423-0e748efca42f"
      },
      "outputs": [
        {
          "output_type": "stream",
          "name": "stdout",
          "text": [
            "Best parameters: {'max_depth': 3}\n"
          ]
        }
      ],
      "source": [
        "param_grid = {\n",
        "    'max_depth': [3, 5, 7, 10]  # Range of max_depth values for gridsearch\n",
        "}\n",
        "\n",
        "dt_classifier = DecisionTreeClassifier()#Performing gridsearch\n",
        "grid_search = GridSearchCV(estimator=dt_classifier, param_grid=param_grid, cv=5)\n",
        "grid_search.fit(X_train_personality, y_train)\n",
        "# Printing the best parameters found\n",
        "print(\"Best parameters:\", grid_search.best_params_)"
      ]
    },
    {
      "cell_type": "code",
      "execution_count": 97,
      "metadata": {
        "id": "3xgk96Hk3hxG"
      },
      "outputs": [],
      "source": [
        "#Decision Tree\n",
        "max_depth = 3\n",
        "dt_model_personality = DecisionTreeClassifier(max_depth = max_depth) #Defining and fitting model\n",
        "dt_model_personality.fit(X_train_personality, y_train)\n",
        "y_train_pred_dt_personality = dt_model_personality.predict(X_train_personality)#Making / Evaluating predictions\n",
        "y_test_pred_dt_personality = dt_model_personality.predict(X_test_personality)\n",
        "train_accuracy_dt_personality = accuracy_score(y_train, y_train_pred_dt_personality)\n",
        "test_accuracy_dt_personality = accuracy_score(y_test, y_test_pred_dt_personality)"
      ]
    },
    {
      "cell_type": "code",
      "execution_count": 98,
      "metadata": {
        "id": "URe-NVGrRxj9",
        "colab": {
          "base_uri": "https://localhost:8080/"
        },
        "outputId": "cbc1f619-74c3-4aca-edcc-97bf241f9dd5"
      },
      "outputs": [
        {
          "output_type": "stream",
          "name": "stderr",
          "text": [
            "/usr/local/lib/python3.10/dist-packages/sklearn/neural_network/_multilayer_perceptron.py:686: ConvergenceWarning: Stochastic Optimizer: Maximum iterations (200) reached and the optimization hasn't converged yet.\n",
            "  warnings.warn(\n",
            "/usr/local/lib/python3.10/dist-packages/sklearn/neural_network/_multilayer_perceptron.py:686: ConvergenceWarning: Stochastic Optimizer: Maximum iterations (200) reached and the optimization hasn't converged yet.\n",
            "  warnings.warn(\n",
            "/usr/local/lib/python3.10/dist-packages/sklearn/neural_network/_multilayer_perceptron.py:686: ConvergenceWarning: Stochastic Optimizer: Maximum iterations (200) reached and the optimization hasn't converged yet.\n",
            "  warnings.warn(\n"
          ]
        },
        {
          "output_type": "stream",
          "name": "stdout",
          "text": [
            "Best parameters: {'alpha': 0.01}\n"
          ]
        },
        {
          "output_type": "stream",
          "name": "stderr",
          "text": [
            "/usr/local/lib/python3.10/dist-packages/sklearn/neural_network/_multilayer_perceptron.py:686: ConvergenceWarning: Stochastic Optimizer: Maximum iterations (200) reached and the optimization hasn't converged yet.\n",
            "  warnings.warn(\n"
          ]
        }
      ],
      "source": [
        "param_grid = {\n",
        "    'alpha': [0.0001, 0.001, 0.01],  # Creating range of alpha / learning rate values\n",
        "}\n",
        "\n",
        "nn_classifier = MLPClassifier() #Performing gridsearch\n",
        "grid_search = GridSearchCV(estimator=nn_classifier, param_grid=param_grid, cv=5)\n",
        "grid_search.fit(X_train_personality, y_train)\n",
        "\n",
        "# Print the best parameters found\n",
        "print(\"Best parameters:\", grid_search.best_params_)"
      ]
    },
    {
      "cell_type": "code",
      "execution_count": 99,
      "metadata": {
        "id": "BdKnaYSg3jzf",
        "colab": {
          "base_uri": "https://localhost:8080/"
        },
        "outputId": "9215f3ad-bcc4-41c0-8229-f91e2d0756a4"
      },
      "outputs": [
        {
          "output_type": "stream",
          "name": "stderr",
          "text": [
            "/usr/local/lib/python3.10/dist-packages/sklearn/neural_network/_multilayer_perceptron.py:686: ConvergenceWarning: Stochastic Optimizer: Maximum iterations (200) reached and the optimization hasn't converged yet.\n",
            "  warnings.warn(\n"
          ]
        }
      ],
      "source": [
        "#Neaural Network\n",
        "learning_rate = 0.01\n",
        "nn_model_personality = MLPClassifier(alpha = learning_rate) #Defining and fitting model\n",
        "nn_model_personality.fit(X_train_personality, y_train)\n",
        "y_train_pred_nn_personality = nn_model_personality.predict(X_train_personality) #Making / Evaluating predictions\n",
        "y_test_pred_nn_personality = nn_model_personality.predict(X_test_personality)\n",
        "train_accuracy_nn_personality = accuracy_score(y_train, y_train_pred_nn_personality)\n",
        "test_accuracy_nn_personality = accuracy_score(y_test, y_test_pred_nn_personality)"
      ]
    },
    {
      "cell_type": "code",
      "execution_count": 100,
      "metadata": {
        "id": "kglu8gncXKOZ",
        "colab": {
          "base_uri": "https://localhost:8080/"
        },
        "outputId": "5fbd4889-14a2-4172-8d5b-cb80ad0c3c5f"
      },
      "outputs": [
        {
          "output_type": "stream",
          "name": "stderr",
          "text": [
            "/usr/local/lib/python3.10/dist-packages/sklearn/neural_network/_multilayer_perceptron.py:686: ConvergenceWarning: Stochastic Optimizer: Maximum iterations (200) reached and the optimization hasn't converged yet.\n",
            "  warnings.warn(\n",
            "/usr/local/lib/python3.10/dist-packages/sklearn/neural_network/_multilayer_perceptron.py:686: ConvergenceWarning: Stochastic Optimizer: Maximum iterations (200) reached and the optimization hasn't converged yet.\n",
            "  warnings.warn(\n",
            "/usr/local/lib/python3.10/dist-packages/sklearn/neural_network/_multilayer_perceptron.py:686: ConvergenceWarning: Stochastic Optimizer: Maximum iterations (200) reached and the optimization hasn't converged yet.\n",
            "  warnings.warn(\n"
          ]
        },
        {
          "output_type": "stream",
          "name": "stdout",
          "text": [
            "Best parameters: {'alpha': 0.01}\n"
          ]
        },
        {
          "output_type": "stream",
          "name": "stderr",
          "text": [
            "/usr/local/lib/python3.10/dist-packages/sklearn/neural_network/_multilayer_perceptron.py:686: ConvergenceWarning: Stochastic Optimizer: Maximum iterations (200) reached and the optimization hasn't converged yet.\n",
            "  warnings.warn(\n"
          ]
        }
      ],
      "source": [
        "param_grid = {\n",
        "    'alpha': [0.0001, 0.001, 0.01],  # Creating range of alpha / learning rate values\n",
        "}\n",
        "\n",
        "sgd_model_personality = SGDClassifier() #Performing gridsearch\n",
        "grid_search = GridSearchCV(estimator=nn_classifier, param_grid=param_grid, cv=5)\n",
        "grid_search.fit(X_train_personality, y_train)\n",
        "\n",
        "# Print the best parameters found\n",
        "print(\"Best parameters:\", grid_search.best_params_)"
      ]
    },
    {
      "cell_type": "code",
      "execution_count": 101,
      "metadata": {
        "id": "Lh15087k3okQ"
      },
      "outputs": [],
      "source": [
        "#Stochastic Gradient Discent\n",
        "learning_date = 0.001\n",
        "sgd_model_personality = SGDClassifier(alpha = learning_rate) #Defining and fitting model\n",
        "sgd_model_personality.fit(X_train_personality, y_train)\n",
        "y_train_pred_sgd_personality = sgd_model_personality.predict(X_train_personality)#Making / Evaluating predictions\n",
        "y_test_pred_sgd_personality = sgd_model_personality.predict(X_test_personality)\n",
        "train_accuracy_sgd_personality = accuracy_score(y_train, y_train_pred_sgd_personality)\n",
        "test_accuracy_sgd_personality = accuracy_score(y_test, y_test_pred_sgd_personality)"
      ]
    },
    {
      "cell_type": "code",
      "execution_count": 102,
      "metadata": {
        "id": "bEo4s2CdB-Bv",
        "colab": {
          "base_uri": "https://localhost:8080/"
        },
        "outputId": "ee1567f4-c449-4c93-aa7a-2b4522f8f702"
      },
      "outputs": [
        {
          "output_type": "stream",
          "name": "stdout",
          "text": [
            "Personality Category:\n",
            "Decision Tree Model:\n",
            "Overall Training Accuracy: 0.7794803464357095\n",
            "Overall Testing Accuracy: 0.7553191489361702\n",
            "Neural Network Model:\n",
            "Overall Training Accuracy: 0.8001332445036642\n",
            "Overall Testing Accuracy: 0.7526595744680851\n",
            "Stochastic Gradient Descent Model:\n",
            "Overall Training Accuracy: 0.7501665556295802\n",
            "Overall Testing Accuracy: 0.7180851063829787\n"
          ]
        }
      ],
      "source": [
        "print(\"Personality Category:\")#Printing results\n",
        "print(\"Decision Tree Model:\")\n",
        "print(f\"Overall Training Accuracy: {train_accuracy_dt_personality}\")\n",
        "print(f\"Overall Testing Accuracy: {test_accuracy_dt_personality}\")\n",
        "\n",
        "print(\"Neural Network Model:\")\n",
        "print(f\"Overall Training Accuracy: {train_accuracy_nn_personality}\")\n",
        "print(f\"Overall Testing Accuracy: {test_accuracy_nn_personality}\")\n",
        "\n",
        "print(\"Stochastic Gradient Descent Model:\")\n",
        "print(f\"Overall Training Accuracy: {train_accuracy_sgd_personality}\")\n",
        "print(f\"Overall Testing Accuracy: {test_accuracy_sgd_personality}\")"
      ]
    },
    {
      "cell_type": "markdown",
      "metadata": {
        "id": "Zqtaso_f3pzK"
      },
      "source": [
        "### Risk-seeking"
      ]
    },
    {
      "cell_type": "code",
      "execution_count": 103,
      "metadata": {
        "id": "ccLBBlVI4Ey1"
      },
      "outputs": [],
      "source": [
        "X_risk_seeking = risk_seeking_df#Printing X and y\n",
        "y = df_cleaned[drug_category]"
      ]
    },
    {
      "cell_type": "code",
      "execution_count": 104,
      "metadata": {
        "id": "aVSWHVwr3sdD"
      },
      "outputs": [],
      "source": [
        "X_train_risk_seeking, X_test_risk_seeking, y_train, y_test = train_test_split(X_risk_seeking, y, test_size=0.2, random_state=42)\n",
        "#Train test split"
      ]
    },
    {
      "cell_type": "code",
      "execution_count": 105,
      "metadata": {
        "id": "5Yxo9Mb7JKaL",
        "colab": {
          "base_uri": "https://localhost:8080/"
        },
        "outputId": "fd39416d-89c8-45fd-b209-0c0a418ab266"
      },
      "outputs": [
        {
          "output_type": "stream",
          "name": "stdout",
          "text": [
            "Best parameters: {'max_depth': 3}\n"
          ]
        }
      ],
      "source": [
        "param_grid = {\n",
        "    'max_depth': [3, 5, 7, 10]  # Range of max_depth values for gridsearch\n",
        "}\n",
        "\n",
        "dt_classifier = DecisionTreeClassifier()#Performing gridsearch\n",
        "grid_search = GridSearchCV(estimator=dt_classifier, param_grid=param_grid, cv=5)\n",
        "grid_search.fit(X_train_personality, y_train)\n",
        "# Printing the best parameters found\n",
        "print(\"Best parameters:\", grid_search.best_params_)"
      ]
    },
    {
      "cell_type": "code",
      "execution_count": 106,
      "metadata": {
        "id": "3Fpy80G84IKl"
      },
      "outputs": [],
      "source": [
        "#Decision Tree\n",
        "max_depth = 3\n",
        "dt_model_risk_seeking = DecisionTreeClassifier(max_depth = max_depth) #Defining and fitting model\n",
        "dt_model_risk_seeking.fit(X_train_risk_seeking, y_train)\n",
        "y_train_pred_dt_risk_seeking = dt_model_risk_seeking.predict(X_train_risk_seeking)#Making / Evaluating predictions\n",
        "y_test_pred_dt_risk_seeking = dt_model_risk_seeking.predict(X_test_risk_seeking)\n",
        "train_accuracy_dt_risk_seeking = accuracy_score(y_train, y_train_pred_dt_risk_seeking)\n",
        "test_accuracy_dt_risk_seeking = accuracy_score(y_test, y_test_pred_dt_risk_seeking)"
      ]
    },
    {
      "cell_type": "code",
      "execution_count": 107,
      "metadata": {
        "id": "iHAhGXKnRA4d",
        "colab": {
          "base_uri": "https://localhost:8080/"
        },
        "outputId": "1a3b0f3b-f636-4bc3-98ef-3e5283526df3"
      },
      "outputs": [
        {
          "output_type": "stream",
          "name": "stdout",
          "text": [
            "Best parameters: {'alpha': 0.01}\n"
          ]
        }
      ],
      "source": [
        "param_grid = {\n",
        "    'alpha': [0.0001, 0.001, 0.01],  # Creating range of alpha / learning rate values\n",
        "}\n",
        "\n",
        "nn_classifier = MLPClassifier() #Performing gridsearch\n",
        "grid_search = GridSearchCV(estimator=nn_classifier, param_grid=param_grid, cv=5)\n",
        "grid_search.fit(X_train_risk_seeking, y_train)\n",
        "\n",
        "# Print the best parameters found\n",
        "print(\"Best parameters:\", grid_search.best_params_)"
      ]
    },
    {
      "cell_type": "code",
      "execution_count": 108,
      "metadata": {
        "id": "kaS1t-xw4N7H"
      },
      "outputs": [],
      "source": [
        "#Neural Network\n",
        "learning_rate = 0.001\n",
        "nn_model_risk_seeking = MLPClassifier(alpha = learning_rate) #Defining and fitting model\n",
        "nn_model_risk_seeking.fit(X_train_risk_seeking, y_train)\n",
        "y_train_pred_nn_risk_seeking = nn_model_risk_seeking.predict(X_train_risk_seeking)#Making / Evaluating predictions\n",
        "y_test_pred_nn_risk_seeking = nn_model_risk_seeking.predict(X_test_risk_seeking)\n",
        "train_accuracy_nn_risk_seeking = accuracy_score(y_train, y_train_pred_nn_risk_seeking)\n",
        "test_accuracy_nn_risk_seeking = accuracy_score(y_test, y_test_pred_nn_risk_seeking)"
      ]
    },
    {
      "cell_type": "code",
      "execution_count": 109,
      "metadata": {
        "id": "OYNO_X8xWwB7",
        "colab": {
          "base_uri": "https://localhost:8080/"
        },
        "outputId": "1fd978ac-770a-4ddf-d84a-dfbd3d6b9b59"
      },
      "outputs": [
        {
          "output_type": "stream",
          "name": "stdout",
          "text": [
            "Best parameters: {'alpha': 0.0001}\n"
          ]
        }
      ],
      "source": [
        "param_grid = {\n",
        "    'alpha': [0.0001, 0.001, 0.01],  # Creating range of alpha / learning rate values\n",
        "}\n",
        "\n",
        "sgd_model_risk_seeking = SGDClassifier() #Performing gridsearch\n",
        "grid_search = GridSearchCV(estimator=nn_classifier, param_grid=param_grid, cv=5)\n",
        "grid_search.fit(X_train_risk_seeking, y_train)\n",
        "\n",
        "# Print the best parameters found\n",
        "print(\"Best parameters:\", grid_search.best_params_)"
      ]
    },
    {
      "cell_type": "code",
      "execution_count": 110,
      "metadata": {
        "id": "v93motMU4RQO"
      },
      "outputs": [],
      "source": [
        "#Stochastic Gradient Descent\n",
        "learning_date = 0.0001\n",
        "sgd_model_risk_seeking = SGDClassifier(alpha = learning_rate) #Defining and fitting model\n",
        "sgd_model_risk_seeking.fit(X_train_risk_seeking, y_train)\n",
        "y_train_pred_sgd_risk_seeking = sgd_model_risk_seeking.predict(X_train_risk_seeking)#Making / Evaluating predictions\n",
        "y_test_pred_sgd_risk_seeking = sgd_model_risk_seeking.predict(X_test_risk_seeking)\n",
        "train_accuracy_sgd_risk_seeking = accuracy_score(y_train, y_train_pred_sgd_risk_seeking)\n",
        "test_accuracy_sgd_risk_seeking = accuracy_score(y_test, y_test_pred_sgd_risk_seeking)"
      ]
    },
    {
      "cell_type": "code",
      "execution_count": 111,
      "metadata": {
        "id": "C9rXCAo19Z9d",
        "colab": {
          "base_uri": "https://localhost:8080/"
        },
        "outputId": "6e4e2dc3-a741-41d9-a007-11bf76bdd700"
      },
      "outputs": [
        {
          "output_type": "stream",
          "name": "stdout",
          "text": [
            "Risk-Seeking Category:\n",
            "Decision Tree Model:\n",
            "Overall Training Accuracy: 0.7794803464357095\n",
            "Overall Testing Accuracy: 0.7553191489361702\n",
            "Neural Network Model:\n",
            "Overall Training Accuracy: 0.8001332445036642\n",
            "Overall Testing Accuracy: 0.7526595744680851\n",
            "Stochastic Gradient Descent Model:\n",
            "Overall Training Accuracy: 0.7501665556295802\n",
            "Overall Testing Accuracy: 0.7180851063829787\n"
          ]
        }
      ],
      "source": [
        "print(\"Risk-Seeking Category:\")#Printing results\n",
        "print(\"Decision Tree Model:\")\n",
        "print(f\"Overall Training Accuracy: {train_accuracy_dt_personality}\")\n",
        "print(f\"Overall Testing Accuracy: {test_accuracy_dt_personality}\")\n",
        "\n",
        "print(\"Neural Network Model:\")\n",
        "print(f\"Overall Training Accuracy: {train_accuracy_nn_personality}\")\n",
        "print(f\"Overall Testing Accuracy: {test_accuracy_nn_personality}\")\n",
        "\n",
        "print(\"Stochastic Gradient Descent Model:\")\n",
        "print(f\"Overall Training Accuracy: {train_accuracy_sgd_personality}\")\n",
        "print(f\"Overall Testing Accuracy: {test_accuracy_sgd_personality}\")"
      ]
    },
    {
      "cell_type": "markdown",
      "metadata": {
        "id": "gNfx6giB4WVz"
      },
      "source": [
        "## Modeling for category 1 drugs"
      ]
    },
    {
      "cell_type": "markdown",
      "metadata": {
        "id": "jDN1gThd6Dm1"
      },
      "source": [
        "### Demographics"
      ]
    },
    {
      "cell_type": "code",
      "execution_count": 112,
      "metadata": {
        "id": "rF4CU8vo3BUJ"
      },
      "outputs": [],
      "source": [
        "drug_category = 'Cat1'#Defining category"
      ]
    },
    {
      "cell_type": "code",
      "execution_count": 113,
      "metadata": {
        "id": "xj78fBfd6GaW"
      },
      "outputs": [],
      "source": [
        "X_demographics = demographics_df #Defining X features and y targets\n",
        "y = df_cleaned[drug_category]"
      ]
    },
    {
      "cell_type": "code",
      "execution_count": 114,
      "metadata": {
        "id": "GQhgzms59GEv"
      },
      "outputs": [],
      "source": [
        "X_train_demographics, X_test_demographics, y_train, y_test = train_test_split(X_demographics, y, test_size=0.2, random_state=42, stratify=X_demographics['Age'])\n",
        "#Train test split"
      ]
    },
    {
      "cell_type": "code",
      "execution_count": 115,
      "metadata": {
        "id": "r8uMv2k4HDF4",
        "colab": {
          "base_uri": "https://localhost:8080/"
        },
        "outputId": "24189dfa-cafc-4f35-c4c7-28a9195ab866"
      },
      "outputs": [
        {
          "output_type": "stream",
          "name": "stdout",
          "text": [
            "Best parameters: {'max_depth': 5}\n"
          ]
        }
      ],
      "source": [
        "param_grid = {\n",
        "    'max_depth': [3, 5, 7, 10]  # Range of max_depth values for gridsearch\n",
        "}\n",
        "\n",
        "dt_classifier = DecisionTreeClassifier()#Performing gridsearch\n",
        "grid_search = GridSearchCV(estimator=dt_classifier, param_grid=param_grid, cv=5)\n",
        "grid_search.fit(X_train_demographics, y_train)\n",
        "# Printing the best parameters found\n",
        "print(\"Best parameters:\", grid_search.best_params_)"
      ]
    },
    {
      "cell_type": "code",
      "execution_count": 116,
      "metadata": {
        "id": "k3qOaWoD9IcK"
      },
      "outputs": [],
      "source": [
        "#Decision Tree\n",
        "max_depth = 5\n",
        "dt_model_demographics = DecisionTreeClassifier(max_depth = max_depth) #Defining and fitting model\n",
        "dt_model_demographics.fit(X_train_demographics, y_train)\n",
        "y_train_pred_dt_demographics = dt_model_demographics.predict(X_train_demographics)#Making / Evaluating predictions\n",
        "y_test_pred_dt_demographics = dt_model_demographics.predict(X_test_demographics)\n",
        "train_accuracy_dt_demographics = accuracy_score(y_train, y_train_pred_dt_demographics)\n",
        "test_accuracy_dt_demographics = accuracy_score(y_test, y_test_pred_dt_demographics)"
      ]
    },
    {
      "cell_type": "code",
      "execution_count": 117,
      "metadata": {
        "id": "D0Kd-loSQlyM",
        "colab": {
          "base_uri": "https://localhost:8080/"
        },
        "outputId": "a6e3c447-3f9d-41ba-e1b9-bf1df061279b"
      },
      "outputs": [
        {
          "output_type": "stream",
          "name": "stderr",
          "text": [
            "/usr/local/lib/python3.10/dist-packages/sklearn/neural_network/_multilayer_perceptron.py:686: ConvergenceWarning: Stochastic Optimizer: Maximum iterations (200) reached and the optimization hasn't converged yet.\n",
            "  warnings.warn(\n",
            "/usr/local/lib/python3.10/dist-packages/sklearn/neural_network/_multilayer_perceptron.py:686: ConvergenceWarning: Stochastic Optimizer: Maximum iterations (200) reached and the optimization hasn't converged yet.\n",
            "  warnings.warn(\n",
            "/usr/local/lib/python3.10/dist-packages/sklearn/neural_network/_multilayer_perceptron.py:686: ConvergenceWarning: Stochastic Optimizer: Maximum iterations (200) reached and the optimization hasn't converged yet.\n",
            "  warnings.warn(\n"
          ]
        },
        {
          "output_type": "stream",
          "name": "stdout",
          "text": [
            "Best parameters: {'alpha': 0.0001}\n"
          ]
        },
        {
          "output_type": "stream",
          "name": "stderr",
          "text": [
            "/usr/local/lib/python3.10/dist-packages/sklearn/neural_network/_multilayer_perceptron.py:686: ConvergenceWarning: Stochastic Optimizer: Maximum iterations (200) reached and the optimization hasn't converged yet.\n",
            "  warnings.warn(\n"
          ]
        }
      ],
      "source": [
        "param_grid = {\n",
        "    'alpha': [0.0001, 0.001, 0.01],  # Creating range of alpha / learning rate values\n",
        "}\n",
        "\n",
        "nn_classifier = MLPClassifier() #Performing gridsearch\n",
        "grid_search = GridSearchCV(estimator=nn_classifier, param_grid=param_grid, cv=5)\n",
        "grid_search.fit(X_train_demographics, y_train)\n",
        "\n",
        "# Print the best parameters found\n",
        "print(\"Best parameters:\", grid_search.best_params_)"
      ]
    },
    {
      "cell_type": "code",
      "execution_count": 118,
      "metadata": {
        "id": "6uq1UQys9Ku-",
        "colab": {
          "base_uri": "https://localhost:8080/"
        },
        "outputId": "b23cd9cd-e815-4c93-a7e1-d1ef5c787ce8"
      },
      "outputs": [
        {
          "output_type": "stream",
          "name": "stderr",
          "text": [
            "/usr/local/lib/python3.10/dist-packages/sklearn/neural_network/_multilayer_perceptron.py:686: ConvergenceWarning: Stochastic Optimizer: Maximum iterations (200) reached and the optimization hasn't converged yet.\n",
            "  warnings.warn(\n"
          ]
        }
      ],
      "source": [
        "#Neaural Network\n",
        "learning_rate = 0.001\n",
        "nn_model_demographics = MLPClassifier(alpha = learning_rate) #Defining and fitting model\n",
        "nn_model_demographics.fit(X_train_demographics, y_train)\n",
        "y_train_pred_nn_demographics = nn_model_demographics.predict(X_train_demographics)#Making / Evaluating predictions\n",
        "y_test_pred_nn_demographics = nn_model_demographics.predict(X_test_demographics)\n",
        "train_accuracy_nn_demographics = accuracy_score(y_train, y_train_pred_nn_demographics)\n",
        "test_accuracy_nn_demographics = accuracy_score(y_test, y_test_pred_nn_demographics)"
      ]
    },
    {
      "cell_type": "code",
      "execution_count": 119,
      "metadata": {
        "id": "80xyB2YdXYZx",
        "colab": {
          "base_uri": "https://localhost:8080/"
        },
        "outputId": "c1183c9a-0982-45ca-8864-70258880f7fb"
      },
      "outputs": [
        {
          "output_type": "stream",
          "name": "stderr",
          "text": [
            "/usr/local/lib/python3.10/dist-packages/sklearn/neural_network/_multilayer_perceptron.py:686: ConvergenceWarning: Stochastic Optimizer: Maximum iterations (200) reached and the optimization hasn't converged yet.\n",
            "  warnings.warn(\n",
            "/usr/local/lib/python3.10/dist-packages/sklearn/neural_network/_multilayer_perceptron.py:686: ConvergenceWarning: Stochastic Optimizer: Maximum iterations (200) reached and the optimization hasn't converged yet.\n",
            "  warnings.warn(\n",
            "/usr/local/lib/python3.10/dist-packages/sklearn/neural_network/_multilayer_perceptron.py:686: ConvergenceWarning: Stochastic Optimizer: Maximum iterations (200) reached and the optimization hasn't converged yet.\n",
            "  warnings.warn(\n"
          ]
        },
        {
          "output_type": "stream",
          "name": "stdout",
          "text": [
            "Best parameters: {'alpha': 0.01}\n"
          ]
        },
        {
          "output_type": "stream",
          "name": "stderr",
          "text": [
            "/usr/local/lib/python3.10/dist-packages/sklearn/neural_network/_multilayer_perceptron.py:686: ConvergenceWarning: Stochastic Optimizer: Maximum iterations (200) reached and the optimization hasn't converged yet.\n",
            "  warnings.warn(\n"
          ]
        }
      ],
      "source": [
        "param_grid = {\n",
        "    'alpha': [0.0001, 0.001, 0.01],  # Creating range of alpha / learning rate values\n",
        "}\n",
        "\n",
        "sgd_model_demographics = SGDClassifier() #Performing gridsearch\n",
        "grid_search = GridSearchCV(estimator=nn_classifier, param_grid=param_grid, cv=5)\n",
        "grid_search.fit(X_train_demographics, y_train)\n",
        "\n",
        "# Print the best parameters found\n",
        "print(\"Best parameters:\", grid_search.best_params_)"
      ]
    },
    {
      "cell_type": "code",
      "execution_count": 120,
      "metadata": {
        "id": "dfxEjK7M9M-L"
      },
      "outputs": [],
      "source": [
        "#Stochastic Gradient Discent\n",
        "learning_date = 0.0001\n",
        "sgd_model_demographics = SGDClassifier(alpha = learning_rate) #Defining and fitting model\n",
        "sgd_model_demographics.fit(X_train_demographics, y_train)\n",
        "y_train_pred_sgd_demographics = sgd_model_demographics.predict(X_train_demographics)#Making / Evaluating predictions\n",
        "y_test_pred_sgd_demographics = sgd_model_demographics.predict(X_test_demographics)\n",
        "train_accuracy_sgd_demographics = accuracy_score(y_train, y_train_pred_sgd_demographics)\n",
        "test_accuracy_sgd_demographics = accuracy_score(y_test, y_test_pred_sgd_demographics)"
      ]
    },
    {
      "cell_type": "code",
      "execution_count": 121,
      "metadata": {
        "id": "PMqZssFYBtBZ",
        "colab": {
          "base_uri": "https://localhost:8080/"
        },
        "outputId": "9d56c914-7aad-4388-8b72-0d0541ca7f30"
      },
      "outputs": [
        {
          "output_type": "stream",
          "name": "stdout",
          "text": [
            "Demographics Category:\n",
            "Decision Tree Model:\n",
            "Overall Training Accuracy: 0.7321785476349101\n",
            "Overall Testing Accuracy: 0.6888297872340425\n",
            "Neural Network Model:\n",
            "Overall Training Accuracy: 0.7315123251165889\n",
            "Overall Testing Accuracy: 0.6968085106382979\n",
            "Stochastic Gradient Descent Model:\n",
            "Overall Training Accuracy: 0.6988674217188541\n",
            "Overall Testing Accuracy: 0.7047872340425532\n"
          ]
        }
      ],
      "source": [
        "print(\"Demographics Category:\")#Printing results\n",
        "print(\"Decision Tree Model:\")\n",
        "print(f\"Overall Training Accuracy: {train_accuracy_dt_demographics}\")\n",
        "print(f\"Overall Testing Accuracy: {test_accuracy_dt_demographics}\")\n",
        "\n",
        "print(\"Neural Network Model:\")\n",
        "print(f\"Overall Training Accuracy: {train_accuracy_nn_demographics}\")\n",
        "print(f\"Overall Testing Accuracy: {test_accuracy_nn_demographics}\")\n",
        "\n",
        "print(\"Stochastic Gradient Descent Model:\")\n",
        "print(f\"Overall Training Accuracy: {train_accuracy_sgd_demographics}\")\n",
        "print(f\"Overall Testing Accuracy: {test_accuracy_sgd_demographics}\")"
      ]
    },
    {
      "cell_type": "markdown",
      "metadata": {
        "id": "d6Dl6dJ99hS3"
      },
      "source": [
        "### Personality"
      ]
    },
    {
      "cell_type": "code",
      "execution_count": 122,
      "metadata": {
        "id": "KbVIuDUR9nVT"
      },
      "outputs": [],
      "source": [
        "X_personality = personality_df #Defining X and y\n",
        "y = df_cleaned[drug_category]"
      ]
    },
    {
      "cell_type": "code",
      "execution_count": 123,
      "metadata": {
        "id": "v6Mptk4n-BWl"
      },
      "outputs": [],
      "source": [
        "X_train_personality, X_test_personality, y_train, y_test = train_test_split(X_personality, y, test_size=0.2, random_state=42)\n",
        "#Train test split"
      ]
    },
    {
      "cell_type": "code",
      "execution_count": 124,
      "metadata": {
        "id": "73cqcFB7HPiq",
        "colab": {
          "base_uri": "https://localhost:8080/"
        },
        "outputId": "55166472-44be-4018-88ad-d5cbdba1cdeb"
      },
      "outputs": [
        {
          "output_type": "stream",
          "name": "stdout",
          "text": [
            "Best parameters: {'max_depth': 5}\n"
          ]
        }
      ],
      "source": [
        "param_grid = {\n",
        "    'max_depth': [3, 5, 7, 10]  # Range of max_depth values for gridsearch\n",
        "}\n",
        "\n",
        "dt_classifier = DecisionTreeClassifier()#Performing gridsearch\n",
        "grid_search = GridSearchCV(estimator=dt_classifier, param_grid=param_grid, cv=5)\n",
        "grid_search.fit(X_train_personality, y_train)\n",
        "# Printing the best parameters found\n",
        "print(\"Best parameters:\", grid_search.best_params_)"
      ]
    },
    {
      "cell_type": "code",
      "execution_count": 125,
      "metadata": {
        "id": "_SgwODjq-Dju"
      },
      "outputs": [],
      "source": [
        "#Decision Tree\n",
        "max_depth = 5\n",
        "dt_model_personality = DecisionTreeClassifier(max_depth = max_depth) #Defining and fitting model\n",
        "dt_model_personality.fit(X_train_personality, y_train)\n",
        "y_train_pred_dt_personality = dt_model_personality.predict(X_train_personality)#Making / Evaluating predictions\n",
        "y_test_pred_dt_personality = dt_model_personality.predict(X_test_personality)\n",
        "train_accuracy_dt_personality = accuracy_score(y_train, y_train_pred_dt_personality)\n",
        "test_accuracy_dt_personality = accuracy_score(y_test, y_test_pred_dt_personality)"
      ]
    },
    {
      "cell_type": "code",
      "execution_count": 126,
      "metadata": {
        "id": "BqTfXJ0mQhbx",
        "colab": {
          "base_uri": "https://localhost:8080/"
        },
        "outputId": "04eff240-e103-4db1-dd64-465a952666ab"
      },
      "outputs": [
        {
          "output_type": "stream",
          "name": "stderr",
          "text": [
            "/usr/local/lib/python3.10/dist-packages/sklearn/neural_network/_multilayer_perceptron.py:686: ConvergenceWarning: Stochastic Optimizer: Maximum iterations (200) reached and the optimization hasn't converged yet.\n",
            "  warnings.warn(\n",
            "/usr/local/lib/python3.10/dist-packages/sklearn/neural_network/_multilayer_perceptron.py:686: ConvergenceWarning: Stochastic Optimizer: Maximum iterations (200) reached and the optimization hasn't converged yet.\n",
            "  warnings.warn(\n",
            "/usr/local/lib/python3.10/dist-packages/sklearn/neural_network/_multilayer_perceptron.py:686: ConvergenceWarning: Stochastic Optimizer: Maximum iterations (200) reached and the optimization hasn't converged yet.\n",
            "  warnings.warn(\n"
          ]
        },
        {
          "output_type": "stream",
          "name": "stdout",
          "text": [
            "Best parameters: {'alpha': 0.0001}\n"
          ]
        },
        {
          "output_type": "stream",
          "name": "stderr",
          "text": [
            "/usr/local/lib/python3.10/dist-packages/sklearn/neural_network/_multilayer_perceptron.py:686: ConvergenceWarning: Stochastic Optimizer: Maximum iterations (200) reached and the optimization hasn't converged yet.\n",
            "  warnings.warn(\n"
          ]
        }
      ],
      "source": [
        "param_grid = {\n",
        "    'alpha': [0.0001, 0.001, 0.01],  # Creating range of alpha / learning rate values\n",
        "}\n",
        "\n",
        "nn_classifier = MLPClassifier() #Performing gridsearch\n",
        "grid_search = GridSearchCV(estimator=nn_classifier, param_grid=param_grid, cv=5)\n",
        "grid_search.fit(X_train_personality, y_train)\n",
        "\n",
        "# Print the best parameters found\n",
        "print(\"Best parameters:\", grid_search.best_params_)"
      ]
    },
    {
      "cell_type": "code",
      "execution_count": 127,
      "metadata": {
        "id": "kwEFSBjp-HQT",
        "colab": {
          "base_uri": "https://localhost:8080/"
        },
        "outputId": "f3ec4ece-34b9-42a0-a825-6e14cc737f3e"
      },
      "outputs": [
        {
          "output_type": "stream",
          "name": "stderr",
          "text": [
            "/usr/local/lib/python3.10/dist-packages/sklearn/neural_network/_multilayer_perceptron.py:686: ConvergenceWarning: Stochastic Optimizer: Maximum iterations (200) reached and the optimization hasn't converged yet.\n",
            "  warnings.warn(\n"
          ]
        }
      ],
      "source": [
        "#Neaural Network\n",
        "learning_rate = 0.01\n",
        "nn_model_personality = MLPClassifier(alpha = learning_rate) #Defining and fitting model\n",
        "nn_model_personality.fit(X_train_personality, y_train)\n",
        "y_train_pred_nn_personality = nn_model_personality.predict(X_train_personality)#Making / Evaluating predictions\n",
        "y_test_pred_nn_personality = nn_model_personality.predict(X_test_personality)\n",
        "train_accuracy_nn_personality = accuracy_score(y_train, y_train_pred_nn_personality)\n",
        "test_accuracy_nn_personality = accuracy_score(y_test, y_test_pred_nn_personality)"
      ]
    },
    {
      "cell_type": "code",
      "execution_count": 128,
      "metadata": {
        "id": "rlN6q9AfXMs4",
        "colab": {
          "base_uri": "https://localhost:8080/"
        },
        "outputId": "037600ba-7c7a-44f2-c57f-68e3b55721b5"
      },
      "outputs": [
        {
          "output_type": "stream",
          "name": "stderr",
          "text": [
            "/usr/local/lib/python3.10/dist-packages/sklearn/neural_network/_multilayer_perceptron.py:686: ConvergenceWarning: Stochastic Optimizer: Maximum iterations (200) reached and the optimization hasn't converged yet.\n",
            "  warnings.warn(\n",
            "/usr/local/lib/python3.10/dist-packages/sklearn/neural_network/_multilayer_perceptron.py:686: ConvergenceWarning: Stochastic Optimizer: Maximum iterations (200) reached and the optimization hasn't converged yet.\n",
            "  warnings.warn(\n",
            "/usr/local/lib/python3.10/dist-packages/sklearn/neural_network/_multilayer_perceptron.py:686: ConvergenceWarning: Stochastic Optimizer: Maximum iterations (200) reached and the optimization hasn't converged yet.\n",
            "  warnings.warn(\n"
          ]
        },
        {
          "output_type": "stream",
          "name": "stdout",
          "text": [
            "Best parameters: {'alpha': 0.0001}\n"
          ]
        },
        {
          "output_type": "stream",
          "name": "stderr",
          "text": [
            "/usr/local/lib/python3.10/dist-packages/sklearn/neural_network/_multilayer_perceptron.py:686: ConvergenceWarning: Stochastic Optimizer: Maximum iterations (200) reached and the optimization hasn't converged yet.\n",
            "  warnings.warn(\n"
          ]
        }
      ],
      "source": [
        "param_grid = {\n",
        "    'alpha': [0.0001, 0.001, 0.01],  # Creating range of alpha / learning rate values\n",
        "}\n",
        "\n",
        "sgd_model_personality = SGDClassifier() #Performing gridsearch\n",
        "grid_search = GridSearchCV(estimator=nn_classifier, param_grid=param_grid, cv=5)\n",
        "grid_search.fit(X_train_personality, y_train)\n",
        "\n",
        "# Print the best parameters found\n",
        "print(\"Best parameters:\", grid_search.best_params_)"
      ]
    },
    {
      "cell_type": "code",
      "execution_count": 129,
      "metadata": {
        "id": "a2nF5uDx-O6X"
      },
      "outputs": [],
      "source": [
        "#Stochastic Gradient Discent\n",
        "learning_date = 0.0001\n",
        "sgd_model_personality = SGDClassifier(alpha = learning_rate) #Defining and fitting model\n",
        "sgd_model_personality.fit(X_train_personality, y_train)\n",
        "y_train_pred_sgd_personality = sgd_model_personality.predict(X_train_personality)#Making / Evaluating predictions\n",
        "y_test_pred_sgd_personality = sgd_model_personality.predict(X_test_personality)\n",
        "train_accuracy_sgd_personality = accuracy_score(y_train, y_train_pred_sgd_personality)\n",
        "test_accuracy_sgd_personality = accuracy_score(y_test, y_test_pred_sgd_personality)"
      ]
    },
    {
      "cell_type": "code",
      "execution_count": 130,
      "metadata": {
        "id": "S0s9od9LCAc4",
        "colab": {
          "base_uri": "https://localhost:8080/"
        },
        "outputId": "621d25b6-5723-4f96-9598-508859cbac80"
      },
      "outputs": [
        {
          "output_type": "stream",
          "name": "stdout",
          "text": [
            "Personality Category:\n",
            "Decision Tree Model:\n",
            "Overall Training Accuracy: 0.7408394403730846\n",
            "Overall Testing Accuracy: 0.6382978723404256\n",
            "Neural Network Model:\n",
            "Overall Training Accuracy: 0.7428381079280479\n",
            "Overall Testing Accuracy: 0.6968085106382979\n",
            "Stochastic Gradient Descent Model:\n",
            "Overall Training Accuracy: 0.7228514323784144\n",
            "Overall Testing Accuracy: 0.7074468085106383\n"
          ]
        }
      ],
      "source": [
        "print(\"Personality Category:\")#Printing results\n",
        "print(\"Decision Tree Model:\")\n",
        "print(f\"Overall Training Accuracy: {train_accuracy_dt_personality}\")\n",
        "print(f\"Overall Testing Accuracy: {test_accuracy_dt_personality}\")\n",
        "\n",
        "print(\"Neural Network Model:\")\n",
        "print(f\"Overall Training Accuracy: {train_accuracy_nn_personality}\")\n",
        "print(f\"Overall Testing Accuracy: {test_accuracy_nn_personality}\")\n",
        "\n",
        "print(\"Stochastic Gradient Descent Model:\")\n",
        "print(f\"Overall Training Accuracy: {train_accuracy_sgd_personality}\")\n",
        "print(f\"Overall Testing Accuracy: {test_accuracy_sgd_personality}\")"
      ]
    },
    {
      "cell_type": "markdown",
      "metadata": {
        "id": "xiyXcT-7-aPA"
      },
      "source": [
        "### Risk-seeking"
      ]
    },
    {
      "cell_type": "code",
      "execution_count": 131,
      "metadata": {
        "id": "nnLko3_T-WGT"
      },
      "outputs": [],
      "source": [
        "X_risk_seeking = risk_seeking_df#Defining X and y\n",
        "y = df_cleaned[drug_category]"
      ]
    },
    {
      "cell_type": "code",
      "execution_count": 132,
      "metadata": {
        "id": "mV70aFd9-d9U"
      },
      "outputs": [],
      "source": [
        "X_train_risk_seeking, X_test_risk_seeking, y_train, y_test = train_test_split(X_risk_seeking, y, test_size=0.2, random_state=42)\n",
        "#Train test split"
      ]
    },
    {
      "cell_type": "code",
      "execution_count": 133,
      "metadata": {
        "id": "rcJXkSJCJATp",
        "colab": {
          "base_uri": "https://localhost:8080/"
        },
        "outputId": "62cee87d-4207-4de0-f5b7-248d523112b4"
      },
      "outputs": [
        {
          "output_type": "stream",
          "name": "stdout",
          "text": [
            "Best parameters: {'max_depth': 3}\n"
          ]
        }
      ],
      "source": [
        "param_grid = {\n",
        "    'max_depth': [3, 5, 7, 10]  # Range of max_depth values for gridsearch\n",
        "}\n",
        "\n",
        "dt_classifier = DecisionTreeClassifier()#Performing gridsearch\n",
        "grid_search = GridSearchCV(estimator=dt_classifier, param_grid=param_grid, cv=5)\n",
        "grid_search.fit(X_train_risk_seeking, y_train)\n",
        "# Printing the best parameters found\n",
        "print(\"Best parameters:\", grid_search.best_params_)"
      ]
    },
    {
      "cell_type": "code",
      "execution_count": 134,
      "metadata": {
        "id": "DWt6WIT8-gVw"
      },
      "outputs": [],
      "source": [
        "#Decision Tree\n",
        "max_depth = 3\n",
        "dt_model_risk_seeking = DecisionTreeClassifier(max_depth = max_depth) #Defining and fitting model\n",
        "dt_model_risk_seeking.fit(X_train_risk_seeking, y_train)\n",
        "y_train_pred_dt_risk_seeking = dt_model_risk_seeking.predict(X_train_risk_seeking)#Making / Evaluating predictions\n",
        "y_test_pred_dt_risk_seeking = dt_model_risk_seeking.predict(X_test_risk_seeking)\n",
        "train_accuracy_dt_risk_seeking = accuracy_score(y_train, y_train_pred_dt_risk_seeking)\n",
        "test_accuracy_dt_risk_seeking = accuracy_score(y_test, y_test_pred_dt_risk_seeking)"
      ]
    },
    {
      "cell_type": "code",
      "execution_count": 135,
      "metadata": {
        "id": "zN7SvKc_OYG5",
        "colab": {
          "base_uri": "https://localhost:8080/"
        },
        "outputId": "c2d9778b-8c4c-43ec-a57b-ce1929df71c5"
      },
      "outputs": [
        {
          "output_type": "stream",
          "name": "stdout",
          "text": [
            "Best parameters: {'alpha': 0.0001}\n"
          ]
        }
      ],
      "source": [
        "param_grid = {\n",
        "    'alpha': [0.0001, 0.001, 0.01],  # Creating range of alpha / learning rate values\n",
        "}\n",
        "\n",
        "nn_classifier = MLPClassifier() #Performing gridsearch\n",
        "grid_search = GridSearchCV(estimator=nn_classifier, param_grid=param_grid, cv=5)\n",
        "grid_search.fit(X_train_risk_seeking, y_train)\n",
        "\n",
        "# Print the best parameters found\n",
        "print(\"Best parameters:\", grid_search.best_params_)"
      ]
    },
    {
      "cell_type": "code",
      "execution_count": 136,
      "metadata": {
        "id": "raoUc8vB-igo"
      },
      "outputs": [],
      "source": [
        "#Neural Network\n",
        "learning_rate = 0.01\n",
        "nn_model_risk_seeking = MLPClassifier(alpha = learning_rate) #Defining and fitting model\n",
        "nn_model_risk_seeking.fit(X_train_risk_seeking, y_train)\n",
        "y_train_pred_nn_risk_seeking = nn_model_risk_seeking.predict(X_train_risk_seeking)#Making / Evaluating predictions\n",
        "y_test_pred_nn_risk_seeking = nn_model_risk_seeking.predict(X_test_risk_seeking)\n",
        "train_accuracy_nn_risk_seeking = accuracy_score(y_train, y_train_pred_nn_risk_seeking)\n",
        "test_accuracy_nn_risk_seeking = accuracy_score(y_test, y_test_pred_nn_risk_seeking)"
      ]
    },
    {
      "cell_type": "code",
      "execution_count": 137,
      "metadata": {
        "id": "WgJPnCWhVHSP",
        "colab": {
          "base_uri": "https://localhost:8080/"
        },
        "outputId": "9559f051-ff4a-4c00-878e-bf7f0a25a643"
      },
      "outputs": [
        {
          "output_type": "stream",
          "name": "stdout",
          "text": [
            "Best parameters: {'alpha': 0.01}\n"
          ]
        }
      ],
      "source": [
        "param_grid = {\n",
        "    'alpha': [0.0001, 0.001, 0.01],  # Creating range of alpha / learning rate values\n",
        "}\n",
        "\n",
        "sgd_model_risk_seeking = SGDClassifier() #Performing gridsearch\n",
        "grid_search = GridSearchCV(estimator=nn_classifier, param_grid=param_grid, cv=5)\n",
        "grid_search.fit(X_train_risk_seeking, y_train)\n",
        "\n",
        "# Print the best parameters found\n",
        "print(\"Best parameters:\", grid_search.best_params_)"
      ]
    },
    {
      "cell_type": "code",
      "execution_count": 138,
      "metadata": {
        "id": "vZ5-Tby4-kxG"
      },
      "outputs": [],
      "source": [
        "#Stochastic Gradient Descent\n",
        "learning_date = 0.01\n",
        "sgd_model_risk_seeking = SGDClassifier(alpha = learning_rate) #Defining and fitting model\n",
        "sgd_model_risk_seeking.fit(X_train_risk_seeking, y_train)\n",
        "y_train_pred_sgd_risk_seeking = sgd_model_risk_seeking.predict(X_train_risk_seeking)#Making / Evaluating predictions\n",
        "y_test_pred_sgd_risk_seeking = sgd_model_risk_seeking.predict(X_test_risk_seeking)\n",
        "train_accuracy_sgd_risk_seeking = accuracy_score(y_train, y_train_pred_sgd_risk_seeking)\n",
        "test_accuracy_sgd_risk_seeking = accuracy_score(y_test, y_test_pred_sgd_risk_seeking)"
      ]
    },
    {
      "cell_type": "code",
      "execution_count": 139,
      "metadata": {
        "id": "X0SJU9Sp-nTu",
        "colab": {
          "base_uri": "https://localhost:8080/"
        },
        "outputId": "bf59f794-587f-4800-955d-b54cc952a9ff"
      },
      "outputs": [
        {
          "output_type": "stream",
          "name": "stdout",
          "text": [
            "Personality Category:\n",
            "Decision Tree Model:\n",
            "Overall Training Accuracy: 0.7408394403730846\n",
            "Overall Testing Accuracy: 0.6382978723404256\n",
            "Neural Network Model:\n",
            "Overall Training Accuracy: 0.7428381079280479\n",
            "Overall Testing Accuracy: 0.6968085106382979\n",
            "Stochastic Gradient Descent Model:\n",
            "Overall Training Accuracy: 0.7228514323784144\n",
            "Overall Testing Accuracy: 0.7074468085106383\n"
          ]
        }
      ],
      "source": [
        "print(\"Personality Category:\")#Printing results\n",
        "print(\"Decision Tree Model:\")\n",
        "print(f\"Overall Training Accuracy: {train_accuracy_dt_personality}\")\n",
        "print(f\"Overall Testing Accuracy: {test_accuracy_dt_personality}\")\n",
        "\n",
        "print(\"Neural Network Model:\")\n",
        "print(f\"Overall Training Accuracy: {train_accuracy_nn_personality}\")\n",
        "print(f\"Overall Testing Accuracy: {test_accuracy_nn_personality}\")\n",
        "\n",
        "print(\"Stochastic Gradient Descent Model:\")\n",
        "print(f\"Overall Training Accuracy: {train_accuracy_sgd_personality}\")\n",
        "print(f\"Overall Testing Accuracy: {test_accuracy_sgd_personality}\")"
      ]
    },
    {
      "cell_type": "markdown",
      "metadata": {
        "id": "EpBTkm0yyCSJ"
      },
      "source": [
        "# Part C"
      ]
    },
    {
      "cell_type": "markdown",
      "metadata": {
        "id": "mVwdZCMWym96"
      },
      "source": [
        "| Drug Category | Best Feature Category | Model Type | Overall training accuracy | Overall testing accuracy |\n",
        "|:--------:|:--------:|:--------:|:--------:|:--------:|\n",
        "|  Cat 1   |  Demographics   |   Neural Network   |  0.7342   |  0.6968   |\n",
        "|  Cat 2   |  Personality + Risk-seeking   |   Neural Network   |  0.7974   |  0.7580   |\n",
        "|  Cat 3   |  Personality   |  Decision Tree   |  0.9920   |  0.9894   |\n",
        "|   Cat 4  |   Demographics  |  Decision Tree   |  1.0   |  1.0   |"
      ]
    },
    {
      "cell_type": "markdown",
      "source": [
        "# Discussion of parts A, B, and C\n",
        "To begin, in part A I decided that I would use Decision Tree models, Neural Network models, and Stochastic Gradient Descent (SGD) models in my analysis. I chose to use decision tree models as I find this method to be easily interpretable and simple to visualize if needed. I chose to use neural networks as this method is effective for complex relationships and there are a lot of complex features within this dataset. Finally, I chose to use SGD as I know it is a relatively efficient method type for training and evaluating models. Within analyses dealing with the demographic features, I chose to stratify the \"Age\" variable as I recognize that all ages are not represented equally among the data set and age likely has a significant impact on whether an individual has tried a specific drug or not. Each model (regardless of model type) was optimized using a grid search to find the optimal max-depth for decision trees and alpha values for neural networks and SGD. Visualizations for some decision tree models that performed extremely well are included as well. The dataset was split into three different categories (Demographic, Personality, and Risk-seeking) to further facilitate the model fitting and analysis process. All cases where an individual reported using the drug \"Semer\" were removed from the dataset to take out any cases of false reporting by individuals.\n",
        "\n",
        "For the category 1 drugs, the demographics feature category best predictied the target category of drug usage. More specifically, the neural network model was most effective out of all of the models tested. This model reported an overall training accuracy of 0.7342 and an overall testing accuracy of 0.6968. Both accuracies reported similar values, which shows that this model only overfits the training data slightly and performs relatively well to unseen data. Based on the grid search optimization results, 0.001 was used as the learning rate for this particular model. In general, this model performed the worst at predicting whether an individual has tried drugs (compared to the other models dealing with the other categories); however, given the above accuracy scores, this model still performs well in this classification problem. The reason for this is likely due to the fact that less individuals have tried category 1 drugs than category 2, 3, and 4 drugs, meaning it is tougher for the model to identify these individuals compared to drug categories that have had the majority of individuals report having tried those drugs.\n",
        "\n",
        "For the category 2 drugs, the personality and risk seeking categories best predicted the target category of drug usage. Similar to category 1, the neural network models worked best when compared to the other models. The reported accuracy on the training and testing sets of data are as follows: 0.7974 and 0.7580 respectively. These models were rendered the best because both accuracy scores combined were higher than those of the other tested models. This model was also slightly overfitted, but not quite as badly as some of the others. This model performed well at predicting whether someone has tried category 2 drugs, and reported higher accuracy scores than the category 1 models, but lower scores than the category 3 and 4 models.\n",
        "\n",
        "For the category 3 drugs, the personality category best predicted the target category of drug usage. The decision tree model appeared to perform best out of all of the models used within this category of drugs. This model reported accuracy scores on the training and testing sets of data of 0.9920 and 0.9894, which are the highest values reported up until this point. This model barely overfit any of the data and both the training and testing accuracy scores are extremely high, which shows that this models predictions are mostly correct. The max depth of this decision tree was determined using the grid search previously mentions and the max depth value was found to be 3. This decision tree was also visualized to show its effectiveness in predicting whether an individual has tried category 3 drugs based on their personality.\n",
        "\n",
        "For the category 4 drugs, the demographics category performed the best when predicting whether an individual has tried category 4 drugs. More specifically, the decision tree model performed the best out of all of the model tried in this category. This model reported a training and testing accuracy score of 1.0, meaning the model was perfect when classifying individuals on both the training and testing set. The max depth of this decision tree was determined to be 5, which was used in the model fitting process and the visualization of the decision tree. The reason that the model has an 100% accuracy is likely due to the fact that the majority of people in the study, and in general, have tried category 4 drugs at some point in their lives. This allows the model to easily predict that all individuals have tried these drugs, leading to very high / perfect accuracy scores."
      ],
      "metadata": {
        "id": "n1j7iIyoar3H"
      }
    },
    {
      "cell_type": "markdown",
      "metadata": {
        "id": "rrR8dtQzlC_-"
      },
      "source": [
        "# Part D: Separation based on sex"
      ]
    },
    {
      "cell_type": "code",
      "execution_count": 140,
      "metadata": {
        "id": "zSdETTH6yoKo",
        "colab": {
          "base_uri": "https://localhost:8080/"
        },
        "outputId": "896c817f-ebce-48e8-8a1d-d90e5d5fafc8"
      },
      "outputs": [
        {
          "output_type": "stream",
          "name": "stdout",
          "text": [
            "[ 0.48246 -0.48246]\n"
          ]
        }
      ],
      "source": [
        "gender_codes = df_d['Gender'].unique() #Finding codes for gender variable\n",
        "print(gender_codes)"
      ]
    },
    {
      "cell_type": "code",
      "source": [
        "female_df = df_cleaned[df_cleaned['Gender'] > 0] #Creating new df for only females"
      ],
      "metadata": {
        "id": "fH_FvywEcWsq"
      },
      "execution_count": 141,
      "outputs": []
    },
    {
      "cell_type": "code",
      "source": [
        "male_df = df_cleaned[df_cleaned['Gender'] < 0] #Creating new df for only males"
      ],
      "metadata": {
        "id": "qEtrd1mbdsKN"
      },
      "execution_count": 142,
      "outputs": []
    },
    {
      "cell_type": "code",
      "source": [
        "new_demographics = [\"Age\",\"Education\",\"Country\",\"Ethnicity\"]#Defining demographics without gender as it's aldrady split"
      ],
      "metadata": {
        "id": "yD-CqmZ3sEUv"
      },
      "execution_count": 143,
      "outputs": []
    },
    {
      "cell_type": "code",
      "source": [
        "female_new_df = female_df[new_demographics]#Making new df for females that is trimmed\n",
        "female_new_df#Printing df"
      ],
      "metadata": {
        "colab": {
          "base_uri": "https://localhost:8080/",
          "height": 419
        },
        "id": "wPWPXky0d5nu",
        "outputId": "4ae8d60e-51e2-43ce-db85-99731d8563ae"
      },
      "execution_count": 144,
      "outputs": [
        {
          "output_type": "execute_result",
          "data": {
            "text/plain": [
              "          Age  Education  Country  Ethnicity\n",
              "0     0.49788   -0.05921  0.96082    0.12600\n",
              "3    -0.95197    1.16365  0.96082   -0.31685\n",
              "4     0.49788    1.98437  0.96082   -0.31685\n",
              "5     2.59171   -1.22751  0.24923   -0.31685\n",
              "8     0.49788   -0.05921  0.24923   -0.31685\n",
              "...       ...        ...      ...        ...\n",
              "1867 -0.95197   -0.61113 -0.57009   -0.31685\n",
              "1870 -0.07854    0.45468 -0.28519   -0.31685\n",
              "1880 -0.95197   -0.61113 -0.57009   -0.31685\n",
              "1882 -0.07854    0.45468 -0.57009   -0.31685\n",
              "1883 -0.95197   -0.61113 -0.57009   -0.31685\n",
              "\n",
              "[937 rows x 4 columns]"
            ],
            "text/html": [
              "\n",
              "  <div id=\"df-7042716a-aa8d-4be3-86d1-c75114feca9a\" class=\"colab-df-container\">\n",
              "    <div>\n",
              "<style scoped>\n",
              "    .dataframe tbody tr th:only-of-type {\n",
              "        vertical-align: middle;\n",
              "    }\n",
              "\n",
              "    .dataframe tbody tr th {\n",
              "        vertical-align: top;\n",
              "    }\n",
              "\n",
              "    .dataframe thead th {\n",
              "        text-align: right;\n",
              "    }\n",
              "</style>\n",
              "<table border=\"1\" class=\"dataframe\">\n",
              "  <thead>\n",
              "    <tr style=\"text-align: right;\">\n",
              "      <th></th>\n",
              "      <th>Age</th>\n",
              "      <th>Education</th>\n",
              "      <th>Country</th>\n",
              "      <th>Ethnicity</th>\n",
              "    </tr>\n",
              "  </thead>\n",
              "  <tbody>\n",
              "    <tr>\n",
              "      <th>0</th>\n",
              "      <td>0.49788</td>\n",
              "      <td>-0.05921</td>\n",
              "      <td>0.96082</td>\n",
              "      <td>0.12600</td>\n",
              "    </tr>\n",
              "    <tr>\n",
              "      <th>3</th>\n",
              "      <td>-0.95197</td>\n",
              "      <td>1.16365</td>\n",
              "      <td>0.96082</td>\n",
              "      <td>-0.31685</td>\n",
              "    </tr>\n",
              "    <tr>\n",
              "      <th>4</th>\n",
              "      <td>0.49788</td>\n",
              "      <td>1.98437</td>\n",
              "      <td>0.96082</td>\n",
              "      <td>-0.31685</td>\n",
              "    </tr>\n",
              "    <tr>\n",
              "      <th>5</th>\n",
              "      <td>2.59171</td>\n",
              "      <td>-1.22751</td>\n",
              "      <td>0.24923</td>\n",
              "      <td>-0.31685</td>\n",
              "    </tr>\n",
              "    <tr>\n",
              "      <th>8</th>\n",
              "      <td>0.49788</td>\n",
              "      <td>-0.05921</td>\n",
              "      <td>0.24923</td>\n",
              "      <td>-0.31685</td>\n",
              "    </tr>\n",
              "    <tr>\n",
              "      <th>...</th>\n",
              "      <td>...</td>\n",
              "      <td>...</td>\n",
              "      <td>...</td>\n",
              "      <td>...</td>\n",
              "    </tr>\n",
              "    <tr>\n",
              "      <th>1867</th>\n",
              "      <td>-0.95197</td>\n",
              "      <td>-0.61113</td>\n",
              "      <td>-0.57009</td>\n",
              "      <td>-0.31685</td>\n",
              "    </tr>\n",
              "    <tr>\n",
              "      <th>1870</th>\n",
              "      <td>-0.07854</td>\n",
              "      <td>0.45468</td>\n",
              "      <td>-0.28519</td>\n",
              "      <td>-0.31685</td>\n",
              "    </tr>\n",
              "    <tr>\n",
              "      <th>1880</th>\n",
              "      <td>-0.95197</td>\n",
              "      <td>-0.61113</td>\n",
              "      <td>-0.57009</td>\n",
              "      <td>-0.31685</td>\n",
              "    </tr>\n",
              "    <tr>\n",
              "      <th>1882</th>\n",
              "      <td>-0.07854</td>\n",
              "      <td>0.45468</td>\n",
              "      <td>-0.57009</td>\n",
              "      <td>-0.31685</td>\n",
              "    </tr>\n",
              "    <tr>\n",
              "      <th>1883</th>\n",
              "      <td>-0.95197</td>\n",
              "      <td>-0.61113</td>\n",
              "      <td>-0.57009</td>\n",
              "      <td>-0.31685</td>\n",
              "    </tr>\n",
              "  </tbody>\n",
              "</table>\n",
              "<p>937 rows × 4 columns</p>\n",
              "</div>\n",
              "    <div class=\"colab-df-buttons\">\n",
              "\n",
              "  <div class=\"colab-df-container\">\n",
              "    <button class=\"colab-df-convert\" onclick=\"convertToInteractive('df-7042716a-aa8d-4be3-86d1-c75114feca9a')\"\n",
              "            title=\"Convert this dataframe to an interactive table.\"\n",
              "            style=\"display:none;\">\n",
              "\n",
              "  <svg xmlns=\"http://www.w3.org/2000/svg\" height=\"24px\" viewBox=\"0 -960 960 960\">\n",
              "    <path d=\"M120-120v-720h720v720H120Zm60-500h600v-160H180v160Zm220 220h160v-160H400v160Zm0 220h160v-160H400v160ZM180-400h160v-160H180v160Zm440 0h160v-160H620v160ZM180-180h160v-160H180v160Zm440 0h160v-160H620v160Z\"/>\n",
              "  </svg>\n",
              "    </button>\n",
              "\n",
              "  <style>\n",
              "    .colab-df-container {\n",
              "      display:flex;\n",
              "      gap: 12px;\n",
              "    }\n",
              "\n",
              "    .colab-df-convert {\n",
              "      background-color: #E8F0FE;\n",
              "      border: none;\n",
              "      border-radius: 50%;\n",
              "      cursor: pointer;\n",
              "      display: none;\n",
              "      fill: #1967D2;\n",
              "      height: 32px;\n",
              "      padding: 0 0 0 0;\n",
              "      width: 32px;\n",
              "    }\n",
              "\n",
              "    .colab-df-convert:hover {\n",
              "      background-color: #E2EBFA;\n",
              "      box-shadow: 0px 1px 2px rgba(60, 64, 67, 0.3), 0px 1px 3px 1px rgba(60, 64, 67, 0.15);\n",
              "      fill: #174EA6;\n",
              "    }\n",
              "\n",
              "    .colab-df-buttons div {\n",
              "      margin-bottom: 4px;\n",
              "    }\n",
              "\n",
              "    [theme=dark] .colab-df-convert {\n",
              "      background-color: #3B4455;\n",
              "      fill: #D2E3FC;\n",
              "    }\n",
              "\n",
              "    [theme=dark] .colab-df-convert:hover {\n",
              "      background-color: #434B5C;\n",
              "      box-shadow: 0px 1px 3px 1px rgba(0, 0, 0, 0.15);\n",
              "      filter: drop-shadow(0px 1px 2px rgba(0, 0, 0, 0.3));\n",
              "      fill: #FFFFFF;\n",
              "    }\n",
              "  </style>\n",
              "\n",
              "    <script>\n",
              "      const buttonEl =\n",
              "        document.querySelector('#df-7042716a-aa8d-4be3-86d1-c75114feca9a button.colab-df-convert');\n",
              "      buttonEl.style.display =\n",
              "        google.colab.kernel.accessAllowed ? 'block' : 'none';\n",
              "\n",
              "      async function convertToInteractive(key) {\n",
              "        const element = document.querySelector('#df-7042716a-aa8d-4be3-86d1-c75114feca9a');\n",
              "        const dataTable =\n",
              "          await google.colab.kernel.invokeFunction('convertToInteractive',\n",
              "                                                    [key], {});\n",
              "        if (!dataTable) return;\n",
              "\n",
              "        const docLinkHtml = 'Like what you see? Visit the ' +\n",
              "          '<a target=\"_blank\" href=https://colab.research.google.com/notebooks/data_table.ipynb>data table notebook</a>'\n",
              "          + ' to learn more about interactive tables.';\n",
              "        element.innerHTML = '';\n",
              "        dataTable['output_type'] = 'display_data';\n",
              "        await google.colab.output.renderOutput(dataTable, element);\n",
              "        const docLink = document.createElement('div');\n",
              "        docLink.innerHTML = docLinkHtml;\n",
              "        element.appendChild(docLink);\n",
              "      }\n",
              "    </script>\n",
              "  </div>\n",
              "\n",
              "\n",
              "<div id=\"df-50ee7b82-83b4-4107-97e3-0b70871b5291\">\n",
              "  <button class=\"colab-df-quickchart\" onclick=\"quickchart('df-50ee7b82-83b4-4107-97e3-0b70871b5291')\"\n",
              "            title=\"Suggest charts\"\n",
              "            style=\"display:none;\">\n",
              "\n",
              "<svg xmlns=\"http://www.w3.org/2000/svg\" height=\"24px\"viewBox=\"0 0 24 24\"\n",
              "     width=\"24px\">\n",
              "    <g>\n",
              "        <path d=\"M19 3H5c-1.1 0-2 .9-2 2v14c0 1.1.9 2 2 2h14c1.1 0 2-.9 2-2V5c0-1.1-.9-2-2-2zM9 17H7v-7h2v7zm4 0h-2V7h2v10zm4 0h-2v-4h2v4z\"/>\n",
              "    </g>\n",
              "</svg>\n",
              "  </button>\n",
              "\n",
              "<style>\n",
              "  .colab-df-quickchart {\n",
              "      --bg-color: #E8F0FE;\n",
              "      --fill-color: #1967D2;\n",
              "      --hover-bg-color: #E2EBFA;\n",
              "      --hover-fill-color: #174EA6;\n",
              "      --disabled-fill-color: #AAA;\n",
              "      --disabled-bg-color: #DDD;\n",
              "  }\n",
              "\n",
              "  [theme=dark] .colab-df-quickchart {\n",
              "      --bg-color: #3B4455;\n",
              "      --fill-color: #D2E3FC;\n",
              "      --hover-bg-color: #434B5C;\n",
              "      --hover-fill-color: #FFFFFF;\n",
              "      --disabled-bg-color: #3B4455;\n",
              "      --disabled-fill-color: #666;\n",
              "  }\n",
              "\n",
              "  .colab-df-quickchart {\n",
              "    background-color: var(--bg-color);\n",
              "    border: none;\n",
              "    border-radius: 50%;\n",
              "    cursor: pointer;\n",
              "    display: none;\n",
              "    fill: var(--fill-color);\n",
              "    height: 32px;\n",
              "    padding: 0;\n",
              "    width: 32px;\n",
              "  }\n",
              "\n",
              "  .colab-df-quickchart:hover {\n",
              "    background-color: var(--hover-bg-color);\n",
              "    box-shadow: 0 1px 2px rgba(60, 64, 67, 0.3), 0 1px 3px 1px rgba(60, 64, 67, 0.15);\n",
              "    fill: var(--button-hover-fill-color);\n",
              "  }\n",
              "\n",
              "  .colab-df-quickchart-complete:disabled,\n",
              "  .colab-df-quickchart-complete:disabled:hover {\n",
              "    background-color: var(--disabled-bg-color);\n",
              "    fill: var(--disabled-fill-color);\n",
              "    box-shadow: none;\n",
              "  }\n",
              "\n",
              "  .colab-df-spinner {\n",
              "    border: 2px solid var(--fill-color);\n",
              "    border-color: transparent;\n",
              "    border-bottom-color: var(--fill-color);\n",
              "    animation:\n",
              "      spin 1s steps(1) infinite;\n",
              "  }\n",
              "\n",
              "  @keyframes spin {\n",
              "    0% {\n",
              "      border-color: transparent;\n",
              "      border-bottom-color: var(--fill-color);\n",
              "      border-left-color: var(--fill-color);\n",
              "    }\n",
              "    20% {\n",
              "      border-color: transparent;\n",
              "      border-left-color: var(--fill-color);\n",
              "      border-top-color: var(--fill-color);\n",
              "    }\n",
              "    30% {\n",
              "      border-color: transparent;\n",
              "      border-left-color: var(--fill-color);\n",
              "      border-top-color: var(--fill-color);\n",
              "      border-right-color: var(--fill-color);\n",
              "    }\n",
              "    40% {\n",
              "      border-color: transparent;\n",
              "      border-right-color: var(--fill-color);\n",
              "      border-top-color: var(--fill-color);\n",
              "    }\n",
              "    60% {\n",
              "      border-color: transparent;\n",
              "      border-right-color: var(--fill-color);\n",
              "    }\n",
              "    80% {\n",
              "      border-color: transparent;\n",
              "      border-right-color: var(--fill-color);\n",
              "      border-bottom-color: var(--fill-color);\n",
              "    }\n",
              "    90% {\n",
              "      border-color: transparent;\n",
              "      border-bottom-color: var(--fill-color);\n",
              "    }\n",
              "  }\n",
              "</style>\n",
              "\n",
              "  <script>\n",
              "    async function quickchart(key) {\n",
              "      const quickchartButtonEl =\n",
              "        document.querySelector('#' + key + ' button');\n",
              "      quickchartButtonEl.disabled = true;  // To prevent multiple clicks.\n",
              "      quickchartButtonEl.classList.add('colab-df-spinner');\n",
              "      try {\n",
              "        const charts = await google.colab.kernel.invokeFunction(\n",
              "            'suggestCharts', [key], {});\n",
              "      } catch (error) {\n",
              "        console.error('Error during call to suggestCharts:', error);\n",
              "      }\n",
              "      quickchartButtonEl.classList.remove('colab-df-spinner');\n",
              "      quickchartButtonEl.classList.add('colab-df-quickchart-complete');\n",
              "    }\n",
              "    (() => {\n",
              "      let quickchartButtonEl =\n",
              "        document.querySelector('#df-50ee7b82-83b4-4107-97e3-0b70871b5291 button');\n",
              "      quickchartButtonEl.style.display =\n",
              "        google.colab.kernel.accessAllowed ? 'block' : 'none';\n",
              "    })();\n",
              "  </script>\n",
              "</div>\n",
              "\n",
              "  <div id=\"id_8f4e3633-59dc-4e7e-a295-3af1fc000ddf\">\n",
              "    <style>\n",
              "      .colab-df-generate {\n",
              "        background-color: #E8F0FE;\n",
              "        border: none;\n",
              "        border-radius: 50%;\n",
              "        cursor: pointer;\n",
              "        display: none;\n",
              "        fill: #1967D2;\n",
              "        height: 32px;\n",
              "        padding: 0 0 0 0;\n",
              "        width: 32px;\n",
              "      }\n",
              "\n",
              "      .colab-df-generate:hover {\n",
              "        background-color: #E2EBFA;\n",
              "        box-shadow: 0px 1px 2px rgba(60, 64, 67, 0.3), 0px 1px 3px 1px rgba(60, 64, 67, 0.15);\n",
              "        fill: #174EA6;\n",
              "      }\n",
              "\n",
              "      [theme=dark] .colab-df-generate {\n",
              "        background-color: #3B4455;\n",
              "        fill: #D2E3FC;\n",
              "      }\n",
              "\n",
              "      [theme=dark] .colab-df-generate:hover {\n",
              "        background-color: #434B5C;\n",
              "        box-shadow: 0px 1px 3px 1px rgba(0, 0, 0, 0.15);\n",
              "        filter: drop-shadow(0px 1px 2px rgba(0, 0, 0, 0.3));\n",
              "        fill: #FFFFFF;\n",
              "      }\n",
              "    </style>\n",
              "    <button class=\"colab-df-generate\" onclick=\"generateWithVariable('female_new_df')\"\n",
              "            title=\"Generate code using this dataframe.\"\n",
              "            style=\"display:none;\">\n",
              "\n",
              "  <svg xmlns=\"http://www.w3.org/2000/svg\" height=\"24px\"viewBox=\"0 0 24 24\"\n",
              "       width=\"24px\">\n",
              "    <path d=\"M7,19H8.4L18.45,9,17,7.55,7,17.6ZM5,21V16.75L18.45,3.32a2,2,0,0,1,2.83,0l1.4,1.43a1.91,1.91,0,0,1,.58,1.4,1.91,1.91,0,0,1-.58,1.4L9.25,21ZM18.45,9,17,7.55Zm-12,3A5.31,5.31,0,0,0,4.9,8.1,5.31,5.31,0,0,0,1,6.5,5.31,5.31,0,0,0,4.9,4.9,5.31,5.31,0,0,0,6.5,1,5.31,5.31,0,0,0,8.1,4.9,5.31,5.31,0,0,0,12,6.5,5.46,5.46,0,0,0,6.5,12Z\"/>\n",
              "  </svg>\n",
              "    </button>\n",
              "    <script>\n",
              "      (() => {\n",
              "      const buttonEl =\n",
              "        document.querySelector('#id_8f4e3633-59dc-4e7e-a295-3af1fc000ddf button.colab-df-generate');\n",
              "      buttonEl.style.display =\n",
              "        google.colab.kernel.accessAllowed ? 'block' : 'none';\n",
              "\n",
              "      buttonEl.onclick = () => {\n",
              "        google.colab.notebook.generateWithVariable('female_new_df');\n",
              "      }\n",
              "      })();\n",
              "    </script>\n",
              "  </div>\n",
              "\n",
              "    </div>\n",
              "  </div>\n"
            ],
            "application/vnd.google.colaboratory.intrinsic+json": {
              "type": "dataframe",
              "variable_name": "female_new_df",
              "summary": "{\n  \"name\": \"female_new_df\",\n  \"rows\": 937,\n  \"fields\": [\n    {\n      \"column\": \"Age\",\n      \"properties\": {\n        \"dtype\": \"number\",\n        \"std\": 0.821998270907333,\n        \"min\": -0.95197,\n        \"max\": 2.59171,\n        \"num_unique_values\": 6,\n        \"samples\": [\n          0.49788,\n          -0.95197,\n          1.09449\n        ],\n        \"semantic_type\": \"\",\n        \"description\": \"\"\n      }\n    },\n    {\n      \"column\": \"Education\",\n      \"properties\": {\n        \"dtype\": \"number\",\n        \"std\": 0.9466353753010782,\n        \"min\": -2.43591,\n        \"max\": 1.98437,\n        \"num_unique_values\": 9,\n        \"samples\": [\n          -1.43719,\n          1.16365,\n          -0.61113\n        ],\n        \"semantic_type\": \"\",\n        \"description\": \"\"\n      }\n    },\n    {\n      \"column\": \"Country\",\n      \"properties\": {\n        \"dtype\": \"number\",\n        \"std\": 0.6560002531146437,\n        \"min\": -0.57009,\n        \"max\": 0.96082,\n        \"num_unique_values\": 7,\n        \"samples\": [\n          0.96082,\n          0.24923,\n          0.21128\n        ],\n        \"semantic_type\": \"\",\n        \"description\": \"\"\n      }\n    },\n    {\n      \"column\": \"Ethnicity\",\n      \"properties\": {\n        \"dtype\": \"number\",\n        \"std\": 0.17432794633644805,\n        \"min\": -1.10702,\n        \"max\": 1.90725,\n        \"num_unique_values\": 7,\n        \"samples\": [\n          0.126,\n          -0.31685,\n          -1.10702\n        ],\n        \"semantic_type\": \"\",\n        \"description\": \"\"\n      }\n    }\n  ]\n}"
            }
          },
          "metadata": {},
          "execution_count": 144
        }
      ]
    },
    {
      "cell_type": "code",
      "source": [
        "male_new_df = male_df[new_demographics]#Making new df for males that is trimmed\n",
        "male_new_df #Printing new df"
      ],
      "metadata": {
        "colab": {
          "base_uri": "https://localhost:8080/",
          "height": 419
        },
        "id": "Fu5-nieKrgTa",
        "outputId": "4454b7b8-9ffc-4419-98c5-8f1b149c641b"
      },
      "execution_count": 145,
      "outputs": [
        {
          "output_type": "execute_result",
          "data": {
            "text/plain": [
              "          Age  Education  Country  Ethnicity\n",
              "1    -0.07854    1.98437  0.96082   -0.31685\n",
              "2     0.49788   -0.05921  0.96082   -0.31685\n",
              "6     1.09449    1.16365 -0.57009   -0.31685\n",
              "7     0.49788   -1.73790  0.96082   -0.31685\n",
              "9     1.82213    1.16365  0.96082   -0.31685\n",
              "...       ...        ...      ...        ...\n",
              "1877 -0.95197   -1.43719 -0.57009   -0.31685\n",
              "1878 -0.95197    0.45468  0.24923   -0.31685\n",
              "1879 -0.95197   -0.61113 -0.28519   -0.31685\n",
              "1881 -0.95197   -0.61113 -0.57009   -0.31685\n",
              "1884 -0.95197   -0.61113  0.21128   -0.31685\n",
              "\n",
              "[940 rows x 4 columns]"
            ],
            "text/html": [
              "\n",
              "  <div id=\"df-297268d8-d0d6-4121-bfe3-c45284b7c0fb\" class=\"colab-df-container\">\n",
              "    <div>\n",
              "<style scoped>\n",
              "    .dataframe tbody tr th:only-of-type {\n",
              "        vertical-align: middle;\n",
              "    }\n",
              "\n",
              "    .dataframe tbody tr th {\n",
              "        vertical-align: top;\n",
              "    }\n",
              "\n",
              "    .dataframe thead th {\n",
              "        text-align: right;\n",
              "    }\n",
              "</style>\n",
              "<table border=\"1\" class=\"dataframe\">\n",
              "  <thead>\n",
              "    <tr style=\"text-align: right;\">\n",
              "      <th></th>\n",
              "      <th>Age</th>\n",
              "      <th>Education</th>\n",
              "      <th>Country</th>\n",
              "      <th>Ethnicity</th>\n",
              "    </tr>\n",
              "  </thead>\n",
              "  <tbody>\n",
              "    <tr>\n",
              "      <th>1</th>\n",
              "      <td>-0.07854</td>\n",
              "      <td>1.98437</td>\n",
              "      <td>0.96082</td>\n",
              "      <td>-0.31685</td>\n",
              "    </tr>\n",
              "    <tr>\n",
              "      <th>2</th>\n",
              "      <td>0.49788</td>\n",
              "      <td>-0.05921</td>\n",
              "      <td>0.96082</td>\n",
              "      <td>-0.31685</td>\n",
              "    </tr>\n",
              "    <tr>\n",
              "      <th>6</th>\n",
              "      <td>1.09449</td>\n",
              "      <td>1.16365</td>\n",
              "      <td>-0.57009</td>\n",
              "      <td>-0.31685</td>\n",
              "    </tr>\n",
              "    <tr>\n",
              "      <th>7</th>\n",
              "      <td>0.49788</td>\n",
              "      <td>-1.73790</td>\n",
              "      <td>0.96082</td>\n",
              "      <td>-0.31685</td>\n",
              "    </tr>\n",
              "    <tr>\n",
              "      <th>9</th>\n",
              "      <td>1.82213</td>\n",
              "      <td>1.16365</td>\n",
              "      <td>0.96082</td>\n",
              "      <td>-0.31685</td>\n",
              "    </tr>\n",
              "    <tr>\n",
              "      <th>...</th>\n",
              "      <td>...</td>\n",
              "      <td>...</td>\n",
              "      <td>...</td>\n",
              "      <td>...</td>\n",
              "    </tr>\n",
              "    <tr>\n",
              "      <th>1877</th>\n",
              "      <td>-0.95197</td>\n",
              "      <td>-1.43719</td>\n",
              "      <td>-0.57009</td>\n",
              "      <td>-0.31685</td>\n",
              "    </tr>\n",
              "    <tr>\n",
              "      <th>1878</th>\n",
              "      <td>-0.95197</td>\n",
              "      <td>0.45468</td>\n",
              "      <td>0.24923</td>\n",
              "      <td>-0.31685</td>\n",
              "    </tr>\n",
              "    <tr>\n",
              "      <th>1879</th>\n",
              "      <td>-0.95197</td>\n",
              "      <td>-0.61113</td>\n",
              "      <td>-0.28519</td>\n",
              "      <td>-0.31685</td>\n",
              "    </tr>\n",
              "    <tr>\n",
              "      <th>1881</th>\n",
              "      <td>-0.95197</td>\n",
              "      <td>-0.61113</td>\n",
              "      <td>-0.57009</td>\n",
              "      <td>-0.31685</td>\n",
              "    </tr>\n",
              "    <tr>\n",
              "      <th>1884</th>\n",
              "      <td>-0.95197</td>\n",
              "      <td>-0.61113</td>\n",
              "      <td>0.21128</td>\n",
              "      <td>-0.31685</td>\n",
              "    </tr>\n",
              "  </tbody>\n",
              "</table>\n",
              "<p>940 rows × 4 columns</p>\n",
              "</div>\n",
              "    <div class=\"colab-df-buttons\">\n",
              "\n",
              "  <div class=\"colab-df-container\">\n",
              "    <button class=\"colab-df-convert\" onclick=\"convertToInteractive('df-297268d8-d0d6-4121-bfe3-c45284b7c0fb')\"\n",
              "            title=\"Convert this dataframe to an interactive table.\"\n",
              "            style=\"display:none;\">\n",
              "\n",
              "  <svg xmlns=\"http://www.w3.org/2000/svg\" height=\"24px\" viewBox=\"0 -960 960 960\">\n",
              "    <path d=\"M120-120v-720h720v720H120Zm60-500h600v-160H180v160Zm220 220h160v-160H400v160Zm0 220h160v-160H400v160ZM180-400h160v-160H180v160Zm440 0h160v-160H620v160ZM180-180h160v-160H180v160Zm440 0h160v-160H620v160Z\"/>\n",
              "  </svg>\n",
              "    </button>\n",
              "\n",
              "  <style>\n",
              "    .colab-df-container {\n",
              "      display:flex;\n",
              "      gap: 12px;\n",
              "    }\n",
              "\n",
              "    .colab-df-convert {\n",
              "      background-color: #E8F0FE;\n",
              "      border: none;\n",
              "      border-radius: 50%;\n",
              "      cursor: pointer;\n",
              "      display: none;\n",
              "      fill: #1967D2;\n",
              "      height: 32px;\n",
              "      padding: 0 0 0 0;\n",
              "      width: 32px;\n",
              "    }\n",
              "\n",
              "    .colab-df-convert:hover {\n",
              "      background-color: #E2EBFA;\n",
              "      box-shadow: 0px 1px 2px rgba(60, 64, 67, 0.3), 0px 1px 3px 1px rgba(60, 64, 67, 0.15);\n",
              "      fill: #174EA6;\n",
              "    }\n",
              "\n",
              "    .colab-df-buttons div {\n",
              "      margin-bottom: 4px;\n",
              "    }\n",
              "\n",
              "    [theme=dark] .colab-df-convert {\n",
              "      background-color: #3B4455;\n",
              "      fill: #D2E3FC;\n",
              "    }\n",
              "\n",
              "    [theme=dark] .colab-df-convert:hover {\n",
              "      background-color: #434B5C;\n",
              "      box-shadow: 0px 1px 3px 1px rgba(0, 0, 0, 0.15);\n",
              "      filter: drop-shadow(0px 1px 2px rgba(0, 0, 0, 0.3));\n",
              "      fill: #FFFFFF;\n",
              "    }\n",
              "  </style>\n",
              "\n",
              "    <script>\n",
              "      const buttonEl =\n",
              "        document.querySelector('#df-297268d8-d0d6-4121-bfe3-c45284b7c0fb button.colab-df-convert');\n",
              "      buttonEl.style.display =\n",
              "        google.colab.kernel.accessAllowed ? 'block' : 'none';\n",
              "\n",
              "      async function convertToInteractive(key) {\n",
              "        const element = document.querySelector('#df-297268d8-d0d6-4121-bfe3-c45284b7c0fb');\n",
              "        const dataTable =\n",
              "          await google.colab.kernel.invokeFunction('convertToInteractive',\n",
              "                                                    [key], {});\n",
              "        if (!dataTable) return;\n",
              "\n",
              "        const docLinkHtml = 'Like what you see? Visit the ' +\n",
              "          '<a target=\"_blank\" href=https://colab.research.google.com/notebooks/data_table.ipynb>data table notebook</a>'\n",
              "          + ' to learn more about interactive tables.';\n",
              "        element.innerHTML = '';\n",
              "        dataTable['output_type'] = 'display_data';\n",
              "        await google.colab.output.renderOutput(dataTable, element);\n",
              "        const docLink = document.createElement('div');\n",
              "        docLink.innerHTML = docLinkHtml;\n",
              "        element.appendChild(docLink);\n",
              "      }\n",
              "    </script>\n",
              "  </div>\n",
              "\n",
              "\n",
              "<div id=\"df-ca0aa90a-e00c-4d28-bf0c-db0e463f64ce\">\n",
              "  <button class=\"colab-df-quickchart\" onclick=\"quickchart('df-ca0aa90a-e00c-4d28-bf0c-db0e463f64ce')\"\n",
              "            title=\"Suggest charts\"\n",
              "            style=\"display:none;\">\n",
              "\n",
              "<svg xmlns=\"http://www.w3.org/2000/svg\" height=\"24px\"viewBox=\"0 0 24 24\"\n",
              "     width=\"24px\">\n",
              "    <g>\n",
              "        <path d=\"M19 3H5c-1.1 0-2 .9-2 2v14c0 1.1.9 2 2 2h14c1.1 0 2-.9 2-2V5c0-1.1-.9-2-2-2zM9 17H7v-7h2v7zm4 0h-2V7h2v10zm4 0h-2v-4h2v4z\"/>\n",
              "    </g>\n",
              "</svg>\n",
              "  </button>\n",
              "\n",
              "<style>\n",
              "  .colab-df-quickchart {\n",
              "      --bg-color: #E8F0FE;\n",
              "      --fill-color: #1967D2;\n",
              "      --hover-bg-color: #E2EBFA;\n",
              "      --hover-fill-color: #174EA6;\n",
              "      --disabled-fill-color: #AAA;\n",
              "      --disabled-bg-color: #DDD;\n",
              "  }\n",
              "\n",
              "  [theme=dark] .colab-df-quickchart {\n",
              "      --bg-color: #3B4455;\n",
              "      --fill-color: #D2E3FC;\n",
              "      --hover-bg-color: #434B5C;\n",
              "      --hover-fill-color: #FFFFFF;\n",
              "      --disabled-bg-color: #3B4455;\n",
              "      --disabled-fill-color: #666;\n",
              "  }\n",
              "\n",
              "  .colab-df-quickchart {\n",
              "    background-color: var(--bg-color);\n",
              "    border: none;\n",
              "    border-radius: 50%;\n",
              "    cursor: pointer;\n",
              "    display: none;\n",
              "    fill: var(--fill-color);\n",
              "    height: 32px;\n",
              "    padding: 0;\n",
              "    width: 32px;\n",
              "  }\n",
              "\n",
              "  .colab-df-quickchart:hover {\n",
              "    background-color: var(--hover-bg-color);\n",
              "    box-shadow: 0 1px 2px rgba(60, 64, 67, 0.3), 0 1px 3px 1px rgba(60, 64, 67, 0.15);\n",
              "    fill: var(--button-hover-fill-color);\n",
              "  }\n",
              "\n",
              "  .colab-df-quickchart-complete:disabled,\n",
              "  .colab-df-quickchart-complete:disabled:hover {\n",
              "    background-color: var(--disabled-bg-color);\n",
              "    fill: var(--disabled-fill-color);\n",
              "    box-shadow: none;\n",
              "  }\n",
              "\n",
              "  .colab-df-spinner {\n",
              "    border: 2px solid var(--fill-color);\n",
              "    border-color: transparent;\n",
              "    border-bottom-color: var(--fill-color);\n",
              "    animation:\n",
              "      spin 1s steps(1) infinite;\n",
              "  }\n",
              "\n",
              "  @keyframes spin {\n",
              "    0% {\n",
              "      border-color: transparent;\n",
              "      border-bottom-color: var(--fill-color);\n",
              "      border-left-color: var(--fill-color);\n",
              "    }\n",
              "    20% {\n",
              "      border-color: transparent;\n",
              "      border-left-color: var(--fill-color);\n",
              "      border-top-color: var(--fill-color);\n",
              "    }\n",
              "    30% {\n",
              "      border-color: transparent;\n",
              "      border-left-color: var(--fill-color);\n",
              "      border-top-color: var(--fill-color);\n",
              "      border-right-color: var(--fill-color);\n",
              "    }\n",
              "    40% {\n",
              "      border-color: transparent;\n",
              "      border-right-color: var(--fill-color);\n",
              "      border-top-color: var(--fill-color);\n",
              "    }\n",
              "    60% {\n",
              "      border-color: transparent;\n",
              "      border-right-color: var(--fill-color);\n",
              "    }\n",
              "    80% {\n",
              "      border-color: transparent;\n",
              "      border-right-color: var(--fill-color);\n",
              "      border-bottom-color: var(--fill-color);\n",
              "    }\n",
              "    90% {\n",
              "      border-color: transparent;\n",
              "      border-bottom-color: var(--fill-color);\n",
              "    }\n",
              "  }\n",
              "</style>\n",
              "\n",
              "  <script>\n",
              "    async function quickchart(key) {\n",
              "      const quickchartButtonEl =\n",
              "        document.querySelector('#' + key + ' button');\n",
              "      quickchartButtonEl.disabled = true;  // To prevent multiple clicks.\n",
              "      quickchartButtonEl.classList.add('colab-df-spinner');\n",
              "      try {\n",
              "        const charts = await google.colab.kernel.invokeFunction(\n",
              "            'suggestCharts', [key], {});\n",
              "      } catch (error) {\n",
              "        console.error('Error during call to suggestCharts:', error);\n",
              "      }\n",
              "      quickchartButtonEl.classList.remove('colab-df-spinner');\n",
              "      quickchartButtonEl.classList.add('colab-df-quickchart-complete');\n",
              "    }\n",
              "    (() => {\n",
              "      let quickchartButtonEl =\n",
              "        document.querySelector('#df-ca0aa90a-e00c-4d28-bf0c-db0e463f64ce button');\n",
              "      quickchartButtonEl.style.display =\n",
              "        google.colab.kernel.accessAllowed ? 'block' : 'none';\n",
              "    })();\n",
              "  </script>\n",
              "</div>\n",
              "\n",
              "  <div id=\"id_90dfdb3c-3d35-47cf-b4bd-63ac81b367ef\">\n",
              "    <style>\n",
              "      .colab-df-generate {\n",
              "        background-color: #E8F0FE;\n",
              "        border: none;\n",
              "        border-radius: 50%;\n",
              "        cursor: pointer;\n",
              "        display: none;\n",
              "        fill: #1967D2;\n",
              "        height: 32px;\n",
              "        padding: 0 0 0 0;\n",
              "        width: 32px;\n",
              "      }\n",
              "\n",
              "      .colab-df-generate:hover {\n",
              "        background-color: #E2EBFA;\n",
              "        box-shadow: 0px 1px 2px rgba(60, 64, 67, 0.3), 0px 1px 3px 1px rgba(60, 64, 67, 0.15);\n",
              "        fill: #174EA6;\n",
              "      }\n",
              "\n",
              "      [theme=dark] .colab-df-generate {\n",
              "        background-color: #3B4455;\n",
              "        fill: #D2E3FC;\n",
              "      }\n",
              "\n",
              "      [theme=dark] .colab-df-generate:hover {\n",
              "        background-color: #434B5C;\n",
              "        box-shadow: 0px 1px 3px 1px rgba(0, 0, 0, 0.15);\n",
              "        filter: drop-shadow(0px 1px 2px rgba(0, 0, 0, 0.3));\n",
              "        fill: #FFFFFF;\n",
              "      }\n",
              "    </style>\n",
              "    <button class=\"colab-df-generate\" onclick=\"generateWithVariable('male_new_df')\"\n",
              "            title=\"Generate code using this dataframe.\"\n",
              "            style=\"display:none;\">\n",
              "\n",
              "  <svg xmlns=\"http://www.w3.org/2000/svg\" height=\"24px\"viewBox=\"0 0 24 24\"\n",
              "       width=\"24px\">\n",
              "    <path d=\"M7,19H8.4L18.45,9,17,7.55,7,17.6ZM5,21V16.75L18.45,3.32a2,2,0,0,1,2.83,0l1.4,1.43a1.91,1.91,0,0,1,.58,1.4,1.91,1.91,0,0,1-.58,1.4L9.25,21ZM18.45,9,17,7.55Zm-12,3A5.31,5.31,0,0,0,4.9,8.1,5.31,5.31,0,0,0,1,6.5,5.31,5.31,0,0,0,4.9,4.9,5.31,5.31,0,0,0,6.5,1,5.31,5.31,0,0,0,8.1,4.9,5.31,5.31,0,0,0,12,6.5,5.46,5.46,0,0,0,6.5,12Z\"/>\n",
              "  </svg>\n",
              "    </button>\n",
              "    <script>\n",
              "      (() => {\n",
              "      const buttonEl =\n",
              "        document.querySelector('#id_90dfdb3c-3d35-47cf-b4bd-63ac81b367ef button.colab-df-generate');\n",
              "      buttonEl.style.display =\n",
              "        google.colab.kernel.accessAllowed ? 'block' : 'none';\n",
              "\n",
              "      buttonEl.onclick = () => {\n",
              "        google.colab.notebook.generateWithVariable('male_new_df');\n",
              "      }\n",
              "      })();\n",
              "    </script>\n",
              "  </div>\n",
              "\n",
              "    </div>\n",
              "  </div>\n"
            ],
            "application/vnd.google.colaboratory.intrinsic+json": {
              "type": "dataframe",
              "variable_name": "male_new_df",
              "summary": "{\n  \"name\": \"male_new_df\",\n  \"rows\": 940,\n  \"fields\": [\n    {\n      \"column\": \"Age\",\n      \"properties\": {\n        \"dtype\": \"number\",\n        \"std\": 0.9214794970386841,\n        \"min\": -0.95197,\n        \"max\": 2.59171,\n        \"num_unique_values\": 6,\n        \"samples\": [\n          -0.07854,\n          0.49788,\n          -0.95197\n        ],\n        \"semantic_type\": \"\",\n        \"description\": \"\"\n      }\n    },\n    {\n      \"column\": \"Education\",\n      \"properties\": {\n        \"dtype\": \"number\",\n        \"std\": 0.9157443696399451,\n        \"min\": -2.43591,\n        \"max\": 1.98437,\n        \"num_unique_values\": 9,\n        \"samples\": [\n          -1.22751,\n          -0.05921,\n          0.45468\n        ],\n        \"semantic_type\": \"\",\n        \"description\": \"\"\n      }\n    },\n    {\n      \"column\": \"Country\",\n      \"properties\": {\n        \"dtype\": \"number\",\n        \"std\": 0.7087635815869491,\n        \"min\": -0.57009,\n        \"max\": 0.96082,\n        \"num_unique_values\": 7,\n        \"samples\": [\n          0.96082,\n          -0.57009,\n          0.21128\n        ],\n        \"semantic_type\": \"\",\n        \"description\": \"\"\n      }\n    },\n    {\n      \"column\": \"Ethnicity\",\n      \"properties\": {\n        \"dtype\": \"number\",\n        \"std\": 0.15781487572044034,\n        \"min\": -1.10702,\n        \"max\": 1.90725,\n        \"num_unique_values\": 7,\n        \"samples\": [\n          -0.31685,\n          0.1144,\n          -0.22166\n        ],\n        \"semantic_type\": \"\",\n        \"description\": \"\"\n      }\n    }\n  ]\n}"
            }
          },
          "metadata": {},
          "execution_count": 145
        }
      ]
    },
    {
      "cell_type": "code",
      "source": [
        "personalities = [\"Nscore\",\"Escore\",\"Oscore\",\"Ascore\",\"Cscore\"]#Defining Personalities"
      ],
      "metadata": {
        "id": "o0KK255y2kSX"
      },
      "execution_count": 146,
      "outputs": []
    },
    {
      "cell_type": "code",
      "source": [
        "female_new_df_p = female_df[personalities]#Making new df for females that is trimmed\n",
        "female_new_df_p#Printing df"
      ],
      "metadata": {
        "colab": {
          "base_uri": "https://localhost:8080/",
          "height": 419
        },
        "id": "xSyAp1xO3W9N",
        "outputId": "937f8b0a-6d3c-4aea-bd84-6ec2ec176311"
      },
      "execution_count": 147,
      "outputs": [
        {
          "output_type": "execute_result",
          "data": {
            "text/plain": [
              "       Nscore   Escore   Oscore   Ascore   Cscore\n",
              "0     0.31287 -0.57545 -0.58331 -0.91699 -0.00665\n",
              "3    -0.14882 -0.80615 -0.01928  0.59042  0.58489\n",
              "4     0.73545 -1.63340 -0.45174 -0.30172  1.30612\n",
              "5    -0.67825 -0.30033 -1.55521  2.03972  1.63088\n",
              "8     0.62967  2.57309 -0.97631  0.76096  1.13407\n",
              "...       ...      ...      ...      ...      ...\n",
              "1867  1.13281 -0.43999  0.29338 -0.76096 -0.14277\n",
              "1870 -1.05308  0.96248  1.88511  1.81866  1.30612\n",
              "1880 -1.19430  1.74091  1.88511  0.76096 -1.13788\n",
              "1882  1.13281 -1.37639 -1.27553 -1.77200 -1.38502\n",
              "1883  0.91093 -1.92173  0.29338 -1.62090 -2.57309\n",
              "\n",
              "[937 rows x 5 columns]"
            ],
            "text/html": [
              "\n",
              "  <div id=\"df-3abed22a-54bd-41ca-bd8b-a0c342cb0dde\" class=\"colab-df-container\">\n",
              "    <div>\n",
              "<style scoped>\n",
              "    .dataframe tbody tr th:only-of-type {\n",
              "        vertical-align: middle;\n",
              "    }\n",
              "\n",
              "    .dataframe tbody tr th {\n",
              "        vertical-align: top;\n",
              "    }\n",
              "\n",
              "    .dataframe thead th {\n",
              "        text-align: right;\n",
              "    }\n",
              "</style>\n",
              "<table border=\"1\" class=\"dataframe\">\n",
              "  <thead>\n",
              "    <tr style=\"text-align: right;\">\n",
              "      <th></th>\n",
              "      <th>Nscore</th>\n",
              "      <th>Escore</th>\n",
              "      <th>Oscore</th>\n",
              "      <th>Ascore</th>\n",
              "      <th>Cscore</th>\n",
              "    </tr>\n",
              "  </thead>\n",
              "  <tbody>\n",
              "    <tr>\n",
              "      <th>0</th>\n",
              "      <td>0.31287</td>\n",
              "      <td>-0.57545</td>\n",
              "      <td>-0.58331</td>\n",
              "      <td>-0.91699</td>\n",
              "      <td>-0.00665</td>\n",
              "    </tr>\n",
              "    <tr>\n",
              "      <th>3</th>\n",
              "      <td>-0.14882</td>\n",
              "      <td>-0.80615</td>\n",
              "      <td>-0.01928</td>\n",
              "      <td>0.59042</td>\n",
              "      <td>0.58489</td>\n",
              "    </tr>\n",
              "    <tr>\n",
              "      <th>4</th>\n",
              "      <td>0.73545</td>\n",
              "      <td>-1.63340</td>\n",
              "      <td>-0.45174</td>\n",
              "      <td>-0.30172</td>\n",
              "      <td>1.30612</td>\n",
              "    </tr>\n",
              "    <tr>\n",
              "      <th>5</th>\n",
              "      <td>-0.67825</td>\n",
              "      <td>-0.30033</td>\n",
              "      <td>-1.55521</td>\n",
              "      <td>2.03972</td>\n",
              "      <td>1.63088</td>\n",
              "    </tr>\n",
              "    <tr>\n",
              "      <th>8</th>\n",
              "      <td>0.62967</td>\n",
              "      <td>2.57309</td>\n",
              "      <td>-0.97631</td>\n",
              "      <td>0.76096</td>\n",
              "      <td>1.13407</td>\n",
              "    </tr>\n",
              "    <tr>\n",
              "      <th>...</th>\n",
              "      <td>...</td>\n",
              "      <td>...</td>\n",
              "      <td>...</td>\n",
              "      <td>...</td>\n",
              "      <td>...</td>\n",
              "    </tr>\n",
              "    <tr>\n",
              "      <th>1867</th>\n",
              "      <td>1.13281</td>\n",
              "      <td>-0.43999</td>\n",
              "      <td>0.29338</td>\n",
              "      <td>-0.76096</td>\n",
              "      <td>-0.14277</td>\n",
              "    </tr>\n",
              "    <tr>\n",
              "      <th>1870</th>\n",
              "      <td>-1.05308</td>\n",
              "      <td>0.96248</td>\n",
              "      <td>1.88511</td>\n",
              "      <td>1.81866</td>\n",
              "      <td>1.30612</td>\n",
              "    </tr>\n",
              "    <tr>\n",
              "      <th>1880</th>\n",
              "      <td>-1.19430</td>\n",
              "      <td>1.74091</td>\n",
              "      <td>1.88511</td>\n",
              "      <td>0.76096</td>\n",
              "      <td>-1.13788</td>\n",
              "    </tr>\n",
              "    <tr>\n",
              "      <th>1882</th>\n",
              "      <td>1.13281</td>\n",
              "      <td>-1.37639</td>\n",
              "      <td>-1.27553</td>\n",
              "      <td>-1.77200</td>\n",
              "      <td>-1.38502</td>\n",
              "    </tr>\n",
              "    <tr>\n",
              "      <th>1883</th>\n",
              "      <td>0.91093</td>\n",
              "      <td>-1.92173</td>\n",
              "      <td>0.29338</td>\n",
              "      <td>-1.62090</td>\n",
              "      <td>-2.57309</td>\n",
              "    </tr>\n",
              "  </tbody>\n",
              "</table>\n",
              "<p>937 rows × 5 columns</p>\n",
              "</div>\n",
              "    <div class=\"colab-df-buttons\">\n",
              "\n",
              "  <div class=\"colab-df-container\">\n",
              "    <button class=\"colab-df-convert\" onclick=\"convertToInteractive('df-3abed22a-54bd-41ca-bd8b-a0c342cb0dde')\"\n",
              "            title=\"Convert this dataframe to an interactive table.\"\n",
              "            style=\"display:none;\">\n",
              "\n",
              "  <svg xmlns=\"http://www.w3.org/2000/svg\" height=\"24px\" viewBox=\"0 -960 960 960\">\n",
              "    <path d=\"M120-120v-720h720v720H120Zm60-500h600v-160H180v160Zm220 220h160v-160H400v160Zm0 220h160v-160H400v160ZM180-400h160v-160H180v160Zm440 0h160v-160H620v160ZM180-180h160v-160H180v160Zm440 0h160v-160H620v160Z\"/>\n",
              "  </svg>\n",
              "    </button>\n",
              "\n",
              "  <style>\n",
              "    .colab-df-container {\n",
              "      display:flex;\n",
              "      gap: 12px;\n",
              "    }\n",
              "\n",
              "    .colab-df-convert {\n",
              "      background-color: #E8F0FE;\n",
              "      border: none;\n",
              "      border-radius: 50%;\n",
              "      cursor: pointer;\n",
              "      display: none;\n",
              "      fill: #1967D2;\n",
              "      height: 32px;\n",
              "      padding: 0 0 0 0;\n",
              "      width: 32px;\n",
              "    }\n",
              "\n",
              "    .colab-df-convert:hover {\n",
              "      background-color: #E2EBFA;\n",
              "      box-shadow: 0px 1px 2px rgba(60, 64, 67, 0.3), 0px 1px 3px 1px rgba(60, 64, 67, 0.15);\n",
              "      fill: #174EA6;\n",
              "    }\n",
              "\n",
              "    .colab-df-buttons div {\n",
              "      margin-bottom: 4px;\n",
              "    }\n",
              "\n",
              "    [theme=dark] .colab-df-convert {\n",
              "      background-color: #3B4455;\n",
              "      fill: #D2E3FC;\n",
              "    }\n",
              "\n",
              "    [theme=dark] .colab-df-convert:hover {\n",
              "      background-color: #434B5C;\n",
              "      box-shadow: 0px 1px 3px 1px rgba(0, 0, 0, 0.15);\n",
              "      filter: drop-shadow(0px 1px 2px rgba(0, 0, 0, 0.3));\n",
              "      fill: #FFFFFF;\n",
              "    }\n",
              "  </style>\n",
              "\n",
              "    <script>\n",
              "      const buttonEl =\n",
              "        document.querySelector('#df-3abed22a-54bd-41ca-bd8b-a0c342cb0dde button.colab-df-convert');\n",
              "      buttonEl.style.display =\n",
              "        google.colab.kernel.accessAllowed ? 'block' : 'none';\n",
              "\n",
              "      async function convertToInteractive(key) {\n",
              "        const element = document.querySelector('#df-3abed22a-54bd-41ca-bd8b-a0c342cb0dde');\n",
              "        const dataTable =\n",
              "          await google.colab.kernel.invokeFunction('convertToInteractive',\n",
              "                                                    [key], {});\n",
              "        if (!dataTable) return;\n",
              "\n",
              "        const docLinkHtml = 'Like what you see? Visit the ' +\n",
              "          '<a target=\"_blank\" href=https://colab.research.google.com/notebooks/data_table.ipynb>data table notebook</a>'\n",
              "          + ' to learn more about interactive tables.';\n",
              "        element.innerHTML = '';\n",
              "        dataTable['output_type'] = 'display_data';\n",
              "        await google.colab.output.renderOutput(dataTable, element);\n",
              "        const docLink = document.createElement('div');\n",
              "        docLink.innerHTML = docLinkHtml;\n",
              "        element.appendChild(docLink);\n",
              "      }\n",
              "    </script>\n",
              "  </div>\n",
              "\n",
              "\n",
              "<div id=\"df-d1b6d76d-0381-4665-a3cb-facee30a0be6\">\n",
              "  <button class=\"colab-df-quickchart\" onclick=\"quickchart('df-d1b6d76d-0381-4665-a3cb-facee30a0be6')\"\n",
              "            title=\"Suggest charts\"\n",
              "            style=\"display:none;\">\n",
              "\n",
              "<svg xmlns=\"http://www.w3.org/2000/svg\" height=\"24px\"viewBox=\"0 0 24 24\"\n",
              "     width=\"24px\">\n",
              "    <g>\n",
              "        <path d=\"M19 3H5c-1.1 0-2 .9-2 2v14c0 1.1.9 2 2 2h14c1.1 0 2-.9 2-2V5c0-1.1-.9-2-2-2zM9 17H7v-7h2v7zm4 0h-2V7h2v10zm4 0h-2v-4h2v4z\"/>\n",
              "    </g>\n",
              "</svg>\n",
              "  </button>\n",
              "\n",
              "<style>\n",
              "  .colab-df-quickchart {\n",
              "      --bg-color: #E8F0FE;\n",
              "      --fill-color: #1967D2;\n",
              "      --hover-bg-color: #E2EBFA;\n",
              "      --hover-fill-color: #174EA6;\n",
              "      --disabled-fill-color: #AAA;\n",
              "      --disabled-bg-color: #DDD;\n",
              "  }\n",
              "\n",
              "  [theme=dark] .colab-df-quickchart {\n",
              "      --bg-color: #3B4455;\n",
              "      --fill-color: #D2E3FC;\n",
              "      --hover-bg-color: #434B5C;\n",
              "      --hover-fill-color: #FFFFFF;\n",
              "      --disabled-bg-color: #3B4455;\n",
              "      --disabled-fill-color: #666;\n",
              "  }\n",
              "\n",
              "  .colab-df-quickchart {\n",
              "    background-color: var(--bg-color);\n",
              "    border: none;\n",
              "    border-radius: 50%;\n",
              "    cursor: pointer;\n",
              "    display: none;\n",
              "    fill: var(--fill-color);\n",
              "    height: 32px;\n",
              "    padding: 0;\n",
              "    width: 32px;\n",
              "  }\n",
              "\n",
              "  .colab-df-quickchart:hover {\n",
              "    background-color: var(--hover-bg-color);\n",
              "    box-shadow: 0 1px 2px rgba(60, 64, 67, 0.3), 0 1px 3px 1px rgba(60, 64, 67, 0.15);\n",
              "    fill: var(--button-hover-fill-color);\n",
              "  }\n",
              "\n",
              "  .colab-df-quickchart-complete:disabled,\n",
              "  .colab-df-quickchart-complete:disabled:hover {\n",
              "    background-color: var(--disabled-bg-color);\n",
              "    fill: var(--disabled-fill-color);\n",
              "    box-shadow: none;\n",
              "  }\n",
              "\n",
              "  .colab-df-spinner {\n",
              "    border: 2px solid var(--fill-color);\n",
              "    border-color: transparent;\n",
              "    border-bottom-color: var(--fill-color);\n",
              "    animation:\n",
              "      spin 1s steps(1) infinite;\n",
              "  }\n",
              "\n",
              "  @keyframes spin {\n",
              "    0% {\n",
              "      border-color: transparent;\n",
              "      border-bottom-color: var(--fill-color);\n",
              "      border-left-color: var(--fill-color);\n",
              "    }\n",
              "    20% {\n",
              "      border-color: transparent;\n",
              "      border-left-color: var(--fill-color);\n",
              "      border-top-color: var(--fill-color);\n",
              "    }\n",
              "    30% {\n",
              "      border-color: transparent;\n",
              "      border-left-color: var(--fill-color);\n",
              "      border-top-color: var(--fill-color);\n",
              "      border-right-color: var(--fill-color);\n",
              "    }\n",
              "    40% {\n",
              "      border-color: transparent;\n",
              "      border-right-color: var(--fill-color);\n",
              "      border-top-color: var(--fill-color);\n",
              "    }\n",
              "    60% {\n",
              "      border-color: transparent;\n",
              "      border-right-color: var(--fill-color);\n",
              "    }\n",
              "    80% {\n",
              "      border-color: transparent;\n",
              "      border-right-color: var(--fill-color);\n",
              "      border-bottom-color: var(--fill-color);\n",
              "    }\n",
              "    90% {\n",
              "      border-color: transparent;\n",
              "      border-bottom-color: var(--fill-color);\n",
              "    }\n",
              "  }\n",
              "</style>\n",
              "\n",
              "  <script>\n",
              "    async function quickchart(key) {\n",
              "      const quickchartButtonEl =\n",
              "        document.querySelector('#' + key + ' button');\n",
              "      quickchartButtonEl.disabled = true;  // To prevent multiple clicks.\n",
              "      quickchartButtonEl.classList.add('colab-df-spinner');\n",
              "      try {\n",
              "        const charts = await google.colab.kernel.invokeFunction(\n",
              "            'suggestCharts', [key], {});\n",
              "      } catch (error) {\n",
              "        console.error('Error during call to suggestCharts:', error);\n",
              "      }\n",
              "      quickchartButtonEl.classList.remove('colab-df-spinner');\n",
              "      quickchartButtonEl.classList.add('colab-df-quickchart-complete');\n",
              "    }\n",
              "    (() => {\n",
              "      let quickchartButtonEl =\n",
              "        document.querySelector('#df-d1b6d76d-0381-4665-a3cb-facee30a0be6 button');\n",
              "      quickchartButtonEl.style.display =\n",
              "        google.colab.kernel.accessAllowed ? 'block' : 'none';\n",
              "    })();\n",
              "  </script>\n",
              "</div>\n",
              "\n",
              "  <div id=\"id_48faeebe-d601-4825-8e34-2a89a0c85fd1\">\n",
              "    <style>\n",
              "      .colab-df-generate {\n",
              "        background-color: #E8F0FE;\n",
              "        border: none;\n",
              "        border-radius: 50%;\n",
              "        cursor: pointer;\n",
              "        display: none;\n",
              "        fill: #1967D2;\n",
              "        height: 32px;\n",
              "        padding: 0 0 0 0;\n",
              "        width: 32px;\n",
              "      }\n",
              "\n",
              "      .colab-df-generate:hover {\n",
              "        background-color: #E2EBFA;\n",
              "        box-shadow: 0px 1px 2px rgba(60, 64, 67, 0.3), 0px 1px 3px 1px rgba(60, 64, 67, 0.15);\n",
              "        fill: #174EA6;\n",
              "      }\n",
              "\n",
              "      [theme=dark] .colab-df-generate {\n",
              "        background-color: #3B4455;\n",
              "        fill: #D2E3FC;\n",
              "      }\n",
              "\n",
              "      [theme=dark] .colab-df-generate:hover {\n",
              "        background-color: #434B5C;\n",
              "        box-shadow: 0px 1px 3px 1px rgba(0, 0, 0, 0.15);\n",
              "        filter: drop-shadow(0px 1px 2px rgba(0, 0, 0, 0.3));\n",
              "        fill: #FFFFFF;\n",
              "      }\n",
              "    </style>\n",
              "    <button class=\"colab-df-generate\" onclick=\"generateWithVariable('female_new_df_p')\"\n",
              "            title=\"Generate code using this dataframe.\"\n",
              "            style=\"display:none;\">\n",
              "\n",
              "  <svg xmlns=\"http://www.w3.org/2000/svg\" height=\"24px\"viewBox=\"0 0 24 24\"\n",
              "       width=\"24px\">\n",
              "    <path d=\"M7,19H8.4L18.45,9,17,7.55,7,17.6ZM5,21V16.75L18.45,3.32a2,2,0,0,1,2.83,0l1.4,1.43a1.91,1.91,0,0,1,.58,1.4,1.91,1.91,0,0,1-.58,1.4L9.25,21ZM18.45,9,17,7.55Zm-12,3A5.31,5.31,0,0,0,4.9,8.1,5.31,5.31,0,0,0,1,6.5,5.31,5.31,0,0,0,4.9,4.9,5.31,5.31,0,0,0,6.5,1,5.31,5.31,0,0,0,8.1,4.9,5.31,5.31,0,0,0,12,6.5,5.46,5.46,0,0,0,6.5,12Z\"/>\n",
              "  </svg>\n",
              "    </button>\n",
              "    <script>\n",
              "      (() => {\n",
              "      const buttonEl =\n",
              "        document.querySelector('#id_48faeebe-d601-4825-8e34-2a89a0c85fd1 button.colab-df-generate');\n",
              "      buttonEl.style.display =\n",
              "        google.colab.kernel.accessAllowed ? 'block' : 'none';\n",
              "\n",
              "      buttonEl.onclick = () => {\n",
              "        google.colab.notebook.generateWithVariable('female_new_df_p');\n",
              "      }\n",
              "      })();\n",
              "    </script>\n",
              "  </div>\n",
              "\n",
              "    </div>\n",
              "  </div>\n"
            ],
            "application/vnd.google.colaboratory.intrinsic+json": {
              "type": "dataframe",
              "variable_name": "female_new_df_p",
              "summary": "{\n  \"name\": \"female_new_df_p\",\n  \"rows\": 937,\n  \"fields\": [\n    {\n      \"column\": \"Nscore\",\n      \"properties\": {\n        \"dtype\": \"number\",\n        \"std\": 0.9820110857400921,\n        \"min\": -2.75696,\n        \"max\": 3.27393,\n        \"num_unique_values\": 47,\n        \"samples\": [\n          -1.69163,\n          -2.3436,\n          3.27393\n        ],\n        \"semantic_type\": \"\",\n        \"description\": \"\"\n      }\n    },\n    {\n      \"column\": \"Escore\",\n      \"properties\": {\n        \"dtype\": \"number\",\n        \"std\": 0.9537381582410377,\n        \"min\": -2.72827,\n        \"max\": 3.00537,\n        \"num_unique_values\": 39,\n        \"samples\": [\n          -2.11437,\n          -2.03972,\n          2.57309\n        ],\n        \"semantic_type\": \"\",\n        \"description\": \"\"\n      }\n    },\n    {\n      \"column\": \"Oscore\",\n      \"properties\": {\n        \"dtype\": \"number\",\n        \"std\": 1.0197522458832662,\n        \"min\": -3.27393,\n        \"max\": 2.90161,\n        \"num_unique_values\": 35,\n        \"samples\": [\n          -2.63199,\n          -1.97495,\n          1.43533\n        ],\n        \"semantic_type\": \"\",\n        \"description\": \"\"\n      }\n    },\n    {\n      \"column\": \"Ascore\",\n      \"properties\": {\n        \"dtype\": \"number\",\n        \"std\": 0.9746815408151083,\n        \"min\": -2.78793,\n        \"max\": 3.15735,\n        \"num_unique_values\": 35,\n        \"samples\": [\n          -1.34289,\n          1.11406,\n          2.23427\n        ],\n        \"semantic_type\": \"\",\n        \"description\": \"\"\n      }\n    },\n    {\n      \"column\": \"Cscore\",\n      \"properties\": {\n        \"dtype\": \"number\",\n        \"std\": 0.9868479168584146,\n        \"min\": -3.15735,\n        \"max\": 3.46436,\n        \"num_unique_values\": 38,\n        \"samples\": [\n          -2.18109,\n          -3.15735,\n          1.13407\n        ],\n        \"semantic_type\": \"\",\n        \"description\": \"\"\n      }\n    }\n  ]\n}"
            }
          },
          "metadata": {},
          "execution_count": 147
        }
      ]
    },
    {
      "cell_type": "code",
      "source": [
        "male_new_df_p = male_df[personalities]#Making new df for females that is trimmed\n",
        "male_new_df_p#Printing df"
      ],
      "metadata": {
        "colab": {
          "base_uri": "https://localhost:8080/",
          "height": 419
        },
        "id": "8aPx0mpV3wMc",
        "outputId": "f949ba81-9f15-45ac-f0ae-8ea49a186ea6"
      },
      "execution_count": 148,
      "outputs": [
        {
          "output_type": "execute_result",
          "data": {
            "text/plain": [
              "       Nscore   Escore   Oscore   Ascore   Cscore\n",
              "1    -0.67825  1.93886  1.43533  0.76096 -0.14277\n",
              "2    -0.46725  0.80523 -0.84732 -1.62090 -1.01450\n",
              "6    -0.46725 -1.09207 -0.45174 -0.30172  0.93949\n",
              "7    -1.32828  1.93886 -0.84732 -0.30172  1.63088\n",
              "9    -0.24649  0.00332 -1.42424  0.59042  0.12331\n",
              "...       ...      ...      ...      ...      ...\n",
              "1877  1.49158 -1.92173 -0.58331 -1.77200  0.58489\n",
              "1878 -0.05188 -1.76250  0.88309 -0.76096  2.33337\n",
              "1879 -0.79151  0.32197  0.29338 -0.30172 -0.27607\n",
              "1881 -0.24649  1.74091  0.58331  0.76096 -1.51840\n",
              "1884 -0.46725  2.12700  1.65653  1.11406  0.41594\n",
              "\n",
              "[940 rows x 5 columns]"
            ],
            "text/html": [
              "\n",
              "  <div id=\"df-872a4c61-a2fd-4623-8cf9-e43cee718cdf\" class=\"colab-df-container\">\n",
              "    <div>\n",
              "<style scoped>\n",
              "    .dataframe tbody tr th:only-of-type {\n",
              "        vertical-align: middle;\n",
              "    }\n",
              "\n",
              "    .dataframe tbody tr th {\n",
              "        vertical-align: top;\n",
              "    }\n",
              "\n",
              "    .dataframe thead th {\n",
              "        text-align: right;\n",
              "    }\n",
              "</style>\n",
              "<table border=\"1\" class=\"dataframe\">\n",
              "  <thead>\n",
              "    <tr style=\"text-align: right;\">\n",
              "      <th></th>\n",
              "      <th>Nscore</th>\n",
              "      <th>Escore</th>\n",
              "      <th>Oscore</th>\n",
              "      <th>Ascore</th>\n",
              "      <th>Cscore</th>\n",
              "    </tr>\n",
              "  </thead>\n",
              "  <tbody>\n",
              "    <tr>\n",
              "      <th>1</th>\n",
              "      <td>-0.67825</td>\n",
              "      <td>1.93886</td>\n",
              "      <td>1.43533</td>\n",
              "      <td>0.76096</td>\n",
              "      <td>-0.14277</td>\n",
              "    </tr>\n",
              "    <tr>\n",
              "      <th>2</th>\n",
              "      <td>-0.46725</td>\n",
              "      <td>0.80523</td>\n",
              "      <td>-0.84732</td>\n",
              "      <td>-1.62090</td>\n",
              "      <td>-1.01450</td>\n",
              "    </tr>\n",
              "    <tr>\n",
              "      <th>6</th>\n",
              "      <td>-0.46725</td>\n",
              "      <td>-1.09207</td>\n",
              "      <td>-0.45174</td>\n",
              "      <td>-0.30172</td>\n",
              "      <td>0.93949</td>\n",
              "    </tr>\n",
              "    <tr>\n",
              "      <th>7</th>\n",
              "      <td>-1.32828</td>\n",
              "      <td>1.93886</td>\n",
              "      <td>-0.84732</td>\n",
              "      <td>-0.30172</td>\n",
              "      <td>1.63088</td>\n",
              "    </tr>\n",
              "    <tr>\n",
              "      <th>9</th>\n",
              "      <td>-0.24649</td>\n",
              "      <td>0.00332</td>\n",
              "      <td>-1.42424</td>\n",
              "      <td>0.59042</td>\n",
              "      <td>0.12331</td>\n",
              "    </tr>\n",
              "    <tr>\n",
              "      <th>...</th>\n",
              "      <td>...</td>\n",
              "      <td>...</td>\n",
              "      <td>...</td>\n",
              "      <td>...</td>\n",
              "      <td>...</td>\n",
              "    </tr>\n",
              "    <tr>\n",
              "      <th>1877</th>\n",
              "      <td>1.49158</td>\n",
              "      <td>-1.92173</td>\n",
              "      <td>-0.58331</td>\n",
              "      <td>-1.77200</td>\n",
              "      <td>0.58489</td>\n",
              "    </tr>\n",
              "    <tr>\n",
              "      <th>1878</th>\n",
              "      <td>-0.05188</td>\n",
              "      <td>-1.76250</td>\n",
              "      <td>0.88309</td>\n",
              "      <td>-0.76096</td>\n",
              "      <td>2.33337</td>\n",
              "    </tr>\n",
              "    <tr>\n",
              "      <th>1879</th>\n",
              "      <td>-0.79151</td>\n",
              "      <td>0.32197</td>\n",
              "      <td>0.29338</td>\n",
              "      <td>-0.30172</td>\n",
              "      <td>-0.27607</td>\n",
              "    </tr>\n",
              "    <tr>\n",
              "      <th>1881</th>\n",
              "      <td>-0.24649</td>\n",
              "      <td>1.74091</td>\n",
              "      <td>0.58331</td>\n",
              "      <td>0.76096</td>\n",
              "      <td>-1.51840</td>\n",
              "    </tr>\n",
              "    <tr>\n",
              "      <th>1884</th>\n",
              "      <td>-0.46725</td>\n",
              "      <td>2.12700</td>\n",
              "      <td>1.65653</td>\n",
              "      <td>1.11406</td>\n",
              "      <td>0.41594</td>\n",
              "    </tr>\n",
              "  </tbody>\n",
              "</table>\n",
              "<p>940 rows × 5 columns</p>\n",
              "</div>\n",
              "    <div class=\"colab-df-buttons\">\n",
              "\n",
              "  <div class=\"colab-df-container\">\n",
              "    <button class=\"colab-df-convert\" onclick=\"convertToInteractive('df-872a4c61-a2fd-4623-8cf9-e43cee718cdf')\"\n",
              "            title=\"Convert this dataframe to an interactive table.\"\n",
              "            style=\"display:none;\">\n",
              "\n",
              "  <svg xmlns=\"http://www.w3.org/2000/svg\" height=\"24px\" viewBox=\"0 -960 960 960\">\n",
              "    <path d=\"M120-120v-720h720v720H120Zm60-500h600v-160H180v160Zm220 220h160v-160H400v160Zm0 220h160v-160H400v160ZM180-400h160v-160H180v160Zm440 0h160v-160H620v160ZM180-180h160v-160H180v160Zm440 0h160v-160H620v160Z\"/>\n",
              "  </svg>\n",
              "    </button>\n",
              "\n",
              "  <style>\n",
              "    .colab-df-container {\n",
              "      display:flex;\n",
              "      gap: 12px;\n",
              "    }\n",
              "\n",
              "    .colab-df-convert {\n",
              "      background-color: #E8F0FE;\n",
              "      border: none;\n",
              "      border-radius: 50%;\n",
              "      cursor: pointer;\n",
              "      display: none;\n",
              "      fill: #1967D2;\n",
              "      height: 32px;\n",
              "      padding: 0 0 0 0;\n",
              "      width: 32px;\n",
              "    }\n",
              "\n",
              "    .colab-df-convert:hover {\n",
              "      background-color: #E2EBFA;\n",
              "      box-shadow: 0px 1px 2px rgba(60, 64, 67, 0.3), 0px 1px 3px 1px rgba(60, 64, 67, 0.15);\n",
              "      fill: #174EA6;\n",
              "    }\n",
              "\n",
              "    .colab-df-buttons div {\n",
              "      margin-bottom: 4px;\n",
              "    }\n",
              "\n",
              "    [theme=dark] .colab-df-convert {\n",
              "      background-color: #3B4455;\n",
              "      fill: #D2E3FC;\n",
              "    }\n",
              "\n",
              "    [theme=dark] .colab-df-convert:hover {\n",
              "      background-color: #434B5C;\n",
              "      box-shadow: 0px 1px 3px 1px rgba(0, 0, 0, 0.15);\n",
              "      filter: drop-shadow(0px 1px 2px rgba(0, 0, 0, 0.3));\n",
              "      fill: #FFFFFF;\n",
              "    }\n",
              "  </style>\n",
              "\n",
              "    <script>\n",
              "      const buttonEl =\n",
              "        document.querySelector('#df-872a4c61-a2fd-4623-8cf9-e43cee718cdf button.colab-df-convert');\n",
              "      buttonEl.style.display =\n",
              "        google.colab.kernel.accessAllowed ? 'block' : 'none';\n",
              "\n",
              "      async function convertToInteractive(key) {\n",
              "        const element = document.querySelector('#df-872a4c61-a2fd-4623-8cf9-e43cee718cdf');\n",
              "        const dataTable =\n",
              "          await google.colab.kernel.invokeFunction('convertToInteractive',\n",
              "                                                    [key], {});\n",
              "        if (!dataTable) return;\n",
              "\n",
              "        const docLinkHtml = 'Like what you see? Visit the ' +\n",
              "          '<a target=\"_blank\" href=https://colab.research.google.com/notebooks/data_table.ipynb>data table notebook</a>'\n",
              "          + ' to learn more about interactive tables.';\n",
              "        element.innerHTML = '';\n",
              "        dataTable['output_type'] = 'display_data';\n",
              "        await google.colab.output.renderOutput(dataTable, element);\n",
              "        const docLink = document.createElement('div');\n",
              "        docLink.innerHTML = docLinkHtml;\n",
              "        element.appendChild(docLink);\n",
              "      }\n",
              "    </script>\n",
              "  </div>\n",
              "\n",
              "\n",
              "<div id=\"df-50458970-b3d0-4b26-8b78-666e97427aac\">\n",
              "  <button class=\"colab-df-quickchart\" onclick=\"quickchart('df-50458970-b3d0-4b26-8b78-666e97427aac')\"\n",
              "            title=\"Suggest charts\"\n",
              "            style=\"display:none;\">\n",
              "\n",
              "<svg xmlns=\"http://www.w3.org/2000/svg\" height=\"24px\"viewBox=\"0 0 24 24\"\n",
              "     width=\"24px\">\n",
              "    <g>\n",
              "        <path d=\"M19 3H5c-1.1 0-2 .9-2 2v14c0 1.1.9 2 2 2h14c1.1 0 2-.9 2-2V5c0-1.1-.9-2-2-2zM9 17H7v-7h2v7zm4 0h-2V7h2v10zm4 0h-2v-4h2v4z\"/>\n",
              "    </g>\n",
              "</svg>\n",
              "  </button>\n",
              "\n",
              "<style>\n",
              "  .colab-df-quickchart {\n",
              "      --bg-color: #E8F0FE;\n",
              "      --fill-color: #1967D2;\n",
              "      --hover-bg-color: #E2EBFA;\n",
              "      --hover-fill-color: #174EA6;\n",
              "      --disabled-fill-color: #AAA;\n",
              "      --disabled-bg-color: #DDD;\n",
              "  }\n",
              "\n",
              "  [theme=dark] .colab-df-quickchart {\n",
              "      --bg-color: #3B4455;\n",
              "      --fill-color: #D2E3FC;\n",
              "      --hover-bg-color: #434B5C;\n",
              "      --hover-fill-color: #FFFFFF;\n",
              "      --disabled-bg-color: #3B4455;\n",
              "      --disabled-fill-color: #666;\n",
              "  }\n",
              "\n",
              "  .colab-df-quickchart {\n",
              "    background-color: var(--bg-color);\n",
              "    border: none;\n",
              "    border-radius: 50%;\n",
              "    cursor: pointer;\n",
              "    display: none;\n",
              "    fill: var(--fill-color);\n",
              "    height: 32px;\n",
              "    padding: 0;\n",
              "    width: 32px;\n",
              "  }\n",
              "\n",
              "  .colab-df-quickchart:hover {\n",
              "    background-color: var(--hover-bg-color);\n",
              "    box-shadow: 0 1px 2px rgba(60, 64, 67, 0.3), 0 1px 3px 1px rgba(60, 64, 67, 0.15);\n",
              "    fill: var(--button-hover-fill-color);\n",
              "  }\n",
              "\n",
              "  .colab-df-quickchart-complete:disabled,\n",
              "  .colab-df-quickchart-complete:disabled:hover {\n",
              "    background-color: var(--disabled-bg-color);\n",
              "    fill: var(--disabled-fill-color);\n",
              "    box-shadow: none;\n",
              "  }\n",
              "\n",
              "  .colab-df-spinner {\n",
              "    border: 2px solid var(--fill-color);\n",
              "    border-color: transparent;\n",
              "    border-bottom-color: var(--fill-color);\n",
              "    animation:\n",
              "      spin 1s steps(1) infinite;\n",
              "  }\n",
              "\n",
              "  @keyframes spin {\n",
              "    0% {\n",
              "      border-color: transparent;\n",
              "      border-bottom-color: var(--fill-color);\n",
              "      border-left-color: var(--fill-color);\n",
              "    }\n",
              "    20% {\n",
              "      border-color: transparent;\n",
              "      border-left-color: var(--fill-color);\n",
              "      border-top-color: var(--fill-color);\n",
              "    }\n",
              "    30% {\n",
              "      border-color: transparent;\n",
              "      border-left-color: var(--fill-color);\n",
              "      border-top-color: var(--fill-color);\n",
              "      border-right-color: var(--fill-color);\n",
              "    }\n",
              "    40% {\n",
              "      border-color: transparent;\n",
              "      border-right-color: var(--fill-color);\n",
              "      border-top-color: var(--fill-color);\n",
              "    }\n",
              "    60% {\n",
              "      border-color: transparent;\n",
              "      border-right-color: var(--fill-color);\n",
              "    }\n",
              "    80% {\n",
              "      border-color: transparent;\n",
              "      border-right-color: var(--fill-color);\n",
              "      border-bottom-color: var(--fill-color);\n",
              "    }\n",
              "    90% {\n",
              "      border-color: transparent;\n",
              "      border-bottom-color: var(--fill-color);\n",
              "    }\n",
              "  }\n",
              "</style>\n",
              "\n",
              "  <script>\n",
              "    async function quickchart(key) {\n",
              "      const quickchartButtonEl =\n",
              "        document.querySelector('#' + key + ' button');\n",
              "      quickchartButtonEl.disabled = true;  // To prevent multiple clicks.\n",
              "      quickchartButtonEl.classList.add('colab-df-spinner');\n",
              "      try {\n",
              "        const charts = await google.colab.kernel.invokeFunction(\n",
              "            'suggestCharts', [key], {});\n",
              "      } catch (error) {\n",
              "        console.error('Error during call to suggestCharts:', error);\n",
              "      }\n",
              "      quickchartButtonEl.classList.remove('colab-df-spinner');\n",
              "      quickchartButtonEl.classList.add('colab-df-quickchart-complete');\n",
              "    }\n",
              "    (() => {\n",
              "      let quickchartButtonEl =\n",
              "        document.querySelector('#df-50458970-b3d0-4b26-8b78-666e97427aac button');\n",
              "      quickchartButtonEl.style.display =\n",
              "        google.colab.kernel.accessAllowed ? 'block' : 'none';\n",
              "    })();\n",
              "  </script>\n",
              "</div>\n",
              "\n",
              "  <div id=\"id_ee2fcd73-d6b2-4ad9-a69f-3c5b0f205d55\">\n",
              "    <style>\n",
              "      .colab-df-generate {\n",
              "        background-color: #E8F0FE;\n",
              "        border: none;\n",
              "        border-radius: 50%;\n",
              "        cursor: pointer;\n",
              "        display: none;\n",
              "        fill: #1967D2;\n",
              "        height: 32px;\n",
              "        padding: 0 0 0 0;\n",
              "        width: 32px;\n",
              "      }\n",
              "\n",
              "      .colab-df-generate:hover {\n",
              "        background-color: #E2EBFA;\n",
              "        box-shadow: 0px 1px 2px rgba(60, 64, 67, 0.3), 0px 1px 3px 1px rgba(60, 64, 67, 0.15);\n",
              "        fill: #174EA6;\n",
              "      }\n",
              "\n",
              "      [theme=dark] .colab-df-generate {\n",
              "        background-color: #3B4455;\n",
              "        fill: #D2E3FC;\n",
              "      }\n",
              "\n",
              "      [theme=dark] .colab-df-generate:hover {\n",
              "        background-color: #434B5C;\n",
              "        box-shadow: 0px 1px 3px 1px rgba(0, 0, 0, 0.15);\n",
              "        filter: drop-shadow(0px 1px 2px rgba(0, 0, 0, 0.3));\n",
              "        fill: #FFFFFF;\n",
              "      }\n",
              "    </style>\n",
              "    <button class=\"colab-df-generate\" onclick=\"generateWithVariable('male_new_df_p')\"\n",
              "            title=\"Generate code using this dataframe.\"\n",
              "            style=\"display:none;\">\n",
              "\n",
              "  <svg xmlns=\"http://www.w3.org/2000/svg\" height=\"24px\"viewBox=\"0 0 24 24\"\n",
              "       width=\"24px\">\n",
              "    <path d=\"M7,19H8.4L18.45,9,17,7.55,7,17.6ZM5,21V16.75L18.45,3.32a2,2,0,0,1,2.83,0l1.4,1.43a1.91,1.91,0,0,1,.58,1.4,1.91,1.91,0,0,1-.58,1.4L9.25,21ZM18.45,9,17,7.55Zm-12,3A5.31,5.31,0,0,0,4.9,8.1,5.31,5.31,0,0,0,1,6.5,5.31,5.31,0,0,0,4.9,4.9,5.31,5.31,0,0,0,6.5,1,5.31,5.31,0,0,0,8.1,4.9,5.31,5.31,0,0,0,12,6.5,5.46,5.46,0,0,0,6.5,12Z\"/>\n",
              "  </svg>\n",
              "    </button>\n",
              "    <script>\n",
              "      (() => {\n",
              "      const buttonEl =\n",
              "        document.querySelector('#id_ee2fcd73-d6b2-4ad9-a69f-3c5b0f205d55 button.colab-df-generate');\n",
              "      buttonEl.style.display =\n",
              "        google.colab.kernel.accessAllowed ? 'block' : 'none';\n",
              "\n",
              "      buttonEl.onclick = () => {\n",
              "        google.colab.notebook.generateWithVariable('male_new_df_p');\n",
              "      }\n",
              "      })();\n",
              "    </script>\n",
              "  </div>\n",
              "\n",
              "    </div>\n",
              "  </div>\n"
            ],
            "application/vnd.google.colaboratory.intrinsic+json": {
              "type": "dataframe",
              "variable_name": "male_new_df_p",
              "summary": "{\n  \"name\": \"male_new_df_p\",\n  \"rows\": 940,\n  \"fields\": [\n    {\n      \"column\": \"Nscore\",\n      \"properties\": {\n        \"dtype\": \"number\",\n        \"std\": 1.0098408930310108,\n        \"min\": -3.46436,\n        \"max\": 2.61139,\n        \"num_unique_values\": 46,\n        \"samples\": [\n          2.28554,\n          0.73545,\n          -2.3436\n        ],\n        \"semantic_type\": \"\",\n        \"description\": \"\"\n      }\n    },\n    {\n      \"column\": \"Escore\",\n      \"properties\": {\n        \"dtype\": \"number\",\n        \"std\": 1.0363435756199741,\n        \"min\": -3.27393,\n        \"max\": 3.27393,\n        \"num_unique_values\": 40,\n        \"samples\": [\n          1.45421,\n          -0.57545,\n          -0.30033\n        ],\n        \"semantic_type\": \"\",\n        \"description\": \"\"\n      }\n    },\n    {\n      \"column\": \"Oscore\",\n      \"properties\": {\n        \"dtype\": \"number\",\n        \"std\": 0.9532328986792328,\n        \"min\": -2.8595,\n        \"max\": 2.90161,\n        \"num_unique_values\": 34,\n        \"samples\": [\n          0.29338,\n          -0.58331,\n          2.15324\n        ],\n        \"semantic_type\": \"\",\n        \"description\": \"\"\n      }\n    },\n    {\n      \"column\": \"Ascore\",\n      \"properties\": {\n        \"dtype\": \"number\",\n        \"std\": 0.9707739064631604,\n        \"min\": -3.46436,\n        \"max\": 3.46436,\n        \"num_unique_values\": 39,\n        \"samples\": [\n          2.46262,\n          -3.46436,\n          -1.92595\n        ],\n        \"semantic_type\": \"\",\n        \"description\": \"\"\n      }\n    },\n    {\n      \"column\": \"Cscore\",\n      \"properties\": {\n        \"dtype\": \"number\",\n        \"std\": 0.975497962400712,\n        \"min\": -3.46436,\n        \"max\": 3.00537,\n        \"num_unique_values\": 39,\n        \"samples\": [\n          -2.04506,\n          -2.57309,\n          0.12331\n        ],\n        \"semantic_type\": \"\",\n        \"description\": \"\"\n      }\n    }\n  ]\n}"
            }
          },
          "metadata": {},
          "execution_count": 148
        }
      ]
    },
    {
      "cell_type": "markdown",
      "source": [
        "## Modeling for category 4 drugs"
      ],
      "metadata": {
        "id": "Ezo7MxLWv1Nd"
      }
    },
    {
      "cell_type": "markdown",
      "source": [
        "### Female"
      ],
      "metadata": {
        "id": "JtrI_xpb0QUV"
      }
    },
    {
      "cell_type": "code",
      "source": [
        "drug_category = 'Cat4' #Defining category"
      ],
      "metadata": {
        "id": "0UfHKwjpwhhA"
      },
      "execution_count": 149,
      "outputs": []
    },
    {
      "cell_type": "code",
      "source": [
        "X_female_demographics = female_new_df #Defining X features and y targets\n",
        "y = female_df[drug_category]"
      ],
      "metadata": {
        "id": "6ycdsuebr-Cb"
      },
      "execution_count": 150,
      "outputs": []
    },
    {
      "cell_type": "code",
      "source": [
        "X_train_female_demographics, X_test_female_demographics, y_train, y_test = train_test_split(X_female_demographics, y, test_size=0.2, random_state=42, stratify=X_female_demographics['Age'])\n",
        "#Train test split"
      ],
      "metadata": {
        "id": "jmRXO0rGwosI"
      },
      "execution_count": 151,
      "outputs": []
    },
    {
      "cell_type": "code",
      "source": [
        "param_grid = {\n",
        "    'max_depth': [3, 5, 7, 10]  # Range of max_depth values for gridsearch\n",
        "}\n",
        "\n",
        "dt_classifier = DecisionTreeClassifier()#Performing gridsearch\n",
        "grid_search = GridSearchCV(estimator=dt_classifier, param_grid=param_grid, cv=5)\n",
        "grid_search.fit(X_train_female_demographics, y_train)\n",
        "# Printing the best parameters found\n",
        "print(\"Best parameters:\", grid_search.best_params_)"
      ],
      "metadata": {
        "colab": {
          "base_uri": "https://localhost:8080/"
        },
        "id": "T6mrSb9nxuUp",
        "outputId": "97a1804c-4312-486f-84b0-1b69de2e2385"
      },
      "execution_count": 152,
      "outputs": [
        {
          "output_type": "stream",
          "name": "stdout",
          "text": [
            "Best parameters: {'max_depth': 3}\n"
          ]
        }
      ]
    },
    {
      "cell_type": "code",
      "source": [
        "max_depth = 3\n",
        "dt_model_demographics = DecisionTreeClassifier(max_depth = max_depth) #Defining and fitting model\n",
        "dt_model_demographics.fit(X_train_female_demographics, y_train)\n",
        "y_train_pred_dt_demographics = dt_model_demographics.predict(X_train_female_demographics)#Making / Evaluating predictions\n",
        "y_test_pred_dt_demographics = dt_model_demographics.predict(X_test_female_demographics)\n",
        "train_accuracy_dt_demographics = accuracy_score(y_train, y_train_pred_dt_demographics)\n",
        "test_accuracy_dt_demographics = accuracy_score(y_test, y_test_pred_dt_demographics)\n",
        "print(\"Demographics Category for female:\")\n",
        "print(\"Decision Tree Model:\")\n",
        "print(f\"Overall Training Accuracy: {train_accuracy_dt_demographics}\")\n",
        "print(f\"Overall Testing Accuracy: {test_accuracy_dt_demographics}\")"
      ],
      "metadata": {
        "colab": {
          "base_uri": "https://localhost:8080/"
        },
        "id": "eIT33nSiyeg6",
        "outputId": "6399d979-bd01-4aba-b8ac-a6cc814ece30"
      },
      "execution_count": 153,
      "outputs": [
        {
          "output_type": "stream",
          "name": "stdout",
          "text": [
            "Demographics Category for female:\n",
            "Decision Tree Model:\n",
            "Overall Training Accuracy: 1.0\n",
            "Overall Testing Accuracy: 0.9946808510638298\n"
          ]
        }
      ]
    },
    {
      "cell_type": "markdown",
      "source": [
        "### Male"
      ],
      "metadata": {
        "id": "tqvgAr0i0XlL"
      }
    },
    {
      "cell_type": "code",
      "source": [
        "X_male_demographics = male_new_df #Defining X features and y targets\n",
        "y = male_df[drug_category]"
      ],
      "metadata": {
        "id": "do7ZB7BEywkw"
      },
      "execution_count": 154,
      "outputs": []
    },
    {
      "cell_type": "code",
      "source": [
        "X_train_male_demographics, X_test_male_demographics, y_train, y_test = train_test_split(X_male_demographics, y, test_size=0.2, random_state=42, stratify=X_male_demographics['Age'])\n",
        "#Train test split"
      ],
      "metadata": {
        "id": "2CjUmhpYznV4"
      },
      "execution_count": 155,
      "outputs": []
    },
    {
      "cell_type": "code",
      "source": [
        "param_grid = {\n",
        "    'max_depth': [3, 5, 7, 10]  # Range of max_depth values for gridsearch\n",
        "}\n",
        "\n",
        "dt_classifier = DecisionTreeClassifier()#Performing gridsearch\n",
        "grid_search = GridSearchCV(estimator=dt_classifier, param_grid=param_grid, cv=5)\n",
        "grid_search.fit(X_train_male_demographics, y_train)\n",
        "# Printing the best parameters found\n",
        "print(\"Best parameters:\", grid_search.best_params_)"
      ],
      "metadata": {
        "colab": {
          "base_uri": "https://localhost:8080/"
        },
        "id": "5JuwvNK9zskD",
        "outputId": "99b39520-aa7d-4d3e-fc93-5e36b2789d08"
      },
      "execution_count": 156,
      "outputs": [
        {
          "output_type": "stream",
          "name": "stdout",
          "text": [
            "Best parameters: {'max_depth': 3}\n"
          ]
        },
        {
          "output_type": "stream",
          "name": "stderr",
          "text": [
            "/usr/local/lib/python3.10/dist-packages/sklearn/model_selection/_split.py:700: UserWarning: The least populated class in y has only 1 members, which is less than n_splits=5.\n",
            "  warnings.warn(\n"
          ]
        }
      ]
    },
    {
      "cell_type": "code",
      "source": [
        "max_depth = 3\n",
        "dt_model_demographics = DecisionTreeClassifier(max_depth = max_depth) #Defining and fitting model\n",
        "dt_model_demographics.fit(X_train_male_demographics, y_train)\n",
        "y_train_pred_dt_demographics = dt_model_demographics.predict(X_train_male_demographics)#Making / Evaluating predictions\n",
        "y_test_pred_dt_demographics = dt_model_demographics.predict(X_test_male_demographics)\n",
        "train_accuracy_dt_demographics = accuracy_score(y_train, y_train_pred_dt_demographics)\n",
        "test_accuracy_dt_demographics = accuracy_score(y_test, y_test_pred_dt_demographics)\n",
        "print(\"Demographics Category for male:\")\n",
        "print(\"Decision Tree Model:\")\n",
        "print(f\"Overall Training Accuracy: {train_accuracy_dt_demographics}\")\n",
        "print(f\"Overall Testing Accuracy: {test_accuracy_dt_demographics}\")"
      ],
      "metadata": {
        "colab": {
          "base_uri": "https://localhost:8080/"
        },
        "id": "fj5mlKyyz0Lq",
        "outputId": "4e41e555-c69e-4cf5-8ccf-b122a5293bb0"
      },
      "execution_count": 157,
      "outputs": [
        {
          "output_type": "stream",
          "name": "stdout",
          "text": [
            "Demographics Category for male:\n",
            "Decision Tree Model:\n",
            "Overall Training Accuracy: 1.0\n",
            "Overall Testing Accuracy: 1.0\n"
          ]
        }
      ]
    },
    {
      "cell_type": "markdown",
      "source": [
        "## Modeling for category 3 drugs"
      ],
      "metadata": {
        "id": "whSqw39D2Ceg"
      }
    },
    {
      "cell_type": "markdown",
      "source": [
        "### Female"
      ],
      "metadata": {
        "id": "rUiGGKvI8PGv"
      }
    },
    {
      "cell_type": "code",
      "source": [
        "drug_category = 'Cat3'#Defining category"
      ],
      "metadata": {
        "id": "Ny6arpirFEg9"
      },
      "execution_count": 158,
      "outputs": []
    },
    {
      "cell_type": "code",
      "source": [
        "X_female_personalities = female_new_df_p #Defining X features and y targets\n",
        "y = female_df[drug_category]"
      ],
      "metadata": {
        "id": "gosJ9zTU22Gg"
      },
      "execution_count": 159,
      "outputs": []
    },
    {
      "cell_type": "code",
      "source": [
        "X_train_female_personalities, X_test_female_personalities, y_train, y_test = train_test_split(X_female_personalities, y, test_size=0.2, random_state=42)\n",
        "#Train test split"
      ],
      "metadata": {
        "id": "LeFNSYRm4a01"
      },
      "execution_count": 160,
      "outputs": []
    },
    {
      "cell_type": "code",
      "source": [
        "param_grid = {\n",
        "    'max_depth': [3, 5, 7, 10]  # Range of max_depth values for gridsearch\n",
        "}\n",
        "\n",
        "dt_classifier = DecisionTreeClassifier()#Performing gridsearch\n",
        "grid_search = GridSearchCV(estimator=dt_classifier, param_grid=param_grid, cv=5)\n",
        "grid_search.fit(X_train_female_personalities, y_train)\n",
        "# Printing the best parameters found\n",
        "print(\"Best parameters:\", grid_search.best_params_)"
      ],
      "metadata": {
        "colab": {
          "base_uri": "https://localhost:8080/"
        },
        "id": "cbfHTQIA41Co",
        "outputId": "f93e66f4-5af8-4845-cfdb-6bf3c0913445"
      },
      "execution_count": 161,
      "outputs": [
        {
          "output_type": "stream",
          "name": "stdout",
          "text": [
            "Best parameters: {'max_depth': 3}\n"
          ]
        }
      ]
    },
    {
      "cell_type": "code",
      "source": [
        "max_depth = 3\n",
        "dt_model_personalities = DecisionTreeClassifier(max_depth = max_depth) #Defining and fitting model\n",
        "dt_model_personalities.fit(X_train_female_personalities, y_train)\n",
        "y_train_pred_dt_personalities = dt_model_personalities.predict(X_train_female_personalities)#Making / Evaluating predictions\n",
        "y_test_pred_dt_personalities = dt_model_personalities.predict(X_test_female_personalities)\n",
        "train_accuracy_dt_personalities = accuracy_score(y_train, y_train_pred_dt_personalities)\n",
        "test_accuracy_dt_personalities = accuracy_score(y_test, y_test_pred_dt_personalities)\n",
        "print(\"Demographics Category for female:\")\n",
        "print(\"Decision Tree Model:\")\n",
        "print(f\"Overall Training Accuracy: {train_accuracy_dt_personalities}\")\n",
        "print(f\"Overall Testing Accuracy: {test_accuracy_dt_personalities}\")"
      ],
      "metadata": {
        "colab": {
          "base_uri": "https://localhost:8080/"
        },
        "id": "3BNBhP9T4-RO",
        "outputId": "22cbf345-8051-43f8-f0a3-fb696befa5e8"
      },
      "execution_count": 162,
      "outputs": [
        {
          "output_type": "stream",
          "name": "stdout",
          "text": [
            "Demographics Category for female:\n",
            "Decision Tree Model:\n",
            "Overall Training Accuracy: 0.9946595460614153\n",
            "Overall Testing Accuracy: 0.9787234042553191\n"
          ]
        }
      ]
    },
    {
      "cell_type": "markdown",
      "source": [
        "### Male"
      ],
      "metadata": {
        "id": "5aiqEER88NVP"
      }
    },
    {
      "cell_type": "code",
      "source": [
        "X_male_personalities = male_new_df_p #Defining X features and y targets\n",
        "y = male_df[drug_category]"
      ],
      "metadata": {
        "id": "EJClDKn0z7ze"
      },
      "execution_count": 163,
      "outputs": []
    },
    {
      "cell_type": "code",
      "source": [
        "X_train_male_personalities, X_test_male_personalities, y_train, y_test = train_test_split(X_male_personalities, y, test_size=0.2, random_state=42)\n",
        "#Train test split"
      ],
      "metadata": {
        "id": "xk9q7qFx70l7"
      },
      "execution_count": 164,
      "outputs": []
    },
    {
      "cell_type": "code",
      "source": [
        "param_grid = {\n",
        "    'max_depth': [3, 5, 7, 10]  # Range of max_depth values for gridsearch\n",
        "}\n",
        "\n",
        "dt_classifier = DecisionTreeClassifier()#Performing gridsearch\n",
        "grid_search = GridSearchCV(estimator=dt_classifier, param_grid=param_grid, cv=5)\n",
        "grid_search.fit(X_train_male_personalities, y_train)\n",
        "# Printing the best parameters found\n",
        "print(\"Best parameters:\", grid_search.best_params_)"
      ],
      "metadata": {
        "colab": {
          "base_uri": "https://localhost:8080/"
        },
        "id": "wYjNcob876_5",
        "outputId": "bb84ea88-7ecd-43b7-9afa-106dddf473e6"
      },
      "execution_count": 165,
      "outputs": [
        {
          "output_type": "stream",
          "name": "stdout",
          "text": [
            "Best parameters: {'max_depth': 3}\n"
          ]
        }
      ]
    },
    {
      "cell_type": "code",
      "source": [
        "max_depth = 3\n",
        "dt_model_personalities = DecisionTreeClassifier(max_depth = max_depth) #Defining and fitting model\n",
        "dt_model_personalities.fit(X_train_male_personalities, y_train)\n",
        "y_train_pred_dt_personalities = dt_model_personalities.predict(X_train_male_personalities)#Making / Evaluating predictions\n",
        "y_test_pred_dt_personalities = dt_model_personalities.predict(X_test_male_personalities)\n",
        "train_accuracy_dt_personalities = accuracy_score(y_train, y_train_pred_dt_personalities)\n",
        "test_accuracy_dt_personalities = accuracy_score(y_test, y_test_pred_dt_personalities)\n",
        "print(\"Demographics Category for male:\")\n",
        "print(\"Decision Tree Model:\")\n",
        "print(f\"Overall Training Accuracy: {train_accuracy_dt_personalities}\")\n",
        "print(f\"Overall Testing Accuracy: {test_accuracy_dt_personalities}\")"
      ],
      "metadata": {
        "colab": {
          "base_uri": "https://localhost:8080/"
        },
        "id": "OWZ3UU7n8Dpj",
        "outputId": "c063efa5-309e-41f1-f682-edbe3c3f2806"
      },
      "execution_count": 166,
      "outputs": [
        {
          "output_type": "stream",
          "name": "stdout",
          "text": [
            "Demographics Category for male:\n",
            "Decision Tree Model:\n",
            "Overall Training Accuracy: 0.9933510638297872\n",
            "Overall Testing Accuracy: 0.9787234042553191\n"
          ]
        }
      ]
    },
    {
      "cell_type": "markdown",
      "source": [
        "## Modeling for category 2 drugs"
      ],
      "metadata": {
        "id": "bktWbI7d_gmK"
      }
    },
    {
      "cell_type": "markdown",
      "source": [
        "### Female"
      ],
      "metadata": {
        "id": "KQbomyz3A2Gr"
      }
    },
    {
      "cell_type": "code",
      "source": [
        "drug_category = 'Cat2'#Defining category"
      ],
      "metadata": {
        "id": "57XToV85FNlJ"
      },
      "execution_count": 167,
      "outputs": []
    },
    {
      "cell_type": "code",
      "source": [
        "X_female_personalities = female_new_df_p #Defining X features and y targets\n",
        "y = female_df[drug_category]"
      ],
      "metadata": {
        "id": "92C5YdQM8Ku8"
      },
      "execution_count": 168,
      "outputs": []
    },
    {
      "cell_type": "code",
      "source": [
        "X_train_female_personalities, X_test_female_personalities, y_train, y_test = train_test_split(X_female_personalities, y, test_size=0.2, random_state=42)\n",
        "#Train test split"
      ],
      "metadata": {
        "id": "koZYx1EdBMbu"
      },
      "execution_count": 169,
      "outputs": []
    },
    {
      "cell_type": "code",
      "source": [
        "param_grid = {\n",
        "    'alpha': [0.0001, 0.001, 0.01],  # Creating range of alpha / learning rate values\n",
        "}\n",
        "\n",
        "nn_classifier = MLPClassifier(max_iter=1000) #Performing gridsearch\n",
        "grid_search = GridSearchCV(estimator=nn_classifier, param_grid=param_grid, cv=5)\n",
        "grid_search.fit(X_train_female_personalities, y_train)\n",
        "\n",
        "# Print the best parameters found\n",
        "print(\"Best parameters:\", grid_search.best_params_)"
      ],
      "metadata": {
        "colab": {
          "base_uri": "https://localhost:8080/"
        },
        "id": "fXPpZRzeBQyc",
        "outputId": "4bea2aef-4ebd-4ef1-9fb5-71c4151732d1"
      },
      "execution_count": 170,
      "outputs": [
        {
          "output_type": "stream",
          "name": "stderr",
          "text": [
            "/usr/local/lib/python3.10/dist-packages/sklearn/neural_network/_multilayer_perceptron.py:686: ConvergenceWarning: Stochastic Optimizer: Maximum iterations (1000) reached and the optimization hasn't converged yet.\n",
            "  warnings.warn(\n",
            "/usr/local/lib/python3.10/dist-packages/sklearn/neural_network/_multilayer_perceptron.py:686: ConvergenceWarning: Stochastic Optimizer: Maximum iterations (1000) reached and the optimization hasn't converged yet.\n",
            "  warnings.warn(\n",
            "/usr/local/lib/python3.10/dist-packages/sklearn/neural_network/_multilayer_perceptron.py:686: ConvergenceWarning: Stochastic Optimizer: Maximum iterations (1000) reached and the optimization hasn't converged yet.\n",
            "  warnings.warn(\n",
            "/usr/local/lib/python3.10/dist-packages/sklearn/neural_network/_multilayer_perceptron.py:686: ConvergenceWarning: Stochastic Optimizer: Maximum iterations (1000) reached and the optimization hasn't converged yet.\n",
            "  warnings.warn(\n",
            "/usr/local/lib/python3.10/dist-packages/sklearn/neural_network/_multilayer_perceptron.py:686: ConvergenceWarning: Stochastic Optimizer: Maximum iterations (1000) reached and the optimization hasn't converged yet.\n",
            "  warnings.warn(\n",
            "/usr/local/lib/python3.10/dist-packages/sklearn/neural_network/_multilayer_perceptron.py:686: ConvergenceWarning: Stochastic Optimizer: Maximum iterations (1000) reached and the optimization hasn't converged yet.\n",
            "  warnings.warn(\n",
            "/usr/local/lib/python3.10/dist-packages/sklearn/neural_network/_multilayer_perceptron.py:686: ConvergenceWarning: Stochastic Optimizer: Maximum iterations (1000) reached and the optimization hasn't converged yet.\n",
            "  warnings.warn(\n",
            "/usr/local/lib/python3.10/dist-packages/sklearn/neural_network/_multilayer_perceptron.py:686: ConvergenceWarning: Stochastic Optimizer: Maximum iterations (1000) reached and the optimization hasn't converged yet.\n",
            "  warnings.warn(\n",
            "/usr/local/lib/python3.10/dist-packages/sklearn/neural_network/_multilayer_perceptron.py:686: ConvergenceWarning: Stochastic Optimizer: Maximum iterations (1000) reached and the optimization hasn't converged yet.\n",
            "  warnings.warn(\n",
            "/usr/local/lib/python3.10/dist-packages/sklearn/neural_network/_multilayer_perceptron.py:686: ConvergenceWarning: Stochastic Optimizer: Maximum iterations (1000) reached and the optimization hasn't converged yet.\n",
            "  warnings.warn(\n",
            "/usr/local/lib/python3.10/dist-packages/sklearn/neural_network/_multilayer_perceptron.py:686: ConvergenceWarning: Stochastic Optimizer: Maximum iterations (1000) reached and the optimization hasn't converged yet.\n",
            "  warnings.warn(\n",
            "/usr/local/lib/python3.10/dist-packages/sklearn/neural_network/_multilayer_perceptron.py:686: ConvergenceWarning: Stochastic Optimizer: Maximum iterations (1000) reached and the optimization hasn't converged yet.\n",
            "  warnings.warn(\n",
            "/usr/local/lib/python3.10/dist-packages/sklearn/neural_network/_multilayer_perceptron.py:686: ConvergenceWarning: Stochastic Optimizer: Maximum iterations (1000) reached and the optimization hasn't converged yet.\n",
            "  warnings.warn(\n",
            "/usr/local/lib/python3.10/dist-packages/sklearn/neural_network/_multilayer_perceptron.py:686: ConvergenceWarning: Stochastic Optimizer: Maximum iterations (1000) reached and the optimization hasn't converged yet.\n",
            "  warnings.warn(\n",
            "/usr/local/lib/python3.10/dist-packages/sklearn/neural_network/_multilayer_perceptron.py:686: ConvergenceWarning: Stochastic Optimizer: Maximum iterations (1000) reached and the optimization hasn't converged yet.\n",
            "  warnings.warn(\n"
          ]
        },
        {
          "output_type": "stream",
          "name": "stdout",
          "text": [
            "Best parameters: {'alpha': 0.001}\n"
          ]
        },
        {
          "output_type": "stream",
          "name": "stderr",
          "text": [
            "/usr/local/lib/python3.10/dist-packages/sklearn/neural_network/_multilayer_perceptron.py:686: ConvergenceWarning: Stochastic Optimizer: Maximum iterations (1000) reached and the optimization hasn't converged yet.\n",
            "  warnings.warn(\n"
          ]
        }
      ]
    },
    {
      "cell_type": "code",
      "source": [
        "#Neaural Network\n",
        "learning_rate = 0.001\n",
        "nn_model_female_personality = MLPClassifier(alpha = learning_rate) #Defining and fitting model\n",
        "nn_model_female_personality.fit(X_train_female_personalities, y_train)\n",
        "y_train_pred_nn_personality = nn_model_female_personality.predict(X_train_female_personalities)#Making / Evaluating predictions\n",
        "y_test_pred_nn_personality = nn_model_female_personality.predict(X_test_female_personalities)\n",
        "train_accuracy_nn_personality = accuracy_score(y_train, y_train_pred_nn_personality)\n",
        "test_accuracy_nn_personality = accuracy_score(y_test, y_test_pred_nn_personality)\n",
        "print(\"Personality Category:\")\n",
        "print(\"Neural Network Model female:\")\n",
        "print(f\"Overall Training Accuracy: {train_accuracy_nn_personality}\")\n",
        "print(f\"Overall Testing Accuracy: {test_accuracy_nn_personality}\")"
      ],
      "metadata": {
        "colab": {
          "base_uri": "https://localhost:8080/"
        },
        "id": "YH7DQjfzBcS5",
        "outputId": "a8d2704f-5243-4ad2-f41f-b6cbc21007a5"
      },
      "execution_count": 171,
      "outputs": [
        {
          "output_type": "stream",
          "name": "stdout",
          "text": [
            "Personality Category:\n",
            "Neural Network Model female:\n",
            "Overall Training Accuracy: 0.7489986648865153\n",
            "Overall Testing Accuracy: 0.648936170212766\n"
          ]
        },
        {
          "output_type": "stream",
          "name": "stderr",
          "text": [
            "/usr/local/lib/python3.10/dist-packages/sklearn/neural_network/_multilayer_perceptron.py:686: ConvergenceWarning: Stochastic Optimizer: Maximum iterations (200) reached and the optimization hasn't converged yet.\n",
            "  warnings.warn(\n"
          ]
        }
      ]
    },
    {
      "cell_type": "markdown",
      "source": [
        "### Male"
      ],
      "metadata": {
        "id": "lNR41M8tCVh3"
      }
    },
    {
      "cell_type": "code",
      "source": [
        "X_male_personalities = male_new_df_p #Defining X features and y targets\n",
        "y = male_df[drug_category]"
      ],
      "metadata": {
        "id": "M4gXJPJ6B9VH"
      },
      "execution_count": 172,
      "outputs": []
    },
    {
      "cell_type": "code",
      "source": [
        "X_train_male_personalities, X_test_male_personalities, y_train, y_test = train_test_split(X_male_personalities, y, test_size=0.2, random_state=42)\n",
        "#Train test split"
      ],
      "metadata": {
        "id": "N8YzIVPbCcdM"
      },
      "execution_count": 173,
      "outputs": []
    },
    {
      "cell_type": "code",
      "source": [
        "param_grid = {\n",
        "    'alpha': [0.0001, 0.001, 0.01],  # Creating range of alpha / learning rate values\n",
        "}\n",
        "\n",
        "nn_classifier = MLPClassifier() #Performing gridsearch\n",
        "grid_search = GridSearchCV(estimator=nn_classifier, param_grid=param_grid, cv=5)\n",
        "grid_search.fit(X_train_male_personalities, y_train)\n",
        "\n",
        "# Print the best parameters found\n",
        "print(\"Best parameters:\", grid_search.best_params_)"
      ],
      "metadata": {
        "colab": {
          "base_uri": "https://localhost:8080/"
        },
        "id": "BJvunu2OCihT",
        "outputId": "12f2d25f-cf6f-46bd-99ce-76ddd9a7839d"
      },
      "execution_count": 174,
      "outputs": [
        {
          "output_type": "stream",
          "name": "stdout",
          "text": [
            "Best parameters: {'alpha': 0.01}\n"
          ]
        },
        {
          "output_type": "stream",
          "name": "stderr",
          "text": [
            "/usr/local/lib/python3.10/dist-packages/sklearn/neural_network/_multilayer_perceptron.py:686: ConvergenceWarning: Stochastic Optimizer: Maximum iterations (200) reached and the optimization hasn't converged yet.\n",
            "  warnings.warn(\n"
          ]
        }
      ]
    },
    {
      "cell_type": "code",
      "source": [
        "#Neaural Network\n",
        "learning_rate = 0.01\n",
        "nn_model_male_personality = MLPClassifier(alpha = learning_rate) #Defining and fitting model\n",
        "nn_model_male_personality.fit(X_train_male_personalities, y_train)\n",
        "y_train_pred_nn_personality = nn_model_male_personality.predict(X_train_male_personalities)#Making / Evaluating predictions\n",
        "y_test_pred_nn_personality = nn_model_male_personality.predict(X_test_male_personalities)\n",
        "train_accuracy_nn_personality = accuracy_score(y_train, y_train_pred_nn_personality)\n",
        "test_accuracy_nn_personality = accuracy_score(y_test, y_test_pred_nn_personality)\n",
        "print(\"Personality Category:\") #Printing results\n",
        "print(\"Neural Network Model male:\")\n",
        "print(f\"Overall Training Accuracy: {train_accuracy_nn_personality}\")\n",
        "print(f\"Overall Testing Accuracy: {test_accuracy_nn_personality}\")"
      ],
      "metadata": {
        "colab": {
          "base_uri": "https://localhost:8080/"
        },
        "id": "QXP5nocPCn8a",
        "outputId": "336a39b6-d76f-445e-d7ba-14cd9d86906a"
      },
      "execution_count": 175,
      "outputs": [
        {
          "output_type": "stream",
          "name": "stdout",
          "text": [
            "Personality Category:\n",
            "Neural Network Model male:\n",
            "Overall Training Accuracy: 0.8590425531914894\n",
            "Overall Testing Accuracy: 0.8670212765957447\n"
          ]
        },
        {
          "output_type": "stream",
          "name": "stderr",
          "text": [
            "/usr/local/lib/python3.10/dist-packages/sklearn/neural_network/_multilayer_perceptron.py:686: ConvergenceWarning: Stochastic Optimizer: Maximum iterations (200) reached and the optimization hasn't converged yet.\n",
            "  warnings.warn(\n"
          ]
        }
      ]
    },
    {
      "cell_type": "markdown",
      "source": [
        "## Modeling for category 1 drugs"
      ],
      "metadata": {
        "id": "oDpzsdixEmpv"
      }
    },
    {
      "cell_type": "markdown",
      "source": [
        "### Female"
      ],
      "metadata": {
        "id": "At44qz-cG0Af"
      }
    },
    {
      "cell_type": "code",
      "source": [
        "drug_category = 'Cat1'#Defining category"
      ],
      "metadata": {
        "id": "0CzIOMC-C_3Q"
      },
      "execution_count": 176,
      "outputs": []
    },
    {
      "cell_type": "code",
      "source": [
        "X_female_demographics = female_new_df #Defining X features and y targets\n",
        "y = female_df[drug_category]"
      ],
      "metadata": {
        "id": "MwGG4FmEG183"
      },
      "execution_count": 177,
      "outputs": []
    },
    {
      "cell_type": "code",
      "source": [
        "X_train_female_demographics, X_test_female_demographics, y_train, y_test = train_test_split(X_female_demographics, y, test_size=0.2, random_state=42, stratify=X_female_demographics['Age'])\n",
        "#Train test split"
      ],
      "metadata": {
        "id": "AYyPzEk8HEiX"
      },
      "execution_count": 178,
      "outputs": []
    },
    {
      "cell_type": "code",
      "source": [
        "param_grid = {\n",
        "    'alpha': [0.0001, 0.001, 0.01],  # Creating range of alpha / learning rate values\n",
        "}\n",
        "\n",
        "nn_classifier = MLPClassifier() #Performing gridsearch\n",
        "grid_search = GridSearchCV(estimator=nn_classifier, param_grid=param_grid, cv=5)\n",
        "grid_search.fit(X_train_female_demographics, y_train)\n",
        "\n",
        "# Print the best parameters found\n",
        "print(\"Best parameters:\", grid_search.best_params_)"
      ],
      "metadata": {
        "colab": {
          "base_uri": "https://localhost:8080/"
        },
        "id": "E7cGYfYSHIE0",
        "outputId": "576bdb18-a22b-4ded-9332-96c5f4d12de5"
      },
      "execution_count": 179,
      "outputs": [
        {
          "output_type": "stream",
          "name": "stderr",
          "text": [
            "/usr/local/lib/python3.10/dist-packages/sklearn/neural_network/_multilayer_perceptron.py:686: ConvergenceWarning: Stochastic Optimizer: Maximum iterations (200) reached and the optimization hasn't converged yet.\n",
            "  warnings.warn(\n",
            "/usr/local/lib/python3.10/dist-packages/sklearn/neural_network/_multilayer_perceptron.py:686: ConvergenceWarning: Stochastic Optimizer: Maximum iterations (200) reached and the optimization hasn't converged yet.\n",
            "  warnings.warn(\n",
            "/usr/local/lib/python3.10/dist-packages/sklearn/neural_network/_multilayer_perceptron.py:686: ConvergenceWarning: Stochastic Optimizer: Maximum iterations (200) reached and the optimization hasn't converged yet.\n",
            "  warnings.warn(\n",
            "/usr/local/lib/python3.10/dist-packages/sklearn/neural_network/_multilayer_perceptron.py:686: ConvergenceWarning: Stochastic Optimizer: Maximum iterations (200) reached and the optimization hasn't converged yet.\n",
            "  warnings.warn(\n",
            "/usr/local/lib/python3.10/dist-packages/sklearn/neural_network/_multilayer_perceptron.py:686: ConvergenceWarning: Stochastic Optimizer: Maximum iterations (200) reached and the optimization hasn't converged yet.\n",
            "  warnings.warn(\n",
            "/usr/local/lib/python3.10/dist-packages/sklearn/neural_network/_multilayer_perceptron.py:686: ConvergenceWarning: Stochastic Optimizer: Maximum iterations (200) reached and the optimization hasn't converged yet.\n",
            "  warnings.warn(\n",
            "/usr/local/lib/python3.10/dist-packages/sklearn/neural_network/_multilayer_perceptron.py:686: ConvergenceWarning: Stochastic Optimizer: Maximum iterations (200) reached and the optimization hasn't converged yet.\n",
            "  warnings.warn(\n",
            "/usr/local/lib/python3.10/dist-packages/sklearn/neural_network/_multilayer_perceptron.py:686: ConvergenceWarning: Stochastic Optimizer: Maximum iterations (200) reached and the optimization hasn't converged yet.\n",
            "  warnings.warn(\n",
            "/usr/local/lib/python3.10/dist-packages/sklearn/neural_network/_multilayer_perceptron.py:686: ConvergenceWarning: Stochastic Optimizer: Maximum iterations (200) reached and the optimization hasn't converged yet.\n",
            "  warnings.warn(\n",
            "/usr/local/lib/python3.10/dist-packages/sklearn/neural_network/_multilayer_perceptron.py:686: ConvergenceWarning: Stochastic Optimizer: Maximum iterations (200) reached and the optimization hasn't converged yet.\n",
            "  warnings.warn(\n",
            "/usr/local/lib/python3.10/dist-packages/sklearn/neural_network/_multilayer_perceptron.py:686: ConvergenceWarning: Stochastic Optimizer: Maximum iterations (200) reached and the optimization hasn't converged yet.\n",
            "  warnings.warn(\n",
            "/usr/local/lib/python3.10/dist-packages/sklearn/neural_network/_multilayer_perceptron.py:686: ConvergenceWarning: Stochastic Optimizer: Maximum iterations (200) reached and the optimization hasn't converged yet.\n",
            "  warnings.warn(\n",
            "/usr/local/lib/python3.10/dist-packages/sklearn/neural_network/_multilayer_perceptron.py:686: ConvergenceWarning: Stochastic Optimizer: Maximum iterations (200) reached and the optimization hasn't converged yet.\n",
            "  warnings.warn(\n",
            "/usr/local/lib/python3.10/dist-packages/sklearn/neural_network/_multilayer_perceptron.py:686: ConvergenceWarning: Stochastic Optimizer: Maximum iterations (200) reached and the optimization hasn't converged yet.\n",
            "  warnings.warn(\n",
            "/usr/local/lib/python3.10/dist-packages/sklearn/neural_network/_multilayer_perceptron.py:686: ConvergenceWarning: Stochastic Optimizer: Maximum iterations (200) reached and the optimization hasn't converged yet.\n",
            "  warnings.warn(\n"
          ]
        },
        {
          "output_type": "stream",
          "name": "stdout",
          "text": [
            "Best parameters: {'alpha': 0.01}\n"
          ]
        },
        {
          "output_type": "stream",
          "name": "stderr",
          "text": [
            "/usr/local/lib/python3.10/dist-packages/sklearn/neural_network/_multilayer_perceptron.py:686: ConvergenceWarning: Stochastic Optimizer: Maximum iterations (200) reached and the optimization hasn't converged yet.\n",
            "  warnings.warn(\n"
          ]
        }
      ]
    },
    {
      "cell_type": "code",
      "source": [
        "#Neaural Network\n",
        "learning_rate = 0.001\n",
        "nn_model_demographics = MLPClassifier(alpha = learning_rate) #Defining and fitting model\n",
        "nn_model_demographics.fit(X_train_female_demographics, y_train)\n",
        "y_train_pred_nn_demographics = nn_model_demographics.predict(X_train_female_demographics)#Making / Evaluating predictions\n",
        "y_test_pred_nn_demographics = nn_model_demographics.predict(X_test_female_demographics)\n",
        "train_accuracy_nn_demographics = accuracy_score(y_train, y_train_pred_nn_demographics)\n",
        "test_accuracy_nn_demographics = accuracy_score(y_test, y_test_pred_nn_demographics)\n",
        "print(\"Demographics Category:\") #Printing results\n",
        "print(\"Neural Network Model female:\")\n",
        "print(f\"Overall Training Accuracy: {train_accuracy_nn_personality}\")\n",
        "print(f\"Overall Testing Accuracy: {test_accuracy_nn_personality}\")"
      ],
      "metadata": {
        "colab": {
          "base_uri": "https://localhost:8080/"
        },
        "id": "0EK3ITErKQms",
        "outputId": "fcc7f794-04e0-4543-db2b-45d977b81f80"
      },
      "execution_count": 180,
      "outputs": [
        {
          "output_type": "stream",
          "name": "stdout",
          "text": [
            "Demographics Category:\n",
            "Neural Network Model female:\n",
            "Overall Training Accuracy: 0.8590425531914894\n",
            "Overall Testing Accuracy: 0.8670212765957447\n"
          ]
        }
      ]
    },
    {
      "cell_type": "markdown",
      "source": [
        "### Male"
      ],
      "metadata": {
        "id": "eeL6TY8gLPN9"
      }
    },
    {
      "cell_type": "code",
      "source": [
        "X_male_demographics = male_new_df #Defining X features and y targets\n",
        "y = male_df[drug_category]"
      ],
      "metadata": {
        "id": "9cfSLviPK1lS"
      },
      "execution_count": 181,
      "outputs": []
    },
    {
      "cell_type": "code",
      "source": [
        "X_train_male_demographics, X_test_male_demographics, y_train, y_test = train_test_split(X_male_demographics, y, test_size=0.2, random_state=42, stratify=X_male_demographics['Age'])\n",
        "#Train test split"
      ],
      "metadata": {
        "id": "Go8229HKLawz"
      },
      "execution_count": 182,
      "outputs": []
    },
    {
      "cell_type": "code",
      "source": [
        "param_grid = {\n",
        "    'alpha': [0.0001, 0.001, 0.01],  # Creating range of alpha / learning rate values\n",
        "}\n",
        "\n",
        "nn_classifier = MLPClassifier() #Performing gridsearch\n",
        "grid_search = GridSearchCV(estimator=nn_classifier, param_grid=param_grid, cv=5)\n",
        "grid_search.fit(X_train_male_demographics, y_train)\n",
        "\n",
        "# Print the best parameters found\n",
        "print(\"Best parameters:\", grid_search.best_params_)"
      ],
      "metadata": {
        "colab": {
          "base_uri": "https://localhost:8080/"
        },
        "id": "8nLy2AQFLg9e",
        "outputId": "7d4778eb-81f4-4c20-c545-805c88fcacc8"
      },
      "execution_count": 183,
      "outputs": [
        {
          "output_type": "stream",
          "name": "stdout",
          "text": [
            "Best parameters: {'alpha': 0.01}\n"
          ]
        },
        {
          "output_type": "stream",
          "name": "stderr",
          "text": [
            "/usr/local/lib/python3.10/dist-packages/sklearn/neural_network/_multilayer_perceptron.py:686: ConvergenceWarning: Stochastic Optimizer: Maximum iterations (200) reached and the optimization hasn't converged yet.\n",
            "  warnings.warn(\n"
          ]
        }
      ]
    },
    {
      "cell_type": "code",
      "source": [
        "#Neaural Network\n",
        "learning_rate = 0.01\n",
        "nn_model_demographics = MLPClassifier(alpha = learning_rate) #Defining and fitting model\n",
        "nn_model_demographics.fit(X_train_male_demographics, y_train)\n",
        "y_train_pred_nn_demographics = nn_model_demographics.predict(X_train_male_demographics)#Making / Evaluating predictions\n",
        "y_test_pred_nn_demographics = nn_model_demographics.predict(X_test_male_demographics)\n",
        "train_accuracy_nn_demographics = accuracy_score(y_train, y_train_pred_nn_demographics)\n",
        "test_accuracy_nn_demographics = accuracy_score(y_test, y_test_pred_nn_demographics)\n",
        "print(\"Demographics Category:\")#Printing results\n",
        "print(\"Neural Network Model male:\")\n",
        "print(f\"Overall Training Accuracy: {train_accuracy_nn_personality}\")\n",
        "print(f\"Overall Testing Accuracy: {test_accuracy_nn_personality}\")"
      ],
      "metadata": {
        "colab": {
          "base_uri": "https://localhost:8080/"
        },
        "id": "nzYhO_4XL028",
        "outputId": "c849909b-9b7e-4574-ffcd-4139070f6927"
      },
      "execution_count": 184,
      "outputs": [
        {
          "output_type": "stream",
          "name": "stdout",
          "text": [
            "Demographics Category:\n",
            "Neural Network Model male:\n",
            "Overall Training Accuracy: 0.8590425531914894\n",
            "Overall Testing Accuracy: 0.8670212765957447\n"
          ]
        },
        {
          "output_type": "stream",
          "name": "stderr",
          "text": [
            "/usr/local/lib/python3.10/dist-packages/sklearn/neural_network/_multilayer_perceptron.py:686: ConvergenceWarning: Stochastic Optimizer: Maximum iterations (200) reached and the optimization hasn't converged yet.\n",
            "  warnings.warn(\n"
          ]
        }
      ]
    },
    {
      "cell_type": "markdown",
      "source": [
        "# Discussion of Part D\n",
        "For part D, I opted to separate the dataset by sex and evaluate whether the best performing models from parts A, B, and C differed when predicting drug usage for males versus females. For category 1 drugs, the neural network model classified female and male drug usage identically. Both models reported values of 0.8564 and 0.8670 on the training and testing sets of data. This implies that separating the data based on sex does not result in significantly different classification predictions for category 1 drugs. For category 2 drugs, the neural network models reported slightly different accuracy scores. The model classifying females reported an accuracy score of 0.7489 and 0.6489 on the training and testing sets of data. The model classifying males reported accuracy scores of 0.8564 and 0.8670, respectively. The higher accuracy scores for this model show that the model was more accurate at predicting drug category 2 usage for males than females. For category 3 drugs, the decision tree model reported accuracy scores of 0.9947 and 0.9787 on the predictions for females and whether they have used category 3 drugs. Conversely, the model reported accuracy scores of 0.9934 and 0.9840 on the predictions of whether males have used category 3 drugs. These accuracy scores are extremely similar, but the model that predicts female usage of category 3 drugs overfits slightly more than the model predicting male usage of the same drugs. Finally, the decision tree models predicting category 4 drug usage report very similar accuracy scores. The model predicting female usage of category 4 drugs reports accuracy scores of 1.0 and 0.9947, wheras the model predicting male usage reports scores of 1.0 and 1.0 on the training and testing sets respectively. Both models appear to perform very well to unseen data with the model predicting female usage overfitting slightly more than the model predicting male usage. In general, only predictions of drug usage appearing to be different based on sex are category 2 drugs. The category 1, 3, and 4 drugs report very similar accuracy scores and are not affected by sex."
      ],
      "metadata": {
        "id": "q9KxO1RY2Xe9"
      }
    },
    {
      "cell_type": "code",
      "source": [],
      "metadata": {
        "id": "wdGJW6h-CqgS"
      },
      "execution_count": null,
      "outputs": []
    }
  ],
  "metadata": {
    "colab": {
      "collapsed_sections": [
        "0XFcc4LINYst",
        "7u71BbuANcJI",
        "WMDxSzf2NzE6"
      ],
      "toc_visible": true,
      "provenance": [],
      "include_colab_link": true
    },
    "kernelspec": {
      "display_name": "Python 3",
      "name": "python3"
    },
    "language_info": {
      "name": "python"
    }
  },
  "nbformat": 4,
  "nbformat_minor": 0
}